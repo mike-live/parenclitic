{
 "cells": [
  {
   "cell_type": "code",
   "execution_count": 1,
   "metadata": {},
   "outputs": [],
   "source": [
    "%load_ext autoreload\n",
    "%autoreload 2\n",
    "\n",
    "import parenclitic\n",
    "import numpy as np\n",
    "import matplotlib.pyplot as plt\n",
    "%matplotlib inline\n",
    "\n",
    "from IPython.core.display import display, SVG\n",
    "import igraph"
   ]
  },
  {
   "cell_type": "code",
   "execution_count": 2,
   "metadata": {},
   "outputs": [
    {
     "name": "stdout",
     "output_type": "stream",
     "text": [
      "D:\\PC\\UNN\\Science\\Gerontology\\data\\GSE52588\\GSE52588_average_beta.txt\n",
      "Data loaded:  1.1755040999999995\n",
      "float32 (14756, 87)\n",
      "(87, 14756) 14756\n"
     ]
    }
   ],
   "source": [
    "from configurations.load_data_down_GSE52588 import load_data_down_GSE52588\n",
    "from configurations.config_down_GSE52588 import config\n",
    "\n",
    "X, y, mask, all_features_names = load_data_down_GSE52588()"
   ]
  },
  {
   "cell_type": "code",
   "execution_count": 2,
   "metadata": {},
   "outputs": [
    {
     "name": "stdout",
     "output_type": "stream",
     "text": [
      "Data loaded:  0.13666800000000023\n",
      "float32 (14756, 58)\n",
      "(58, 14756) 14756\n"
     ]
    }
   ],
   "source": [
    "from configurations.load_data_random import load_data_random\n",
    "from configurations.config_random_data import config\n",
    "\n",
    "X, y, mask, all_features_names = load_data_random()"
   ]
  },
  {
   "cell_type": "code",
   "execution_count": 4,
   "metadata": {},
   "outputs": [
    {
     "data": {
      "text/plain": [
       "<parenclitic.classes.IG_filter at 0x24c653dff28>"
      ]
     },
     "execution_count": 4,
     "metadata": {},
     "output_type": "execute_result"
    }
   ],
   "source": [
    "parenclitic.IG_filter()"
   ]
  },
  {
   "cell_type": "code",
   "execution_count": 2,
   "metadata": {},
   "outputs": [
    {
     "name": "stdout",
     "output_type": "stream",
     "text": [
      "\\\\Mystery\\d\\PC\\UNN\\Science\\Gerontology\\data\\GSE52588\\GSE52588_average_beta.txt\n",
      "Data loaded:  1.145714\n",
      "float32 (14756, 87)\n",
      "(87, 14756) 14756\n",
      "Data loaded:  1.564335999999999\n",
      "float32 (14756, 87)\n",
      "(87, 14756) 14756\n"
     ]
    }
   ],
   "source": [
    "from configurations.load_data_random_like_GSE52588 import load_data_random_like_GSE52588\n",
    "from configurations.config_random_data_like_GSE52588 import config\n",
    "\n",
    "X, y, mask, all_features_names = load_data_random_like_GSE52588()"
   ]
  },
  {
   "cell_type": "code",
   "execution_count": 8,
   "metadata": {},
   "outputs": [
    {
     "name": "stdout",
     "output_type": "stream",
     "text": [
      "Data loaded:  37.55864120000115\n",
      "float32 (422801, 87)\n",
      "(87, 422801)\n",
      "(87, 422801) 150254 (87,) (422801,)\n"
     ]
    }
   ],
   "source": [
    "from configurations.load_data_down_GSE52588 import load_data_down_GSE52588_cpgs\n",
    "from configurations.config_down_GSE52588_cpg import config\n",
    "\n",
    "X, y, mask, all_features_names = load_data_down_GSE52588_cpgs()"
   ]
  },
  {
   "cell_type": "code",
   "execution_count": 10,
   "metadata": {},
   "outputs": [
    {
     "data": {
      "text/plain": [
       "\"D:\\\\PC\\\\UNN\\\\Science\\\\Gerontology\\\\data\\\\GSE52588\\\\params\\\\num_cpgs_150254\\\\geotypes_['Island']\\\\kde_mask_siblings_mask\\\\algorithm_pdf\\\\thr_type_best\\\\division_rule_non_control\\\\graphs\\\\graph_id_sample_0.tsv\""
      ]
     },
     "execution_count": 10,
     "metadata": {},
     "output_type": "execute_result"
    }
   ],
   "source": [
    "from configurations.config_down_GSE52588_cpg import config\n",
    "config.ofname([\"graphs\", \"g\"], ext = \".tsv\", include_set = config.params_sets[\"graph\"])"
   ]
  },
  {
   "cell_type": "code",
   "execution_count": 3,
   "metadata": {},
   "outputs": [
    {
     "data": {
      "text/plain": [
       "(array([0, 0, 0, 0, 0, 0, 0, 0, 0, 0, 0, 0, 0, 0, 0, 0, 0, 0, 0, 0, 0, 0,\n",
       "        0, 0, 0, 0, 0, 0, 0, 1, 1, 1, 1, 1, 1, 1, 1, 1, 1, 1, 1, 1, 1, 1,\n",
       "        1, 1, 1, 1, 1, 1, 1, 1, 1, 1, 1, 1, 1, 1, 2, 2, 2, 2, 2, 2, 2, 2,\n",
       "        2, 2, 2, 2, 2, 2, 2, 2, 2, 2, 2, 2, 2, 2, 2, 2, 2, 2, 2, 2, 2],\n",
       "       dtype=int8),\n",
       " array([-1, -1, -1, -1, -1, -1, -1, -1, -1, -1, -1, -1, -1, -1, -1, -1, -1,\n",
       "        -1, -1, -1, -1, -1, -1, -1, -1, -1, -1, -1, -1,  1,  1,  1,  1,  1,\n",
       "         1,  1,  1,  1,  1,  1,  1,  1,  1,  1,  1,  1,  1,  1,  1,  1,  1,\n",
       "         1,  1,  1,  1,  1,  1,  1,  2,  2,  2,  2,  2,  2,  2,  2,  2,  2,\n",
       "         2,  2,  2,  2,  2,  2,  2,  2,  2,  2,  2,  2,  2,  2,  2,  2,  2,\n",
       "         2,  2], dtype=int8))"
      ]
     },
     "execution_count": 3,
     "metadata": {},
     "output_type": "execute_result"
    }
   ],
   "source": [
    "y, mask"
   ]
  },
  {
   "cell_type": "code",
   "execution_count": 4,
   "metadata": {},
   "outputs": [
    {
     "ename": "KeyError",
     "evalue": "'cpgs_annotations'",
     "output_type": "error",
     "traceback": [
      "\u001b[1;31m---------------------------------------------------------------------------\u001b[0m",
      "\u001b[1;31mKeyError\u001b[0m                                  Traceback (most recent call last)",
      "\u001b[1;32m<ipython-input-4-045846c77a07>\u001b[0m in \u001b[0;36m<module>\u001b[1;34m\u001b[0m\n\u001b[0;32m      1\u001b[0m \u001b[1;32mfrom\u001b[0m \u001b[0mannotations\u001b[0m\u001b[1;33m.\u001b[0m\u001b[0mcpgs\u001b[0m \u001b[1;32mimport\u001b[0m \u001b[0mcpgs_annotation\u001b[0m\u001b[1;33m\u001b[0m\u001b[1;33m\u001b[0m\u001b[0m\n\u001b[1;32m----> 2\u001b[1;33m \u001b[0mcpgs\u001b[0m \u001b[1;33m=\u001b[0m \u001b[0mcpgs_annotation\u001b[0m\u001b[1;33m(\u001b[0m\u001b[0mconfig\u001b[0m\u001b[1;33m.\u001b[0m\u001b[0mifname\u001b[0m\u001b[1;33m(\u001b[0m\u001b[1;34m'cpgs_annotations'\u001b[0m\u001b[1;33m)\u001b[0m\u001b[1;33m)\u001b[0m\u001b[1;33m\u001b[0m\u001b[1;33m\u001b[0m\u001b[0m\n\u001b[0m\u001b[0;32m      3\u001b[0m \u001b[1;31m#cur = cpgs.get_sub_frame({'chr_in': ['22'], 'geotype_ex': ['Island']})\u001b[0m\u001b[1;33m\u001b[0m\u001b[1;33m\u001b[0m\u001b[1;33m\u001b[0m\u001b[0m\n\u001b[0;32m      4\u001b[0m \u001b[1;31m#df = cpgs.get_cpgs({'chr_in': ['22'], 'geotype_ex': ['Island']})\u001b[0m\u001b[1;33m\u001b[0m\u001b[1;33m\u001b[0m\u001b[1;33m\u001b[0m\u001b[0m\n\u001b[0;32m      5\u001b[0m \u001b[0mcpgs_names\u001b[0m\u001b[1;33m,\u001b[0m \u001b[0m_\u001b[0m \u001b[1;33m=\u001b[0m \u001b[0mcpgs\u001b[0m\u001b[1;33m.\u001b[0m\u001b[0mget_cpgs\u001b[0m\u001b[1;33m(\u001b[0m\u001b[1;33m{\u001b[0m\u001b[1;34m'gene_out'\u001b[0m\u001b[1;33m:\u001b[0m \u001b[1;33m[\u001b[0m\u001b[1;34m'PFN3'\u001b[0m\u001b[1;33m,\u001b[0m \u001b[1;34m'LOXL2'\u001b[0m\u001b[1;33m,\u001b[0m \u001b[1;34m'HOXA2'\u001b[0m\u001b[1;33m,\u001b[0m \u001b[1;34m'MIR219-2'\u001b[0m\u001b[1;33m,\u001b[0m \u001b[1;34m'DLL1'\u001b[0m\u001b[1;33m]\u001b[0m\u001b[1;33m}\u001b[0m\u001b[1;33m)\u001b[0m\u001b[1;33m\u001b[0m\u001b[1;33m\u001b[0m\u001b[0m\n",
      "\u001b[1;32mZ:\\PC\\UNN\\Science\\Gerontology\\programs\\parenclitic\\src\\infrastructure\\configuration.py\u001b[0m in \u001b[0;36mifname\u001b[1;34m(self, name)\u001b[0m\n\u001b[0;32m    147\u001b[0m \u001b[1;33m\u001b[0m\u001b[0m\n\u001b[0;32m    148\u001b[0m     \u001b[1;32mdef\u001b[0m \u001b[0mifname\u001b[0m\u001b[1;33m(\u001b[0m\u001b[0mself\u001b[0m\u001b[1;33m,\u001b[0m \u001b[0mname\u001b[0m\u001b[1;33m)\u001b[0m\u001b[1;33m:\u001b[0m\u001b[1;33m\u001b[0m\u001b[1;33m\u001b[0m\u001b[0m\n\u001b[1;32m--> 149\u001b[1;33m         \u001b[0mcur_path\u001b[0m \u001b[1;33m=\u001b[0m \u001b[0mself\u001b[0m\u001b[1;33m.\u001b[0m\u001b[0mdata_path\u001b[0m \u001b[1;33m/\u001b[0m \u001b[0mself\u001b[0m\u001b[1;33m.\u001b[0m\u001b[0mfiles\u001b[0m\u001b[1;33m[\u001b[0m\u001b[0mname\u001b[0m\u001b[1;33m]\u001b[0m\u001b[1;33m\u001b[0m\u001b[1;33m\u001b[0m\u001b[0m\n\u001b[0m\u001b[0;32m    150\u001b[0m         \u001b[1;32mreturn\u001b[0m \u001b[0mstr\u001b[0m\u001b[1;33m(\u001b[0m\u001b[0mcur_path\u001b[0m\u001b[1;33m.\u001b[0m\u001b[0mresolve\u001b[0m\u001b[1;33m(\u001b[0m\u001b[1;33m)\u001b[0m\u001b[1;33m)\u001b[0m\u001b[1;33m\u001b[0m\u001b[1;33m\u001b[0m\u001b[0m\n\u001b[0;32m    151\u001b[0m \u001b[1;33m\u001b[0m\u001b[0m\n",
      "\u001b[1;31mKeyError\u001b[0m: 'cpgs_annotations'"
     ]
    }
   ],
   "source": [
    "from annotations.cpgs import cpgs_annotation\n",
    "cpgs = cpgs_annotation(config.ifname('cpgs_annotations'))\n",
    "#cur = cpgs.get_sub_frame({'chr_in': ['22'], 'geotype_ex': ['Island']})\n",
    "#df = cpgs.get_cpgs({'chr_in': ['22'], 'geotype_ex': ['Island']})\n",
    "cpgs_names, _ = cpgs.get_cpgs({'gene_out': ['PFN3', 'LOXL2', 'HOXA2', 'MIR219-2', 'DLL1']})\n",
    "cpgs_ids = np.array([y for x in cpgs_names for y in np.flatnonzero(all_features_names == x).tolist()])"
   ]
  },
  {
   "cell_type": "code",
   "execution_count": 5,
   "metadata": {},
   "outputs": [
    {
     "ename": "NameError",
     "evalue": "name 'cpgs_ids' is not defined",
     "output_type": "error",
     "traceback": [
      "\u001b[1;31m---------------------------------------------------------------------------\u001b[0m",
      "\u001b[1;31mNameError\u001b[0m                                 Traceback (most recent call last)",
      "\u001b[1;32m<ipython-input-5-12832c5535fe>\u001b[0m in \u001b[0;36m<module>\u001b[1;34m\u001b[0m\n\u001b[1;32m----> 1\u001b[1;33m \u001b[0mXq\u001b[0m \u001b[1;33m=\u001b[0m \u001b[0mX\u001b[0m\u001b[1;33m[\u001b[0m\u001b[1;33m:\u001b[0m\u001b[1;33m,\u001b[0m \u001b[0mcpgs_ids\u001b[0m\u001b[1;33m]\u001b[0m\u001b[1;33m\u001b[0m\u001b[1;33m\u001b[0m\u001b[0m\n\u001b[0m\u001b[0;32m      2\u001b[0m \u001b[0msub_subjects\u001b[0m \u001b[1;33m=\u001b[0m \u001b[0mconfig\u001b[0m\u001b[1;33m.\u001b[0m\u001b[0mparams\u001b[0m\u001b[1;33m[\u001b[0m\u001b[1;34m\"mongoloids_mask\"\u001b[0m\u001b[1;33m]\u001b[0m\u001b[1;33m.\u001b[0m\u001b[0mvalue\u001b[0m\u001b[1;33m\u001b[0m\u001b[1;33m\u001b[0m\u001b[0m\n\u001b[0;32m      3\u001b[0m \u001b[0mXc\u001b[0m \u001b[1;33m=\u001b[0m \u001b[0mXc\u001b[0m\u001b[1;33m[\u001b[0m\u001b[0msub_subjects\u001b[0m\u001b[1;33m,\u001b[0m \u001b[1;33m:\u001b[0m\u001b[1;33m]\u001b[0m\u001b[1;33m\u001b[0m\u001b[1;33m\u001b[0m\u001b[0m\n\u001b[0;32m      4\u001b[0m \u001b[0mYc\u001b[0m \u001b[1;33m=\u001b[0m \u001b[0my\u001b[0m\u001b[1;33m[\u001b[0m\u001b[0msub_subjects\u001b[0m\u001b[1;33m]\u001b[0m\u001b[1;33m\u001b[0m\u001b[1;33m\u001b[0m\u001b[0m\n\u001b[0;32m      5\u001b[0m \u001b[0mfeatures_names\u001b[0m \u001b[1;33m=\u001b[0m \u001b[0mall_features_names\u001b[0m\u001b[1;33m[\u001b[0m\u001b[0mcpgs_ids\u001b[0m\u001b[1;33m]\u001b[0m\u001b[1;33m\u001b[0m\u001b[1;33m\u001b[0m\u001b[0m\n",
      "\u001b[1;31mNameError\u001b[0m: name 'cpgs_ids' is not defined"
     ]
    }
   ],
   "source": [
    "Xq = X[:, cpgs_ids]\n",
    "sub_subjects = config.params[\"mongoloids_mask\"].value\n",
    "Xc = Xc[sub_subjects, :]\n",
    "Yc = y[sub_subjects]\n",
    "features_names = all_features_names[cpgs_ids]"
   ]
  },
  {
   "cell_type": "code",
   "execution_count": null,
   "metadata": {},
   "outputs": [],
   "source": [
    "num_samples = Xc.shape[0]\n",
    "num_features = Xc.shape[1]\n",
    "\n",
    "mask = np.array(Yc, np.bool)\n",
    "mask[:] = 1\n",
    "\n",
    "clf = parenclitic.parenclitic(kernel = parenclitic.pdf_kernel(thr_p = 0.9))\n",
    "clf.fit(Xc, Yc, mask)\n",
    "clf.calc_parenclitic()\n",
    "gr = clf.get_graphs(features_names = features_names)"
   ]
  },
  {
   "cell_type": "code",
   "execution_count": 150,
   "metadata": {},
   "outputs": [
    {
     "data": {
      "text/plain": [
       "<matplotlib.collections.PathCollection at 0x1860807cfd0>"
      ]
     },
     "execution_count": 150,
     "metadata": {},
     "output_type": "execute_result"
    },
    {
     "data": {
      "image/png": "[encoded data removed]",
      "text/plain": [
       "<Figure size 432x288 with 1 Axes>"
      ]
     },
     "metadata": {
      "needs_background": "light"
     },
     "output_type": "display_data"
    }
   ],
   "source": [
    "plt.scatter(X[:, 297], X[:, 1712], c = mask)"
   ]
  },
  {
   "cell_type": "code",
   "execution_count": 35,
   "metadata": {},
   "outputs": [
    {
     "name": "stdout",
     "output_type": "stream",
     "text": [
      "[297]\n",
      "[1712]\n"
     ]
    }
   ],
   "source": [
    "print(np.flatnonzero(all_features_names == 'MAP3K6'))\n",
    "print(np.flatnonzero(all_features_names == 'GPR75'))\n",
    "#GPR75"
   ]
  },
  {
   "cell_type": "code",
   "execution_count": 8,
   "metadata": {},
   "outputs": [],
   "source": [
    "kernel = parenclitic.pdf_kernel(thr_p = 0.88)\n",
    "kernel = kernel.fit(X[:, 297], X[:, 1712], y, mask)"
   ]
  },
  {
   "cell_type": "code",
   "execution_count": 6,
   "metadata": {},
   "outputs": [],
   "source": [
    "kernel = parenclitic.pdf_kernel(thr_p = 0.88)\n",
    "kernel = kernel.fit(X[:, 297], X[:, 1712], y, mask)\n",
    "p = kernel.p\n",
    "p_log = kernel.p\n",
    "p_log = np.maximum(p_log, (p_log[p_log > 0]).min())\n",
    "p_log = np.log(p_log).astype('float32')\n",
    "p_log[mask == 0] -= 150\n",
    "mask2 = np.zeros((87,), dtype = 'bool')\n",
    "mask2[:29] = True\n",
    "mask2[-29:] = True"
   ]
  },
  {
   "cell_type": "code",
   "execution_count": 376,
   "metadata": {},
   "outputs": [
    {
     "name": "stdout",
     "output_type": "stream",
     "text": [
      "-205.84896087646484 1.584962500721156\n"
     ]
    }
   ],
   "source": [
    "#import time\n",
    "from sklearn.tree import DecisionTreeClassifier\n",
    "#be = time.time()\n",
    "def do_thing(p_log, mask, y):\n",
    "    \n",
    "    p_log = p_log[mask]#.reshape(1, -1)\n",
    "    y = (y[mask] == 0)\n",
    "    \n",
    "    '''ids = np.argsort(p_log)\n",
    "    p_log = p_log[ids]\n",
    "    y = y[ids]'''\n",
    "    \n",
    "    clf = DecisionTreeClassifier(max_depth = 2, criterion = 'entropy').fit(p_log.reshape(-1, 1).astype('float32'), y.reshape(-1, 1))\n",
    "    tree_thr = clf.tree_.threshold[0]\n",
    "    impurity = clf.tree_.impurity[0]\n",
    "    print(clf.tree_.impurity)\n",
    "    return tree_thr, impurity\n",
    "import timeit\n",
    "#print(timeit.timeit('do_thing(p_log, mask, y)', setup=\"from __main__ import do_thing, p_log, mask, y\", number=100000))\n",
    "print(tree_thr, impurity)"
   ]
  },
  {
   "cell_type": "code",
   "execution_count": 389,
   "metadata": {},
   "outputs": [
    {
     "data": {
      "text/plain": [
       "(-205.84896850585938, 0.30057170922373017, 0.896551724137931)"
      ]
     },
     "execution_count": 389,
     "metadata": {},
     "output_type": "execute_result"
    }
   ],
   "source": [
    "from scipy.special import xlogy\n",
    "def gini(a, b, n):\n",
    "    p0 = a / n\n",
    "    p1 = b / n\n",
    "    return -xlogy(p0, p0) - xlogy(p1, p1)\n",
    "    #return -p0 * np.log(p0 + 1e-9) - p1 * np.log(p1 + 1e-9)\n",
    "\n",
    "def do_thing_fast(p_log, mask, y):\n",
    "    p_log = p_log[mask]\n",
    "    y = (y[mask] == 0)\n",
    "    \n",
    "    ids = np.argsort(p_log)\n",
    "    p_log = p_log[ids]\n",
    "    y = y[ids]\n",
    "    n = len(y)\n",
    "    \n",
    "    n11 = np.cumsum(y == 0)\n",
    "    n21 = np.cumsum(y == 1)\n",
    "    n1 = n11[-1]\n",
    "    n2 = n21[-1]\n",
    "    n11 = n11[:-1]\n",
    "    n21 = n21[:-1]\n",
    "    n12 = n1 - n11\n",
    "    n22 = n2 - n21\n",
    "    \n",
    "    impurity = gini(n1, n2, n) - (gini(n11, n21, n11 + n21) * (n11 + n21) / n + \n",
    "                                  gini(n12, n22, n12 + n22) * (n12 + n22) / n)\n",
    "    \n",
    "    id_imp = np.argmax(impurity)\n",
    "    thr = (p_log[id_imp] + p_log[id_imp + 1]) / 2\n",
    "    imp = impurity[id_imp] / (2 * np.log(2))\n",
    "    acc = ((p_log < thr) == y).mean()\n",
    "    acc = max(1 - acc, acc)\n",
    "    return thr, imp, acc\n",
    "\n",
    "def do_thing_fast_2(p_log, mask, y):\n",
    "    p_log = p_log[mask]#.reshape(1, -1)\n",
    "    y = (y[mask] == 0)#.reshape(1, -1)\n",
    "    \n",
    "    ids = np.argsort(p_log)\n",
    "    p_log = p_log[ids]\n",
    "    y = y[ids]\n",
    "    n = np.array(len(y), dtype = 'float32')\n",
    "    \n",
    "    n11 = np.cumsum(y == 0).astype('float32')\n",
    "    n21 = np.cumsum(y == 1).astype('float32')\n",
    "    n1 = n11[-1]\n",
    "    n2 = n21[-1]\n",
    "    n11 = n11[:-1]\n",
    "    n21 = n21[:-1]\n",
    "    n12 = n1 - n11\n",
    "    n22 = n2 - n21\n",
    "    \n",
    "    #impurity = gini(n1, n2, n) - (gini(n11, n21, n11 + n21) * (n11 + n21) / n + gini(n12, n22, n12 + n22) * (n12 + n22) / n)\n",
    "    \n",
    "    #impurity = -xlogy(n1 / n, n1 / n) - xlogy(n2 / n, n2 / n) - ((-xlogy(n11, n11 / (n11 + n21)) - xlogy(n21, n21 / (n11 + n21))) + (-xlogy(n12, n12 / (n12 + n22)) - xlogy(n22, n22 / (n12 + n22)))) / n\n",
    "    #impurity = -xlogy(n1 / n, n1 / n) - xlogy(n2 / n, n2 / n) + \\\n",
    "    #           (xlogy(n11, n11 / (n11 + n21)) + xlogy(n21, n21 / (n11 + n21)) + \\\n",
    "    #            xlogy(n12, n12 / (n12 + n22)) + xlogy(n22, n22 / (n12 + n22))) / n\n",
    "    m1 = (n11 + n21)\n",
    "    m2 = (n12 + n22)\n",
    "    impurity = -xlogy(n1 / n, n1 / n) - xlogy(n2 / n, n2 / n) + \\\n",
    "               (xlogy(n11, n11 / m1) + xlogy(n21, n21 / m1) + \\\n",
    "                xlogy(n12, n12 / m2) + xlogy(n22, n22 / m2)) / n\n",
    "    #plt.plot(range(len(impurity)), impurity)\n",
    "    \n",
    "    id_imp = np.argmax(impurity)\n",
    "    return (p_log[id_imp] + p_log[id_imp + 1]) / 2, impurity[id_imp]# / (2 * np.log(2))\n",
    "\n",
    "do_thing_fast(p_log, mask2, y)"
   ]
  },
  {
   "cell_type": "code",
   "execution_count": 396,
   "metadata": {},
   "outputs": [
    {
     "data": {
      "text/plain": [
       "array([ True,  True,  True,  True,  True,  True,  True,  True,  True,\n",
       "        True,  True,  True,  True,  True,  True,  True,  True,  True,\n",
       "        True,  True,  True,  True,  True,  True,  True,  True,  True,\n",
       "        True,  True, False, False, False, False, False, False, False,\n",
       "       False, False, False, False, False, False, False, False, False,\n",
       "       False, False, False, False, False, False, False, False, False,\n",
       "       False, False, False, False, False, False, False, False, False,\n",
       "       False, False, False, False, False, False, False, False, False,\n",
       "       False, False, False, False, False, False, False, False, False,\n",
       "       False, False, False, False, False, False])"
      ]
     },
     "execution_count": 396,
     "metadata": {},
     "output_type": "execute_result"
    }
   ],
   "source": [
    "(y == 0)"
   ]
  },
  {
   "cell_type": "code",
   "execution_count": 375,
   "metadata": {},
   "outputs": [
    {
     "name": "stdout",
     "output_type": "stream",
     "text": [
      "[1.5849625  1.         1.16484472] 1.584962500721156\n"
     ]
    },
    {
     "data": {
      "text/plain": [
       "['__class__',\n",
       " '__delattr__',\n",
       " '__dir__',\n",
       " '__doc__',\n",
       " '__eq__',\n",
       " '__format__',\n",
       " '__ge__',\n",
       " '__getattribute__',\n",
       " '__getstate__',\n",
       " '__gt__',\n",
       " '__hash__',\n",
       " '__init__',\n",
       " '__init_subclass__',\n",
       " '__le__',\n",
       " '__lt__',\n",
       " '__ne__',\n",
       " '__new__',\n",
       " '__pyx_vtable__',\n",
       " '__reduce__',\n",
       " '__reduce_ex__',\n",
       " '__repr__',\n",
       " '__setattr__',\n",
       " '__setstate__',\n",
       " '__sizeof__',\n",
       " '__str__',\n",
       " '__subclasshook__',\n",
       " 'apply',\n",
       " 'capacity',\n",
       " 'children_left',\n",
       " 'children_right',\n",
       " 'compute_feature_importances',\n",
       " 'decision_path',\n",
       " 'feature',\n",
       " 'impurity',\n",
       " 'max_depth',\n",
       " 'max_n_classes',\n",
       " 'n_classes',\n",
       " 'n_features',\n",
       " 'n_node_samples',\n",
       " 'n_outputs',\n",
       " 'node_count',\n",
       " 'predict',\n",
       " 'threshold',\n",
       " 'value',\n",
       " 'weighted_n_node_samples']"
      ]
     },
     "execution_count": 375,
     "metadata": {},
     "output_type": "execute_result"
    }
   ],
   "source": [
    "clf = DecisionTreeClassifier(max_depth = 1, criterion = 'entropy').fit(p_log.reshape(-1, 1).astype('float32'), y.reshape(-1, 1))\n",
    "tree_thr = clf.tree_.threshold[0]\n",
    "impurity = clf.tree_.impurity[0]\n",
    "print(clf.tree_.impurity, impurity)\n",
    "    \n",
    "dir(clf.tree_)\n"
   ]
  },
  {
   "cell_type": "code",
   "execution_count": 392,
   "metadata": {},
   "outputs": [
    {
     "name": "stdout",
     "output_type": "stream",
     "text": [
      "[1.         0.         0.66096234 0.91829583 0.28639696]\n"
     ]
    }
   ],
   "source": [
    "thr1, imp1 = do_thing(p_log, mask2, y)\n",
    "thr2, imp2, acc2 = do_thing_fast(p, mask2, y)\n",
    "thr2, imp2 = do_thing_fast_2(p, mask2, y)"
   ]
  },
  {
   "cell_type": "code",
   "execution_count": 393,
   "metadata": {},
   "outputs": [
    {
     "name": "stdout",
     "output_type": "stream",
     "text": [
      "1.0\n"
     ]
    }
   ],
   "source": [
    "print(acc2)"
   ]
  },
  {
   "cell_type": "code",
   "execution_count": 388,
   "metadata": {},
   "outputs": [
    {
     "name": "stdout",
     "output_type": "stream",
     "text": [
      "5.529479899996659\n"
     ]
    }
   ],
   "source": [
    "print(timeit.timeit('do_thing_fast(p_log, mask2, y)', setup=\"from __main__ import do_thing_fast, p_log, mask2, y\", number=100000))\n",
    "#print(timeit.timeit('do_thing_fast_2(p_log, mask2, y)', setup=\"from __main__ import do_thing_fast_2, p_log, mask2, y\", number=100000))\n",
    "#print(timeit.timeit('do_thing(p_log, mask2, y)', setup=\"from __main__ import do_thing, p_log, mask2, y\", number=100000))\n"
   ]
  },
  {
   "cell_type": "code",
   "execution_count": 358,
   "metadata": {},
   "outputs": [
    {
     "name": "stdout",
     "output_type": "stream",
     "text": [
      "1.0 0.41668087\n"
     ]
    }
   ],
   "source": [
    "print(imp1, imp2)"
   ]
  },
  {
   "cell_type": "code",
   "execution_count": 352,
   "metadata": {},
   "outputs": [
    {
     "data": {
      "text/plain": [
       "[<matplotlib.lines.Line2D at 0x1861f947eb8>]"
      ]
     },
     "execution_count": 352,
     "metadata": {},
     "output_type": "execute_result"
    },
    {
     "data": {
      "image/png": "[encoded data removed]",
      "text/plain": [
       "<Figure size 432x288 with 1 Axes>"
      ]
     },
     "metadata": {
      "needs_background": "light"
     },
     "output_type": "display_data"
    }
   ],
   "source": [
    "plt.scatter(range(len(p_log)), p_log, c = y == 0)\n",
    "plt.plot(plt.xlim(), [thr1, thr1], 'r')\n",
    "plt.plot(plt.xlim(), [thr2, thr2], 'b')\n",
    "#plt.ylim([-120, -50])"
   ]
  },
  {
   "cell_type": "code",
   "execution_count": 10,
   "metadata": {},
   "outputs": [
    {
     "name": "stdout",
     "output_type": "stream",
     "text": [
      "4 5 4 58 42 0 4 0 0 2 1 1 2 0 42 0 1 0 4 1 3 2 2 51 19 82 37 37 2 "
     ]
    },
    {
     "data": {
      "image/svg+xml": [
       "<svg height=\"600pt\" version=\"1.1\" viewBox=\"0 0 600 600\" width=\"600pt\" xmlns=\"http://www.w3.org/2000/svg\" xmlns:xlink=\"http://www.w3.org/1999/xlink\">\n",
       "<defs>\n",
       "<g>\n",
       "<symbol id=\"glyph0-0\" overflow=\"visible\">\n",
       "<path d=\"M 1.75 0 L 1.75 -8.75 L 8.75 -8.75 L 8.75 0 Z M 1.96875 -0.21875 L 8.53125 -0.21875 L 8.53125 -8.53125 L 1.96875 -8.53125 Z M 1.96875 -0.21875 \" style=\"stroke:none;\"/>\n",
       "</symbol>\n",
       "<symbol id=\"glyph0-1\" overflow=\"visible\">\n",
       "<path d=\"M 5.660156 -2.660156 L 6.871094 -2.5 C 6.734375 -1.664063 6.394531 -1.011719 5.855469 -0.542969 C 5.308594 -0.0703125 4.640625 0.164063 3.847656 0.164063 C 2.851563 0.164063 2.054688 -0.160156 1.453125 -0.808594 C 0.847656 -1.457031 0.542969 -2.386719 0.546875 -3.601563 C 0.542969 -4.382813 0.675781 -5.070313 0.9375 -5.660156 C 1.195313 -6.246094 1.589844 -6.683594 2.121094 -6.980469 C 2.652344 -7.269531 3.230469 -7.417969 3.855469 -7.421875 C 4.644531 -7.417969 5.289063 -7.21875 5.789063 -6.824219 C 6.289063 -6.421875 6.609375 -5.855469 6.753906 -5.125 L 5.558594 -4.941406 C 5.441406 -5.425781 5.238281 -5.792969 4.953125 -6.042969 C 4.660156 -6.285156 4.3125 -6.410156 3.902344 -6.414063 C 3.28125 -6.410156 2.777344 -6.1875 2.390625 -5.746094 C 2.003906 -5.296875 1.808594 -4.59375 1.8125 -3.636719 C 1.808594 -2.65625 1.996094 -1.945313 2.371094 -1.507813 C 2.742188 -1.0625 3.230469 -0.84375 3.835938 -0.847656 C 4.316406 -0.84375 4.71875 -0.992188 5.042969 -1.289063 C 5.367188 -1.585938 5.574219 -2.042969 5.660156 -2.660156 Z M 5.660156 -2.660156 \" style=\"stroke:none;\"/>\n",
       "</symbol>\n",
       "<symbol id=\"glyph0-2\" overflow=\"visible\">\n",
       "<path d=\"M 0.695313 0.601563 L 1.894531 0.78125 C 1.941406 1.144531 2.082031 1.414063 2.3125 1.585938 C 2.613281 1.8125 3.03125 1.925781 3.5625 1.929688 C 4.128906 1.925781 4.566406 1.8125 4.878906 1.585938 C 5.1875 1.355469 5.398438 1.035156 5.507813 0.628906 C 5.570313 0.375 5.597656 -0.148438 5.597656 -0.949219 C 5.058594 -0.316406 4.390625 0 3.589844 0 C 2.589844 0 1.816406 -0.359375 1.273438 -1.078125 C 0.722656 -1.796875 0.449219 -2.660156 0.453125 -3.671875 C 0.449219 -4.363281 0.574219 -5.003906 0.828125 -5.589844 C 1.074219 -6.175781 1.4375 -6.625 1.917969 -6.945313 C 2.390625 -7.257813 2.949219 -7.417969 3.59375 -7.421875 C 4.449219 -7.417969 5.15625 -7.070313 5.714844 -6.382813 L 5.714844 -7.257813 L 6.851563 -7.257813 L 6.851563 -0.984375 C 6.847656 0.144531 6.734375 0.945313 6.503906 1.417969 C 6.273438 1.886719 5.90625 2.257813 5.410156 2.535156 C 4.910156 2.804688 4.296875 2.941406 3.570313 2.945313 C 2.699219 2.941406 2 2.746094 1.46875 2.359375 C 0.933594 1.96875 0.675781 1.382813 0.695313 0.601563 Z M 1.714844 -3.757813 C 1.710938 -2.804688 1.898438 -2.113281 2.28125 -1.675781 C 2.65625 -1.238281 3.132813 -1.019531 3.703125 -1.019531 C 4.269531 -1.019531 4.742188 -1.234375 5.128906 -1.671875 C 5.507813 -2.101563 5.699219 -2.785156 5.703125 -3.71875 C 5.699219 -4.605469 5.503906 -5.273438 5.109375 -5.726563 C 4.714844 -6.175781 4.238281 -6.402344 3.683594 -6.40625 C 3.132813 -6.402344 2.667969 -6.179688 2.289063 -5.738281 C 1.902344 -5.289063 1.710938 -4.628906 1.714844 -3.757813 Z M 1.714844 -3.757813 \" style=\"stroke:none;\"/>\n",
       "</symbol>\n",
       "<symbol id=\"glyph0-3\" overflow=\"visible\">\n",
       "<path d=\"M 0.582031 -4.941406 C 0.578125 -6.121094 0.699219 -7.074219 0.945313 -7.800781 C 1.1875 -8.519531 1.550781 -9.078125 2.03125 -9.472656 C 2.511719 -9.863281 3.117188 -10.058594 3.847656 -10.0625 C 4.382813 -10.058594 4.855469 -9.953125 5.261719 -9.738281 C 5.667969 -9.519531 6 -9.207031 6.265625 -8.800781 C 6.527344 -8.390625 6.738281 -7.890625 6.890625 -7.308594 C 7.039063 -6.722656 7.113281 -5.933594 7.117188 -4.941406 C 7.113281 -3.761719 6.992188 -2.8125 6.753906 -2.09375 C 6.507813 -1.367188 6.144531 -0.808594 5.667969 -0.417969 C 5.183594 -0.0234375 4.578125 0.167969 3.847656 0.171875 C 2.878906 0.167969 2.121094 -0.175781 1.570313 -0.867188 C 0.910156 -1.699219 0.578125 -3.054688 0.582031 -4.941406 Z M 1.84375 -4.941406 C 1.839844 -3.292969 2.03125 -2.199219 2.421875 -1.65625 C 2.804688 -1.109375 3.28125 -0.835938 3.847656 -0.839844 C 4.410156 -0.835938 4.886719 -1.109375 5.273438 -1.660156 C 5.65625 -2.203125 5.847656 -3.296875 5.851563 -4.941406 C 5.847656 -6.589844 5.65625 -7.6875 5.273438 -8.230469 C 4.886719 -8.769531 4.40625 -9.039063 3.835938 -9.042969 C 3.269531 -9.039063 2.816406 -8.800781 2.480469 -8.328125 C 2.050781 -7.710938 1.839844 -6.582031 1.84375 -4.941406 Z M 1.84375 -4.941406 \" style=\"stroke:none;\"/>\n",
       "</symbol>\n",
       "<symbol id=\"glyph0-4\" overflow=\"visible\">\n",
       "<path d=\"M 2.476563 -5.433594 C 1.964844 -5.617188 1.585938 -5.886719 1.339844 -6.234375 C 1.089844 -6.578125 0.964844 -6.992188 0.96875 -7.476563 C 0.964844 -8.203125 1.226563 -8.816406 1.753906 -9.316406 C 2.277344 -9.8125 2.976563 -10.058594 3.847656 -10.0625 C 4.71875 -10.058594 5.421875 -9.804688 5.960938 -9.300781 C 6.492188 -8.789063 6.761719 -8.171875 6.761719 -7.445313 C 6.761719 -6.976563 6.636719 -6.570313 6.394531 -6.230469 C 6.148438 -5.882813 5.78125 -5.617188 5.285156 -5.433594 C 5.898438 -5.230469 6.363281 -4.90625 6.6875 -4.460938 C 7.007813 -4.011719 7.171875 -3.480469 7.171875 -2.863281 C 7.171875 -2.003906 6.867188 -1.285156 6.261719 -0.703125 C 5.652344 -0.121094 4.855469 0.167969 3.867188 0.171875 C 2.878906 0.167969 2.082031 -0.121094 1.476563 -0.707031 C 0.867188 -1.289063 0.5625 -2.019531 0.566406 -2.898438 C 0.5625 -3.546875 0.726563 -4.09375 1.0625 -4.535156 C 1.390625 -4.972656 1.863281 -5.269531 2.476563 -5.433594 Z M 2.226563 -7.519531 C 2.226563 -7.042969 2.378906 -6.65625 2.683594 -6.355469 C 2.988281 -6.054688 3.382813 -5.90625 3.875 -5.90625 C 4.34375 -5.90625 4.734375 -6.054688 5.039063 -6.351563 C 5.34375 -6.648438 5.496094 -7.015625 5.496094 -7.453125 C 5.496094 -7.902344 5.339844 -8.28125 5.027344 -8.589844 C 4.714844 -8.894531 4.324219 -9.046875 3.863281 -9.050781 C 3.386719 -9.046875 2.996094 -8.894531 2.691406 -8.597656 C 2.378906 -8.292969 2.226563 -7.933594 2.226563 -7.519531 Z M 1.832031 -2.890625 C 1.828125 -2.539063 1.910156 -2.203125 2.082031 -1.875 C 2.246094 -1.546875 2.496094 -1.289063 2.824219 -1.109375 C 3.152344 -0.925781 3.503906 -0.835938 3.882813 -0.839844 C 4.46875 -0.835938 4.953125 -1.027344 5.339844 -1.40625 C 5.71875 -1.785156 5.910156 -2.265625 5.914063 -2.851563 C 5.910156 -3.441406 5.714844 -3.929688 5.320313 -4.320313 C 4.925781 -4.703125 4.433594 -4.898438 3.84375 -4.902344 C 3.261719 -4.898438 2.78125 -4.707031 2.402344 -4.328125 C 2.019531 -3.941406 1.828125 -3.460938 1.832031 -2.890625 Z M 1.832031 -2.890625 \" style=\"stroke:none;\"/>\n",
       "</symbol>\n",
       "<symbol id=\"glyph0-5\" overflow=\"visible\">\n",
       "<path d=\"M 4.523438 0 L 4.523438 -2.398438 L 0.179688 -2.398438 L 0.179688 -3.527344 L 4.75 -10.023438 L 5.757813 -10.023438 L 5.757813 -3.527344 L 7.109375 -3.527344 L 7.109375 -2.398438 L 5.757813 -2.398438 L 5.757813 0 Z M 4.523438 -3.527344 L 4.523438 -8.046875 L 1.386719 -3.527344 Z M 4.523438 -3.527344 \" style=\"stroke:none;\"/>\n",
       "</symbol>\n",
       "<symbol id=\"glyph0-6\" overflow=\"visible\">\n",
       "<path d=\"M 0.585938 -2.644531 L 1.820313 -2.808594 C 1.957031 -2.109375 2.195313 -1.609375 2.539063 -1.300781 C 2.875 -0.992188 3.289063 -0.835938 3.78125 -0.839844 C 4.355469 -0.835938 4.84375 -1.039063 5.246094 -1.441406 C 5.640625 -1.839844 5.839844 -2.335938 5.84375 -2.933594 C 5.839844 -3.496094 5.65625 -3.960938 5.289063 -4.332031 C 4.917969 -4.695313 4.449219 -4.878906 3.882813 -4.882813 C 3.648438 -4.878906 3.359375 -4.832031 3.015625 -4.742188 L 3.152344 -5.824219 C 3.230469 -5.816406 3.296875 -5.8125 3.351563 -5.8125 C 3.875 -5.8125 4.34375 -5.949219 4.765625 -6.222656 C 5.179688 -6.496094 5.390625 -6.914063 5.394531 -7.484375 C 5.390625 -7.933594 5.238281 -8.308594 4.933594 -8.605469 C 4.628906 -8.898438 4.234375 -9.046875 3.753906 -9.050781 C 3.273438 -9.046875 2.875 -8.894531 2.554688 -8.597656 C 2.234375 -8.292969 2.027344 -7.84375 1.941406 -7.246094 L 0.710938 -7.464844 C 0.859375 -8.289063 1.203125 -8.925781 1.734375 -9.382813 C 2.265625 -9.832031 2.929688 -10.058594 3.726563 -10.0625 C 4.273438 -10.058594 4.773438 -9.941406 5.234375 -9.710938 C 5.691406 -9.472656 6.042969 -9.152344 6.289063 -8.75 C 6.53125 -8.339844 6.65625 -7.910156 6.65625 -7.457031 C 6.65625 -7.023438 6.539063 -6.628906 6.308594 -6.273438 C 6.074219 -5.917969 5.730469 -5.636719 5.277344 -5.429688 C 5.867188 -5.289063 6.328125 -5.003906 6.65625 -4.574219 C 6.984375 -4.140625 7.148438 -3.601563 7.148438 -2.960938 C 7.148438 -2.082031 6.828125 -1.339844 6.191406 -0.734375 C 5.550781 -0.125 4.746094 0.175781 3.773438 0.179688 C 2.890625 0.175781 2.160156 -0.0820313 1.582031 -0.605469 C 1 -1.128906 0.667969 -1.808594 0.585938 -2.644531 Z M 0.585938 -2.644531 \" style=\"stroke:none;\"/>\n",
       "</symbol>\n",
       "<symbol id=\"glyph0-7\" overflow=\"visible\">\n",
       "<path d=\"M 7.046875 -1.183594 L 7.046875 0 L 0.421875 0 C 0.414063 -0.296875 0.460938 -0.582031 0.566406 -0.855469 C 0.734375 -1.304688 1.003906 -1.746094 1.375 -2.1875 C 1.746094 -2.621094 2.285156 -3.128906 2.988281 -3.703125 C 4.074219 -4.597656 4.808594 -5.304688 5.195313 -5.828125 C 5.574219 -6.347656 5.765625 -6.839844 5.769531 -7.308594 C 5.765625 -7.792969 5.589844 -8.203125 5.246094 -8.539063 C 4.894531 -8.871094 4.441406 -9.039063 3.882813 -9.042969 C 3.285156 -9.039063 2.8125 -8.863281 2.460938 -8.507813 C 2.105469 -8.152344 1.925781 -7.660156 1.921875 -7.035156 L 0.65625 -7.164063 C 0.742188 -8.105469 1.066406 -8.824219 1.632813 -9.320313 C 2.195313 -9.8125 2.953125 -10.058594 3.910156 -10.0625 C 4.867188 -10.058594 5.628906 -9.792969 6.191406 -9.261719 C 6.75 -8.726563 7.03125 -8.066406 7.035156 -7.28125 C 7.03125 -6.878906 6.949219 -6.484375 6.789063 -6.097656 C 6.621094 -5.707031 6.347656 -5.296875 5.96875 -4.871094 C 5.585938 -4.441406 4.953125 -3.855469 4.074219 -3.109375 C 3.332031 -2.488281 2.859375 -2.066406 2.652344 -1.847656 C 2.4375 -1.621094 2.265625 -1.402344 2.132813 -1.183594 Z M 7.046875 -1.183594 \" style=\"stroke:none;\"/>\n",
       "</symbol>\n",
       "<symbol id=\"glyph0-8\" overflow=\"visible\">\n",
       "<path d=\"M 6.964844 -7.566406 L 5.742188 -7.472656 C 5.632813 -7.949219 5.476563 -8.300781 5.277344 -8.523438 C 4.941406 -8.871094 4.53125 -9.046875 4.046875 -9.050781 C 3.652344 -9.046875 3.308594 -8.9375 3.015625 -8.722656 C 2.625 -8.4375 2.320313 -8.023438 2.097656 -7.484375 C 1.875 -6.9375 1.757813 -6.167969 1.75 -5.167969 C 2.042969 -5.617188 2.40625 -5.949219 2.835938 -6.171875 C 3.265625 -6.386719 3.714844 -6.496094 4.183594 -6.5 C 5.003906 -6.496094 5.699219 -6.195313 6.277344 -5.59375 C 6.851563 -4.988281 7.140625 -4.207031 7.144531 -3.253906 C 7.140625 -2.621094 7.003906 -2.039063 6.734375 -1.5 C 6.460938 -0.960938 6.089844 -0.546875 5.617188 -0.257813 C 5.140625 0.0273438 4.605469 0.167969 4.007813 0.171875 C 2.980469 0.167969 2.140625 -0.207031 1.496094 -0.960938 C 0.847656 -1.714844 0.527344 -2.957031 0.527344 -4.6875 C 0.527344 -6.625 0.882813 -8.03125 1.601563 -8.914063 C 2.21875 -9.675781 3.058594 -10.058594 4.121094 -10.0625 C 4.90625 -10.058594 5.554688 -9.839844 6.058594 -9.398438 C 6.5625 -8.953125 6.863281 -8.339844 6.964844 -7.566406 Z M 1.941406 -3.246094 C 1.9375 -2.820313 2.027344 -2.414063 2.210938 -2.027344 C 2.386719 -1.640625 2.640625 -1.34375 2.964844 -1.144531 C 3.289063 -0.9375 3.628906 -0.835938 3.984375 -0.839844 C 4.503906 -0.835938 4.949219 -1.046875 5.324219 -1.46875 C 5.695313 -1.886719 5.882813 -2.457031 5.886719 -3.179688 C 5.882813 -3.871094 5.699219 -4.417969 5.332031 -4.816406 C 4.960938 -5.214844 4.496094 -5.414063 3.9375 -5.414063 C 3.378906 -5.414063 2.90625 -5.214844 2.519531 -4.816406 C 2.132813 -4.417969 1.9375 -3.894531 1.941406 -3.246094 Z M 1.941406 -3.246094 \" style=\"stroke:none;\"/>\n",
       "</symbol>\n",
       "<symbol id=\"glyph0-9\" overflow=\"visible\">\n",
       "<path d=\"M 0.582031 -2.625 L 1.875 -2.734375 C 1.96875 -2.101563 2.1875 -1.628906 2.539063 -1.3125 C 2.882813 -0.996094 3.304688 -0.835938 3.800781 -0.839844 C 4.390625 -0.835938 4.890625 -1.058594 5.304688 -1.507813 C 5.710938 -1.953125 5.917969 -2.546875 5.921875 -3.289063 C 5.917969 -3.984375 5.71875 -4.539063 5.328125 -4.949219 C 4.929688 -5.351563 4.414063 -5.554688 3.78125 -5.558594 C 3.382813 -5.554688 3.027344 -5.464844 2.707031 -5.285156 C 2.386719 -5.105469 2.132813 -4.871094 1.953125 -4.585938 L 0.800781 -4.738281 L 1.769531 -9.882813 L 6.753906 -9.882813 L 6.753906 -8.710938 L 2.753906 -8.710938 L 2.214844 -6.015625 C 2.816406 -6.433594 3.445313 -6.644531 4.109375 -6.644531 C 4.980469 -6.644531 5.71875 -6.339844 6.324219 -5.734375 C 6.921875 -5.128906 7.222656 -4.351563 7.226563 -3.398438 C 7.222656 -2.492188 6.960938 -1.707031 6.433594 -1.046875 C 5.789063 -0.234375 4.910156 0.167969 3.800781 0.171875 C 2.886719 0.167969 2.140625 -0.0820313 1.566406 -0.59375 C 0.988281 -1.101563 0.660156 -1.78125 0.582031 -2.625 Z M 0.582031 -2.625 \" style=\"stroke:none;\"/>\n",
       "</symbol>\n",
       "<symbol id=\"glyph0-10\" overflow=\"visible\">\n",
       "<path d=\"M 5.214844 0 L 3.984375 0 L 3.984375 -7.839844 C 3.6875 -7.558594 3.296875 -7.273438 2.816406 -6.992188 C 2.335938 -6.707031 1.90625 -6.496094 1.523438 -6.359375 L 1.523438 -7.546875 C 2.210938 -7.867188 2.8125 -8.257813 3.328125 -8.722656 C 3.84375 -9.179688 4.207031 -9.625 4.421875 -10.0625 L 5.214844 -10.0625 Z M 5.214844 0 \" style=\"stroke:none;\"/>\n",
       "</symbol>\n",
       "<symbol id=\"glyph0-11\" overflow=\"visible\">\n",
       "<path d=\"M 0.664063 -8.710938 L 0.664063 -9.890625 L 7.148438 -9.890625 L 7.148438 -8.933594 C 6.511719 -8.25 5.878906 -7.347656 5.253906 -6.226563 C 4.625 -5.097656 4.140625 -3.941406 3.800781 -2.753906 C 3.550781 -1.914063 3.394531 -0.996094 3.328125 0 L 2.0625 0 C 2.078125 -0.789063 2.230469 -1.738281 2.527344 -2.855469 C 2.820313 -3.96875 3.246094 -5.046875 3.800781 -6.085938 C 4.351563 -7.121094 4.941406 -7.996094 5.570313 -8.710938 Z M 0.664063 -8.710938 \" style=\"stroke:none;\"/>\n",
       "</symbol>\n",
       "<symbol id=\"glyph0-12\" overflow=\"visible\">\n",
       "<path d=\"M 0.765625 -2.316406 L 1.949219 -2.425781 C 2.046875 -1.871094 2.238281 -1.464844 2.519531 -1.214844 C 2.800781 -0.960938 3.164063 -0.835938 3.609375 -0.839844 C 3.984375 -0.835938 4.3125 -0.921875 4.601563 -1.097656 C 4.882813 -1.269531 5.117188 -1.503906 5.304688 -1.792969 C 5.484375 -2.082031 5.636719 -2.472656 5.761719 -2.964844 C 5.878906 -3.457031 5.941406 -3.957031 5.945313 -4.46875 C 5.941406 -4.523438 5.941406 -4.605469 5.941406 -4.71875 C 5.691406 -4.320313 5.351563 -4.003906 4.929688 -3.761719 C 4.5 -3.519531 4.039063 -3.398438 3.546875 -3.398438 C 2.714844 -3.398438 2.015625 -3.699219 1.441406 -4.300781 C 0.867188 -4.902344 0.578125 -5.695313 0.582031 -6.679688 C 0.578125 -7.695313 0.878906 -8.511719 1.480469 -9.132813 C 2.078125 -9.75 2.828125 -10.058594 3.734375 -10.0625 C 4.382813 -10.058594 4.980469 -9.882813 5.519531 -9.535156 C 6.058594 -9.179688 6.46875 -8.679688 6.75 -8.035156 C 7.03125 -7.382813 7.171875 -6.445313 7.171875 -5.214844 C 7.171875 -3.933594 7.03125 -2.914063 6.753906 -2.15625 C 6.472656 -1.398438 6.058594 -0.820313 5.511719 -0.421875 C 4.960938 -0.0273438 4.316406 0.167969 3.582031 0.171875 C 2.792969 0.167969 2.152344 -0.046875 1.660156 -0.480469 C 1.160156 -0.914063 0.863281 -1.523438 0.765625 -2.316406 Z M 5.804688 -6.742188 C 5.800781 -7.445313 5.613281 -8.003906 5.238281 -8.421875 C 4.863281 -8.832031 4.410156 -9.039063 3.882813 -9.042969 C 3.332031 -9.039063 2.855469 -8.816406 2.453125 -8.371094 C 2.042969 -7.921875 1.839844 -7.34375 1.84375 -6.636719 C 1.839844 -5.996094 2.03125 -5.476563 2.421875 -5.082031 C 2.804688 -4.679688 3.28125 -4.480469 3.847656 -4.484375 C 4.414063 -4.480469 4.882813 -4.679688 5.253906 -5.082031 C 5.617188 -5.476563 5.800781 -6.03125 5.804688 -6.742188 Z M 5.804688 -6.742188 \" style=\"stroke:none;\"/>\n",
       "</symbol>\n",
       "</g>\n",
       "</defs>\n",
       "<g id=\"surface2\">\n",
       "<rect height=\"600\" style=\"fill:rgb(100%,100%,100%);fill-opacity:1;stroke:none;\" width=\"600\" x=\"0\" y=\"0\"/>\n",
       "<path d=\"M 446.753906 271.898438 L 317.21875 229.988281 \" style=\"fill:none;stroke-width:1;stroke-linecap:butt;stroke-linejoin:miter;stroke:rgb(26.666667%,26.666667%,26.666667%);stroke-opacity:1;stroke-miterlimit:10;\"/>\n",
       "<path d=\"M 186.242188 313.804688 L 317.21875 229.988281 \" style=\"fill:none;stroke-width:1;stroke-linecap:butt;stroke-linejoin:miter;stroke:rgb(26.666667%,26.666667%,26.666667%);stroke-opacity:1;stroke-miterlimit:10;\"/>\n",
       "<path d=\"M 385.125 387.5 L 317.21875 229.988281 \" style=\"fill:none;stroke-width:1;stroke-linecap:butt;stroke-linejoin:miter;stroke:rgb(26.666667%,26.666667%,26.666667%);stroke-opacity:1;stroke-miterlimit:10;\"/>\n",
       "<path d=\"M 254.914063 159.558594 L 317.21875 229.988281 \" style=\"fill:none;stroke-width:1;stroke-linecap:butt;stroke-linejoin:miter;stroke:rgb(26.666667%,26.666667%,26.666667%);stroke-opacity:1;stroke-miterlimit:10;\"/>\n",
       "<path d=\"M 171.085938 166.863281 L 317.21875 229.988281 \" style=\"fill:none;stroke-width:1;stroke-linecap:butt;stroke-linejoin:miter;stroke:rgb(26.666667%,26.666667%,26.666667%);stroke-opacity:1;stroke-miterlimit:10;\"/>\n",
       "<path d=\"M 467.328125 132.039063 L 550 81.503906 \" style=\"fill:none;stroke-width:1;stroke-linecap:butt;stroke-linejoin:miter;stroke:rgb(26.666667%,26.666667%,26.666667%);stroke-opacity:1;stroke-miterlimit:10;\"/>\n",
       "<path d=\"M 467.328125 132.039063 L 317.21875 229.988281 \" style=\"fill:none;stroke-width:1;stroke-linecap:butt;stroke-linejoin:miter;stroke:rgb(26.666667%,26.666667%,26.666667%);stroke-opacity:1;stroke-miterlimit:10;\"/>\n",
       "<path d=\"M 242.808594 231.484375 L 317.21875 229.988281 \" style=\"fill:none;stroke-width:1;stroke-linecap:butt;stroke-linejoin:miter;stroke:rgb(26.666667%,26.666667%,26.666667%);stroke-opacity:1;stroke-miterlimit:10;\"/>\n",
       "<path d=\"M 211.785156 182.144531 L 317.21875 229.988281 \" style=\"fill:none;stroke-width:1;stroke-linecap:butt;stroke-linejoin:miter;stroke:rgb(26.666667%,26.666667%,26.666667%);stroke-opacity:1;stroke-miterlimit:10;\"/>\n",
       "<path d=\"M 246.984375 378.265625 L 317.21875 229.988281 \" style=\"fill:none;stroke-width:1;stroke-linecap:butt;stroke-linejoin:miter;stroke:rgb(26.666667%,26.666667%,26.666667%);stroke-opacity:1;stroke-miterlimit:10;\"/>\n",
       "<path d=\"M 444.964844 195.558594 L 424.042969 161.070313 \" style=\"fill:none;stroke-width:1;stroke-linecap:butt;stroke-linejoin:miter;stroke:rgb(26.666667%,26.666667%,26.666667%);stroke-opacity:1;stroke-miterlimit:10;\"/>\n",
       "<path d=\"M 444.964844 195.558594 L 317.21875 229.988281 \" style=\"fill:none;stroke-width:1;stroke-linecap:butt;stroke-linejoin:miter;stroke:rgb(26.666667%,26.666667%,26.666667%);stroke-opacity:1;stroke-miterlimit:10;\"/>\n",
       "<path d=\"M 357.816406 550 L 341.542969 436.359375 \" style=\"fill:none;stroke-width:1;stroke-linecap:butt;stroke-linejoin:miter;stroke:rgb(26.666667%,26.666667%,26.666667%);stroke-opacity:1;stroke-miterlimit:10;\"/>\n",
       "<path d=\"M 197.496094 126.355469 L 317.21875 229.988281 \" style=\"fill:none;stroke-width:1;stroke-linecap:butt;stroke-linejoin:miter;stroke:rgb(26.666667%,26.666667%,26.666667%);stroke-opacity:1;stroke-miterlimit:10;\"/>\n",
       "<path d=\"M 400.914063 233.1875 L 317.21875 229.988281 \" style=\"fill:none;stroke-width:1;stroke-linecap:butt;stroke-linejoin:miter;stroke:rgb(26.666667%,26.666667%,26.666667%);stroke-opacity:1;stroke-miterlimit:10;\"/>\n",
       "<path d=\"M 377.5625 164.945313 L 317.21875 229.988281 \" style=\"fill:none;stroke-width:1;stroke-linecap:butt;stroke-linejoin:miter;stroke:rgb(26.666667%,26.666667%,26.666667%);stroke-opacity:1;stroke-miterlimit:10;\"/>\n",
       "<path d=\"M 257.457031 63.738281 L 317.21875 229.988281 \" style=\"fill:none;stroke-width:1;stroke-linecap:butt;stroke-linejoin:miter;stroke:rgb(26.666667%,26.666667%,26.666667%);stroke-opacity:1;stroke-miterlimit:10;\"/>\n",
       "<path d=\"M 468.480469 236.515625 L 317.21875 229.988281 \" style=\"fill:none;stroke-width:1;stroke-linecap:butt;stroke-linejoin:miter;stroke:rgb(26.666667%,26.666667%,26.666667%);stroke-opacity:1;stroke-miterlimit:10;\"/>\n",
       "<path d=\"M 284.324219 396.515625 L 317.21875 229.988281 \" style=\"fill:none;stroke-width:1;stroke-linecap:butt;stroke-linejoin:miter;stroke:rgb(26.666667%,26.666667%,26.666667%);stroke-opacity:1;stroke-miterlimit:10;\"/>\n",
       "<path d=\"M 347.328125 294.898438 L 317.21875 229.988281 \" style=\"fill:none;stroke-width:1;stroke-linecap:butt;stroke-linejoin:miter;stroke:rgb(26.666667%,26.666667%,26.666667%);stroke-opacity:1;stroke-miterlimit:10;\"/>\n",
       "<path d=\"M 451.871094 318.550781 L 317.21875 229.988281 \" style=\"fill:none;stroke-width:1;stroke-linecap:butt;stroke-linejoin:miter;stroke:rgb(26.666667%,26.666667%,26.666667%);stroke-opacity:1;stroke-miterlimit:10;\"/>\n",
       "<path d=\"M 424.042969 161.070313 L 317.21875 229.988281 \" style=\"fill:none;stroke-width:1;stroke-linecap:butt;stroke-linejoin:miter;stroke:rgb(26.666667%,26.666667%,26.666667%);stroke-opacity:1;stroke-miterlimit:10;\"/>\n",
       "<path d=\"M 411.496094 99.394531 L 317.21875 229.988281 \" style=\"fill:none;stroke-width:1;stroke-linecap:butt;stroke-linejoin:miter;stroke:rgb(26.666667%,26.666667%,26.666667%);stroke-opacity:1;stroke-miterlimit:10;\"/>\n",
       "<path d=\"M 83.765625 506.570313 L 50 458.605469 \" style=\"fill:none;stroke-width:1;stroke-linecap:butt;stroke-linejoin:miter;stroke:rgb(26.666667%,26.666667%,26.666667%);stroke-opacity:1;stroke-miterlimit:10;\"/>\n",
       "<path d=\"M 272.644531 109.371094 L 317.21875 229.988281 \" style=\"fill:none;stroke-width:1;stroke-linecap:butt;stroke-linejoin:miter;stroke:rgb(26.666667%,26.666667%,26.666667%);stroke-opacity:1;stroke-miterlimit:10;\"/>\n",
       "<path d=\"M 405.554688 299.40625 L 317.21875 229.988281 \" style=\"fill:none;stroke-width:1;stroke-linecap:butt;stroke-linejoin:miter;stroke:rgb(26.666667%,26.666667%,26.666667%);stroke-opacity:1;stroke-miterlimit:10;\"/>\n",
       "<path d=\"M 341.542969 436.359375 L 317.21875 229.988281 \" style=\"fill:none;stroke-width:1;stroke-linecap:butt;stroke-linejoin:miter;stroke:rgb(26.666667%,26.666667%,26.666667%);stroke-opacity:1;stroke-miterlimit:10;\"/>\n",
       "<path d=\"M 328.316406 379.585938 L 317.21875 229.988281 \" style=\"fill:none;stroke-width:1;stroke-linecap:butt;stroke-linejoin:miter;stroke:rgb(26.666667%,26.666667%,26.666667%);stroke-opacity:1;stroke-miterlimit:10;\"/>\n",
       "<path d=\"M 255.132813 309.023438 L 317.21875 229.988281 \" style=\"fill:none;stroke-width:1;stroke-linecap:butt;stroke-linejoin:miter;stroke:rgb(26.666667%,26.666667%,26.666667%);stroke-opacity:1;stroke-miterlimit:10;\"/>\n",
       "<path d=\"M 295.863281 337.304688 L 317.21875 229.988281 \" style=\"fill:none;stroke-width:1;stroke-linecap:butt;stroke-linejoin:miter;stroke:rgb(26.666667%,26.666667%,26.666667%);stroke-opacity:1;stroke-miterlimit:10;\"/>\n",
       "<path d=\"M 169.1875 262.074219 L 317.21875 229.988281 \" style=\"fill:none;stroke-width:1;stroke-linecap:butt;stroke-linejoin:miter;stroke:rgb(26.666667%,26.666667%,26.666667%);stroke-opacity:1;stroke-miterlimit:10;\"/>\n",
       "<path d=\"M 321.460938 146.164063 L 317.21875 229.988281 \" style=\"fill:none;stroke-width:1;stroke-linecap:butt;stroke-linejoin:miter;stroke:rgb(26.666667%,26.666667%,26.666667%);stroke-opacity:1;stroke-miterlimit:10;\"/>\n",
       "<path d=\"M 368.660156 345.203125 L 317.21875 229.988281 \" style=\"fill:none;stroke-width:1;stroke-linecap:butt;stroke-linejoin:miter;stroke:rgb(26.666667%,26.666667%,26.666667%);stroke-opacity:1;stroke-miterlimit:10;\"/>\n",
       "<path d=\"M 173.855469 216.691406 L 317.21875 229.988281 \" style=\"fill:none;stroke-width:1;stroke-linecap:butt;stroke-linejoin:miter;stroke:rgb(26.666667%,26.666667%,26.666667%);stroke-opacity:1;stroke-miterlimit:10;\"/>\n",
       "<path d=\"M 359.007813 56.101563 L 317.21875 229.988281 \" style=\"fill:none;stroke-width:1;stroke-linecap:butt;stroke-linejoin:miter;stroke:rgb(26.666667%,26.666667%,26.666667%);stroke-opacity:1;stroke-miterlimit:10;\"/>\n",
       "<path d=\"M 222.953125 93.25 L 317.21875 229.988281 \" style=\"fill:none;stroke-width:1;stroke-linecap:butt;stroke-linejoin:miter;stroke:rgb(26.666667%,26.666667%,26.666667%);stroke-opacity:1;stroke-miterlimit:10;\"/>\n",
       "<path d=\"M 317.21875 229.988281 L 213.394531 274.632813 \" style=\"fill:none;stroke-width:1;stroke-linecap:butt;stroke-linejoin:miter;stroke:rgb(26.666667%,26.666667%,26.666667%);stroke-opacity:1;stroke-miterlimit:10;\"/>\n",
       "<path d=\"M 317.21875 229.988281 L 301.683594 50 \" style=\"fill:none;stroke-width:1;stroke-linecap:butt;stroke-linejoin:miter;stroke:rgb(26.666667%,26.666667%,26.666667%);stroke-opacity:1;stroke-miterlimit:10;\"/>\n",
       "<path d=\"M 317.21875 229.988281 L 324.058594 87.949219 \" style=\"fill:none;stroke-width:1;stroke-linecap:butt;stroke-linejoin:miter;stroke:rgb(26.666667%,26.666667%,26.666667%);stroke-opacity:1;stroke-miterlimit:10;\"/>\n",
       "<path d=\"M 317.21875 229.988281 L 422.058594 356.457031 \" style=\"fill:none;stroke-width:1;stroke-linecap:butt;stroke-linejoin:miter;stroke:rgb(26.666667%,26.666667%,26.666667%);stroke-opacity:1;stroke-miterlimit:10;\"/>\n",
       "<path d=\"M 317.21875 229.988281 L 215.980469 349.078125 \" style=\"fill:none;stroke-width:1;stroke-linecap:butt;stroke-linejoin:miter;stroke:rgb(26.666667%,26.666667%,26.666667%);stroke-opacity:1;stroke-miterlimit:10;\"/>\n",
       "<path d=\"M 317.21875 229.988281 L 372.972656 102.351563 \" style=\"fill:none;stroke-width:1;stroke-linecap:butt;stroke-linejoin:miter;stroke:rgb(26.666667%,26.666667%,26.666667%);stroke-opacity:1;stroke-miterlimit:10;\"/>\n",
       "<path d=\"M 456.753906 271.898438 C 456.753906 277.421875 452.277344 281.898438 446.753906 281.898438 C 441.230469 281.898438 436.753906 277.421875 436.753906 271.898438 C 436.753906 266.375 441.230469 261.898438 446.753906 261.898438 C 452.277344 261.898438 456.753906 266.375 456.753906 271.898438 \" style=\"fill-rule:nonzero;fill:rgb(100%,0%,0%);fill-opacity:1;stroke-width:1;stroke-linecap:butt;stroke-linejoin:miter;stroke:rgb(0%,0%,0%);stroke-opacity:1;stroke-miterlimit:10;\"/>\n",
       "<path d=\"M 196.242188 313.804688 C 196.242188 319.328125 191.765625 323.804688 186.242188 323.804688 C 180.722656 323.804688 176.242188 319.328125 176.242188 313.804688 C 176.242188 308.28125 180.722656 303.804688 186.242188 303.804688 C 191.765625 303.804688 196.242188 308.28125 196.242188 313.804688 \" style=\"fill-rule:nonzero;fill:rgb(100%,0%,0%);fill-opacity:1;stroke-width:1;stroke-linecap:butt;stroke-linejoin:miter;stroke:rgb(0%,0%,0%);stroke-opacity:1;stroke-miterlimit:10;\"/>\n",
       "<path d=\"M 395.125 387.5 C 395.125 393.023438 390.648438 397.5 385.125 397.5 C 379.601563 397.5 375.125 393.023438 375.125 387.5 C 375.125 381.976563 379.601563 377.5 385.125 377.5 C 390.648438 377.5 395.125 381.976563 395.125 387.5 \" style=\"fill-rule:nonzero;fill:rgb(100%,0%,0%);fill-opacity:1;stroke-width:1;stroke-linecap:butt;stroke-linejoin:miter;stroke:rgb(0%,0%,0%);stroke-opacity:1;stroke-miterlimit:10;\"/>\n",
       "<path d=\"M 264.914063 159.558594 C 264.914063 165.082031 260.4375 169.558594 254.914063 169.558594 C 249.394531 169.558594 244.914063 165.082031 244.914063 159.558594 C 244.914063 154.035156 249.394531 149.558594 254.914063 149.558594 C 260.4375 149.558594 264.914063 154.035156 264.914063 159.558594 \" style=\"fill-rule:nonzero;fill:rgb(100%,0%,0%);fill-opacity:1;stroke-width:1;stroke-linecap:butt;stroke-linejoin:miter;stroke:rgb(0%,0%,0%);stroke-opacity:1;stroke-miterlimit:10;\"/>\n",
       "<path d=\"M 181.085938 166.863281 C 181.085938 172.386719 176.609375 176.863281 171.085938 176.863281 C 165.5625 176.863281 161.085938 172.386719 161.085938 166.863281 C 161.085938 161.339844 165.5625 156.863281 171.085938 156.863281 C 176.609375 156.863281 181.085938 161.339844 181.085938 166.863281 \" style=\"fill-rule:nonzero;fill:rgb(100%,0%,0%);fill-opacity:1;stroke-width:1;stroke-linecap:butt;stroke-linejoin:miter;stroke:rgb(0%,0%,0%);stroke-opacity:1;stroke-miterlimit:10;\"/>\n",
       "<path d=\"M 477.328125 132.039063 C 477.328125 137.5625 472.851563 142.039063 467.328125 142.039063 C 461.804688 142.039063 457.328125 137.5625 457.328125 132.039063 C 457.328125 126.515625 461.804688 122.039063 467.328125 122.039063 C 472.851563 122.039063 477.328125 126.515625 477.328125 132.039063 \" style=\"fill-rule:nonzero;fill:rgb(100%,0%,0%);fill-opacity:1;stroke-width:1;stroke-linecap:butt;stroke-linejoin:miter;stroke:rgb(0%,0%,0%);stroke-opacity:1;stroke-miterlimit:10;\"/>\n",
       "<path d=\"M 252.808594 231.484375 C 252.808594 237.003906 248.332031 241.484375 242.808594 241.484375 C 237.285156 241.484375 232.808594 237.003906 232.808594 231.484375 C 232.808594 225.960938 237.285156 221.484375 242.808594 221.484375 C 248.332031 221.484375 252.808594 225.960938 252.808594 231.484375 \" style=\"fill-rule:nonzero;fill:rgb(100%,0%,0%);fill-opacity:1;stroke-width:1;stroke-linecap:butt;stroke-linejoin:miter;stroke:rgb(0%,0%,0%);stroke-opacity:1;stroke-miterlimit:10;\"/>\n",
       "<path d=\"M 221.785156 182.144531 C 221.785156 187.667969 217.308594 192.144531 211.785156 192.144531 C 206.261719 192.144531 201.785156 187.667969 201.785156 182.144531 C 201.785156 176.625 206.261719 172.144531 211.785156 172.144531 C 217.308594 172.144531 221.785156 176.625 221.785156 182.144531 \" style=\"fill-rule:nonzero;fill:rgb(100%,0%,0%);fill-opacity:1;stroke-width:1;stroke-linecap:butt;stroke-linejoin:miter;stroke:rgb(0%,0%,0%);stroke-opacity:1;stroke-miterlimit:10;\"/>\n",
       "<path d=\"M 256.984375 378.265625 C 256.984375 383.789063 252.507813 388.265625 246.984375 388.265625 C 241.460938 388.265625 236.984375 383.789063 236.984375 378.265625 C 236.984375 372.742188 241.460938 368.265625 246.984375 368.265625 C 252.507813 368.265625 256.984375 372.742188 256.984375 378.265625 \" style=\"fill-rule:nonzero;fill:rgb(100%,0%,0%);fill-opacity:1;stroke-width:1;stroke-linecap:butt;stroke-linejoin:miter;stroke:rgb(0%,0%,0%);stroke-opacity:1;stroke-miterlimit:10;\"/>\n",
       "<path d=\"M 454.964844 195.558594 C 454.964844 201.082031 450.488281 205.558594 444.964844 205.558594 C 439.445313 205.558594 434.964844 201.082031 434.964844 195.558594 C 434.964844 190.035156 439.445313 185.558594 444.964844 185.558594 C 450.488281 185.558594 454.964844 190.035156 454.964844 195.558594 \" style=\"fill-rule:nonzero;fill:rgb(100%,0%,0%);fill-opacity:1;stroke-width:1;stroke-linecap:butt;stroke-linejoin:miter;stroke:rgb(0%,0%,0%);stroke-opacity:1;stroke-miterlimit:10;\"/>\n",
       "<path d=\"M 367.816406 550 C 367.816406 555.523438 363.339844 560 357.816406 560 C 352.292969 560 347.816406 555.523438 347.816406 550 C 347.816406 544.476563 352.292969 540 357.816406 540 C 363.339844 540 367.816406 544.476563 367.816406 550 \" style=\"fill-rule:nonzero;fill:rgb(100%,0%,0%);fill-opacity:1;stroke-width:1;stroke-linecap:butt;stroke-linejoin:miter;stroke:rgb(0%,0%,0%);stroke-opacity:1;stroke-miterlimit:10;\"/>\n",
       "<path d=\"M 207.496094 126.355469 C 207.496094 131.878906 203.019531 136.355469 197.496094 136.355469 C 191.976563 136.355469 187.496094 131.878906 187.496094 126.355469 C 187.496094 120.832031 191.976563 116.355469 197.496094 116.355469 C 203.019531 116.355469 207.496094 120.832031 207.496094 126.355469 \" style=\"fill-rule:nonzero;fill:rgb(100%,0%,0%);fill-opacity:1;stroke-width:1;stroke-linecap:butt;stroke-linejoin:miter;stroke:rgb(0%,0%,0%);stroke-opacity:1;stroke-miterlimit:10;\"/>\n",
       "<path d=\"M 410.914063 233.1875 C 410.914063 238.710938 406.433594 243.1875 400.914063 243.1875 C 395.390625 243.1875 390.914063 238.710938 390.914063 233.1875 C 390.914063 227.664063 395.390625 223.1875 400.914063 223.1875 C 406.433594 223.1875 410.914063 227.664063 410.914063 233.1875 \" style=\"fill-rule:nonzero;fill:rgb(100%,0%,0%);fill-opacity:1;stroke-width:1;stroke-linecap:butt;stroke-linejoin:miter;stroke:rgb(0%,0%,0%);stroke-opacity:1;stroke-miterlimit:10;\"/>\n",
       "<path d=\"M 560 81.503906 C 560 87.027344 555.523438 91.503906 550 91.503906 C 544.476563 91.503906 540 87.027344 540 81.503906 C 540 75.984375 544.476563 71.503906 550 71.503906 C 555.523438 71.503906 560 75.984375 560 81.503906 \" style=\"fill-rule:nonzero;fill:rgb(100%,0%,0%);fill-opacity:1;stroke-width:1;stroke-linecap:butt;stroke-linejoin:miter;stroke:rgb(0%,0%,0%);stroke-opacity:1;stroke-miterlimit:10;\"/>\n",
       "<path d=\"M 387.5625 164.945313 C 387.5625 170.46875 383.085938 174.945313 377.5625 174.945313 C 372.039063 174.945313 367.5625 170.46875 367.5625 164.945313 C 367.5625 159.421875 372.039063 154.945313 377.5625 154.945313 C 383.085938 154.945313 387.5625 159.421875 387.5625 164.945313 \" style=\"fill-rule:nonzero;fill:rgb(100%,0%,0%);fill-opacity:1;stroke-width:1;stroke-linecap:butt;stroke-linejoin:miter;stroke:rgb(0%,0%,0%);stroke-opacity:1;stroke-miterlimit:10;\"/>\n",
       "<path d=\"M 267.457031 63.738281 C 267.457031 69.261719 262.980469 73.738281 257.457031 73.738281 C 251.9375 73.738281 247.457031 69.261719 247.457031 63.738281 C 247.457031 58.214844 251.9375 53.738281 257.457031 53.738281 C 262.980469 53.738281 267.457031 58.214844 267.457031 63.738281 \" style=\"fill-rule:nonzero;fill:rgb(100%,0%,0%);fill-opacity:1;stroke-width:1;stroke-linecap:butt;stroke-linejoin:miter;stroke:rgb(0%,0%,0%);stroke-opacity:1;stroke-miterlimit:10;\"/>\n",
       "<path d=\"M 478.480469 236.515625 C 478.480469 242.039063 474.003906 246.515625 468.480469 246.515625 C 462.957031 246.515625 458.480469 242.039063 458.480469 236.515625 C 458.480469 230.992188 462.957031 226.515625 468.480469 226.515625 C 474.003906 226.515625 478.480469 230.992188 478.480469 236.515625 \" style=\"fill-rule:nonzero;fill:rgb(100%,0%,0%);fill-opacity:1;stroke-width:1;stroke-linecap:butt;stroke-linejoin:miter;stroke:rgb(0%,0%,0%);stroke-opacity:1;stroke-miterlimit:10;\"/>\n",
       "<path d=\"M 294.324219 396.515625 C 294.324219 402.039063 289.847656 406.515625 284.324219 406.515625 C 278.804688 406.515625 274.324219 402.039063 274.324219 396.515625 C 274.324219 390.992188 278.804688 386.515625 284.324219 386.515625 C 289.847656 386.515625 294.324219 390.992188 294.324219 396.515625 \" style=\"fill-rule:nonzero;fill:rgb(100%,0%,0%);fill-opacity:1;stroke-width:1;stroke-linecap:butt;stroke-linejoin:miter;stroke:rgb(0%,0%,0%);stroke-opacity:1;stroke-miterlimit:10;\"/>\n",
       "<path d=\"M 357.328125 294.898438 C 357.328125 300.421875 352.847656 304.898438 347.328125 304.898438 C 341.804688 304.898438 337.328125 300.421875 337.328125 294.898438 C 337.328125 289.375 341.804688 284.898438 347.328125 284.898438 C 352.847656 284.898438 357.328125 289.375 357.328125 294.898438 \" style=\"fill-rule:nonzero;fill:rgb(100%,0%,0%);fill-opacity:1;stroke-width:1;stroke-linecap:butt;stroke-linejoin:miter;stroke:rgb(0%,0%,0%);stroke-opacity:1;stroke-miterlimit:10;\"/>\n",
       "<path d=\"M 461.871094 318.550781 C 461.871094 324.074219 457.394531 328.550781 451.871094 328.550781 C 446.347656 328.550781 441.871094 324.074219 441.871094 318.550781 C 441.871094 313.027344 446.347656 308.550781 451.871094 308.550781 C 457.394531 308.550781 461.871094 313.027344 461.871094 318.550781 \" style=\"fill-rule:nonzero;fill:rgb(100%,0%,0%);fill-opacity:1;stroke-width:1;stroke-linecap:butt;stroke-linejoin:miter;stroke:rgb(0%,0%,0%);stroke-opacity:1;stroke-miterlimit:10;\"/>\n",
       "<path d=\"M 434.042969 161.070313 C 434.042969 166.59375 429.566406 171.070313 424.042969 171.070313 C 418.523438 171.070313 414.042969 166.59375 414.042969 161.070313 C 414.042969 155.546875 418.523438 151.070313 424.042969 151.070313 C 429.566406 151.070313 434.042969 155.546875 434.042969 161.070313 \" style=\"fill-rule:nonzero;fill:rgb(100%,0%,0%);fill-opacity:1;stroke-width:1;stroke-linecap:butt;stroke-linejoin:miter;stroke:rgb(0%,0%,0%);stroke-opacity:1;stroke-miterlimit:10;\"/>\n",
       "<path d=\"M 421.496094 99.394531 C 421.496094 104.914063 417.019531 109.394531 411.496094 109.394531 C 405.972656 109.394531 401.496094 104.914063 401.496094 99.394531 C 401.496094 93.871094 405.972656 89.394531 411.496094 89.394531 C 417.019531 89.394531 421.496094 93.871094 421.496094 99.394531 \" style=\"fill-rule:nonzero;fill:rgb(100%,0%,0%);fill-opacity:1;stroke-width:1;stroke-linecap:butt;stroke-linejoin:miter;stroke:rgb(0%,0%,0%);stroke-opacity:1;stroke-miterlimit:10;\"/>\n",
       "<path d=\"M 93.765625 506.570313 C 93.765625 512.09375 89.289063 516.570313 83.765625 516.570313 C 78.242188 516.570313 73.765625 512.09375 73.765625 506.570313 C 73.765625 501.046875 78.242188 496.570313 83.765625 496.570313 C 89.289063 496.570313 93.765625 501.046875 93.765625 506.570313 \" style=\"fill-rule:nonzero;fill:rgb(100%,0%,0%);fill-opacity:1;stroke-width:1;stroke-linecap:butt;stroke-linejoin:miter;stroke:rgb(0%,0%,0%);stroke-opacity:1;stroke-miterlimit:10;\"/>\n",
       "<path d=\"M 282.644531 109.371094 C 282.644531 114.890625 278.167969 119.371094 272.644531 119.371094 C 267.121094 119.371094 262.644531 114.890625 262.644531 109.371094 C 262.644531 103.847656 267.121094 99.371094 272.644531 99.371094 C 278.167969 99.371094 282.644531 103.847656 282.644531 109.371094 \" style=\"fill-rule:nonzero;fill:rgb(100%,0%,0%);fill-opacity:1;stroke-width:1;stroke-linecap:butt;stroke-linejoin:miter;stroke:rgb(0%,0%,0%);stroke-opacity:1;stroke-miterlimit:10;\"/>\n",
       "<path d=\"M 415.554688 299.40625 C 415.554688 304.929688 411.078125 309.40625 405.554688 309.40625 C 400.03125 309.40625 395.554688 304.929688 395.554688 299.40625 C 395.554688 293.882813 400.03125 289.40625 405.554688 289.40625 C 411.078125 289.40625 415.554688 293.882813 415.554688 299.40625 \" style=\"fill-rule:nonzero;fill:rgb(100%,0%,0%);fill-opacity:1;stroke-width:1;stroke-linecap:butt;stroke-linejoin:miter;stroke:rgb(0%,0%,0%);stroke-opacity:1;stroke-miterlimit:10;\"/>\n",
       "<path d=\"M 351.542969 436.359375 C 351.542969 441.878906 347.066406 446.359375 341.542969 446.359375 C 336.019531 446.359375 331.542969 441.878906 331.542969 436.359375 C 331.542969 430.835938 336.019531 426.359375 341.542969 426.359375 C 347.066406 426.359375 351.542969 430.835938 351.542969 436.359375 \" style=\"fill-rule:nonzero;fill:rgb(100%,0%,0%);fill-opacity:1;stroke-width:1;stroke-linecap:butt;stroke-linejoin:miter;stroke:rgb(0%,0%,0%);stroke-opacity:1;stroke-miterlimit:10;\"/>\n",
       "<path d=\"M 338.316406 379.585938 C 338.316406 385.109375 333.839844 389.585938 328.316406 389.585938 C 322.792969 389.585938 318.316406 385.109375 318.316406 379.585938 C 318.316406 374.0625 322.792969 369.585938 328.316406 369.585938 C 333.839844 369.585938 338.316406 374.0625 338.316406 379.585938 \" style=\"fill-rule:nonzero;fill:rgb(100%,0%,0%);fill-opacity:1;stroke-width:1;stroke-linecap:butt;stroke-linejoin:miter;stroke:rgb(0%,0%,0%);stroke-opacity:1;stroke-miterlimit:10;\"/>\n",
       "<path d=\"M 265.132813 309.023438 C 265.132813 314.546875 260.65625 319.023438 255.132813 319.023438 C 249.613281 319.023438 245.132813 314.546875 245.132813 309.023438 C 245.132813 303.5 249.613281 299.023438 255.132813 299.023438 C 260.65625 299.023438 265.132813 303.5 265.132813 309.023438 \" style=\"fill-rule:nonzero;fill:rgb(100%,0%,0%);fill-opacity:1;stroke-width:1;stroke-linecap:butt;stroke-linejoin:miter;stroke:rgb(0%,0%,0%);stroke-opacity:1;stroke-miterlimit:10;\"/>\n",
       "<path d=\"M 305.863281 337.304688 C 305.863281 342.828125 301.386719 347.304688 295.863281 347.304688 C 290.34375 347.304688 285.863281 342.828125 285.863281 337.304688 C 285.863281 331.78125 290.34375 327.304688 295.863281 327.304688 C 301.386719 327.304688 305.863281 331.78125 305.863281 337.304688 \" style=\"fill-rule:nonzero;fill:rgb(100%,0%,0%);fill-opacity:1;stroke-width:1;stroke-linecap:butt;stroke-linejoin:miter;stroke:rgb(0%,0%,0%);stroke-opacity:1;stroke-miterlimit:10;\"/>\n",
       "<path d=\"M 179.1875 262.074219 C 179.1875 267.597656 174.710938 272.074219 169.1875 272.074219 C 163.664063 272.074219 159.1875 267.597656 159.1875 262.074219 C 159.1875 256.554688 163.664063 252.074219 169.1875 252.074219 C 174.710938 252.074219 179.1875 256.554688 179.1875 262.074219 \" style=\"fill-rule:nonzero;fill:rgb(100%,0%,0%);fill-opacity:1;stroke-width:1;stroke-linecap:butt;stroke-linejoin:miter;stroke:rgb(0%,0%,0%);stroke-opacity:1;stroke-miterlimit:10;\"/>\n",
       "<path d=\"M 331.460938 146.164063 C 331.460938 151.683594 326.984375 156.164063 321.460938 156.164063 C 315.941406 156.164063 311.460938 151.683594 311.460938 146.164063 C 311.460938 140.640625 315.941406 136.164063 321.460938 136.164063 C 326.984375 136.164063 331.460938 140.640625 331.460938 146.164063 \" style=\"fill-rule:nonzero;fill:rgb(100%,0%,0%);fill-opacity:1;stroke-width:1;stroke-linecap:butt;stroke-linejoin:miter;stroke:rgb(0%,0%,0%);stroke-opacity:1;stroke-miterlimit:10;\"/>\n",
       "<path d=\"M 378.660156 345.203125 C 378.660156 350.726563 374.183594 355.203125 368.660156 355.203125 C 363.136719 355.203125 358.660156 350.726563 358.660156 345.203125 C 358.660156 339.679688 363.136719 335.203125 368.660156 335.203125 C 374.183594 335.203125 378.660156 339.679688 378.660156 345.203125 \" style=\"fill-rule:nonzero;fill:rgb(100%,0%,0%);fill-opacity:1;stroke-width:1;stroke-linecap:butt;stroke-linejoin:miter;stroke:rgb(0%,0%,0%);stroke-opacity:1;stroke-miterlimit:10;\"/>\n",
       "<path d=\"M 183.855469 216.691406 C 183.855469 222.214844 179.378906 226.691406 173.855469 226.691406 C 168.332031 226.691406 163.855469 222.214844 163.855469 216.691406 C 163.855469 211.167969 168.332031 206.691406 173.855469 206.691406 C 179.378906 206.691406 183.855469 211.167969 183.855469 216.691406 \" style=\"fill-rule:nonzero;fill:rgb(100%,0%,0%);fill-opacity:1;stroke-width:1;stroke-linecap:butt;stroke-linejoin:miter;stroke:rgb(0%,0%,0%);stroke-opacity:1;stroke-miterlimit:10;\"/>\n",
       "<path d=\"M 369.007813 56.101563 C 369.007813 61.625 364.53125 66.101563 359.007813 66.101563 C 353.484375 66.101563 349.007813 61.625 349.007813 56.101563 C 349.007813 50.578125 353.484375 46.101563 359.007813 46.101563 C 364.53125 46.101563 369.007813 50.578125 369.007813 56.101563 \" style=\"fill-rule:nonzero;fill:rgb(100%,0%,0%);fill-opacity:1;stroke-width:1;stroke-linecap:butt;stroke-linejoin:miter;stroke:rgb(0%,0%,0%);stroke-opacity:1;stroke-miterlimit:10;\"/>\n",
       "<path d=\"M 232.953125 93.25 C 232.953125 98.769531 228.476563 103.25 222.953125 103.25 C 217.429688 103.25 212.953125 98.769531 212.953125 93.25 C 212.953125 87.726563 217.429688 83.25 222.953125 83.25 C 228.476563 83.25 232.953125 87.726563 232.953125 93.25 \" style=\"fill-rule:nonzero;fill:rgb(100%,0%,0%);fill-opacity:1;stroke-width:1;stroke-linecap:butt;stroke-linejoin:miter;stroke:rgb(0%,0%,0%);stroke-opacity:1;stroke-miterlimit:10;\"/>\n",
       "<path d=\"M 327.21875 229.988281 C 327.21875 235.511719 322.742188 239.988281 317.21875 239.988281 C 311.695313 239.988281 307.21875 235.511719 307.21875 229.988281 C 307.21875 224.464844 311.695313 219.988281 317.21875 219.988281 C 322.742188 219.988281 327.21875 224.464844 327.21875 229.988281 \" style=\"fill-rule:nonzero;fill:rgb(100%,0%,0%);fill-opacity:1;stroke-width:1;stroke-linecap:butt;stroke-linejoin:miter;stroke:rgb(0%,0%,0%);stroke-opacity:1;stroke-miterlimit:10;\"/>\n",
       "<path d=\"M 223.394531 274.632813 C 223.394531 280.15625 218.917969 284.632813 213.394531 284.632813 C 207.871094 284.632813 203.394531 280.15625 203.394531 274.632813 C 203.394531 269.109375 207.871094 264.632813 213.394531 264.632813 C 218.917969 264.632813 223.394531 269.109375 223.394531 274.632813 \" style=\"fill-rule:nonzero;fill:rgb(100%,0%,0%);fill-opacity:1;stroke-width:1;stroke-linecap:butt;stroke-linejoin:miter;stroke:rgb(0%,0%,0%);stroke-opacity:1;stroke-miterlimit:10;\"/>\n",
       "<path d=\"M 311.683594 50 C 311.683594 55.523438 307.207031 60 301.683594 60 C 296.160156 60 291.683594 55.523438 291.683594 50 C 291.683594 44.476563 296.160156 40 301.683594 40 C 307.207031 40 311.683594 44.476563 311.683594 50 \" style=\"fill-rule:nonzero;fill:rgb(100%,0%,0%);fill-opacity:1;stroke-width:1;stroke-linecap:butt;stroke-linejoin:miter;stroke:rgb(0%,0%,0%);stroke-opacity:1;stroke-miterlimit:10;\"/>\n",
       "<path d=\"M 60 458.605469 C 60 464.128906 55.523438 468.605469 50 468.605469 C 44.476563 468.605469 40 464.128906 40 458.605469 C 40 453.082031 44.476563 448.605469 50 448.605469 C 55.523438 448.605469 60 453.082031 60 458.605469 \" style=\"fill-rule:nonzero;fill:rgb(100%,0%,0%);fill-opacity:1;stroke-width:1;stroke-linecap:butt;stroke-linejoin:miter;stroke:rgb(0%,0%,0%);stroke-opacity:1;stroke-miterlimit:10;\"/>\n",
       "<path d=\"M 334.058594 87.949219 C 334.058594 93.472656 329.582031 97.949219 324.058594 97.949219 C 318.535156 97.949219 314.058594 93.472656 314.058594 87.949219 C 314.058594 82.429688 318.535156 77.949219 324.058594 77.949219 C 329.582031 77.949219 334.058594 82.429688 334.058594 87.949219 \" style=\"fill-rule:nonzero;fill:rgb(100%,0%,0%);fill-opacity:1;stroke-width:1;stroke-linecap:butt;stroke-linejoin:miter;stroke:rgb(0%,0%,0%);stroke-opacity:1;stroke-miterlimit:10;\"/>\n",
       "<path d=\"M 432.058594 356.457031 C 432.058594 361.980469 427.582031 366.457031 422.058594 366.457031 C 416.535156 366.457031 412.058594 361.980469 412.058594 356.457031 C 412.058594 350.933594 416.535156 346.457031 422.058594 346.457031 C 427.582031 346.457031 432.058594 350.933594 432.058594 356.457031 \" style=\"fill-rule:nonzero;fill:rgb(100%,0%,0%);fill-opacity:1;stroke-width:1;stroke-linecap:butt;stroke-linejoin:miter;stroke:rgb(0%,0%,0%);stroke-opacity:1;stroke-miterlimit:10;\"/>\n",
       "<path d=\"M 225.980469 349.078125 C 225.980469 354.601563 221.503906 359.078125 215.980469 359.078125 C 210.457031 359.078125 205.980469 354.601563 205.980469 349.078125 C 205.980469 343.554688 210.457031 339.078125 215.980469 339.078125 C 221.503906 339.078125 225.980469 343.554688 225.980469 349.078125 \" style=\"fill-rule:nonzero;fill:rgb(100%,0%,0%);fill-opacity:1;stroke-width:1;stroke-linecap:butt;stroke-linejoin:miter;stroke:rgb(0%,0%,0%);stroke-opacity:1;stroke-miterlimit:10;\"/>\n",
       "<path d=\"M 382.972656 102.351563 C 382.972656 107.875 378.496094 112.351563 372.972656 112.351563 C 367.449219 112.351563 362.972656 107.875 362.972656 102.351563 C 362.972656 96.828125 367.449219 92.351563 372.972656 92.351563 C 378.496094 92.351563 382.972656 96.828125 382.972656 102.351563 \" style=\"fill-rule:nonzero;fill:rgb(100%,0%,0%);fill-opacity:1;stroke-width:1;stroke-linecap:butt;stroke-linejoin:miter;stroke:rgb(0%,0%,0%);stroke-opacity:1;stroke-miterlimit:10;\"/>\n",
       "<g style=\"fill:rgb(0%,0%,0%);fill-opacity:1;\">\n",
       "  <use x=\"408.25\" xlink:href=\"#glyph0-1\" y=\"278.429688\"/>\n",
       "  <use x=\"415.25\" xlink:href=\"#glyph0-2\" y=\"278.429688\"/>\n",
       "  <use x=\"423.036133\" xlink:href=\"#glyph0-3\" y=\"278.429688\"/>\n",
       "  <use x=\"430.822266\" xlink:href=\"#glyph0-3\" y=\"278.429688\"/>\n",
       "  <use x=\"438.608398\" xlink:href=\"#glyph0-3\" y=\"278.429688\"/>\n",
       "  <use x=\"446.394531\" xlink:href=\"#glyph0-4\" y=\"278.429688\"/>\n",
       "  <use x=\"454.180664\" xlink:href=\"#glyph0-5\" y=\"278.429688\"/>\n",
       "  <use x=\"461.966797\" xlink:href=\"#glyph0-6\" y=\"278.429688\"/>\n",
       "  <use x=\"469.75293\" xlink:href=\"#glyph0-6\" y=\"278.429688\"/>\n",
       "  <use x=\"477.539063\" xlink:href=\"#glyph0-4\" y=\"278.429688\"/>\n",
       "</g>\n",
       "<g style=\"fill:rgb(0%,0%,0%);fill-opacity:1;\">\n",
       "  <use x=\"148.71875\" xlink:href=\"#glyph0-1\" y=\"320.335938\"/>\n",
       "  <use x=\"155.71875\" xlink:href=\"#glyph0-2\" y=\"320.335938\"/>\n",
       "  <use x=\"163.504883\" xlink:href=\"#glyph0-3\" y=\"320.335938\"/>\n",
       "  <use x=\"171.291016\" xlink:href=\"#glyph0-3\" y=\"320.335938\"/>\n",
       "  <use x=\"179.077148\" xlink:href=\"#glyph0-6\" y=\"320.335938\"/>\n",
       "  <use x=\"186.863281\" xlink:href=\"#glyph0-7\" y=\"320.335938\"/>\n",
       "  <use x=\"194.649414\" xlink:href=\"#glyph0-8\" y=\"320.335938\"/>\n",
       "  <use x=\"202.435547\" xlink:href=\"#glyph0-7\" y=\"320.335938\"/>\n",
       "  <use x=\"210.22168\" xlink:href=\"#glyph0-9\" y=\"320.335938\"/>\n",
       "  <use x=\"218.007813\" xlink:href=\"#glyph0-10\" y=\"320.335938\"/>\n",
       "</g>\n",
       "<g style=\"fill:rgb(0%,0%,0%);fill-opacity:1;\">\n",
       "  <use x=\"346.59375\" xlink:href=\"#glyph0-1\" y=\"394.03125\"/>\n",
       "  <use x=\"353.59375\" xlink:href=\"#glyph0-2\" y=\"394.03125\"/>\n",
       "  <use x=\"361.379883\" xlink:href=\"#glyph0-3\" y=\"394.03125\"/>\n",
       "  <use x=\"369.166016\" xlink:href=\"#glyph0-3\" y=\"394.03125\"/>\n",
       "  <use x=\"376.952148\" xlink:href=\"#glyph0-6\" y=\"394.03125\"/>\n",
       "  <use x=\"384.738281\" xlink:href=\"#glyph0-9\" y=\"394.03125\"/>\n",
       "  <use x=\"392.524414\" xlink:href=\"#glyph0-8\" y=\"394.03125\"/>\n",
       "  <use x=\"400.310547\" xlink:href=\"#glyph0-8\" y=\"394.03125\"/>\n",
       "  <use x=\"408.09668\" xlink:href=\"#glyph0-5\" y=\"394.03125\"/>\n",
       "  <use x=\"415.882813\" xlink:href=\"#glyph0-9\" y=\"394.03125\"/>\n",
       "</g>\n",
       "<g style=\"fill:rgb(0%,0%,0%);fill-opacity:1;\">\n",
       "  <use x=\"216.421875\" xlink:href=\"#glyph0-1\" y=\"166.089844\"/>\n",
       "  <use x=\"223.421875\" xlink:href=\"#glyph0-2\" y=\"166.089844\"/>\n",
       "  <use x=\"231.208008\" xlink:href=\"#glyph0-3\" y=\"166.089844\"/>\n",
       "  <use x=\"238.994141\" xlink:href=\"#glyph0-3\" y=\"166.089844\"/>\n",
       "  <use x=\"246.780273\" xlink:href=\"#glyph0-5\" y=\"166.089844\"/>\n",
       "  <use x=\"254.566406\" xlink:href=\"#glyph0-5\" y=\"166.089844\"/>\n",
       "  <use x=\"262.352539\" xlink:href=\"#glyph0-9\" y=\"166.089844\"/>\n",
       "  <use x=\"270.138672\" xlink:href=\"#glyph0-5\" y=\"166.089844\"/>\n",
       "  <use x=\"277.924805\" xlink:href=\"#glyph0-5\" y=\"166.089844\"/>\n",
       "  <use x=\"285.710938\" xlink:href=\"#glyph0-6\" y=\"166.089844\"/>\n",
       "</g>\n",
       "<g style=\"fill:rgb(0%,0%,0%);fill-opacity:1;\">\n",
       "  <use x=\"132.582031\" xlink:href=\"#glyph0-1\" y=\"173.394531\"/>\n",
       "  <use x=\"139.582031\" xlink:href=\"#glyph0-2\" y=\"173.394531\"/>\n",
       "  <use x=\"147.368164\" xlink:href=\"#glyph0-3\" y=\"173.394531\"/>\n",
       "  <use x=\"155.154297\" xlink:href=\"#glyph0-3\" y=\"173.394531\"/>\n",
       "  <use x=\"162.94043\" xlink:href=\"#glyph0-5\" y=\"173.394531\"/>\n",
       "  <use x=\"170.726563\" xlink:href=\"#glyph0-11\" y=\"173.394531\"/>\n",
       "  <use x=\"178.512695\" xlink:href=\"#glyph0-5\" y=\"173.394531\"/>\n",
       "  <use x=\"186.298828\" xlink:href=\"#glyph0-7\" y=\"173.394531\"/>\n",
       "  <use x=\"194.084961\" xlink:href=\"#glyph0-3\" y=\"173.394531\"/>\n",
       "  <use x=\"201.871094\" xlink:href=\"#glyph0-12\" y=\"173.394531\"/>\n",
       "</g>\n",
       "<g style=\"fill:rgb(0%,0%,0%);fill-opacity:1;\">\n",
       "  <use x=\"428.835938\" xlink:href=\"#glyph0-1\" y=\"138.570313\"/>\n",
       "  <use x=\"435.835938\" xlink:href=\"#glyph0-2\" y=\"138.570313\"/>\n",
       "  <use x=\"443.62207\" xlink:href=\"#glyph0-3\" y=\"138.570313\"/>\n",
       "  <use x=\"451.408203\" xlink:href=\"#glyph0-3\" y=\"138.570313\"/>\n",
       "  <use x=\"459.194336\" xlink:href=\"#glyph0-5\" y=\"138.570313\"/>\n",
       "  <use x=\"466.980469\" xlink:href=\"#glyph0-12\" y=\"138.570313\"/>\n",
       "  <use x=\"474.766602\" xlink:href=\"#glyph0-5\" y=\"138.570313\"/>\n",
       "  <use x=\"482.552734\" xlink:href=\"#glyph0-4\" y=\"138.570313\"/>\n",
       "  <use x=\"490.338867\" xlink:href=\"#glyph0-4\" y=\"138.570313\"/>\n",
       "  <use x=\"498.125\" xlink:href=\"#glyph0-6\" y=\"138.570313\"/>\n",
       "</g>\n",
       "<g style=\"fill:rgb(0%,0%,0%);fill-opacity:1;\">\n",
       "  <use x=\"204.320313\" xlink:href=\"#glyph0-1\" y=\"238.015625\"/>\n",
       "  <use x=\"211.320313\" xlink:href=\"#glyph0-2\" y=\"238.015625\"/>\n",
       "  <use x=\"219.106445\" xlink:href=\"#glyph0-3\" y=\"238.015625\"/>\n",
       "  <use x=\"226.892578\" xlink:href=\"#glyph0-3\" y=\"238.015625\"/>\n",
       "  <use x=\"234.678711\" xlink:href=\"#glyph0-9\" y=\"238.015625\"/>\n",
       "  <use x=\"242.464844\" xlink:href=\"#glyph0-9\" y=\"238.015625\"/>\n",
       "  <use x=\"250.250977\" xlink:href=\"#glyph0-4\" y=\"238.015625\"/>\n",
       "  <use x=\"258.037109\" xlink:href=\"#glyph0-10\" y=\"238.015625\"/>\n",
       "  <use x=\"265.823242\" xlink:href=\"#glyph0-9\" y=\"238.015625\"/>\n",
       "  <use x=\"273.609375\" xlink:href=\"#glyph0-8\" y=\"238.015625\"/>\n",
       "</g>\n",
       "<g style=\"fill:rgb(0%,0%,0%);fill-opacity:1;\">\n",
       "  <use x=\"173.292969\" xlink:href=\"#glyph0-1\" y=\"188.675781\"/>\n",
       "  <use x=\"180.292969\" xlink:href=\"#glyph0-2\" y=\"188.675781\"/>\n",
       "  <use x=\"188.079102\" xlink:href=\"#glyph0-3\" y=\"188.675781\"/>\n",
       "  <use x=\"195.865234\" xlink:href=\"#glyph0-3\" y=\"188.675781\"/>\n",
       "  <use x=\"203.651367\" xlink:href=\"#glyph0-8\" y=\"188.675781\"/>\n",
       "  <use x=\"211.4375\" xlink:href=\"#glyph0-9\" y=\"188.675781\"/>\n",
       "  <use x=\"219.223633\" xlink:href=\"#glyph0-5\" y=\"188.675781\"/>\n",
       "  <use x=\"227.009766\" xlink:href=\"#glyph0-8\" y=\"188.675781\"/>\n",
       "  <use x=\"234.795898\" xlink:href=\"#glyph0-6\" y=\"188.675781\"/>\n",
       "  <use x=\"242.582031\" xlink:href=\"#glyph0-11\" y=\"188.675781\"/>\n",
       "</g>\n",
       "<g style=\"fill:rgb(0%,0%,0%);fill-opacity:1;\">\n",
       "  <use x=\"208.511719\" xlink:href=\"#glyph0-1\" y=\"384.796875\"/>\n",
       "  <use x=\"215.511719\" xlink:href=\"#glyph0-2\" y=\"384.796875\"/>\n",
       "  <use x=\"223.297852\" xlink:href=\"#glyph0-3\" y=\"384.796875\"/>\n",
       "  <use x=\"231.083984\" xlink:href=\"#glyph0-3\" y=\"384.796875\"/>\n",
       "  <use x=\"238.870117\" xlink:href=\"#glyph0-4\" y=\"384.796875\"/>\n",
       "  <use x=\"246.65625\" xlink:href=\"#glyph0-6\" y=\"384.796875\"/>\n",
       "  <use x=\"254.442383\" xlink:href=\"#glyph0-12\" y=\"384.796875\"/>\n",
       "  <use x=\"262.228516\" xlink:href=\"#glyph0-5\" y=\"384.796875\"/>\n",
       "  <use x=\"270.014648\" xlink:href=\"#glyph0-6\" y=\"384.796875\"/>\n",
       "  <use x=\"277.800781\" xlink:href=\"#glyph0-5\" y=\"384.796875\"/>\n",
       "</g>\n",
       "<g style=\"fill:rgb(0%,0%,0%);fill-opacity:1;\">\n",
       "  <use x=\"406.492188\" xlink:href=\"#glyph0-1\" y=\"202.089844\"/>\n",
       "  <use x=\"413.492188\" xlink:href=\"#glyph0-2\" y=\"202.089844\"/>\n",
       "  <use x=\"421.27832\" xlink:href=\"#glyph0-3\" y=\"202.089844\"/>\n",
       "  <use x=\"429.064453\" xlink:href=\"#glyph0-10\" y=\"202.089844\"/>\n",
       "  <use x=\"436.850586\" xlink:href=\"#glyph0-7\" y=\"202.089844\"/>\n",
       "  <use x=\"444.636719\" xlink:href=\"#glyph0-10\" y=\"202.089844\"/>\n",
       "  <use x=\"452.422852\" xlink:href=\"#glyph0-11\" y=\"202.089844\"/>\n",
       "  <use x=\"460.208984\" xlink:href=\"#glyph0-12\" y=\"202.089844\"/>\n",
       "  <use x=\"467.995117\" xlink:href=\"#glyph0-4\" y=\"202.089844\"/>\n",
       "  <use x=\"475.78125\" xlink:href=\"#glyph0-5\" y=\"202.089844\"/>\n",
       "</g>\n",
       "<g style=\"fill:rgb(0%,0%,0%);fill-opacity:1;\">\n",
       "  <use x=\"319.3125\" xlink:href=\"#glyph0-1\" y=\"556.53125\"/>\n",
       "  <use x=\"326.3125\" xlink:href=\"#glyph0-2\" y=\"556.53125\"/>\n",
       "  <use x=\"334.098633\" xlink:href=\"#glyph0-3\" y=\"556.53125\"/>\n",
       "  <use x=\"341.884766\" xlink:href=\"#glyph0-10\" y=\"556.53125\"/>\n",
       "  <use x=\"349.670898\" xlink:href=\"#glyph0-7\" y=\"556.53125\"/>\n",
       "  <use x=\"357.457031\" xlink:href=\"#glyph0-4\" y=\"556.53125\"/>\n",
       "  <use x=\"365.243164\" xlink:href=\"#glyph0-11\" y=\"556.53125\"/>\n",
       "  <use x=\"373.029297\" xlink:href=\"#glyph0-3\" y=\"556.53125\"/>\n",
       "  <use x=\"380.81543\" xlink:href=\"#glyph0-4\" y=\"556.53125\"/>\n",
       "  <use x=\"388.601563\" xlink:href=\"#glyph0-4\" y=\"556.53125\"/>\n",
       "</g>\n",
       "<g style=\"fill:rgb(0%,0%,0%);fill-opacity:1;\">\n",
       "  <use x=\"159.007813\" xlink:href=\"#glyph0-1\" y=\"132.886719\"/>\n",
       "  <use x=\"166.007813\" xlink:href=\"#glyph0-2\" y=\"132.886719\"/>\n",
       "  <use x=\"173.793945\" xlink:href=\"#glyph0-3\" y=\"132.886719\"/>\n",
       "  <use x=\"181.580078\" xlink:href=\"#glyph0-7\" y=\"132.886719\"/>\n",
       "  <use x=\"189.366211\" xlink:href=\"#glyph0-10\" y=\"132.886719\"/>\n",
       "  <use x=\"197.152344\" xlink:href=\"#glyph0-4\" y=\"132.886719\"/>\n",
       "  <use x=\"204.938477\" xlink:href=\"#glyph0-6\" y=\"132.886719\"/>\n",
       "  <use x=\"212.724609\" xlink:href=\"#glyph0-8\" y=\"132.886719\"/>\n",
       "  <use x=\"220.510742\" xlink:href=\"#glyph0-11\" y=\"132.886719\"/>\n",
       "  <use x=\"228.296875\" xlink:href=\"#glyph0-8\" y=\"132.886719\"/>\n",
       "</g>\n",
       "<g style=\"fill:rgb(0%,0%,0%);fill-opacity:1;\">\n",
       "  <use x=\"362.410156\" xlink:href=\"#glyph0-1\" y=\"239.71875\"/>\n",
       "  <use x=\"369.410156\" xlink:href=\"#glyph0-2\" y=\"239.71875\"/>\n",
       "  <use x=\"377.196289\" xlink:href=\"#glyph0-3\" y=\"239.71875\"/>\n",
       "  <use x=\"384.982422\" xlink:href=\"#glyph0-7\" y=\"239.71875\"/>\n",
       "  <use x=\"392.768555\" xlink:href=\"#glyph0-7\" y=\"239.71875\"/>\n",
       "  <use x=\"400.554688\" xlink:href=\"#glyph0-7\" y=\"239.71875\"/>\n",
       "  <use x=\"408.34082\" xlink:href=\"#glyph0-9\" y=\"239.71875\"/>\n",
       "  <use x=\"416.126953\" xlink:href=\"#glyph0-9\" y=\"239.71875\"/>\n",
       "  <use x=\"423.913086\" xlink:href=\"#glyph0-12\" y=\"239.71875\"/>\n",
       "  <use x=\"431.699219\" xlink:href=\"#glyph0-12\" y=\"239.71875\"/>\n",
       "</g>\n",
       "<g style=\"fill:rgb(0%,0%,0%);fill-opacity:1;\">\n",
       "  <use x=\"512.472656\" xlink:href=\"#glyph0-1\" y=\"88.035156\"/>\n",
       "  <use x=\"519.472656\" xlink:href=\"#glyph0-2\" y=\"88.035156\"/>\n",
       "  <use x=\"527.258789\" xlink:href=\"#glyph0-3\" y=\"88.035156\"/>\n",
       "  <use x=\"535.044922\" xlink:href=\"#glyph0-7\" y=\"88.035156\"/>\n",
       "  <use x=\"542.831055\" xlink:href=\"#glyph0-11\" y=\"88.035156\"/>\n",
       "  <use x=\"550.617188\" xlink:href=\"#glyph0-3\" y=\"88.035156\"/>\n",
       "  <use x=\"558.40332\" xlink:href=\"#glyph0-11\" y=\"88.035156\"/>\n",
       "  <use x=\"566.189453\" xlink:href=\"#glyph0-3\" y=\"88.035156\"/>\n",
       "  <use x=\"573.975586\" xlink:href=\"#glyph0-11\" y=\"88.035156\"/>\n",
       "  <use x=\"581.761719\" xlink:href=\"#glyph0-10\" y=\"88.035156\"/>\n",
       "</g>\n",
       "<g style=\"fill:rgb(0%,0%,0%);fill-opacity:1;\">\n",
       "  <use x=\"339.058594\" xlink:href=\"#glyph0-1\" y=\"171.476563\"/>\n",
       "  <use x=\"346.058594\" xlink:href=\"#glyph0-2\" y=\"171.476563\"/>\n",
       "  <use x=\"353.844727\" xlink:href=\"#glyph0-3\" y=\"171.476563\"/>\n",
       "  <use x=\"361.630859\" xlink:href=\"#glyph0-7\" y=\"171.476563\"/>\n",
       "  <use x=\"369.416992\" xlink:href=\"#glyph0-4\" y=\"171.476563\"/>\n",
       "  <use x=\"377.203125\" xlink:href=\"#glyph0-3\" y=\"171.476563\"/>\n",
       "  <use x=\"384.989258\" xlink:href=\"#glyph0-6\" y=\"171.476563\"/>\n",
       "  <use x=\"392.775391\" xlink:href=\"#glyph0-4\" y=\"171.476563\"/>\n",
       "  <use x=\"400.561523\" xlink:href=\"#glyph0-10\" y=\"171.476563\"/>\n",
       "  <use x=\"408.347656\" xlink:href=\"#glyph0-12\" y=\"171.476563\"/>\n",
       "</g>\n",
       "<g style=\"fill:rgb(0%,0%,0%);fill-opacity:1;\">\n",
       "  <use x=\"218.964844\" xlink:href=\"#glyph0-1\" y=\"70.269531\"/>\n",
       "  <use x=\"225.964844\" xlink:href=\"#glyph0-2\" y=\"70.269531\"/>\n",
       "  <use x=\"233.750977\" xlink:href=\"#glyph0-3\" y=\"70.269531\"/>\n",
       "  <use x=\"241.537109\" xlink:href=\"#glyph0-7\" y=\"70.269531\"/>\n",
       "  <use x=\"249.323242\" xlink:href=\"#glyph0-12\" y=\"70.269531\"/>\n",
       "  <use x=\"257.109375\" xlink:href=\"#glyph0-11\" y=\"70.269531\"/>\n",
       "  <use x=\"264.895508\" xlink:href=\"#glyph0-12\" y=\"70.269531\"/>\n",
       "  <use x=\"272.681641\" xlink:href=\"#glyph0-5\" y=\"70.269531\"/>\n",
       "  <use x=\"280.467773\" xlink:href=\"#glyph0-9\" y=\"70.269531\"/>\n",
       "  <use x=\"288.253906\" xlink:href=\"#glyph0-11\" y=\"70.269531\"/>\n",
       "</g>\n",
       "<g style=\"fill:rgb(0%,0%,0%);fill-opacity:1;\">\n",
       "  <use x=\"430.953125\" xlink:href=\"#glyph0-1\" y=\"243.046875\"/>\n",
       "  <use x=\"437.953125\" xlink:href=\"#glyph0-2\" y=\"243.046875\"/>\n",
       "  <use x=\"445.739258\" xlink:href=\"#glyph0-3\" y=\"243.046875\"/>\n",
       "  <use x=\"453.525391\" xlink:href=\"#glyph0-6\" y=\"243.046875\"/>\n",
       "  <use x=\"461.311523\" xlink:href=\"#glyph0-6\" y=\"243.046875\"/>\n",
       "  <use x=\"469.097656\" xlink:href=\"#glyph0-12\" y=\"243.046875\"/>\n",
       "  <use x=\"476.883789\" xlink:href=\"#glyph0-5\" y=\"243.046875\"/>\n",
       "  <use x=\"484.669922\" xlink:href=\"#glyph0-5\" y=\"243.046875\"/>\n",
       "  <use x=\"492.456055\" xlink:href=\"#glyph0-3\" y=\"243.046875\"/>\n",
       "  <use x=\"500.242188\" xlink:href=\"#glyph0-10\" y=\"243.046875\"/>\n",
       "</g>\n",
       "<g style=\"fill:rgb(0%,0%,0%);fill-opacity:1;\">\n",
       "  <use x=\"245.851563\" xlink:href=\"#glyph0-1\" y=\"403.046875\"/>\n",
       "  <use x=\"252.851563\" xlink:href=\"#glyph0-2\" y=\"403.046875\"/>\n",
       "  <use x=\"260.637695\" xlink:href=\"#glyph0-3\" y=\"403.046875\"/>\n",
       "  <use x=\"268.423828\" xlink:href=\"#glyph0-6\" y=\"403.046875\"/>\n",
       "  <use x=\"276.209961\" xlink:href=\"#glyph0-8\" y=\"403.046875\"/>\n",
       "  <use x=\"283.996094\" xlink:href=\"#glyph0-8\" y=\"403.046875\"/>\n",
       "  <use x=\"291.782227\" xlink:href=\"#glyph0-5\" y=\"403.046875\"/>\n",
       "  <use x=\"299.568359\" xlink:href=\"#glyph0-4\" y=\"403.046875\"/>\n",
       "  <use x=\"307.354492\" xlink:href=\"#glyph0-3\" y=\"403.046875\"/>\n",
       "  <use x=\"315.140625\" xlink:href=\"#glyph0-3\" y=\"403.046875\"/>\n",
       "</g>\n",
       "<g style=\"fill:rgb(0%,0%,0%);fill-opacity:1;\">\n",
       "  <use x=\"308.824219\" xlink:href=\"#glyph0-1\" y=\"301.429688\"/>\n",
       "  <use x=\"315.824219\" xlink:href=\"#glyph0-2\" y=\"301.429688\"/>\n",
       "  <use x=\"323.610352\" xlink:href=\"#glyph0-3\" y=\"301.429688\"/>\n",
       "  <use x=\"331.396484\" xlink:href=\"#glyph0-6\" y=\"301.429688\"/>\n",
       "  <use x=\"339.182617\" xlink:href=\"#glyph0-11\" y=\"301.429688\"/>\n",
       "  <use x=\"346.96875\" xlink:href=\"#glyph0-8\" y=\"301.429688\"/>\n",
       "  <use x=\"354.754883\" xlink:href=\"#glyph0-6\" y=\"301.429688\"/>\n",
       "  <use x=\"362.541016\" xlink:href=\"#glyph0-9\" y=\"301.429688\"/>\n",
       "  <use x=\"370.327148\" xlink:href=\"#glyph0-3\" y=\"301.429688\"/>\n",
       "  <use x=\"378.113281\" xlink:href=\"#glyph0-4\" y=\"301.429688\"/>\n",
       "</g>\n",
       "<g style=\"fill:rgb(0%,0%,0%);fill-opacity:1;\">\n",
       "  <use x=\"414.347656\" xlink:href=\"#glyph0-1\" y=\"325.082031\"/>\n",
       "  <use x=\"421.347656\" xlink:href=\"#glyph0-2\" y=\"325.082031\"/>\n",
       "  <use x=\"429.133789\" xlink:href=\"#glyph0-3\" y=\"325.082031\"/>\n",
       "  <use x=\"436.919922\" xlink:href=\"#glyph0-6\" y=\"325.082031\"/>\n",
       "  <use x=\"444.706055\" xlink:href=\"#glyph0-4\" y=\"325.082031\"/>\n",
       "  <use x=\"452.492188\" xlink:href=\"#glyph0-10\" y=\"325.082031\"/>\n",
       "  <use x=\"460.27832\" xlink:href=\"#glyph0-9\" y=\"325.082031\"/>\n",
       "  <use x=\"468.064453\" xlink:href=\"#glyph0-9\" y=\"325.082031\"/>\n",
       "  <use x=\"475.850586\" xlink:href=\"#glyph0-11\" y=\"325.082031\"/>\n",
       "  <use x=\"483.636719\" xlink:href=\"#glyph0-10\" y=\"325.082031\"/>\n",
       "</g>\n",
       "<g style=\"fill:rgb(0%,0%,0%);fill-opacity:1;\">\n",
       "  <use x=\"385.554688\" xlink:href=\"#glyph0-1\" y=\"167.601563\"/>\n",
       "  <use x=\"392.554688\" xlink:href=\"#glyph0-2\" y=\"167.601563\"/>\n",
       "  <use x=\"400.34082\" xlink:href=\"#glyph0-3\" y=\"167.601563\"/>\n",
       "  <use x=\"408.126953\" xlink:href=\"#glyph0-5\" y=\"167.601563\"/>\n",
       "  <use x=\"415.913086\" xlink:href=\"#glyph0-3\" y=\"167.601563\"/>\n",
       "  <use x=\"423.699219\" xlink:href=\"#glyph0-7\" y=\"167.601563\"/>\n",
       "  <use x=\"431.485352\" xlink:href=\"#glyph0-11\" y=\"167.601563\"/>\n",
       "  <use x=\"439.271484\" xlink:href=\"#glyph0-11\" y=\"167.601563\"/>\n",
       "  <use x=\"447.057617\" xlink:href=\"#glyph0-6\" y=\"167.601563\"/>\n",
       "  <use x=\"454.84375\" xlink:href=\"#glyph0-8\" y=\"167.601563\"/>\n",
       "</g>\n",
       "<g style=\"fill:rgb(0%,0%,0%);fill-opacity:1;\">\n",
       "  <use x=\"373.019531\" xlink:href=\"#glyph0-1\" y=\"105.925781\"/>\n",
       "  <use x=\"380.019531\" xlink:href=\"#glyph0-2\" y=\"105.925781\"/>\n",
       "  <use x=\"387.805664\" xlink:href=\"#glyph0-3\" y=\"105.925781\"/>\n",
       "  <use x=\"395.591797\" xlink:href=\"#glyph0-5\" y=\"105.925781\"/>\n",
       "  <use x=\"403.37793\" xlink:href=\"#glyph0-3\" y=\"105.925781\"/>\n",
       "  <use x=\"411.164063\" xlink:href=\"#glyph0-7\" y=\"105.925781\"/>\n",
       "  <use x=\"418.950195\" xlink:href=\"#glyph0-4\" y=\"105.925781\"/>\n",
       "  <use x=\"426.736328\" xlink:href=\"#glyph0-5\" y=\"105.925781\"/>\n",
       "  <use x=\"434.522461\" xlink:href=\"#glyph0-9\" y=\"105.925781\"/>\n",
       "  <use x=\"442.308594\" xlink:href=\"#glyph0-3\" y=\"105.925781\"/>\n",
       "</g>\n",
       "<g style=\"fill:rgb(0%,0%,0%);fill-opacity:1;\">\n",
       "  <use x=\"45.273438\" xlink:href=\"#glyph0-1\" y=\"513.101563\"/>\n",
       "  <use x=\"52.273438\" xlink:href=\"#glyph0-2\" y=\"513.101563\"/>\n",
       "  <use x=\"60.05957\" xlink:href=\"#glyph0-3\" y=\"513.101563\"/>\n",
       "  <use x=\"67.845703\" xlink:href=\"#glyph0-5\" y=\"513.101563\"/>\n",
       "  <use x=\"75.631836\" xlink:href=\"#glyph0-10\" y=\"513.101563\"/>\n",
       "  <use x=\"83.417969\" xlink:href=\"#glyph0-7\" y=\"513.101563\"/>\n",
       "  <use x=\"91.204102\" xlink:href=\"#glyph0-11\" y=\"513.101563\"/>\n",
       "  <use x=\"98.990234\" xlink:href=\"#glyph0-9\" y=\"513.101563\"/>\n",
       "  <use x=\"106.776367\" xlink:href=\"#glyph0-4\" y=\"513.101563\"/>\n",
       "  <use x=\"114.5625\" xlink:href=\"#glyph0-11\" y=\"513.101563\"/>\n",
       "</g>\n",
       "<g style=\"fill:rgb(0%,0%,0%);fill-opacity:1;\">\n",
       "  <use x=\"234.203125\" xlink:href=\"#glyph0-1\" y=\"115.902344\"/>\n",
       "  <use x=\"241.203125\" xlink:href=\"#glyph0-2\" y=\"115.902344\"/>\n",
       "  <use x=\"248.989258\" xlink:href=\"#glyph0-3\" y=\"115.902344\"/>\n",
       "  <use x=\"256.775391\" xlink:href=\"#glyph0-5\" y=\"115.902344\"/>\n",
       "  <use x=\"264.561523\" xlink:href=\"#glyph0-7\" y=\"115.902344\"/>\n",
       "  <use x=\"272.347656\" xlink:href=\"#glyph0-9\" y=\"115.902344\"/>\n",
       "  <use x=\"280.133789\" xlink:href=\"#glyph0-12\" y=\"115.902344\"/>\n",
       "  <use x=\"287.919922\" xlink:href=\"#glyph0-11\" y=\"115.902344\"/>\n",
       "  <use x=\"295.706055\" xlink:href=\"#glyph0-9\" y=\"115.902344\"/>\n",
       "  <use x=\"303.492188\" xlink:href=\"#glyph0-7\" y=\"115.902344\"/>\n",
       "</g>\n",
       "<g style=\"fill:rgb(0%,0%,0%);fill-opacity:1;\">\n",
       "  <use x=\"367.066406\" xlink:href=\"#glyph0-1\" y=\"305.9375\"/>\n",
       "  <use x=\"374.066406\" xlink:href=\"#glyph0-2\" y=\"305.9375\"/>\n",
       "  <use x=\"381.852539\" xlink:href=\"#glyph0-3\" y=\"305.9375\"/>\n",
       "  <use x=\"389.638672\" xlink:href=\"#glyph0-5\" y=\"305.9375\"/>\n",
       "  <use x=\"397.424805\" xlink:href=\"#glyph0-5\" y=\"305.9375\"/>\n",
       "  <use x=\"405.210938\" xlink:href=\"#glyph0-4\" y=\"305.9375\"/>\n",
       "  <use x=\"412.99707\" xlink:href=\"#glyph0-10\" y=\"305.9375\"/>\n",
       "  <use x=\"420.783203\" xlink:href=\"#glyph0-3\" y=\"305.9375\"/>\n",
       "  <use x=\"428.569336\" xlink:href=\"#glyph0-12\" y=\"305.9375\"/>\n",
       "  <use x=\"436.355469\" xlink:href=\"#glyph0-8\" y=\"305.9375\"/>\n",
       "</g>\n",
       "<g style=\"fill:rgb(0%,0%,0%);fill-opacity:1;\">\n",
       "  <use x=\"304.015625\" xlink:href=\"#glyph0-1\" y=\"442.890625\"/>\n",
       "  <use x=\"311.015625\" xlink:href=\"#glyph0-2\" y=\"442.890625\"/>\n",
       "  <use x=\"318.801758\" xlink:href=\"#glyph0-3\" y=\"442.890625\"/>\n",
       "  <use x=\"326.587891\" xlink:href=\"#glyph0-5\" y=\"442.890625\"/>\n",
       "  <use x=\"334.374023\" xlink:href=\"#glyph0-11\" y=\"442.890625\"/>\n",
       "  <use x=\"342.160156\" xlink:href=\"#glyph0-6\" y=\"442.890625\"/>\n",
       "  <use x=\"349.946289\" xlink:href=\"#glyph0-11\" y=\"442.890625\"/>\n",
       "  <use x=\"357.732422\" xlink:href=\"#glyph0-10\" y=\"442.890625\"/>\n",
       "  <use x=\"365.518555\" xlink:href=\"#glyph0-6\" y=\"442.890625\"/>\n",
       "  <use x=\"373.304688\" xlink:href=\"#glyph0-10\" y=\"442.890625\"/>\n",
       "</g>\n",
       "<g style=\"fill:rgb(0%,0%,0%);fill-opacity:1;\">\n",
       "  <use x=\"289.84375\" xlink:href=\"#glyph0-1\" y=\"386.117188\"/>\n",
       "  <use x=\"296.84375\" xlink:href=\"#glyph0-2\" y=\"386.117188\"/>\n",
       "  <use x=\"304.629883\" xlink:href=\"#glyph0-3\" y=\"386.117188\"/>\n",
       "  <use x=\"312.416016\" xlink:href=\"#glyph0-9\" y=\"386.117188\"/>\n",
       "  <use x=\"320.202148\" xlink:href=\"#glyph0-7\" y=\"386.117188\"/>\n",
       "  <use x=\"327.988281\" xlink:href=\"#glyph0-7\" y=\"386.117188\"/>\n",
       "  <use x=\"335.774414\" xlink:href=\"#glyph0-4\" y=\"386.117188\"/>\n",
       "  <use x=\"343.560547\" xlink:href=\"#glyph0-12\" y=\"386.117188\"/>\n",
       "  <use x=\"351.34668\" xlink:href=\"#glyph0-8\" y=\"386.117188\"/>\n",
       "  <use x=\"359.132813\" xlink:href=\"#glyph0-5\" y=\"386.117188\"/>\n",
       "</g>\n",
       "<g style=\"fill:rgb(0%,0%,0%);fill-opacity:1;\">\n",
       "  <use x=\"216.628906\" xlink:href=\"#glyph0-1\" y=\"315.554688\"/>\n",
       "  <use x=\"223.628906\" xlink:href=\"#glyph0-2\" y=\"315.554688\"/>\n",
       "  <use x=\"231.415039\" xlink:href=\"#glyph0-3\" y=\"315.554688\"/>\n",
       "  <use x=\"239.201172\" xlink:href=\"#glyph0-9\" y=\"315.554688\"/>\n",
       "  <use x=\"246.987305\" xlink:href=\"#glyph0-6\" y=\"315.554688\"/>\n",
       "  <use x=\"254.773438\" xlink:href=\"#glyph0-8\" y=\"315.554688\"/>\n",
       "  <use x=\"262.55957\" xlink:href=\"#glyph0-9\" y=\"315.554688\"/>\n",
       "  <use x=\"270.345703\" xlink:href=\"#glyph0-11\" y=\"315.554688\"/>\n",
       "  <use x=\"278.131836\" xlink:href=\"#glyph0-7\" y=\"315.554688\"/>\n",
       "  <use x=\"285.917969\" xlink:href=\"#glyph0-12\" y=\"315.554688\"/>\n",
       "</g>\n",
       "<g style=\"fill:rgb(0%,0%,0%);fill-opacity:1;\">\n",
       "  <use x=\"257.390625\" xlink:href=\"#glyph0-1\" y=\"343.835938\"/>\n",
       "  <use x=\"264.390625\" xlink:href=\"#glyph0-2\" y=\"343.835938\"/>\n",
       "  <use x=\"272.176758\" xlink:href=\"#glyph0-3\" y=\"343.835938\"/>\n",
       "  <use x=\"279.962891\" xlink:href=\"#glyph0-9\" y=\"343.835938\"/>\n",
       "  <use x=\"287.749023\" xlink:href=\"#glyph0-6\" y=\"343.835938\"/>\n",
       "  <use x=\"295.535156\" xlink:href=\"#glyph0-11\" y=\"343.835938\"/>\n",
       "  <use x=\"303.321289\" xlink:href=\"#glyph0-11\" y=\"343.835938\"/>\n",
       "  <use x=\"311.107422\" xlink:href=\"#glyph0-11\" y=\"343.835938\"/>\n",
       "  <use x=\"318.893555\" xlink:href=\"#glyph0-9\" y=\"343.835938\"/>\n",
       "  <use x=\"326.679688\" xlink:href=\"#glyph0-5\" y=\"343.835938\"/>\n",
       "</g>\n",
       "<g style=\"fill:rgb(0%,0%,0%);fill-opacity:1;\">\n",
       "  <use x=\"130.65625\" xlink:href=\"#glyph0-1\" y=\"268.605469\"/>\n",
       "  <use x=\"137.65625\" xlink:href=\"#glyph0-2\" y=\"268.605469\"/>\n",
       "  <use x=\"145.442383\" xlink:href=\"#glyph0-3\" y=\"268.605469\"/>\n",
       "  <use x=\"153.228516\" xlink:href=\"#glyph0-9\" y=\"268.605469\"/>\n",
       "  <use x=\"161.014648\" xlink:href=\"#glyph0-12\" y=\"268.605469\"/>\n",
       "  <use x=\"168.800781\" xlink:href=\"#glyph0-7\" y=\"268.605469\"/>\n",
       "  <use x=\"176.586914\" xlink:href=\"#glyph0-10\" y=\"268.605469\"/>\n",
       "  <use x=\"184.373047\" xlink:href=\"#glyph0-12\" y=\"268.605469\"/>\n",
       "  <use x=\"192.15918\" xlink:href=\"#glyph0-3\" y=\"268.605469\"/>\n",
       "  <use x=\"199.945313\" xlink:href=\"#glyph0-9\" y=\"268.605469\"/>\n",
       "</g>\n",
       "<g style=\"fill:rgb(0%,0%,0%);fill-opacity:1;\">\n",
       "  <use x=\"282.96875\" xlink:href=\"#glyph0-1\" y=\"152.695313\"/>\n",
       "  <use x=\"289.96875\" xlink:href=\"#glyph0-2\" y=\"152.695313\"/>\n",
       "  <use x=\"297.754883\" xlink:href=\"#glyph0-3\" y=\"152.695313\"/>\n",
       "  <use x=\"305.541016\" xlink:href=\"#glyph0-8\" y=\"152.695313\"/>\n",
       "  <use x=\"313.327148\" xlink:href=\"#glyph0-3\" y=\"152.695313\"/>\n",
       "  <use x=\"321.113281\" xlink:href=\"#glyph0-9\" y=\"152.695313\"/>\n",
       "  <use x=\"328.899414\" xlink:href=\"#glyph0-9\" y=\"152.695313\"/>\n",
       "  <use x=\"336.685547\" xlink:href=\"#glyph0-4\" y=\"152.695313\"/>\n",
       "  <use x=\"344.47168\" xlink:href=\"#glyph0-11\" y=\"152.695313\"/>\n",
       "  <use x=\"352.257813\" xlink:href=\"#glyph0-6\" y=\"152.695313\"/>\n",
       "</g>\n",
       "<g style=\"fill:rgb(0%,0%,0%);fill-opacity:1;\">\n",
       "  <use x=\"330.183594\" xlink:href=\"#glyph0-1\" y=\"351.734375\"/>\n",
       "  <use x=\"337.183594\" xlink:href=\"#glyph0-2\" y=\"351.734375\"/>\n",
       "  <use x=\"344.969727\" xlink:href=\"#glyph0-3\" y=\"351.734375\"/>\n",
       "  <use x=\"352.755859\" xlink:href=\"#glyph0-8\" y=\"351.734375\"/>\n",
       "  <use x=\"360.541992\" xlink:href=\"#glyph0-10\" y=\"351.734375\"/>\n",
       "  <use x=\"368.328125\" xlink:href=\"#glyph0-8\" y=\"351.734375\"/>\n",
       "  <use x=\"376.114258\" xlink:href=\"#glyph0-8\" y=\"351.734375\"/>\n",
       "  <use x=\"383.900391\" xlink:href=\"#glyph0-5\" y=\"351.734375\"/>\n",
       "  <use x=\"391.686523\" xlink:href=\"#glyph0-12\" y=\"351.734375\"/>\n",
       "  <use x=\"399.472656\" xlink:href=\"#glyph0-3\" y=\"351.734375\"/>\n",
       "</g>\n",
       "<g style=\"fill:rgb(0%,0%,0%);fill-opacity:1;\">\n",
       "  <use x=\"135.351563\" xlink:href=\"#glyph0-1\" y=\"223.222656\"/>\n",
       "  <use x=\"142.351563\" xlink:href=\"#glyph0-2\" y=\"223.222656\"/>\n",
       "  <use x=\"150.137695\" xlink:href=\"#glyph0-3\" y=\"223.222656\"/>\n",
       "  <use x=\"157.923828\" xlink:href=\"#glyph0-8\" y=\"223.222656\"/>\n",
       "  <use x=\"165.709961\" xlink:href=\"#glyph0-5\" y=\"223.222656\"/>\n",
       "  <use x=\"173.496094\" xlink:href=\"#glyph0-3\" y=\"223.222656\"/>\n",
       "  <use x=\"181.282227\" xlink:href=\"#glyph0-10\" y=\"223.222656\"/>\n",
       "  <use x=\"189.068359\" xlink:href=\"#glyph0-12\" y=\"223.222656\"/>\n",
       "  <use x=\"196.854492\" xlink:href=\"#glyph0-11\" y=\"223.222656\"/>\n",
       "  <use x=\"204.640625\" xlink:href=\"#glyph0-12\" y=\"223.222656\"/>\n",
       "</g>\n",
       "<g style=\"fill:rgb(0%,0%,0%);fill-opacity:1;\">\n",
       "  <use x=\"320.515625\" xlink:href=\"#glyph0-1\" y=\"62.632813\"/>\n",
       "  <use x=\"327.515625\" xlink:href=\"#glyph0-2\" y=\"62.632813\"/>\n",
       "  <use x=\"335.301758\" xlink:href=\"#glyph0-3\" y=\"62.632813\"/>\n",
       "  <use x=\"343.087891\" xlink:href=\"#glyph0-8\" y=\"62.632813\"/>\n",
       "  <use x=\"350.874023\" xlink:href=\"#glyph0-5\" y=\"62.632813\"/>\n",
       "  <use x=\"358.660156\" xlink:href=\"#glyph0-6\" y=\"62.632813\"/>\n",
       "  <use x=\"366.446289\" xlink:href=\"#glyph0-7\" y=\"62.632813\"/>\n",
       "  <use x=\"374.232422\" xlink:href=\"#glyph0-3\" y=\"62.632813\"/>\n",
       "  <use x=\"382.018555\" xlink:href=\"#glyph0-6\" y=\"62.632813\"/>\n",
       "  <use x=\"389.804688\" xlink:href=\"#glyph0-8\" y=\"62.632813\"/>\n",
       "</g>\n",
       "<g style=\"fill:rgb(0%,0%,0%);fill-opacity:1;\">\n",
       "  <use x=\"184.449219\" xlink:href=\"#glyph0-1\" y=\"99.78125\"/>\n",
       "  <use x=\"191.449219\" xlink:href=\"#glyph0-2\" y=\"99.78125\"/>\n",
       "  <use x=\"199.235352\" xlink:href=\"#glyph0-3\" y=\"99.78125\"/>\n",
       "  <use x=\"207.021484\" xlink:href=\"#glyph0-8\" y=\"99.78125\"/>\n",
       "  <use x=\"214.807617\" xlink:href=\"#glyph0-11\" y=\"99.78125\"/>\n",
       "  <use x=\"222.59375\" xlink:href=\"#glyph0-8\" y=\"99.78125\"/>\n",
       "  <use x=\"230.379883\" xlink:href=\"#glyph0-4\" y=\"99.78125\"/>\n",
       "  <use x=\"238.166016\" xlink:href=\"#glyph0-3\" y=\"99.78125\"/>\n",
       "  <use x=\"245.952148\" xlink:href=\"#glyph0-11\" y=\"99.78125\"/>\n",
       "  <use x=\"253.738281\" xlink:href=\"#glyph0-12\" y=\"99.78125\"/>\n",
       "</g>\n",
       "<g style=\"fill:rgb(0%,0%,0%);fill-opacity:1;\">\n",
       "  <use x=\"278.777344\" xlink:href=\"#glyph0-1\" y=\"236.519531\"/>\n",
       "  <use x=\"285.777344\" xlink:href=\"#glyph0-2\" y=\"236.519531\"/>\n",
       "  <use x=\"293.563477\" xlink:href=\"#glyph0-3\" y=\"236.519531\"/>\n",
       "  <use x=\"301.349609\" xlink:href=\"#glyph0-8\" y=\"236.519531\"/>\n",
       "  <use x=\"309.135742\" xlink:href=\"#glyph0-11\" y=\"236.519531\"/>\n",
       "  <use x=\"316.921875\" xlink:href=\"#glyph0-8\" y=\"236.519531\"/>\n",
       "  <use x=\"324.708008\" xlink:href=\"#glyph0-12\" y=\"236.519531\"/>\n",
       "  <use x=\"332.494141\" xlink:href=\"#glyph0-7\" y=\"236.519531\"/>\n",
       "  <use x=\"340.280273\" xlink:href=\"#glyph0-3\" y=\"236.519531\"/>\n",
       "  <use x=\"348.066406\" xlink:href=\"#glyph0-7\" y=\"236.519531\"/>\n",
       "</g>\n",
       "<g style=\"fill:rgb(0%,0%,0%);fill-opacity:1;\">\n",
       "  <use x=\"174.953125\" xlink:href=\"#glyph0-1\" y=\"281.164063\"/>\n",
       "  <use x=\"181.953125\" xlink:href=\"#glyph0-2\" y=\"281.164063\"/>\n",
       "  <use x=\"189.739258\" xlink:href=\"#glyph0-3\" y=\"281.164063\"/>\n",
       "  <use x=\"197.525391\" xlink:href=\"#glyph0-8\" y=\"281.164063\"/>\n",
       "  <use x=\"205.311523\" xlink:href=\"#glyph0-11\" y=\"281.164063\"/>\n",
       "  <use x=\"213.097656\" xlink:href=\"#glyph0-4\" y=\"281.164063\"/>\n",
       "  <use x=\"220.883789\" xlink:href=\"#glyph0-8\" y=\"281.164063\"/>\n",
       "  <use x=\"228.669922\" xlink:href=\"#glyph0-6\" y=\"281.164063\"/>\n",
       "  <use x=\"236.456055\" xlink:href=\"#glyph0-11\" y=\"281.164063\"/>\n",
       "  <use x=\"244.242188\" xlink:href=\"#glyph0-7\" y=\"281.164063\"/>\n",
       "</g>\n",
       "<g style=\"fill:rgb(0%,0%,0%);fill-opacity:1;\">\n",
       "  <use x=\"263.210938\" xlink:href=\"#glyph0-1\" y=\"56.53125\"/>\n",
       "  <use x=\"270.210938\" xlink:href=\"#glyph0-2\" y=\"56.53125\"/>\n",
       "  <use x=\"277.99707\" xlink:href=\"#glyph0-3\" y=\"56.53125\"/>\n",
       "  <use x=\"285.783203\" xlink:href=\"#glyph0-8\" y=\"56.53125\"/>\n",
       "  <use x=\"293.569336\" xlink:href=\"#glyph0-4\" y=\"56.53125\"/>\n",
       "  <use x=\"301.355469\" xlink:href=\"#glyph0-5\" y=\"56.53125\"/>\n",
       "  <use x=\"309.141602\" xlink:href=\"#glyph0-11\" y=\"56.53125\"/>\n",
       "  <use x=\"316.927734\" xlink:href=\"#glyph0-8\" y=\"56.53125\"/>\n",
       "  <use x=\"324.713867\" xlink:href=\"#glyph0-7\" y=\"56.53125\"/>\n",
       "  <use x=\"332.5\" xlink:href=\"#glyph0-5\" y=\"56.53125\"/>\n",
       "</g>\n",
       "<g style=\"fill:rgb(0%,0%,0%);fill-opacity:1;\">\n",
       "  <use x=\"11.496094\" xlink:href=\"#glyph0-1\" y=\"465.136719\"/>\n",
       "  <use x=\"18.496094\" xlink:href=\"#glyph0-2\" y=\"465.136719\"/>\n",
       "  <use x=\"26.282227\" xlink:href=\"#glyph0-3\" y=\"465.136719\"/>\n",
       "  <use x=\"34.068359\" xlink:href=\"#glyph0-11\" y=\"465.136719\"/>\n",
       "  <use x=\"41.854492\" xlink:href=\"#glyph0-6\" y=\"465.136719\"/>\n",
       "  <use x=\"49.640625\" xlink:href=\"#glyph0-9\" y=\"465.136719\"/>\n",
       "  <use x=\"57.426758\" xlink:href=\"#glyph0-7\" y=\"465.136719\"/>\n",
       "  <use x=\"65.212891\" xlink:href=\"#glyph0-9\" y=\"465.136719\"/>\n",
       "  <use x=\"72.999023\" xlink:href=\"#glyph0-6\" y=\"465.136719\"/>\n",
       "  <use x=\"80.785156\" xlink:href=\"#glyph0-12\" y=\"465.136719\"/>\n",
       "</g>\n",
       "<g style=\"fill:rgb(0%,0%,0%);fill-opacity:1;\">\n",
       "  <use x=\"285.570313\" xlink:href=\"#glyph0-1\" y=\"94.480469\"/>\n",
       "  <use x=\"292.570313\" xlink:href=\"#glyph0-2\" y=\"94.480469\"/>\n",
       "  <use x=\"300.356445\" xlink:href=\"#glyph0-3\" y=\"94.480469\"/>\n",
       "  <use x=\"308.142578\" xlink:href=\"#glyph0-11\" y=\"94.480469\"/>\n",
       "  <use x=\"315.928711\" xlink:href=\"#glyph0-6\" y=\"94.480469\"/>\n",
       "  <use x=\"323.714844\" xlink:href=\"#glyph0-12\" y=\"94.480469\"/>\n",
       "  <use x=\"331.500977\" xlink:href=\"#glyph0-8\" y=\"94.480469\"/>\n",
       "  <use x=\"339.287109\" xlink:href=\"#glyph0-11\" y=\"94.480469\"/>\n",
       "  <use x=\"347.073242\" xlink:href=\"#glyph0-5\" y=\"94.480469\"/>\n",
       "  <use x=\"354.859375\" xlink:href=\"#glyph0-8\" y=\"94.480469\"/>\n",
       "</g>\n",
       "<g style=\"fill:rgb(0%,0%,0%);fill-opacity:1;\">\n",
       "  <use x=\"383.566406\" xlink:href=\"#glyph0-1\" y=\"362.988281\"/>\n",
       "  <use x=\"390.566406\" xlink:href=\"#glyph0-2\" y=\"362.988281\"/>\n",
       "  <use x=\"398.352539\" xlink:href=\"#glyph0-3\" y=\"362.988281\"/>\n",
       "  <use x=\"406.138672\" xlink:href=\"#glyph0-11\" y=\"362.988281\"/>\n",
       "  <use x=\"413.924805\" xlink:href=\"#glyph0-9\" y=\"362.988281\"/>\n",
       "  <use x=\"421.710938\" xlink:href=\"#glyph0-12\" y=\"362.988281\"/>\n",
       "  <use x=\"429.49707\" xlink:href=\"#glyph0-4\" y=\"362.988281\"/>\n",
       "  <use x=\"437.283203\" xlink:href=\"#glyph0-6\" y=\"362.988281\"/>\n",
       "  <use x=\"445.069336\" xlink:href=\"#glyph0-9\" y=\"362.988281\"/>\n",
       "  <use x=\"452.855469\" xlink:href=\"#glyph0-11\" y=\"362.988281\"/>\n",
       "</g>\n",
       "<g style=\"fill:rgb(0%,0%,0%);fill-opacity:1;\">\n",
       "  <use x=\"177.503906\" xlink:href=\"#glyph0-1\" y=\"355.609375\"/>\n",
       "  <use x=\"184.503906\" xlink:href=\"#glyph0-2\" y=\"355.609375\"/>\n",
       "  <use x=\"192.290039\" xlink:href=\"#glyph0-3\" y=\"355.609375\"/>\n",
       "  <use x=\"200.076172\" xlink:href=\"#glyph0-11\" y=\"355.609375\"/>\n",
       "  <use x=\"207.862305\" xlink:href=\"#glyph0-12\" y=\"355.609375\"/>\n",
       "  <use x=\"215.648438\" xlink:href=\"#glyph0-8\" y=\"355.609375\"/>\n",
       "  <use x=\"223.43457\" xlink:href=\"#glyph0-6\" y=\"355.609375\"/>\n",
       "  <use x=\"231.220703\" xlink:href=\"#glyph0-8\" y=\"355.609375\"/>\n",
       "  <use x=\"239.006836\" xlink:href=\"#glyph0-11\" y=\"355.609375\"/>\n",
       "  <use x=\"246.792969\" xlink:href=\"#glyph0-3\" y=\"355.609375\"/>\n",
       "</g>\n",
       "<g style=\"fill:rgb(0%,0%,0%);fill-opacity:1;\">\n",
       "  <use x=\"334.53125\" xlink:href=\"#glyph0-1\" y=\"108.882813\"/>\n",
       "  <use x=\"341.53125\" xlink:href=\"#glyph0-2\" y=\"108.882813\"/>\n",
       "  <use x=\"349.317383\" xlink:href=\"#glyph0-3\" y=\"108.882813\"/>\n",
       "  <use x=\"357.103516\" xlink:href=\"#glyph0-4\" y=\"108.882813\"/>\n",
       "  <use x=\"364.889648\" xlink:href=\"#glyph0-11\" y=\"108.882813\"/>\n",
       "  <use x=\"372.675781\" xlink:href=\"#glyph0-11\" y=\"108.882813\"/>\n",
       "  <use x=\"380.461914\" xlink:href=\"#glyph0-7\" y=\"108.882813\"/>\n",
       "  <use x=\"388.248047\" xlink:href=\"#glyph0-7\" y=\"108.882813\"/>\n",
       "  <use x=\"396.03418\" xlink:href=\"#glyph0-6\" y=\"108.882813\"/>\n",
       "  <use x=\"403.820313\" xlink:href=\"#glyph0-7\" y=\"108.882813\"/>\n",
       "</g>\n",
       "</g>\n",
       "</svg>"
      ],
      "text/plain": [
       "<IPython.core.display.SVG object>"
      ]
     },
     "metadata": {},
     "output_type": "display_data"
    }
   ],
   "source": [
    "for g in gr:\n",
    "    print(g.ecount(), end=' ')\n",
    "visual_style = {}\n",
    "visual_style[\"bbox\"] = (600, 600)\n",
    "visual_style[\"margin\"] = 50\n",
    "gc = gr[4].copy()\n",
    "gc.delete_vertices([v.index for v in gc.vs if v.degree() == 0])\n",
    "gc.vs[\"label\"] = features_names\n",
    "visual_style[\"label\"] = gc.vs[\"label\"]\n",
    "p = igraph.plot(gc, **visual_style)\n",
    "display(SVG(p._repr_svg_()))"
   ]
  },
  {
   "cell_type": "code",
   "execution_count": 138,
   "metadata": {},
   "outputs": [],
   "source": [
    "grs = gr.copy()\n",
    "#grd = gr.copy()\n",
    "    "
   ]
  },
  {
   "cell_type": "code",
   "execution_count": 141,
   "metadata": {},
   "outputs": [
    {
     "name": "stdout",
     "output_type": "stream",
     "text": [
      "<class 'pandas.core.frame.DataFrame'>\n",
      "(29, 40)\n",
      "{'degrees': 'Degrees', 'min_degrees': 'Min degrees', 'max_degrees': 'Max degrees', 'mean_degrees': 'Mean degrees', 'std_degrees': 'Std degrees', 'efficiency': 'Efficiency', 'betweenness': 'Betweenness', 'min_betweenness': 'Min betweenness', 'max_betweenness': 'Max betweenness', 'mean_betweenness': 'Mean betweenness', 'std_betweenness': 'Std betweenness', 'closeness': 'Closeness', 'min_closeness': 'Min closeness', 'max_closeness': 'Max closeness', 'mean_closeness': 'Mean closeness', 'std_closeness': 'Std closeness', 'pagerank': 'Pagerank', 'min_pagerank': 'Min pagerank', 'max_pagerank': 'Max pagerank', 'mean_pagerank': 'Mean pagerank', 'std_pagerank': 'Std pagerank', 'eigenvalues': 'Eigenvalues', 'min_eigenvector_centrality': 'Min eigenvector centrality', 'max_eigenvector_centrality': 'Max eigenvector centrality', 'mean_eigenvector_centrality': 'Mean eigenvector centrality', 'std_eigenvector_centrality': 'Std eigenvector centrality', 'num_edges': 'Number of edges', 'eigenvalues_intervals': 'Eigenvalues intervals', 'eigenvalues_intervals_normalized': 'Eigenvalues intervals normalized', 'IPR': 'IPR', 'max_IPR': 'Max IPR', 'mean_IPR': 'Mean IPR', 'weights': 'Weights', 'sum_weights': 'Sum weights', 'min_weights': 'Min weights', 'max_weights': 'Max weights', 'mean_weights': 'Mean weights', 'std_weights': 'Std weights', 'community_edge_betweenness_optimal': 'Community edge betweenness: optimal count', 'robustness': 'Robustness'}\n",
      "                                                 IPR  \\\n",
      "0  [0.25862068965517226, 0.9322660098522163, 0.25...   \n",
      "1  [0.28125000000000017, 0.28125000000000006, 0.2...   \n",
      "2  [0.16816206317222154, 0.1681620631722216, 0.12...   \n",
      "3  [0.1225191425215714, 0.19200068217889496, 0.10...   \n",
      "4  [0.2532075492675528, 0.274853675222243, 0.5379...   \n",
      "\n",
      "                                         betweenness  \\\n",
      "0  [0.0, 0.0, 0.0, 0.0, 0.0, 0.0, 0.0, 0.0, 0.0, ...   \n",
      "1  [0.0, 0.0, 0.0, 0.0, 0.0, 0.0, 0.0, 0.0, 0.0, ...   \n",
      "2  [0.0, 0.0, 0.0, 0.0, 0.0, 174.0, 0.0, 0.0, 1.0...   \n",
      "3  [0.0, 0.0, 0.0, 0.0, 0.0, 0.0, 0.0, 0.0, 0.0, ...   \n",
      "4  [0.0, 0.0, 0.0, 0.0, 0.0, 0.0, 0.0, 0.0, 0.0, ...   \n",
      "\n",
      "                                           closeness  \\\n",
      "0  [0.00909090909090909, 0.00909090909090909, 0.0...   \n",
      "1  [0.00909090909090909, 0.00909090909090909, 0.0...   \n",
      "2  [0.00909090909090909, 0.00825609277666925, 0.0...   \n",
      "3  [0.00909090909090909, 0.0078109065250951465, 0...   \n",
      "4  [0.00909090909090909, 0.009270813126942355, 0....   \n",
      "\n",
      "                                             degrees  efficiency  \\\n",
      "0  [0.0, 0.0, 0.0, 0.0, 40.00115203857422, 0.0, 0...    0.002201   \n",
      "1  [0.0, 0.0, 0.0, 0.0, 0.0, 0.0, 0.0, 80.6638412...    0.000031   \n",
      "2  [0.0, 43.12446975708008, 0.0, 24.3075656890869...    0.001004   \n",
      "3  [0.0, 69.83193969726562, 0.0, 0.0, 131.4607086...    0.001028   \n",
      "4  [0.0, 21.600265502929688, 0.0, 0.0, 0.0, 0.0, ...    0.000075   \n",
      "\n",
      "                                         eigenvalues  \\\n",
      "0  [-5.3851648071345055, -1.1102230246251565e-16,...   \n",
      "1  [-1.8477590650225735, 1.8477590650225757, -0.7...   \n",
      "2  [-4.1938234863723, 4.1938234863722865, -2.8644...   \n",
      "3  [5.306107066741452, -3.738574846396877, -2.899...   \n",
      "4  [-2.1010029896154516, -1.259280126749765, -1.0...   \n",
      "\n",
      "                               eigenvalues_intervals  \\\n",
      "0  [5.3851648071345055, 1.1102230246251565e-16, 0...   \n",
      "1  [1.0823922002923936, 0.76536686473018, 0.76536...   \n",
      "2  [1.329330414351476, 0.23929929838551, 0.764488...   \n",
      "3  [0.8394946208136802, 0.2903913553938584, 0.218...   \n",
      "4  [0.8417228628656865, 1.259280126749765, 1.0261...   \n",
      "\n",
      "                    eigenvalues_intervals_normalized  \\\n",
      "0  [14.500000000000002, 2.9893669801409083e-16, 0...   \n",
      "1  [1.1715728752538088, 0.8284271247461901, 0.828...   \n",
      "2  [5.547034186523154, 0.9985488743993058, 3.1900...   \n",
      "3  [2.9701241153672076, 1.0274018989109086, 0.773...   \n",
      "4  [1.201887194391494, 1.798112805608502, 1.46517...   \n",
      "\n",
      "                              eigenvector_centrality   max_IPR  ...  \\\n",
      "0  [0.049092357717694816, 0.049092357717694816, 0...  0.932266  ...   \n",
      "1  [0.0, 0.0, 0.0, 0.0, 0.0, 0.0, 0.0, 0.0, 0.0, ...  0.500000  ...   \n",
      "2  [0.0012721857643964343, 0.021559960188657763, ...  0.500000  ...   \n",
      "3  [0.013025367674474979, 0.11278479607635108, 0....  0.500000  ...   \n",
      "4  [0.006393568362658523, 0.0, 0.0063935683626585...  0.537959  ...   \n",
      "\n",
      "                                            pagerank  robustness  \\\n",
      "0  [0.0035714285714285713, 0.0035714285714285713,...           1   \n",
      "1  [0.0066815144766147, 0.0066815144766147, 0.006...           3   \n",
      "2  [0.0029211295034079847, 0.009159570125457858, ...          11   \n",
      "3  [0.0033670033670033673, 0.009523475578359596, ...          10   \n",
      "4  [0.0066815144766146995, 0.027503964475011248, ...           2   \n",
      "\n",
      "   std_betweenness  std_closeness  std_degrees  std_eigenvector_centrality  \\\n",
      "0        38.534222       0.000786    70.734774                    0.119573   \n",
      "1         0.551182       0.000023    20.028020                    0.134508   \n",
      "2        55.573110       0.000965   194.480011                    0.141606   \n",
      "3        43.044437       0.000544   171.528214                    0.157754   \n",
      "4         1.437543       0.000051    18.782139                    0.132026   \n",
      "\n",
      "   std_pagerank  std_weights  sum_weights  \\\n",
      "0      0.031042    22.816109   732.316162   \n",
      "1      0.010186    22.070805   251.896774   \n",
      "2      0.013540   111.476692  4427.016602   \n",
      "3      0.013647    74.072899  3541.752197   \n",
      "4      0.011060    26.152702   220.887634   \n",
      "\n",
      "                                             weights  \n",
      "0  [40.001152, 20.567163, 11.43708, 23.176355, 23...  \n",
      "1  [80.66384, 24.769176, 55.16777, 65.58377, 25.7...  \n",
      "2  [43.12447, 24.307566, 314.8519, 121.863365, 73...  \n",
      "3  [69.83194, 131.46071, 24.88631, 19.61309, 29.4...  \n",
      "4  [21.600266, 18.662876, 25.566051, 16.96963, 47...  \n",
      "\n",
      "[5 rows x 40 columns]\n"
     ]
    }
   ],
   "source": [
    "pard = clf.get_parenclitic()\n",
    "print (type(par))\n",
    "print (par.shape)\n",
    "print (parenclitic.parenclitic.metric_names())\n",
    "print (par.head())"
   ]
  },
  {
   "cell_type": "code",
   "execution_count": 7,
   "metadata": {},
   "outputs": [
    {
     "name": "stdout",
     "output_type": "stream",
     "text": [
      "   efficiency   max_IPR  max_betweenness  max_closeness  max_degrees  \\\n",
      "0   12.785207  0.704458            177.0       3.332507    42.018580   \n",
      "1    0.000000  1.000000              0.0       0.033333     0.000000   \n",
      "2    3.668922  0.500000             33.0       0.060284     3.189633   \n",
      "3    6.396413  0.650000            102.0       4.238327    31.636519   \n",
      "4    1.450383  0.500000             27.0       0.053510     3.049204   \n",
      "\n",
      "   max_eigenvector_centrality  max_pagerank  max_weights  mean_IPR  \\\n",
      "0                         1.0      0.039119     2.573403  0.321016   \n",
      "1                         1.0      0.033333          NaN  1.000000   \n",
      "2                         1.0      0.110202     0.474736  0.278776   \n",
      "3                         1.0      0.039142     1.638885  0.300922   \n",
      "4                         1.0      0.169275     0.574375  0.299838   \n",
      "\n",
      "   mean_betweenness  ...  min_weights  num_edges  robustness  std_betweenness  \\\n",
      "0         21.933333  ...     0.000443        364          19        45.624506   \n",
      "1          0.000000  ...          NaN          0           0         0.000000   \n",
      "2          4.400000  ...     0.007668         50           7         8.081254   \n",
      "3         16.400000  ...     0.002022        364          19        29.642987   \n",
      "4          2.133333  ...     0.004189         27           4         5.499899   \n",
      "\n",
      "   std_closeness  std_degrees  std_eigenvector_centrality  std_pagerank  \\\n",
      "0       0.671404    11.283530                    0.250213      0.006574   \n",
      "1       0.000000     0.000000                    0.000000      0.000000   \n",
      "2       0.013419     1.013950                    0.290614      0.032002   \n",
      "3       0.860051     8.316165                    0.246966      0.006658   \n",
      "4       0.009862     0.760452                    0.286208      0.038930   \n",
      "\n",
      "   std_weights  sum_weights  \n",
      "0     0.513225   319.925720  \n",
      "1          NaN          NaN  \n",
      "2     0.136888     9.629326  \n",
      "3     0.383301   227.728439  \n",
      "4     0.159521     5.849176  \n",
      "\n",
      "[5 rows x 30 columns]\n"
     ]
    }
   ],
   "source": [
    "numerics = ['int16', 'int32', 'int64', 'float16', 'float32', 'float64']\n",
    "par_numeric = par.select_dtypes(include=numerics)\n",
    "print (par_numeric.head())"
   ]
  },
  {
   "cell_type": "code",
   "execution_count": 143,
   "metadata": {},
   "outputs": [],
   "source": [
    "import pandas as pd\n",
    "pars[\"subject\"] = \"Siblings\"\n",
    "pard[\"subject\"] = \"DS\"\n",
    "par = pd.concat([pars, pard])"
   ]
  },
  {
   "cell_type": "code",
   "execution_count": 146,
   "metadata": {},
   "outputs": [
    {
     "data": {
      "text/plain": [
       "<matplotlib.axes._subplots.AxesSubplot at 0x1af05e35080>"
      ]
     },
     "execution_count": 146,
     "metadata": {},
     "output_type": "execute_result"
    },
    {
     "data": {
      "image/png": "[encoded data removed]",
      "text/plain": [
       "<Figure size 432x288 with 1 Axes>"
      ]
     },
     "metadata": {
      "needs_background": "light"
     },
     "output_type": "display_data"
    }
   ],
   "source": [
    "par.plot.hist()"
   ]
  },
  {
   "cell_type": "markdown",
   "metadata": {},
   "source": [
    "# Subset gene pairs for parenclitic"
   ]
  },
  {
   "cell_type": "code",
   "execution_count": 13,
   "metadata": {},
   "outputs": [
    {
     "name": "stdout",
     "output_type": "stream",
     "text": [
      "(1355916, 2) [[12195  2526]\n",
      " [12195  9708]\n",
      " [12195  7809]\n",
      " [12195 14282]\n",
      " [12195  8888]\n",
      " [12195  8235]\n",
      " [12195  4687]\n",
      " [12195   920]\n",
      " [12195  9833]\n",
      " [12195 10817]]\n"
     ]
    }
   ],
   "source": [
    "from graphs_aux import *\n",
    "data = np.load(config.ifname('good_pairs'))\n",
    "IDS = data['IDS']\n",
    "print(IDS.shape, IDS[:10])"
   ]
  },
  {
   "cell_type": "code",
   "execution_count": 87,
   "metadata": {},
   "outputs": [
    {
     "data": {
      "text/plain": [
       "<parenclitic.classes.graph_partition_subset at 0x1808d6a7390>"
      ]
     },
     "execution_count": 87,
     "metadata": {},
     "output_type": "execute_result"
    }
   ],
   "source": [
    "partition = parenclitic.graph_partition_subset(id_part = 0, num_parts = 1)\n",
    "partition.fit(IDS[:10])"
   ]
  },
  {
   "cell_type": "code",
   "execution_count": 12,
   "metadata": {},
   "outputs": [
    {
     "name": "stdout",
     "output_type": "stream",
     "text": [
      "0 (0, 183)\n",
      "1 (0, 584)\n",
      "2 (0, 650)\n",
      "3 (0, 676)\n",
      "4 (0, 1069)\n",
      "5 (0, 1098)\n",
      "6 (0, 1360)\n",
      "7 (0, 2013)\n",
      "8 (0, 2173)\n",
      "9 (0, 2425)\n"
     ]
    }
   ],
   "source": [
    "for i, pair in enumerate(partition):\n",
    "    print(i, pair)\n",
    "    "
   ]
  },
  {
   "cell_type": "code",
   "execution_count": 8,
   "metadata": {},
   "outputs": [
    {
     "data": {
      "text/plain": [
       "array([255, 255, 255, 255, 255, 255, 255, 255, 255, 255, 255, 255, 255,\n",
       "       255, 255, 255, 255, 255, 255, 255, 255, 255, 255, 255, 255, 255,\n",
       "       255, 255, 255,   1,   1,   1,   1,   1,   1,   1,   1,   1,   1,\n",
       "         1,   1,   1,   1,   1,   1,   1,   1,   1,   1,   1,   1,   1,\n",
       "         1,   1,   1,   1,   1,   1,   1,   1,   1,   1,   1,   1,   1,\n",
       "         1,   1,   1,   1,   1,   1,   1,   1,   1,   1,   1,   1,   1,\n",
       "         1,   1,   1,   1,   1,   1,   1,   1,   1], dtype=uint8)"
      ]
     },
     "execution_count": 8,
     "metadata": {},
     "output_type": "execute_result"
    }
   ],
   "source": [
    "mask"
   ]
  },
  {
   "cell_type": "code",
   "execution_count": 5,
   "metadata": {},
   "outputs": [
    {
     "data": {
      "text/plain": [
       "'D:\\\\PC\\\\UNN\\\\Science\\\\Gerontology\\\\data\\\\GSE52588\\\\params\\\\num_genes_14756\\\\kde_mask_siblings_mask\\\\algorithm_pdf\\\\thr_type_best\\\\division_rule_non_control\\\\graphs\\\\graph_id_sample_0.tsv'"
      ]
     },
     "execution_count": 5,
     "metadata": {},
     "output_type": "execute_result"
    }
   ],
   "source": [
    "config.ofname([\"graphs\", \"g\"], ext = \".tsv\", include_set = config.params_sets[\"graph\"])"
   ]
  },
  {
   "cell_type": "code",
   "execution_count": 5,
   "metadata": {},
   "outputs": [],
   "source": [
    "import parenclitic"
   ]
  },
  {
   "cell_type": "code",
   "execution_count": 1,
   "metadata": {},
   "outputs": [
    {
     "name": "stdout",
     "output_type": "stream",
     "text": [
      "D:\\PC\\UNN\\Science\\Gerontology\\data\\GSE52588\\GSE52588_average_beta.txt\n",
      "Data loaded:  1.1576121000000001\n",
      "float32 (14756, 87)\n",
      "(87, 14756) 14756\n"
     ]
    }
   ],
   "source": [
    "# Temporary \n",
    "%load_ext autoreload\n",
    "%autoreload 2\n",
    "\n",
    "import parenclitic\n",
    "import numpy as np\n",
    "import matplotlib.pyplot as plt\n",
    "%matplotlib inline\n",
    "\n",
    "from IPython.core.display import display, SVG\n",
    "import igraph\n",
    "from configurations.load_data_down_GSE52588 import load_data_down_GSE52588\n",
    "from configurations.config_down_GSE52588 import config\n",
    "\n",
    "X, y, mask, all_features_names = load_data_down_GSE52588()"
   ]
  },
  {
   "cell_type": "code",
   "execution_count": 2,
   "metadata": {
    "scrolled": true
   },
   "outputs": [
    {
     "name": "stderr",
     "output_type": "stream",
     "text": [
      "Number of edges: 46:   2%|▋                                            | 1669856/108862390 [04:43<5:02:50, 5899.30it/s]\n"
     ]
    },
    {
     "ename": "KeyboardInterrupt",
     "evalue": "",
     "output_type": "error",
     "traceback": [
      "\u001b[1;31m---------------------------------------------------------------------------\u001b[0m",
      "\u001b[1;31mKeyboardInterrupt\u001b[0m                         Traceback (most recent call last)",
      "\u001b[1;32m<ipython-input-2-c16967b0d688>\u001b[0m in \u001b[0;36m<module>\u001b[1;34m\u001b[0m\n\u001b[0;32m     24\u001b[0m     \u001b[0mbe\u001b[0m \u001b[1;33m=\u001b[0m \u001b[0mtime\u001b[0m\u001b[1;33m.\u001b[0m\u001b[0mtime\u001b[0m\u001b[1;33m(\u001b[0m\u001b[1;33m)\u001b[0m\u001b[1;33m\u001b[0m\u001b[1;33m\u001b[0m\u001b[0m\n\u001b[0;32m     25\u001b[0m     \u001b[1;31m#clf.fit(X, y, mask, num_workers = 5)\u001b[0m\u001b[1;33m\u001b[0m\u001b[1;33m\u001b[0m\u001b[1;33m\u001b[0m\u001b[0m\n\u001b[1;32m---> 26\u001b[1;33m     \u001b[0mclf\u001b[0m\u001b[1;33m.\u001b[0m\u001b[0mfit\u001b[0m\u001b[1;33m(\u001b[0m\u001b[0mX\u001b[0m\u001b[1;33m[\u001b[0m\u001b[1;33m:\u001b[0m\u001b[1;33m,\u001b[0m \u001b[1;33m:\u001b[0m\u001b[1;33m]\u001b[0m\u001b[1;33m,\u001b[0m \u001b[0my\u001b[0m\u001b[1;33m[\u001b[0m\u001b[1;33m:\u001b[0m\u001b[1;33m]\u001b[0m\u001b[1;33m,\u001b[0m \u001b[0mmask\u001b[0m\u001b[1;33m[\u001b[0m\u001b[1;33m:\u001b[0m\u001b[1;33m]\u001b[0m\u001b[1;33m,\u001b[0m \u001b[0mnum_workers\u001b[0m \u001b[1;33m=\u001b[0m \u001b[1;36m6\u001b[0m\u001b[1;33m)\u001b[0m\u001b[1;33m\u001b[0m\u001b[1;33m\u001b[0m\u001b[0m\n\u001b[0m\u001b[0;32m     27\u001b[0m     \u001b[0men\u001b[0m \u001b[1;33m=\u001b[0m \u001b[0mtime\u001b[0m\u001b[1;33m.\u001b[0m\u001b[0mtime\u001b[0m\u001b[1;33m(\u001b[0m\u001b[1;33m)\u001b[0m\u001b[1;33m\u001b[0m\u001b[1;33m\u001b[0m\u001b[0m\n\u001b[0;32m     28\u001b[0m     \u001b[0mprint\u001b[0m\u001b[1;33m(\u001b[0m\u001b[0men\u001b[0m \u001b[1;33m-\u001b[0m \u001b[0mbe\u001b[0m\u001b[1;33m)\u001b[0m\u001b[1;33m\u001b[0m\u001b[1;33m\u001b[0m\u001b[0m\n",
      "\u001b[1;32md:\\pc\\unn\\science\\gerontology\\programs\\parenclitic\\parenclitic\\classes.py\u001b[0m in \u001b[0;36mfit\u001b[1;34m(self, X, y, mask, subset, num_workers, queue_len)\u001b[0m\n\u001b[0;32m    485\u001b[0m                         \u001b[0msys\u001b[0m\u001b[1;33m.\u001b[0m\u001b[0mstdout\u001b[0m\u001b[1;33m.\u001b[0m\u001b[0mflush\u001b[0m\u001b[1;33m(\u001b[0m\u001b[1;33m)\u001b[0m\u001b[1;33m\u001b[0m\u001b[1;33m\u001b[0m\u001b[0m\n\u001b[0;32m    486\u001b[0m                     '''\n\u001b[1;32m--> 487\u001b[1;33m                     \u001b[0mready\u001b[0m\u001b[1;33m.\u001b[0m\u001b[0macquire\u001b[0m\u001b[1;33m(\u001b[0m\u001b[1;33m)\u001b[0m\u001b[1;33m\u001b[0m\u001b[1;33m\u001b[0m\u001b[0m\n\u001b[0m\u001b[0;32m    488\u001b[0m                     '''\n\u001b[0;32m    489\u001b[0m                     \u001b[1;32mif\u001b[0m \u001b[0mself\u001b[0m\u001b[1;33m.\u001b[0m\u001b[0mverbose\u001b[0m \u001b[1;33m==\u001b[0m \u001b[1;36m1\u001b[0m\u001b[1;33m:\u001b[0m\u001b[1;33m\u001b[0m\u001b[1;33m\u001b[0m\u001b[0m\n",
      "\u001b[1;32mC:\\ProgramData\\Anaconda3\\lib\\threading.py\u001b[0m in \u001b[0;36macquire\u001b[1;34m(self, blocking, timeout)\u001b[0m\n\u001b[0;32m    425\u001b[0m                         \u001b[1;32mif\u001b[0m \u001b[0mtimeout\u001b[0m \u001b[1;33m<=\u001b[0m \u001b[1;36m0\u001b[0m\u001b[1;33m:\u001b[0m\u001b[1;33m\u001b[0m\u001b[1;33m\u001b[0m\u001b[0m\n\u001b[0;32m    426\u001b[0m                             \u001b[1;32mbreak\u001b[0m\u001b[1;33m\u001b[0m\u001b[1;33m\u001b[0m\u001b[0m\n\u001b[1;32m--> 427\u001b[1;33m                 \u001b[0mself\u001b[0m\u001b[1;33m.\u001b[0m\u001b[0m_cond\u001b[0m\u001b[1;33m.\u001b[0m\u001b[0mwait\u001b[0m\u001b[1;33m(\u001b[0m\u001b[0mtimeout\u001b[0m\u001b[1;33m)\u001b[0m\u001b[1;33m\u001b[0m\u001b[1;33m\u001b[0m\u001b[0m\n\u001b[0m\u001b[0;32m    428\u001b[0m             \u001b[1;32melse\u001b[0m\u001b[1;33m:\u001b[0m\u001b[1;33m\u001b[0m\u001b[1;33m\u001b[0m\u001b[0m\n\u001b[0;32m    429\u001b[0m                 \u001b[0mself\u001b[0m\u001b[1;33m.\u001b[0m\u001b[0m_value\u001b[0m \u001b[1;33m-=\u001b[0m \u001b[1;36m1\u001b[0m\u001b[1;33m\u001b[0m\u001b[1;33m\u001b[0m\u001b[0m\n",
      "\u001b[1;32mC:\\ProgramData\\Anaconda3\\lib\\threading.py\u001b[0m in \u001b[0;36mwait\u001b[1;34m(self, timeout)\u001b[0m\n\u001b[0;32m    294\u001b[0m         \u001b[1;32mtry\u001b[0m\u001b[1;33m:\u001b[0m    \u001b[1;31m# restore state no matter what (e.g., KeyboardInterrupt)\u001b[0m\u001b[1;33m\u001b[0m\u001b[1;33m\u001b[0m\u001b[0m\n\u001b[0;32m    295\u001b[0m             \u001b[1;32mif\u001b[0m \u001b[0mtimeout\u001b[0m \u001b[1;32mis\u001b[0m \u001b[1;32mNone\u001b[0m\u001b[1;33m:\u001b[0m\u001b[1;33m\u001b[0m\u001b[1;33m\u001b[0m\u001b[0m\n\u001b[1;32m--> 296\u001b[1;33m                 \u001b[0mwaiter\u001b[0m\u001b[1;33m.\u001b[0m\u001b[0macquire\u001b[0m\u001b[1;33m(\u001b[0m\u001b[1;33m)\u001b[0m\u001b[1;33m\u001b[0m\u001b[1;33m\u001b[0m\u001b[0m\n\u001b[0m\u001b[0;32m    297\u001b[0m                 \u001b[0mgotit\u001b[0m \u001b[1;33m=\u001b[0m \u001b[1;32mTrue\u001b[0m\u001b[1;33m\u001b[0m\u001b[1;33m\u001b[0m\u001b[0m\n\u001b[0;32m    298\u001b[0m             \u001b[1;32melse\u001b[0m\u001b[1;33m:\u001b[0m\u001b[1;33m\u001b[0m\u001b[1;33m\u001b[0m\u001b[0m\n",
      "\u001b[1;31mKeyboardInterrupt\u001b[0m: "
     ]
    }
   ],
   "source": [
    "import multiprocessing as mp\n",
    "import multiprocessing, logging\n",
    "#mpl = multiprocessing.log_to_stderr()\n",
    "#mpl.setLevel(logging.DEBUG)\n",
    "\n",
    "if __name__ == \"__main__\":\n",
    "    import time\n",
    "    num_samples = X.shape[0]\n",
    "    num_features = X.shape[1]\n",
    "\n",
    "    #mask = np.array(y, np.bool)\n",
    "    #mask[:] = 1\n",
    "    \n",
    "    #by_group = config.params[\"by_group\"].value\n",
    "    min_score = config.params[\"min_score\"].value\n",
    "    thr_type = config.params[\"thr_type\"].value\n",
    "    division_rule = config.params[\"division_rule\"].value\n",
    "    kernel = parenclitic.pdf_kernel(thr_type = thr_type, min_score = min_score, division_rule = division_rule)\n",
    "    pair_filter = parenclitic.IG_filter()\n",
    "    clf = parenclitic.parenclitic(kernel = kernel, pair_filter = pair_filter, verbose = 0)\n",
    "    # partition = parenclitic.graph_partition_subset()\n",
    "    #clf = parenclitic.parenclitic(kernel = parenclitic.classifier_kernel(min_score = min_score, by_group = by_group)) # partition = parenclitic.graph_partition_subset()\n",
    "    #clf = parenclitic.parenclitic(kernel = parenclitic.pdf_kernel(thr_p = 0.88))#, partition = parenclitic.graph_partition_subset())\n",
    "    be = time.time()\n",
    "    #clf.fit(X, y, mask, num_workers = 5)\n",
    "    clf.fit(X[:, :], y[:], mask[:], num_workers = 6)\n",
    "    en = time.time()\n",
    "    print(en - be)\n",
    "    #clf.calc_parenclitic()\n",
    "    #gr = clf.get_graphs(features_names = features_names)\n",
    "    sdf\n",
    "    paths = []\n",
    "    for id_sample in config.params[\"id_sample\"]:\n",
    "        paths.append(config.ofname([\"graphs\", \"g\"], ext = \".tsv\", include_set = config.params_sets[\"graph\"]))\n",
    "    clf.set_graph_paths(paths = paths[:])\n",
    "    clf.save_graphs(gtype = 'csv')\n",
    "    \n",
    "    paths = []\n",
    "    for id_sample in config.params[\"id_sample\"]:\n",
    "        paths.append(config.ofname([\"graphs\", \"g\"], ext = \".npz\", include_set = config.params_sets[\"graph\"]))\n",
    "    clf.set_graph_paths(paths = paths[:])\n",
    "    clf.save_graphs(gtype = 'npz')"
   ]
  },
  {
   "cell_type": "code",
   "execution_count": 3,
   "metadata": {},
   "outputs": [
    {
     "data": {
      "text/plain": [
       "<_io.TextIOWrapper name='../logs/9440_error.out' mode='a' encoding='cp1251'>"
      ]
     },
     "execution_count": 3,
     "metadata": {},
     "output_type": "execute_result"
    }
   ],
   "source": [
    "import os\n",
    "os.getcwd()\n",
    "work_dir = '../logs'\n",
    "open(work_dir + '/' + str(os.getpid()) + \"_error.out\", \"a\")"
   ]
  },
  {
   "cell_type": "code",
   "execution_count": 5,
   "metadata": {},
   "outputs": [],
   "source": [
    "Out[3].close()"
   ]
  },
  {
   "cell_type": "code",
   "execution_count": 10,
   "metadata": {},
   "outputs": [
    {
     "name": "stdout",
     "output_type": "stream",
     "text": [
      "75995956\n",
      "12329\n"
     ]
    }
   ],
   "source": [
    "pair_filter = parenclitic.IG_filter()\n",
    "pair_filter.fit(X, mask)\n",
    "print(len(pair_filter))\n",
    "print(pair_filter.num_good)"
   ]
  },
  {
   "cell_type": "code",
   "execution_count": 11,
   "metadata": {},
   "outputs": [
    {
     "name": "stdout",
     "output_type": "stream",
     "text": [
      "[0.8965517]\n",
      "[ 1  1  1  1  1  1  1  1  1  1  1  1  1  1  1  1  1  1  1  1  1  1  1  1\n",
      "  1  1  1  1  1 -1 -1 -1 -1 -1 -1 -1 -1 -1 -1 -1 -1 -1 -1 -1 -1 -1 -1 -1\n",
      " -1 -1 -1 -1 -1 -1 -1 -1 -1 -1 -2 -2 -2 -2 -2 -2 -2 -2 -2 -2 -2 -2 -2 -2\n",
      " -2 -2 -2 -2 -2 -2 -2 -2 -2 -2 -2 -2 -2 -2 -2]\n"
     ]
    }
   ],
   "source": [
    "print(pair_filter.score[59])\n",
    "print(mask)"
   ]
  },
  {
   "cell_type": "code",
   "execution_count": 5,
   "metadata": {},
   "outputs": [],
   "source": [
    "gs = clf.get_graphs()"
   ]
  },
  {
   "cell_type": "code",
   "execution_count": 4,
   "metadata": {},
   "outputs": [
    {
     "data": {
      "text/plain": [
       "<matplotlib.legend.Legend at 0x190dfddfa20>"
      ]
     },
     "execution_count": 4,
     "metadata": {},
     "output_type": "execute_result"
    },
    {
     "data": {
      "image/png": "[encoded data removed]",
      "text/plain": [
       "<Figure size 432x288 with 1 Axes>"
      ]
     },
     "metadata": {
      "needs_background": "light"
     },
     "output_type": "display_data"
    }
   ],
   "source": [
    "id1 = 0\n",
    "id2 = 59\n",
    "plt.scatter(X[:29, id1], X[:29, id2], c = 'r')\n",
    "plt.scatter(X[29:29*2, id1], X[29:29*2, id2], c = 'g')\n",
    "plt.scatter(X[29*2:29*3, id1], X[29*2:29*3, id2], c = 'b')\n",
    "\n",
    "plt.legend(['DS', 'S', 'M'])"
   ]
  },
  {
   "cell_type": "code",
   "execution_count": 17,
   "metadata": {},
   "outputs": [
    {
     "data": {
      "text/plain": [
       "151"
      ]
     },
     "execution_count": 17,
     "metadata": {},
     "output_type": "execute_result"
    }
   ],
   "source": [
    "(14576 - pair_filter.num_good)# * 14576"
   ]
  },
  {
   "cell_type": "code",
   "execution_count": 18,
   "metadata": {},
   "outputs": [],
   "source": [
    "paths = []\n",
    "for id_sample in config.params[\"id_sample\"]:\n",
    "    paths.append(config.ofname([\"graphs\", \"g\"], ext = \".tsv\", include_set = config.params_sets[\"graph\"]))\n",
    "clf.set_graph_paths(paths = paths[:])\n",
    "clf.save_graphs(gtype = 'csv')\n",
    "\n",
    "paths = []\n",
    "for id_sample in config.params[\"id_sample\"]:\n",
    "    paths.append(config.ofname([\"graphs\", \"g\"], ext = \".npz\", include_set = config.params_sets[\"graph\"]))\n",
    "clf.set_graph_paths(paths = paths[:])\n",
    "clf.save_graphs(gtype = 'npz')"
   ]
  },
  {
   "cell_type": "code",
   "execution_count": null,
   "metadata": {},
   "outputs": [],
   "source": [
    "by_group = config.params[\"by_group\"].value\n",
    "min_score = config.params[\"min_score\"].value\n",
    "by_group"
   ]
  },
  {
   "cell_type": "code",
   "execution_count": 9,
   "metadata": {},
   "outputs": [],
   "source": [
    "paths = []\n",
    "for id_sample in config.params[\"id_sample\"]:\n",
    "    paths.append(config.ofname([\"graphs\", \"g\"], ext = \".tsv\", include_set = config.params_sets[\"graph\"]))\n",
    "clf.set_graph_paths(paths = paths[:87])\n",
    "clf.save_graphs(gtype = 'csv')\n",
    "\n",
    "paths = []\n",
    "for id_sample in config.params[\"id_sample\"]:\n",
    "    paths.append(config.ofname([\"graphs\", \"g\"], ext = \".npz\", include_set = config.params_sets[\"graph\"]))\n",
    "clf.set_graph_paths(paths = paths[:87])\n",
    "clf.save_graphs(gtype = 'npz')"
   ]
  },
  {
   "cell_type": "code",
   "execution_count": 3,
   "metadata": {},
   "outputs": [
    {
     "data": {
      "text/plain": [
       "'Z:\\\\PC\\\\UNN\\\\Science\\\\Gerontology\\\\data\\\\GSE52588\\\\params\\\\num_genes_14756\\\\kde_mask_siblings_mask\\\\algorithm_svc\\\\by_group_True\\\\graphs\\\\graph_id_sample_0.tsv'"
      ]
     },
     "execution_count": 3,
     "metadata": {},
     "output_type": "execute_result"
    }
   ],
   "source": [
    "config.ofname([\"graphs\", \"g\"], ext = \".tsv\", include_set = config.params_sets[\"graph\"])"
   ]
  },
  {
   "cell_type": "code",
   "execution_count": 8,
   "metadata": {},
   "outputs": [
    {
     "data": {
      "text/plain": [
       "((29,), (87,))"
      ]
     },
     "execution_count": 8,
     "metadata": {},
     "output_type": "execute_result"
    }
   ],
   "source": [
    "mask[:29].shape, mask.shape, "
   ]
  },
  {
   "cell_type": "code",
   "execution_count": 26,
   "metadata": {},
   "outputs": [
    {
     "name": "stdout",
     "output_type": "stream",
     "text": [
      "[2, 2, 4, 0, 1, 0, 1, 2, 30, 0, 1, 0, 8, 1, 1, 0, 0, 0, 1, 1, 0, 0, 0, 5, 0, 0, 0, 0, 0]\n"
     ]
    }
   ],
   "source": [
    "gr = clf.get_graphs()\n",
    "print([g.ecount() for g in gr])"
   ]
  },
  {
   "cell_type": "code",
   "execution_count": 14,
   "metadata": {},
   "outputs": [],
   "source": [
    "    paths = []\n",
    "    for id_sample in config.params[\"id_sample\"]:\n",
    "        paths.append(config.ofname([\"graphs\", \"g\"], ext = \".tsv\", include_set = config.params_sets[\"graph\"]))\n",
    "    clf.set_graph_paths(paths = paths)\n",
    "    clf.save_graphs(gtype = 'csv')\n",
    "    \n",
    "    paths = []\n",
    "    for id_sample in config.params[\"id_sample\"]:\n",
    "        paths.append(config.ofname([\"graphs\", \"g\"], ext = \".npz\", include_set = config.params_sets[\"graph\"]))\n",
    "    clf.set_graph_paths(paths = paths)\n",
    "    clf.save_graphs(gtype = 'npz')"
   ]
  },
  {
   "cell_type": "code",
   "execution_count": 4,
   "metadata": {},
   "outputs": [
    {
     "name": "stdout",
     "output_type": "stream",
     "text": [
      "D:\\PC\\UNN\\Science\\Gerontology\\data\\GSE52588\\params\\num_genes_14756\\kde_mask_mongoloids_mask\\algorithm_kde\\thr_p_0.1\\graphs\\graph_id_sample_0.tsv\n"
     ]
    }
   ],
   "source": [
    "paths = []\n",
    "for id_sample in config.params[\"id_sample\"]:\n",
    "    print(config.ofname([\"graphs\", \"g\"], ext = \".tsv\", include_set = config.params_sets[\"graph\"]))\n",
    "    break"
   ]
  },
  {
   "cell_type": "code",
   "execution_count": null,
   "metadata": {},
   "outputs": [],
   "source": [
    "clf.save_graph()"
   ]
  },
  {
   "cell_type": "code",
   "execution_count": 33,
   "metadata": {},
   "outputs": [],
   "source": [
    "from annotations.cpgs import cpgs_annotation\n",
    "cpgs = cpgs_annotation(config.ifname('cpgs_annotations'))"
   ]
  },
  {
   "cell_type": "code",
   "execution_count": 66,
   "metadata": {},
   "outputs": [
    {
     "name": "stdout",
     "output_type": "stream",
     "text": [
      "['RBL2', 'ACTN1', 'ATP2A1', 'SFRP1', 'NIPA2', 'MAN1B1', 'TSEN34', 'LRRC16A', 'CNBP', 'DDX55']\n",
      "15072\n"
     ]
    }
   ],
   "source": [
    "bad_cpgs = np.loadtxt(config.ifname('bad_cpgs'), dtype='str')\n",
    "crit = {'gene_out': [np.NaN], 'cpgs_in': all_features_names, 'cpgs_out': bad_cpgs, 'geotype_out': [np.NaN], 'chr_out': ['X', 'Y']}\n",
    "genes = cpgs.get_crit_col_values('gene', crit)\n",
    "print(len(genes))"
   ]
  },
  {
   "cell_type": "code",
   "execution_count": 70,
   "metadata": {},
   "outputs": [],
   "source": [
    "df = cpgs.get_sub_frame(crit)"
   ]
  },
  {
   "cell_type": "code",
   "execution_count": 71,
   "metadata": {},
   "outputs": [
    {
     "name": "stdout",
     "output_type": "stream",
     "text": [
      "<pandas.core.groupby.generic.DataFrameGroupBy object at 0x000001DE019B8198>\n"
     ]
    }
   ],
   "source": [
    "print(df2)"
   ]
  },
  {
   "cell_type": "code",
   "execution_count": 73,
   "metadata": {},
   "outputs": [
    {
     "name": "stdout",
     "output_type": "stream",
     "text": [
      "0 RBL2 cg00000029\n",
      "5 ACTN1 cg00000289\n",
      "6 ATP2A1 cg00000292\n",
      "7 SFRP1 cg00000321\n",
      "9 NIPA2 cg00000622\n",
      "10 MAN1B1 cg00000658\n",
      "11 TSEN34 cg00000714\n",
      "12 LRRC16A cg00000721\n",
      "13 CNBP cg00000734\n",
      "14 DDX55 cg00000769\n",
      "15 KLHL29 cg00000807\n",
      "16 TLR2 cg00000884\n",
      "18 {'KCNQ1', 'KCNQ1OT1'} cg00000924\n",
      "20 NPHP4 cg00000957\n",
      "21 PSKH2 cg00001099\n",
      "22 MRPS25 cg00001245\n",
      "26 MAEL cg00001349\n",
      "28 ELOVL1 cg00001446\n",
      "31 {'ZMIZ1', 'LOC283050'} cg00001582\n",
      "32 NR5A2 cg00001583\n",
      "34 ROCK2 cg00001594\n",
      "35 CDK10 cg00001687\n",
      "40 DNAJA2 cg00001854\n",
      "41 ATOH7 cg00001874\n",
      "43 PINK1 cg00002028\n",
      "44 LRFN1 cg00002033\n",
      "45 RWDD2B cg00002080\n",
      "46 MRPL12 cg00002116\n",
      "50 RTTN cg00002236\n",
      "51 CD2BP2 cg00002406\n",
      "52 SLMAP cg00002426\n",
      "54 NOV cg00002464\n",
      "56 MXD4 cg00002490\n",
      "59 TAS1R3 cg00002593\n",
      "60 ITGAD cg00002597\n",
      "62 SMARCC2 cg00002660\n",
      "63 C1orf114 cg00002719\n",
      "66 C1orf65 cg00002808\n",
      "68 DAB1 cg00002810\n",
      "71 BDH1 cg00003014\n",
      "72 SLBP cg00003091\n",
      "73 {'TMEM43', 'CHCHD4'} cg00003173\n",
      "76 RFX5 cg00003202\n",
      "78 LHX5 cg00003298\n",
      "81 CASZ1 cg00003513\n",
      "86 {'CCDC45', 'DDX5'} cg00003784\n",
      "88 RNF220 cg00003858\n",
      "93 CKLF cg00004055\n",
      "95 TRANK1 cg00004067\n",
      "96 ZFP36 cg00004072\n",
      "98 SLC2A9 cg00004082\n",
      "103 SFRS7 cg00004207\n",
      "106 CSMD2 cg00004257\n",
      "107 {'EIF4A1', 'SENP3'} cg00004421\n",
      "108 EHMT1 cg00004429\n",
      "109 AGPAT3 cg00004533\n",
      "113 FHL2 cg00004700\n",
      "118 AGA cg00004818\n",
      "120 LDHD cg00004883\n",
      "121 C14orf181 cg00004939\n",
      "124 MTMR7 cg00004996\n",
      "125 MT1F cg00005010\n",
      "126 RSPO3 cg00005040\n",
      "127 ANKRD11 cg00005072\n",
      "128 TDRD6 cg00005083\n",
      "133 DOK7 cg00005297\n",
      "134 SRCAP cg00005306\n",
      "138 {'TCTE3', 'C6orf70'} cg00005543\n",
      "140 FAM180B cg00005619\n",
      "144 HOXD3 cg00005847\n",
      "147 GPHN cg00006032\n",
      "148 HMX2 cg00006081\n",
      "150 C12orf44 cg00006122\n",
      "151 TDRD10 cg00006198\n",
      "152 OTOF cg00006243\n",
      "153 NHLH1 cg00006397\n",
      "154 {'ZNF425', 'ZNF398'} cg00006414\n",
      "160 CCDC126 cg00006884\n",
      "163 ZNF362 cg00007036\n",
      "164 LHX6 cg00007064\n",
      "165 RRS1 cg00007076\n",
      "167 PTPRF cg00007221\n",
      "168 PACS2 cg00007226\n",
      "169 {'C4orf39', 'TRIM61'} cg00007239\n",
      "170 ZNF77 cg00007269\n",
      "171 LRRC16B cg00007300\n",
      "172 ZBTB7A cg00007324\n",
      "173 CACNA1A cg00007326\n",
      "174 C6orf168 cg00007420\n",
      "176 ZNF358 cg00007466\n",
      "178 SLC6A5 cg00007644\n",
      "182 DSTYK cg00007898\n",
      "183 PANX1 cg00007981\n",
      "184 ZNF581 cg00007987\n",
      "187 FAM163A cg00008036\n",
      "188 C14orf181 cg00008188\n",
      "189 PDE6D cg00008345\n",
      "190 TMEM188 cg00008387\n",
      "191 {'INSRR', 'NTRK1'} cg00008446\n",
      "194 {'KIAA1409', 'COX8C'} cg00008493\n",
      "195 GFPT2 cg00008544\n",
      "199 ROD1 cg00008629\n",
      "200 FAIM3 cg00008647\n",
      "201 C3orf39 cg00008665\n",
      "202 FAM190B cg00008671\n",
      "204 IMPA2 cg00008713\n",
      "205 LRRC4B cg00008737\n",
      "207 DMRTB1 cg00008810\n",
      "208 C4orf44 cg00008819\n",
      "209 NRD1 cg00008823\n",
      "210 OAZ1 cg00008839\n",
      "213 {'MMACHC', 'CCDC163P'} cg00008971\n",
      "216 SYT7 cg00009053\n",
      "217 VPS37C cg00009088\n",
      "218 {'C1orf194', 'KIAA1324'} cg00009167\n",
      "219 RIN2 cg00009196\n",
      "220 DERA cg00009214\n",
      "222 AEBP1 cg00009293\n",
      "225 PELI2 cg00009364\n",
      "226 TTC8 cg00009407\n",
      "227 DDX18 cg00009412\n",
      "240 MEX3C cg00009970\n",
      "241 {'MGC23284', 'MVD'} cg00010046\n",
      "244 {'UBTD1', 'MMS19'} cg00010168\n",
      "246 MFSD3 cg00010266\n",
      "247 RFX1 cg00010445\n",
      "248 HECTD3 cg00010654\n",
      "251 BARHL2 cg00010742\n",
      "253 KIAA1949 cg00010853\n",
      "255 METTL5 cg00010932\n",
      "256 SHOX2 cg00010946\n",
      "257 {'HELQ', 'MRPS18C'} cg00010947\n",
      "259 TIGD2 cg00010992\n",
      "260 C16orf75 cg00011122\n",
      "263 WNT6 cg00011225\n",
      "265 YTHDF3 cg00011247\n",
      "266 RBL2 cg00011284\n",
      "269 {'PMM2', 'TMEM186'} cg00011459\n",
      "270 RBM47 cg00011460\n",
      "271 PAX9 cg00011482\n",
      "274 PPP5C cg00011578\n",
      "280 IGFBP5 cg00011856\n",
      "285 H3F3B cg00012036\n",
      "289 PLXNB2 cg00012194\n",
      "290 {'RNASE4', 'ANG'} cg00012199\n",
      "291 ARPC2 cg00012203\n",
      "292 CABYR cg00012238\n",
      "296 {'SNAP47', 'JMJD4'} cg00012386\n",
      "298 KCNC1 cg00012397\n",
      "300 ARRDC4 cg00012522\n",
      "301 GALNT9 cg00012529\n",
      "303 KCNK17 cg00012638\n",
      "304 GJB6 cg00012692\n",
      "307 SLC9A3R1 cg00012762\n",
      "308 MUTED cg00012792\n",
      "309 FBF1 cg00012920\n",
      "311 PRKCH cg00012992\n",
      "318 TRIM56 cg00013374\n",
      "319 EPHA10 cg00013409\n",
      "320 MED13 cg00013410\n",
      "323 DYSF cg00013475\n",
      "330 DAZAP1 cg00013733\n",
      "332 PTPRN2 cg00013809\n",
      "334 ARHGEF18 cg00013993\n",
      "335 {'RETSAT', 'ELMOD3'} cg00014085\n",
      "336 MAPK1 cg00014104\n",
      "337 GYPC cg00014112\n",
      "338 KIAA1751 cg00014118\n",
      "340 ESPN cg00014168\n",
      "341 OLFM1 cg00014194\n",
      "344 {'SPPL2B', 'LSM7'} cg00014272\n",
      "350 PTPRF cg00014445\n",
      "358 KIF3A cg00014752\n",
      "361 GADD45B cg00014806\n",
      "363 ACRBP cg00014837\n",
      "364 DPH2 cg00014900\n",
      "365 {'ANAPC11', 'THOC4'} cg00014986\n",
      "366 USP14 cg00014996\n",
      "367 {'HOXD4', 'MIR10B'} cg00014998\n",
      "368 CCNJ cg00015024\n",
      "370 THTPA cg00015121\n",
      "377 PARP10 cg00015530\n",
      "379 MYEOV2 cg00015603\n",
      "380 NRL cg00015639\n",
      "382 QRFPR cg00015770\n",
      "384 {'TCF12', 'LOC145783'} cg00016066\n",
      "386 NPM1 cg00016156\n",
      "387 STK38 cg00016223\n",
      "389 {'RUNDC1', 'AARSD1'} cg00016255\n",
      "391 DNAH11 cg00016360\n",
      "392 KIF26A cg00016406\n",
      "393 ST8SIA3 cg00016439\n",
      "395 RAB5C cg00016498\n",
      "397 SLFNL1 cg00016593\n",
      "398 CRAMP1L cg00016618\n",
      "403 SLC5A2 cg00016841\n",
      "404 C19orf69 cg00016892\n",
      "407 RHOC cg00016968\n",
      "408 RER1 cg00016996\n",
      "409 PGBD1 cg00017002\n",
      "410 C14orf135 cg00017033\n",
      "415 WIPF2 cg00017188\n",
      "416 PLEC1 cg00017203\n",
      "423 MAST3 cg00017441\n",
      "425 ABO cg00017475\n",
      "426 DPP6 cg00017489\n",
      "427 MED18 cg00017546\n",
      "433 GRRP1 cg00017970\n",
      "435 NKX6-2 cg00018024\n",
      "438 TBR1 cg00018128\n",
      "439 SH2B2 cg00018181\n",
      "443 {'TTC13', 'ARV1'} cg00018229\n",
      "445 {'SEPT10', 'ANKRD57'} cg00018524\n",
      "446 IQCE cg00018539\n",
      "447 HEXIM2 cg00018557\n",
      "448 CRYGD cg00018606\n",
      "450 ZNF664 cg00018739\n",
      "451 CACNA1H cg00018828\n",
      "454 FAM170B cg00018866\n",
      "456 KIAA0182 cg00019076\n",
      "457 SLC6A1 cg00019082\n",
      "459 UBL3 cg00019093\n",
      "460 {'GALNT9', 'LOC100130238'} cg00019118\n",
      "461 LTBP4 cg00019137\n",
      "465 {'NUDT6', 'SPATA5'} cg00019301\n",
      "468 SPTBN4 cg00019377\n",
      "469 PER3 cg00019458\n",
      "470 RNF111 cg00019463\n",
      "472 DLK1 cg00019511\n",
      "473 ZFP41 cg00019576\n",
      "475 C12orf34 cg00019678\n",
      "477 IGF2R cg00019778\n",
      "478 RPRD1A cg00019809\n",
      "481 MAPK4 cg00019841\n",
      "482 LOC169834 cg00019877\n",
      "485 CNRIP1 cg00020052\n",
      "488 FAM8A1 cg00020297\n",
      "493 SFRS12 cg00020405\n",
      "494 CRIP3 cg00020419\n",
      "497 TULP1 cg00020533\n",
      "499 OCA2 cg00020649\n",
      "500 {'SPATA1', 'GNG5'} cg00020720\n",
      "502 FAM38A cg00020794\n",
      "504 CBR4 cg00020991\n",
      "505 RRP1 cg00021028\n",
      "506 {'FLOT2', 'DHRS13'} cg00021030\n",
      "508 RIN3 cg00021108\n",
      "510 SPAG7 cg00021128\n",
      "513 MYBL1 cg00021237\n",
      "515 FEV cg00021256\n",
      "518 KIAA0182 cg00021476\n",
      "520 TAF15 cg00021527\n",
      "521 TFAP4 cg00021532\n",
      "522 {'TMEM217', 'TBC1D22B'} cg00021539\n",
      "523 {'SCARNA16', 'C17orf86'} cg00021540\n",
      "527 NECAB2 cg00021600\n",
      "531 PYCRL cg00021855\n",
      "533 GBF1 cg00021944\n",
      "535 DPYS cg00021978\n",
      "536 CAMSAP1 cg00022024\n",
      "540 SFRS6 cg00022138\n",
      "542 SNN cg00022235\n",
      "546 GCHFR cg00022492\n",
      "547 FGF4 cg00022558\n",
      "548 AKAP8L cg00022594\n",
      "550 CDK8 cg00022633\n",
      "551 {'GNPAT', 'C1orf131'} cg00022642\n",
      "553 PDGFRA cg00022858\n",
      "554 CCDC88B cg00022866\n",
      "557 HAPLN4 cg00022911\n",
      "562 ARL6IP5 cg00023132\n",
      "563 RNF220 cg00023154\n",
      "565 ZNF788 cg00023174\n",
      "566 LOC401463 cg00023185\n",
      "568 LRPPRC cg00023288\n",
      "569 BAT1 cg00023321\n",
      "573 CARKD cg00023464\n",
      "574 NBL1 cg00023492\n",
      "577 COX5A cg00023695\n",
      "581 SH2B2 cg00023808\n",
      "582 RHOD cg00023919\n",
      "590 RASL10B cg00024382\n",
      "591 ELOVL5 cg00024396\n",
      "592 SERINC5 cg00024404\n",
      "596 NGFR cg00024472\n",
      "600 CDR2 cg00024790\n",
      "601 {'CPSF3', 'ITGB1BP1'} cg00024812\n",
      "602 MECOM cg00024967\n",
      "605 MAP3K9 cg00025138\n",
      "608 NUDT17 cg00025211\n",
      "613 COQ10A cg00025436\n",
      "617 KLHL30 cg00025626\n",
      "620 NOL10 cg00025663\n",
      "622 ZSCAN18 cg00025715\n",
      "623 TBC1D16 cg00025795\n",
      "627 C13orf15 cg00025981\n",
      "628 DIP2C cg00025991\n",
      "629 SYNJ1 cg00026030\n",
      "633 DNAH10 cg00026119\n",
      "637 ALDOA cg00026230\n",
      "639 BAIAP2 cg00026327\n",
      "642 TEAD3 cg00026374\n",
      "645 DEF8 cg00026455\n",
      "648 ST3GAL1 cg00026474\n",
      "652 NR2F2 cg00026703\n",
      "653 FECH cg00026731\n",
      "655 KCNJ9 cg00026803\n",
      "656 NCRNA00095 cg00026853\n",
      "661 UBTF cg00026974\n",
      "662 OSBPL1A cg00027037\n",
      "663 TSSC1 cg00027081\n",
      "664 EPB41L3 cg00027083\n",
      "670 DCC cg00027400\n",
      "673 PHKG2 cg00027499\n",
      "678 STAC2 cg00027669\n",
      "679 RAB38 cg00027674\n",
      "682 KIAA1683 cg00027990\n",
      "684 LOXL1 cg00028013\n",
      "687 TSPYL3 cg00028034\n",
      "688 CHPF cg00028056\n",
      "701 NCOA7 cg00028455\n",
      "702 ZNF808 cg00028487\n",
      "705 GABRA5 cg00028598\n",
      "706 PTMS cg00028636\n",
      "708 ARHGEF4 cg00028678\n",
      "709 {'BIVM', 'KDELC1'} cg00028749\n",
      "711 GOT2 cg00028829\n",
      "712 {'MATN4', 'RBPJL'} cg00028844\n",
      "714 {'BAT4', 'CSNK2B'} cg00028881\n",
      "717 ZIC4 cg00028935\n",
      "718 GLTSCR2 cg00028993\n",
      "720 NOL10 cg00029053\n",
      "721 HIP1 cg00029161\n",
      "722 HEXIM1 cg00029233\n",
      "727 DCTN2 cg00029397\n",
      "728 KCNK17 cg00029521\n",
      "731 USF2 cg00029640\n",
      "734 PTPN9 cg00029822\n",
      "735 SLC5A2 cg00029825\n",
      "737 VPS28 cg00029831\n",
      "744 RNF207 cg00030047\n",
      "748 ICA1 cg00030291\n",
      "750 SLC25A2 cg00030420\n",
      "751 DLEC1 cg00030422\n",
      "752 UQCRFS1 cg00030423\n",
      "754 MEPCE cg00030432\n",
      "755 PRDM16 cg00030466\n",
      "756 PRKAB2 cg00030476\n",
      "758 TRIM15 cg00030508\n",
      "765 ZBTB9 cg00030795\n",
      "767 RBM8A cg00030816\n",
      "768 IGF2BP1 cg00030909\n",
      "769 {'KDM6B', 'TMEM88'} cg00031013\n",
      "770 MFAP2 cg00031063\n",
      "771 RXRB cg00031105\n",
      "772 {'TNFSF12-TNFSF13', 'TNFSF12'} cg00031162\n",
      "773 {'ABCB1', 'RUNDC3B'} cg00031165\n",
      "776 SERPINB1 cg00031256\n",
      "779 {'LOC100329108', 'GCSH'} cg00031340\n",
      "780 FRMD1 cg00031346\n",
      "781 PSAP cg00031402\n",
      "782 PNPLA6 cg00031443\n",
      "783 PRPF38B cg00031456\n",
      "784 {'BRE', 'LOC100302650', 'RBKS'} cg00031476\n",
      "787 ATG4D cg00031663\n",
      "788 FAM126A cg00031708\n",
      "790 BRCA2 cg00031759\n",
      "792 KDM2B cg00031896\n",
      "793 C7orf44 cg00031967\n",
      "795 PNPLA6 cg00032036\n",
      "797 TSPYL5 cg00032205\n",
      "798 {'TMEM104', 'NAT9'} cg00032227\n",
      "801 LONP1 cg00032366\n",
      "802 TP53I13 cg00032419\n",
      "804 ATP5E cg00032609\n",
      "806 LRRC47 cg00032643\n",
      "807 SNX4 cg00032664\n",
      "809 FGFRL1 cg00032686\n",
      "810 EVI5L cg00032701\n",
      "811 NELL2 cg00032756\n",
      "812 USP4 cg00032789\n",
      "814 CHCHD3 cg00032852\n",
      "815 MORN1 cg00032879\n",
      "816 FOXN2 cg00032884\n",
      "820 SNX7 cg00033127\n",
      "825 TGIF1 cg00033220\n",
      "826 SENP2 cg00033304\n",
      "827 SETD8 cg00033334\n",
      "829 TCEB1 cg00033457\n",
      "831 {'KLF3', 'FLJ13197'} cg00033516\n",
      "832 KIAA1539 cg00033533\n",
      "835 SLC35B4 cg00033643\n",
      "837 EPS8 cg00033668\n",
      "839 {'C19orf56', 'MORG1'} cg00033773\n",
      "840 TSNARE1 cg00033806\n",
      "841 KNDC1 cg00033834\n",
      "842 ATP11A cg00033877\n",
      "844 ARHGEF18 cg00033915\n",
      "845 CTU2 cg00034003\n",
      "846 TAF8 cg00034019\n",
      "847 {'FAM108B1', 'C9orf85'} cg00034039\n",
      "848 RALYL cg00034076\n",
      "850 RHOG cg00034130\n",
      "853 UGP2 cg00034376\n",
      "855 FDPS cg00034416\n",
      "856 CNIH3 cg00034433\n",
      "860 TMEM178 cg00034559\n",
      "861 ZBTB46 cg00034574\n",
      "862 RGS20 cg00034604\n",
      "863 C16orf81 cg00034611\n",
      "869 PQLC1 cg00034852\n",
      "870 RUNX3 cg00035000\n",
      "871 TTYH3 cg00035074\n",
      "872 CBFA2T3 cg00035197\n",
      "873 PTPRN2 cg00035220\n",
      "874 PUM1 cg00035237\n",
      "875 ARF1 cg00035249\n",
      "876 C6orf124 cg00035268\n",
      "877 HOXD8 cg00035316\n",
      "878 MTG1 cg00035326\n",
      "879 NT5C2 cg00035347\n",
      "883 {'ARID2', 'LOC400027'} cg00035453\n",
      "885 UBE2S cg00035623\n",
      "886 DEPDC7 cg00035630\n",
      "888 DAXX cg00035673\n",
      "889 ABI2 cg00035812\n",
      "890 MECR cg00035847\n",
      "892 KLF3 cg00035889\n",
      "893 C7orf50 cg00035923\n",
      "894 {'KRIT1', 'ANKIB1'} cg00035937\n",
      "895 PARM1 cg00035945\n",
      "898 {'HIST1H2BI', 'HIST1H3G'} cg00036011\n",
      "899 HPCAL4 cg00036110\n",
      "900 NUP107 cg00036115\n",
      "903 ADCY9 cg00036258\n",
      "904 KIF26B cg00036263\n",
      "905 GRIN2A cg00036299\n",
      "907 ARL6IP4 cg00036328\n",
      "908 {'LOC100132111', 'C2CD4D'} cg00036347\n",
      "910 MOGS cg00036386\n",
      "912 NAT15 cg00036440\n",
      "913 USP40 cg00036570\n",
      "916 C1orf54 cg00036599\n",
      "920 LZTS2 cg00036732\n",
      "922 {'OBSL1', 'INHA'} cg00036871\n",
      "925 DGKQ cg00037056\n",
      "926 RBM45 cg00037058\n",
      "927 C1orf63 cg00037072\n",
      "930 RRAD cg00037186\n",
      "931 MAZ cg00037223\n",
      "932 LPHN1 cg00037314\n",
      "933 EML6 cg00037388\n",
      "934 CPNE7 cg00037400\n",
      "936 RFX6 cg00037441\n",
      "937 PWP2 cg00037450\n",
      "947 {'MCOLN1', 'PNPLA6'} cg00038167\n",
      "949 TMEM101 cg00038239\n",
      "950 CCDC36 cg00038298\n",
      "951 PXDN cg00038342\n",
      "952 TFAP4 cg00038436\n",
      "954 INSL3 cg00038584\n",
      "957 LGI3 cg00038711\n",
      "958 GGN cg00038736\n",
      "961 FBXO31 cg00039016\n",
      "962 {'ENOPH1', 'HNRPDL'} cg00039044\n",
      "963 {'ZMAT5', 'UCRC'} cg00039057\n",
      "967 {'PCDHGA3', 'PCDHGA6', 'PCDHGA1', 'PCDHGA2', 'PCDHGA5', 'PCDHGB1', 'PCDHGA4', 'PCDHGB3', 'PCDHGB2'} cg00039176\n",
      "968 CUTA cg00039177\n",
      "969 TRAPPC3 cg00039326\n",
      "970 SEMA6B cg00039385\n",
      "971 HOXD13 cg00039441\n",
      "972 CREBBP cg00039463\n",
      "973 ABCA3 cg00039478\n",
      "974 SLC47A2 cg00039480\n",
      "977 TAX1BP1 cg00039564\n",
      "979 SFXN4 cg00039793\n",
      "980 CCDC138 cg00039794\n",
      "982 COL23A1 cg00039864\n",
      "984 PHF23 cg00039960\n",
      "985 DLL4 cg00040007\n",
      "986 KLHL2 cg00040008\n",
      "989 SLC25A12 cg00040027\n",
      "990 TANK cg00040047\n",
      "993 HOXA3 cg00040268\n",
      "994 {'HOXC5', 'HOXC4'} cg00040312\n",
      "997 RPS27 cg00040380\n",
      "1000 {'TRIM39', 'HCG18'} cg00040423\n",
      "1002 PODNL1 cg00040427\n",
      "1003 MYCL1 cg00040446\n",
      "1005 SMOC2 cg00040466\n",
      "1008 EBF3 cg00040566\n",
      "1010 MICAL3 cg00040575\n",
      "1011 MXRA8 cg00040588\n",
      "1014 CDH29 cg00040708\n",
      "1017 {'SPPL2B', 'LSM7'} cg00040861\n",
      "1019 NDUFB10 cg00040873\n",
      "1021 C15orf40 cg00040945\n",
      "1023 {'KTI12', 'TXNDC12'} cg00041014\n",
      "1024 SLC6A16 cg00041047\n",
      "1028 C17orf85 cg00041328\n",
      "1029 DLGAP1 cg00041368\n",
      "1031 MKI67IP cg00041467\n",
      "1034 UNC5A cg00041599\n",
      "1038 KLC2 cg00041759\n",
      "1042 TSNARE1 cg00041898\n",
      "1043 CD164 cg00041901\n",
      "1047 C1orf74 cg00042144\n",
      "1049 KCNK12 cg00042186\n",
      "1050 BOD1 cg00042208\n",
      "1051 PURA cg00042246\n",
      "1054 LOC728743 cg00042325\n",
      "1055 STOX1 cg00042335\n",
      "1057 PARK7 cg00042356\n",
      "1058 CCDC52 cg00042409\n",
      "1060 NR2C2 cg00042568\n",
      "1061 CCDC135 cg00042611\n",
      "1062 METTL13 cg00042657\n",
      "1063 SHF cg00042683\n",
      "1064 LASP1 cg00042837\n",
      "1065 PLEKHH3 cg00042874\n",
      "1066 AP1S1 cg00042882\n",
      "1067 {'AQP4', 'C18orf16'} cg00042914\n",
      "1068 NOXO1 cg00043004\n",
      "1069 DOT1L cg00043005\n",
      "1070 PEX1 cg00043043\n",
      "1072 {'PLD3', 'C19orf47'} cg00043080\n",
      "1073 SGPP2 cg00043095\n",
      "1074 TBC1D16 cg00043284\n",
      "1077 COG1 cg00043371\n",
      "1078 FGF3 cg00043379\n",
      "1080 GNG4 cg00043510\n",
      "1082 EMID2 cg00043564\n",
      "1084 BTBD19 cg00043599\n",
      "1085 VSX1 cg00043788\n",
      "1091 C16orf75 cg00044050\n",
      "1093 COL12A1 cg00044107\n",
      "1094 {'C12orf32', 'FOXM1'} cg00044170\n",
      "1095 EPHA7 cg00044245\n",
      "1096 POP5 cg00044289\n",
      "1097 KCTD1 cg00044299\n",
      "1098 WTIP cg00044318\n",
      "1099 {'WDR78', 'MIER1'} cg00044354\n",
      "1101 GLT25D2 cg00044463\n",
      "1108 ATP8A2 cg00044871\n",
      "1109 EHMT2 cg00044950\n",
      "1110 C2CD4C cg00044995\n",
      "1111 NSMAF cg00045061\n",
      "1118 SETD4 cg00045303\n",
      "1120 RBL1 cg00045515\n",
      "1124 PSMB9 cg00045690\n",
      "1126 PHF19 cg00045753\n",
      "1130 PWWP2B cg00045902\n",
      "1132 PPP1R12B cg00046018\n",
      "1133 PLOD3 cg00046021\n",
      "1134 COL20A1 cg00046026\n",
      "1135 SLC7A5P2 cg00046041\n",
      "1141 GPR149 cg00046499\n",
      "1142 TXNDC15 cg00046537\n",
      "1143 SNRPA1 cg00046560\n",
      "1144 PXDNL cg00046623\n",
      "1145 PDE4B cg00046625\n",
      "1146 LRP6 cg00046744\n",
      "1148 CAPS2 cg00046815\n",
      "1150 {'HAGH', 'FAHD1'} cg00046913\n",
      "1152 CUL5 cg00047050\n",
      "1158 {'CHKB-CPT1B', 'CPT1B'} cg00047287\n",
      "1159 BAHCC1 cg00047338\n",
      "1160 {'POLE3', 'C9orf43'} cg00047469\n",
      "1161 {'BZW1', 'BZW1L1'} cg00047501\n",
      "1167 PHF21B cg00047815\n",
      "1169 CBX2 cg00047844\n",
      "1170 GFOD1 cg00048178\n",
      "1176 {'PCDHGA3', 'PCDHGA6', 'PCDHGA7', 'PCDHGB3', 'PCDHGA1', 'PCDHGA8', 'PCDHGA2', 'PCDHGB5', 'PCDHGA5', 'PCDHGA9', 'PCDHGB1', 'PCDHGA4', 'PCDHGB4', 'PCDHGB2'} cg00048743\n",
      "1177 {'EFTUD2', 'CCDC103'} cg00048746\n",
      "1178 {'GPC2', 'STAG3'} cg00048759\n",
      "1181 CBLN1 cg00049033\n",
      "1182 GDNF cg00049047\n",
      "1184 TMED5 cg00049156\n",
      "1185 {'C1orf124', 'EXOC8'} cg00049253\n",
      "1186 TMEM177 cg00049286\n",
      "1187 LOC25845 cg00049323\n",
      "1188 {'KIAA1468', 'PIGN'} cg00049330\n",
      "1192 {'ACBD4', 'PLCD3'} cg00049411\n",
      "1193 KLF9 cg00049440\n",
      "1195 {'C12orf47', 'MAPKAPK5'} cg00049502\n",
      "1197 CLYBL cg00049616\n",
      "1198 CMTM2 cg00049664\n",
      "1200 PRDM16 cg00049709\n",
      "1206 NOM1 cg00049894\n",
      "1208 APPBP2 cg00049973\n",
      "1210 BTNL9 cg00050152\n",
      "1211 {'RNF213', 'LOC100294362'} cg00050224\n",
      "1224 SERPINB8 cg00050590\n",
      "1231 "
     ]
    },
    {
     "ename": "KeyboardInterrupt",
     "evalue": "",
     "output_type": "error",
     "traceback": [
      "\u001b[1;31m---------------------------------------------------------------------------\u001b[0m",
      "\u001b[1;31mKeyboardInterrupt\u001b[0m                         Traceback (most recent call last)",
      "\u001b[1;32m<ipython-input-73-d8ac48468ae3>\u001b[0m in \u001b[0;36m<module>\u001b[1;34m\u001b[0m\n\u001b[0;32m      1\u001b[0m \u001b[1;32mfor\u001b[0m \u001b[0mid_cpg\u001b[0m\u001b[1;33m,\u001b[0m \u001b[0mrow\u001b[0m \u001b[1;32min\u001b[0m \u001b[0mdf\u001b[0m\u001b[1;33m.\u001b[0m\u001b[0miterrows\u001b[0m\u001b[1;33m(\u001b[0m\u001b[1;33m)\u001b[0m\u001b[1;33m:\u001b[0m\u001b[1;33m\u001b[0m\u001b[1;33m\u001b[0m\u001b[0m\n\u001b[1;32m----> 2\u001b[1;33m     \u001b[0mprint\u001b[0m\u001b[1;33m(\u001b[0m\u001b[0mid_cpg\u001b[0m\u001b[1;33m,\u001b[0m \u001b[0mrow\u001b[0m\u001b[1;33m[\u001b[0m\u001b[1;34m'UCSC_REFGENE_NAME'\u001b[0m\u001b[1;33m]\u001b[0m\u001b[1;33m,\u001b[0m \u001b[0mrow\u001b[0m\u001b[1;33m[\u001b[0m\u001b[1;34m'ID_REF'\u001b[0m\u001b[1;33m]\u001b[0m\u001b[1;33m)\u001b[0m\u001b[1;33m\u001b[0m\u001b[1;33m\u001b[0m\u001b[0m\n\u001b[0m",
      "\u001b[1;32mC:\\ProgramData\\Anaconda3\\lib\\site-packages\\colorama\\ansitowin32.py\u001b[0m in \u001b[0;36mwrite\u001b[1;34m(self, text)\u001b[0m\n\u001b[0;32m     39\u001b[0m \u001b[1;33m\u001b[0m\u001b[0m\n\u001b[0;32m     40\u001b[0m     \u001b[1;32mdef\u001b[0m \u001b[0mwrite\u001b[0m\u001b[1;33m(\u001b[0m\u001b[0mself\u001b[0m\u001b[1;33m,\u001b[0m \u001b[0mtext\u001b[0m\u001b[1;33m)\u001b[0m\u001b[1;33m:\u001b[0m\u001b[1;33m\u001b[0m\u001b[1;33m\u001b[0m\u001b[0m\n\u001b[1;32m---> 41\u001b[1;33m         \u001b[0mself\u001b[0m\u001b[1;33m.\u001b[0m\u001b[0m__convertor\u001b[0m\u001b[1;33m.\u001b[0m\u001b[0mwrite\u001b[0m\u001b[1;33m(\u001b[0m\u001b[0mtext\u001b[0m\u001b[1;33m)\u001b[0m\u001b[1;33m\u001b[0m\u001b[1;33m\u001b[0m\u001b[0m\n\u001b[0m\u001b[0;32m     42\u001b[0m \u001b[1;33m\u001b[0m\u001b[0m\n\u001b[0;32m     43\u001b[0m     \u001b[1;32mdef\u001b[0m \u001b[0misatty\u001b[0m\u001b[1;33m(\u001b[0m\u001b[0mself\u001b[0m\u001b[1;33m)\u001b[0m\u001b[1;33m:\u001b[0m\u001b[1;33m\u001b[0m\u001b[1;33m\u001b[0m\u001b[0m\n",
      "\u001b[1;32mC:\\ProgramData\\Anaconda3\\lib\\site-packages\\colorama\\ansitowin32.py\u001b[0m in \u001b[0;36mwrite\u001b[1;34m(self, text)\u001b[0m\n\u001b[0;32m    160\u001b[0m     \u001b[1;32mdef\u001b[0m \u001b[0mwrite\u001b[0m\u001b[1;33m(\u001b[0m\u001b[0mself\u001b[0m\u001b[1;33m,\u001b[0m \u001b[0mtext\u001b[0m\u001b[1;33m)\u001b[0m\u001b[1;33m:\u001b[0m\u001b[1;33m\u001b[0m\u001b[1;33m\u001b[0m\u001b[0m\n\u001b[0;32m    161\u001b[0m         \u001b[1;32mif\u001b[0m \u001b[0mself\u001b[0m\u001b[1;33m.\u001b[0m\u001b[0mstrip\u001b[0m \u001b[1;32mor\u001b[0m \u001b[0mself\u001b[0m\u001b[1;33m.\u001b[0m\u001b[0mconvert\u001b[0m\u001b[1;33m:\u001b[0m\u001b[1;33m\u001b[0m\u001b[1;33m\u001b[0m\u001b[0m\n\u001b[1;32m--> 162\u001b[1;33m             \u001b[0mself\u001b[0m\u001b[1;33m.\u001b[0m\u001b[0mwrite_and_convert\u001b[0m\u001b[1;33m(\u001b[0m\u001b[0mtext\u001b[0m\u001b[1;33m)\u001b[0m\u001b[1;33m\u001b[0m\u001b[1;33m\u001b[0m\u001b[0m\n\u001b[0m\u001b[0;32m    163\u001b[0m         \u001b[1;32melse\u001b[0m\u001b[1;33m:\u001b[0m\u001b[1;33m\u001b[0m\u001b[1;33m\u001b[0m\u001b[0m\n\u001b[0;32m    164\u001b[0m             \u001b[0mself\u001b[0m\u001b[1;33m.\u001b[0m\u001b[0mwrapped\u001b[0m\u001b[1;33m.\u001b[0m\u001b[0mwrite\u001b[0m\u001b[1;33m(\u001b[0m\u001b[0mtext\u001b[0m\u001b[1;33m)\u001b[0m\u001b[1;33m\u001b[0m\u001b[1;33m\u001b[0m\u001b[0m\n",
      "\u001b[1;32mC:\\ProgramData\\Anaconda3\\lib\\site-packages\\colorama\\ansitowin32.py\u001b[0m in \u001b[0;36mwrite_and_convert\u001b[1;34m(self, text)\u001b[0m\n\u001b[0;32m    188\u001b[0m             \u001b[0mself\u001b[0m\u001b[1;33m.\u001b[0m\u001b[0mconvert_ansi\u001b[0m\u001b[1;33m(\u001b[0m\u001b[1;33m*\u001b[0m\u001b[0mmatch\u001b[0m\u001b[1;33m.\u001b[0m\u001b[0mgroups\u001b[0m\u001b[1;33m(\u001b[0m\u001b[1;33m)\u001b[0m\u001b[1;33m)\u001b[0m\u001b[1;33m\u001b[0m\u001b[1;33m\u001b[0m\u001b[0m\n\u001b[0;32m    189\u001b[0m             \u001b[0mcursor\u001b[0m \u001b[1;33m=\u001b[0m \u001b[0mend\u001b[0m\u001b[1;33m\u001b[0m\u001b[1;33m\u001b[0m\u001b[0m\n\u001b[1;32m--> 190\u001b[1;33m         \u001b[0mself\u001b[0m\u001b[1;33m.\u001b[0m\u001b[0mwrite_plain_text\u001b[0m\u001b[1;33m(\u001b[0m\u001b[0mtext\u001b[0m\u001b[1;33m,\u001b[0m \u001b[0mcursor\u001b[0m\u001b[1;33m,\u001b[0m \u001b[0mlen\u001b[0m\u001b[1;33m(\u001b[0m\u001b[0mtext\u001b[0m\u001b[1;33m)\u001b[0m\u001b[1;33m)\u001b[0m\u001b[1;33m\u001b[0m\u001b[1;33m\u001b[0m\u001b[0m\n\u001b[0m\u001b[0;32m    191\u001b[0m \u001b[1;33m\u001b[0m\u001b[0m\n\u001b[0;32m    192\u001b[0m \u001b[1;33m\u001b[0m\u001b[0m\n",
      "\u001b[1;32mC:\\ProgramData\\Anaconda3\\lib\\site-packages\\colorama\\ansitowin32.py\u001b[0m in \u001b[0;36mwrite_plain_text\u001b[1;34m(self, text, start, end)\u001b[0m\n\u001b[0;32m    194\u001b[0m         \u001b[1;32mif\u001b[0m \u001b[0mstart\u001b[0m \u001b[1;33m<\u001b[0m \u001b[0mend\u001b[0m\u001b[1;33m:\u001b[0m\u001b[1;33m\u001b[0m\u001b[1;33m\u001b[0m\u001b[0m\n\u001b[0;32m    195\u001b[0m             \u001b[0mself\u001b[0m\u001b[1;33m.\u001b[0m\u001b[0mwrapped\u001b[0m\u001b[1;33m.\u001b[0m\u001b[0mwrite\u001b[0m\u001b[1;33m(\u001b[0m\u001b[0mtext\u001b[0m\u001b[1;33m[\u001b[0m\u001b[0mstart\u001b[0m\u001b[1;33m:\u001b[0m\u001b[0mend\u001b[0m\u001b[1;33m]\u001b[0m\u001b[1;33m)\u001b[0m\u001b[1;33m\u001b[0m\u001b[1;33m\u001b[0m\u001b[0m\n\u001b[1;32m--> 196\u001b[1;33m             \u001b[0mself\u001b[0m\u001b[1;33m.\u001b[0m\u001b[0mwrapped\u001b[0m\u001b[1;33m.\u001b[0m\u001b[0mflush\u001b[0m\u001b[1;33m(\u001b[0m\u001b[1;33m)\u001b[0m\u001b[1;33m\u001b[0m\u001b[1;33m\u001b[0m\u001b[0m\n\u001b[0m\u001b[0;32m    197\u001b[0m \u001b[1;33m\u001b[0m\u001b[0m\n\u001b[0;32m    198\u001b[0m \u001b[1;33m\u001b[0m\u001b[0m\n",
      "\u001b[1;32mC:\\ProgramData\\Anaconda3\\lib\\site-packages\\ipykernel\\iostream.py\u001b[0m in \u001b[0;36mflush\u001b[1;34m(self)\u001b[0m\n\u001b[0;32m    347\u001b[0m                 \u001b[0mself\u001b[0m\u001b[1;33m.\u001b[0m\u001b[0mpub_thread\u001b[0m\u001b[1;33m.\u001b[0m\u001b[0mschedule\u001b[0m\u001b[1;33m(\u001b[0m\u001b[0mevt\u001b[0m\u001b[1;33m.\u001b[0m\u001b[0mset\u001b[0m\u001b[1;33m)\u001b[0m\u001b[1;33m\u001b[0m\u001b[1;33m\u001b[0m\u001b[0m\n\u001b[0;32m    348\u001b[0m                 \u001b[1;31m# and give a timeout to avoid\u001b[0m\u001b[1;33m\u001b[0m\u001b[1;33m\u001b[0m\u001b[1;33m\u001b[0m\u001b[0m\n\u001b[1;32m--> 349\u001b[1;33m                 \u001b[1;32mif\u001b[0m \u001b[1;32mnot\u001b[0m \u001b[0mevt\u001b[0m\u001b[1;33m.\u001b[0m\u001b[0mwait\u001b[0m\u001b[1;33m(\u001b[0m\u001b[0mself\u001b[0m\u001b[1;33m.\u001b[0m\u001b[0mflush_timeout\u001b[0m\u001b[1;33m)\u001b[0m\u001b[1;33m:\u001b[0m\u001b[1;33m\u001b[0m\u001b[1;33m\u001b[0m\u001b[0m\n\u001b[0m\u001b[0;32m    350\u001b[0m                     \u001b[1;31m# write directly to __stderr__ instead of warning because\u001b[0m\u001b[1;33m\u001b[0m\u001b[1;33m\u001b[0m\u001b[1;33m\u001b[0m\u001b[0m\n\u001b[0;32m    351\u001b[0m                     \u001b[1;31m# if this is happening sys.stderr may be the problem.\u001b[0m\u001b[1;33m\u001b[0m\u001b[1;33m\u001b[0m\u001b[1;33m\u001b[0m\u001b[0m\n",
      "\u001b[1;32mC:\\ProgramData\\Anaconda3\\lib\\threading.py\u001b[0m in \u001b[0;36mwait\u001b[1;34m(self, timeout)\u001b[0m\n\u001b[0;32m    550\u001b[0m             \u001b[0msignaled\u001b[0m \u001b[1;33m=\u001b[0m \u001b[0mself\u001b[0m\u001b[1;33m.\u001b[0m\u001b[0m_flag\u001b[0m\u001b[1;33m\u001b[0m\u001b[1;33m\u001b[0m\u001b[0m\n\u001b[0;32m    551\u001b[0m             \u001b[1;32mif\u001b[0m \u001b[1;32mnot\u001b[0m \u001b[0msignaled\u001b[0m\u001b[1;33m:\u001b[0m\u001b[1;33m\u001b[0m\u001b[1;33m\u001b[0m\u001b[0m\n\u001b[1;32m--> 552\u001b[1;33m                 \u001b[0msignaled\u001b[0m \u001b[1;33m=\u001b[0m \u001b[0mself\u001b[0m\u001b[1;33m.\u001b[0m\u001b[0m_cond\u001b[0m\u001b[1;33m.\u001b[0m\u001b[0mwait\u001b[0m\u001b[1;33m(\u001b[0m\u001b[0mtimeout\u001b[0m\u001b[1;33m)\u001b[0m\u001b[1;33m\u001b[0m\u001b[1;33m\u001b[0m\u001b[0m\n\u001b[0m\u001b[0;32m    553\u001b[0m             \u001b[1;32mreturn\u001b[0m \u001b[0msignaled\u001b[0m\u001b[1;33m\u001b[0m\u001b[1;33m\u001b[0m\u001b[0m\n\u001b[0;32m    554\u001b[0m \u001b[1;33m\u001b[0m\u001b[0m\n",
      "\u001b[1;32mC:\\ProgramData\\Anaconda3\\lib\\threading.py\u001b[0m in \u001b[0;36mwait\u001b[1;34m(self, timeout)\u001b[0m\n\u001b[0;32m    298\u001b[0m             \u001b[1;32melse\u001b[0m\u001b[1;33m:\u001b[0m\u001b[1;33m\u001b[0m\u001b[1;33m\u001b[0m\u001b[0m\n\u001b[0;32m    299\u001b[0m                 \u001b[1;32mif\u001b[0m \u001b[0mtimeout\u001b[0m \u001b[1;33m>\u001b[0m \u001b[1;36m0\u001b[0m\u001b[1;33m:\u001b[0m\u001b[1;33m\u001b[0m\u001b[1;33m\u001b[0m\u001b[0m\n\u001b[1;32m--> 300\u001b[1;33m                     \u001b[0mgotit\u001b[0m \u001b[1;33m=\u001b[0m \u001b[0mwaiter\u001b[0m\u001b[1;33m.\u001b[0m\u001b[0macquire\u001b[0m\u001b[1;33m(\u001b[0m\u001b[1;32mTrue\u001b[0m\u001b[1;33m,\u001b[0m \u001b[0mtimeout\u001b[0m\u001b[1;33m)\u001b[0m\u001b[1;33m\u001b[0m\u001b[1;33m\u001b[0m\u001b[0m\n\u001b[0m\u001b[0;32m    301\u001b[0m                 \u001b[1;32melse\u001b[0m\u001b[1;33m:\u001b[0m\u001b[1;33m\u001b[0m\u001b[1;33m\u001b[0m\u001b[0m\n\u001b[0;32m    302\u001b[0m                     \u001b[0mgotit\u001b[0m \u001b[1;33m=\u001b[0m \u001b[0mwaiter\u001b[0m\u001b[1;33m.\u001b[0m\u001b[0macquire\u001b[0m\u001b[1;33m(\u001b[0m\u001b[1;32mFalse\u001b[0m\u001b[1;33m)\u001b[0m\u001b[1;33m\u001b[0m\u001b[1;33m\u001b[0m\u001b[0m\n",
      "\u001b[1;31mKeyboardInterrupt\u001b[0m: "
     ]
    }
   ],
   "source": [
    "gene_sum = defaultdict([0, 0])\n",
    "for id_cpg, row in df.iterrows():\n",
    "    print(id_cpg, row['UCSC_REFGENE_NAME'], row['ID_REF'])\n",
    "    for x in list(row['UCSC_REFGENE_NAME']):\n",
    "        gene_sum[x] += row['']"
   ]
  },
  {
   "cell_type": "code",
   "execution_count": 54,
   "metadata": {},
   "outputs": [
    {
     "name": "stderr",
     "output_type": "stream",
     "text": [
      "4it [00:15,  3.95s/it]"
     ]
    },
    {
     "ename": "KeyboardInterrupt",
     "evalue": "",
     "output_type": "error",
     "traceback": [
      "\u001b[1;31m---------------------------------------------------------------------------\u001b[0m",
      "\u001b[1;31mKeyboardInterrupt\u001b[0m                         Traceback (most recent call last)",
      "\u001b[1;32m<ipython-input-54-a4960a5fa54c>\u001b[0m in \u001b[0;36m<module>\u001b[1;34m\u001b[0m\n\u001b[0;32m      4\u001b[0m \u001b[1;32mfor\u001b[0m \u001b[0mi\u001b[0m\u001b[1;33m,\u001b[0m \u001b[0mgene\u001b[0m \u001b[1;32min\u001b[0m \u001b[0mtqdm\u001b[0m\u001b[1;33m(\u001b[0m\u001b[0menumerate\u001b[0m\u001b[1;33m(\u001b[0m\u001b[0mgenes\u001b[0m\u001b[1;33m)\u001b[0m\u001b[1;33m,\u001b[0m \u001b[0mncols\u001b[0m \u001b[1;33m=\u001b[0m \u001b[1;36m100\u001b[0m\u001b[1;33m)\u001b[0m\u001b[1;33m:\u001b[0m\u001b[1;33m\u001b[0m\u001b[1;33m\u001b[0m\u001b[0m\n\u001b[0;32m      5\u001b[0m     \u001b[0mcur_crit\u001b[0m\u001b[1;33m[\u001b[0m\u001b[1;34m'gene_in'\u001b[0m\u001b[1;33m]\u001b[0m \u001b[1;33m=\u001b[0m \u001b[0mgene\u001b[0m\u001b[1;33m\u001b[0m\u001b[1;33m\u001b[0m\u001b[0m\n\u001b[1;32m----> 6\u001b[1;33m     \u001b[0mcpgs_names\u001b[0m\u001b[1;33m,\u001b[0m \u001b[0mids\u001b[0m \u001b[1;33m=\u001b[0m \u001b[0mcpgs\u001b[0m\u001b[1;33m.\u001b[0m\u001b[0mget_cpgs\u001b[0m\u001b[1;33m(\u001b[0m\u001b[0mcur_crit\u001b[0m\u001b[1;33m)\u001b[0m\u001b[1;33m\u001b[0m\u001b[1;33m\u001b[0m\u001b[0m\n\u001b[0m\u001b[0;32m      7\u001b[0m     \u001b[0mcpgs_names\u001b[0m\u001b[1;33m,\u001b[0m \u001b[0mids\u001b[0m\u001b[1;33m,\u001b[0m \u001b[0mids2\u001b[0m \u001b[1;33m=\u001b[0m \u001b[0mnp\u001b[0m\u001b[1;33m.\u001b[0m\u001b[0mintersect1d\u001b[0m\u001b[1;33m(\u001b[0m\u001b[0mall_features_names\u001b[0m\u001b[1;33m,\u001b[0m \u001b[0mcpgs_names\u001b[0m\u001b[1;33m,\u001b[0m \u001b[0mreturn_indices\u001b[0m \u001b[1;33m=\u001b[0m \u001b[1;32mTrue\u001b[0m\u001b[1;33m)\u001b[0m\u001b[1;33m\u001b[0m\u001b[1;33m\u001b[0m\u001b[0m\n\u001b[0;32m      8\u001b[0m     \u001b[0mcur\u001b[0m \u001b[1;33m=\u001b[0m \u001b[0mnp\u001b[0m\u001b[1;33m.\u001b[0m\u001b[0mmean\u001b[0m\u001b[1;33m(\u001b[0m\u001b[0mX\u001b[0m\u001b[1;33m[\u001b[0m\u001b[1;33m:\u001b[0m\u001b[1;33m,\u001b[0m \u001b[0mids\u001b[0m\u001b[1;33m]\u001b[0m\u001b[1;33m,\u001b[0m \u001b[0maxis\u001b[0m \u001b[1;33m=\u001b[0m \u001b[1;36m1\u001b[0m\u001b[1;33m)\u001b[0m\u001b[1;33m\u001b[0m\u001b[1;33m\u001b[0m\u001b[0m\n",
      "\u001b[1;32mF:\\PC\\UNN\\Scientific\\Gerontology\\Programs\\parenclitic\\src\\annotations\\cpgs.py\u001b[0m in \u001b[0;36mget_cpgs\u001b[1;34m(self, criterions)\u001b[0m\n\u001b[0;32m     98\u001b[0m     \u001b[1;31m# cur, ids = cpgs.get_cpgs({'chr_in': ['22'], 'geotype_ex': ['Island'], 'gene_ex': [np.NaN]})\u001b[0m\u001b[1;33m\u001b[0m\u001b[1;33m\u001b[0m\u001b[1;33m\u001b[0m\u001b[0m\n\u001b[0;32m     99\u001b[0m     \u001b[1;32mdef\u001b[0m \u001b[0mget_cpgs\u001b[0m\u001b[1;33m(\u001b[0m\u001b[0mself\u001b[0m\u001b[1;33m,\u001b[0m \u001b[0mcriterions\u001b[0m \u001b[1;33m=\u001b[0m \u001b[1;32mNone\u001b[0m\u001b[1;33m)\u001b[0m\u001b[1;33m:\u001b[0m\u001b[1;33m\u001b[0m\u001b[1;33m\u001b[0m\u001b[0m\n\u001b[1;32m--> 100\u001b[1;33m         \u001b[0mcpgs\u001b[0m \u001b[1;33m=\u001b[0m \u001b[0mself\u001b[0m\u001b[1;33m.\u001b[0m\u001b[0mdf_cpgs\u001b[0m\u001b[1;33m[\u001b[0m\u001b[0mself\u001b[0m\u001b[1;33m.\u001b[0m\u001b[0mcrit_cols\u001b[0m\u001b[1;33m[\u001b[0m\u001b[1;34m'cpgs'\u001b[0m\u001b[1;33m]\u001b[0m\u001b[1;33m]\u001b[0m\u001b[1;33m[\u001b[0m\u001b[0mself\u001b[0m\u001b[1;33m.\u001b[0m\u001b[0mget_crits_mask\u001b[0m\u001b[1;33m(\u001b[0m\u001b[0mcriterions\u001b[0m\u001b[1;33m)\u001b[0m\u001b[1;33m]\u001b[0m\u001b[1;33m\u001b[0m\u001b[1;33m\u001b[0m\u001b[0m\n\u001b[0m\u001b[0;32m    101\u001b[0m         \u001b[1;32mreturn\u001b[0m \u001b[0mcpgs\u001b[0m\u001b[1;33m.\u001b[0m\u001b[0mvalues\u001b[0m\u001b[1;33m,\u001b[0m \u001b[0mcpgs\u001b[0m\u001b[1;33m.\u001b[0m\u001b[0mindex\u001b[0m\u001b[1;33m.\u001b[0m\u001b[0mvalues\u001b[0m\u001b[1;33m\u001b[0m\u001b[1;33m\u001b[0m\u001b[0m\n\u001b[0;32m    102\u001b[0m \u001b[1;33m\u001b[0m\u001b[0m\n",
      "\u001b[1;32mF:\\PC\\UNN\\Scientific\\Gerontology\\Programs\\parenclitic\\src\\annotations\\cpgs.py\u001b[0m in \u001b[0;36mget_crits_mask\u001b[1;34m(self, criterions)\u001b[0m\n\u001b[0;32m     82\u001b[0m                 \u001b[0mcrit_col\u001b[0m\u001b[1;33m,\u001b[0m \u001b[0mcrit_type\u001b[0m \u001b[1;33m=\u001b[0m \u001b[0mself\u001b[0m\u001b[1;33m.\u001b[0m\u001b[0msplit_crit_name\u001b[0m\u001b[1;33m(\u001b[0m\u001b[0mcrit_name\u001b[0m\u001b[1;33m)\u001b[0m\u001b[1;33m\u001b[0m\u001b[1;33m\u001b[0m\u001b[0m\n\u001b[0;32m     83\u001b[0m                 \u001b[1;32mif\u001b[0m \u001b[0mcrit_col\u001b[0m \u001b[1;32min\u001b[0m \u001b[0mself\u001b[0m\u001b[1;33m.\u001b[0m\u001b[0mcrit_cols\u001b[0m \u001b[1;32mand\u001b[0m \u001b[0mcrit_type\u001b[0m \u001b[1;32min\u001b[0m \u001b[0mself\u001b[0m\u001b[1;33m.\u001b[0m\u001b[0mcrit_types\u001b[0m\u001b[1;33m:\u001b[0m\u001b[1;33m\u001b[0m\u001b[1;33m\u001b[0m\u001b[0m\n\u001b[1;32m---> 84\u001b[1;33m                     \u001b[0mcrit_mask\u001b[0m \u001b[1;33m=\u001b[0m \u001b[0mself\u001b[0m\u001b[1;33m.\u001b[0m\u001b[0mget_crit_mask\u001b[0m\u001b[1;33m(\u001b[0m\u001b[0mcrit_col\u001b[0m\u001b[1;33m,\u001b[0m \u001b[0mcrit_type\u001b[0m\u001b[1;33m,\u001b[0m \u001b[0mcrit_list\u001b[0m\u001b[1;33m)\u001b[0m\u001b[1;33m\u001b[0m\u001b[1;33m\u001b[0m\u001b[0m\n\u001b[0m\u001b[0;32m     85\u001b[0m                     \u001b[1;32mif\u001b[0m \u001b[0mcrit_all\u001b[0m \u001b[1;32mis\u001b[0m \u001b[1;32mNone\u001b[0m\u001b[1;33m:\u001b[0m\u001b[1;33m\u001b[0m\u001b[1;33m\u001b[0m\u001b[0m\n\u001b[0;32m     86\u001b[0m                         \u001b[0mcrit_all\u001b[0m \u001b[1;33m=\u001b[0m \u001b[0mcrit_mask\u001b[0m\u001b[1;33m\u001b[0m\u001b[1;33m\u001b[0m\u001b[0m\n",
      "\u001b[1;32mF:\\PC\\UNN\\Scientific\\Gerontology\\Programs\\parenclitic\\src\\annotations\\cpgs.py\u001b[0m in \u001b[0;36mget_crit_mask\u001b[1;34m(self, crit_col, crit_type, crit_list)\u001b[0m\n\u001b[0;32m     53\u001b[0m                 \u001b[0mcrit_mask\u001b[0m \u001b[1;33m=\u001b[0m \u001b[0mcrit_mask\u001b[0m \u001b[1;33m|\u001b[0m \u001b[0mself\u001b[0m\u001b[1;33m.\u001b[0m\u001b[0mdf_cpgs_set\u001b[0m\u001b[1;33m[\u001b[0m\u001b[0mcol\u001b[0m\u001b[1;33m]\u001b[0m\u001b[1;33m.\u001b[0m\u001b[0mmap\u001b[0m\u001b[1;33m(\u001b[0m\u001b[1;32mlambda\u001b[0m \u001b[0mx\u001b[0m\u001b[1;33m:\u001b[0m \u001b[1;33m(\u001b[0m\u001b[0mtype\u001b[0m\u001b[1;33m(\u001b[0m\u001b[0mx\u001b[0m\u001b[1;33m)\u001b[0m \u001b[1;32mis\u001b[0m \u001b[0mfloat\u001b[0m \u001b[1;32mand\u001b[0m \u001b[0mmath\u001b[0m\u001b[1;33m.\u001b[0m\u001b[0misnan\u001b[0m\u001b[1;33m(\u001b[0m\u001b[0mx\u001b[0m\u001b[1;33m)\u001b[0m\u001b[1;33m)\u001b[0m\u001b[1;33m)\u001b[0m\u001b[1;33m\u001b[0m\u001b[1;33m\u001b[0m\u001b[0m\n\u001b[0;32m     54\u001b[0m         \u001b[1;32melif\u001b[0m \u001b[0mcrit_type\u001b[0m \u001b[1;33m==\u001b[0m \u001b[1;34m'ex'\u001b[0m \u001b[1;32mor\u001b[0m \u001b[0mcrit_type\u001b[0m \u001b[1;33m==\u001b[0m \u001b[1;34m'out'\u001b[0m\u001b[1;33m:\u001b[0m\u001b[1;33m\u001b[0m\u001b[1;33m\u001b[0m\u001b[0m\n\u001b[1;32m---> 55\u001b[1;33m             \u001b[0mcrit_mask\u001b[0m \u001b[1;33m=\u001b[0m \u001b[0mself\u001b[0m\u001b[1;33m.\u001b[0m\u001b[0mdf_cpgs_set\u001b[0m\u001b[1;33m[\u001b[0m\u001b[0mcol\u001b[0m\u001b[1;33m]\u001b[0m\u001b[1;33m.\u001b[0m\u001b[0mmap\u001b[0m\u001b[1;33m(\u001b[0m\u001b[1;32mlambda\u001b[0m \u001b[0mx\u001b[0m\u001b[1;33m:\u001b[0m \u001b[1;32mnot\u001b[0m \u001b[1;33m(\u001b[0m\u001b[0mis_intersect\u001b[0m\u001b[1;33m(\u001b[0m\u001b[0mx\u001b[0m\u001b[1;33m,\u001b[0m \u001b[0mcrit_list\u001b[0m\u001b[1;33m)\u001b[0m\u001b[1;33m)\u001b[0m\u001b[1;33m)\u001b[0m\u001b[1;33m\u001b[0m\u001b[1;33m\u001b[0m\u001b[0m\n\u001b[0m\u001b[0;32m     56\u001b[0m             \u001b[1;32mif\u001b[0m \u001b[0mnan\u001b[0m\u001b[1;33m:\u001b[0m\u001b[1;33m\u001b[0m\u001b[1;33m\u001b[0m\u001b[0m\n\u001b[0;32m     57\u001b[0m                 \u001b[0mcrit_mask\u001b[0m \u001b[1;33m=\u001b[0m \u001b[0mcrit_mask\u001b[0m \u001b[1;33m&\u001b[0m \u001b[0mself\u001b[0m\u001b[1;33m.\u001b[0m\u001b[0mdf_cpgs_set\u001b[0m\u001b[1;33m[\u001b[0m\u001b[0mcol\u001b[0m\u001b[1;33m]\u001b[0m\u001b[1;33m.\u001b[0m\u001b[0mmap\u001b[0m\u001b[1;33m(\u001b[0m\u001b[1;32mlambda\u001b[0m \u001b[0mx\u001b[0m\u001b[1;33m:\u001b[0m \u001b[1;32mnot\u001b[0m \u001b[1;33m(\u001b[0m\u001b[0mtype\u001b[0m\u001b[1;33m(\u001b[0m\u001b[0mx\u001b[0m\u001b[1;33m)\u001b[0m \u001b[1;32mis\u001b[0m \u001b[0mfloat\u001b[0m \u001b[1;32mand\u001b[0m \u001b[0mmath\u001b[0m\u001b[1;33m.\u001b[0m\u001b[0misnan\u001b[0m\u001b[1;33m(\u001b[0m\u001b[0mx\u001b[0m\u001b[1;33m)\u001b[0m\u001b[1;33m)\u001b[0m\u001b[1;33m)\u001b[0m\u001b[1;33m\u001b[0m\u001b[1;33m\u001b[0m\u001b[0m\n",
      "\u001b[1;32mC:\\ProgramData\\Anaconda3\\lib\\site-packages\\pandas\\core\\series.py\u001b[0m in \u001b[0;36mmap\u001b[1;34m(self, arg, na_action)\u001b[0m\n\u001b[0;32m   3380\u001b[0m         \"\"\"\n\u001b[0;32m   3381\u001b[0m         new_values = super(Series, self)._map_values(\n\u001b[1;32m-> 3382\u001b[1;33m             arg, na_action=na_action)\n\u001b[0m\u001b[0;32m   3383\u001b[0m         return self._constructor(new_values,\n\u001b[0;32m   3384\u001b[0m                                  index=self.index).__finalize__(self)\n",
      "\u001b[1;32mC:\\ProgramData\\Anaconda3\\lib\\site-packages\\pandas\\core\\base.py\u001b[0m in \u001b[0;36m_map_values\u001b[1;34m(self, mapper, na_action)\u001b[0m\n\u001b[0;32m   1216\u001b[0m \u001b[1;33m\u001b[0m\u001b[0m\n\u001b[0;32m   1217\u001b[0m         \u001b[1;31m# mapper is a function\u001b[0m\u001b[1;33m\u001b[0m\u001b[1;33m\u001b[0m\u001b[1;33m\u001b[0m\u001b[0m\n\u001b[1;32m-> 1218\u001b[1;33m         \u001b[0mnew_values\u001b[0m \u001b[1;33m=\u001b[0m \u001b[0mmap_f\u001b[0m\u001b[1;33m(\u001b[0m\u001b[0mvalues\u001b[0m\u001b[1;33m,\u001b[0m \u001b[0mmapper\u001b[0m\u001b[1;33m)\u001b[0m\u001b[1;33m\u001b[0m\u001b[1;33m\u001b[0m\u001b[0m\n\u001b[0m\u001b[0;32m   1219\u001b[0m \u001b[1;33m\u001b[0m\u001b[0m\n\u001b[0;32m   1220\u001b[0m         \u001b[1;32mreturn\u001b[0m \u001b[0mnew_values\u001b[0m\u001b[1;33m\u001b[0m\u001b[1;33m\u001b[0m\u001b[0m\n",
      "\u001b[1;32mpandas/_libs/lib.pyx\u001b[0m in \u001b[0;36mpandas._libs.lib.map_infer\u001b[1;34m()\u001b[0m\n",
      "\u001b[1;32mF:\\PC\\UNN\\Scientific\\Gerontology\\Programs\\parenclitic\\src\\annotations\\cpgs.py\u001b[0m in \u001b[0;36m<lambda>\u001b[1;34m(x)\u001b[0m\n\u001b[0;32m     53\u001b[0m                 \u001b[0mcrit_mask\u001b[0m \u001b[1;33m=\u001b[0m \u001b[0mcrit_mask\u001b[0m \u001b[1;33m|\u001b[0m \u001b[0mself\u001b[0m\u001b[1;33m.\u001b[0m\u001b[0mdf_cpgs_set\u001b[0m\u001b[1;33m[\u001b[0m\u001b[0mcol\u001b[0m\u001b[1;33m]\u001b[0m\u001b[1;33m.\u001b[0m\u001b[0mmap\u001b[0m\u001b[1;33m(\u001b[0m\u001b[1;32mlambda\u001b[0m \u001b[0mx\u001b[0m\u001b[1;33m:\u001b[0m \u001b[1;33m(\u001b[0m\u001b[0mtype\u001b[0m\u001b[1;33m(\u001b[0m\u001b[0mx\u001b[0m\u001b[1;33m)\u001b[0m \u001b[1;32mis\u001b[0m \u001b[0mfloat\u001b[0m \u001b[1;32mand\u001b[0m \u001b[0mmath\u001b[0m\u001b[1;33m.\u001b[0m\u001b[0misnan\u001b[0m\u001b[1;33m(\u001b[0m\u001b[0mx\u001b[0m\u001b[1;33m)\u001b[0m\u001b[1;33m)\u001b[0m\u001b[1;33m)\u001b[0m\u001b[1;33m\u001b[0m\u001b[1;33m\u001b[0m\u001b[0m\n\u001b[0;32m     54\u001b[0m         \u001b[1;32melif\u001b[0m \u001b[0mcrit_type\u001b[0m \u001b[1;33m==\u001b[0m \u001b[1;34m'ex'\u001b[0m \u001b[1;32mor\u001b[0m \u001b[0mcrit_type\u001b[0m \u001b[1;33m==\u001b[0m \u001b[1;34m'out'\u001b[0m\u001b[1;33m:\u001b[0m\u001b[1;33m\u001b[0m\u001b[1;33m\u001b[0m\u001b[0m\n\u001b[1;32m---> 55\u001b[1;33m             \u001b[0mcrit_mask\u001b[0m \u001b[1;33m=\u001b[0m \u001b[0mself\u001b[0m\u001b[1;33m.\u001b[0m\u001b[0mdf_cpgs_set\u001b[0m\u001b[1;33m[\u001b[0m\u001b[0mcol\u001b[0m\u001b[1;33m]\u001b[0m\u001b[1;33m.\u001b[0m\u001b[0mmap\u001b[0m\u001b[1;33m(\u001b[0m\u001b[1;32mlambda\u001b[0m \u001b[0mx\u001b[0m\u001b[1;33m:\u001b[0m \u001b[1;32mnot\u001b[0m \u001b[1;33m(\u001b[0m\u001b[0mis_intersect\u001b[0m\u001b[1;33m(\u001b[0m\u001b[0mx\u001b[0m\u001b[1;33m,\u001b[0m \u001b[0mcrit_list\u001b[0m\u001b[1;33m)\u001b[0m\u001b[1;33m)\u001b[0m\u001b[1;33m)\u001b[0m\u001b[1;33m\u001b[0m\u001b[1;33m\u001b[0m\u001b[0m\n\u001b[0m\u001b[0;32m     56\u001b[0m             \u001b[1;32mif\u001b[0m \u001b[0mnan\u001b[0m\u001b[1;33m:\u001b[0m\u001b[1;33m\u001b[0m\u001b[1;33m\u001b[0m\u001b[0m\n\u001b[0;32m     57\u001b[0m                 \u001b[0mcrit_mask\u001b[0m \u001b[1;33m=\u001b[0m \u001b[0mcrit_mask\u001b[0m \u001b[1;33m&\u001b[0m \u001b[0mself\u001b[0m\u001b[1;33m.\u001b[0m\u001b[0mdf_cpgs_set\u001b[0m\u001b[1;33m[\u001b[0m\u001b[0mcol\u001b[0m\u001b[1;33m]\u001b[0m\u001b[1;33m.\u001b[0m\u001b[0mmap\u001b[0m\u001b[1;33m(\u001b[0m\u001b[1;32mlambda\u001b[0m \u001b[0mx\u001b[0m\u001b[1;33m:\u001b[0m \u001b[1;32mnot\u001b[0m \u001b[1;33m(\u001b[0m\u001b[0mtype\u001b[0m\u001b[1;33m(\u001b[0m\u001b[0mx\u001b[0m\u001b[1;33m)\u001b[0m \u001b[1;32mis\u001b[0m \u001b[0mfloat\u001b[0m \u001b[1;32mand\u001b[0m \u001b[0mmath\u001b[0m\u001b[1;33m.\u001b[0m\u001b[0misnan\u001b[0m\u001b[1;33m(\u001b[0m\u001b[0mx\u001b[0m\u001b[1;33m)\u001b[0m\u001b[1;33m)\u001b[0m\u001b[1;33m)\u001b[0m\u001b[1;33m\u001b[0m\u001b[1;33m\u001b[0m\u001b[0m\n",
      "\u001b[1;32mF:\\PC\\UNN\\Scientific\\Gerontology\\Programs\\parenclitic\\src\\annotations\\cpgs.py\u001b[0m in \u001b[0;36mis_intersect\u001b[1;34m(a, b)\u001b[0m\n\u001b[0;32m     12\u001b[0m     \u001b[1;32mif\u001b[0m \u001b[0mlen\u001b[0m\u001b[1;33m(\u001b[0m\u001b[0ma\u001b[0m\u001b[1;33m)\u001b[0m \u001b[1;33m>\u001b[0m \u001b[0mlen\u001b[0m\u001b[1;33m(\u001b[0m\u001b[0mb\u001b[0m\u001b[1;33m)\u001b[0m\u001b[1;33m:\u001b[0m\u001b[1;33m\u001b[0m\u001b[1;33m\u001b[0m\u001b[0m\n\u001b[0;32m     13\u001b[0m         \u001b[0ma\u001b[0m\u001b[1;33m,\u001b[0m \u001b[0mb\u001b[0m \u001b[1;33m=\u001b[0m \u001b[0mb\u001b[0m\u001b[1;33m,\u001b[0m \u001b[0ma\u001b[0m\u001b[1;33m\u001b[0m\u001b[1;33m\u001b[0m\u001b[0m\n\u001b[1;32m---> 14\u001b[1;33m     \u001b[1;32mif\u001b[0m \u001b[0mtype\u001b[0m\u001b[1;33m(\u001b[0m\u001b[0mb\u001b[0m\u001b[1;33m)\u001b[0m \u001b[1;32mis\u001b[0m \u001b[0mset\u001b[0m\u001b[1;33m:\u001b[0m\u001b[1;33m\u001b[0m\u001b[1;33m\u001b[0m\u001b[0m\n\u001b[0m\u001b[0;32m     15\u001b[0m         \u001b[1;32mreturn\u001b[0m \u001b[0mbool\u001b[0m\u001b[1;33m(\u001b[0m\u001b[0mb\u001b[0m\u001b[1;33m.\u001b[0m\u001b[0mintersection\u001b[0m\u001b[1;33m(\u001b[0m\u001b[0ma\u001b[0m\u001b[1;33m)\u001b[0m\u001b[1;33m)\u001b[0m\u001b[1;33m\u001b[0m\u001b[1;33m\u001b[0m\u001b[0m\n\u001b[0;32m     16\u001b[0m     \u001b[1;32mreturn\u001b[0m \u001b[0mbool\u001b[0m\u001b[1;33m(\u001b[0m\u001b[0mset\u001b[0m\u001b[1;33m(\u001b[0m\u001b[0ma\u001b[0m\u001b[1;33m)\u001b[0m\u001b[1;33m.\u001b[0m\u001b[0mintersection\u001b[0m\u001b[1;33m(\u001b[0m\u001b[0mb\u001b[0m\u001b[1;33m)\u001b[0m\u001b[1;33m)\u001b[0m\u001b[1;33m\u001b[0m\u001b[1;33m\u001b[0m\u001b[0m\n",
      "\u001b[1;31mKeyboardInterrupt\u001b[0m: "
     ]
    }
   ],
   "source": [
    "from tqdm import tqdm\n",
    "cur_crit = crit\n",
    "Xg = np.zeros((X.shape[0], len(genes)))\n",
    "for i, gene in tqdm(enumerate(genes), ncols = 100):\n",
    "    cur_crit['gene_in'] = gene\n",
    "    cpgs_names, ids = cpgs.get_cpgs(cur_crit)\n",
    "    cpgs_names, ids, ids2 = np.intersect1d(all_features_names, cpgs_names, return_indices = True)\n",
    "    cur = np.mean(X[:, ids], axis = 1)\n",
    "    Xg[:, i] = cur\n",
    "    #print(cur.shape)\n",
    "    #break"
   ]
  },
  {
   "cell_type": "code",
   "execution_count": null,
   "metadata": {},
   "outputs": [],
   "source": [
    "df.group"
   ]
  },
  {
   "cell_type": "code",
   "execution_count": 43,
   "metadata": {},
   "outputs": [
    {
     "data": {
      "text/plain": [
       "15072"
      ]
     },
     "execution_count": 43,
     "metadata": {},
     "output_type": "execute_result"
    }
   ],
   "source": [
    "len(genes)\n",
    "    "
   ]
  },
  {
   "cell_type": "code",
   "execution_count": null,
   "metadata": {},
   "outputs": [],
   "source": [
    "\n",
    "#cur = cpgs.get_sub_frame({'chr_in': ['22'], 'geotype_ex': ['Island']})\n",
    "#df = cpgs.get_cpgs({'chr_in': ['22'], 'geotype_ex': ['Island']})\n",
    "cpgs_names, _ = cpgs.get_cpgs({'gene_out': [np.NaN]})\n",
    "cpgs_ids = np.array([y for x in cpgs_names for y in np.flatnonzero(all_features_names == x).tolist()])"
   ]
  },
  {
   "cell_type": "code",
   "execution_count": 16,
   "metadata": {},
   "outputs": [
    {
     "data": {
      "text/plain": [
       "14756"
      ]
     },
     "execution_count": 16,
     "metadata": {},
     "output_type": "execute_result"
    }
   ],
   "source": [
    "len(all_features_names)"
   ]
  },
  {
   "cell_type": "code",
   "execution_count": 21,
   "metadata": {},
   "outputs": [],
   "source": [
    "genes_names = np.loadtxt('D:\\\\PC\\\\UNN\\\\Science\\\\Gerontology\\\\data\\\\GSE52588\\\\genes_names.txt', dtype = 'str')"
   ]
  },
  {
   "cell_type": "code",
   "execution_count": 22,
   "metadata": {},
   "outputs": [
    {
     "data": {
      "text/plain": [
       "15024"
      ]
     },
     "execution_count": 22,
     "metadata": {},
     "output_type": "execute_result"
    }
   ],
   "source": [
    "len(genes_names)"
   ]
  },
  {
   "cell_type": "code",
   "execution_count": 23,
   "metadata": {},
   "outputs": [
    {
     "data": {
      "text/plain": [
       "array(['SOX9', 'L3MBTL', 'KHSRP', ..., 'TMED3', 'C6orf114', 'CDK5R2'],\n",
       "      dtype='<U18')"
      ]
     },
     "execution_count": 23,
     "metadata": {},
     "output_type": "execute_result"
    }
   ],
   "source": [
    "genes_names"
   ]
  },
  {
   "cell_type": "code",
   "execution_count": 42,
   "metadata": {},
   "outputs": [],
   "source": [
    "new_names, ids1, ids2 = np.intersect1d(all_features_names, genes_names, return_indices = True, assume_unique = True)"
   ]
  },
  {
   "cell_type": "code",
   "execution_count": 43,
   "metadata": {},
   "outputs": [
    {
     "data": {
      "text/plain": [
       "(13747, 6785)"
      ]
     },
     "execution_count": 43,
     "metadata": {},
     "output_type": "execute_result"
    }
   ],
   "source": [
    "all_features_names[ids1[0]], genes_names[ids2[0]]\n",
    "ids1[0], ids2[0]"
   ]
  },
  {
   "cell_type": "code",
   "execution_count": 55,
   "metadata": {},
   "outputs": [
    {
     "name": "stderr",
     "output_type": "stream",
     "text": [
      "\r",
      "  0%|                                                                     | 0/15024 [00:00<?, ?it/s]"
     ]
    },
    {
     "ename": "IndexError",
     "evalue": "index 0 is out of bounds for axis 0 with size 0",
     "output_type": "error",
     "traceback": [
      "\u001b[1;31m---------------------------------------------------------------------------\u001b[0m",
      "\u001b[1;31mIndexError\u001b[0m                                Traceback (most recent call last)",
      "\u001b[1;32m<ipython-input-55-9fd981366006>\u001b[0m in \u001b[0;36m<module>\u001b[1;34m\u001b[0m\n\u001b[0;32m      1\u001b[0m \u001b[1;32mfrom\u001b[0m \u001b[0mtqdm\u001b[0m \u001b[1;32mimport\u001b[0m \u001b[0mtqdm\u001b[0m\u001b[1;33m\u001b[0m\u001b[1;33m\u001b[0m\u001b[0m\n\u001b[0;32m      2\u001b[0m to_gene_ids = [np.nonzero(all_features_names == genes_names[i])[0].item(0) \\\n\u001b[1;32m----> 3\u001b[1;33m                for i in tqdm(range(len(genes_names)), ncols = 100)]\n\u001b[0m",
      "\u001b[1;32m<ipython-input-55-9fd981366006>\u001b[0m in \u001b[0;36m<listcomp>\u001b[1;34m(.0)\u001b[0m\n\u001b[0;32m      1\u001b[0m \u001b[1;32mfrom\u001b[0m \u001b[0mtqdm\u001b[0m \u001b[1;32mimport\u001b[0m \u001b[0mtqdm\u001b[0m\u001b[1;33m\u001b[0m\u001b[1;33m\u001b[0m\u001b[0m\n\u001b[0;32m      2\u001b[0m to_gene_ids = [np.nonzero(all_features_names == genes_names[i])[0].item(0) \\\n\u001b[1;32m----> 3\u001b[1;33m                for i in tqdm(range(len(genes_names)), ncols = 100)]\n\u001b[0m",
      "\u001b[1;31mIndexError\u001b[0m: index 0 is out of bounds for axis 0 with size 0"
     ]
    }
   ],
   "source": [
    "from tqdm import tqdm\n",
    "to_gene_ids = [np.nonzero(all_features_names == genes_names[i])[0].item(0) \\\n",
    "               for i in tqdm(range(len(genes_names)), ncols = 100)]"
   ]
  },
  {
   "cell_type": "code",
   "execution_count": 64,
   "metadata": {},
   "outputs": [
    {
     "name": "stderr",
     "output_type": "stream",
     "text": [
      "\n",
      "  0%|                                                                     | 0/15024 [00:00<?, ?it/s]\n",
      "  6%|███▍                                                     | 918/15024 [00:00<00:01, 9120.54it/s]\n",
      " 12%|██████▊                                                 | 1839/15024 [00:00<00:01, 9127.32it/s]\n",
      " 18%|██████████▎                                             | 2761/15024 [00:00<00:01, 9135.05it/s]\n",
      " 25%|█████████████▋                                          | 3684/15024 [00:00<00:01, 9142.73it/s]\n",
      " 31%|█████████████████▏                                      | 4610/15024 [00:00<00:01, 9157.76it/s]\n",
      " 37%|████████████████████▌                                   | 5529/15024 [00:00<00:01, 9148.05it/s]\n",
      " 43%|████████████████████████                                | 6453/15024 [00:00<00:00, 9155.51it/s]\n",
      " 49%|███████████████████████████▍                            | 7375/15024 [00:00<00:00, 9154.79it/s]\n",
      " 55%|██████████████████████████████▉                         | 8298/15024 [00:00<00:00, 9156.41it/s]\n",
      " 61%|██████████████████████████████████▎                     | 9218/15024 [00:01<00:00, 9149.68it/s]\n",
      " 68%|█████████████████████████████████████▏                 | 10151/15024 [00:01<00:00, 9183.19it/s]\n",
      " 74%|████████████████████████████████████████▍              | 11062/15024 [00:01<00:00, 9140.89it/s]\n",
      " 80%|███████████████████████████████████████████▊           | 11975/15024 [00:01<00:00, 9118.31it/s]\n",
      " 86%|███████████████████████████████████████████████▏       | 12885/15024 [00:01<00:00, 9092.85it/s]\n",
      " 92%|██████████████████████████████████████████████████▌    | 13807/15024 [00:01<00:00, 9110.22it/s]\n",
      " 98%|█████████████████████████████████████████████████████▉ | 14728/15024 [00:01<00:00, 9120.71it/s]\n",
      "100%|███████████████████████████████████████████████████████| 15024/15024 [00:01<00:00, 9124.70it/s]"
     ]
    }
   ],
   "source": [
    "to_gene_ids = np.ones(len(genes_names), dtype = np.int32) * -1\n",
    "for i in tqdm(range(len(genes_names)), ncols = 100):\n",
    "    cur = np.nonzero(all_features_names == genes_names[i])[0]\n",
    "    if len(cur) > 0:\n",
    "        to_gene_ids[i] = cur.item(0)"
   ]
  },
  {
   "cell_type": "code",
   "execution_count": 60,
   "metadata": {},
   "outputs": [
    {
     "data": {
      "text/plain": [
       "(15024,)"
      ]
     },
     "execution_count": 60,
     "metadata": {},
     "output_type": "execute_result"
    }
   ],
   "source": [
    "to_gene_ids.shape"
   ]
  },
  {
   "cell_type": "code",
   "execution_count": 65,
   "metadata": {},
   "outputs": [],
   "source": [
    "IDS2 = np.array(IDS)\n",
    "for i in range(len(IDS)):\n",
    "    u = to_gene_ids[IDS[i, 0]]\n",
    "    v = to_gene_ids[IDS[i, 1]]\n",
    "    IDS2[i, 0] = u\n",
    "    IDS2[i, 1] = v"
   ]
  },
  {
   "cell_type": "code",
   "execution_count": 79,
   "metadata": {},
   "outputs": [],
   "source": [
    "mask_ids = (IDS2[:, 0] == -1) | (IDS2[:, 1] == -1)"
   ]
  },
  {
   "cell_type": "code",
   "execution_count": 82,
   "metadata": {},
   "outputs": [],
   "source": [
    "IDS3 = IDS2[~mask_ids, :]"
   ]
  },
  {
   "cell_type": "code",
   "execution_count": 85,
   "metadata": {},
   "outputs": [
    {
     "data": {
      "text/plain": [
       "((1468146, 2), (87,), (1355916, 2))"
      ]
     },
     "execution_count": 85,
     "metadata": {},
     "output_type": "execute_result"
    }
   ],
   "source": [
    "IDS2.shape, mask.shape, IDS3.shape"
   ]
  },
  {
   "cell_type": "code",
   "execution_count": 84,
   "metadata": {},
   "outputs": [],
   "source": [
    "np.savez(config.ifname(\"good_pairs\"), IDS = IDS3)"
   ]
  },
  {
   "cell_type": "code",
   "execution_count": 10,
   "metadata": {},
   "outputs": [
    {
     "data": {
      "text/plain": [
       "19.023551989536553"
      ]
     },
     "execution_count": 10,
     "metadata": {},
     "output_type": "execute_result"
    }
   ],
   "source": [
    "X.shape[1] * (X.shape[1] - 1) // 2 / len(IDS) * 853 / 3600"
   ]
  },
  {
   "cell_type": "code",
   "execution_count": 7,
   "metadata": {},
   "outputs": [
    {
     "data": {
      "text/plain": [
       "1355916"
      ]
     },
     "execution_count": 7,
     "metadata": {},
     "output_type": "execute_result"
    }
   ],
   "source": [
    "len(IDS)"
   ]
  },
  {
   "cell_type": "code",
   "execution_count": 17,
   "metadata": {},
   "outputs": [
    {
     "name": "stderr",
     "output_type": "stream",
     "text": [
      "[DEBUG/MainProcess] created semlock with handle 2824\n",
      "[DEBUG/MainProcess] created semlock with handle 2824\n",
      "[DEBUG/MainProcess] created semlock with handle 2824\n",
      "[DEBUG/MainProcess] created semlock with handle 2824\n",
      "[DEBUG/MainProcess] created semlock with handle 2824\n",
      "[DEBUG/MainProcess] created semlock with handle 2824\n",
      "[DEBUG/MainProcess] created semlock with handle 2824\n",
      "[DEBUG/MainProcess] created semlock with handle 2824\n",
      "[DEBUG/MainProcess] created semlock with handle 2824\n",
      "[DEBUG/MainProcess] created semlock with handle 2824\n",
      "[DEBUG/MainProcess] created semlock with handle 2824\n",
      "[DEBUG/MainProcess] created semlock with handle 2824\n",
      "[DEBUG/MainProcess] created semlock with handle 2824\n",
      "[DEBUG/MainProcess] created semlock with handle 2824\n",
      "[DEBUG/MainProcess] created semlock with handle 2752\n",
      "[DEBUG/MainProcess] created semlock with handle 2752\n",
      "[DEBUG/MainProcess] created semlock with handle 2752\n",
      "[DEBUG/MainProcess] created semlock with handle 2752\n",
      "[DEBUG/MainProcess] created semlock with handle 2752\n",
      "[DEBUG/MainProcess] created semlock with handle 2752\n",
      "[DEBUG/MainProcess] created semlock with handle 2752\n",
      "[DEBUG/MainProcess] created semlock with handle 2752\n",
      "[DEBUG/MainProcess] created semlock with handle 2752\n",
      "[DEBUG/MainProcess] created semlock with handle 2752\n",
      "[DEBUG/MainProcess] created semlock with handle 2752\n",
      "[DEBUG/MainProcess] created semlock with handle 2752\n",
      "[DEBUG/MainProcess] created semlock with handle 2752\n",
      "[DEBUG/MainProcess] created semlock with handle 2752\n",
      "[DEBUG/MainProcess] added worker\n",
      "[DEBUG/MainProcess] added worker\n",
      "[DEBUG/MainProcess] added worker\n",
      "[DEBUG/MainProcess] added worker\n",
      "[DEBUG/MainProcess] added worker\n",
      "[DEBUG/MainProcess] added worker\n",
      "[DEBUG/MainProcess] added worker\n",
      "[DEBUG/MainProcess] added worker\n",
      "[DEBUG/MainProcess] added worker\n",
      "[DEBUG/MainProcess] added worker\n",
      "[DEBUG/MainProcess] added worker\n",
      "[DEBUG/MainProcess] added worker\n",
      "[DEBUG/MainProcess] added worker\n",
      "[DEBUG/MainProcess] added worker\n",
      "[DEBUG/MainProcess] added worker\n",
      "[DEBUG/MainProcess] added worker\n",
      "[DEBUG/MainProcess] added worker\n",
      "[DEBUG/MainProcess] added worker\n",
      "[DEBUG/MainProcess] added worker\n",
      "[DEBUG/MainProcess] added worker\n",
      "[DEBUG/MainProcess] added worker\n",
      "[DEBUG/MainProcess] added worker\n",
      "[DEBUG/MainProcess] added worker\n",
      "[DEBUG/MainProcess] added worker\n",
      "[DEBUG/MainProcess] added worker\n",
      "[DEBUG/MainProcess] added worker\n",
      "[DEBUG/MainProcess] added worker\n",
      "[DEBUG/MainProcess] added worker\n"
     ]
    },
    {
     "name": "stdout",
     "output_type": "stream",
     "text": [
      "1\n"
     ]
    },
    {
     "name": "stderr",
     "output_type": "stream",
     "text": [
      "[DEBUG/MainProcess] terminating pool\n",
      "[DEBUG/MainProcess] terminating pool\n",
      "[DEBUG/MainProcess] terminating pool\n",
      "[DEBUG/MainProcess] terminating pool\n",
      "[DEBUG/MainProcess] terminating pool\n",
      "[DEBUG/MainProcess] terminating pool\n",
      "[DEBUG/MainProcess] terminating pool\n",
      "[DEBUG/MainProcess] terminating pool\n",
      "[DEBUG/MainProcess] terminating pool\n",
      "[DEBUG/MainProcess] terminating pool\n",
      "[DEBUG/MainProcess] terminating pool\n",
      "[DEBUG/MainProcess] terminating pool\n",
      "[DEBUG/MainProcess] terminating pool\n",
      "[DEBUG/MainProcess] terminating pool\n",
      "[DEBUG/MainProcess] finalizing pool\n",
      "[DEBUG/MainProcess] finalizing pool\n",
      "[DEBUG/MainProcess] finalizing pool\n",
      "[DEBUG/MainProcess] finalizing pool\n",
      "[DEBUG/MainProcess] finalizing pool\n",
      "[DEBUG/MainProcess] finalizing pool\n",
      "[DEBUG/MainProcess] finalizing pool\n",
      "[DEBUG/MainProcess] finalizing pool\n",
      "[DEBUG/MainProcess] finalizing pool\n",
      "[DEBUG/MainProcess] finalizing pool\n",
      "[DEBUG/MainProcess] finalizing pool\n",
      "[DEBUG/MainProcess] finalizing pool\n",
      "[DEBUG/MainProcess] finalizing pool\n",
      "[DEBUG/MainProcess] finalizing pool\n",
      "[DEBUG/MainProcess] helping task handler/workers to finish\n",
      "[DEBUG/MainProcess] helping task handler/workers to finish\n",
      "[DEBUG/MainProcess] helping task handler/workers to finish\n",
      "[DEBUG/MainProcess] helping task handler/workers to finish\n",
      "[DEBUG/MainProcess] helping task handler/workers to finish\n",
      "[DEBUG/MainProcess] helping task handler/workers to finish\n",
      "[DEBUG/MainProcess] helping task handler/workers to finish\n",
      "[DEBUG/MainProcess] helping task handler/workers to finish\n",
      "[DEBUG/MainProcess] helping task handler/workers to finish\n",
      "[DEBUG/MainProcess] helping task handler/workers to finish\n",
      "[DEBUG/MainProcess] helping task handler/workers to finish\n",
      "[DEBUG/MainProcess] helping task handler/workers to finish\n",
      "[DEBUG/MainProcess] helping task handler/workers to finish\n",
      "[DEBUG/MainProcess] helping task handler/workers to finish\n",
      "[DEBUG/MainProcess] removing tasks from inqueue until task handler finished\n",
      "[DEBUG/MainProcess] removing tasks from inqueue until task handler finished\n",
      "[DEBUG/MainProcess] removing tasks from inqueue until task handler finished\n",
      "[DEBUG/MainProcess] removing tasks from inqueue until task handler finished\n",
      "[DEBUG/MainProcess] removing tasks from inqueue until task handler finished\n",
      "[DEBUG/MainProcess] removing tasks from inqueue until task handler finished\n",
      "[DEBUG/MainProcess] removing tasks from inqueue until task handler finished\n",
      "[DEBUG/MainProcess] removing tasks from inqueue until task handler finished\n",
      "[DEBUG/MainProcess] removing tasks from inqueue until task handler finished\n",
      "[DEBUG/MainProcess] removing tasks from inqueue until task handler finished\n",
      "[DEBUG/MainProcess] removing tasks from inqueue until task handler finished\n",
      "[DEBUG/MainProcess] removing tasks from inqueue until task handler finished\n",
      "[DEBUG/MainProcess] removing tasks from inqueue until task handler finished\n",
      "[DEBUG/MainProcess] removing tasks from inqueue until task handler finished\n",
      "[DEBUG/MainProcess] worker handler exiting\n",
      "[DEBUG/MainProcess] worker handler exiting\n",
      "[DEBUG/MainProcess] task handler got sentinel\n",
      "[DEBUG/MainProcess] worker handler exiting\n",
      "[DEBUG/MainProcess] task handler got sentinel\n",
      "[DEBUG/MainProcess] worker handler exiting\n",
      "[DEBUG/MainProcess] task handler got sentinel\n",
      "[DEBUG/MainProcess] worker handler exiting\n",
      "[DEBUG/MainProcess] task handler got sentinel\n",
      "[DEBUG/MainProcess] worker handler exiting\n",
      "[DEBUG/MainProcess] task handler got sentinel\n",
      "[DEBUG/MainProcess] worker handler exiting\n",
      "[DEBUG/MainProcess] task handler got sentinel\n",
      "[DEBUG/MainProcess] worker handler exiting\n",
      "[DEBUG/MainProcess] task handler got sentinel\n",
      "[DEBUG/MainProcess] worker handler exiting\n",
      "[DEBUG/MainProcess] task handler got sentinel\n",
      "[DEBUG/MainProcess] worker handler exiting\n",
      "[DEBUG/MainProcess] task handler got sentinel\n",
      "[DEBUG/MainProcess] worker handler exiting[DEBUG/MainProcess] task handler got sentinel\n",
      "\n",
      "[DEBUG/MainProcess] worker handler exiting\n",
      "[DEBUG/MainProcess] task handler got sentinel\n",
      "[DEBUG/MainProcess] worker handler exiting\n",
      "[DEBUG/MainProcess] task handler got sentinel\n",
      "[DEBUG/MainProcess] worker handler exiting[DEBUG/MainProcess] task handler got sentinel\n",
      "\n",
      "[DEBUG/MainProcess] task handler got sentinel\n",
      "[DEBUG/MainProcess] task handler sending sentinel to result handler\n",
      "[DEBUG/MainProcess] task handler sending sentinel to result handler\n",
      "[DEBUG/MainProcess] task handler sending sentinel to result handler\n",
      "[DEBUG/MainProcess] task handler sending sentinel to result handler\n",
      "[DEBUG/MainProcess] task handler sending sentinel to result handler\n",
      "[DEBUG/MainProcess] task handler sending sentinel to result handler\n",
      "[DEBUG/MainProcess] task handler sending sentinel to result handler\n",
      "[DEBUG/MainProcess] task handler sending sentinel to result handler\n",
      "[DEBUG/MainProcess] task handler sending sentinel to result handler\n",
      "[DEBUG/MainProcess] task handler sending sentinel to result handler\n",
      "[DEBUG/MainProcess] task handler sending sentinel to result handler\n",
      "[DEBUG/MainProcess] task handler sending sentinel to result handler\n",
      "[DEBUG/MainProcess] task handler sending sentinel to result handler\n",
      "[DEBUG/MainProcess] task handler sending sentinel to result handler\n",
      "[DEBUG/MainProcess] task handler sending sentinel to workers\n",
      "[DEBUG/MainProcess] task handler sending sentinel to workers\n",
      "[DEBUG/MainProcess] result handler got sentinel\n",
      "[DEBUG/MainProcess] task handler sending sentinel to workers[DEBUG/MainProcess] result handler got sentinel\n",
      "\n",
      "[DEBUG/MainProcess] task handler sending sentinel to workers[DEBUG/MainProcess] result handler got sentinel\n",
      "\n",
      "[DEBUG/MainProcess] task handler sending sentinel to workers\n",
      "[DEBUG/MainProcess] result handler got sentinel\n",
      "[DEBUG/MainProcess] task handler sending sentinel to workers[DEBUG/MainProcess] result handler got sentinel\n",
      "\n",
      "[DEBUG/MainProcess] task handler sending sentinel to workers\n",
      "[DEBUG/MainProcess] result handler got sentinel\n",
      "[DEBUG/MainProcess] task handler sending sentinel to workers\n",
      "[DEBUG/MainProcess] result handler got sentinel\n",
      "[DEBUG/MainProcess] task handler sending sentinel to workers\n",
      "[DEBUG/MainProcess] result handler got sentinel\n",
      "[DEBUG/MainProcess] task handler sending sentinel to workers\n",
      "[DEBUG/MainProcess] result handler got sentinel\n",
      "[DEBUG/MainProcess] task handler sending sentinel to workers\n",
      "[DEBUG/MainProcess] result handler got sentinel\n",
      "[DEBUG/MainProcess] task handler sending sentinel to workers\n",
      "[DEBUG/MainProcess] result handler got sentinel\n",
      "[DEBUG/MainProcess] task handler sending sentinel to workers\n",
      "[DEBUG/MainProcess] result handler got sentinel\n",
      "[DEBUG/MainProcess] task handler sending sentinel to workers\n",
      "[DEBUG/MainProcess] result handler got sentinel\n",
      "[DEBUG/MainProcess] task handler exiting\n",
      "[DEBUG/MainProcess] result handler got sentinel\n",
      "[DEBUG/MainProcess] task handler exiting\n",
      "[DEBUG/MainProcess] joining worker handler[DEBUG/MainProcess] task handler exiting\n",
      "\n",
      "[DEBUG/MainProcess] task handler exiting\n",
      "[DEBUG/MainProcess] task handler exiting\n",
      "[DEBUG/MainProcess] joining worker handler[DEBUG/MainProcess] ensuring that outqueue is not full\n",
      "[DEBUG/MainProcess] task handler exiting\n",
      "\n",
      "[DEBUG/MainProcess] task handler exiting\n",
      "[DEBUG/MainProcess] joining worker handler\n",
      "[DEBUG/MainProcess] ensuring that outqueue is not full[DEBUG/MainProcess] task handler exiting\n",
      "\n",
      "[DEBUG/MainProcess] task handler exiting\n",
      "[DEBUG/MainProcess] joining worker handler[DEBUG/MainProcess] task handler exiting\n",
      "[DEBUG/MainProcess] ensuring that outqueue is not full\n",
      "\n",
      "[DEBUG/MainProcess] task handler exiting\n",
      "[DEBUG/MainProcess] joining worker handler[DEBUG/MainProcess] ensuring that outqueue is not full[DEBUG/MainProcess] task handler exiting\n",
      "\n",
      "\n",
      "[DEBUG/MainProcess] task handler exiting\n",
      "[DEBUG/MainProcess] task handler exiting\n",
      "[DEBUG/MainProcess] joining worker handler\n",
      "[DEBUG/MainProcess] ensuring that outqueue is not full\n",
      "[DEBUG/MainProcess] joining worker handler[DEBUG/MainProcess] ensuring that outqueue is not full\n",
      "\n",
      "[DEBUG/MainProcess] joining worker handler\n",
      "[DEBUG/MainProcess] ensuring that outqueue is not full\n",
      "[DEBUG/MainProcess] joining worker handler\n",
      "[DEBUG/MainProcess] ensuring that outqueue is not full\n",
      "[DEBUG/MainProcess] joining worker handler\n",
      "[DEBUG/MainProcess] ensuring that outqueue is not full\n",
      "[DEBUG/MainProcess] joining worker handler\n",
      "[DEBUG/MainProcess] ensuring that outqueue is not full\n"
     ]
    },
    {
     "name": "stderr",
     "output_type": "stream",
     "text": [
      "[DEBUG/MainProcess] joining worker handler\n",
      "[DEBUG/MainProcess] ensuring that outqueue is not full\n",
      "[DEBUG/MainProcess] joining worker handler\n",
      "[DEBUG/MainProcess] ensuring that outqueue is not full\n",
      "[DEBUG/MainProcess] joining worker handler\n",
      "[DEBUG/MainProcess] ensuring that outqueue is not full\n",
      "[DEBUG/MainProcess] terminating workers\n",
      "[DEBUG/MainProcess] ensuring that outqueue is not full\n",
      "[DEBUG/MainProcess] terminating workers\n",
      "[DEBUG/MainProcess] result handler exiting: len(cache)=0, thread._state=2[DEBUG/MainProcess] terminating workers\n",
      "\n",
      "[DEBUG/MainProcess] terminating workers\n",
      "[DEBUG/MainProcess] result handler exiting: len(cache)=0, thread._state=2\n",
      "[DEBUG/MainProcess] terminating workers\n",
      "[DEBUG/MainProcess] result handler exiting: len(cache)=0, thread._state=2\n",
      "[DEBUG/MainProcess] terminating workers\n",
      "[DEBUG/MainProcess] result handler exiting: len(cache)=0, thread._state=2\n",
      "[DEBUG/MainProcess] terminating workers\n",
      "[DEBUG/MainProcess] result handler exiting: len(cache)=0, thread._state=2\n",
      "[DEBUG/MainProcess] result handler exiting: len(cache)=0, thread._state=2\n",
      "[DEBUG/MainProcess] terminating workers[DEBUG/MainProcess] result handler exiting: len(cache)=0, thread._state=2\n",
      "\n",
      "[DEBUG/MainProcess] terminating workers\n",
      "[DEBUG/MainProcess] result handler exiting: len(cache)=0, thread._state=2\n",
      "[DEBUG/MainProcess] terminating workers[DEBUG/MainProcess] result handler exiting: len(cache)=0, thread._state=2\n",
      "\n",
      "[DEBUG/MainProcess] terminating workers\n",
      "[DEBUG/MainProcess] result handler exiting: len(cache)=0, thread._state=2\n",
      "[DEBUG/MainProcess] terminating workers[DEBUG/MainProcess] result handler exiting: len(cache)=0, thread._state=2\n",
      "\n",
      "[DEBUG/MainProcess] terminating workers\n",
      "[DEBUG/MainProcess] result handler exiting: len(cache)=0, thread._state=2\n",
      "[DEBUG/MainProcess] terminating workers[DEBUG/MainProcess] result handler exiting: len(cache)=0, thread._state=2\n",
      "\n",
      "[DEBUG/MainProcess] result handler exiting: len(cache)=0, thread._state=2\n",
      "[DEBUG/MainProcess] joining task handler\n",
      "[DEBUG/MainProcess] joining task handler\n",
      "[DEBUG/MainProcess] joining task handler\n",
      "[DEBUG/MainProcess] joining task handler\n",
      "[DEBUG/MainProcess] joining task handler\n",
      "[DEBUG/MainProcess] joining task handler\n",
      "[DEBUG/MainProcess] joining task handler\n",
      "[DEBUG/MainProcess] joining task handler\n",
      "[DEBUG/MainProcess] joining task handler\n",
      "[DEBUG/MainProcess] joining task handler\n",
      "[DEBUG/MainProcess] joining task handler\n",
      "[DEBUG/MainProcess] joining task handler\n",
      "[DEBUG/MainProcess] joining task handler\n",
      "[DEBUG/MainProcess] joining task handler\n",
      "[DEBUG/MainProcess] joining result handler\n",
      "[DEBUG/MainProcess] joining result handler\n",
      "[DEBUG/MainProcess] joining result handler\n",
      "[DEBUG/MainProcess] joining result handler\n",
      "[DEBUG/MainProcess] joining result handler\n",
      "[DEBUG/MainProcess] joining result handler\n",
      "[DEBUG/MainProcess] joining result handler\n",
      "[DEBUG/MainProcess] joining result handler\n",
      "[DEBUG/MainProcess] joining result handler\n",
      "[DEBUG/MainProcess] joining result handler\n",
      "[DEBUG/MainProcess] joining result handler\n",
      "[DEBUG/MainProcess] joining result handler\n",
      "[DEBUG/MainProcess] joining result handler\n",
      "[DEBUG/MainProcess] joining result handler\n",
      "[DEBUG/MainProcess] joining pool workers\n",
      "[DEBUG/MainProcess] joining pool workers\n",
      "[DEBUG/MainProcess] joining pool workers\n",
      "[DEBUG/MainProcess] joining pool workers\n",
      "[DEBUG/MainProcess] joining pool workers\n",
      "[DEBUG/MainProcess] joining pool workers\n",
      "[DEBUG/MainProcess] joining pool workers\n",
      "[DEBUG/MainProcess] joining pool workers\n",
      "[DEBUG/MainProcess] joining pool workers\n",
      "[DEBUG/MainProcess] joining pool workers\n",
      "[DEBUG/MainProcess] joining pool workers\n",
      "[DEBUG/MainProcess] joining pool workers\n",
      "[DEBUG/MainProcess] joining pool workers\n",
      "[DEBUG/MainProcess] joining pool workers\n"
     ]
    },
    {
     "name": "stdout",
     "output_type": "stream",
     "text": [
      "[(array([[False, False, False, False, False, False, False, False, False,\n",
      "        False, False, False, False, False, False, False, False, False,\n",
      "        False, False, False, False, False, False, False, False, False,\n",
      "        False, False, False, False, False, False, False, False, False,\n",
      "        False, False, False, False, False, False, False, False, False,\n",
      "        False, False, False, False, False, False, False, False, False,\n",
      "        False, False, False, False, False, False, False, False, False,\n",
      "        False, False, False, False, False, False, False, False, False,\n",
      "        False, False, False, False, False, False, False, False, False,\n",
      "        False, False, False, False, False, False]]), array([-0.10045865,  0.38741675,  0.17679457,  0.16707687, -0.01740339,\n",
      "        0.09363793,  0.6370762 ,  0.31548882,  0.21391252,  0.03413122,\n",
      "        0.06766567,  0.22052224,  0.43958214,  0.5861962 ,  0.03449933,\n",
      "       -0.04434159,  0.4420338 ,  0.05798579, -0.11634251, -0.18283941,\n",
      "        0.23762888, -0.21695076,  0.04360297, -0.02586132,  0.26760957,\n",
      "        0.10221884, -0.07746568,  0.09704427,  0.2870245 , -0.24145952,\n",
      "       -0.36635217,  0.16126555, -0.23424542,  0.00946506, -0.16822134,\n",
      "       -0.08486541, -0.08573522,  0.00449955, -0.3713208 ,  0.11475816,\n",
      "        0.3430507 ,  0.15713036,  0.13303629, -0.14098495, -0.47927785,\n",
      "        0.2019533 , -0.1879374 , -0.38090226, -0.7494058 ,  0.23050915,\n",
      "       -0.2639114 , -0.16911162, -0.08052172, -0.31617394, -0.21788348,\n",
      "       -0.18627362, -0.13755675,  0.13865978,  0.07929219, -0.18362702,\n",
      "        0.26949623, -0.53280324, -0.25616175,  0.12819257,  0.0888752 ,\n",
      "        0.21617928, -0.09380889, -0.1620741 ,  0.04291952, -0.0024768 ,\n",
      "       -0.04499653,  0.01424263, -0.08453807, -0.13763018, -0.01480283,\n",
      "       -0.36039886, -0.11507867,  0.12158579,  0.28979683, -0.4819468 ,\n",
      "        0.27469257, -0.06352865, -0.11450667,  0.08873239, -0.20790063,\n",
      "       -0.3229965 , -0.04479181], dtype=float32)), (array([[False, False, False, False, False, False, False, False, False,\n",
      "        False, False, False, False, False, False, False, False, False,\n",
      "        False, False, False, False, False, False, False, False, False,\n",
      "        False, False, False, False, False, False, False, False, False,\n",
      "        False, False, False, False, False, False, False, False, False,\n",
      "        False, False, False, False, False, False, False, False, False,\n",
      "        False, False, False, False, False, False, False, False, False,\n",
      "        False, False, False, False, False, False, False, False, False,\n",
      "        False, False, False, False, False, False, False, False, False,\n",
      "        False, False, False, False, False, False]]), array([-0.0906539 ,  0.28904575,  0.13242316,  0.12799929, -0.01298276,\n",
      "        0.07325424,  0.48714784,  0.24075697,  0.16011323,  0.0191844 ,\n",
      "        0.04523956,  0.1649246 ,  0.33267424,  0.46243572,  0.01767201,\n",
      "       -0.0400722 ,  0.34154013,  0.04574855, -0.09319689, -0.14290757,\n",
      "        0.19029132, -0.17108087,  0.0312562 , -0.02193188,  0.20792557,\n",
      "        0.07964172, -0.0562648 ,  0.07664228,  0.21726626, -0.19411032,\n",
      "       -0.29145095,  0.13859557, -0.17918268,  0.00491806, -0.1306693 ,\n",
      "       -0.07225926, -0.07150238, -0.00261092, -0.29254106,  0.08476152,\n",
      "        0.2649836 ,  0.11854623,  0.10205044, -0.11603193, -0.37378377,\n",
      "        0.15484183, -0.14870861, -0.2963077 , -0.5831221 ,  0.17930739,\n",
      "       -0.20680134, -0.13062698, -0.0621178 , -0.2474831 , -0.17360356,\n",
      "       -0.13918033, -0.10693311,  0.11373565,  0.05586689, -0.14726269,\n",
      "        0.20756565, -0.4118881 , -0.19609785,  0.11103825,  0.06579502,\n",
      "        0.17449743, -0.07279314, -0.12754995,  0.03170685,  0.00151228,\n",
      "       -0.03457592,  0.00965651, -0.06754641, -0.10985054, -0.01128059,\n",
      "       -0.2780626 , -0.0831121 ,  0.10245768,  0.2358587 , -0.37263054,\n",
      "        0.21856013, -0.04553056, -0.08779198,  0.09499231, -0.15806615,\n",
      "       -0.24729711, -0.03042732], dtype=float32)), (array([[False,  True,  True,  True,  True,  True,  True,  True,  True,\n",
      "         True,  True,  True,  True,  True,  True, False,  True,  True,\n",
      "        False, False,  True, False,  True,  True,  True,  True, False,\n",
      "         True,  True, False, False,  True, False, False, False, False,\n",
      "        False, False, False,  True,  True,  True,  True, False, False,\n",
      "         True, False, False, False,  True, False, False, False, False,\n",
      "        False, False, False,  True,  True, False,  True, False, False,\n",
      "         True,  True,  True, False, False,  True, False, False,  True,\n",
      "        False, False,  True, False, False,  True,  True, False,  True,\n",
      "        False, False, False, False, False, False]]), array([-0.03401532,  0.33436626,  0.19889897,  0.17350581,  0.04793754,\n",
      "        0.1087849 ,  0.46128553,  0.22948721,  0.15334466,  0.03023024,\n",
      "        0.08814749,  0.20192067,  0.35152572,  0.50204045,  0.09710498,\n",
      "       -0.0292596 ,  0.30415168,  0.0753495 , -0.0844027 , -0.08355071,\n",
      "        0.18460706, -0.15162858,  0.05792337,  0.06535292,  0.26630604,\n",
      "        0.05843081, -0.02846926,  0.08109561,  0.26909658, -0.16660339,\n",
      "       -0.27970302,  0.0939362 , -0.2134234 , -0.00193713, -0.12818204,\n",
      "       -0.10516118, -0.05565291, -0.04865088, -0.3059597 ,  0.01935198,\n",
      "        0.18813437,  0.08112417,  0.06695579, -0.08090729, -0.36715722,\n",
      "        0.06479087, -0.16274966, -0.28408113, -0.53644526,  0.09237491,\n",
      "       -0.20901994, -0.1392534 , -0.05277197, -0.22882523, -0.19054647,\n",
      "       -0.15147853, -0.11217388,  0.08780073,  0.08555061, -0.15480265,\n",
      "        0.20645043, -0.40139866, -0.23771538,  0.06250636,  0.05511216,\n",
      "        0.11417447, -0.12264661, -0.17466027,  0.00708295, -0.04749439,\n",
      "       -0.02137525,  0.04518429, -0.10355692, -0.14442517,  0.00512538,\n",
      "       -0.28699824, -0.16606696,  0.11359285,  0.12707484, -0.41606233,\n",
      "        0.2064082 , -0.01291727, -0.100679  , -0.0489057 , -0.16388324,\n",
      "       -0.26464638, -0.07576033], dtype=float32)), (array([[False, False, False, False, False, False, False, False, False,\n",
      "        False, False, False, False, False, False, False, False, False,\n",
      "        False, False, False, False, False, False, False, False, False,\n",
      "        False, False, False, False, False, False, False, False, False,\n",
      "        False, False, False, False, False, False, False, False, False,\n",
      "        False, False, False, False, False, False, False, False, False,\n",
      "        False, False, False, False, False, False, False, False, False,\n",
      "        False, False, False, False, False, False, False, False, False,\n",
      "        False, False, False, False, False, False, False, False, False,\n",
      "        False, False, False, False, False, False]]), array([-0.08122773,  0.29781193,  0.13599217,  0.13784744, -0.00928816,\n",
      "        0.07552562,  0.4930716 ,  0.2392775 ,  0.1635847 ,  0.02355275,\n",
      "        0.04733223,  0.1711338 ,  0.33256266,  0.4540477 ,  0.01809192,\n",
      "       -0.03718343,  0.33751103,  0.04548894, -0.09352334, -0.14383891,\n",
      "        0.1978671 , -0.17283559,  0.0296881 , -0.02100371,  0.20762332,\n",
      "        0.07507753, -0.05806173,  0.0786321 ,  0.22154842, -0.18735896,\n",
      "       -0.28964218,  0.12943834, -0.1808831 ,  0.010591  , -0.12755497,\n",
      "       -0.0678502 , -0.06921612, -0.00131226, -0.29711667,  0.08680806,\n",
      "        0.2602518 ,  0.1148818 ,  0.10097926, -0.11755973, -0.38157338,\n",
      "        0.14987619, -0.15326014, -0.30030498, -0.5856778 ,  0.17440386,\n",
      "       -0.2102679 , -0.13513966, -0.06712163, -0.25211334, -0.17475702,\n",
      "       -0.1483469 , -0.11095574,  0.10844259,  0.05953881, -0.14356484,\n",
      "        0.20956239, -0.41496643, -0.20094106,  0.10460095,  0.07244308,\n",
      "        0.16606665, -0.07476027, -0.13242961,  0.0315848 , -0.0079825 ,\n",
      "       -0.03619757,  0.00756081, -0.07175275, -0.11232068, -0.01550538,\n",
      "       -0.28455535, -0.09529329,  0.09706225,  0.22070797, -0.37900326,\n",
      "        0.20973791, -0.053581  , -0.09215764,  0.07301439, -0.16208299,\n",
      "       -0.25513405, -0.03697696], dtype=float32)), (array([[False, False, False, False, False, False, False, False, False,\n",
      "        False, False, False, False, False, False, False, False, False,\n",
      "        False, False, False, False, False, False, False, False, False,\n",
      "        False, False, False, False, False, False, False, False, False,\n",
      "        False, False, False, False, False, False, False, False, False,\n",
      "        False, False, False, False, False, False, False, False, False,\n",
      "        False, False, False, False, False, False, False, False, False,\n",
      "        False, False, False, False, False, False, False, False, False,\n",
      "        False, False, False, False, False, False, False, False, False,\n",
      "        False, False, False, False, False, False]]), array([-0.07810816,  0.29531515,  0.13468544,  0.12895255, -0.01473489,\n",
      "        0.07161438,  0.48529136,  0.23974396,  0.16206785,  0.02498817,\n",
      "        0.04957704,  0.16663095,  0.333962  ,  0.4494477 ,  0.02332006,\n",
      "       -0.03527016,  0.33632672,  0.04393665, -0.09009697, -0.14162642,\n",
      "        0.18053149, -0.16790794,  0.03113479, -0.02161782,  0.20290858,\n",
      "        0.0761627 , -0.06012834,  0.07388328,  0.21654028, -0.18354046,\n",
      "       -0.28118667,  0.12535861, -0.17791745,  0.00664247, -0.12711462,\n",
      "       -0.06409779, -0.06670737,  0.00321777, -0.2851693 ,  0.08773176,\n",
      "        0.26272553,  0.11771705,  0.10128018, -0.10744126, -0.36855307,\n",
      "        0.15470259, -0.14476529, -0.29189178, -0.5743774 ,  0.17563863,\n",
      "       -0.2024931 , -0.12908365, -0.06122716, -0.24232623, -0.16843334,\n",
      "       -0.14175619, -0.10721187,  0.10600441,  0.06104675, -0.14155775,\n",
      "        0.20718347, -0.40594274, -0.19542965,  0.09847216,  0.06876597,\n",
      "        0.16656302, -0.07247007, -0.12379101,  0.03076321, -0.00139095,\n",
      "       -0.03374223,  0.00831609, -0.06379344, -0.10540661, -0.01127625,\n",
      "       -0.27562183, -0.08854567,  0.09405978,  0.22151484, -0.37045026,\n",
      "        0.20897208, -0.05050742, -0.08827107,  0.07115003, -0.16015178,\n",
      "       -0.24801219, -0.03482068], dtype=float32)), (array([[False, False, False, False, False, False, False, False, False,\n",
      "        False, False, False, False, False, False, False, False, False,\n",
      "        False, False, False, False, False, False, False, False, False,\n",
      "        False, False, False, False, False, False, False, False, False,\n",
      "        False, False, False, False, False, False, False, False, False,\n",
      "        False, False, False, False, False, False, False, False, False,\n",
      "        False, False, False, False, False, False, False, False, False,\n",
      "        False, False, False, False, False, False, False, False, False,\n",
      "        False, False, False, False, False, False, False, False, False,\n",
      "        False, False, False, False, False, False]]), array([-0.06669224,  0.30192357,  0.15002736,  0.12955283, -0.00739951,\n",
      "        0.0789014 ,  0.4698077 ,  0.2466669 ,  0.16197324,  0.03351139,\n",
      "        0.06691546,  0.16728012,  0.34344897,  0.4332653 ,  0.0393295 ,\n",
      "       -0.02415881,  0.32943198,  0.05206515, -0.08412478, -0.12648827,\n",
      "        0.19011979, -0.15244341,  0.02846238, -0.01381712,  0.20331113,\n",
      "        0.07038049, -0.04254698,  0.07420362,  0.22608991, -0.1791958 ,\n",
      "       -0.262963  ,  0.11186053, -0.17862906, -0.00644806, -0.12242857,\n",
      "       -0.06776638, -0.06634451, -0.00554576, -0.27239808,  0.0783505 ,\n",
      "        0.24603432,  0.12114251,  0.0845805 , -0.10231418, -0.35199168,\n",
      "        0.15046328, -0.1399663 , -0.28511557, -0.558078  ,  0.1662506 ,\n",
      "       -0.19904068, -0.13329238, -0.06573679, -0.2407943 , -0.16812456,\n",
      "       -0.1387186 , -0.1064543 ,  0.09936841,  0.06163028, -0.12876344,\n",
      "        0.2057619 , -0.40016976, -0.20057376,  0.09316312,  0.05451669,\n",
      "        0.15447545, -0.07594761, -0.12837102,  0.0386411 , -0.0027162 ,\n",
      "       -0.03297495,  0.00924167, -0.06517499, -0.10249317, -0.00720097,\n",
      "       -0.25027305, -0.08853605,  0.0748549 ,  0.21367314, -0.36059728,\n",
      "        0.19335657, -0.05254204, -0.08825864,  0.03503954, -0.1643091 ,\n",
      "       -0.24425404, -0.04480334], dtype=float32)), (array([[False, False, False, False, False, False, False, False, False,\n",
      "        False, False, False, False, False, False, False, False, False,\n",
      "        False, False, False, False, False, False, False, False, False,\n",
      "        False, False, False, False, False, False, False, False, False,\n",
      "        False, False, False, False, False, False, False, False, False,\n",
      "        False, False, False, False, False, False, False, False, False,\n",
      "        False, False, False, False, False, False, False, False, False,\n",
      "        False, False, False, False, False, False, False, False, False,\n",
      "        False, False, False, False, False, False, False, False, False,\n",
      "        False, False, False, False, False, False]]), array([-0.08057716,  0.2908709 ,  0.13428307,  0.12749891, -0.01043112,\n",
      "        0.07288246,  0.48559034,  0.23403515,  0.16517973,  0.02044447,\n",
      "        0.04583134,  0.1677749 ,  0.3370204 ,  0.44891024,  0.01968127,\n",
      "       -0.03094966,  0.3359248 ,  0.03672466, -0.09467122, -0.1370228 ,\n",
      "        0.18345492, -0.16202262,  0.035054  , -0.01892859,  0.20641577,\n",
      "        0.08193444, -0.05483527,  0.06791326,  0.21118233, -0.18817118,\n",
      "       -0.2782495 ,  0.12556615, -0.17920218,  0.00391801, -0.12502615,\n",
      "       -0.06249784, -0.06209434,  0.00515435, -0.28529334,  0.08958961,\n",
      "        0.2562906 ,  0.122549  ,  0.10096204, -0.10491749, -0.36727026,\n",
      "        0.14930363, -0.1486184 , -0.29581884, -0.56592935,  0.1787823 ,\n",
      "       -0.20894387, -0.12688357, -0.05690897, -0.23685406, -0.16221413,\n",
      "       -0.13594161, -0.10924423,  0.10038698,  0.05332448, -0.13860965,\n",
      "        0.20832662, -0.40439364, -0.19517022,  0.1001155 ,  0.0705582 ,\n",
      "        0.16205774, -0.06901801, -0.11893784,  0.02801439, -0.00197699,\n",
      "       -0.03186895,  0.01277473, -0.06168143, -0.10776237, -0.01566944,\n",
      "       -0.28307542, -0.09555449,  0.09777004,  0.22496039, -0.36806336,\n",
      "        0.21109588, -0.04695882, -0.08272734,  0.06764971, -0.15490346,\n",
      "       -0.245291  , -0.03213044], dtype=float32)), (array([[False, False, False, False, False, False, False, False, False,\n",
      "        False, False, False, False, False, False, False, False, False,\n",
      "        False, False, False, False, False, False, False, False, False,\n",
      "        False, False, False, False, False, False, False, False, False,\n",
      "        False, False, False, False, False, False, False, False, False,\n",
      "        False, False, False, False, False, False, False, False, False,\n",
      "        False, False, False, False, False, False, False, False, False,\n",
      "        False, False, False, False, False, False, False, False, False,\n",
      "        False, False, False, False, False, False, False, False, False,\n",
      "        False, False, False, False, False, False]]), array([-0.07608885,  0.29361323,  0.13382293,  0.12653993, -0.01326552,\n",
      "        0.07095799,  0.4827711 ,  0.23917794,  0.16213992,  0.02591394,\n",
      "        0.05132353,  0.16714199,  0.33307043,  0.44423896,  0.02616601,\n",
      "       -0.03358499,  0.33494917,  0.04395996, -0.08811961, -0.13851884,\n",
      "        0.18001124, -0.16440575,  0.03306956, -0.01954767,  0.2027918 ,\n",
      "        0.07750054, -0.05882747,  0.07358998,  0.21752827, -0.18297379,\n",
      "       -0.27764046,  0.12210628, -0.17759646,  0.00724641, -0.1275614 ,\n",
      "       -0.06428848, -0.06488037,  0.00346928, -0.2813689 ,  0.08705483,\n",
      "        0.2599606 ,  0.11907979,  0.10079017, -0.10688307, -0.36323726,\n",
      "        0.1531088 , -0.1424123 , -0.28860775, -0.5678999 ,  0.17467244,\n",
      "       -0.1999865 , -0.1281821 , -0.06097338, -0.23955053, -0.16513553,\n",
      "       -0.14123818, -0.10429534,  0.10512891,  0.05995047, -0.13913889,\n",
      "        0.20424949, -0.40383804, -0.1940838 ,  0.09697877,  0.06738488,\n",
      "        0.16381347, -0.07110276, -0.12281287,  0.03247623, -0.00201793,\n",
      "       -0.03417764,  0.01073881, -0.06393258, -0.1043057 , -0.01123037,\n",
      "       -0.2731357 , -0.08739313,  0.0919712 ,  0.21919353, -0.36532387,\n",
      "        0.20811422, -0.04820296, -0.08680598,  0.06725995, -0.15763052,\n",
      "       -0.24482168, -0.0339043 ], dtype=float32))]\n"
     ]
    }
   ],
   "source": [
    "import multiprocessing as mp\n",
    "import multiprocessing, logging\n",
    "mpl = multiprocessing.log_to_stderr()\n",
    "mpl.setLevel(logging.DEBUG)\n",
    "from tmp import *\n",
    "\n",
    "if __name__ == \"__main__\":\n",
    "    main(X, y, mask)"
   ]
  },
  {
   "cell_type": "code",
   "execution_count": null,
   "metadata": {},
   "outputs": [],
   "source": [
    "#import Pool\n",
    "from multiprocessing import Pool\n",
    "#Define a worker — a function which will be executed in parallel\n",
    "def worker(x):\n",
    "    return x*x\n",
    "#Assuming you want to use 3 processors\n",
    "num_processors = 3\n",
    "#Create a pool of processors\n",
    "p=Pool(processes = num_processors)\n",
    "#get them to work in parallel\n",
    "output = p.map(worker,[i for i in range(0,3)])\n",
    "print(output)"
   ]
  },
  {
   "cell_type": "code",
   "execution_count": 11,
   "metadata": {},
   "outputs": [
    {
     "data": {
      "text/plain": [
       "parenclitic.classes.classifier_kernel"
      ]
     },
     "execution_count": 11,
     "metadata": {},
     "output_type": "execute_result"
    }
   ],
   "source": []
  },
  {
   "cell_type": "code",
   "execution_count": 17,
   "metadata": {},
   "outputs": [
    {
     "name": "stdout",
     "output_type": "stream",
     "text": [
      "[0, 0, 0, 0, 0, 0, 0, 0, 0, 0, 0, 0, 0, 0, 0, 0, 0, 0, 0, 0, 0, 0, 0, 0, 0, 0, 0, 0, 0, 503, 421, 403, 501, 756, 547, 646, 605, 541, 672, 654, 539, 484, 619, 398, 410, 460, 528, 576, 694, 638, 485, 571, 578, 734, 576, 612, 397, 646, 514, 526, 542, 730, 739, 751, 801, 672, 703, 813, 747, 700, 716, 494, 706, 560, 451, 552, 661, 712, 814, 786, 699, 646, 666, 673, 727, 566, 679]\n"
     ]
    }
   ],
   "source": []
  },
  {
   "cell_type": "code",
   "execution_count": 9,
   "metadata": {},
   "outputs": [],
   "source": [
    "from transform_data import * "
   ]
  },
  {
   "cell_type": "code",
   "execution_count": 13,
   "metadata": {},
   "outputs": [
    {
     "name": "stdout",
     "output_type": "stream",
     "text": [
      "[6.44163452e-03 5.85362531e-02 1.55135318e-01 ... 5.82742013e+05\n",
      " 5.82867412e+05 1.00000000e+00]\n"
     ]
    },
    {
     "data": {
      "text/plain": [
       "array([[ True,  True,  True,  True, False,  True,  True,  True,  True,\n",
       "         True,  True,  True,  True,  True,  True,  True,  True, False,\n",
       "        False, False,  True,  True, False, False,  True,  True,  True,\n",
       "         True,  True,  True,  True,  True,  True, False, False,  True,\n",
       "         True,  True,  True,  True,  True,  True, False,  True,  True,\n",
       "         True, False,  True,  True,  True,  True, False, False,  True,\n",
       "         True,  True, False,  True,  True,  True,  True,  True,  True,\n",
       "         True, False,  True, False, False, False,  True, False, False,\n",
       "        False, False, False,  True,  True,  True,  True,  True,  True,\n",
       "         True, False,  True,  True,  True,  True]])"
      ]
     },
     "execution_count": 13,
     "metadata": {},
     "output_type": "execute_result"
    }
   ],
   "source": [
    "make_genes_edge(X[:, 0], X[:, 1], X[:, 0], X[:, 1], [0.8])"
   ]
  },
  {
   "cell_type": "code",
   "execution_count": null,
   "metadata": {},
   "outputs": [],
   "source": [
    "data = np.random.normal(size = 1000)\n",
    "kde = stats.gaussian_kde(data)"
   ]
  },
  {
   "cell_type": "code",
   "execution_count": 97,
   "metadata": {},
   "outputs": [
    {
     "name": "stdout",
     "output_type": "stream",
     "text": [
      "(1000000,)\n",
      "0.747832 0.0013896868650297156\n"
     ]
    }
   ],
   "source": [
    "num_points = 1000000\n",
    "points = kde.resample(num_points)\n",
    "pr = np.array(kde(points))\n",
    "pr.sort()\n",
    "thr_p = 0.2\n",
    "print(pr.shape)\n",
    "p = 0.2\n",
    "pos = np.searchsorted(pr, p)\n",
    "w = float(num_points - pos) / num_points\n",
    "print(w, abs(w - wl))"
   ]
  },
  {
   "cell_type": "code",
   "execution_count": 98,
   "metadata": {},
   "outputs": [
    {
     "data": {
      "image/png": "[encoded data removed]",
      "text/plain": [
       "<Figure size 432x288 with 1 Axes>"
      ]
     },
     "metadata": {
      "needs_background": "light"
     },
     "output_type": "display_data"
    }
   ],
   "source": [
    "x = np.linspace(-1.15, 1.2, 10000000)\n",
    "plt.plot(x, kde(x), 'o')\n",
    "wl = ((x[1] - x[0]) * kde(x)).sum()"
   ]
  },
  {
   "cell_type": "code",
   "execution_count": 99,
   "metadata": {},
   "outputs": [
    {
     "name": "stdout",
     "output_type": "stream",
     "text": [
      "0.747832 0.0013943507527764964\n"
     ]
    }
   ],
   "source": [
    "print(w, abs(w - wl))"
   ]
  },
  {
   "cell_type": "code",
   "execution_count": 45,
   "metadata": {},
   "outputs": [
    {
     "data": {
      "text/plain": [
       "0.9999999420213942"
      ]
     },
     "execution_count": 45,
     "metadata": {},
     "output_type": "execute_result"
    }
   ],
   "source": [
    "((x[1] - x[0]) * kde(x)).sum()"
   ]
  },
  {
   "cell_type": "code",
   "execution_count": 8,
   "metadata": {},
   "outputs": [
    {
     "ename": "KeyboardInterrupt",
     "evalue": "",
     "output_type": "error",
     "traceback": [
      "\u001b[1;31m---------------------------------------------------------------------------\u001b[0m",
      "\u001b[1;31mKeyboardInterrupt\u001b[0m                         Traceback (most recent call last)",
      "\u001b[1;32m<ipython-input-8-b7133701d76c>\u001b[0m in \u001b[0;36m<module>\u001b[1;34m\u001b[0m\n\u001b[0;32m      1\u001b[0m \u001b[1;32mwhile\u001b[0m \u001b[1;32mTrue\u001b[0m\u001b[1;33m:\u001b[0m\u001b[1;33m\u001b[0m\u001b[1;33m\u001b[0m\u001b[0m\n\u001b[1;32m----> 2\u001b[1;33m     \u001b[1;32mpass\u001b[0m\u001b[1;33m\u001b[0m\u001b[1;33m\u001b[0m\u001b[0m\n\u001b[0m",
      "\u001b[1;31mKeyboardInterrupt\u001b[0m: "
     ]
    }
   ],
   "source": [
    "while True:\n",
    "    "
   ]
  },
  {
   "cell_type": "code",
   "execution_count": null,
   "metadata": {},
   "outputs": [],
   "source": []
  }
 ],
 "metadata": {
  "kernelspec": {
   "display_name": "Python 3",
   "language": "python",
   "name": "python3"
  },
  "language_info": {
   "codemirror_mode": {
    "name": "ipython",
    "version": 3
   },
   "file_extension": ".py",
   "mimetype": "text/x-python",
   "name": "python",
   "nbconvert_exporter": "python",
   "pygments_lexer": "ipython3",
   "version": "3.7.1"
  }
 },
 "nbformat": 4,
 "nbformat_minor": 2
}
