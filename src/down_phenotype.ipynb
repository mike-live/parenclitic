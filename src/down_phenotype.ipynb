{
 "cells": [
  {
   "cell_type": "code",
   "execution_count": 1,
   "metadata": {},
   "outputs": [],
   "source": [
    "%load_ext autoreload\n",
    "%autoreload 2\n",
    "import numpy as np\n",
    "from numpy import linalg as LA\n",
    "import pandas as pd\n",
    "#from load_data_mongoloids import load_data_mongoloids\n",
    "#from mongoloids_config import config\n",
    "\n",
    "#from load_data_cancer import load_data_cancer\n",
    "#from cancer_config import config\n",
    "import re\n",
    "import time\n",
    "import matplotlib\n",
    "import matplotlib.pyplot as plt\n",
    "import matplotlib.mlab as mlab\n",
    "#import plotly.plotly as py\n",
    "import textwrap\n",
    "import scipy.stats as stats\n",
    "\n",
    "from sklearn import svm, datasets\n",
    "from scipy import stats\n",
    "from sklearn import neighbors, ensemble, linear_model, neural_network\n",
    "from sklearn.model_selection import cross_val_score\n",
    "from sklearn.metrics import mean_squared_error\n",
    "import scipy\n",
    "\n",
    "from infrastructure.configuration import param\n",
    "import matplotlib.pylab as pylab\n",
    "import seaborn\n",
    "seaborn.set_style('darkgrid', {'legend.frameon':True})\n",
    "fontsize = 20\n",
    "params = {'legend.fontsize': fontsize,\n",
    "  'figure.figsize': (18, 15),\n",
    "  'axes.labelsize': fontsize,\n",
    "  'axes.titlesize':fontsize,\n",
    "  'xtick.labelsize':fontsize,\n",
    "  'ytick.labelsize':fontsize,\n",
    "  'font.size':fontsize}\n",
    "pylab.rcParams.update(params)\n",
    "plt.rc('axes', labelsize=fontsize) \n",
    "\n",
    "plt.style.use('ggplot')\n",
    "%matplotlib inline\n",
    "\n",
    "import igraph\n",
    "import cairo"
   ]
  },
  {
   "cell_type": "code",
   "execution_count": 2,
   "metadata": {},
   "outputs": [],
   "source": [
    "from configurations.load_data_down_GSE52588 import load_data_down_GSE52588_cpgs\n",
    "from configurations.config_down_GSE52588_cpg import config"
   ]
  },
  {
   "cell_type": "code",
   "execution_count": 2,
   "metadata": {},
   "outputs": [
    {
     "name": "stdout",
     "output_type": "stream",
     "text": [
      "Data loaded:  1.8364357979999992\n",
      "float32 (15024, 87)\n",
      "(87, 15024) 15024\n"
     ]
    }
   ],
   "source": [
    "\n",
    "#from configurations.load_data_down_GSE52588 import load_data_down_GSE52588_cpgs\n",
    "#from configurations.config_down_GSE52588_cpg import config\n",
    "\n",
    "X, y, mask, genes_names = load_data_down_GSE52588()"
   ]
  },
  {
   "cell_type": "code",
   "execution_count": 29,
   "metadata": {},
   "outputs": [
    {
     "name": "stdout",
     "output_type": "stream",
     "text": [
      "0.1 0.1\n"
     ]
    }
   ],
   "source": [
    "x = float(0.1)\n",
    "print(\"{:g}\".format(x), str(x))"
   ]
  },
  {
   "cell_type": "code",
   "execution_count": 40,
   "metadata": {},
   "outputs": [],
   "source": [
    "from load_parenclitics import load_parenclitics\n",
    "from transform_data import parenclitic_feature_names\n",
    "parenclitics = load_parenclitics(config, by_sample = True, id_thr = 5)\n",
    "#print (parenclitics)\n",
    "is_lists = True\n",
    "numerics = ['int16', 'int32', 'int64', 'float16', 'float32', 'float64']\n",
    "if is_lists:\n",
    "    parenclitics = parenclitics.select_dtypes(exclude=numerics) # includ exclude\n",
    "    parenclitics = parenclitics.drop(columns = [\"eigenvalues_intervals_normalized\", \"eigenvalues_intervals\", \"IPR\", \"weights\", \"eigenvalues\"])\n",
    "else:\n",
    "    parenclitics = parenclitics.select_dtypes(include=numerics) # includ exclude\n",
    "    parenclitics = parenclitics.drop(columns = [\"mean_pagerank\", \"max_degrees\", \"max_closeness\"])\n",
    "#print parenclitics\n",
    "#parenclitics = parenclitics[:29]\n",
    "\n",
    "#parenclitics = parenclitics.drop(columns = [\"std_weights\", \"max_weights\", \"mean_weights\", \"mean_pagerank\", \"mean_closeness\", \"max_closeness\"])\n",
    "\n",
    "\n",
    "#\n",
    "#print parenclitics.columns.values, len(parenclitics.columns.values)\n",
    "parenclitic_names = parenclitic_feature_names()\n",
    "parenclitic_names = [parenclitic_names[name] for name in parenclitics.columns.values]\n",
    "#ids = [0,7,11,15,16,17,18]\n",
    "#parenclitic_names = np.delete(np.array(parenclitic_names), ids)\n",
    "\n",
    "#parenclitics = parenclitics.drop(columns = parenclitics.columns[ids])\n",
    "\n",
    "parenclitics.columns = range(len(parenclitics.columns))"
   ]
  },
  {
   "cell_type": "code",
   "execution_count": 39,
   "metadata": {},
   "outputs": [
    {
     "name": "stdout",
     "output_type": "stream",
     "text": [
      "{'degrees': 'Degrees', 'min_degrees': 'Min degrees', 'max_degrees': 'Max degrees', 'mean_degrees': 'Mean degrees', 'std_degrees': 'Std degrees', 'efficiency': 'Efficiency', 'betweenness': 'Betweenness', 'min_betweenness': 'Min betweenness', 'max_betweenness': 'Max betweenness', 'mean_betweenness': 'Mean betweenness', 'std_betweenness': 'Std betweenness', 'closeness': 'Closeness', 'min_closeness': 'Min closeness', 'max_closeness': 'Max closeness', 'mean_closeness': 'Mean closeness', 'std_closeness': 'Std closeness', 'pagerank': 'Pagerank', 'min_pagerank': 'Min pagerank', 'max_pagerank': 'Max pagerank', 'mean_pagerank': 'Mean pagerank', 'std_pagerank': 'Std pagerank', 'eigenvalues': 'Eigenvalues', 'min_eigenvector_centrality': 'Min eigenvector centrality', 'max_eigenvector_centrality': 'Max eigenvector centrality', 'mean_eigenvector_centrality': 'Mean eigenvector centrality', 'std_eigenvector_centrality': 'Std eigenvector centrality', 'num_edges': 'Number of edges', 'eigenvalues_intervals': 'Eigenvalues intervals', 'eigenvalues_intervals_normalized': 'Eigenvalues intervals normalized', 'IPR': 'IPR', 'max_IPR': 'Max IPR', 'mean_IPR': 'Mean IPR', 'weights': 'Weights', 'sum_weights': 'Sum weights', 'min_weights': 'Min weights', 'max_weights': 'Max weights', 'mean_weights': 'Mean weights', 'std_weights': 'Std weights', 'community_edge_betweenness_optimal': 'Community edge betweenness: optimal count', 'robustness': 'Robustness'}\n"
     ]
    }
   ],
   "source": [
    "print (parenclitic_names)"
   ]
  },
  {
   "cell_type": "code",
   "execution_count": 6,
   "metadata": {},
   "outputs": [],
   "source": [
    "import pandas as pd\n",
    "phenotype_df = pd.read_csv(\"../../../data/Down_phenotype/DOWN_FENOTIPO_No4,8,12_PerCorrelazioni.tsv\", delimiter = '\\t')"
   ]
  },
  {
   "cell_type": "code",
   "execution_count": 17,
   "metadata": {},
   "outputs": [
    {
     "name": "stdout",
     "output_type": "stream",
     "text": [
      "(29, 125)\n"
     ]
    }
   ],
   "source": [
    "print phenotype_df.shape\n",
    "mask = (phenotype_df.isnull().sum() == 0)\n",
    "phenotype_df_good = phenotype_df[mask.index[mask]]\n",
    "#print phenotype_df_good\n",
    "\n",
    "from sklearn.impute import SimpleImputer\n",
    "df = pd.DataFrame(phenotype_df)\n",
    "imp = SimpleImputer(missing_values=np.nan, strategy='median')\n",
    "imp.fit(df)\n",
    "phenotype_df_imputed = pd.DataFrame(imp.transform(df))\n",
    "phenotype_df_imputed.columns = phenotype_df.columns"
   ]
  },
  {
   "cell_type": "code",
   "execution_count": 5,
   "metadata": {
    "scrolled": false
   },
   "outputs": [
    {
     "data": {
      "text/plain": [
       "'\\nfor feature_name in feature_names:\\n    plt.figure()\\n    plt.scatter(df_pca[\"pca_0\"], df_pca[\"pca_4\"], c = phenotype_df[feature_name], cmap= \\'jet\\')\\n'"
      ]
     },
     "execution_count": 5,
     "metadata": {},
     "output_type": "execute_result"
    }
   ],
   "source": [
    "from sklearn.decomposition import PCA\n",
    "\n",
    "df = pd.DataFrame(phenotype_df)\n",
    "df = df.drop(['codicePID'], axis=1)\n",
    "\n",
    "from sklearn.impute import SimpleImputer\n",
    "imp = SimpleImputer(missing_values=np.nan, strategy='median')\n",
    "imp.fit(df)\n",
    "\n",
    "'''\n",
    "df = pd.DataFrame(parenclitics)\n",
    "#print df\n",
    "\n",
    "df = (df - df.mean()) / df.std()\n",
    "num_components = 10\n",
    "pca = PCA(n_components=num_components, svd_solver='full')\n",
    "pca.fit(df)\n",
    "\n",
    "columns = ['pca_%i' % i for i in range(num_components)]\n",
    "df_pca = pd.DataFrame(pca.transform(df), columns=columns, index=df.index)\n",
    "df_pca\n",
    "'''\n",
    "\n",
    "feature_names = [\"categoriaDSQIID\", \"fluenzaverbale\",\"ABCiperattivita\", \"ABCIrritabilita\", \"ABCletargia\", \"ABCstereotipie\", \"ABCinappropriatespeech\", \"fluenzafonemica\", \"F.A.B.\"]\n",
    "'''\n",
    "for feature_name in feature_names:\n",
    "    plt.figure()\n",
    "    plt.scatter(df_pca[\"pca_0\"], df_pca[\"pca_4\"], c = phenotype_df[feature_name], cmap= 'jet')\n",
    "'''"
   ]
  },
  {
   "cell_type": "code",
   "execution_count": null,
   "metadata": {
    "collapsed": true
   },
   "outputs": [],
   "source": []
  },
  {
   "cell_type": "code",
   "execution_count": 21,
   "metadata": {
    "scrolled": false
   },
   "outputs": [
    {
     "name": "stdout",
     "output_type": "stream",
     "text": [
      "categoriaDSQIID\n",
      "[ 0  0  0  0  1  0  0  0  0  0  0  0  0  0  1  0  0  1  0  1  0  1  0  0  1  0  0  0  0] good\n",
      "[ 0  0  0  0  1  0  0  0  0  1  0  1  0  0  1  0  0  0  0  1  0  1  0  1  0  0  0  0  0] 0.62 0.79 0.83 SVC\n",
      "[ 0  0  0  0  0  0  0  0  0  0  0  0  0  0  0  0  0  0  0  1  0  0  0  0  0  0  0  0  0] 0.80 0.79 0.83 KNeighborsClassifier\n",
      "[ 0  0  0  0  1  0  0  0  0  0  0  0  0  0  1  0  0  0  1  1  1  1  0  1  0  0  1  0  1] 0.49 0.79 0.76 LinearSVC\n",
      "[ 0  0  0  0  0  0  0  0  0  0  0  0  0  0  0  0  0  0  0  1  0  1  0  0  1  0  0  0  0] 0.76 0.79 0.90 RandomForestClassifier\n",
      "fluenzaverbale\n",
      "[ 0  1  1  0  1  1  0  0  0  1  0  1  1  2  0  0  1  0  2  0  0  0  0  0  2] good\n",
      "[ 1  1  1  0  1  1  1  1  0  1  1  1  1  2  1  0  1  0  2  0  1  1  0  1  2] 0.35 0.56 0.68 SVC\n",
      "[ 0  0  1  0  0  0  0  0  0  0  0  1  1  2  0  0  1  0  1  0  0  0  0  0  0] 0.63 0.56 0.76 KNeighborsClassifier\n"
     ]
    },
    {
     "name": "stderr",
     "output_type": "stream",
     "text": [
      "C:\\Users\\mike_live\\Anaconda2\\lib\\site-packages\\sklearn\\svm\\base.py:196: FutureWarning: The default value of gamma will change from 'auto' to 'scale' in version 0.22 to account better for unscaled features. Set gamma explicitly to 'auto' or 'scale' to avoid this warning.\n",
      "  \"avoid this warning.\", FutureWarning)\n",
      "C:\\Users\\mike_live\\Anaconda2\\lib\\site-packages\\sklearn\\svm\\base.py:931: ConvergenceWarning: Liblinear failed to converge, increase the number of iterations.\n",
      "  \"the number of iterations.\", ConvergenceWarning)\n",
      "C:\\Users\\mike_live\\Anaconda2\\lib\\site-packages\\sklearn\\svm\\base.py:931: ConvergenceWarning: Liblinear failed to converge, increase the number of iterations.\n",
      "  \"the number of iterations.\", ConvergenceWarning)\n",
      "C:\\Users\\mike_live\\Anaconda2\\lib\\site-packages\\sklearn\\model_selection\\_split.py:652: Warning: The least populated class in y has only 3 members, which is too few. The minimum number of members in any class cannot be less than n_splits=5.\n",
      "  % (min_groups, self.n_splits)), Warning)\n"
     ]
    },
    {
     "name": "stdout",
     "output_type": "stream",
     "text": [
      "[ 1  1  0  0  0  0  0  0  0  0  1  1  1  2  1  0  1  0  2  0  0  1  0  0  2] 0.40 0.56 0.68 LinearSVC\n",
      "[ 0  1  1  1  1  1  0  0  0  1  0  1  1  2  0  0  0  0  2  0  0  0  0  0  2] 0.53 0.56 0.92 RandomForestClassifier\n",
      "ABCiperattivita\n",
      "[ 5  0 12  1  0  0  3  2  9  1  0  3 43  2  2  2  0  2  0  0  1  1  0  0  2  0  0  2] good\n",
      "[ 5  5 12  0  2  0  9  9  9  1  2  3 43  9  2  2 43  2  2  0  1  1  2  2 43  1 43  5] 0.15 0.39 0.46 SVC\n",
      "[ 0  0 12  1  0  0  0  0  3  1  0  1  2  2  2  0  0  1  0  0  1  1  0  0  2  0  0  2] 0.35 0.39 0.71 KNeighborsClassifier\n",
      "[ 5  5 12  0  2  0  3  0  9  1  1  3 43  2  2  2 43  0  0  0  1  1  2  0  2  0  0  2] 0.15 0.39 0.71 LinearSVC\n"
     ]
    },
    {
     "name": "stderr",
     "output_type": "stream",
     "text": [
      "C:\\Users\\mike_live\\Anaconda2\\lib\\site-packages\\sklearn\\model_selection\\_split.py:652: Warning: The least populated class in y has only 1 members, which is too few. The minimum number of members in any class cannot be less than n_splits=5.\n",
      "  % (min_groups, self.n_splits)), Warning)\n"
     ]
    },
    {
     "name": "stdout",
     "output_type": "stream",
     "text": [
      "[ 5  0 12  1  0  0  3  2  9  1  0  3  2  2  2  2  0  2  0  0  1  1  0  0  2  0  0  2] 0.27 0.39 0.96 RandomForestClassifier\n",
      "ABCIrritabilita\n",
      "[ 0  1  5  2  0  0  0  3  0  0  0  1  8 16  0  0  0  0  0  1  6  3  4  0  0  0  0  3] good\n",
      "[ 5  2  5  2 16  2  0  0  8  3  0  1  8 16  0  4  4  2  2  1  6  3  4  0  8  0  8  3] 0.11 0.57 0.54 SVC\n",
      "[ 0  0  5  0  0  0  0  0  0  0  0  0  0  0  0  0  0  0  0  1  0  0  0  0  0  0  0  0] 0.53 0.57 0.64 KNeighborsClassifier\n",
      "[ 2  1  5  2  3  0  0  0  8  1  0  1  8 16  0  0  1  0  0  1  6  3  4  0  0  0  0  3] 0.18 0.57 0.79 LinearSVC\n",
      "[ 0  1  0  0  0  0  0  0  0  0  0  1  8 16  0  0  0  0  0  1  6  1  4  0  0  0  0  3] 0.59 0.57 0.86 RandomForestClassifier\n",
      "ABCletargia\n",
      "[17  5  0  9 27  0  2  2 10 17  6 13  0  2 14  1  6 13  0 16  0 13  0  2  0  3  1  3] good\n",
      "[ 5  5  0  9 27  0  0  0  0 13  0 13  0  2 14  0  0  0  0 16 13 13  0  0  0  3  0  3] 0.10 0.25 0.57 SVC\n",
      "[ 5  5  0  9  2  0  2  2  2 13  6 13  0  2  2  0  0  9  0 13  0 13  0  2  0  0  1  3] 0.54 0.25 0.64 KNeighborsClassifier\n",
      "[ 5  5  0  9 27  0 13  2 10 17  6 13  6  2 14  1  6  6  0 16 14 13  1  2  0  3  1  3] 0.00 0.25 0.79 LinearSVC\n",
      "[17  5  0  9 27  0  2  2  2 17  6 13  0  2 14  0  0  9  0 16  0 13  0  2  0  3  1  3] 0.33 0.25 0.86 RandomForestClassifier\n",
      "ABCstereotipie\n",
      "[10  0  2  3 11  0  8  0  2  8  4  0  4  2  0  2  0  3  0  5  6  9  3  0  0  0  0  1] good\n",
      "[10  3  3  3 11  3  3  0  0  9  4  9  3  0  0  3  3  3  3  5  6  9  3  3  3  0  3  1] 0.27 0.39 0.46 SVC\n",
      "[ 0  0  2  3  2  0  0  0  2  8  3  0  0  2  0  2  0  3  0  5  0  8  2  0  0  0  0  1] 0.56 0.39 0.71 KNeighborsClassifier\n",
      "[10 10 10  3 11  0  0  0  2  8  4  0  2  2  0  3  2  3  0  5  6  9  3  0  2  0  0  1] 0.31 0.39 0.75 LinearSVC\n",
      "[ 0  0  0  3  0  0  8  0  2  6  8  0  4  2  0  0  0  3  0  5  6  9  3  0  0  0  0  0] 0.25 0.39 0.75 RandomForestClassifier\n",
      "ABCinappropriatespeech\n",
      "[ 2  4  2  3  6  0  2  2  4  5  4  3  9  5  0  2  7  3  5  0  3  3  5  1  1  3  4  6] good\n",
      "[ 2  2  9  1  6  1  1  1  9  5  4  3  9  4  0  1  7  1  1  0  3  3  7  1  9  3  1  6] 0.13 0.21 0.50 SVC\n",
      "[ 2  2  2  3  5  0  1  1  2  3  3  3  1  4  0  2  5  3  3  0  0  3  2  1  1  3  3  2] 0.27 0.21 0.46 KNeighborsClassifier\n",
      "[ 2  2  9  3  6  0  4  1  9  5  4  5  9  2  3  5  7  4  1  0  3  3  7  1  1  3  4  6] 0.12 0.21 0.57 LinearSVC\n",
      "[ 2  4  2  3  0  0  2  2  4  5  4  3  9  5  0  2  4  2  5  0  3  3  5  1  1  3  2  6] 0.16 0.21 0.86 RandomForestClassifier\n",
      "fluenzafonemica\n",
      "[ 0  9  3  8  3 19  9  6  0  5  7  2  9  0  0 14  0  8  0  7  3 20  0  6  9  0  6 20] good\n",
      "[ 6  9  9  8  3  6  6  6  6  5  7  2  6  0  6 14  8  8  0  7  5 14  2  6  6  0  6 20] 0.16 0.29 0.57 SVC\n"
     ]
    },
    {
     "name": "stderr",
     "output_type": "stream",
     "text": [
      "C:\\Users\\mike_live\\Anaconda2\\lib\\site-packages\\sklearn\\svm\\base.py:931: ConvergenceWarning: Liblinear failed to converge, increase the number of iterations.\n",
      "  \"the number of iterations.\", ConvergenceWarning)\n"
     ]
    },
    {
     "name": "stdout",
     "output_type": "stream",
     "text": [
      "[ 0  0  3  0  0  6  6  6  0  3  0  0  9  0  0 14  0  0  0  0  3  0  0  6  9  0  0  0] 0.08 0.29 0.54 KNeighborsClassifier\n",
      "[ 9  9  9  8  3 19  9  6  9  5  7  2  9  0 20 14  8  8  0  7  3 20  0  6  9  0  9 20] 0.11 0.29 0.79 LinearSVC\n",
      "[ 0  0  0  8  3 19  9  6  0  5  7  2  9  0 20 14  0  8  0  7  3  0  0  6  9  0  6  9] 0.39 0.29 0.82 RandomForestClassifier\n",
      "F.A.B.\n"
     ]
    }
   ],
   "source": [
    "from sklearn import svm, datasets\n",
    "from scipy import stats\n",
    "from sklearn import neighbors, ensemble\n",
    "from sklearn.model_selection import cross_val_score\n",
    "\n",
    "data = parenclitics\n",
    "data = data[:29].values\n",
    "data = stats.zscore(data)\n",
    "\n",
    "np.set_printoptions(linewidth=100, formatter={'int':lambda x: \"{:2d}\".format(x), 'float':lambda x: \"{:.2f}\".format(x)})\n",
    "feature_names = [\"categoriaDSQIID\", \"fluenzaverbale\",\"ABCiperattivita\", \"ABCIrritabilita\", \"ABCletargia\", \"ABCstereotipie\", \"ABCinappropriatespeech\", \"fluenzafonemica\", \"F.A.B.\"]\n",
    "for feature_name in feature_names:\n",
    "    print feature_name\n",
    "    feature = (phenotype_df[feature_name].values)\n",
    "    cur = data[~np.isnan(feature)]\n",
    "    feature = feature[~np.isnan(feature)].astype('int')\n",
    "    if (feature == 0).sum() < 3:\n",
    "        continue\n",
    "    #feature = (feature > np.median(feature)).astype('int')\n",
    "    \n",
    "    #print np.nan_to_num(phenotype_df[feature_name].values, -1).astype('int'), 'source'\n",
    "    print feature, 'good'\n",
    "    clfs = [svm.SVC(kernel = 'rbf', C = 1, class_weight = \"balanced\"), \n",
    "            neighbors.KNeighborsClassifier(n_neighbors = 2),\n",
    "            svm.LinearSVC(C = 1, class_weight = \"balanced\"),\n",
    "            ensemble.RandomForestClassifier(n_estimators = 4)]\n",
    "\n",
    "    for clf in clfs:\n",
    "        score = cross_val_score(clf, cur, feature, cv=5).mean()\n",
    "        clf.fit(cur, feature)\n",
    "        predicted = clf.predict(cur)\n",
    "        score2 = clf.score(cur, feature)\n",
    "        val = float(np.bincount(feature).max()) / len(feature)\n",
    "        print predicted, \"{:.2f}\".format(score), \"{:.2f}\".format(val), \"{:.2f}\".format(score2), type(clf).__name__"
   ]
  },
  {
   "cell_type": "code",
   "execution_count": 42,
   "metadata": {
    "scrolled": true
   },
   "outputs": [
    {
     "name": "stdout",
     "output_type": "stream",
     "text": [
      "Betweenness Closeness\n",
      "Betweenness Degrees\n",
      "Betweenness Eigenvector centrality\n",
      "Betweenness Pagerank\n",
      "Closeness Betweenness\n",
      "Closeness Degrees\n",
      "Closeness Eigenvector centrality\n",
      "Closeness Pagerank\n",
      "Degrees Betweenness\n",
      "Degrees Closeness\n",
      "Degrees Eigenvector centrality\n",
      "Degrees Pagerank\n",
      "Eigenvector centrality Betweenness\n",
      "Eigenvector centrality Closeness\n",
      "Eigenvector centrality Degrees\n",
      "Eigenvector centrality Pagerank\n",
      "Pagerank Betweenness\n",
      "Pagerank Closeness\n",
      "Pagerank Degrees\n",
      "Pagerank Eigenvector centrality\n"
     ]
    },
    {
     "name": "stderr",
     "output_type": "stream",
     "text": [
      "C:\\ProgramData\\Anaconda3\\lib\\site-packages\\matplotlib\\pyplot.py:514: RuntimeWarning: More than 20 figures have been opened. Figures created through the pyplot interface (`matplotlib.pyplot.figure`) are retained until explicitly closed and may consume too much memory. (To control this warning, see the rcParam `figure.max_open_warning`).\n",
      "  max_open_warning, RuntimeWarning)\n"
     ]
    },
    {
     "data": {
      "text/plain": [
       "<Figure size 504x360 with 0 Axes>"
      ]
     },
     "metadata": {},
     "output_type": "display_data"
    },
    {
     "data": {
      "text/plain": [
       "<Figure size 504x360 with 0 Axes>"
      ]
     },
     "metadata": {},
     "output_type": "display_data"
    },
    {
     "data": {
      "text/plain": [
       "<Figure size 504x360 with 0 Axes>"
      ]
     },
     "metadata": {},
     "output_type": "display_data"
    },
    {
     "data": {
      "text/plain": [
       "<Figure size 504x360 with 0 Axes>"
      ]
     },
     "metadata": {},
     "output_type": "display_data"
    },
    {
     "data": {
      "text/plain": [
       "<Figure size 504x360 with 0 Axes>"
      ]
     },
     "metadata": {},
     "output_type": "display_data"
    },
    {
     "data": {
      "text/plain": [
       "<Figure size 504x360 with 0 Axes>"
      ]
     },
     "metadata": {},
     "output_type": "display_data"
    },
    {
     "data": {
      "text/plain": [
       "<Figure size 504x360 with 0 Axes>"
      ]
     },
     "metadata": {},
     "output_type": "display_data"
    },
    {
     "data": {
      "text/plain": [
       "<Figure size 504x360 with 0 Axes>"
      ]
     },
     "metadata": {},
     "output_type": "display_data"
    },
    {
     "data": {
      "text/plain": [
       "<Figure size 504x360 with 0 Axes>"
      ]
     },
     "metadata": {},
     "output_type": "display_data"
    },
    {
     "data": {
      "text/plain": [
       "<Figure size 504x360 with 0 Axes>"
      ]
     },
     "metadata": {},
     "output_type": "display_data"
    },
    {
     "data": {
      "text/plain": [
       "<Figure size 504x360 with 0 Axes>"
      ]
     },
     "metadata": {},
     "output_type": "display_data"
    },
    {
     "data": {
      "text/plain": [
       "<Figure size 504x360 with 0 Axes>"
      ]
     },
     "metadata": {},
     "output_type": "display_data"
    },
    {
     "data": {
      "text/plain": [
       "<Figure size 504x360 with 0 Axes>"
      ]
     },
     "metadata": {},
     "output_type": "display_data"
    },
    {
     "data": {
      "text/plain": [
       "<Figure size 504x360 with 0 Axes>"
      ]
     },
     "metadata": {},
     "output_type": "display_data"
    },
    {
     "data": {
      "text/plain": [
       "<Figure size 504x360 with 0 Axes>"
      ]
     },
     "metadata": {},
     "output_type": "display_data"
    },
    {
     "data": {
      "text/plain": [
       "<Figure size 504x360 with 0 Axes>"
      ]
     },
     "metadata": {},
     "output_type": "display_data"
    },
    {
     "data": {
      "text/plain": [
       "<Figure size 504x360 with 0 Axes>"
      ]
     },
     "metadata": {},
     "output_type": "display_data"
    },
    {
     "data": {
      "text/plain": [
       "<Figure size 504x360 with 0 Axes>"
      ]
     },
     "metadata": {},
     "output_type": "display_data"
    },
    {
     "data": {
      "text/plain": [
       "<Figure size 504x360 with 0 Axes>"
      ]
     },
     "metadata": {},
     "output_type": "display_data"
    },
    {
     "data": {
      "text/plain": [
       "<Figure size 504x360 with 0 Axes>"
      ]
     },
     "metadata": {},
     "output_type": "display_data"
    }
   ],
   "source": [
    "#\"categoriaDSQIID\", \"fluenzaverbale\",\"ABCiperattivita\", \"ABCIrritabilita\", \"ABCletargia\", \"ABCstereotipie\", \"ABCinappropriatespeech\", \"fluenzafonemica\", \"F.A.B.\"\n",
    "data = parenclitics\n",
    "#data = data[:29]\n",
    "data = data.values\n",
    "#data = stats.zscore(data)\n",
    "from matplotlib.backends.backend_pdf import PdfPages\n",
    "feature_name = \"ABCinappropriatespeech\"\n",
    "df_ans = None\n",
    "#parenclitic_pairs_path = config.ofname([[\"parenclitic_pairs\"]], ext = \".pdf\", \n",
    "#                                     include_set = config.params_sets[\"parenclitic_boxplots\"])\n",
    "    \n",
    "#with PdfPages(parenclitic_pairs_path) as pdf:\n",
    "#with 1 as pdf:\n",
    "for id1_parenclitic in range(data.shape[1]):\n",
    "    for id2_parenclitic in range(data.shape[1]):\n",
    "        if id1_parenclitic == id2_parenclitic: \n",
    "            continue\n",
    "        id_parenclitic = [id1_parenclitic, id2_parenclitic]\n",
    "        print (parenclitic_names[id1_parenclitic], parenclitic_names[id2_parenclitic])\n",
    "        #cur = data[:, id_parenclitic]\n",
    "        #val = np.arctan2(cur[:, 0] - cur[0, 0], cur[:, 1] - cur[0, 1]) % np.pi\n",
    "        #print val[val != 0] #(cur[:, 0] - cur[0, 0].min()) / (cur[:, 1] - cur[:, 1].min())\n",
    "        #if np.std(val[val != 0]) < 1e-3:\n",
    "        #    continue\n",
    "\n",
    "        #cur = cur[:29]\n",
    "\n",
    "        #feature = np.reshape(y == 0, -1)\n",
    "\n",
    "        #u = np.reshape(np.array(parenclitics[id1_parenclitic][29:58]).tolist(), -1)\n",
    "        #v = np.reshape(np.array(parenclitics[id2_parenclitic][29:58]).tolist(), -1)\n",
    "        #print(u.shape, u.dtype)\n",
    "\n",
    "        plt.figure(figsize = (7, 5))\n",
    "        plt.figure()\n",
    "        u1 = np.reshape(np.array(parenclitics[id1_parenclitic][:29]).tolist(), -1)\n",
    "        v1 = np.reshape(np.array(parenclitics[id2_parenclitic][:29]).tolist(), -1)\n",
    "\n",
    "        u2 = np.reshape(np.array(parenclitics[id1_parenclitic][29:58]).tolist(), -1)\n",
    "        v2 = np.reshape(np.array(parenclitics[id2_parenclitic][29:58]).tolist(), -1)\n",
    "\n",
    "        u = np.concatenate([u1, u2])\n",
    "        v = np.concatenate([v1, v2])\n",
    "        colors = np.zeros_like(u)\n",
    "        colors[:len(u1)] = 1\n",
    "\n",
    "        plt.scatter(u, v, c = colors, rasterized = True, alpha = 0.1, cmap = plt.get_cmap('jet', 2))\n",
    "\n",
    "        #plt.scatter(u, v, c = np.reshape(feature, -1), \n",
    "        #            cmap = plt.get_cmap('jet', feature.max() - feature.min() + 1))\n",
    "        plt.xlabel(parenclitic_names[id1_parenclitic].capitalize(), fontsize = fontsize)\n",
    "        plt.ylabel(parenclitic_names[id2_parenclitic].capitalize(), fontsize = fontsize)\n",
    "        delta = (u.max() - u.min()) * 0.05\n",
    "        plt.xlim(u.min() - delta, u.max() + delta)\n",
    "\n",
    "        delta = (v.max() - v.min()) * 0.05\n",
    "        plt.ylim(v.min() - delta, v.max() + delta)\n",
    "        plt.subplots_adjust(bottom=0.2, top=0.9, left=0.25, right=0.95)\n",
    "        #plt.yscale('log')\n",
    "\n",
    "        #plt.title(feature_name, fontsize = fontsize)\n",
    "        #plt.colorbar()\n",
    "        #pdf.savefig(dpi = 300)\n",
    "        parenclitic_pairs_path = config.ofname([[\"parenclitic_pairs_full\"], [parenclitic_names[id1_parenclitic], parenclitic_names[id2_parenclitic]]], ext = \".png\", \n",
    "                                 include_set = config.params_sets[\"parenclitic_boxplots\"])\n",
    "        plt.savefig(parenclitic_pairs_path)\n",
    "        #plt.show()\n",
    "        plt.close()\n",
    "        #sdf\n",
    "        continue\n",
    "\n",
    "\n",
    "        feature = (phenotype_df[feature_name].values)\n",
    "        feature = feature[:29]\n",
    "\n",
    "        mask = ~np.isnan(feature)\n",
    "        #cur = cur[mask]\n",
    "        u = u[mask]\n",
    "        v = v[mask]\n",
    "        cur = cur[mask]\n",
    "        #cur = cur.reshape(-1, 1)\n",
    "        feature = feature[mask].astype('int')\n",
    "        feature = np.minimum(feature, 12)\n",
    "        #if (feature == 0).sum() < 3:\n",
    "        #    continue\n",
    "        #feature = (feature > np.median(feature)).astype('int')\n",
    "\n",
    "        #print np.nan_to_num(phenotype_df[feature_name].values, -1).astype('int'), 'source'\n",
    "        #print feature, 'good'\n",
    "        clfs = [svm.SVC(kernel = 'rbf', C = 1, class_weight = \"balanced\"), \n",
    "                neighbors.KNeighborsClassifier(n_neighbors = 2),\n",
    "                svm.LinearSVC(C = 1, class_weight = \"balanced\"),\n",
    "                ensemble.RandomForestClassifier(n_estimators = 4)]\n",
    "        df_cur = pd.DataFrame(index=[0])\n",
    "\n",
    "        #df_ans[parenclitic_names[id_parenclitic]] = parenclitics[id_parenclitic]\n",
    "        #df_ans[\"input\"] = cur\n",
    "        #df_ans[\"good\"] = feature\n",
    "        #'''\n",
    "\n",
    "        #plt.scatter(np.reshape(parenclitics[id_parenclitic], -1), np.reshape(np.zeros_like(cur), -1), c = np.reshape(feature, -1), cmap = 'jet')\n",
    "        #'''\n",
    "        df_cur['parenclitic_1'] = parenclitic_names[id1_parenclitic]\n",
    "        df_cur['parenclitic_2'] = parenclitic_names[id2_parenclitic]\n",
    "        for clf in clfs:\n",
    "            score = cross_val_score(clf, cur, feature, cv=5, scoring = \"neg_mean_absolute_error\")\n",
    "\n",
    "            clf.fit(cur, feature)\n",
    "            predicted = clf.predict(cur)\n",
    "            score2 = np.mean(np.abs(feature - np.around(predicted).astype(\"int\")))\n",
    "            score_median = np.mean(np.abs(feature - np.median(feature)))\n",
    "            clf_name = type(clf).__name__\n",
    "            df_cur[clf_name + '_score_cv'] = -score.mean()\n",
    "            df_cur[clf_name + '_score_best'] = score2\n",
    "            #print np.around(predicted).astype(\"int\"), \"{:.2f}\".format(-score.mean()), \"{:.2f}\".format(score_median), \"{:.2f}\".format(score2), clf_name\n",
    "\n",
    "            '''\n",
    "            score = cross_val_score(clf, cur, feature, cv=5).mean()\n",
    "            clf.fit(cur, feature)\n",
    "            predicted = clf.predict(cur)\n",
    "            score2 = clf.score(cur, feature)\n",
    "            val = float(max((feature == 0).sum(), (feature == 1).sum())) / len(feature)\n",
    "            clf_name = type(clf).__name__\n",
    "            #df_ans[clf_name] = predicted\n",
    "            print predicted, \"{:.2f}\".format(score), \"{:.2f}\".format(val), \"{:.2f}\".format(score2), clf_name\n",
    "            '''\n",
    "        if df_ans is None:\n",
    "            df_ans = df_cur\n",
    "        else:\n",
    "            df_ans = df_ans.append (df_cur, ignore_index=True)\n",
    "        #plt.show()\n",
    "        pd.set_option('display.width', 100)\n",
    "        #print df_ans\n",
    "    #break"
   ]
  },
  {
   "cell_type": "code",
   "execution_count": 53,
   "metadata": {},
   "outputs": [
    {
     "name": "stdout",
     "output_type": "stream",
     "text": [
      "435696\n"
     ]
    }
   ],
   "source": [
    "print((colors == 0).sum())"
   ]
  },
  {
   "cell_type": "code",
   "execution_count": 46,
   "metadata": {
    "scrolled": false
   },
   "outputs": [
    {
     "name": "stdout",
     "output_type": "stream",
     "text": [
      "(29L, 15024L)\n",
      "ABCiperattivita\n",
      "[ 5  0 12  1  0  0  3  2  9  1  0  3 43  2  2  2  0  2  0  0  1  1  0  0  2  0  0  2] input std = 8.11 iqr = 5.47\n",
      "[ 5  0 12  1  0  0  3  2  9  1  0  3 43  2  2  2  0  2  0  0  1  1  0  0  2  0  0  2] 38.13 3.11 0.00 LinearSVR\n",
      "[ 2  2  6  0  0  0  6  1  6  0  0  2 26  2  2  2  4  2  0  0 22  0  0  0  2  0  1  1] 6.28 3.11 2.36 KNeighborsRegressor\n",
      "[ 5  0 12  1  0  0  3  2  9  1  0  3 43  2  2  2  0  2  0  0  1  1  0  0  2  0  0  2] 4.19 3.11 0.00 LinearRegression\n",
      "[ 6  2 12 11  0  0  3  2  5  1  2  2 32  2  2  2  0  2  0 12  1  1  0  0  2  0 12  4] 3.21 3.11 2.04 RandomForestRegressor\n",
      "ABCIrritabilita\n",
      "[ 0  1  5  2  0  0  0  3  0  0  0  1  8 16  0  0  0  0  0  1  6  3  4  0  0  0  0  3] input std = 3.44 iqr = 3.65\n",
      "[ 0  1  5  2  0  0  0  3  0  0  0  1  8 16  0  0  0  0  0  1  6  3  4  0  0  0  0  3] 22.75 1.89 0.00 LinearSVR\n",
      "[ 0  0  3  1  0  0  0  2  0  0  0  2  4 11  0  0  0  0  0  2  7  2  2  0  0  0  0  2] 2.51 1.89 0.75 KNeighborsRegressor\n",
      "[ 0  1  5  2  0  0  0  3  0  0  0  1  8 16  0  0  0  0  0  1  6  3  4  0  0  0  0  3] 3.01 1.89 0.00 LinearRegression\n",
      "[ 0  3  7  1  0  0  0  2  4  1  0  1  4 16  0  0  0  0  0  2  4  2  4  0  0  2  0  5] 2.39 1.89 0.82 RandomForestRegressor\n",
      "ABCletargia\n",
      "[17  5  0  9 27  0  2  2 10 17  6 13  0  2 14  1  6 13  0 16  0 13  0  2  0  3  1  3] input std = 7.06 iqr = 8.50\n",
      "[17  5  0  9 27  0  2  2 10 17  6 13  0  2 14  1  6 13  0 16  0 13  0  2  0  3  1  3] 79.22 5.57 0.00 LinearSVR\n",
      "[11 11  2  4 14 14  6  4  6 12 12  8  5  1 16  7  8  7  1 14  0 14  1  1  6  4  7  4] 5.83 5.57 4.07 KNeighborsRegressor\n",
      "[17  5  0  9 27  0  2  2 10 17  6 13  0  2 14  1  6 13  0 16  0 13  0  2  0  3  1  3] 6.25 5.57 0.00 LinearRegression\n",
      "[17  4  4  6 22  0  2  5 12 12  7 14  0  6 11  5  7 14  0 18  1 14  7  2  7  3  7  4] 6.38 5.57 2.25 RandomForestRegressor\n",
      "ABCstereotipie\n",
      "[10  0  2  3 11  0  8  0  2  8  4  0  4  2  0  2  0  3  0  5  6  9  3  0  0  0  0  1] input std = 3.39 iqr = 4.82\n",
      "[10  0  2  3 11  0  8  0  2  8  4  0  4  2  0  2  0  3  0  5  6  9  3  0  0  0  0  1] 35.30 2.61 0.00 LinearSVR\n",
      "[ 5  5  1  2  6  6  5  2  5  6  6  0  3  4  4  2  1  2  0  7  5  7  2  0  2  0  2  0] 3.11 2.61 1.96 KNeighborsRegressor\n",
      "[10  0  2  3 11  0  8  0  2  8  4  0  4  2  0  2  0  3  0  5  6  9  3  0  0  0  0  1] 2.76 2.61 0.00 LinearRegression\n",
      "[ 6  4  2  3  6  1  8  2  2  6  3  4  4  4  4  7  2  3  2  5  6  9  4  6  2  0  3  0] 3.11 2.61 1.82 RandomForestRegressor\n",
      "ABCinappropriatespeech\n",
      "[ 2  4  2  3  6  0  2  2  4  5  4  3  9  5  0  2  7  3  5  0  3  3  5  1  1  3  4  6] input std = 2.12 iqr = 3.32\n",
      "[ 2  4  2  3  6  0  2  2  4  5  4  3  9  5  0  2  7  3  5  0  3  3  5  1  1  3  4  6] 40.18 1.64 0.00 LinearSVR\n",
      "[ 3  3  3  2  3  3  3  3  3  4  4  2  6  4  2  2  6  2  3  2  6  2  3  3  2  5  4  6] 2.33 1.64 1.36 KNeighborsRegressor\n",
      "[ 2  4  2  3  6  0  2  2  4  5  4  3  9  5  0  2  7  3  5  0  3  3  5  1  1  3  4  6] 1.93 1.64 0.00 LinearRegression\n",
      "[ 2  4  2  3  5  1  2  4  5  4  4  4  5  4  3  2  6  3  4  2  3  2  4  1  3  4  4  6] 2.22 1.64 0.86 RandomForestRegressor\n",
      "qiv\n",
      "[19 43 38 56 48 63 60 54 51 51 59 53 47 34 39 62 19 56 19 55 52 62 19 48 55 57 39 57] input std = 13.61 iqr = 21.50\n",
      "[19 43 38 56 48 63 60 54 51 51 59 53 47 34 39 62 19 56 19 55 52 62 19 48 55 57 39 57] 510.72 10.25 0.00 LinearSVR\n",
      "[31 31 40 60 56 56 56 56 56 55 55 54 49 42 29 56 29 52 36 51 36 55 19 52 37 60 29 60] 12.07 10.25 6.68 KNeighborsRegressor\n",
      "[19 43 38 56 48 63 60 54 51 51 59 53 47 34 39 62 19 56 19 55 52 62 19 48 55 57 39 57] 12.55 10.25 0.00 LinearRegression\n",
      "[28 51 49 56 48 63 61 49 51 44 58 48 47 38 40 55 28 40 36 51 44 59 19 41 38 57 42 53] 13.96 10.25 5.25 RandomForestRegressor\n",
      "qip\n",
      "[19 44 39 67 52 65 65 53 49 55 56 54 36 34 44 52 19 53 19 59 47 53 19 54 50 66 36 63] input std = 14.46 iqr = 23.33\n",
      "[19 44 39 67 52 65 65 53 49 55 56 54 36 34 44 52 19 53 19 59 47 53 19 54 50 66 36 63] 513.35 11.00 0.00 LinearSVR\n",
      "[32 32 42 66 58 58 57 54 57 56 56 54 42 44 32 50 32 54 33 48 33 54 19 54 34 59 28 58] 12.71 11.00 6.43 KNeighborsRegressor\n",
      "[19 44 39 67 52 65 65 53 49 55 56 54 36 34 44 52 19 53 19 59 47 53 19 54 50 66 36 63] 13.37 11.00 0.00 LinearRegression\n",
      "[38 49 45 67 46 65 61 48 49 56 56 54 40 39 40 57 39 55 29 59 30 54 26 53 56 58 38 63] 14.81 11.00 4.93 RandomForestRegressor\n",
      "token\n",
      "[ 0 25 21 18  0 35 28 20 25 10 31 12 17 10 18 25  8 24  0 23 15 27  0 14 27 21 15 27] input std = 9.68 iqr = 14.97\n",
      "[ 0 25 21 18  0 35 28 20 25 10 31 12 17 10 18 25  8 24  0 23 15 27  0 14 27 21 15 27] 189.91 7.93 0.00 LinearSVR\n",
      "[12 12 23 26 18 18 26 26 26 20 20 16 21 10 13 25 13 19  8 20  8 20  0 19 18 23 12 26] 8.00 7.93 6.00 KNeighborsRegressor\n",
      "[ 0 25 21 18  0 35 28 20 25 10 31 12 17 10 18 25  8 24  0 23 15 27  0 14 27 21 15 27] 8.00 7.93 0.00 LinearRegression\n",
      "[ 5 25 22 14  6 33 28 18 16 10 18 13 20 11 15 24 12 18  8 20 14 20  5 16 18 18 14 25] 7.38 7.93 3.64 RandomForestRegressor\n",
      "fluenzafonemica\n",
      "[ 0  9  3  8  3 19  9  6  0  5  7  2  9  0  0 14  0  8  0  7  3 20  0  6  9  0  6 20] input std = 5.98 iqr = 9.82\n",
      "[ 0  9  3  8  3 19  9  6  0  5  7  2  9  0  0 14  0  8  0  7  3 20  0  6  9  0  6 20] 66.01 4.61 0.00 LinearSVR\n",
      "[ 4  4  6 14 11 11  4  6  4  6  6  4  4  2  0  7  0  7  2  8  2 13  0  7  4  7  3 17] 5.03 4.61 3.29 KNeighborsRegressor\n",
      "[ 0  9  3  8  3 19  9  6  0  5  7  2  9  0  0 14  0  8  0  7  3 20  0  6  9  0  6 20] 4.72 4.61 0.00 LinearRegression\n",
      "[ 6 12  7 10  2 19  6  7  2  1  6  1  7  0  0 12  8  8  5  7  3 20  2  9  8  7  9 13] 4.69 4.61 2.43 RandomForestRegressor\n",
      "F.A.B.\n",
      "[ 1 11  8  7 14 11  7  5  7  9  6  6  7 14  5  7 11  5 12  4  4  8  4 10 13] input std = 3.35 iqr = 4.90\n",
      "[ 1 11  8  7 14 11  7  5  7  9  6  6  7 14  5  7 11  5 12  4  4  8  4 10 13] 40.04 2.68 0.00 LinearSVR\n",
      "[ 6  6 10 10 10  8  7  8  7  7  8  6  6 10  6  6 10  4  8  4  6  6  9  8 14] 3.26 2.68 2.16 KNeighborsRegressor\n",
      "[ 1 11  8  7 14 11  7  5  7  9  6  6  7 14  5  7 11  5 12  4  4  8  4 10 13] 2.86 2.68 0.00 LinearRegression\n",
      "[ 9  9 10  7 11 11  6  5  7  8  6  4  9 14  5  8 11  5 10  4  9  8 11 10 11] 3.22 2.68 1.52 RandomForestRegressor\n"
     ]
    }
   ],
   "source": [
    "#data = parenclitics.drop(columns = [0,7,11,15,16,17,18])\n",
    "import warnings\n",
    "warnings.filterwarnings(\"ignore\")\n",
    "\n",
    "#data = parenclitics\n",
    "#data = data[:29].values\n",
    "data = np.array(X)\n",
    "data = data[:29]\n",
    "data = stats.zscore(data)\n",
    "print data.shape\n",
    "feature_names = [\"ABCiperattivita\", \"ABCIrritabilita\", \"ABCletargia\", \"ABCstereotipie\", \"ABCinappropriatespeech\", \"qiv\", \"qip\", \"token\", \"fluenzafonemica\", \"F.A.B.\"]\n",
    "np.set_printoptions(linewidth=100, formatter={'int':lambda x: \"{:2d}\".format(x), 'float':lambda x: \"{:.2f}\".format(x)})\n",
    "for feature_name in feature_names:\n",
    "    print feature_name\n",
    "    feature = (phenotype_df[feature_name].values)\n",
    "    \n",
    "    cur = data[~np.isnan(feature)]\n",
    "    feature = feature[~np.isnan(feature)].astype('int')\n",
    "    #print np.nan_to_num(phenotype_df[feature_name].values, 9).astype('int'), 'source'\n",
    "    print feature, 'input', 'std =', \"{:.2f}\".format(np.std(feature)), 'iqr =', \"{:.2f}\".format(scipy.stats.iqr(feature, rng=(5, 95)) / 2)\n",
    "    clfs = [svm.LinearSVR(), \n",
    "            neighbors.KNeighborsRegressor(n_neighbors = 2),\n",
    "            linear_model.LinearRegression(),\n",
    "            ensemble.RandomForestRegressor(n_estimators = 4),\n",
    "            #neural_network.MLPRegressor(max_iter = 50, hidden_layer_sizes = (100, ))\n",
    "            ]\n",
    "\n",
    "    for clf in clfs:\n",
    "        score = cross_val_score(clf, cur, feature, cv=20, scoring = \"neg_mean_absolute_error\")\n",
    "        \n",
    "        clf.fit(cur, feature)\n",
    "        predicted = clf.predict(cur)\n",
    "        score2 = np.mean(np.abs(feature - np.around(predicted).astype(\"int\")))\n",
    "        score_median = np.mean(np.abs(feature - np.median(feature)))\n",
    "        print np.around(predicted).astype(\"int\"), \"{:.2f}\".format(-score.mean()), \"{:.2f}\".format(score_median), \"{:.2f}\".format(score2), type(clf).__name__\n",
    "        #print score"
   ]
  },
  {
   "cell_type": "code",
   "execution_count": 235,
   "metadata": {
    "collapsed": true
   },
   "outputs": [],
   "source": [
    "import statsmodels.api as sm\n",
    "from statsmodels.formula.api import ols\n",
    "import statsmodels.stats.multicomp\n",
    "import scipy.stats as stats\n",
    "\n",
    "def calc_anova_f_oneway(data, y):\n",
    "    num_groups = 5\n",
    "    bins = np.array(np.percentile(data, np.linspace(0, 100, num_groups + 1)))\n",
    "    classes = np.minimum(np.digitize(data, bins), num_groups) - 1\n",
    "    classes = classes.flatten()\n",
    "    res = np.array(y)\n",
    "    for c in range(5):\n",
    "        res[classes == c] = y[classes == c].mean()\n",
    "    model = stats.f_oneway(y[classes == 0], y[classes == 1], y[classes == 2], y[classes == 3], y[classes == 4])\n",
    "    return model.pvalue, res\n",
    "\n",
    "def input_feature_assessment_regr(cur, feature, clf):\n",
    "    if type(clf) is str:\n",
    "        if clf == \"anova_f_oneway\":\n",
    "            return calc_anova_f_oneway(cur, feature)\n",
    "\n",
    "        if clf == \"anova_ols\":\n",
    "            cur = sm.add_constant(cur)\n",
    "            model = sm.OLS(feature, cur).fit()\n",
    "            return model.pvalues[1], model.predict(cur)\n",
    "    #score = cross_val_score(clf, cur, feature, cv=20, scoring = \"neg_mean_absolute_error\")\n",
    "    \n",
    "    clf.fit(cur, feature)\n",
    "    predicted = clf.predict(cur)\n",
    "    score2 = np.mean(np.abs(feature - np.around(predicted).astype(\"int\")))\n",
    "    #score_median = np.mean(np.abs(feature - np.median(feature)))\n",
    "    return score2, predicted\n",
    "\n",
    "def input_feature_assessment_classifier(cur, feature, clf):\n",
    "    #score = cross_val_score(clf, cur, feature, cv=20, scoring = \"neg_mean_absolute_error\")\n",
    "    \n",
    "    clf.fit(cur, feature)\n",
    "    predicted = clf.predict(cur)\n",
    "    score = clf.score(cur, feature)\n",
    "    #score_median = np.mean(np.abs(feature - np.median(feature)))\n",
    "    return score\n"
   ]
  },
  {
   "cell_type": "code",
   "execution_count": 25,
   "metadata": {
    "collapsed": true
   },
   "outputs": [],
   "source": [
    "import numpy as np\n",
    "import matplotlib.pyplot as plt\n",
    "from sklearn import svm, datasets\n",
    "\n",
    "\n",
    "def make_meshgrid(x, y, h=.02):\n",
    "    \"\"\"Create a mesh of points to plot in\n",
    "\n",
    "    Parameters\n",
    "    ----------\n",
    "    x: data to base x-axis meshgrid on\n",
    "    y: data to base y-axis meshgrid on\n",
    "    h: stepsize for meshgrid, optional\n",
    "\n",
    "    Returns\n",
    "    -------\n",
    "    xx, yy : ndarray\n",
    "    \"\"\"\n",
    "    delta_x = (x.max() - x.min()) * 0.1\n",
    "    delta_y = (y.max() - y.min()) * 0.1\n",
    "    x_min, x_max = x.min() - delta_x, x.max() + delta_x\n",
    "    y_min, y_max = y.min() - delta_y, y.max() + delta_y\n",
    "    xx, yy = np.meshgrid(np.arange(x_min, x_max, h),\n",
    "                         np.arange(y_min, y_max, h))\n",
    "    return xx, yy\n",
    "\n",
    "\n",
    "def plot_contours(ax, clf, xx, yy, **params):\n",
    "    \"\"\"Plot the decision boundaries for a classifier.\n",
    "\n",
    "    Parameters\n",
    "    ----------\n",
    "    ax: matplotlib axes object\n",
    "    clf: a classifier\n",
    "    xx: meshgrid ndarray\n",
    "    yy: meshgrid ndarray\n",
    "    params: dictionary of params to pass to contourf, optional\n",
    "    \"\"\"\n",
    "    Z = clf.predict(np.c_[xx.ravel(), yy.ravel()])\n",
    "    Z = Z.reshape(xx.shape)\n",
    "    out = ax.contourf(xx, yy, Z, **params)\n",
    "    return out\n"
   ]
  },
  {
   "cell_type": "code",
   "execution_count": 28,
   "metadata": {},
   "outputs": [
    {
     "data": {
      "text/plain": [
       "'sdf.s45___'"
      ]
     },
     "execution_count": 28,
     "metadata": {},
     "output_type": "execute_result"
    }
   ],
   "source": [
    "#feature_names = phenotype_df.columns.values\n",
    "np.array(feature_names)\n",
    "phenotype_df.columns.values\n",
    "import re\n",
    "re.sub(\"[^\\d^\\w^\\.]\", \"_\", \"sdf.s45+$<\")"
   ]
  },
  {
   "cell_type": "code",
   "execution_count": 250,
   "metadata": {
    "scrolled": true
   },
   "outputs": [
    {
     "name": "stdout",
     "output_type": "stream",
     "text": [
      "(29L, 100000L)\n",
      "fluenzaverbale\n",
      "anova_ols\n"
     ]
    },
    {
     "name": "stderr",
     "output_type": "stream",
     "text": [
      "100%|██████████| 100000/100000 [01:06<00:00, 1501.95it/s]\n"
     ]
    },
    {
     "name": "stdout",
     "output_type": "stream",
     "text": [
      "anova_f_oneway\n"
     ]
    },
    {
     "name": "stderr",
     "output_type": "stream",
     "text": [
      "100%|██████████| 100000/100000 [00:44<00:00, 2229.95it/s]\n"
     ]
    },
    {
     "name": "stdout",
     "output_type": "stream",
     "text": [
      "LinearRegression\n"
     ]
    },
    {
     "name": "stderr",
     "output_type": "stream",
     "text": [
      "100%|██████████| 100000/100000 [00:49<00:00, 2034.63it/s]\n"
     ]
    },
    {
     "name": "stdout",
     "output_type": "stream",
     "text": [
      "SVR\n"
     ]
    },
    {
     "name": "stderr",
     "output_type": "stream",
     "text": [
      "100%|██████████| 100000/100000 [00:46<00:00, 2152.02it/s]\n"
     ]
    },
    {
     "name": "stdout",
     "output_type": "stream",
     "text": [
      "LinearSVR\n"
     ]
    },
    {
     "name": "stderr",
     "output_type": "stream",
     "text": [
      "100%|██████████| 100000/100000 [00:30<00:00, 3279.76it/s]\n"
     ]
    },
    {
     "name": "stdout",
     "output_type": "stream",
     "text": [
      "KNeighborsRegressor\n"
     ]
    },
    {
     "name": "stderr",
     "output_type": "stream",
     "text": [
      "100%|██████████| 100000/100000 [01:22<00:00, 1207.80it/s]\n"
     ]
    },
    {
     "name": "stdout",
     "output_type": "stream",
     "text": [
      "F:\\PC\\UNN\\Scientific\\Gerontology\\data\\GSE52588\\params\\num_cpgs_142987\\down_phenotypes\\regressions_fit_rand\\fluenzaverbale.pdf\n",
      "ABCletargia\n",
      "anova_ols\n"
     ]
    },
    {
     "name": "stderr",
     "output_type": "stream",
     "text": [
      "100%|██████████| 100000/100000 [01:03<00:00, 1580.95it/s]\n"
     ]
    },
    {
     "name": "stdout",
     "output_type": "stream",
     "text": [
      "anova_f_oneway\n"
     ]
    },
    {
     "name": "stderr",
     "output_type": "stream",
     "text": [
      "100%|██████████| 100000/100000 [00:44<00:00, 2262.39it/s]\n"
     ]
    },
    {
     "name": "stdout",
     "output_type": "stream",
     "text": [
      "LinearRegression\n"
     ]
    },
    {
     "name": "stderr",
     "output_type": "stream",
     "text": [
      "100%|██████████| 100000/100000 [00:49<00:00, 2028.56it/s]\n"
     ]
    },
    {
     "name": "stdout",
     "output_type": "stream",
     "text": [
      "SVR\n"
     ]
    },
    {
     "name": "stderr",
     "output_type": "stream",
     "text": [
      "100%|██████████| 100000/100000 [00:40<00:00, 2497.19it/s]\n"
     ]
    },
    {
     "name": "stdout",
     "output_type": "stream",
     "text": [
      "LinearSVR\n"
     ]
    },
    {
     "name": "stderr",
     "output_type": "stream",
     "text": [
      "100%|██████████| 100000/100000 [00:29<00:00, 3433.36it/s]\n"
     ]
    },
    {
     "name": "stdout",
     "output_type": "stream",
     "text": [
      "KNeighborsRegressor\n"
     ]
    },
    {
     "name": "stderr",
     "output_type": "stream",
     "text": [
      "100%|██████████| 100000/100000 [01:20<00:00, 1243.94it/s]\n"
     ]
    },
    {
     "name": "stdout",
     "output_type": "stream",
     "text": [
      "F:\\PC\\UNN\\Scientific\\Gerontology\\data\\GSE52588\\params\\num_cpgs_142987\\down_phenotypes\\regressions_fit_rand\\ABCletargia.pdf\n",
      "ABCstereotipie\n",
      "anova_ols\n"
     ]
    },
    {
     "name": "stderr",
     "output_type": "stream",
     "text": [
      "100%|██████████| 100000/100000 [01:02<00:00, 1599.82it/s]\n"
     ]
    },
    {
     "name": "stdout",
     "output_type": "stream",
     "text": [
      "anova_f_oneway\n"
     ]
    },
    {
     "name": "stderr",
     "output_type": "stream",
     "text": [
      "100%|██████████| 100000/100000 [00:44<00:00, 2257.34it/s]\n"
     ]
    },
    {
     "name": "stdout",
     "output_type": "stream",
     "text": [
      "LinearRegression\n"
     ]
    },
    {
     "name": "stderr",
     "output_type": "stream",
     "text": [
      "100%|██████████| 100000/100000 [00:49<00:00, 2035.33it/s]\n"
     ]
    },
    {
     "name": "stdout",
     "output_type": "stream",
     "text": [
      "SVR\n"
     ]
    },
    {
     "name": "stderr",
     "output_type": "stream",
     "text": [
      "100%|██████████| 100000/100000 [00:42<00:00, 2369.44it/s]\n"
     ]
    },
    {
     "name": "stdout",
     "output_type": "stream",
     "text": [
      "LinearSVR\n"
     ]
    },
    {
     "name": "stderr",
     "output_type": "stream",
     "text": [
      "100%|██████████| 100000/100000 [00:29<00:00, 3362.25it/s]\n"
     ]
    },
    {
     "name": "stdout",
     "output_type": "stream",
     "text": [
      "KNeighborsRegressor\n"
     ]
    },
    {
     "name": "stderr",
     "output_type": "stream",
     "text": [
      "100%|██████████| 100000/100000 [01:21<00:00, 1231.10it/s]\n"
     ]
    },
    {
     "name": "stdout",
     "output_type": "stream",
     "text": [
      "F:\\PC\\UNN\\Scientific\\Gerontology\\data\\GSE52588\\params\\num_cpgs_142987\\down_phenotypes\\regressions_fit_rand\\ABCstereotipie.pdf\n",
      "ABCinappropriatespeech\n",
      "anova_ols\n"
     ]
    },
    {
     "name": "stderr",
     "output_type": "stream",
     "text": [
      "100%|██████████| 100000/100000 [01:02<00:00, 1601.31it/s]\n"
     ]
    },
    {
     "name": "stdout",
     "output_type": "stream",
     "text": [
      "anova_f_oneway\n"
     ]
    },
    {
     "name": "stderr",
     "output_type": "stream",
     "text": [
      "100%|██████████| 100000/100000 [00:44<00:00, 2269.22it/s]\n"
     ]
    },
    {
     "name": "stdout",
     "output_type": "stream",
     "text": [
      "LinearRegression\n"
     ]
    },
    {
     "name": "stderr",
     "output_type": "stream",
     "text": [
      "100%|██████████| 100000/100000 [00:49<00:00, 2035.21it/s]\n"
     ]
    },
    {
     "name": "stdout",
     "output_type": "stream",
     "text": [
      "SVR\n"
     ]
    },
    {
     "name": "stderr",
     "output_type": "stream",
     "text": [
      "100%|██████████| 100000/100000 [00:42<00:00, 2342.80it/s]\n"
     ]
    },
    {
     "name": "stdout",
     "output_type": "stream",
     "text": [
      "LinearSVR\n"
     ]
    },
    {
     "name": "stderr",
     "output_type": "stream",
     "text": [
      "100%|██████████| 100000/100000 [00:29<00:00, 3405.41it/s]\n"
     ]
    },
    {
     "name": "stdout",
     "output_type": "stream",
     "text": [
      "KNeighborsRegressor\n"
     ]
    },
    {
     "name": "stderr",
     "output_type": "stream",
     "text": [
      "100%|██████████| 100000/100000 [01:20<00:00, 1246.99it/s]\n"
     ]
    },
    {
     "name": "stdout",
     "output_type": "stream",
     "text": [
      "F:\\PC\\UNN\\Scientific\\Gerontology\\data\\GSE52588\\params\\num_cpgs_142987\\down_phenotypes\\regressions_fit_rand\\ABCinappropriatespeech.pdf\n",
      "qiv\n",
      "anova_ols\n"
     ]
    },
    {
     "name": "stderr",
     "output_type": "stream",
     "text": [
      "100%|██████████| 100000/100000 [01:02<00:00, 1597.50it/s]\n"
     ]
    },
    {
     "name": "stdout",
     "output_type": "stream",
     "text": [
      "anova_f_oneway\n"
     ]
    },
    {
     "name": "stderr",
     "output_type": "stream",
     "text": [
      "100%|██████████| 100000/100000 [00:44<00:00, 2265.01it/s]\n"
     ]
    },
    {
     "name": "stdout",
     "output_type": "stream",
     "text": [
      "LinearRegression\n"
     ]
    },
    {
     "name": "stderr",
     "output_type": "stream",
     "text": [
      "100%|██████████| 100000/100000 [00:48<00:00, 2042.07it/s]\n"
     ]
    },
    {
     "name": "stdout",
     "output_type": "stream",
     "text": [
      "SVR\n"
     ]
    },
    {
     "name": "stderr",
     "output_type": "stream",
     "text": [
      "100%|██████████| 100000/100000 [00:39<00:00, 2556.30it/s]\n"
     ]
    },
    {
     "name": "stdout",
     "output_type": "stream",
     "text": [
      "LinearSVR\n"
     ]
    },
    {
     "name": "stderr",
     "output_type": "stream",
     "text": [
      "100%|██████████| 100000/100000 [00:28<00:00, 3550.63it/s]\n"
     ]
    },
    {
     "name": "stdout",
     "output_type": "stream",
     "text": [
      "KNeighborsRegressor\n"
     ]
    },
    {
     "name": "stderr",
     "output_type": "stream",
     "text": [
      "100%|██████████| 100000/100000 [01:20<00:00, 1238.10it/s]\n"
     ]
    },
    {
     "name": "stdout",
     "output_type": "stream",
     "text": [
      "F:\\PC\\UNN\\Scientific\\Gerontology\\data\\GSE52588\\params\\num_cpgs_142987\\down_phenotypes\\regressions_fit_rand\\qiv.pdf\n",
      "qip\n",
      "anova_ols\n"
     ]
    },
    {
     "name": "stderr",
     "output_type": "stream",
     "text": [
      "100%|██████████| 100000/100000 [01:02<00:00, 1607.72it/s]\n"
     ]
    },
    {
     "name": "stdout",
     "output_type": "stream",
     "text": [
      "anova_f_oneway\n"
     ]
    },
    {
     "name": "stderr",
     "output_type": "stream",
     "text": [
      "100%|██████████| 100000/100000 [00:44<00:00, 2244.92it/s]\n"
     ]
    },
    {
     "name": "stdout",
     "output_type": "stream",
     "text": [
      "LinearRegression\n"
     ]
    },
    {
     "name": "stderr",
     "output_type": "stream",
     "text": [
      "100%|██████████| 100000/100000 [00:48<00:00, 2047.88it/s]\n"
     ]
    },
    {
     "name": "stdout",
     "output_type": "stream",
     "text": [
      "SVR\n"
     ]
    },
    {
     "name": "stderr",
     "output_type": "stream",
     "text": [
      "100%|██████████| 100000/100000 [00:39<00:00, 2563.84it/s]\n"
     ]
    },
    {
     "name": "stdout",
     "output_type": "stream",
     "text": [
      "LinearSVR\n"
     ]
    },
    {
     "name": "stderr",
     "output_type": "stream",
     "text": [
      "100%|██████████| 100000/100000 [00:28<00:00, 3520.38it/s]\n"
     ]
    },
    {
     "name": "stdout",
     "output_type": "stream",
     "text": [
      "KNeighborsRegressor\n"
     ]
    },
    {
     "name": "stderr",
     "output_type": "stream",
     "text": [
      "100%|██████████| 100000/100000 [01:19<00:00, 1253.98it/s]\n"
     ]
    },
    {
     "name": "stdout",
     "output_type": "stream",
     "text": [
      "F:\\PC\\UNN\\Scientific\\Gerontology\\data\\GSE52588\\params\\num_cpgs_142987\\down_phenotypes\\regressions_fit_rand\\qip.pdf\n",
      "token\n",
      "anova_ols\n"
     ]
    },
    {
     "name": "stderr",
     "output_type": "stream",
     "text": [
      "100%|██████████| 100000/100000 [01:02<00:00, 1611.76it/s]\n"
     ]
    },
    {
     "name": "stdout",
     "output_type": "stream",
     "text": [
      "anova_f_oneway\n"
     ]
    },
    {
     "name": "stderr",
     "output_type": "stream",
     "text": [
      "100%|██████████| 100000/100000 [00:44<00:00, 2272.52it/s]\n"
     ]
    },
    {
     "name": "stdout",
     "output_type": "stream",
     "text": [
      "LinearRegression\n"
     ]
    },
    {
     "name": "stderr",
     "output_type": "stream",
     "text": [
      "100%|██████████| 100000/100000 [00:48<00:00, 2049.68it/s]\n"
     ]
    },
    {
     "name": "stdout",
     "output_type": "stream",
     "text": [
      "SVR\n"
     ]
    },
    {
     "name": "stderr",
     "output_type": "stream",
     "text": [
      "100%|██████████| 100000/100000 [00:39<00:00, 2517.69it/s]\n"
     ]
    },
    {
     "name": "stdout",
     "output_type": "stream",
     "text": [
      "LinearSVR\n"
     ]
    },
    {
     "name": "stderr",
     "output_type": "stream",
     "text": [
      "100%|██████████| 100000/100000 [00:28<00:00, 3531.70it/s]\n"
     ]
    },
    {
     "name": "stdout",
     "output_type": "stream",
     "text": [
      "KNeighborsRegressor\n"
     ]
    },
    {
     "name": "stderr",
     "output_type": "stream",
     "text": [
      "100%|██████████| 100000/100000 [01:20<00:00, 1244.49it/s]\n"
     ]
    },
    {
     "name": "stdout",
     "output_type": "stream",
     "text": [
      "F:\\PC\\UNN\\Scientific\\Gerontology\\data\\GSE52588\\params\\num_cpgs_142987\\down_phenotypes\\regressions_fit_rand\\token.pdf\n",
      "fluenzafonemica\n",
      "anova_ols\n"
     ]
    },
    {
     "name": "stderr",
     "output_type": "stream",
     "text": [
      "100%|██████████| 100000/100000 [01:02<00:00, 1608.13it/s]\n"
     ]
    },
    {
     "name": "stdout",
     "output_type": "stream",
     "text": [
      "anova_f_oneway\n"
     ]
    },
    {
     "name": "stderr",
     "output_type": "stream",
     "text": [
      "100%|██████████| 100000/100000 [00:44<00:00, 2252.76it/s]\n"
     ]
    },
    {
     "name": "stdout",
     "output_type": "stream",
     "text": [
      "LinearRegression\n"
     ]
    },
    {
     "name": "stderr",
     "output_type": "stream",
     "text": [
      "100%|██████████| 100000/100000 [00:48<00:00, 2047.54it/s]\n"
     ]
    },
    {
     "name": "stdout",
     "output_type": "stream",
     "text": [
      "SVR\n"
     ]
    },
    {
     "name": "stderr",
     "output_type": "stream",
     "text": [
      "100%|██████████| 100000/100000 [00:40<00:00, 2492.34it/s]\n"
     ]
    },
    {
     "name": "stdout",
     "output_type": "stream",
     "text": [
      "LinearSVR\n"
     ]
    },
    {
     "name": "stderr",
     "output_type": "stream",
     "text": [
      "100%|██████████| 100000/100000 [00:28<00:00, 3505.57it/s]\n"
     ]
    },
    {
     "name": "stdout",
     "output_type": "stream",
     "text": [
      "KNeighborsRegressor\n"
     ]
    },
    {
     "name": "stderr",
     "output_type": "stream",
     "text": [
      "100%|██████████| 100000/100000 [01:20<00:00, 1245.56it/s]\n"
     ]
    },
    {
     "name": "stdout",
     "output_type": "stream",
     "text": [
      "F:\\PC\\UNN\\Scientific\\Gerontology\\data\\GSE52588\\params\\num_cpgs_142987\\down_phenotypes\\regressions_fit_rand\\fluenzafonemica.pdf\n",
      "F.A.B.\n",
      "anova_ols\n"
     ]
    },
    {
     "name": "stderr",
     "output_type": "stream",
     "text": [
      "100%|██████████| 100000/100000 [01:02<00:00, 1609.66it/s]\n"
     ]
    },
    {
     "name": "stdout",
     "output_type": "stream",
     "text": [
      "anova_f_oneway\n"
     ]
    },
    {
     "name": "stderr",
     "output_type": "stream",
     "text": [
      "100%|██████████| 100000/100000 [00:44<00:00, 2245.73it/s]\n"
     ]
    },
    {
     "name": "stdout",
     "output_type": "stream",
     "text": [
      "LinearRegression\n"
     ]
    },
    {
     "name": "stderr",
     "output_type": "stream",
     "text": [
      "100%|██████████| 100000/100000 [00:48<00:00, 2051.49it/s]\n"
     ]
    },
    {
     "name": "stdout",
     "output_type": "stream",
     "text": [
      "SVR\n"
     ]
    },
    {
     "name": "stderr",
     "output_type": "stream",
     "text": [
      "100%|██████████| 100000/100000 [00:38<00:00, 2564.17it/s]\n"
     ]
    },
    {
     "name": "stdout",
     "output_type": "stream",
     "text": [
      "LinearSVR\n"
     ]
    },
    {
     "name": "stderr",
     "output_type": "stream",
     "text": [
      "100%|██████████| 100000/100000 [00:29<00:00, 3447.80it/s]\n"
     ]
    },
    {
     "name": "stdout",
     "output_type": "stream",
     "text": [
      "KNeighborsRegressor\n"
     ]
    },
    {
     "name": "stderr",
     "output_type": "stream",
     "text": [
      "100%|██████████| 100000/100000 [01:19<00:00, 1254.66it/s]\n"
     ]
    },
    {
     "name": "stdout",
     "output_type": "stream",
     "text": [
      "F:\\PC\\UNN\\Scientific\\Gerontology\\data\\GSE52588\\params\\num_cpgs_142987\\down_phenotypes\\regressions_fit_rand\\F.A.B..pdf\n",
      "ABCiperattivita\n",
      "anova_ols\n"
     ]
    },
    {
     "name": "stderr",
     "output_type": "stream",
     "text": [
      "100%|██████████| 100000/100000 [01:02<00:00, 1596.96it/s]\n"
     ]
    },
    {
     "name": "stdout",
     "output_type": "stream",
     "text": [
      "anova_f_oneway\n"
     ]
    },
    {
     "name": "stderr",
     "output_type": "stream",
     "text": [
      "100%|██████████| 100000/100000 [00:44<00:00, 2253.06it/s]\n"
     ]
    },
    {
     "name": "stdout",
     "output_type": "stream",
     "text": [
      "LinearRegression\n"
     ]
    },
    {
     "name": "stderr",
     "output_type": "stream",
     "text": [
      "100%|██████████| 100000/100000 [00:49<00:00, 2039.82it/s]\n"
     ]
    },
    {
     "name": "stdout",
     "output_type": "stream",
     "text": [
      "SVR\n"
     ]
    },
    {
     "name": "stderr",
     "output_type": "stream",
     "text": [
      "100%|██████████| 100000/100000 [00:43<00:00, 2323.26it/s]\n"
     ]
    },
    {
     "name": "stdout",
     "output_type": "stream",
     "text": [
      "LinearSVR\n"
     ]
    },
    {
     "name": "stderr",
     "output_type": "stream",
     "text": [
      "100%|██████████| 100000/100000 [00:29<00:00, 3382.03it/s]\n"
     ]
    },
    {
     "name": "stdout",
     "output_type": "stream",
     "text": [
      "KNeighborsRegressor\n"
     ]
    },
    {
     "name": "stderr",
     "output_type": "stream",
     "text": [
      "100%|██████████| 100000/100000 [01:20<00:00, 1249.88it/s]\n"
     ]
    },
    {
     "name": "stdout",
     "output_type": "stream",
     "text": [
      "F:\\PC\\UNN\\Scientific\\Gerontology\\data\\GSE52588\\params\\num_cpgs_142987\\down_phenotypes\\regressions_fit_rand\\ABCiperattivita.pdf\n",
      "ABCIrritabilita\n",
      "anova_ols\n"
     ]
    },
    {
     "name": "stderr",
     "output_type": "stream",
     "text": [
      "100%|██████████| 100000/100000 [01:02<00:00, 1603.72it/s]\n"
     ]
    },
    {
     "name": "stdout",
     "output_type": "stream",
     "text": [
      "anova_f_oneway\n"
     ]
    },
    {
     "name": "stderr",
     "output_type": "stream",
     "text": [
      "100%|██████████| 100000/100000 [00:44<00:00, 2261.88it/s]\n"
     ]
    },
    {
     "name": "stdout",
     "output_type": "stream",
     "text": [
      "LinearRegression\n"
     ]
    },
    {
     "name": "stderr",
     "output_type": "stream",
     "text": [
      "100%|██████████| 100000/100000 [00:48<00:00, 2046.71it/s]\n"
     ]
    },
    {
     "name": "stdout",
     "output_type": "stream",
     "text": [
      "SVR\n"
     ]
    },
    {
     "name": "stderr",
     "output_type": "stream",
     "text": [
      "100%|██████████| 100000/100000 [00:49<00:00, 2010.45it/s]\n"
     ]
    },
    {
     "name": "stdout",
     "output_type": "stream",
     "text": [
      "LinearSVR\n"
     ]
    },
    {
     "name": "stderr",
     "output_type": "stream",
     "text": [
      "100%|██████████| 100000/100000 [00:29<00:00, 3350.08it/s]\n"
     ]
    },
    {
     "name": "stdout",
     "output_type": "stream",
     "text": [
      "KNeighborsRegressor\n"
     ]
    },
    {
     "name": "stderr",
     "output_type": "stream",
     "text": [
      "100%|██████████| 100000/100000 [01:20<00:00, 1243.21it/s]\n"
     ]
    },
    {
     "name": "stdout",
     "output_type": "stream",
     "text": [
      "F:\\PC\\UNN\\Scientific\\Gerontology\\data\\GSE52588\\params\\num_cpgs_142987\\down_phenotypes\\regressions_fit_rand\\ABCIrritabilita.pdf\n",
      "DSQIID\n",
      "anova_ols\n"
     ]
    },
    {
     "name": "stderr",
     "output_type": "stream",
     "text": [
      "100%|██████████| 100000/100000 [01:02<00:00, 1602.20it/s]\n"
     ]
    },
    {
     "name": "stdout",
     "output_type": "stream",
     "text": [
      "anova_f_oneway\n"
     ]
    },
    {
     "name": "stderr",
     "output_type": "stream",
     "text": [
      "100%|██████████| 100000/100000 [00:44<00:00, 2245.48it/s]\n"
     ]
    },
    {
     "name": "stdout",
     "output_type": "stream",
     "text": [
      "LinearRegression\n"
     ]
    },
    {
     "name": "stderr",
     "output_type": "stream",
     "text": [
      "100%|██████████| 100000/100000 [00:48<00:00, 2055.16it/s]\n"
     ]
    },
    {
     "name": "stdout",
     "output_type": "stream",
     "text": [
      "SVR\n"
     ]
    },
    {
     "name": "stderr",
     "output_type": "stream",
     "text": [
      "100%|██████████| 100000/100000 [01:09<00:00, 1435.52it/s]\n"
     ]
    },
    {
     "name": "stdout",
     "output_type": "stream",
     "text": [
      "LinearSVR\n"
     ]
    },
    {
     "name": "stderr",
     "output_type": "stream",
     "text": [
      "100%|██████████| 100000/100000 [00:28<00:00, 3526.84it/s]\n"
     ]
    },
    {
     "name": "stdout",
     "output_type": "stream",
     "text": [
      "KNeighborsRegressor\n"
     ]
    },
    {
     "name": "stderr",
     "output_type": "stream",
     "text": [
      "100%|██████████| 100000/100000 [01:20<00:00, 1248.50it/s]\n"
     ]
    },
    {
     "name": "stdout",
     "output_type": "stream",
     "text": [
      "F:\\PC\\UNN\\Scientific\\Gerontology\\data\\GSE52588\\params\\num_cpgs_142987\\down_phenotypes\\regressions_fit_rand\\DSQIID.pdf\n"
     ]
    }
   ],
   "source": [
    "#data = parenclitics.drop(columns = [0,7,11,15,16,17,18])\n",
    "import warnings\n",
    "from tqdm import tqdm\n",
    "\n",
    "warnings.filterwarnings(\"ignore\")\n",
    "\n",
    "#data = parenclitics\n",
    "#data = data[:29].values\n",
    "XX = np.random.rand(X.shape[0], 100000)\n",
    "data = np.array(XX)\n",
    "#data = data[:, :100]\n",
    "data_full = stats.zscore(data)\n",
    "data = data_full[config.params[\"mongoloids_mask\"].value]\n",
    "print data.shape\n",
    "\n",
    "# Regression\n",
    "feature_names = [\"fluenzaverbale\", \"ABCletargia\", \"ABCstereotipie\", \"ABCinappropriatespeech\", \"qiv\", \"qip\", \"token\", \"fluenzafonemica\", \"F.A.B.\", \"ABCiperattivita\", \"ABCIrritabilita\", \"DSQIID\"]\n",
    "#feature_names = phenotype_df.columns.values\n",
    "clfs = [\"anova_ols\",\n",
    "        \"anova_f_oneway\",\n",
    "        linear_model.LinearRegression(),\n",
    "        svm.SVR(kernel='rbf', C=100, gamma=0.1, epsilon=.1),\n",
    "        #svm.SVR(kernel='poly', C=100, degree=3, epsilon=.1, coef0=1),\n",
    "        svm.LinearSVR(),\n",
    "        neighbors.KNeighborsRegressor(n_neighbors = 3),\n",
    "        #ensemble.RandomForestRegressor(n_estimators = 4),\n",
    "        #neural_network.MLPRegressor(max_iter = 50, hidden_layer_sizes = (10, ))\n",
    "        ]\n",
    "#clfs = [linear_model.LinearRegression()]\n",
    "# Classifiers\n",
    "'''\n",
    "feature_names = [\"categoriaDSQIID\", \"fluenzaverbale\",\"ABCiperattivita\", \"ABCIrritabilita\", \"ABCletargia\", \"ABCstereotipie\", \"ABCinappropriatespeech\", \"fluenzafonemica\", \"F.A.B.\"]\n",
    "clfs = [svm.SVC(kernel = 'rbf', C = 1, class_weight = \"balanced\"), \n",
    "        neighbors.KNeighborsClassifier(n_neighbors = 3),\n",
    "        svm.LinearSVC(C = 1, class_weight = \"balanced\"),\n",
    "        ensemble.RandomForestClassifier(n_estimators = 4),\n",
    "        neural_network.MLPClassifier(max_iter = 50, hidden_layer_sizes = (100, ))\n",
    "       ]\n",
    "'''\n",
    "is_normalized = False\n",
    "is_fit = True\n",
    "if not is_normalized:\n",
    "    data_full = np.array(XX)\n",
    "    norm_str = \"\"\n",
    "else:\n",
    "    norm_str = \"_norm\"\n",
    "\n",
    "if is_fit:\n",
    "    fit_str = \"_fit\"\n",
    "else:\n",
    "    fit_str = \"\"\n",
    "    \n",
    "np.set_printoptions(linewidth=100, formatter={'int':lambda x: \"{:2d}\".format(x), 'float':lambda x: \"{:.2f}\".format(x)})\n",
    "for feature_name in feature_names:\n",
    "    print feature_name\n",
    "    feature = (phenotype_df[feature_name].values)\n",
    "    feature_mask = ~np.isnan(feature)\n",
    "    cur = data[feature_mask]\n",
    "    feature = feature[~np.isnan(feature)].astype('int')\n",
    "    #print np.nan_to_num(phenotype_df[feature_name].values, 9).astype('int'), 'source'\n",
    "    #print feature, 'input', 'std =', \"{:.2f}\".format(np.std(feature)), 'iqr =', \"{:.2f}\".format(scipy.stats.iqr(feature, rng=(5, 95)) / 2)\n",
    "    model_names = []\n",
    "    fig, axes = plt.subplots(3, len(clfs), figsize = (len(clfs) * 5, 15))\n",
    "    fig.subplots_adjust(wspace=0.2, hspace=0.5)\n",
    "    fig.subplots_adjust(bottom=0.1, top=0.9, left=0.05, right=0.95)\n",
    "    for i, clf in enumerate(clfs):\n",
    "        scores = np.zeros((data.shape[1], ))\n",
    "        if type(clf) is str:\n",
    "            model_name = clf\n",
    "        else:\n",
    "            model_name = type(clf).__name__\n",
    "        print model_name\n",
    "        model_names.append(model_name)        \n",
    "\n",
    "        for j in tqdm(range(data.shape[1])):\n",
    "            scores[j], _ = input_feature_assessment_regr(cur[:, j].reshape(-1, 1), feature, clf)\n",
    "            \n",
    "        ids = np.argsort(scores) #[::-1]\n",
    "        #subset_scores = np.zeros((data.shape[0], ))\n",
    "        #print scores[ids[:len(subset_scores)]]\n",
    "        #for j in range(len(subset_scores)):\n",
    "        #    subset_scores[j], _ = input_feature_assessment_regr(cur[:, ids[:j + 1]], feature, clf)\n",
    "        #print subset_scores\n",
    "        #plt.plot(range(len(subset_scores)), subset_scores)\n",
    "        lines = [0] * 3\n",
    "        for j in range(3):\n",
    "            tid = ids[j]\n",
    "            ax = axes[j, i]\n",
    "            u, v = cur[:, tid], feature\n",
    "            \n",
    "            score, p = input_feature_assessment_regr(u.reshape(-1, 1), feature, clf)\n",
    "            u, v, p = u.flatten(), v.flatten(), p.flatten()\n",
    "            \n",
    "            #xx, yy = make_meshgrid(u, v)\n",
    "            #plot_contours(ax, clf, xx, yy, cmap=plt.cm.coolwarm, alpha=0.8)\n",
    "            title_name = (model_name + '\\n' if j == 0 else '') + ' score = ' + \"{:0.2g}\".format(score)\n",
    "            plot_cpg_per_phenotype(data_full, v, p, tid, feature_mask, is_fit = is_fit, title_name = title_name)\n",
    "    #plt.show()\n",
    "    #break\n",
    "    \n",
    "    fig.suptitle(feature_name, fontsize = 2 * fontsize)\n",
    "    fig.legend(lines, ['Down', 'Siblings', 'Mothers'], framealpha=0.9, fontsize=30, #bbox_to_anchor=(0., 1.02, 1., .102), \n",
    "               loc=3,\n",
    "           ncol=3, mode=\"expand\", borderaxespad=0., handletextpad=0.3, scatterpoints=3)\n",
    "    \n",
    "    #plot_url = py.plot_mpl(fig)\n",
    "    \n",
    "    feature_name = re.sub(\"[^\\d^\\w^\\.]\", \"_\", feature_name)\n",
    "    regressions_path = config.ofname([[\"down_phenotypes\"], [\"regressions\" + fit_str + norm_str + \"_rand\"], [feature_name]], ext = \".pdf\", \n",
    "                                     include_set = config.params_sets[\"down_phenotypes\"])\n",
    "    print regressions_path\n",
    "    plt.savefig(regressions_path)\n",
    "    \n",
    "    regressions_path = config.ofname([[\"down_phenotypes\"], [\"regressions\" + fit_str + norm_str + \"_rand\"], [feature_name]], ext = \".png\", \n",
    "                                     include_set = config.params_sets[\"down_phenotypes\"])\n",
    "    plt.savefig(regressions_path)\n",
    "    \n",
    "    regressions_path = config.ofname([[\"down_phenotypes\"], [\"regressions\" + fit_str + norm_str + \"_rand\"], [feature_name]], ext = \".svg\", \n",
    "                                     include_set = config.params_sets[\"down_phenotypes\"])\n",
    "    plt.savefig(regressions_path)\n",
    "    \n",
    "    plt.close(fig)\n",
    "    #break\n",
    "    #break\n",
    "    #val = float(np.bincount(feature).max()) / len(feature)\n",
    "    #val = np.mean(np.abs(feature - np.median(feature)))\n",
    "    #plt.plot([0, len(subset_scores)], [val, val])\n",
    "        \n",
    "        #break\n",
    "    #plt.legend(model_names)\n",
    "    #plt.show()\n",
    "    #break"
   ]
  },
  {
   "cell_type": "code",
   "execution_count": 239,
   "metadata": {},
   "outputs": [
    {
     "ename": "NameError",
     "evalue": "name 'sdfdf' is not defined",
     "output_type": "error",
     "traceback": [
      "\u001b[0;31m---------------------------------------------------------------------------\u001b[0m",
      "\u001b[0;31mNameError\u001b[0m                                 Traceback (most recent call last)",
      "\u001b[0;32m<ipython-input-239-afb33d188432>\u001b[0m in \u001b[0;36m<module>\u001b[0;34m()\u001b[0m\n\u001b[1;32m     54\u001b[0m     \u001b[0mcid\u001b[0m \u001b[1;33m=\u001b[0m \u001b[0mnp\u001b[0m\u001b[1;33m.\u001b[0m\u001b[0mnonzero\u001b[0m\u001b[1;33m(\u001b[0m\u001b[0mcpgs_names\u001b[0m \u001b[1;33m==\u001b[0m \u001b[0mname\u001b[0m\u001b[1;33m)\u001b[0m\u001b[1;33m\u001b[0m\u001b[0m\n\u001b[1;32m     55\u001b[0m     \u001b[1;32mreturn\u001b[0m \u001b[0mcid\u001b[0m\u001b[1;33m[\u001b[0m\u001b[1;36m0\u001b[0m\u001b[1;33m]\u001b[0m\u001b[1;33m[\u001b[0m\u001b[1;36m0\u001b[0m\u001b[1;33m]\u001b[0m\u001b[1;33m\u001b[0m\u001b[0m\n\u001b[0;32m---> 56\u001b[0;31m \u001b[0msdfdf\u001b[0m\u001b[1;33m\u001b[0m\u001b[0m\n\u001b[0m\u001b[1;32m     57\u001b[0m \u001b[1;33m\u001b[0m\u001b[0m\n\u001b[1;32m     58\u001b[0m \u001b[0mdata\u001b[0m \u001b[1;33m=\u001b[0m \u001b[0mnp\u001b[0m\u001b[1;33m.\u001b[0m\u001b[0marray\u001b[0m\u001b[1;33m(\u001b[0m\u001b[0mX\u001b[0m\u001b[1;33m)\u001b[0m\u001b[1;33m\u001b[0m\u001b[0m\n",
      "\u001b[0;31mNameError\u001b[0m: name 'sdfdf' is not defined"
     ]
    }
   ],
   "source": [
    "fontsize = 25\n",
    "fontname = \"Proxima Nova Rg\"\n",
    "\n",
    "def plot_cpg_per_phenotype(data_full, v, p, tid, feature_mask, is_fit = True, title_name = None, feature_name = None):\n",
    "    import scipy.stats as stats\n",
    "    u = data_full[config.params[\"mongoloids_mask\"].value, tid]\n",
    "    u = u[feature_mask]\n",
    "    if is_fit and len(p) > 0:\n",
    "        ids_x = np.argsort(u)\n",
    "        ax.plot(u[ids_x], p[ids_x], c = '#4285F4', linewidth = 3)\n",
    "    \n",
    "    lines[0] = ax.scatter(u, v, s = 80, c = '#EA4335', alpha = 0.8)\n",
    "    K = 4\n",
    "    x = data_full[:, tid]\n",
    "    \n",
    "    delta = x.ptp() * 0.01\n",
    "    x = np.linspace(x.min() - delta, x.max() + delta, 1000)\n",
    "    \n",
    "    delta_y = v.ptp() * 0.2\n",
    "    \n",
    "    density = stats.gaussian_kde(u)\n",
    "    y = density(x) / K\n",
    "    #ax.plot(x, y, c = '#EA4335')\n",
    "    #lines[2] = ax.fill_between(x, 0, y, color = '#EA4335',alpha=.3)\n",
    "    \n",
    "    u = data_full[config.params[\"siblings_mask\"].value, tid]\n",
    "    density = stats.gaussian_kde(u)\n",
    "    y = density(x) / K\n",
    "    #ax.plot(x, y, c = '#34A853')\n",
    "    #lines[1] = ax.fill_between(x, 0, y, color = '#34A853', alpha=.3)\n",
    "\n",
    "    #ax.hist(u, bins = np.linspace(u.min(), u.max(), 4), color = '#34A853', alpha = 0.5)\n",
    "    lines[1] = ax.scatter(u, -1 * delta_y + (np.random.rand(len(u), 1) - 0.5) * delta_y / 3, s = 80, c = '#34A853', alpha = 0.8)\n",
    "    u = data_full[config.params[\"mothers_mask\"].value, tid]\n",
    "    density = stats.gaussian_kde(u)\n",
    "    y = density(x) / K\n",
    "    #ax.plot(x, y, c = '#4285F4')\n",
    "    #lines[2] = ax.fill_between(x, 0, y, color = '#4285F4',alpha=.3)\n",
    "    #ax.hist(u, bins = np.linspace(u.min(), u.max(), 4), color = '#4285F4', alpha = 0.5)\n",
    "    lines[2] = ax.scatter(u, -2 * delta_y + (np.random.rand(len(u), 1) - 0.5) * delta_y / 3, s = 80, c = '#4285F4', alpha = 0.8)\n",
    "\n",
    "    if not title_name is None:\n",
    "        ax.set_title(title_name, fontsize = fontsize, fontname=fontname)\n",
    "    ax.set_xlabel(cpgs_names[tid], fontsize = fontsize, fontname=fontname)\n",
    "    if not feature_name is None:\n",
    "        ax.set_ylabel(feature_name, fontsize = fontsize, fontname=fontname)\n",
    "    ax.xaxis.set_major_locator(plt.MaxNLocator(4, steps = [1,2,3,4,5,6,7,8,9,10]))\n",
    "    plt.xticks(fontsize=fontsize, fontname=fontname)\n",
    "    plt.yticks(fontsize=fontsize, fontname=fontname)\n",
    "    #ax.set(xlim=(x.min(), x.max()), ylim = (0, None))\n",
    "    #ax.set_frame_on(True)\n",
    "\n",
    "def cpgname(name):\n",
    "    cid = np.nonzero(cpgs_names == name)\n",
    "    return cid[0][0]\n",
    "sdfdf\n",
    "\n",
    "data = np.array(X)\n",
    "data_full = stats.zscore(data)\n",
    "data = data_full[config.params[\"mongoloids_mask\"].value]\n",
    "\n",
    "data_full = np.array(X)\n",
    "\n",
    "feature_name = 'F.A.B.'\n",
    "model_name = 'Линейная регрессия'\n",
    "clf = clfs[2]\n",
    "tid = cpgname(\"cg00731253\") + 1\n",
    "\n",
    "\n",
    "feature_name = 'qip'\n",
    "model_name = 'SVR'\n",
    "clf = clfs[3]\n",
    "tid = cpgname(\"cg20180825\") + 1\n",
    "\n",
    "\n",
    "feature = (phenotype_df[feature_name].values)\n",
    "feature_mask = ~np.isnan(feature)\n",
    "cur = data[feature_mask]\n",
    "feature = feature[~np.isnan(feature)].astype('int')\n",
    "\n",
    "with plt.style.context(\"seaborn-whitegrid\"):\n",
    "    fig = plt.figure(figsize = (8, 6))\n",
    "    ax = plt.gca()\n",
    "    u, v = cur[:, tid], feature\n",
    "\n",
    "    _, p = input_feature_assessment_regr(u.reshape(-1, 1), feature, clf)\n",
    "    u, v, p = u.flatten(), v.flatten(), p.flatten()\n",
    "\n",
    "    #xx, yy = make_meshgrid(u, v)\n",
    "    #plot_contours(ax, clf, xx, yy, cmap=plt.cm.coolwarm, alpha=0.8)\n",
    "\n",
    "    plot_cpg_per_phenotype(data_full, v, p, tid, feature_mask, is_fit = is_fit, feature_name = feature_name) #, title_name = model_name\n",
    "    #fig.subplots_adjust(wspace=0.2, hspace=0.5)\n",
    "    fig.subplots_adjust(bottom=0.3, top=0.95, left=0.15, right=0.95)\n",
    "    l = fig.legend(lines, [u'DS', u'Siblings', u'Mothers'], framealpha=0.9, fontsize=28, #bbox_to_anchor=(0., 1.02, 1., .102), \n",
    "                   loc=3,\n",
    "               ncol=3, mode=\"expand\", \n",
    "               borderaxespad=0, handletextpad=0.3, scatterpoints=3)\n",
    "    plt.setp(l.texts, family=fontname)\n",
    "    #plt.savefig('\\\\\\\\buddha\\In\\FAB_LR.png')\n",
    "    #plt.savefig('\\\\\\\\buddha\\In\\FAB_LR.svg', transparent=True)\n",
    "    \n",
    "    plt.savefig('\\\\\\\\buddha\\In\\qip_SVR.png')\n",
    "    plt.savefig('\\\\\\\\buddha\\In\\qip_SVR.svg', transparent=True)"
   ]
  },
  {
   "cell_type": "code",
   "execution_count": 199,
   "metadata": {},
   "outputs": [
    {
     "name": "stdout",
     "output_type": "stream",
     "text": [
      "29023 428614 cg01459453 cg25771195\n",
      "(87L, 2L)\n"
     ]
    },
    {
     "data": {
      "image/png": "[encoded data removed]",
      "text/plain": [
       "<Figure size 576x432 with 1 Axes>"
      ]
     },
     "metadata": {},
     "output_type": "display_data"
    }
   ],
   "source": [
    "fontsize = 28\n",
    "fontname = \"Proxima Nova Rg\"\n",
    "\n",
    "def scater_down_syndrome(fig, ax, xu, xv, Y, gene_name_u, gene_name_v):\n",
    "    labels = ['DS', 'Siblings', 'Mothers']\n",
    "    colors = plt.rcParams['axes.prop_cycle'].by_key()['color']\n",
    "    ax.set_prop_cycle('color', [colors[0], colors[5], colors[1]])\n",
    "\n",
    "    for c in [0, 1, 2]:\n",
    "        ax.scatter(xu[Y == c], xv[Y == c], 200, label = labels[c], alpha=0.7)\n",
    "    \n",
    "    #for j in range(len(xu)):\n",
    "    #    ax.text(xu[j], xv[j], str(j), horizontalalignment='center', verticalalignment='center', fontsize = 15)\n",
    "\n",
    "    l = fig.legend(framealpha=0.9, fontsize=fontsize, loc=3, # bbox_to_anchor=(0., 1.02, 1., .102), \n",
    "           ncol=3, mode=\"expand\", borderaxespad=0., handletextpad=0.3, scatterpoints=3)    \n",
    "    plt.setp(l.texts, family=fontname)\n",
    "\n",
    "    \n",
    "    mean_p = []\n",
    "    for c in [0, 1, 2]:\n",
    "        mean_p.append([xu[Y == c].mean(), xv[Y == c].mean()])\n",
    "    for c in [0, 1]:\n",
    "        #plt.arrow(mean_p[2][0], mean_p[2][1], mean_p[c][0] - mean_p[2][0], mean_p[c][1] - mean_p[2][1], color = 'k')\n",
    "        ax.annotate(\"\", xy=(mean_p[c][0], mean_p[c][1]), xycoords='data', xytext=(mean_p[2][0], mean_p[2][1]),  textcoords='data', arrowprops=dict(shrink = 4,facecolor='black'), fontsize=20)\n",
    "\n",
    "    #k = (mean_p[0][1] - mean_p[2][1]) / (mean_p[0][0] - mean_p[2][0])\n",
    "    #if abs(k) > k_thr or abs(k) < 1.0 / k_thr:\n",
    "    #    continue\n",
    "    #s = \"k = {:0.2e}\".format(k)\n",
    "    #plt.text(0.17, 0.95, s, horizontalalignment='center', verticalalignment='center', transform = ax.transAxes, fontsize = 50)\n",
    "\n",
    "    ax.set_xlabel(gene_name_u, fontsize=fontsize, fontname = fontname)\n",
    "    ax.set_ylabel(gene_name_v, fontsize=fontsize, fontname = fontname)\n",
    "    fig.subplots_adjust(bottom=0.3, top=0.95, left=0.2, right=0.9)\n",
    "    plt.xticks(fontsize=25, fontname=fontname)\n",
    "    plt.yticks(fontsize=25, fontname=fontname)   \n",
    "    \n",
    "\n",
    "def genes_pair_plot(X, y, vertices, edges, genes_names):\n",
    "    #edges = np.concatenate((edges, np.array([edges[:, 1], edges[:, 0]]).T))\n",
    "    \n",
    "    import seaborn\n",
    "    #seaborn.set_style('darkgrid', {'legend.frameon':True})\n",
    "    seaborn.set_style('whitegrid')\n",
    "    \n",
    "    config.params[\"id_pair\"] = param(value_be = 0, value_en = len(edges) - 1, num_ticks = len(edges), name = 'id_pair', manual_ticks = True)\n",
    "    y = y.flatten()\n",
    "    pu = -1\n",
    "    k_thr = 3\n",
    "    \n",
    "    for i, e in enumerate(edges):\n",
    "        config.params[\"id_pair\"].set_tick(i)\n",
    "        fig = plt.figure(figsize=(8, 6))\n",
    "        ax = plt.gca()\n",
    "        #fig.set_visible(not fig.get_visible())\n",
    "        \n",
    "        \n",
    "        u = vertices[e[0]]\n",
    "        v = vertices[e[1]]\n",
    "        print u, v, genes_names[u], genes_names[v]\n",
    "        xu = X[:, u]\n",
    "        xv = X[:, v]\n",
    "        \n",
    "        #xu = (xu - xu.mean()) / xu.std()\n",
    "        #xv = (xv - xv.mean()) / xv.std()\n",
    "        \n",
    "        #mothers_mask = config.params[\"mothers_mask\"].value\n",
    "        #mongoloids_mask = config.params[\"mongoloids_mask\"].value\n",
    "        data = np.array([xu, xv]).astype('float32').T\n",
    "        print data.shape\n",
    "        \n",
    "        scater_down_syndrome(fig, ax, xu, xv, y, genes_names[u], genes_names[v])\n",
    "        #plt.ylim([0, 0.06])\n",
    "        #pair_genes_path = config.ofname([[\"kdes\", genes_names[u], genes_names[v]]], ext = \".png\", include_set = config.params_sets[\"kdes\"])\n",
    "        #print pair_genes_path\n",
    "        \n",
    "        file_name = \"\\\\\\\\buddha\\\\In\\\\\" + \"cpgs_\" + genes_names[u] + \"_\" + genes_names[v]\n",
    "        plt.savefig(file_name + \".svg\")\n",
    "        plt.savefig(file_name + \".png\")\n",
    "        break\n",
    "        #plt.close(fig)\n",
    "\n",
    "vertices = [cpgname(\"cg05365729\"), cpgname(\"cg04452713\"), cpgname(\"cg01459453\"), cpgname(\"cg25771195\")] #cg25809905 cg09809672 cg26372517\n",
    "edges = [[2, 3], [0, 1]]\n",
    "genes_pair_plot(X, y, vertices, edges, cpgs_names)"
   ]
  },
  {
   "cell_type": "code",
   "execution_count": 165,
   "metadata": {},
   "outputs": [
    {
     "ename": "NameError",
     "evalue": "name 'pair_genes_path' is not defined",
     "output_type": "error",
     "traceback": [
      "\u001b[0;31m---------------------------------------------------------------------------\u001b[0m",
      "\u001b[0;31mNameError\u001b[0m                                 Traceback (most recent call last)",
      "\u001b[0;32m<ipython-input-165-1e3847191714>\u001b[0m in \u001b[0;36m<module>\u001b[0;34m()\u001b[0m\n\u001b[0;32m----> 1\u001b[0;31m \u001b[1;32mprint\u001b[0m \u001b[0mpair_genes_path\u001b[0m\u001b[1;33m\u001b[0m\u001b[0m\n\u001b[0m",
      "\u001b[0;31mNameError\u001b[0m: name 'pair_genes_path' is not defined"
     ]
    }
   ],
   "source": []
  },
  {
   "cell_type": "code",
   "execution_count": null,
   "metadata": {
    "collapsed": true
   },
   "outputs": [],
   "source": []
  },
  {
   "cell_type": "code",
   "execution_count": 35,
   "metadata": {
    "scrolled": false
   },
   "outputs": [
    {
     "name": "stdout",
     "output_type": "stream",
     "text": [
      "-1.7247499 1.4657556\n",
      "(25L,) (25L,)\n",
      "[False False False  True False False False False False False  True False  True False  True  True\n",
      " False False False False False False False False False]\n"
     ]
    },
    {
     "data": {
      "text/plain": [
       "array([ 0,  0,  1,  0,  0])"
      ]
     },
     "execution_count": 35,
     "metadata": {},
     "output_type": "execute_result"
    }
   ],
   "source": [
    "data = cur[:, j].reshape(-1, 1)\n",
    "num_groups = 5\n",
    "bins = np.array(np.percentile(data, np.linspace(0, 100, num_groups + 1)))\n",
    "print data.min(), data.max()\n",
    "classes = np.minimum(np.digitize(data, bins), num_groups) - 1\n",
    "classes = classes.flatten()\n",
    "print feature.shape, classes.shape\n",
    "print classes == 0\n",
    "feature[classes == 0]"
   ]
  },
  {
   "cell_type": "code",
   "execution_count": 76,
   "metadata": {},
   "outputs": [
    {
     "name": "stdout",
     "output_type": "stream",
     "text": [
      "F:\\PC\\UNN\\Scientific\\Gerontology\\data\\GSE52588\\params\\num_genes_15024\\down_phenotypes\\regressions_fit.png\n"
     ]
    }
   ],
   "source": [
    "from configurations.config_down_GSE52588 import config\n",
    "regressions_path = config.ofname([[\"down_phenotypes\"], [\"regressions_fit\"]], ext = \".png\", \n",
    "                                 include_set = config.params_sets[\"down_phenotypes\"])\n",
    "print regressions_path"
   ]
  },
  {
   "cell_type": "code",
   "execution_count": 36,
   "metadata": {
    "scrolled": true
   },
   "outputs": [
    {
     "name": "stdout",
     "output_type": "stream",
     "text": [
      "(29L, 1L) (29L,) (29L, 1L)\n",
      "[[ 0]\n",
      " [ 0]\n",
      " [ 0]\n",
      " [ 0]\n",
      " [ 0]\n",
      " [ 0]\n",
      " [ 0]\n",
      " [ 0]\n",
      " [ 0]\n",
      " [ 0]\n",
      " [ 0]\n",
      " [ 0]\n",
      " [ 0]\n",
      " [ 0]\n",
      " [ 0]\n",
      " [ 0]\n",
      " [ 0]\n",
      " [ 0]\n",
      " [ 0]\n",
      " [ 0]\n",
      " [ 0]\n",
      " [ 0]\n",
      " [ 0]\n",
      " [ 0]\n",
      " [ 0]\n",
      " [ 0]\n",
      " [ 0]\n",
      " [ 0]\n",
      " [ 0]]\n",
      "(29L,)\n",
      "[0.24 -0.16 -0.68 -0.31 1.12 0.21 1.22 0.97 0.47 0.67 -0.09 1.23 0.35 0.99 1.52 -0.00 0.44 0.82 0.92\n",
      " 2.47 -0.19 1.27 0.48 1.17 0.82 1.28 0.07 0.23 0.49]\n",
      "[[0.24]\n",
      " [0.24]\n",
      " [0.24]\n",
      " [0.24]\n",
      " [0.24]\n",
      " [0.24]\n",
      " [0.24]\n",
      " [0.24]\n",
      " [0.24]\n",
      " [0.24]\n",
      " [0.24]\n",
      " [0.24]\n",
      " [0.24]\n",
      " [0.24]\n",
      " [0.24]\n",
      " [0.24]\n",
      " [0.24]\n",
      " [0.24]\n",
      " [0.24]\n",
      " [0.24]\n",
      " [0.24]\n",
      " [0.24]\n",
      " [0.24]\n",
      " [0.24]\n",
      " [0.24]\n",
      " [0.24]\n",
      " [0.24]\n",
      " [0.24]\n",
      " [0.24]]\n"
     ]
    }
   ],
   "source": [
    "print u.shape, v.shape, ids.shape\n",
    "print ids\n",
    "print p.shape\n",
    "print p\n",
    "print p.flatten()[ids]"
   ]
  },
  {
   "cell_type": "code",
   "execution_count": 67,
   "metadata": {},
   "outputs": [
    {
     "name": "stdout",
     "output_type": "stream",
     "text": [
      "(28L, 1L) (28L,)\n",
      "(28L, 2L) (28L,)\n"
     ]
    },
    {
     "data": {
      "text/plain": [
       "2.5357142857142856"
      ]
     },
     "execution_count": 67,
     "metadata": {},
     "output_type": "execute_result"
    }
   ],
   "source": [
    "input_feature_assessment(cur[:, ids[:1]], feature, clf)\n",
    "input_feature_assessment(cur[:, ids[:2]], feature, clf)"
   ]
  },
  {
   "cell_type": "code",
   "execution_count": 29,
   "metadata": {},
   "outputs": [
    {
     "data": {
      "text/plain": [
       "' 2'"
      ]
     },
     "execution_count": 29,
     "metadata": {},
     "output_type": "execute_result"
    }
   ],
   "source": [
    "\"{:2d}\".format(2)"
   ]
  },
  {
   "cell_type": "code",
   "execution_count": 113,
   "metadata": {},
   "outputs": [
    {
     "data": {
      "text/plain": [
       "['accuracy',\n",
       " 'adjusted_mutual_info_score',\n",
       " 'adjusted_rand_score',\n",
       " 'average_precision',\n",
       " 'balanced_accuracy',\n",
       " 'brier_score_loss',\n",
       " 'completeness_score',\n",
       " 'explained_variance',\n",
       " 'f1',\n",
       " 'f1_macro',\n",
       " 'f1_micro',\n",
       " 'f1_samples',\n",
       " 'f1_weighted',\n",
       " 'fowlkes_mallows_score',\n",
       " 'homogeneity_score',\n",
       " 'mutual_info_score',\n",
       " 'neg_log_loss',\n",
       " 'neg_mean_absolute_error',\n",
       " 'neg_mean_squared_error',\n",
       " 'neg_mean_squared_log_error',\n",
       " 'neg_median_absolute_error',\n",
       " 'normalized_mutual_info_score',\n",
       " 'precision',\n",
       " 'precision_macro',\n",
       " 'precision_micro',\n",
       " 'precision_samples',\n",
       " 'precision_weighted',\n",
       " 'r2',\n",
       " 'recall',\n",
       " 'recall_macro',\n",
       " 'recall_micro',\n",
       " 'recall_samples',\n",
       " 'recall_weighted',\n",
       " 'roc_auc',\n",
       " 'v_measure_score']"
      ]
     },
     "execution_count": 113,
     "metadata": {},
     "output_type": "execute_result"
    }
   ],
   "source": [
    "import sklearn\n",
    "sorted(sklearn.metrics.SCORERS.keys())"
   ]
  },
  {
   "cell_type": "code",
   "execution_count": 4,
   "metadata": {
    "collapsed": true
   },
   "outputs": [],
   "source": []
  },
  {
   "cell_type": "code",
   "execution_count": 44,
   "metadata": {},
   "outputs": [
    {
     "name": "stdout",
     "output_type": "stream",
     "text": [
      "(29L, 15024L)\n",
      "categoriaDSQIID\n",
      "[ 0  0  0  0  1  0  0  0  0  0  0  0  0  0  1  0  0  1  0  1  0  1  0  0  1  0  0  0  0] good\n",
      "[ 0  0  0  0  1  0  0  0  0  0  0  0  0  0  1  0  0  1  0  1  0  1  0  0  1  0  0  0  0] 0.76 0.79 1.00 SVC\n",
      "[ 0  0  0  0  0  0  0  0  0  0  0  0  0  0  0  0  0  0  0  1  0  1  0  0  0  0  0  0  0] 0.68 0.79 0.86 KNeighborsClassifier\n",
      "[ 0  0  0  0  1  0  0  0  0  0  0  0  0  0  1  0  0  1  0  1  0  1  0  0  1  0  0  0  0] 0.18 0.79 1.00 LinearSVC\n",
      "[ 0  0  0  0  0  0  0  0  0  0  0  0  0  0  1  0  0  1  0  1  0  1  0  0  1  0  0  0  0] 0.80 0.79 0.97 RandomForestClassifier\n",
      "fluenzaverbale\n",
      "[ 0  1  1  0  1  1  0  0  0  1  0  1  1  2  0  0  1  0  2  0  0  0  0  0  2] good\n",
      "[ 0  1  1  0  1  1  0  0  0  1  0  1  0  2  0  0  1  0  2  0  0  0  0  0  2] 0.65 0.56 0.96 SVC\n",
      "[ 0  0  1  0  0  0  0  0  0  0  0  0  0  0  0  0  1  0  0  0  0  0  0  0  2] 0.48 0.56 0.68 KNeighborsClassifier\n",
      "[ 0  1  1  0  1  1  0  0  0  1  0  1  1  2  0  0  1  0  2  0  0  0  0  0  2] 0.13 0.56 1.00 LinearSVC\n",
      "[ 0  1  1  0  1  0  0  0  0  1  0  1  0  1  0  0  1  0  2  0  0  0  0  0  2] 0.53 0.56 0.88 RandomForestClassifier\n",
      "ABCiperattivita\n",
      "[ 5  0 12  1  0  0  3  2  9  1  0  3 43  2  2  2  0  2  0  0  1  1  0  0  2  0  0  2] good\n",
      "[ 5  2 12  1  0  0  3  2  9  1  2  3 43  2  2  2  2  2  2  2  1  1  2  2  2  0  2  2] 0.28 0.39 0.71 SVC\n",
      "[ 0  0  0  0  0  0  3  0  3  0  0  2  9  1  1  2  0  2  0  0  1  0  0  0  2  0  0  0] 0.42 0.39 0.57 KNeighborsClassifier\n",
      "[ 5  0 12  1  0  0  3  2  9  1  0  3 43  2  2  2  0  2  0  0  1  1  0  0  2  0  0  2] 0.05 0.39 1.00 LinearSVC\n",
      "[ 0  0 12  1  0  0  1  2  9  1  0  3 43  2  0  2  0  0  0  0  0  1  0  0  2  0  0  2] 0.32 0.39 0.82 RandomForestClassifier\n",
      "ABCIrritabilita\n",
      "[ 0  1  5  2  0  0  0  3  0  0  0  1  8 16  0  0  0  0  0  1  6  3  4  0  0  0  0  3] good\n",
      "[ 0  1  5  2  0  0  0  3  0  0  0  1  8 16  0  0  0  0  0  1  6  3  4  0  0  0  0  3] 0.37 0.57 1.00 SVC\n",
      "[ 0  0  1  0  0  0  0  0  0  0  0  1  0  6  0  0  0  0  0  1  6  1  0  0  0  0  0  0] 0.71 0.57 0.68 KNeighborsClassifier\n",
      "[ 0  1  5  2  0  0  0  3  0  0  0  1  8 16  0  0  0  0  0  1  6  3  4  0  0  0  0  3] 0.00 0.57 1.00 LinearSVC\n",
      "[ 0  1  5  2  0  0  0  3  0  0  0  1  8 16  0  0  0  0  0  1  0  3  4  0  0  0  0  0] 0.39 0.57 0.93 RandomForestClassifier\n",
      "ABCletargia\n",
      "[17  5  0  9 27  0  2  2 10 17  6 13  0  2 14  1  6 13  0 16  0 13  0  2  0  3  1  3] good\n",
      "[17  5  0  9 27  0  0  0 10 17  6 13  0  0 14  1  6  0  0 16  0 13  0  0  0  3  1  3] 0.25 0.25 0.82 SVC\n",
      "[ 5  5  0  0  0  0  2  2  2  6  6  2  0  0 14  1  6  1  0 13  0 13  0  0  0  3  1  3] 0.45 0.25 0.64 KNeighborsClassifier\n",
      "[17  5  0  9 27  0  2  2 10 17  6 13  0  2 14  1  6 13  0 16  0 13  0  2  0  3  1  3] 0.04 0.25 1.00 LinearSVC\n",
      "[17  5  5  9 27  0  2  2 10  2  6 13  0  2 14  1  6 13  0 16  0 13  0  2  0  0  0  3] 0.33 0.25 0.86 RandomForestClassifier\n",
      "ABCstereotipie\n",
      "[10  0  2  3 11  0  8  0  2  8  4  0  4  2  0  2  0  3  0  5  6  9  3  0  0  0  0  1] good\n",
      "[10  0  0  3 11  0  8  0  0  8  4  0  4  0  0  0  0  3  0  5  6  9  3  0  0  0  0  1] 0.51 0.39 0.86 SVC\n",
      "[ 0  0  0  0  0  0  2  0  2  4  4  0  2  2  0  2  0  2  0  5  4  5  0  0  0  0  0  0] 0.40 0.39 0.57 KNeighborsClassifier\n",
      "[10  0  2  3 11  0  8  0  2  8  4  0  4  2  0  2  0  3  0  5  6  9  3  0  0  0  0  1] 0.00 0.39 1.00 LinearSVC\n",
      "[10  0  2  3 11  0  8  0  2  8  4  0  4  2  0  2  0  3  0  5  0  0  3  0  0  0  0  0] 0.23 0.39 0.89 RandomForestClassifier\n",
      "ABCinappropriatespeech\n",
      "[ 2  4  2  3  6  0  2  2  4  5  4  3  9  5  0  2  7  3  5  0  3  3  5  1  1  3  4  6] good\n",
      "[ 2  4  2  3  6  0  2  2  4  5  4  3  9  5  0  2  7  5  5  0  3  3  5  1  1  3  4  6] 0.10 0.21 0.96 SVC\n",
      "[ 2  2  2  0  0  0  2  2  2  4  4  2  4  3  0  2  4  2  1  0  3  0  1  1  1  3  3  6] 0.19 0.21 0.50 KNeighborsClassifier\n",
      "[ 2  4  2  3  6  0  2  2  4  5  4  3  9  5  0  2  7  3  5  0  3  3  5  1  1  3  4  6] 0.03 0.21 1.00 LinearSVC\n",
      "[ 2  4  2  3  6  0  2  0  4  5  4  3  9  5  0  2  4  3  5  5  3  3  4  1  1  3  3  6] 0.07 0.21 0.82 RandomForestClassifier\n",
      "fluenzafonemica\n",
      "[ 0  9  3  8  3 19  9  6  0  5  7  2  9  0  0 14  0  8  0  7  3 20  0  6  9  0  6 20] good\n",
      "[ 0  9  3  8  3 19  9  6  0  5  7  2  9  0  0 14  0  8  0  7  3 20  0  6  6  0  6 20] 0.29 0.29 0.96 SVC\n",
      "[ 0  0  3  8  3  3  0  6  0  5  5  2  0  0  0  0  0  6  0  7  0  6  0  6  0  0  0 14] 0.22 0.29 0.57 KNeighborsClassifier\n",
      "[ 0  9  3  8  3 19  9  6  0  5  7  2  9  0  0 14  0  8  0  7  3 20  0  6  9  0  6 20] 0.00 0.29 1.00 LinearSVC\n",
      "[ 0  9  3  3  3  2  9  6  0  5  7  2  9  0  0 14  0  8  0  7  3 20  0  6  9  0  0  9] 0.18 0.29 0.86 RandomForestClassifier\n",
      "F.A.B.\n"
     ]
    }
   ],
   "source": [
    "from sklearn import svm, datasets\n",
    "from scipy import stats\n",
    "from sklearn import neighbors, ensemble\n",
    "from sklearn.model_selection import cross_val_score\n",
    "\n",
    "data = np.array(X)\n",
    "data = data[:29, :]\n",
    "print data.shape\n",
    "#data = data[:29].values\n",
    "data = stats.zscore(data)\n",
    "\n",
    "np.set_printoptions(linewidth=100, formatter={'int':lambda x: \"{:2d}\".format(x), 'float':lambda x: \"{:.2f}\".format(x)})\n",
    "feature_names = [\"categoriaDSQIID\", \"fluenzaverbale\",\"ABCiperattivita\", \"ABCIrritabilita\", \"ABCletargia\", \"ABCstereotipie\", \"ABCinappropriatespeech\", \"fluenzafonemica\", \"F.A.B.\"]\n",
    "for feature_name in feature_names:\n",
    "    print feature_name\n",
    "    feature = (phenotype_df[feature_name].values)\n",
    "    cur = data[~np.isnan(feature)]\n",
    "    feature = feature[~np.isnan(feature)].astype('int')\n",
    "    if (feature == 0).sum() < 3:\n",
    "        continue\n",
    "    \n",
    "    print feature, 'good'\n",
    "    clfs = [svm.SVC(kernel = 'rbf', C = 1, class_weight = \"balanced\"), \n",
    "            neighbors.KNeighborsClassifier(n_neighbors = 2),\n",
    "            svm.LinearSVC(C = 1, class_weight = \"balanced\"),\n",
    "            ensemble.RandomForestClassifier(n_estimators = 4)]\n",
    "\n",
    "    for clf in clfs:\n",
    "        score = cross_val_score(clf, cur, feature, cv=5).mean()\n",
    "        clf.fit(cur, feature)\n",
    "        predicted = clf.predict(cur)\n",
    "        score2 = clf.score(cur, feature)\n",
    "        val = float(np.bincount(feature).max()) / len(feature)\n",
    "        print predicted, \"{:.2f}\".format(score), \"{:.2f}\".format(val), \"{:.2f}\".format(score2), type(clf).__name__\n",
    "        \n",
    "    #break"
   ]
  },
  {
   "cell_type": "code",
   "execution_count": 24,
   "metadata": {},
   "outputs": [
    {
     "name": "stderr",
     "output_type": "stream",
     "text": [
      "100%|██████████| 100/100 [01:40<00:00,  1.00s/it]\n"
     ]
    }
   ],
   "source": [
    "import time\n",
    "from tqdm import tqdm\n",
    "for i in tqdm(range(100)):\n",
    "    time.sleep(1)"
   ]
  },
  {
   "cell_type": "code",
   "execution_count": 18,
   "metadata": {},
   "outputs": [
    {
     "data": {
      "image/png": "[encoded data removed]",
      "text/plain": [
       "<Figure size 432x288 with 1 Axes>"
      ]
     },
     "metadata": {},
     "output_type": "display_data"
    }
   ],
   "source": [
    "#py.sign_in('mike_live', 'rfHatoUPaLpzIMHQJKYK')\n",
    "\n",
    "plt.scatter(np.random.rand(10, 1), np.random.rand(10, 1))\n",
    "\n",
    "np.savez('tmp.npz', fig = plt.gcf())\n",
    "#plot_url = py.plot_mpl(plt.gcf())\n",
    "\n",
    "import pickle\n",
    "pickle.dump(plt.gcf(), open('FigureObject.fig.pickle', 'wb'))"
   ]
  },
  {
   "cell_type": "code",
   "execution_count": 19,
   "metadata": {},
   "outputs": [
    {
     "ename": "AttributeError",
     "evalue": "'module' object has no attribute 'new_figure_manager_given_figure'",
     "output_type": "error",
     "traceback": [
      "\u001b[0;31m---------------------------------------------------------------------------\u001b[0m",
      "\u001b[0;31mAttributeError\u001b[0m                            Traceback (most recent call last)",
      "\u001b[0;32m<ipython-input-19-144549b50d5b>\u001b[0m in \u001b[0;36m<module>\u001b[0;34m()\u001b[0m\n\u001b[1;32m      1\u001b[0m \u001b[1;32mimport\u001b[0m \u001b[0mpickle\u001b[0m\u001b[1;33m\u001b[0m\u001b[0m\n\u001b[0;32m----> 2\u001b[0;31m \u001b[0mfigx\u001b[0m \u001b[1;33m=\u001b[0m \u001b[0mpickle\u001b[0m\u001b[1;33m.\u001b[0m\u001b[0mload\u001b[0m\u001b[1;33m(\u001b[0m\u001b[0mopen\u001b[0m\u001b[1;33m(\u001b[0m\u001b[1;34m'FigureObject.fig.pickle'\u001b[0m\u001b[1;33m,\u001b[0m \u001b[1;34m'rb'\u001b[0m\u001b[1;33m)\u001b[0m\u001b[1;33m)\u001b[0m\u001b[1;33m\u001b[0m\u001b[0m\n\u001b[0m\u001b[1;32m      3\u001b[0m \u001b[1;33m\u001b[0m\u001b[0m\n\u001b[1;32m      4\u001b[0m \u001b[0mfigx\u001b[0m\u001b[1;33m.\u001b[0m\u001b[0mshow\u001b[0m\u001b[1;33m(\u001b[0m\u001b[1;33m)\u001b[0m\u001b[1;33m\u001b[0m\u001b[0m\n",
      "\u001b[0;32mC:\\Users\\mike_live\\Anaconda2\\lib\\pickle.pyc\u001b[0m in \u001b[0;36mload\u001b[0;34m(file)\u001b[0m\n\u001b[1;32m   1382\u001b[0m \u001b[1;33m\u001b[0m\u001b[0m\n\u001b[1;32m   1383\u001b[0m \u001b[1;32mdef\u001b[0m \u001b[0mload\u001b[0m\u001b[1;33m(\u001b[0m\u001b[0mfile\u001b[0m\u001b[1;33m)\u001b[0m\u001b[1;33m:\u001b[0m\u001b[1;33m\u001b[0m\u001b[0m\n\u001b[0;32m-> 1384\u001b[0;31m     \u001b[1;32mreturn\u001b[0m \u001b[0mUnpickler\u001b[0m\u001b[1;33m(\u001b[0m\u001b[0mfile\u001b[0m\u001b[1;33m)\u001b[0m\u001b[1;33m.\u001b[0m\u001b[0mload\u001b[0m\u001b[1;33m(\u001b[0m\u001b[1;33m)\u001b[0m\u001b[1;33m\u001b[0m\u001b[0m\n\u001b[0m\u001b[1;32m   1385\u001b[0m \u001b[1;33m\u001b[0m\u001b[0m\n\u001b[1;32m   1386\u001b[0m \u001b[1;32mdef\u001b[0m \u001b[0mloads\u001b[0m\u001b[1;33m(\u001b[0m\u001b[0mstr\u001b[0m\u001b[1;33m)\u001b[0m\u001b[1;33m:\u001b[0m\u001b[1;33m\u001b[0m\u001b[0m\n",
      "\u001b[0;32mC:\\Users\\mike_live\\Anaconda2\\lib\\pickle.pyc\u001b[0m in \u001b[0;36mload\u001b[0;34m(self)\u001b[0m\n\u001b[1;32m    862\u001b[0m             \u001b[1;32mwhile\u001b[0m \u001b[1;36m1\u001b[0m\u001b[1;33m:\u001b[0m\u001b[1;33m\u001b[0m\u001b[0m\n\u001b[1;32m    863\u001b[0m                 \u001b[0mkey\u001b[0m \u001b[1;33m=\u001b[0m \u001b[0mread\u001b[0m\u001b[1;33m(\u001b[0m\u001b[1;36m1\u001b[0m\u001b[1;33m)\u001b[0m\u001b[1;33m\u001b[0m\u001b[0m\n\u001b[0;32m--> 864\u001b[0;31m                 \u001b[0mdispatch\u001b[0m\u001b[1;33m[\u001b[0m\u001b[0mkey\u001b[0m\u001b[1;33m]\u001b[0m\u001b[1;33m(\u001b[0m\u001b[0mself\u001b[0m\u001b[1;33m)\u001b[0m\u001b[1;33m\u001b[0m\u001b[0m\n\u001b[0m\u001b[1;32m    865\u001b[0m         \u001b[1;32mexcept\u001b[0m \u001b[0m_Stop\u001b[0m\u001b[1;33m,\u001b[0m \u001b[0mstopinst\u001b[0m\u001b[1;33m:\u001b[0m\u001b[1;33m\u001b[0m\u001b[0m\n\u001b[1;32m    866\u001b[0m             \u001b[1;32mreturn\u001b[0m \u001b[0mstopinst\u001b[0m\u001b[1;33m.\u001b[0m\u001b[0mvalue\u001b[0m\u001b[1;33m\u001b[0m\u001b[0m\n",
      "\u001b[0;32mC:\\Users\\mike_live\\Anaconda2\\lib\\pickle.pyc\u001b[0m in \u001b[0;36mload_build\u001b[0;34m(self)\u001b[0m\n\u001b[1;32m   1221\u001b[0m         \u001b[0msetstate\u001b[0m \u001b[1;33m=\u001b[0m \u001b[0mgetattr\u001b[0m\u001b[1;33m(\u001b[0m\u001b[0minst\u001b[0m\u001b[1;33m,\u001b[0m \u001b[1;34m\"__setstate__\"\u001b[0m\u001b[1;33m,\u001b[0m \u001b[0mNone\u001b[0m\u001b[1;33m)\u001b[0m\u001b[1;33m\u001b[0m\u001b[0m\n\u001b[1;32m   1222\u001b[0m         \u001b[1;32mif\u001b[0m \u001b[0msetstate\u001b[0m\u001b[1;33m:\u001b[0m\u001b[1;33m\u001b[0m\u001b[0m\n\u001b[0;32m-> 1223\u001b[0;31m             \u001b[0msetstate\u001b[0m\u001b[1;33m(\u001b[0m\u001b[0mstate\u001b[0m\u001b[1;33m)\u001b[0m\u001b[1;33m\u001b[0m\u001b[0m\n\u001b[0m\u001b[1;32m   1224\u001b[0m             \u001b[1;32mreturn\u001b[0m\u001b[1;33m\u001b[0m\u001b[0m\n\u001b[1;32m   1225\u001b[0m         \u001b[0mslotstate\u001b[0m \u001b[1;33m=\u001b[0m \u001b[0mNone\u001b[0m\u001b[1;33m\u001b[0m\u001b[0m\n",
      "\u001b[0;32mC:\\Users\\mike_live\\Anaconda2\\lib\\site-packages\\matplotlib\\figure.pyc\u001b[0m in \u001b[0;36m__setstate__\u001b[0;34m(self, state)\u001b[0m\n\u001b[1;32m   1902\u001b[0m             \u001b[0mallnums\u001b[0m \u001b[1;33m=\u001b[0m \u001b[0mplt\u001b[0m\u001b[1;33m.\u001b[0m\u001b[0mget_fignums\u001b[0m\u001b[1;33m(\u001b[0m\u001b[1;33m)\u001b[0m\u001b[1;33m\u001b[0m\u001b[0m\n\u001b[1;32m   1903\u001b[0m             \u001b[0mnum\u001b[0m \u001b[1;33m=\u001b[0m \u001b[0mmax\u001b[0m\u001b[1;33m(\u001b[0m\u001b[0mallnums\u001b[0m\u001b[1;33m)\u001b[0m \u001b[1;33m+\u001b[0m \u001b[1;36m1\u001b[0m \u001b[1;32mif\u001b[0m \u001b[0mallnums\u001b[0m \u001b[1;32melse\u001b[0m \u001b[1;36m1\u001b[0m\u001b[1;33m\u001b[0m\u001b[0m\n\u001b[0;32m-> 1904\u001b[0;31m             \u001b[0mmgr\u001b[0m \u001b[1;33m=\u001b[0m \u001b[0mplt\u001b[0m\u001b[1;33m.\u001b[0m\u001b[0m_backend_mod\u001b[0m\u001b[1;33m.\u001b[0m\u001b[0mnew_figure_manager_given_figure\u001b[0m\u001b[1;33m(\u001b[0m\u001b[0mnum\u001b[0m\u001b[1;33m,\u001b[0m \u001b[0mself\u001b[0m\u001b[1;33m)\u001b[0m\u001b[1;33m\u001b[0m\u001b[0m\n\u001b[0m\u001b[1;32m   1905\u001b[0m \u001b[1;33m\u001b[0m\u001b[0m\n\u001b[1;32m   1906\u001b[0m             \u001b[1;31m# XXX The following is a copy and paste from pyplot. Consider\u001b[0m\u001b[1;33m\u001b[0m\u001b[1;33m\u001b[0m\u001b[0m\n",
      "\u001b[0;31mAttributeError\u001b[0m: 'module' object has no attribute 'new_figure_manager_given_figure'"
     ]
    }
   ],
   "source": [
    "import pickle\n",
    "figx = pickle.load(open('FigureObject.fig.pickle', 'rb'))\n",
    "\n",
    "figx.show()"
   ]
  },
  {
   "cell_type": "markdown",
   "metadata": {},
   "source": [
    "# Epimutations per phenotype"
   ]
  },
  {
   "cell_type": "code",
   "execution_count": 7,
   "metadata": {
    "scrolled": false
   },
   "outputs": [
    {
     "name": "stdout",
     "output_type": "stream",
     "text": [
      "categoriaDSQIID\n",
      "fluenzaverbale\n",
      "ABCiperattivita\n",
      "ABCIrritabilita\n",
      "ABCletargia\n",
      "ABCstereotipie\n",
      "ABCinappropriatespeech\n",
      "fluenzafonemica\n",
      "F.A.B.\n"
     ]
    }
   ],
   "source": [
    "def plot_per_phenotype(x, y, label_x = '', label_y = '', title = ''):\n",
    "    plt.figure(figsize=(10, 5))\n",
    "    ax = plt.axes()\n",
    "    ax.scatter(x, y, alpha = 0.5, linewidth = 3)\n",
    "    plt.xlabel(label_x, fontsize = fontsize)\n",
    "    plt.ylabel(label_y, fontsize = fontsize)\n",
    "    plt.title(title, fontsize = 1.2 * fontsize)\n",
    "    plt.subplots_adjust(bottom=0.2, top=0.9, left=0.2, right=0.95)\n",
    "    #plt.show()\n",
    "    \n",
    "def plot_per_phenotypes(new_feature, path_pdf, label = '', title = ''):\n",
    "    feature_names = [\"categoriaDSQIID\", \"fluenzaverbale\",\"ABCiperattivita\", \"ABCIrritabilita\", \"ABCletargia\", \"ABCstereotipie\", \"ABCinappropriatespeech\", \"fluenzafonemica\", \"F.A.B.\"]\n",
    "    #feature_names = phenotype_df.columns.values\n",
    "    from matplotlib.backends.backend_pdf import PdfPages\n",
    "    \n",
    "    with PdfPages(path_pdf) as pdf:\n",
    "        for feature_name in feature_names:\n",
    "            print (feature_name)\n",
    "            feature = (phenotype_df[feature_name].values)\n",
    "            cur = new_feature[~np.isnan(feature)]\n",
    "            feature = feature[~np.isnan(feature)].astype('int')\n",
    "            plot_per_phenotype(cur, feature, label_x = label, label_y = feature_name, title = title)\n",
    "            pdf.savefig()\n",
    "            plt.close()\n",
    "            \n",
    "\n",
    "df = pd.read_csv(config.ifname('epimutations'))\n",
    "path_pdf = config.ofname([[\"down_epimutations\"], [\"epimutation\", \"phenotypes\", \"small\"]], ext = \".pdf\", \n",
    "                                                 include_set = config.params_sets[\"down_epimutations\"])\n",
    "plot_per_phenotypes(df[\"epimutations_sum\"].values[:29], path_pdf, 'Number of epimutations')"
   ]
  },
  {
   "cell_type": "markdown",
   "metadata": {},
   "source": [
    "# Age per epimutations"
   ]
  },
  {
   "cell_type": "code",
   "execution_count": 37,
   "metadata": {},
   "outputs": [],
   "source": []
  },
  {
   "cell_type": "code",
   "execution_count": 47,
   "metadata": {
    "scrolled": false
   },
   "outputs": [
    {
     "name": "stdout",
     "output_type": "stream",
     "text": [
      "(29,) (29,)\n",
      "[0.01427872]\n",
      "(29,) (29,)\n",
      "[-0.02116727]\n",
      "(29,) (29,)\n",
      "[0.01855536]\n"
     ]
    }
   ],
   "source": [
    "from sklearn.linear_model import LinearRegression, RidgeCV, Lasso, ElasticNet\n",
    "groups = [\"mongoloids_mask\", \"siblings_mask\", \"mothers_mask\"]\n",
    "group_masks = [0] * 3\n",
    "for j, group_name in enumerate(groups):\n",
    "    group_masks[j] = config.params[group_name].value\n",
    "\n",
    "def plot_per_feature(x, y, group_masks, label_x = '', label_y = '', title = ''):\n",
    "    colors = ['r', 'g', 'b']\n",
    "    plt.figure(figsize=(10, 8))\n",
    "    ax = plt.axes()\n",
    "    for j, mask in enumerate(group_masks):\n",
    "        cx = np.log(x[mask])\n",
    "        cy = y[mask]#.reshape(-1, 1)\n",
    "        print(cx.shape, cy.shape)\n",
    "        cy = cy[~np.isnan(cx)]\n",
    "        cx = cx[~np.isnan(cx)]\n",
    "        \n",
    "        cy = cy.reshape(-1, 1)\n",
    "        ax.scatter(cy, np.exp(cx), c = colors[j], alpha = 0.5, linewidth = 3)\n",
    "        model = LinearRegression().fit(cy, cx)\n",
    "        r_sq = model.score(cy, cx)\n",
    "        print(model.coef_)\n",
    "        ax.plot(cy, np.exp(model.predict(cy)), c = colors[j])\n",
    "        title += ' (' +  \"{:0.3f}\".format(r_sq) + ')'\n",
    "    \n",
    "    plt.yscale('log')\n",
    "    plt.xlabel(label_y, fontsize = fontsize)\n",
    "    plt.ylabel(label_x, fontsize = fontsize)\n",
    "    plt.title(title, fontsize = 1.2 * fontsize)\n",
    "    plt.legend([\"Down\", \"Siblings\", \"Mothers\"])\n",
    "    plt.subplots_adjust(bottom=0.2, top=0.9, left=0.2, right=0.95)\n",
    "    #plt.show()            \n",
    "\n",
    "df = pd.read_csv(config.ifname('epimutations'))\n",
    "patients_info = pd.read_csv(config.ifname(\"patients_info\"), delimiter='\\t')\n",
    "age = patients_info[\"age\"].values\n",
    "epimutations_sum = df[\"epimutations_sum\"].values\n",
    "path_epimutations_age = config.ofname([[\"down_epimutations\"], [\"epimutation\", \"age\"]], ext = \".pdf\", \n",
    "                                                 include_set = config.params_sets[\"down_epimutations\"])\n",
    "epimutations_sum = epimutations_sum.astype('float')\n",
    "#epimutations_sum[epimutations_sum > 5000] = np.NaN\n",
    "plot_per_feature(epimutations_sum, age, group_masks, 'Number of epimutations', 'Age')\n",
    "plt.savefig(path_epimutations_age)\n",
    "plt.close()"
   ]
  },
  {
   "cell_type": "code",
   "execution_count": null,
   "metadata": {},
   "outputs": [],
   "source": []
  }
 ],
 "metadata": {
  "kernelspec": {
   "display_name": "Python 3",
   "language": "python",
   "name": "python3"
  },
  "language_info": {
   "codemirror_mode": {
    "name": "ipython",
    "version": 3
   },
   "file_extension": ".py",
   "mimetype": "text/x-python",
   "name": "python",
   "nbconvert_exporter": "python",
   "pygments_lexer": "ipython3",
   "version": "3.7.3"
  }
 },
 "nbformat": 4,
 "nbformat_minor": 2
}
