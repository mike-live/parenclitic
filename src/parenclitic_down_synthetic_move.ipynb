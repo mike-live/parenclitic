{
 "cells": [
  {
   "cell_type": "code",
   "execution_count": 1,
   "metadata": {},
   "outputs": [],
   "source": [
    "%load_ext autoreload\n",
    "%autoreload 2\n",
    "\n",
    "import parenclitic\n",
    "import numpy as np\n",
    "import pandas as pd\n",
    "import matplotlib.pyplot as plt\n",
    "%matplotlib inline\n",
    "\n",
    "from IPython.core.display import display, SVG\n",
    "import igraph"
   ]
  },
  {
   "cell_type": "code",
   "execution_count": 2,
   "metadata": {},
   "outputs": [
    {
     "name": "stdout",
     "output_type": "stream",
     "text": [
      "D:\\PC\\UNN\\Science\\Gerontology\\data\\GSE52588\\GSE52588_average_beta.txt\n",
      "Data loaded:  1.2023637000000003\n",
      "float32 (14756, 87)\n",
      "(87, 14756) 14756\n"
     ]
    }
   ],
   "source": [
    "from configurations.load_data_down_GSE52588 import load_data_down_GSE52588\n",
    "from configurations.config_down_GSE52588 import config\n",
    "#from configurations.config_down_GSE52588_synthetic import config_s\n",
    "\n",
    "X, y, mask, all_features_names = load_data_down_GSE52588()"
   ]
  },
  {
   "cell_type": "code",
   "execution_count": 3,
   "metadata": {},
   "outputs": [],
   "source": [
    "group_names = [\"DS\", \"Siblings\", \"Mothers\"]\n",
    "groups = [\"mongoloids_mask\", \"siblings_mask\", \"mothers_mask\"]\n",
    "group_masks = [0] * 3\n",
    "for j, group_name in enumerate(groups):\n",
    "    group_masks[j] = config.params[group_name].value"
   ]
  },
  {
   "cell_type": "code",
   "execution_count": 4,
   "metadata": {},
   "outputs": [
    {
     "data": {
      "text/plain": [
       "'D:\\\\PC\\\\UNN\\\\Science\\\\Gerontology\\\\data\\\\GSE52588\\\\params\\\\num_genes_14756\\\\kde_mask_mongoloids_mask\\\\algorithm_pdf\\\\thr_type_best\\\\division_rule_non_control\\\\graphs\\\\graph_id_sample_0.tsv'"
      ]
     },
     "execution_count": 4,
     "metadata": {},
     "output_type": "execute_result"
    }
   ],
   "source": [
    "config.ofname([\"graphs\", \"g\"], ext = \".tsv\", include_set = config.params_sets[\"graph\"])"
   ]
  },
  {
   "cell_type": "code",
   "execution_count": 5,
   "metadata": {},
   "outputs": [
    {
     "name": "stdout",
     "output_type": "stream",
     "text": [
      "D:\\PC\\UNN\\Science\\Gerontology\\data\\GSE52588\\gene_subsets\\kde_siblings_union_ds_graph_vertices.tsv\n"
     ]
    },
    {
     "data": {
      "text/plain": [
       "(87, 200)"
      ]
     },
     "execution_count": 5,
     "metadata": {},
     "output_type": "execute_result"
    }
   ],
   "source": [
    "def load_subset():\n",
    "    path_gene_subset = config.ofname([\"gene_subsets\", \"kde_siblings_union_ds_graph_vertices\"], ext = \".tsv\", include_set = config.params_sets[\"gene_subsets\"])\n",
    "    print(path_gene_subset)\n",
    "    df = pd.read_csv(path_gene_subset, sep = '\\t', index_col = 0)\n",
    "    gene_subset = df[\"genes\"].values\n",
    "    _, gene_subset_ids, _ = np.intersect1d(all_features_names, gene_subset, return_indices = True)\n",
    "    return gene_subset_ids\n",
    "gene_subset_ids = load_subset()\n",
    "gene_subset_ids = gene_subset_ids[:200]\n",
    "Xs = X[:, gene_subset_ids]\n",
    "Xs.shape"
   ]
  },
  {
   "cell_type": "code",
   "execution_count": 6,
   "metadata": {},
   "outputs": [
    {
     "name": "stdout",
     "output_type": "stream",
     "text": [
      "D:\\PC\\UNN\\Science\\Gerontology\\data\\GSE52588\\gene_subsets\\kde_siblings_ds_union_graph.tsv\n",
      "(3458, 2)\n",
      "(1380,)\n"
     ]
    },
    {
     "data": {
      "text/plain": [
       "(87, 1380)"
      ]
     },
     "execution_count": 6,
     "metadata": {},
     "output_type": "execute_result"
    }
   ],
   "source": [
    "def load_subset_edges():\n",
    "    gene_to_id = {}\n",
    "    for i, gene in enumerate(all_features_names):\n",
    "        gene_to_id[gene] = i\n",
    "    path_gene_subset = config.ofname([\"gene_subsets\", \"kde_siblings_ds_union_graph\"], ext = \".tsv\", include_set = config.params_sets[\"gene_subsets\"])\n",
    "    print(path_gene_subset)\n",
    "    df = pd.read_csv(path_gene_subset, sep = '\\t', index_col = 0)\n",
    "    gene_1 = df[\"gene_1\"].values\n",
    "    gene_2 = df[\"gene_2\"].values\n",
    "    gene_subset_ids_1 = []\n",
    "    for gene in gene_1:\n",
    "        gene_subset_ids_1.append(gene_to_id[gene])\n",
    "    gene_subset_ids_2 = []\n",
    "    for gene in gene_2:\n",
    "        gene_subset_ids_2.append(gene_to_id[gene])\n",
    "    gene_subset_ids_1 = np.array(gene_subset_ids_1)\n",
    "    gene_subset_ids_2 = np.array(gene_subset_ids_2)\n",
    "    gene_subset_ids = np.vstack((gene_subset_ids_1, gene_subset_ids_2)).T\n",
    "    return gene_subset_ids\n",
    "gene_subset_edges_ids = load_subset_edges()\n",
    "print(gene_subset_edges_ids.shape)\n",
    "\n",
    "gene_subset_ids = np.concatenate([gene_subset_edges_ids[:, 0], gene_subset_edges_ids[:, 1]])\n",
    "gene_subset_ids = np.unique(gene_subset_ids)\n",
    "print(gene_subset_ids.shape)\n",
    "\n",
    "to_new_ids = {}\n",
    "for i, x in enumerate(gene_subset_ids):\n",
    "    to_new_ids[x] = i\n",
    "\n",
    "for i in range(gene_subset_edges_ids.shape[0]):\n",
    "    gene_subset_edges_ids[i, 0] = to_new_ids[gene_subset_edges_ids[i, 0]]\n",
    "    gene_subset_edges_ids[i, 1] = to_new_ids[gene_subset_edges_ids[i, 1]]\n",
    "#gene_subset_ids = gene_subset_ids[:200]\n",
    "Xs = X[:, gene_subset_ids]\n",
    "Xs.shape"
   ]
  },
  {
   "cell_type": "markdown",
   "metadata": {},
   "source": [
    "# Subset gene pairs for parenclitic"
   ]
  },
  {
   "cell_type": "code",
   "execution_count": 7,
   "metadata": {},
   "outputs": [],
   "source": [
    "import parenclitic"
   ]
  },
  {
   "cell_type": "code",
   "execution_count": 157,
   "metadata": {},
   "outputs": [
    {
     "data": {
      "text/plain": [
       "<parenclitic.classes.graph_partition_subset at 0x19f9cff0940>"
      ]
     },
     "execution_count": 157,
     "metadata": {},
     "output_type": "execute_result"
    }
   ],
   "source": []
  },
  {
   "cell_type": "code",
   "execution_count": 7,
   "metadata": {
    "scrolled": true
   },
   "outputs": [
    {
     "name": "stderr",
     "output_type": "stream",
     "text": [
      "Number of edges: 3458:   0%|▏                                                   | 3458/951510 [00:08<37:33, 420.70it/s]\n"
     ]
    },
    {
     "name": "stdout",
     "output_type": "stream",
     "text": [
      "here\n"
     ]
    },
    {
     "name": "stderr",
     "output_type": "stream",
     "text": [
      "100%|████████████████████████████████████████████████████████████████████████████████| 899/899 [04:32<00:00,  3.30it/s]\n"
     ]
    },
    {
     "name": "stdout",
     "output_type": "stream",
     "text": [
      "here2\n",
      "0 0.0\n"
     ]
    },
    {
     "name": "stderr",
     "output_type": "stream",
     "text": [
      "Number of edges: 3458:   0%|▏                                                   | 3458/951510 [00:08<37:50, 417.56it/s]\n"
     ]
    },
    {
     "name": "stdout",
     "output_type": "stream",
     "text": [
      "here\n"
     ]
    },
    {
     "name": "stderr",
     "output_type": "stream",
     "text": [
      "100%|████████████████████████████████████████████████████████████████████████████████| 899/899 [04:31<00:00,  3.31it/s]\n"
     ]
    },
    {
     "name": "stdout",
     "output_type": "stream",
     "text": [
      "here2\n",
      "1 0.0\n"
     ]
    },
    {
     "name": "stderr",
     "output_type": "stream",
     "text": [
      "Number of edges: 3458:   0%|▏                                                   | 3458/951510 [00:08<37:32, 420.81it/s]\n"
     ]
    },
    {
     "name": "stdout",
     "output_type": "stream",
     "text": [
      "here\n"
     ]
    },
    {
     "name": "stderr",
     "output_type": "stream",
     "text": [
      "100%|████████████████████████████████████████████████████████████████████████████████| 899/899 [04:32<00:00,  3.30it/s]\n"
     ]
    },
    {
     "name": "stdout",
     "output_type": "stream",
     "text": [
      "here2\n",
      "2 0.0\n"
     ]
    },
    {
     "name": "stderr",
     "output_type": "stream",
     "text": [
      "Number of edges: 3458:   0%|▏                                                   | 3458/951510 [00:08<38:24, 411.42it/s]\n"
     ]
    },
    {
     "name": "stdout",
     "output_type": "stream",
     "text": [
      "here\n"
     ]
    },
    {
     "name": "stderr",
     "output_type": "stream",
     "text": [
      "100%|████████████████████████████████████████████████████████████████████████████████| 899/899 [04:33<00:00,  3.29it/s]\n"
     ]
    },
    {
     "name": "stdout",
     "output_type": "stream",
     "text": [
      "here2\n",
      "3 0.0\n"
     ]
    },
    {
     "name": "stderr",
     "output_type": "stream",
     "text": [
      "Number of edges: 3458:   0%|▏                                                   | 3458/951510 [00:08<37:43, 418.89it/s]\n"
     ]
    },
    {
     "name": "stdout",
     "output_type": "stream",
     "text": [
      "here\n"
     ]
    },
    {
     "name": "stderr",
     "output_type": "stream",
     "text": [
      "100%|████████████████████████████████████████████████████████████████████████████████| 899/899 [04:33<00:00,  3.29it/s]\n"
     ]
    },
    {
     "name": "stdout",
     "output_type": "stream",
     "text": [
      "here2\n",
      "4 0.0\n"
     ]
    },
    {
     "name": "stderr",
     "output_type": "stream",
     "text": [
      "Number of edges: 3458:   0%|▏                                                   | 3458/951510 [00:09<41:20, 382.23it/s]\n"
     ]
    },
    {
     "name": "stdout",
     "output_type": "stream",
     "text": [
      "here\n"
     ]
    },
    {
     "name": "stderr",
     "output_type": "stream",
     "text": [
      "100%|████████████████████████████████████████████████████████████████████████████████| 899/899 [04:38<00:00,  3.23it/s]\n"
     ]
    },
    {
     "name": "stdout",
     "output_type": "stream",
     "text": [
      "here2\n",
      "5 0.0\n"
     ]
    },
    {
     "name": "stderr",
     "output_type": "stream",
     "text": [
      "Number of edges: 3458:   0%|▏                                                   | 3458/951510 [00:08<38:38, 408.95it/s]\n"
     ]
    },
    {
     "name": "stdout",
     "output_type": "stream",
     "text": [
      "here\n"
     ]
    },
    {
     "name": "stderr",
     "output_type": "stream",
     "text": [
      "100%|████████████████████████████████████████████████████████████████████████████████| 899/899 [04:16<00:00,  3.50it/s]\n"
     ]
    },
    {
     "name": "stdout",
     "output_type": "stream",
     "text": [
      "here2\n",
      "6 0.1\n"
     ]
    },
    {
     "name": "stderr",
     "output_type": "stream",
     "text": [
      "Number of edges: 3458:   0%|▏                                                   | 3458/951510 [00:08<38:31, 410.16it/s]\n"
     ]
    },
    {
     "name": "stdout",
     "output_type": "stream",
     "text": [
      "here\n"
     ]
    },
    {
     "name": "stderr",
     "output_type": "stream",
     "text": [
      "100%|████████████████████████████████████████████████████████████████████████████████| 899/899 [04:45<00:00,  3.15it/s]\n"
     ]
    },
    {
     "name": "stdout",
     "output_type": "stream",
     "text": [
      "here2\n",
      "7 0.2\n"
     ]
    },
    {
     "name": "stderr",
     "output_type": "stream",
     "text": [
      "Number of edges: 3458:   0%|▏                                                   | 3458/951510 [00:08<38:16, 412.84it/s]\n"
     ]
    },
    {
     "name": "stdout",
     "output_type": "stream",
     "text": [
      "here\n"
     ]
    },
    {
     "name": "stderr",
     "output_type": "stream",
     "text": [
      "100%|████████████████████████████████████████████████████████████████████████████████| 899/899 [05:57<00:00,  2.51it/s]\n"
     ]
    },
    {
     "name": "stdout",
     "output_type": "stream",
     "text": [
      "here2\n",
      "8 0.30000000000000004\n"
     ]
    },
    {
     "name": "stderr",
     "output_type": "stream",
     "text": [
      "Number of edges: 3458:   0%|▏                                                   | 3458/951510 [00:08<38:09, 414.16it/s]\n"
     ]
    },
    {
     "name": "stdout",
     "output_type": "stream",
     "text": [
      "here\n"
     ]
    },
    {
     "name": "stderr",
     "output_type": "stream",
     "text": [
      "100%|████████████████████████████████████████████████████████████████████████████████| 899/899 [07:57<00:00,  1.88it/s]\n"
     ]
    },
    {
     "name": "stdout",
     "output_type": "stream",
     "text": [
      "here2\n",
      "9 0.4\n"
     ]
    },
    {
     "name": "stderr",
     "output_type": "stream",
     "text": [
      "Number of edges: 3458:   0%|▏                                                   | 3458/951510 [00:08<38:20, 412.10it/s]\n"
     ]
    },
    {
     "name": "stdout",
     "output_type": "stream",
     "text": [
      "here\n"
     ]
    },
    {
     "name": "stderr",
     "output_type": "stream",
     "text": [
      "100%|████████████████████████████████████████████████████████████████████████████████| 899/899 [10:47<00:00,  1.39it/s]\n"
     ]
    },
    {
     "name": "stdout",
     "output_type": "stream",
     "text": [
      "here2\n",
      "10 0.5\n"
     ]
    },
    {
     "name": "stderr",
     "output_type": "stream",
     "text": [
      "Number of edges: 3458:   0%|▏                                                   | 3458/951510 [00:08<37:59, 415.85it/s]\n"
     ]
    },
    {
     "name": "stdout",
     "output_type": "stream",
     "text": [
      "here\n"
     ]
    },
    {
     "name": "stderr",
     "output_type": "stream",
     "text": [
      "100%|████████████████████████████████████████████████████████████████████████████████| 899/899 [14:15<00:00,  1.05it/s]\n"
     ]
    },
    {
     "name": "stdout",
     "output_type": "stream",
     "text": [
      "here2\n",
      "11 0.6000000000000001\n"
     ]
    },
    {
     "name": "stderr",
     "output_type": "stream",
     "text": [
      "Number of edges: 3458:   0%|▏                                                   | 3458/951510 [00:08<38:53, 406.31it/s]\n"
     ]
    },
    {
     "name": "stdout",
     "output_type": "stream",
     "text": [
      "here\n"
     ]
    },
    {
     "name": "stderr",
     "output_type": "stream",
     "text": [
      "100%|████████████████████████████████████████████████████████████████████████████████| 899/899 [17:48<00:00,  1.19s/it]\n"
     ]
    },
    {
     "name": "stdout",
     "output_type": "stream",
     "text": [
      "here2\n",
      "12 0.7000000000000001\n"
     ]
    },
    {
     "name": "stderr",
     "output_type": "stream",
     "text": [
      "Number of edges: 3458:   0%|▏                                                   | 3458/951510 [00:08<38:00, 415.79it/s]\n"
     ]
    },
    {
     "name": "stdout",
     "output_type": "stream",
     "text": [
      "here\n"
     ]
    },
    {
     "name": "stderr",
     "output_type": "stream",
     "text": [
      "100%|████████████████████████████████████████████████████████████████████████████████| 899/899 [21:19<00:00,  1.42s/it]\n"
     ]
    },
    {
     "name": "stdout",
     "output_type": "stream",
     "text": [
      "here2\n",
      "13 0.8\n"
     ]
    },
    {
     "name": "stderr",
     "output_type": "stream",
     "text": [
      "Number of edges: 3458:   0%|▏                                                   | 3458/951510 [00:08<37:57, 416.20it/s]\n"
     ]
    },
    {
     "name": "stdout",
     "output_type": "stream",
     "text": [
      "here\n"
     ]
    },
    {
     "name": "stderr",
     "output_type": "stream",
     "text": [
      "100%|████████████████████████████████████████████████████████████████████████████████| 899/899 [24:17<00:00,  1.62s/it]\n"
     ]
    },
    {
     "name": "stdout",
     "output_type": "stream",
     "text": [
      "here2\n",
      "14 0.9\n"
     ]
    },
    {
     "name": "stderr",
     "output_type": "stream",
     "text": [
      "Number of edges: 3458:   0%|▏                                                   | 3458/951510 [00:08<38:10, 413.96it/s]\n"
     ]
    },
    {
     "name": "stdout",
     "output_type": "stream",
     "text": [
      "here\n"
     ]
    },
    {
     "name": "stderr",
     "output_type": "stream",
     "text": [
      "100%|████████████████████████████████████████████████████████████████████████████████| 899/899 [26:46<00:00,  1.79s/it]\n"
     ]
    },
    {
     "name": "stdout",
     "output_type": "stream",
     "text": [
      "here2\n",
      "15 1.0\n",
      "10102.085780143738\n"
     ]
    }
   ],
   "source": [
    "import multiprocessing as mp\n",
    "import multiprocessing, logging\n",
    "#mpl = multiprocessing.log_to_stderr()\n",
    "#mpl.setLevel(logging.DEBUG)\n",
    "\n",
    "def make_model(config):\n",
    "    min_score = config.params[\"min_score\"].value\n",
    "    thr_type = config.params[\"thr_type\"].value\n",
    "    division_rule = config.params[\"division_rule\"].value\n",
    "    kernel = parenclitic.pdf_kernel(thr_type = thr_type, min_score = min_score, division_rule = division_rule)\n",
    "    pair_filter = parenclitic.IG_filter()\n",
    "    #partition = parenclitic.graph_partition_subset(id_part = 0, num_parts = 1)\n",
    "    #partition.fit(gene_subset_edges_ids)\n",
    "    clf = parenclitic.parenclitic(kernel = kernel, pair_filter = pair_filter, verbose = 0, partition = parenclitic.graph_partition_subset())\n",
    "    #clf = parenclitic.parenclitic(kernel = parenclitic.classifier_kernel(min_score = min_score, by_group = by_group)) # partition = parenclitic.graph_partition_subset()\n",
    "    #clf = parenclitic.parenclitic(kernel = parenclitic.pdf_kernel(thr_p = 0.88))#, partition = parenclitic.graph_partition_subset())\n",
    "    return clf\n",
    "\n",
    "def compute_model(clf, X, y, mask, gene_subset_edges_ids):\n",
    "    clf.fit(X, y, mask, num_workers = 6, subset = gene_subset_edges_ids)\n",
    "    clf.calc_parenclitic(need_weights = False, get_big = False)\n",
    "    parenclitic = clf.get_parenclitic()\n",
    "    return parenclitic\n",
    "    \n",
    "def get_synthetic_data(config, X, alpha, relative_noise = 0.01):\n",
    "    from make_synthetic_move_data import make_synthetic_move_data\n",
    "    start_group = config.params[\"siblings_mask\"].value\n",
    "    finish_group = config.params[\"mongoloids_mask\"].value\n",
    "    return make_synthetic_move_data(config, X, start_group, finish_group, alpha = alpha, relative_noise = relative_noise)\n",
    "    \n",
    "def move_to_disease(config, X, gene_subset_edges_ids, num_ticks = 10, num_zeros = 5, is_slope = False):\n",
    "    alphas = np.concatenate([np.zeros(num_zeros), np.linspace(0, 1, num_ticks + 1)])\n",
    "    parenclitics = []\n",
    "    X_synt_0, _, _ = get_synthetic_data(config, X, alpha = 0)\n",
    "    for t, alpha in enumerate(alphas):\n",
    "        X_synt, y_synt, mask_synt = get_synthetic_data(config, X, alpha)\n",
    "        if is_slope:\n",
    "            (X_synt - X_synt_0) / alphas\n",
    "        \n",
    "        clf = make_model(config)\n",
    "        parenclitic = compute_model(clf, X_synt, y_synt, mask_synt, gene_subset_edges_ids)\n",
    "        parenclitics.append(parenclitic)\n",
    "        print(t, alpha)\n",
    "    return parenclitics\n",
    "    \n",
    "if __name__ == \"__main__\":\n",
    "    import time\n",
    "    #num_samples = X.shape[0]\n",
    "    #num_features = X.shape[1]\n",
    "    \n",
    "    be = time.time()\n",
    "    parenclitics = move_to_disease(config, Xs, gene_subset_edges_ids, num_ticks = 10, num_zeros = 5)\n",
    "    en = time.time()\n",
    "    print(en - be)\n",
    "    "
   ]
  },
  {
   "cell_type": "code",
   "execution_count": 162,
   "metadata": {},
   "outputs": [
    {
     "data": {
      "text/plain": [
       "(3458, 2)"
      ]
     },
     "execution_count": 162,
     "metadata": {},
     "output_type": "execute_result"
    }
   ],
   "source": [
    "gene_subset_edges_ids.shape"
   ]
  },
  {
   "cell_type": "code",
   "execution_count": 73,
   "metadata": {},
   "outputs": [],
   "source": [
    "X_synt, y_synt, mask_synt = get_synthetic_data(config, Xs, alpha = 0.5)"
   ]
  },
  {
   "cell_type": "code",
   "execution_count": 10,
   "metadata": {},
   "outputs": [
    {
     "name": "stdout",
     "output_type": "stream",
     "text": [
      "445.6218787158145 224.09801171685527\n",
      "439.2330558858502 221.3644165175924\n",
      "441.28656361474435 222.2650075403124\n",
      "441.8810939357907 226.8172802237033\n",
      "443.0618311533888 220.42093765334792\n",
      "440.74673008323424 227.13786311989625\n",
      "394.1521997621879 199.35943351590893\n",
      "480.80737217598096 217.1630258105247\n",
      "658.0439952437574 254.3651802299361\n",
      "912.2889417360285 286.5630081747667\n",
      "1243.373365041617 314.55714252524405\n",
      "1623.8109393579073 321.0926480500863\n",
      "2007.3388822829963 306.8451960489952\n",
      "2356.1712247324613 280.18780720288083\n",
      "2647.4791914387633 239.24389389899815\n",
      "2867.6979785969083 211.23555691978092\n"
     ]
    }
   ],
   "source": [
    "for i in range(len(parenclitics)):\n",
    "    #print(parenclitics[i].loc[:, \"num_edges\"])\n",
    "    cur = parenclitics[i].loc[29 * 2:, \"num_edges\"]\n",
    "    print(np.mean(cur), np.std(cur))"
   ]
  },
  {
   "cell_type": "code",
   "execution_count": 128,
   "metadata": {},
   "outputs": [
    {
     "data": {
      "text/plain": [
       "(87, 200)"
      ]
     },
     "execution_count": 128,
     "metadata": {},
     "output_type": "execute_result"
    }
   ],
   "source": [
    "Xs.shape"
   ]
  },
  {
   "cell_type": "code",
   "execution_count": 119,
   "metadata": {},
   "outputs": [],
   "source": [
    "X_synt, y_synt, mask_synt = get_synthetic_data(config, Xs, alpha = 1)"
   ]
  },
  {
   "cell_type": "code",
   "execution_count": 120,
   "metadata": {},
   "outputs": [
    {
     "data": {
      "text/plain": [
       "<matplotlib.collections.PathCollection at 0x19f9e880748>"
      ]
     },
     "execution_count": 120,
     "metadata": {},
     "output_type": "execute_result"
    },
    {
     "data": {
      "image/png": "[encoded data removed]",
      "text/plain": [
       "<Figure size 432x288 with 1 Axes>"
      ]
     },
     "metadata": {
      "needs_background": "light"
     },
     "output_type": "display_data"
    }
   ],
   "source": [
    "\n",
    "plt.scatter(X_synt[:, 6], X_synt[:, 45], c = 2 - y_synt[:], alpha = 0.5)"
   ]
  },
  {
   "cell_type": "code",
   "execution_count": 102,
   "metadata": {},
   "outputs": [
    {
     "data": {
      "text/plain": [
       "(5799, 10668)"
      ]
     },
     "execution_count": 102,
     "metadata": {},
     "output_type": "execute_result"
    }
   ],
   "source": [
    "\t\n",
    "\n",
    "np.flatnonzero(all_features_names == \"ACN9\")[0], np.flatnonzero(all_features_names == \"ALPK3\")[0]"
   ]
  },
  {
   "cell_type": "code",
   "execution_count": 103,
   "metadata": {},
   "outputs": [
    {
     "data": {
      "text/plain": [
       "(6, 45)"
      ]
     },
     "execution_count": 103,
     "metadata": {},
     "output_type": "execute_result"
    }
   ],
   "source": [
    "np.flatnonzero(gene_subset_ids == 5799)[0], np.flatnonzero(gene_subset_ids == 10668)[0]"
   ]
  }
 ],
 "metadata": {
  "kernelspec": {
   "display_name": "Python 3",
   "language": "python",
   "name": "python3"
  },
  "language_info": {
   "codemirror_mode": {
    "name": "ipython",
    "version": 3
   },
   "file_extension": ".py",
   "mimetype": "text/x-python",
   "name": "python",
   "nbconvert_exporter": "python",
   "pygments_lexer": "ipython3",
   "version": "3.7.1"
  }
 },
 "nbformat": 4,
 "nbformat_minor": 2
}
