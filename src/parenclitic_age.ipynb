{
 "cells": [
  {
   "cell_type": "code",
   "execution_count": 1,
   "metadata": {},
   "outputs": [],
   "source": [
    "%load_ext autoreload\n",
    "%autoreload 2\n",
    "\n",
    "import parenclitic\n",
    "import numpy as np\n",
    "import matplotlib.pyplot as plt\n",
    "%matplotlib inline\n",
    "\n",
    "from IPython.core.display import display, SVG\n",
    "import igraph"
   ]
  },
  {
   "cell_type": "code",
   "execution_count": 2,
   "metadata": {},
   "outputs": [
    {
     "name": "stdout",
     "output_type": "stream",
     "text": [
      "D:\\PC\\UNN\\Science\\Gerontology\\data\\E-MTAB-7309\\genes_norm(quantile)_source(betas).npz\n",
      "['data']\n",
      "Data loaded:  0.3506102\n",
      "float32 (14743, 1059)\n",
      "(1059, 14743) 14743\n"
     ]
    }
   ],
   "source": [
    "from configurations.load_data_twins_E_MTAB_7309 import load_data_twins_E_MTAB_7309\n",
    "from configurations.config_twins_E_MTAB_7309 import config\n",
    "\n",
    "X, y, mask, all_features_names, age = load_data_twins_E_MTAB_7309()"
   ]
  },
  {
   "cell_type": "code",
   "execution_count": 3,
   "metadata": {},
   "outputs": [
    {
     "name": "stdout",
     "output_type": "stream",
     "text": [
      "Data loaded:  0.22145279999999978\n",
      "float32 (729, 14768)\n",
      "(729, 14768) 14768\n"
     ]
    }
   ],
   "source": [
    "from configurations.load_data_age_GSE87571 import load_data_age_GSE87571\n",
    "from configurations.config_age_GSE87571 import config\n",
    "\n",
    "X, y, mask, all_features_names, age = load_data_age_GSE87571()"
   ]
  },
  {
   "cell_type": "code",
   "execution_count": 70,
   "metadata": {},
   "outputs": [
    {
     "data": {
      "text/plain": [
       "554"
      ]
     },
     "execution_count": 70,
     "metadata": {},
     "output_type": "execute_result"
    }
   ],
   "source": [
    "sum(y > 0)"
   ]
  },
  {
   "cell_type": "code",
   "execution_count": 33,
   "metadata": {},
   "outputs": [
    {
     "name": "stdout",
     "output_type": "stream",
     "text": [
      "Data loaded:  37.04651380000087\n",
      "float32 (422801, 87)\n",
      "(87, 422801)\n",
      "(87, 422801) 150254 (87,) (422801,)\n"
     ]
    }
   ],
   "source": [
    "from configurations.load_data_down_GSE52588 import load_data_down_GSE52588_cpgs\n",
    "from configurations.config_down_GSE52588_cpg import config\n",
    "\n",
    "X, y, mask, all_cpg_names = load_data_down_GSE52588_cpgs()"
   ]
  },
  {
   "cell_type": "code",
   "execution_count": 45,
   "metadata": {},
   "outputs": [
    {
     "data": {
      "text/plain": [
       "(485512, 729)"
      ]
     },
     "execution_count": 45,
     "metadata": {},
     "output_type": "execute_result"
    }
   ],
   "source": [
    "from configurations.config_age_GSE87571 import config\n",
    "data = np.load(config.ifname('x'))\n",
    "X = data['data']\n",
    "X.shape"
   ]
  },
  {
   "cell_type": "code",
   "execution_count": 4,
   "metadata": {},
   "outputs": [
    {
     "name": "stdout",
     "output_type": "stream",
     "text": [
      "85366711\n",
      "13067\n"
     ]
    }
   ],
   "source": [
    "pair_filter = parenclitic.IG_filter()\n",
    "pair_filter.fit(X, mask, 0)\n",
    "print(len(pair_filter))\n",
    "print(pair_filter.num_good)"
   ]
  },
  {
   "cell_type": "code",
   "execution_count": null,
   "metadata": {},
   "outputs": [],
   "source": []
  },
  {
   "cell_type": "markdown",
   "metadata": {},
   "source": [
    "# Mean by genes"
   ]
  },
  {
   "cell_type": "code",
   "execution_count": 46,
   "metadata": {},
   "outputs": [],
   "source": [
    "from annotations.cpgs import cpgs_annotation\n",
    "cpgs = cpgs_annotation(config.ifname('cpgs_annotations'))"
   ]
  },
  {
   "cell_type": "code",
   "execution_count": 47,
   "metadata": {},
   "outputs": [],
   "source": [
    "bad_cpgs = np.loadtxt(config.ifname('bad_cpgs'), dtype='str')"
   ]
  },
  {
   "cell_type": "code",
   "execution_count": 51,
   "metadata": {},
   "outputs": [],
   "source": [
    "def mean_cpgs_by_genes(X, betas_dict, gene_to_cpgs):\n",
    "    X_g = np.zeros((len(gene_to_cpgs), X.shape[1]), dtype = np.float32)\n",
    "    gene_names = list(gene_to_cpgs.keys())\n",
    "    k = 0\n",
    "    for gene, cpg_names in gene_to_cpgs.items():\n",
    "        ids = []\n",
    "        for cpg_name in cpg_names:\n",
    "            ids.append(betas_dict[cpg_name])\n",
    "        cur = X[ids, :]\n",
    "        cur = cur[~np.isnan(cur).any(axis=1), :]\n",
    "        res = cur.mean(axis = 0)\n",
    "        X_g[k, :] = res\n",
    "        k += 1\n",
    "    \n",
    "    return X_g, gene_names"
   ]
  },
  {
   "cell_type": "code",
   "execution_count": 52,
   "metadata": {},
   "outputs": [],
   "source": [
    "from annotations.cpgs import cpgs_annotation\n",
    "cpgs = cpgs_annotation(config.ifname('cpgs_annotations'))\n",
    "bad_cpgs = np.loadtxt(config.ifname('bad_cpgs'), dtype='str')\n",
    "gene_to_cpgs = cpgs.aggregate(\"gene\", \"cpgs\", \n",
    "                                {'gene_out': [np.NaN], \n",
    "                                 'cpgs_in': all_cpg_names, \n",
    "                                 'geotype_in': ['Island', 'S_Shore', 'N_Shore'],\n",
    "                                 'chr_out': ['X','Y'],\n",
    "                                 'cpgs_out': bad_cpgs})\n",
    "\n",
    "import pickle\n",
    "betas_dict = pickle.load(open(config.ifname('betas_dict'), 'rb'))\n",
    "all_cpg_names = list(betas_dict.keys())\n",
    "\n",
    "X_g, gene_names = mean_cpgs_by_genes(X, betas_dict, gene_to_cpgs)\n"
   ]
  },
  {
   "cell_type": "code",
   "execution_count": 54,
   "metadata": {},
   "outputs": [],
   "source": [
    "np.savez_compressed(config.ifname('beta_gene_mean'), X = X_g, gene_names = gene_names)"
   ]
  },
  {
   "cell_type": "code",
   "execution_count": 56,
   "metadata": {},
   "outputs": [
    {
     "data": {
      "text/plain": [
       "(14768, 729)"
      ]
     },
     "execution_count": 56,
     "metadata": {},
     "output_type": "execute_result"
    }
   ],
   "source": [
    "X_g.shape"
   ]
  },
  {
   "cell_type": "code",
   "execution_count": 53,
   "metadata": {},
   "outputs": [
    {
     "data": {
      "text/plain": [
       "'D:\\\\PC\\\\UNN\\\\Science\\\\Gerontology\\\\data\\\\GSE87571\\\\GSE87571_beta_gene_mean.npz'"
      ]
     },
     "execution_count": 53,
     "metadata": {},
     "output_type": "execute_result"
    }
   ],
   "source": [
    "config.ifname('beta_gene_mean')"
   ]
  },
  {
   "cell_type": "code",
   "execution_count": null,
   "metadata": {},
   "outputs": [],
   "source": []
  },
  {
   "cell_type": "code",
   "execution_count": null,
   "metadata": {},
   "outputs": [],
   "source": []
  },
  {
   "cell_type": "code",
   "execution_count": 18,
   "metadata": {},
   "outputs": [
    {
     "data": {
      "text/plain": [
       "20476"
      ]
     },
     "execution_count": 18,
     "metadata": {},
     "output_type": "execute_result"
    }
   ],
   "source": [
    "len(gene_to_cpgs.keys())"
   ]
  },
  {
   "cell_type": "code",
   "execution_count": 19,
   "metadata": {},
   "outputs": [
    {
     "data": {
      "text/plain": [
       "['RBL2',\n",
       " 'C3orf35',\n",
       " 'FNDC3B',\n",
       " 'VDAC3',\n",
       " 'ACTN1',\n",
       " 'ATP2A1',\n",
       " 'SFRP1',\n",
       " 'NIPA2',\n",
       " 'MAN1B1',\n",
       " 'TSEN34']"
      ]
     },
     "execution_count": 19,
     "metadata": {},
     "output_type": "execute_result"
    }
   ],
   "source": [
    "list(gene_to_cpgs.keys())[:10]"
   ]
  },
  {
   "cell_type": "code",
   "execution_count": 3,
   "metadata": {},
   "outputs": [
    {
     "data": {
      "text/plain": [
       "'Z:\\\\PC\\\\UNN\\\\Science\\\\Gerontology\\\\data\\\\E-MTAB-7309\\\\params\\\\num_genes_14743\\\\kde_mask_less_65_mask\\\\algorithm_kde\\\\thr_p_0.99\\\\graphs\\\\graph_id_sample_0.tsv'"
      ]
     },
     "execution_count": 3,
     "metadata": {},
     "output_type": "execute_result"
    }
   ],
   "source": [
    "config.ofname([\"graphs\", \"g\"], ext = \".tsv\", include_set = config.params_sets[\"graph\"])"
   ]
  },
  {
   "cell_type": "markdown",
   "metadata": {},
   "source": [
    "# Subset gene pairs for parenclitic"
   ]
  },
  {
   "cell_type": "code",
   "execution_count": 4,
   "metadata": {},
   "outputs": [
    {
     "name": "stderr",
     "output_type": "stream",
     "text": [
      "\r",
      "  0%|                                                                                    | 0/108670653 [00:00<?, ?it/s]"
     ]
    },
    {
     "name": "stdout",
     "output_type": "stream",
     "text": [
      "0 0.7400671922584212 2.2026205911695125e-109 5760.404396063682\n"
     ]
    },
    {
     "name": "stderr",
     "output_type": "stream",
     "text": [
      "Number of edges: 1:   0%|                                                 | 1/108670653 [00:06<183350:56:16,  6.07s/it]"
     ]
    },
    {
     "name": "stdout",
     "output_type": "stream",
     "text": [
      "0 0.06149894465187696 1.400576401857678e-183 3302.107691024711\n"
     ]
    },
    {
     "name": "stderr",
     "output_type": "stream",
     "text": [
      "\r",
      "Number of edges: 2:   0%|                                                 | 1/108670653 [00:06<183350:56:16,  6.07s/it]"
     ]
    },
    {
     "name": "stdout",
     "output_type": "stream",
     "text": [
      "0 0.7700667116049925 0.0 12584.793223296061\n"
     ]
    },
    {
     "name": "stderr",
     "output_type": "stream",
     "text": [
      "\r",
      "Number of edges: 3:   0%|                                                 | 2/108670653 [00:06<183350:56:10,  6.07s/it]"
     ]
    },
    {
     "name": "stdout",
     "output_type": "stream",
     "text": [
      "0 0.03229238876662176 1.5676614176910436e-161 5605.155032957167\n"
     ]
    },
    {
     "name": "stderr",
     "output_type": "stream",
     "text": [
      "Number of edges: 4:   0%|                                                 | 4/108670653 [00:06<128901:06:21,  4.27s/it]"
     ]
    },
    {
     "name": "stdout",
     "output_type": "stream",
     "text": [
      "0 0.4955630505560901 5.659520400351242e-306 6663.758286841238\n"
     ]
    },
    {
     "name": "stderr",
     "output_type": "stream",
     "text": [
      "\r",
      "Number of edges: 5:   0%|                                                 | 4/108670653 [00:06<128901:06:21,  4.27s/it]"
     ]
    },
    {
     "name": "stdout",
     "output_type": "stream",
     "text": [
      "0 0.059702797002429996 0.0 13028.812620173436\n"
     ]
    },
    {
     "name": "stderr",
     "output_type": "stream",
     "text": [
      "\r",
      "Number of edges: 6:   0%|                                                 | 5/108670653 [00:06<128901:06:17,  4.27s/it]"
     ]
    },
    {
     "name": "stdout",
     "output_type": "stream",
     "text": [
      "0 2.1211345456072177 0.0 19864.14293965245\n"
     ]
    },
    {
     "name": "stderr",
     "output_type": "stream",
     "text": [
      "\r",
      "Number of edges: 7:   0%|                                                 | 6/108670653 [00:06<128901:06:13,  4.27s/it]"
     ]
    },
    {
     "name": "stdout",
     "output_type": "stream",
     "text": [
      "0 13.796327563382553 0.0 117618.90403478975\n"
     ]
    },
    {
     "name": "stderr",
     "output_type": "stream",
     "text": [
      "\r",
      "Number of edges: 8:   0%|                                                 | 7/108670653 [00:06<128901:06:09,  4.27s/it]"
     ]
    },
    {
     "name": "stdout",
     "output_type": "stream",
     "text": [
      "0 0.9148298259905837 0.0 90336.96082031682\n"
     ]
    },
    {
     "name": "stderr",
     "output_type": "stream",
     "text": [
      "\r",
      "Number of edges: 9:   0%|                                                 | 8/108670653 [00:06<128901:06:04,  4.27s/it]"
     ]
    },
    {
     "name": "stdout",
     "output_type": "stream",
     "text": [
      "0 0.22312171209624823 3.9022259461297804e-53 2858.268012028838\n"
     ]
    },
    {
     "name": "stderr",
     "output_type": "stream",
     "text": [
      "Number of edges: 10:   0%|                                                | 10/108670653 [00:06<90555:37:48,  3.00s/it]"
     ]
    },
    {
     "name": "stdout",
     "output_type": "stream",
     "text": [
      "0 0.3108274718189294 2.176331989546968e-165 1824.2414702618044\n"
     ]
    },
    {
     "name": "stderr",
     "output_type": "stream",
     "text": [
      "\r",
      "Number of edges: 11:   0%|                                                | 10/108670653 [00:06<90555:37:48,  3.00s/it]"
     ]
    },
    {
     "name": "stdout",
     "output_type": "stream",
     "text": [
      "0 0.12656266483042897 1.9947094751947045e-139 1334.468848011741\n"
     ]
    },
    {
     "name": "stderr",
     "output_type": "stream",
     "text": [
      "\r",
      "Number of edges: 12:   0%|                                                | 11/108670653 [00:06<90555:37:45,  3.00s/it]"
     ]
    },
    {
     "name": "stdout",
     "output_type": "stream",
     "text": [
      "0 3.2930057698301223 0.0 22480.763626901626\n"
     ]
    },
    {
     "name": "stderr",
     "output_type": "stream",
     "text": [
      "\r",
      "Number of edges: 13:   0%|                                                | 12/108670653 [00:06<90555:37:42,  3.00s/it]"
     ]
    },
    {
     "name": "stdout",
     "output_type": "stream",
     "text": [
      "0 6.816177110347316 0.0 122713.09703990533\n"
     ]
    },
    {
     "name": "stderr",
     "output_type": "stream",
     "text": [
      "Number of edges: 14:   0%|                                                | 14/108670653 [00:06<63637:15:07,  2.11s/it]"
     ]
    },
    {
     "name": "stdout",
     "output_type": "stream",
     "text": [
      "0 0.04491648617112426 0.0 3136.427637742705\n"
     ]
    },
    {
     "name": "stderr",
     "output_type": "stream",
     "text": [
      "\r",
      "Number of edges: 15:   0%|                                                | 14/108670653 [00:06<63637:15:07,  2.11s/it]"
     ]
    },
    {
     "name": "stdout",
     "output_type": "stream",
     "text": [
      "0 0.10464315478444094 4.236938261862697e-31 5028.290229092436\n"
     ]
    },
    {
     "name": "stderr",
     "output_type": "stream",
     "text": [
      "Number of edges: 16:   0%|                                                | 16/108670653 [00:06<45009:50:12,  1.49s/it]"
     ]
    },
    {
     "name": "stdout",
     "output_type": "stream",
     "text": [
      "0 0.2155555836918586 3.586513508685796e-163 5647.419612820873\n"
     ]
    },
    {
     "name": "stderr",
     "output_type": "stream",
     "text": [
      "\r",
      "Number of edges: 17:   0%|                                                | 16/108670653 [00:06<45009:50:12,  1.49s/it]"
     ]
    },
    {
     "name": "stdout",
     "output_type": "stream",
     "text": [
      "0 2.3881256753511395 0.0 12704.550333456447\n"
     ]
    },
    {
     "name": "stderr",
     "output_type": "stream",
     "text": [
      "\r",
      "Number of edges: 18:   0%|                                                | 17/108670653 [00:06<45009:50:10,  1.49s/it]"
     ]
    },
    {
     "name": "stdout",
     "output_type": "stream",
     "text": [
      "0 0.22012926709550404 0.0 11677.750535497855\n"
     ]
    },
    {
     "name": "stderr",
     "output_type": "stream",
     "text": [
      "Number of edges: 19:   0%|                                                | 19/108670653 [00:06<31852:08:37,  1.06s/it]"
     ]
    },
    {
     "name": "stdout",
     "output_type": "stream",
     "text": [
      "0 0.9783027852251756 0.0 5838.978737519504\n"
     ]
    },
    {
     "name": "stderr",
     "output_type": "stream",
     "text": [
      "\r",
      "Number of edges: 20:   0%|                                                | 19/108670653 [00:06<31852:08:37,  1.06s/it]"
     ]
    },
    {
     "name": "stdout",
     "output_type": "stream",
     "text": [
      "0 1.1988589808684906 0.0 15228.725881147233\n"
     ]
    },
    {
     "name": "stderr",
     "output_type": "stream",
     "text": [
      "\r",
      "Number of edges: 21:   0%|                                                | 20/108670653 [00:06<31852:08:36,  1.06s/it]"
     ]
    },
    {
     "name": "stdout",
     "output_type": "stream",
     "text": [
      "0 0.5727390611172444 1.856788202009032e-12 2338.692762107986\n"
     ]
    },
    {
     "name": "stderr",
     "output_type": "stream",
     "text": [
      "\r",
      "Number of edges: 22:   0%|                                                | 21/108670653 [00:06<31852:08:35,  1.06s/it]"
     ]
    },
    {
     "name": "stdout",
     "output_type": "stream",
     "text": [
      "0 0.18983178780675503 7.72879411667278e-129 2765.5146963819316\n"
     ]
    },
    {
     "name": "stderr",
     "output_type": "stream",
     "text": [
      "Number of edges: 23:   0%|                                                | 23/108670653 [00:06<22621:28:13,  1.33it/s]"
     ]
    },
    {
     "name": "stdout",
     "output_type": "stream",
     "text": [
      "0 0.0795954653284804 3.003772751185184e-228 9308.920117059644\n"
     ]
    },
    {
     "name": "stderr",
     "output_type": "stream",
     "text": [
      "\r",
      "Number of edges: 24:   0%|                                                | 23/108670653 [00:07<22621:28:13,  1.33it/s]"
     ]
    },
    {
     "name": "stdout",
     "output_type": "stream",
     "text": [
      "0 0.3319966212150098 3.7883529299408315e-179 3980.643915422978\n"
     ]
    },
    {
     "name": "stderr",
     "output_type": "stream",
     "text": [
      "\r",
      "Number of edges: 25:   0%|                                                | 24/108670653 [00:07<22621:28:13,  1.33it/s]"
     ]
    },
    {
     "name": "stdout",
     "output_type": "stream",
     "text": [
      "0 0.18170404391659536 0.0 4698.9724318788385\n"
     ]
    },
    {
     "name": "stderr",
     "output_type": "stream",
     "text": [
      "\r",
      "Number of edges: 26:   0%|                                                | 25/108670653 [00:07<22621:28:12,  1.33it/s]"
     ]
    },
    {
     "name": "stdout",
     "output_type": "stream",
     "text": [
      "0 0.6907883232641586 1.3335362880368907e-248 5728.7373724018935\n"
     ]
    },
    {
     "name": "stderr",
     "output_type": "stream",
     "text": [
      "Number of edges: 27:   0%|                                                | 27/108670653 [00:07<16272:47:51,  1.86it/s]"
     ]
    },
    {
     "name": "stdout",
     "output_type": "stream",
     "text": [
      "0 0.8419137772013441 0.0 74357.58972281328\n"
     ]
    },
    {
     "name": "stderr",
     "output_type": "stream",
     "text": [
      "\r",
      "Number of edges: 28:   0%|                                                | 27/108670653 [00:07<16272:47:51,  1.86it/s]"
     ]
    },
    {
     "name": "stdout",
     "output_type": "stream",
     "text": [
      "0 5.821655378229221 0.0 35163.31235958827\n"
     ]
    },
    {
     "name": "stderr",
     "output_type": "stream",
     "text": [
      "\r",
      "Number of edges: 29:   0%|                                                | 28/108670653 [00:07<16272:47:50,  1.86it/s]"
     ]
    },
    {
     "name": "stdout",
     "output_type": "stream",
     "text": [
      "0 0.036676949647271466 1.806281328212715e-235 2527.255983200788\n"
     ]
    },
    {
     "name": "stderr",
     "output_type": "stream",
     "text": [
      "Number of edges: 30:   0%|                                                | 30/108670653 [00:07<11731:08:47,  2.57it/s]"
     ]
    },
    {
     "name": "stdout",
     "output_type": "stream",
     "text": [
      "0 1.8410985346764348 0.0 33166.28911105534\n"
     ]
    },
    {
     "name": "stderr",
     "output_type": "stream",
     "text": [
      "\r",
      "Number of edges: 31:   0%|                                                | 30/108670653 [00:07<11731:08:47,  2.57it/s]"
     ]
    },
    {
     "name": "stdout",
     "output_type": "stream",
     "text": [
      "0 2.3178886132187846 0.0 15227.494965191392\n"
     ]
    },
    {
     "name": "stderr",
     "output_type": "stream",
     "text": [
      "\r",
      "Number of edges: 32:   0%|                                                | 31/108670653 [00:07<11731:08:47,  2.57it/s]"
     ]
    },
    {
     "name": "stdout",
     "output_type": "stream",
     "text": [
      "0 0.2020037432848767 0.0 1268.697882358863\n"
     ]
    },
    {
     "name": "stderr",
     "output_type": "stream",
     "text": [
      "Number of edges: 33:   0%|                                                 | 33/108670653 [00:07<8649:32:01,  3.49it/s]"
     ]
    },
    {
     "name": "stdout",
     "output_type": "stream",
     "text": [
      "0 0.1312250519682713 0.0 6085.146474117733\n"
     ]
    },
    {
     "name": "stderr",
     "output_type": "stream",
     "text": [
      "\r",
      "Number of edges: 34:   0%|                                                 | 33/108670653 [00:07<8649:32:01,  3.49it/s]"
     ]
    },
    {
     "name": "stdout",
     "output_type": "stream",
     "text": [
      "0 0.10633817509625904 0.0 17032.950719396867\n"
     ]
    },
    {
     "name": "stderr",
     "output_type": "stream",
     "text": [
      "\r",
      "Number of edges: 35:   0%|                                                 | 34/108670653 [00:07<8649:32:00,  3.49it/s]"
     ]
    },
    {
     "name": "stdout",
     "output_type": "stream",
     "text": [
      "0 0.1405928523707675 1.0888799997374729e-107 1927.707822036854\n"
     ]
    },
    {
     "name": "stderr",
     "output_type": "stream",
     "text": [
      "\r",
      "Number of edges: 36:   0%|                                                 | 35/108670653 [00:07<8649:32:00,  3.49it/s]"
     ]
    },
    {
     "name": "stdout",
     "output_type": "stream",
     "text": [
      "0 0.03240853910231187 3.869911214198084e-99 1387.2043627263647\n"
     ]
    },
    {
     "name": "stderr",
     "output_type": "stream",
     "text": [
      "\r",
      "Number of edges: 37:   0%|                                                 | 36/108670653 [00:07<8649:32:00,  3.49it/s]"
     ]
    },
    {
     "name": "stdout",
     "output_type": "stream",
     "text": [
      "0 0.3762110909184198 1.1337070028713295e-17 1796.281711950152\n"
     ]
    },
    {
     "name": "stderr",
     "output_type": "stream",
     "text": [
      "Number of edges: 38:   0%|                                                 | 38/108670653 [00:07<6255:10:38,  4.83it/s]"
     ]
    },
    {
     "name": "stdout",
     "output_type": "stream",
     "text": [
      "0 0.20846756554730034 5.05027914350276e-67 5247.510432350498\n"
     ]
    },
    {
     "name": "stderr",
     "output_type": "stream",
     "text": [
      "\r",
      "Number of edges: 39:   0%|                                                 | 38/108670653 [00:07<6255:10:38,  4.83it/s]"
     ]
    },
    {
     "name": "stdout",
     "output_type": "stream",
     "text": [
      "0 1.6692453524144801 0.0 14895.024634071713\n"
     ]
    },
    {
     "name": "stderr",
     "output_type": "stream",
     "text": [
      "\r",
      "Number of edges: 40:   0%|                                                 | 39/108670653 [00:07<6255:10:37,  4.83it/s]"
     ]
    },
    {
     "name": "stdout",
     "output_type": "stream",
     "text": [
      "0 0.05490469474022425 9.808795744923163e-163 4717.793367897791\n"
     ]
    },
    {
     "name": "stderr",
     "output_type": "stream",
     "text": [
      "Number of edges: 41:   0%|                                                 | 41/108670653 [00:07<4859:45:18,  6.21it/s]"
     ]
    },
    {
     "name": "stdout",
     "output_type": "stream",
     "text": [
      "0 0.1781928085231942 0.0 14895.024634071713\n"
     ]
    },
    {
     "name": "stderr",
     "output_type": "stream",
     "text": [
      "\r",
      "Number of edges: 42:   0%|                                                 | 41/108670653 [00:07<4859:45:18,  6.21it/s]"
     ]
    },
    {
     "name": "stdout",
     "output_type": "stream",
     "text": [
      "0 0.11015116940455892 3.6348475681409535e-21 2699.237211950427\n"
     ]
    },
    {
     "name": "stderr",
     "output_type": "stream",
     "text": [
      "\r",
      "Number of edges: 43:   0%|                                                 | 42/108670653 [00:07<4859:45:18,  6.21it/s]"
     ]
    },
    {
     "name": "stdout",
     "output_type": "stream",
     "text": [
      "0 0.0925498969402856 0.0 7279.8056287033405\n"
     ]
    },
    {
     "name": "stderr",
     "output_type": "stream",
     "text": [
      "\r",
      "Number of edges: 44:   0%|                                                 | 43/108670653 [00:07<4859:45:18,  6.21it/s]"
     ]
    },
    {
     "ename": "KeyboardInterrupt",
     "evalue": "",
     "output_type": "error",
     "traceback": [
      "\u001b[1;31m---------------------------------------------------------------------------\u001b[0m",
      "\u001b[1;31mKeyboardInterrupt\u001b[0m                         Traceback (most recent call last)",
      "\u001b[1;32m<ipython-input-4-05295afda705>\u001b[0m in \u001b[0;36m<module>\u001b[1;34m\u001b[0m\n\u001b[0;32m     17\u001b[0m         \u001b[0mclf\u001b[0m \u001b[1;33m=\u001b[0m \u001b[0mparenclitic\u001b[0m\u001b[1;33m.\u001b[0m\u001b[0mparenclitic\u001b[0m\u001b[1;33m(\u001b[0m\u001b[0mkernel\u001b[0m \u001b[1;33m=\u001b[0m \u001b[0mparenclitic\u001b[0m\u001b[1;33m.\u001b[0m\u001b[0mpdf_kernel\u001b[0m\u001b[1;33m(\u001b[0m\u001b[0mthr_p\u001b[0m \u001b[1;33m=\u001b[0m \u001b[0mconfig\u001b[0m\u001b[1;33m.\u001b[0m\u001b[0mparams\u001b[0m\u001b[1;33m[\u001b[0m\u001b[1;34m'thr_p'\u001b[0m\u001b[1;33m]\u001b[0m\u001b[1;33m.\u001b[0m\u001b[0mvalue\u001b[0m\u001b[1;33m)\u001b[0m\u001b[1;33m)\u001b[0m\u001b[1;33m\u001b[0m\u001b[1;33m\u001b[0m\u001b[0m\n\u001b[0;32m     18\u001b[0m     \u001b[0mbe\u001b[0m \u001b[1;33m=\u001b[0m \u001b[0mtime\u001b[0m\u001b[1;33m.\u001b[0m\u001b[0mtime\u001b[0m\u001b[1;33m(\u001b[0m\u001b[1;33m)\u001b[0m\u001b[1;33m\u001b[0m\u001b[1;33m\u001b[0m\u001b[0m\n\u001b[1;32m---> 19\u001b[1;33m     \u001b[0mclf\u001b[0m\u001b[1;33m.\u001b[0m\u001b[0mfit\u001b[0m\u001b[1;33m(\u001b[0m\u001b[0mX\u001b[0m\u001b[1;33m,\u001b[0m \u001b[0my\u001b[0m\u001b[1;33m,\u001b[0m \u001b[0mmask\u001b[0m\u001b[1;33m,\u001b[0m \u001b[0mnum_workers\u001b[0m \u001b[1;33m=\u001b[0m \u001b[1;36m6\u001b[0m\u001b[1;33m)\u001b[0m\u001b[1;33m\u001b[0m\u001b[1;33m\u001b[0m\u001b[0m\n\u001b[0m\u001b[0;32m     20\u001b[0m     \u001b[0men\u001b[0m \u001b[1;33m=\u001b[0m \u001b[0mtime\u001b[0m\u001b[1;33m.\u001b[0m\u001b[0mtime\u001b[0m\u001b[1;33m(\u001b[0m\u001b[1;33m)\u001b[0m\u001b[1;33m\u001b[0m\u001b[1;33m\u001b[0m\u001b[0m\n\u001b[0;32m     21\u001b[0m     \u001b[0mprint\u001b[0m\u001b[1;33m(\u001b[0m\u001b[0men\u001b[0m \u001b[1;33m-\u001b[0m \u001b[0mbe\u001b[0m\u001b[1;33m)\u001b[0m\u001b[1;33m\u001b[0m\u001b[1;33m\u001b[0m\u001b[0m\n",
      "\u001b[1;32mz:\\pc\\unn\\science\\gerontology\\programs\\parenclitic\\parenclitic\\classes.py\u001b[0m in \u001b[0;36mfit\u001b[1;34m(self, X, y, mask, subset, num_workers, queue_len)\u001b[0m\n\u001b[0;32m    307\u001b[0m \u001b[1;33m\u001b[0m\u001b[0m\n\u001b[0;32m    308\u001b[0m             \u001b[1;32mif\u001b[0m \u001b[0mneed_parallel\u001b[0m\u001b[1;33m:\u001b[0m\u001b[1;33m\u001b[0m\u001b[1;33m\u001b[0m\u001b[0m\n\u001b[1;32m--> 309\u001b[1;33m                 \u001b[0mready\u001b[0m\u001b[1;33m.\u001b[0m\u001b[0macquire\u001b[0m\u001b[1;33m(\u001b[0m\u001b[1;33m)\u001b[0m\u001b[1;33m\u001b[0m\u001b[1;33m\u001b[0m\u001b[0m\n\u001b[0m\u001b[0;32m    310\u001b[0m                 \u001b[0mpool\u001b[0m\u001b[1;33m.\u001b[0m\u001b[0mapply_async\u001b[0m\u001b[1;33m(\u001b[0m\u001b[0mself\u001b[0m\u001b[1;33m.\u001b[0m\u001b[0mkernel\u001b[0m\u001b[1;33m.\u001b[0m\u001b[0mfit\u001b[0m\u001b[1;33m,\u001b[0m \u001b[0margs\u001b[0m \u001b[1;33m=\u001b[0m \u001b[1;33m(\u001b[0m\u001b[0mX\u001b[0m\u001b[1;33m[\u001b[0m\u001b[1;33m:\u001b[0m\u001b[1;33m,\u001b[0m \u001b[0mi\u001b[0m\u001b[1;33m]\u001b[0m\u001b[1;33m,\u001b[0m \u001b[0mX\u001b[0m\u001b[1;33m[\u001b[0m\u001b[1;33m:\u001b[0m\u001b[1;33m,\u001b[0m \u001b[0mj\u001b[0m\u001b[1;33m]\u001b[0m\u001b[1;33m,\u001b[0m \u001b[0my\u001b[0m\u001b[1;33m,\u001b[0m \u001b[0mmask\u001b[0m\u001b[1;33m)\u001b[0m\u001b[1;33m,\u001b[0m \u001b[0mcallback\u001b[0m \u001b[1;33m=\u001b[0m \u001b[0mupd_graph\u001b[0m\u001b[1;33m)\u001b[0m\u001b[1;33m\u001b[0m\u001b[1;33m\u001b[0m\u001b[0m\n\u001b[0;32m    311\u001b[0m             \u001b[1;32melse\u001b[0m\u001b[1;33m:\u001b[0m\u001b[1;33m\u001b[0m\u001b[1;33m\u001b[0m\u001b[0m\n",
      "\u001b[1;32mC:\\ProgramData\\Anaconda3\\lib\\threading.py\u001b[0m in \u001b[0;36macquire\u001b[1;34m(self, blocking, timeout)\u001b[0m\n\u001b[0;32m    425\u001b[0m                         \u001b[1;32mif\u001b[0m \u001b[0mtimeout\u001b[0m \u001b[1;33m<=\u001b[0m \u001b[1;36m0\u001b[0m\u001b[1;33m:\u001b[0m\u001b[1;33m\u001b[0m\u001b[1;33m\u001b[0m\u001b[0m\n\u001b[0;32m    426\u001b[0m                             \u001b[1;32mbreak\u001b[0m\u001b[1;33m\u001b[0m\u001b[1;33m\u001b[0m\u001b[0m\n\u001b[1;32m--> 427\u001b[1;33m                 \u001b[0mself\u001b[0m\u001b[1;33m.\u001b[0m\u001b[0m_cond\u001b[0m\u001b[1;33m.\u001b[0m\u001b[0mwait\u001b[0m\u001b[1;33m(\u001b[0m\u001b[0mtimeout\u001b[0m\u001b[1;33m)\u001b[0m\u001b[1;33m\u001b[0m\u001b[1;33m\u001b[0m\u001b[0m\n\u001b[0m\u001b[0;32m    428\u001b[0m             \u001b[1;32melse\u001b[0m\u001b[1;33m:\u001b[0m\u001b[1;33m\u001b[0m\u001b[1;33m\u001b[0m\u001b[0m\n\u001b[0;32m    429\u001b[0m                 \u001b[0mself\u001b[0m\u001b[1;33m.\u001b[0m\u001b[0m_value\u001b[0m \u001b[1;33m-=\u001b[0m \u001b[1;36m1\u001b[0m\u001b[1;33m\u001b[0m\u001b[1;33m\u001b[0m\u001b[0m\n",
      "\u001b[1;32mC:\\ProgramData\\Anaconda3\\lib\\threading.py\u001b[0m in \u001b[0;36mwait\u001b[1;34m(self, timeout)\u001b[0m\n\u001b[0;32m    294\u001b[0m         \u001b[1;32mtry\u001b[0m\u001b[1;33m:\u001b[0m    \u001b[1;31m# restore state no matter what (e.g., KeyboardInterrupt)\u001b[0m\u001b[1;33m\u001b[0m\u001b[1;33m\u001b[0m\u001b[0m\n\u001b[0;32m    295\u001b[0m             \u001b[1;32mif\u001b[0m \u001b[0mtimeout\u001b[0m \u001b[1;32mis\u001b[0m \u001b[1;32mNone\u001b[0m\u001b[1;33m:\u001b[0m\u001b[1;33m\u001b[0m\u001b[1;33m\u001b[0m\u001b[0m\n\u001b[1;32m--> 296\u001b[1;33m                 \u001b[0mwaiter\u001b[0m\u001b[1;33m.\u001b[0m\u001b[0macquire\u001b[0m\u001b[1;33m(\u001b[0m\u001b[1;33m)\u001b[0m\u001b[1;33m\u001b[0m\u001b[1;33m\u001b[0m\u001b[0m\n\u001b[0m\u001b[0;32m    297\u001b[0m                 \u001b[0mgotit\u001b[0m \u001b[1;33m=\u001b[0m \u001b[1;32mTrue\u001b[0m\u001b[1;33m\u001b[0m\u001b[1;33m\u001b[0m\u001b[0m\n\u001b[0;32m    298\u001b[0m             \u001b[1;32melse\u001b[0m\u001b[1;33m:\u001b[0m\u001b[1;33m\u001b[0m\u001b[1;33m\u001b[0m\u001b[0m\n",
      "\u001b[1;31mKeyboardInterrupt\u001b[0m: "
     ]
    },
    {
     "name": "stdout",
     "output_type": "stream",
     "text": [
      "0 0.2944588837319428 3.431287777498075e-22 3609.258094014452\n"
     ]
    },
    {
     "name": "stderr",
     "output_type": "stream",
     "text": [
      "Number of edges: 45:   0%|                                                 | 45/108670653 [00:07<3713:51:42,  8.13it/s]"
     ]
    }
   ],
   "source": [
    "import multiprocessing as mp\n",
    "import multiprocessing, logging\n",
    "#mpl = multiprocessing.log_to_stderr()\n",
    "#mpl.setLevel(logging.DEBUG)\n",
    "\n",
    "if __name__ == \"__main__\":\n",
    "    import time\n",
    "    num_samples = X.shape[0]\n",
    "    num_features = X.shape[1]\n",
    "\n",
    "    #mask = np.array(y, np.bool)\n",
    "    #mask[:] = 1\n",
    "    if config.params['algorithm'].value == 'svc':\n",
    "        clf = parenclitic.parenclitic(kernel = parenclitic.classifier_kernel(min_score = config.params['min_score'].value))\n",
    "    elif config.params['algorithm'].value == 'kde':\n",
    "        config.params['thr_p'].value = 1 - 1e-6\n",
    "        clf = parenclitic.parenclitic(kernel = parenclitic.pdf_kernel(thr_p = config.params['thr_p'].value))\n",
    "    be = time.time()\n",
    "    clf.fit(X, y, mask, num_workers = 6)\n",
    "    en = time.time()\n",
    "    print(en - be)\n",
    "    paths = []\n",
    "    for id_sample in config.params[\"id_sample\"]:\n",
    "        paths.append(config.ofname([\"graphs\", \"g\"], ext = \".tsv\", include_set = config.params_sets[\"graph\"]))\n",
    "    clf.set_graph_paths(paths = paths)\n",
    "    clf.save_graphs(gtype = 'csv')\n",
    "    \n",
    "    paths = []\n",
    "    for id_sample in config.params[\"id_sample\"]:\n",
    "        paths.append(config.ofname([\"graphs\", \"g\"], ext = \".npz\", include_set = config.params_sets[\"graph\"]))\n",
    "    clf.set_graph_paths(paths = paths)\n",
    "    clf.save_graphs(gtype = 'npz')"
   ]
  },
  {
   "cell_type": "code",
   "execution_count": 87,
   "metadata": {},
   "outputs": [
    {
     "name": "stdout",
     "output_type": "stream",
     "text": [
      "(2, 0)\n"
     ]
    },
    {
     "ename": "IndexError",
     "evalue": "index 0 is out of bounds for axis 1 with size 0",
     "output_type": "error",
     "traceback": [
      "\u001b[1;31m---------------------------------------------------------------------------\u001b[0m",
      "\u001b[1;31mIndexError\u001b[0m                                Traceback (most recent call last)",
      "\u001b[1;32m<ipython-input-87-ac6d10662ea6>\u001b[0m in \u001b[0;36m<module>\u001b[1;34m\u001b[0m\n\u001b[1;32m----> 1\u001b[1;33m \u001b[0mclf\u001b[0m\u001b[1;33m.\u001b[0m\u001b[0msave_graphs\u001b[0m\u001b[1;33m(\u001b[0m\u001b[0mgtype\u001b[0m \u001b[1;33m=\u001b[0m \u001b[1;34m'csv'\u001b[0m\u001b[1;33m)\u001b[0m\u001b[1;33m\u001b[0m\u001b[1;33m\u001b[0m\u001b[0m\n\u001b[0m",
      "\u001b[1;32mz:\\pc\\unn\\science\\gerontology\\programs\\parenclitic\\parenclitic\\classes.py\u001b[0m in \u001b[0;36msave_graphs\u001b[1;34m(self, gtype)\u001b[0m\n\u001b[0;32m    427\u001b[0m                                     num_samples = self.num_samples, num_features = self.num_features)\n\u001b[0;32m    428\u001b[0m             \u001b[1;32melif\u001b[0m \u001b[0mgtype\u001b[0m \u001b[1;33m==\u001b[0m \u001b[1;34m'csv'\u001b[0m\u001b[1;33m:\u001b[0m\u001b[1;33m\u001b[0m\u001b[1;33m\u001b[0m\u001b[0m\n\u001b[1;32m--> 429\u001b[1;33m                 \u001b[0mdf\u001b[0m \u001b[1;33m=\u001b[0m \u001b[0mpd\u001b[0m\u001b[1;33m.\u001b[0m\u001b[0mDataFrame\u001b[0m\u001b[1;33m(\u001b[0m\u001b[1;33m{\u001b[0m\u001b[1;34m'v0'\u001b[0m\u001b[1;33m:\u001b[0m \u001b[0mE\u001b[0m\u001b[1;33m[\u001b[0m\u001b[1;33m:\u001b[0m\u001b[1;33m,\u001b[0m \u001b[1;36m0\u001b[0m\u001b[1;33m]\u001b[0m\u001b[1;33m,\u001b[0m \u001b[1;34m'v1'\u001b[0m\u001b[1;33m:\u001b[0m \u001b[0mE\u001b[0m\u001b[1;33m[\u001b[0m\u001b[1;33m:\u001b[0m\u001b[1;33m,\u001b[0m \u001b[1;36m1\u001b[0m\u001b[1;33m]\u001b[0m\u001b[1;33m,\u001b[0m \u001b[1;34m'distance'\u001b[0m\u001b[1;33m:\u001b[0m \u001b[0mD\u001b[0m\u001b[1;33m,\u001b[0m \u001b[1;34m'is_linked'\u001b[0m\u001b[1;33m:\u001b[0m \u001b[0mM\u001b[0m\u001b[1;33m.\u001b[0m\u001b[0mastype\u001b[0m\u001b[1;33m(\u001b[0m\u001b[0mnp\u001b[0m\u001b[1;33m.\u001b[0m\u001b[0mint32\u001b[0m\u001b[1;33m)\u001b[0m\u001b[1;33m}\u001b[0m\u001b[1;33m)\u001b[0m\u001b[1;33m\u001b[0m\u001b[1;33m\u001b[0m\u001b[0m\n\u001b[0m\u001b[0;32m    430\u001b[0m                 \u001b[0mdf\u001b[0m\u001b[1;33m.\u001b[0m\u001b[0mto_csv\u001b[0m\u001b[1;33m(\u001b[0m\u001b[0mgraph_path\u001b[0m\u001b[1;33m,\u001b[0m \u001b[0msep\u001b[0m \u001b[1;33m=\u001b[0m \u001b[1;34m'\\t'\u001b[0m\u001b[1;33m,\u001b[0m \u001b[0mindex\u001b[0m \u001b[1;33m=\u001b[0m \u001b[1;32mNone\u001b[0m\u001b[1;33m)\u001b[0m\u001b[1;33m\u001b[0m\u001b[1;33m\u001b[0m\u001b[0m\n\u001b[0;32m    431\u001b[0m \u001b[1;33m\u001b[0m\u001b[0m\n",
      "\u001b[1;31mIndexError\u001b[0m: index 0 is out of bounds for axis 1 with size 0"
     ]
    }
   ],
   "source": [
    "clf.save_graphs(gtype = 'csv')"
   ]
  },
  {
   "cell_type": "code",
   "execution_count": 15,
   "metadata": {},
   "outputs": [
    {
     "name": "stdout",
     "output_type": "stream",
     "text": [
      "229 255\n"
     ]
    },
    {
     "data": {
      "image/png": "[encoded data removed]",
      "text/plain": [
       "<Figure size 720x720 with 1 Axes>"
      ]
     },
     "metadata": {
      "needs_background": "light"
     },
     "output_type": "display_data"
    }
   ],
   "source": [
    "kernel = parenclitic.pdf_kernel(thr_type = 'best', min_score = 0.9, division_rule = 'non_control')\n",
    "fit_mask = (mask == -1) | (mask == 1)\n",
    "gene_1 = np.random.randint(14743)\n",
    "gene_1 = 229\n",
    "gene_2 = 255\n",
    "\n",
    "kernel.fit(X[:, gene_1], X[:, gene_2], y, mask)\n",
    "[G, D] = kernel.get_edges()\n",
    "plt.figure(figsize=(10,10))\n",
    "plt.scatter(X[fit_mask, gene_1], X[fit_mask, gene_2], c = y[fit_mask])\n",
    "print(gene_1, gene_2)"
   ]
  },
  {
   "cell_type": "code",
   "execution_count": 82,
   "metadata": {},
   "outputs": [
    {
     "data": {
      "text/plain": [
       "array([ 1,  1, -1,  1,  1,  1, -1,  1,  1,  1,  1, -1,  1,  1,  1,  1,  1,\n",
       "        1,  1,  1,  1,  1, -1, -1,  1, -1,  1,  1,  1,  1,  1,  1,  1,  1,\n",
       "        1,  1,  1, -1,  1,  1,  1,  1,  1,  1,  1,  1,  1,  1,  1,  1,  1,\n",
       "       -1,  1,  1,  1,  1,  1,  1, -1,  1, -1, -1, -1, -1, -1,  1,  1,  1,\n",
       "        1,  1,  1,  1,  1, -1, -1, -1,  1,  1,  1,  1,  1, -1, -1, -1, -1,\n",
       "       -1, -1, -1, -1, -1,  1,  1,  1,  1,  1,  1, -1,  1, -1,  1,  1,  1,\n",
       "        1,  1,  1,  1,  1,  1,  1,  1,  1,  1,  1,  1,  1,  1, -1,  1,  1,\n",
       "        1, -1, -1, -1, -1,  1,  1,  1,  1,  1,  1,  1,  1,  1, -1,  1,  1,\n",
       "        1, -1,  1,  1,  1,  1,  1, -1,  1,  1,  1, -1,  1,  1,  1,  1,  1,\n",
       "        1,  1, -1, -1, -1, -1, -1, -1,  1,  1,  1,  1, -1,  1,  1,  1, -1,\n",
       "       -1,  1,  1,  1,  1,  1,  1,  1,  1,  1,  1,  1,  1,  1,  1,  1,  1,\n",
       "        1,  1,  1,  1,  1, -1,  1,  1,  1,  1,  1,  1,  1,  1,  1,  1, -1,\n",
       "        1, -1,  1, -1,  1,  1,  1,  1,  1,  1,  1, -1,  1,  1, -1,  1,  1,\n",
       "        1,  1,  1,  1,  1,  1,  1,  1, -1,  1,  1,  1, -1,  1, -1, -1,  1,\n",
       "        1,  1,  1, -1,  1, -1,  1, -1, -1, -1, -1, -1, -1, -1,  1,  1, -1,\n",
       "       -1, -1,  1, -1,  1,  1,  1,  1,  1,  1, -1,  1,  1,  1,  1,  1, -1,\n",
       "        1, -1, -1,  1, -1,  1,  1, -1,  1,  1,  1,  1,  1,  1,  1,  1, -1,\n",
       "       -1, -1,  1, -1,  1,  1, -1,  1, -1, -1,  1,  1,  1, -1,  1,  1, -1,\n",
       "       -1, -1, -1,  1, -1,  1,  1, -1,  1,  1,  1, -1,  1,  1,  1,  1,  1,\n",
       "        1,  1,  1,  1,  1,  1, -1,  1,  1, -1,  1,  1,  1,  1,  1,  1,  1,\n",
       "        1,  1, -1,  1,  1,  1,  1,  1,  1,  1,  1,  1,  1,  1,  1,  1,  1,\n",
       "       -1,  1,  1,  1,  1,  1,  1,  1,  1, -1,  1,  1, -1,  1,  1,  1,  1,\n",
       "        1,  1,  1, -1,  1,  1,  1,  1,  1,  1,  1,  1, -1,  1, -1,  1,  1,\n",
       "        1,  1,  1,  1,  1,  1,  1,  1,  1,  1, -1,  1,  1, -1, -1,  1,  1,\n",
       "        1,  1,  1, -1,  1,  1,  1,  1, -1, -1,  1,  1, -1, -1,  1, -1,  1,\n",
       "        1,  1, -1,  1,  1,  1,  1,  1,  1,  1,  1,  1,  1,  1,  1,  1,  1,\n",
       "        1, -1,  1,  1,  1,  1, -1,  1, -1, -1, -1,  1,  1,  1, -1,  1, -1,\n",
       "        1,  1,  1, -1,  1, -1,  1, -1,  1,  1,  1, -1,  1,  1,  1,  1,  1,\n",
       "        1,  1,  1,  1,  1,  1, -1,  1,  1,  1,  1,  1,  1,  1,  1, -1, -1,\n",
       "        1,  1,  1,  1,  1,  1,  1,  1,  1,  1,  1,  1,  1,  1, -1, -1,  1,\n",
       "        1,  1,  1,  1,  1, -1,  1,  1,  1,  1,  1, -1, -1, -1,  1,  1,  1,\n",
       "        1,  1,  1, -1,  1,  1,  1,  1,  1,  1,  1, -1, -1, -1, -1,  1,  1,\n",
       "       -1,  1, -1,  1,  1,  1, -1,  1,  1,  1, -1,  1,  1, -1,  1, -1,  1,\n",
       "        1, -1,  1,  1,  1,  1,  1,  1, -1, -1,  1,  1,  1,  1,  1,  1,  1,\n",
       "       -1,  1,  1, -1,  1,  1, -1,  1,  1,  1, -1,  1,  1, -1,  1,  1, -1,\n",
       "        1,  1,  1,  1,  1,  1,  1,  1, -1,  1,  1,  1, -1,  1,  1,  1,  1,\n",
       "       -1,  1,  1,  1,  1,  1, -1,  1, -1,  1,  1,  1,  1, -1, -1,  1,  1,\n",
       "        1,  1,  1,  1,  1,  1,  1,  1,  1,  1,  1,  1,  1,  1, -1,  1,  1,\n",
       "        1, -1,  1,  1, -1, -1,  1,  1,  1,  1,  1,  1,  1,  1,  1,  1,  1,\n",
       "       -1,  1,  1, -1,  1,  1,  1, -1, -1, -1,  1,  1,  1,  1, -1, -1,  1,\n",
       "        1,  1,  1, -1,  1, -1,  1,  1,  1,  1,  1, -1,  1,  1,  1,  1,  1,\n",
       "        1, -1,  1,  1,  1,  1,  1,  1, -1,  1,  1,  1,  1,  1,  1,  1,  1,\n",
       "        1,  1,  1, -1, -1, -1,  1,  1,  1,  1,  1,  1,  1,  1,  1],\n",
       "      dtype=int64)"
      ]
     },
     "execution_count": 82,
     "metadata": {},
     "output_type": "execute_result"
    }
   ],
   "source": [
    "y"
   ]
  },
  {
   "cell_type": "code",
   "execution_count": 118,
   "metadata": {},
   "outputs": [
    {
     "data": {
      "text/plain": [
       "496"
      ]
     },
     "execution_count": 118,
     "metadata": {},
     "output_type": "execute_result"
    }
   ],
   "source": [
    "G.sum()"
   ]
  },
  {
   "cell_type": "code",
   "execution_count": 63,
   "metadata": {},
   "outputs": [
    {
     "data": {
      "text/plain": [
       "array([9481], dtype=int64)"
      ]
     },
     "execution_count": 63,
     "metadata": {},
     "output_type": "execute_result"
    }
   ],
   "source": [
    "np.flatnonzero(all_features_names == \"ELOVL2\")"
   ]
  },
  {
   "cell_type": "code",
   "execution_count": 9,
   "metadata": {},
   "outputs": [],
   "source": [
    "paths = []\n",
    "for id_sample in config.params[\"id_sample\"]:\n",
    "    paths.append(config.ofname([\"graphs\", \"g\"], ext = \".tsv\", include_set = config.params_sets[\"graph\"]))\n",
    "clf.set_graph_paths(paths = paths[:87])\n",
    "clf.save_graphs(gtype = 'csv')\n",
    "\n",
    "paths = []\n",
    "for id_sample in config.params[\"id_sample\"]:\n",
    "    paths.append(config.ofname([\"graphs\", \"g\"], ext = \".npz\", include_set = config.params_sets[\"graph\"]))\n",
    "clf.set_graph_paths(paths = paths[:87])\n",
    "clf.save_graphs(gtype = 'npz')"
   ]
  },
  {
   "cell_type": "code",
   "execution_count": 7,
   "metadata": {},
   "outputs": [
    {
     "data": {
      "text/plain": [
       "'Z:\\\\PC\\\\UNN\\\\Science\\\\Gerontology\\\\data\\\\GSE52588\\\\params\\\\num_genes_14756\\\\kde_mask_siblings_mask\\\\algorithm_kde\\\\thr_p_0.88\\\\graphs\\\\graph_id_sample_0.tsv'"
      ]
     },
     "execution_count": 7,
     "metadata": {},
     "output_type": "execute_result"
    }
   ],
   "source": [
    "config.ofname([\"graphs\", \"g\"], ext = \".tsv\", include_set = config.params_sets[\"graph\"])"
   ]
  },
  {
   "cell_type": "code",
   "execution_count": 8,
   "metadata": {},
   "outputs": [
    {
     "data": {
      "text/plain": [
       "((29,), (87,))"
      ]
     },
     "execution_count": 8,
     "metadata": {},
     "output_type": "execute_result"
    }
   ],
   "source": [
    "mask[:29].shape, mask.shape, "
   ]
  },
  {
   "cell_type": "code",
   "execution_count": 26,
   "metadata": {},
   "outputs": [
    {
     "name": "stdout",
     "output_type": "stream",
     "text": [
      "[2, 2, 4, 0, 1, 0, 1, 2, 30, 0, 1, 0, 8, 1, 1, 0, 0, 0, 1, 1, 0, 0, 0, 5, 0, 0, 0, 0, 0]\n"
     ]
    }
   ],
   "source": [
    "gr = clf.get_graphs()\n",
    "print([g.ecount() for g in gr])"
   ]
  },
  {
   "cell_type": "code",
   "execution_count": 14,
   "metadata": {},
   "outputs": [],
   "source": [
    "    paths = []\n",
    "    for id_sample in config.params[\"id_sample\"]:\n",
    "        paths.append(config.ofname([\"graphs\", \"g\"], ext = \".tsv\", include_set = config.params_sets[\"graph\"]))\n",
    "    clf.set_graph_paths(paths = paths)\n",
    "    clf.save_graphs(gtype = 'csv')\n",
    "    \n",
    "    paths = []\n",
    "    for id_sample in config.params[\"id_sample\"]:\n",
    "        paths.append(config.ofname([\"graphs\", \"g\"], ext = \".npz\", include_set = config.params_sets[\"graph\"]))\n",
    "    clf.set_graph_paths(paths = paths)\n",
    "    clf.save_graphs(gtype = 'npz')"
   ]
  },
  {
   "cell_type": "code",
   "execution_count": 4,
   "metadata": {},
   "outputs": [
    {
     "name": "stdout",
     "output_type": "stream",
     "text": [
      "D:\\PC\\UNN\\Science\\Gerontology\\data\\GSE52588\\params\\num_genes_14756\\kde_mask_mongoloids_mask\\algorithm_kde\\thr_p_0.1\\graphs\\graph_id_sample_0.tsv\n"
     ]
    }
   ],
   "source": [
    "paths = []\n",
    "for id_sample in config.params[\"id_sample\"]:\n",
    "    print(config.ofname([\"graphs\", \"g\"], ext = \".tsv\", include_set = config.params_sets[\"graph\"]))\n",
    "    break"
   ]
  },
  {
   "cell_type": "code",
   "execution_count": null,
   "metadata": {},
   "outputs": [],
   "source": [
    "clf.save_graph()"
   ]
  },
  {
   "cell_type": "code",
   "execution_count": 33,
   "metadata": {},
   "outputs": [],
   "source": [
    "from annotations.cpgs import cpgs_annotation\n",
    "cpgs = cpgs_annotation(config.ifname('cpgs_annotations'))"
   ]
  },
  {
   "cell_type": "code",
   "execution_count": 66,
   "metadata": {},
   "outputs": [
    {
     "name": "stdout",
     "output_type": "stream",
     "text": [
      "['RBL2', 'ACTN1', 'ATP2A1', 'SFRP1', 'NIPA2', 'MAN1B1', 'TSEN34', 'LRRC16A', 'CNBP', 'DDX55']\n",
      "15072\n"
     ]
    }
   ],
   "source": [
    "bad_cpgs = np.loadtxt(config.ifname('bad_cpgs'), dtype='str')\n",
    "crit = {'gene_out': [np.NaN], 'cpgs_in': all_features_names, 'cpgs_out': bad_cpgs, 'geotype_out': [np.NaN], 'chr_out': ['X', 'Y']}\n",
    "genes = cpgs.get_crit_col_values('gene', crit)\n",
    "print(len(genes))"
   ]
  },
  {
   "cell_type": "code",
   "execution_count": 70,
   "metadata": {},
   "outputs": [],
   "source": [
    "df = cpgs.get_sub_frame(crit)"
   ]
  },
  {
   "cell_type": "code",
   "execution_count": 71,
   "metadata": {},
   "outputs": [
    {
     "name": "stdout",
     "output_type": "stream",
     "text": [
      "<pandas.core.groupby.generic.DataFrameGroupBy object at 0x000001DE019B8198>\n"
     ]
    }
   ],
   "source": [
    "print(df2)"
   ]
  },
  {
   "cell_type": "code",
   "execution_count": 73,
   "metadata": {},
   "outputs": [
    {
     "name": "stdout",
     "output_type": "stream",
     "text": [
      "0 RBL2 cg00000029\n",
      "5 ACTN1 cg00000289\n",
      "6 ATP2A1 cg00000292\n",
      "7 SFRP1 cg00000321\n",
      "9 NIPA2 cg00000622\n",
      "10 MAN1B1 cg00000658\n",
      "11 TSEN34 cg00000714\n",
      "12 LRRC16A cg00000721\n",
      "13 CNBP cg00000734\n",
      "14 DDX55 cg00000769\n",
      "15 KLHL29 cg00000807\n",
      "16 TLR2 cg00000884\n",
      "18 {'KCNQ1', 'KCNQ1OT1'} cg00000924\n",
      "20 NPHP4 cg00000957\n",
      "21 PSKH2 cg00001099\n",
      "22 MRPS25 cg00001245\n",
      "26 MAEL cg00001349\n",
      "28 ELOVL1 cg00001446\n",
      "31 {'ZMIZ1', 'LOC283050'} cg00001582\n",
      "32 NR5A2 cg00001583\n",
      "34 ROCK2 cg00001594\n",
      "35 CDK10 cg00001687\n",
      "40 DNAJA2 cg00001854\n",
      "41 ATOH7 cg00001874\n",
      "43 PINK1 cg00002028\n",
      "44 LRFN1 cg00002033\n",
      "45 RWDD2B cg00002080\n",
      "46 MRPL12 cg00002116\n",
      "50 RTTN cg00002236\n",
      "51 CD2BP2 cg00002406\n",
      "52 SLMAP cg00002426\n",
      "54 NOV cg00002464\n",
      "56 MXD4 cg00002490\n",
      "59 TAS1R3 cg00002593\n",
      "60 ITGAD cg00002597\n",
      "62 SMARCC2 cg00002660\n",
      "63 C1orf114 cg00002719\n",
      "66 C1orf65 cg00002808\n",
      "68 DAB1 cg00002810\n",
      "71 BDH1 cg00003014\n",
      "72 SLBP cg00003091\n",
      "73 {'TMEM43', 'CHCHD4'} cg00003173\n",
      "76 RFX5 cg00003202\n",
      "78 LHX5 cg00003298\n",
      "81 CASZ1 cg00003513\n",
      "86 {'CCDC45', 'DDX5'} cg00003784\n",
      "88 RNF220 cg00003858\n",
      "93 CKLF cg00004055\n",
      "95 TRANK1 cg00004067\n",
      "96 ZFP36 cg00004072\n",
      "98 SLC2A9 cg00004082\n",
      "103 SFRS7 cg00004207\n",
      "106 CSMD2 cg00004257\n",
      "107 {'EIF4A1', 'SENP3'} cg00004421\n",
      "108 EHMT1 cg00004429\n",
      "109 AGPAT3 cg00004533\n",
      "113 FHL2 cg00004700\n",
      "118 AGA cg00004818\n",
      "120 LDHD cg00004883\n",
      "121 C14orf181 cg00004939\n",
      "124 MTMR7 cg00004996\n",
      "125 MT1F cg00005010\n",
      "126 RSPO3 cg00005040\n",
      "127 ANKRD11 cg00005072\n",
      "128 TDRD6 cg00005083\n",
      "133 DOK7 cg00005297\n",
      "134 SRCAP cg00005306\n",
      "138 {'TCTE3', 'C6orf70'} cg00005543\n",
      "140 FAM180B cg00005619\n",
      "144 HOXD3 cg00005847\n",
      "147 GPHN cg00006032\n",
      "148 HMX2 cg00006081\n",
      "150 C12orf44 cg00006122\n",
      "151 TDRD10 cg00006198\n",
      "152 OTOF cg00006243\n",
      "153 NHLH1 cg00006397\n",
      "154 {'ZNF425', 'ZNF398'} cg00006414\n",
      "160 CCDC126 cg00006884\n",
      "163 ZNF362 cg00007036\n",
      "164 LHX6 cg00007064\n",
      "165 RRS1 cg00007076\n",
      "167 PTPRF cg00007221\n",
      "168 PACS2 cg00007226\n",
      "169 {'C4orf39', 'TRIM61'} cg00007239\n",
      "170 ZNF77 cg00007269\n",
      "171 LRRC16B cg00007300\n",
      "172 ZBTB7A cg00007324\n",
      "173 CACNA1A cg00007326\n",
      "174 C6orf168 cg00007420\n",
      "176 ZNF358 cg00007466\n",
      "178 SLC6A5 cg00007644\n",
      "182 DSTYK cg00007898\n",
      "183 PANX1 cg00007981\n",
      "184 ZNF581 cg00007987\n",
      "187 FAM163A cg00008036\n",
      "188 C14orf181 cg00008188\n",
      "189 PDE6D cg00008345\n",
      "190 TMEM188 cg00008387\n",
      "191 {'INSRR', 'NTRK1'} cg00008446\n",
      "194 {'KIAA1409', 'COX8C'} cg00008493\n",
      "195 GFPT2 cg00008544\n",
      "199 ROD1 cg00008629\n",
      "200 FAIM3 cg00008647\n",
      "201 C3orf39 cg00008665\n",
      "202 FAM190B cg00008671\n",
      "204 IMPA2 cg00008713\n",
      "205 LRRC4B cg00008737\n",
      "207 DMRTB1 cg00008810\n",
      "208 C4orf44 cg00008819\n",
      "209 NRD1 cg00008823\n",
      "210 OAZ1 cg00008839\n",
      "213 {'MMACHC', 'CCDC163P'} cg00008971\n",
      "216 SYT7 cg00009053\n",
      "217 VPS37C cg00009088\n",
      "218 {'C1orf194', 'KIAA1324'} cg00009167\n",
      "219 RIN2 cg00009196\n",
      "220 DERA cg00009214\n",
      "222 AEBP1 cg00009293\n",
      "225 PELI2 cg00009364\n",
      "226 TTC8 cg00009407\n",
      "227 DDX18 cg00009412\n",
      "240 MEX3C cg00009970\n",
      "241 {'MGC23284', 'MVD'} cg00010046\n",
      "244 {'UBTD1', 'MMS19'} cg00010168\n",
      "246 MFSD3 cg00010266\n",
      "247 RFX1 cg00010445\n",
      "248 HECTD3 cg00010654\n",
      "251 BARHL2 cg00010742\n",
      "253 KIAA1949 cg00010853\n",
      "255 METTL5 cg00010932\n",
      "256 SHOX2 cg00010946\n",
      "257 {'HELQ', 'MRPS18C'} cg00010947\n",
      "259 TIGD2 cg00010992\n",
      "260 C16orf75 cg00011122\n",
      "263 WNT6 cg00011225\n",
      "265 YTHDF3 cg00011247\n",
      "266 RBL2 cg00011284\n",
      "269 {'PMM2', 'TMEM186'} cg00011459\n",
      "270 RBM47 cg00011460\n",
      "271 PAX9 cg00011482\n",
      "274 PPP5C cg00011578\n",
      "280 IGFBP5 cg00011856\n",
      "285 H3F3B cg00012036\n",
      "289 PLXNB2 cg00012194\n",
      "290 {'RNASE4', 'ANG'} cg00012199\n",
      "291 ARPC2 cg00012203\n",
      "292 CABYR cg00012238\n",
      "296 {'SNAP47', 'JMJD4'} cg00012386\n",
      "298 KCNC1 cg00012397\n",
      "300 ARRDC4 cg00012522\n",
      "301 GALNT9 cg00012529\n",
      "303 KCNK17 cg00012638\n",
      "304 GJB6 cg00012692\n",
      "307 SLC9A3R1 cg00012762\n",
      "308 MUTED cg00012792\n",
      "309 FBF1 cg00012920\n",
      "311 PRKCH cg00012992\n",
      "318 TRIM56 cg00013374\n",
      "319 EPHA10 cg00013409\n",
      "320 MED13 cg00013410\n",
      "323 DYSF cg00013475\n",
      "330 DAZAP1 cg00013733\n",
      "332 PTPRN2 cg00013809\n",
      "334 ARHGEF18 cg00013993\n",
      "335 {'RETSAT', 'ELMOD3'} cg00014085\n",
      "336 MAPK1 cg00014104\n",
      "337 GYPC cg00014112\n",
      "338 KIAA1751 cg00014118\n",
      "340 ESPN cg00014168\n",
      "341 OLFM1 cg00014194\n",
      "344 {'SPPL2B', 'LSM7'} cg00014272\n",
      "350 PTPRF cg00014445\n",
      "358 KIF3A cg00014752\n",
      "361 GADD45B cg00014806\n",
      "363 ACRBP cg00014837\n",
      "364 DPH2 cg00014900\n",
      "365 {'ANAPC11', 'THOC4'} cg00014986\n",
      "366 USP14 cg00014996\n",
      "367 {'HOXD4', 'MIR10B'} cg00014998\n",
      "368 CCNJ cg00015024\n",
      "370 THTPA cg00015121\n",
      "377 PARP10 cg00015530\n",
      "379 MYEOV2 cg00015603\n",
      "380 NRL cg00015639\n",
      "382 QRFPR cg00015770\n",
      "384 {'TCF12', 'LOC145783'} cg00016066\n",
      "386 NPM1 cg00016156\n",
      "387 STK38 cg00016223\n",
      "389 {'RUNDC1', 'AARSD1'} cg00016255\n",
      "391 DNAH11 cg00016360\n",
      "392 KIF26A cg00016406\n",
      "393 ST8SIA3 cg00016439\n",
      "395 RAB5C cg00016498\n",
      "397 SLFNL1 cg00016593\n",
      "398 CRAMP1L cg00016618\n",
      "403 SLC5A2 cg00016841\n",
      "404 C19orf69 cg00016892\n",
      "407 RHOC cg00016968\n",
      "408 RER1 cg00016996\n",
      "409 PGBD1 cg00017002\n",
      "410 C14orf135 cg00017033\n",
      "415 WIPF2 cg00017188\n",
      "416 PLEC1 cg00017203\n",
      "423 MAST3 cg00017441\n",
      "425 ABO cg00017475\n",
      "426 DPP6 cg00017489\n",
      "427 MED18 cg00017546\n",
      "433 GRRP1 cg00017970\n",
      "435 NKX6-2 cg00018024\n",
      "438 TBR1 cg00018128\n",
      "439 SH2B2 cg00018181\n",
      "443 {'TTC13', 'ARV1'} cg00018229\n",
      "445 {'SEPT10', 'ANKRD57'} cg00018524\n",
      "446 IQCE cg00018539\n",
      "447 HEXIM2 cg00018557\n",
      "448 CRYGD cg00018606\n",
      "450 ZNF664 cg00018739\n",
      "451 CACNA1H cg00018828\n",
      "454 FAM170B cg00018866\n",
      "456 KIAA0182 cg00019076\n",
      "457 SLC6A1 cg00019082\n",
      "459 UBL3 cg00019093\n",
      "460 {'GALNT9', 'LOC100130238'} cg00019118\n",
      "461 LTBP4 cg00019137\n",
      "465 {'NUDT6', 'SPATA5'} cg00019301\n",
      "468 SPTBN4 cg00019377\n",
      "469 PER3 cg00019458\n",
      "470 RNF111 cg00019463\n",
      "472 DLK1 cg00019511\n",
      "473 ZFP41 cg00019576\n",
      "475 C12orf34 cg00019678\n",
      "477 IGF2R cg00019778\n",
      "478 RPRD1A cg00019809\n",
      "481 MAPK4 cg00019841\n",
      "482 LOC169834 cg00019877\n",
      "485 CNRIP1 cg00020052\n",
      "488 FAM8A1 cg00020297\n",
      "493 SFRS12 cg00020405\n",
      "494 CRIP3 cg00020419\n",
      "497 TULP1 cg00020533\n",
      "499 OCA2 cg00020649\n",
      "500 {'SPATA1', 'GNG5'} cg00020720\n",
      "502 FAM38A cg00020794\n",
      "504 CBR4 cg00020991\n",
      "505 RRP1 cg00021028\n",
      "506 {'FLOT2', 'DHRS13'} cg00021030\n",
      "508 RIN3 cg00021108\n",
      "510 SPAG7 cg00021128\n",
      "513 MYBL1 cg00021237\n",
      "515 FEV cg00021256\n",
      "518 KIAA0182 cg00021476\n",
      "520 TAF15 cg00021527\n",
      "521 TFAP4 cg00021532\n",
      "522 {'TMEM217', 'TBC1D22B'} cg00021539\n",
      "523 {'SCARNA16', 'C17orf86'} cg00021540\n",
      "527 NECAB2 cg00021600\n",
      "531 PYCRL cg00021855\n",
      "533 GBF1 cg00021944\n",
      "535 DPYS cg00021978\n",
      "536 CAMSAP1 cg00022024\n",
      "540 SFRS6 cg00022138\n",
      "542 SNN cg00022235\n",
      "546 GCHFR cg00022492\n",
      "547 FGF4 cg00022558\n",
      "548 AKAP8L cg00022594\n",
      "550 CDK8 cg00022633\n",
      "551 {'GNPAT', 'C1orf131'} cg00022642\n",
      "553 PDGFRA cg00022858\n",
      "554 CCDC88B cg00022866\n",
      "557 HAPLN4 cg00022911\n",
      "562 ARL6IP5 cg00023132\n",
      "563 RNF220 cg00023154\n",
      "565 ZNF788 cg00023174\n",
      "566 LOC401463 cg00023185\n",
      "568 LRPPRC cg00023288\n",
      "569 BAT1 cg00023321\n",
      "573 CARKD cg00023464\n",
      "574 NBL1 cg00023492\n",
      "577 COX5A cg00023695\n",
      "581 SH2B2 cg00023808\n",
      "582 RHOD cg00023919\n",
      "590 RASL10B cg00024382\n",
      "591 ELOVL5 cg00024396\n",
      "592 SERINC5 cg00024404\n",
      "596 NGFR cg00024472\n",
      "600 CDR2 cg00024790\n",
      "601 {'CPSF3', 'ITGB1BP1'} cg00024812\n",
      "602 MECOM cg00024967\n",
      "605 MAP3K9 cg00025138\n",
      "608 NUDT17 cg00025211\n",
      "613 COQ10A cg00025436\n",
      "617 KLHL30 cg00025626\n",
      "620 NOL10 cg00025663\n",
      "622 ZSCAN18 cg00025715\n",
      "623 TBC1D16 cg00025795\n",
      "627 C13orf15 cg00025981\n",
      "628 DIP2C cg00025991\n",
      "629 SYNJ1 cg00026030\n",
      "633 DNAH10 cg00026119\n",
      "637 ALDOA cg00026230\n",
      "639 BAIAP2 cg00026327\n",
      "642 TEAD3 cg00026374\n",
      "645 DEF8 cg00026455\n",
      "648 ST3GAL1 cg00026474\n",
      "652 NR2F2 cg00026703\n",
      "653 FECH cg00026731\n",
      "655 KCNJ9 cg00026803\n",
      "656 NCRNA00095 cg00026853\n",
      "661 UBTF cg00026974\n",
      "662 OSBPL1A cg00027037\n",
      "663 TSSC1 cg00027081\n",
      "664 EPB41L3 cg00027083\n",
      "670 DCC cg00027400\n",
      "673 PHKG2 cg00027499\n",
      "678 STAC2 cg00027669\n",
      "679 RAB38 cg00027674\n",
      "682 KIAA1683 cg00027990\n",
      "684 LOXL1 cg00028013\n",
      "687 TSPYL3 cg00028034\n",
      "688 CHPF cg00028056\n",
      "701 NCOA7 cg00028455\n",
      "702 ZNF808 cg00028487\n",
      "705 GABRA5 cg00028598\n",
      "706 PTMS cg00028636\n",
      "708 ARHGEF4 cg00028678\n",
      "709 {'BIVM', 'KDELC1'} cg00028749\n",
      "711 GOT2 cg00028829\n",
      "712 {'MATN4', 'RBPJL'} cg00028844\n",
      "714 {'BAT4', 'CSNK2B'} cg00028881\n",
      "717 ZIC4 cg00028935\n",
      "718 GLTSCR2 cg00028993\n",
      "720 NOL10 cg00029053\n",
      "721 HIP1 cg00029161\n",
      "722 HEXIM1 cg00029233\n",
      "727 DCTN2 cg00029397\n",
      "728 KCNK17 cg00029521\n",
      "731 USF2 cg00029640\n",
      "734 PTPN9 cg00029822\n",
      "735 SLC5A2 cg00029825\n",
      "737 VPS28 cg00029831\n",
      "744 RNF207 cg00030047\n",
      "748 ICA1 cg00030291\n",
      "750 SLC25A2 cg00030420\n",
      "751 DLEC1 cg00030422\n",
      "752 UQCRFS1 cg00030423\n",
      "754 MEPCE cg00030432\n",
      "755 PRDM16 cg00030466\n",
      "756 PRKAB2 cg00030476\n",
      "758 TRIM15 cg00030508\n",
      "765 ZBTB9 cg00030795\n",
      "767 RBM8A cg00030816\n",
      "768 IGF2BP1 cg00030909\n",
      "769 {'KDM6B', 'TMEM88'} cg00031013\n",
      "770 MFAP2 cg00031063\n",
      "771 RXRB cg00031105\n",
      "772 {'TNFSF12-TNFSF13', 'TNFSF12'} cg00031162\n",
      "773 {'ABCB1', 'RUNDC3B'} cg00031165\n",
      "776 SERPINB1 cg00031256\n",
      "779 {'LOC100329108', 'GCSH'} cg00031340\n",
      "780 FRMD1 cg00031346\n",
      "781 PSAP cg00031402\n",
      "782 PNPLA6 cg00031443\n",
      "783 PRPF38B cg00031456\n",
      "784 {'BRE', 'LOC100302650', 'RBKS'} cg00031476\n",
      "787 ATG4D cg00031663\n",
      "788 FAM126A cg00031708\n",
      "790 BRCA2 cg00031759\n",
      "792 KDM2B cg00031896\n",
      "793 C7orf44 cg00031967\n",
      "795 PNPLA6 cg00032036\n",
      "797 TSPYL5 cg00032205\n",
      "798 {'TMEM104', 'NAT9'} cg00032227\n",
      "801 LONP1 cg00032366\n",
      "802 TP53I13 cg00032419\n",
      "804 ATP5E cg00032609\n",
      "806 LRRC47 cg00032643\n",
      "807 SNX4 cg00032664\n",
      "809 FGFRL1 cg00032686\n",
      "810 EVI5L cg00032701\n",
      "811 NELL2 cg00032756\n",
      "812 USP4 cg00032789\n",
      "814 CHCHD3 cg00032852\n",
      "815 MORN1 cg00032879\n",
      "816 FOXN2 cg00032884\n",
      "820 SNX7 cg00033127\n",
      "825 TGIF1 cg00033220\n",
      "826 SENP2 cg00033304\n",
      "827 SETD8 cg00033334\n",
      "829 TCEB1 cg00033457\n",
      "831 {'KLF3', 'FLJ13197'} cg00033516\n",
      "832 KIAA1539 cg00033533\n",
      "835 SLC35B4 cg00033643\n",
      "837 EPS8 cg00033668\n",
      "839 {'C19orf56', 'MORG1'} cg00033773\n",
      "840 TSNARE1 cg00033806\n",
      "841 KNDC1 cg00033834\n",
      "842 ATP11A cg00033877\n",
      "844 ARHGEF18 cg00033915\n",
      "845 CTU2 cg00034003\n",
      "846 TAF8 cg00034019\n",
      "847 {'FAM108B1', 'C9orf85'} cg00034039\n",
      "848 RALYL cg00034076\n",
      "850 RHOG cg00034130\n",
      "853 UGP2 cg00034376\n",
      "855 FDPS cg00034416\n",
      "856 CNIH3 cg00034433\n",
      "860 TMEM178 cg00034559\n",
      "861 ZBTB46 cg00034574\n",
      "862 RGS20 cg00034604\n",
      "863 C16orf81 cg00034611\n",
      "869 PQLC1 cg00034852\n",
      "870 RUNX3 cg00035000\n",
      "871 TTYH3 cg00035074\n",
      "872 CBFA2T3 cg00035197\n",
      "873 PTPRN2 cg00035220\n",
      "874 PUM1 cg00035237\n",
      "875 ARF1 cg00035249\n",
      "876 C6orf124 cg00035268\n",
      "877 HOXD8 cg00035316\n",
      "878 MTG1 cg00035326\n",
      "879 NT5C2 cg00035347\n",
      "883 {'ARID2', 'LOC400027'} cg00035453\n",
      "885 UBE2S cg00035623\n",
      "886 DEPDC7 cg00035630\n",
      "888 DAXX cg00035673\n",
      "889 ABI2 cg00035812\n",
      "890 MECR cg00035847\n",
      "892 KLF3 cg00035889\n",
      "893 C7orf50 cg00035923\n",
      "894 {'KRIT1', 'ANKIB1'} cg00035937\n",
      "895 PARM1 cg00035945\n",
      "898 {'HIST1H2BI', 'HIST1H3G'} cg00036011\n",
      "899 HPCAL4 cg00036110\n",
      "900 NUP107 cg00036115\n",
      "903 ADCY9 cg00036258\n",
      "904 KIF26B cg00036263\n",
      "905 GRIN2A cg00036299\n",
      "907 ARL6IP4 cg00036328\n",
      "908 {'LOC100132111', 'C2CD4D'} cg00036347\n",
      "910 MOGS cg00036386\n",
      "912 NAT15 cg00036440\n",
      "913 USP40 cg00036570\n",
      "916 C1orf54 cg00036599\n",
      "920 LZTS2 cg00036732\n",
      "922 {'OBSL1', 'INHA'} cg00036871\n",
      "925 DGKQ cg00037056\n",
      "926 RBM45 cg00037058\n",
      "927 C1orf63 cg00037072\n",
      "930 RRAD cg00037186\n",
      "931 MAZ cg00037223\n",
      "932 LPHN1 cg00037314\n",
      "933 EML6 cg00037388\n",
      "934 CPNE7 cg00037400\n",
      "936 RFX6 cg00037441\n",
      "937 PWP2 cg00037450\n",
      "947 {'MCOLN1', 'PNPLA6'} cg00038167\n",
      "949 TMEM101 cg00038239\n",
      "950 CCDC36 cg00038298\n",
      "951 PXDN cg00038342\n",
      "952 TFAP4 cg00038436\n",
      "954 INSL3 cg00038584\n",
      "957 LGI3 cg00038711\n",
      "958 GGN cg00038736\n",
      "961 FBXO31 cg00039016\n",
      "962 {'ENOPH1', 'HNRPDL'} cg00039044\n",
      "963 {'ZMAT5', 'UCRC'} cg00039057\n",
      "967 {'PCDHGA3', 'PCDHGA6', 'PCDHGA1', 'PCDHGA2', 'PCDHGA5', 'PCDHGB1', 'PCDHGA4', 'PCDHGB3', 'PCDHGB2'} cg00039176\n",
      "968 CUTA cg00039177\n",
      "969 TRAPPC3 cg00039326\n",
      "970 SEMA6B cg00039385\n",
      "971 HOXD13 cg00039441\n",
      "972 CREBBP cg00039463\n",
      "973 ABCA3 cg00039478\n",
      "974 SLC47A2 cg00039480\n",
      "977 TAX1BP1 cg00039564\n",
      "979 SFXN4 cg00039793\n",
      "980 CCDC138 cg00039794\n",
      "982 COL23A1 cg00039864\n",
      "984 PHF23 cg00039960\n",
      "985 DLL4 cg00040007\n",
      "986 KLHL2 cg00040008\n",
      "989 SLC25A12 cg00040027\n",
      "990 TANK cg00040047\n",
      "993 HOXA3 cg00040268\n",
      "994 {'HOXC5', 'HOXC4'} cg00040312\n",
      "997 RPS27 cg00040380\n",
      "1000 {'TRIM39', 'HCG18'} cg00040423\n",
      "1002 PODNL1 cg00040427\n",
      "1003 MYCL1 cg00040446\n",
      "1005 SMOC2 cg00040466\n",
      "1008 EBF3 cg00040566\n",
      "1010 MICAL3 cg00040575\n",
      "1011 MXRA8 cg00040588\n",
      "1014 CDH29 cg00040708\n",
      "1017 {'SPPL2B', 'LSM7'} cg00040861\n",
      "1019 NDUFB10 cg00040873\n",
      "1021 C15orf40 cg00040945\n",
      "1023 {'KTI12', 'TXNDC12'} cg00041014\n",
      "1024 SLC6A16 cg00041047\n",
      "1028 C17orf85 cg00041328\n",
      "1029 DLGAP1 cg00041368\n",
      "1031 MKI67IP cg00041467\n",
      "1034 UNC5A cg00041599\n",
      "1038 KLC2 cg00041759\n",
      "1042 TSNARE1 cg00041898\n",
      "1043 CD164 cg00041901\n",
      "1047 C1orf74 cg00042144\n",
      "1049 KCNK12 cg00042186\n",
      "1050 BOD1 cg00042208\n",
      "1051 PURA cg00042246\n",
      "1054 LOC728743 cg00042325\n",
      "1055 STOX1 cg00042335\n",
      "1057 PARK7 cg00042356\n",
      "1058 CCDC52 cg00042409\n",
      "1060 NR2C2 cg00042568\n",
      "1061 CCDC135 cg00042611\n",
      "1062 METTL13 cg00042657\n",
      "1063 SHF cg00042683\n",
      "1064 LASP1 cg00042837\n",
      "1065 PLEKHH3 cg00042874\n",
      "1066 AP1S1 cg00042882\n",
      "1067 {'AQP4', 'C18orf16'} cg00042914\n",
      "1068 NOXO1 cg00043004\n",
      "1069 DOT1L cg00043005\n",
      "1070 PEX1 cg00043043\n",
      "1072 {'PLD3', 'C19orf47'} cg00043080\n",
      "1073 SGPP2 cg00043095\n",
      "1074 TBC1D16 cg00043284\n",
      "1077 COG1 cg00043371\n",
      "1078 FGF3 cg00043379\n",
      "1080 GNG4 cg00043510\n",
      "1082 EMID2 cg00043564\n",
      "1084 BTBD19 cg00043599\n",
      "1085 VSX1 cg00043788\n",
      "1091 C16orf75 cg00044050\n",
      "1093 COL12A1 cg00044107\n",
      "1094 {'C12orf32', 'FOXM1'} cg00044170\n",
      "1095 EPHA7 cg00044245\n",
      "1096 POP5 cg00044289\n",
      "1097 KCTD1 cg00044299\n",
      "1098 WTIP cg00044318\n",
      "1099 {'WDR78', 'MIER1'} cg00044354\n",
      "1101 GLT25D2 cg00044463\n",
      "1108 ATP8A2 cg00044871\n",
      "1109 EHMT2 cg00044950\n",
      "1110 C2CD4C cg00044995\n",
      "1111 NSMAF cg00045061\n",
      "1118 SETD4 cg00045303\n",
      "1120 RBL1 cg00045515\n",
      "1124 PSMB9 cg00045690\n",
      "1126 PHF19 cg00045753\n",
      "1130 PWWP2B cg00045902\n",
      "1132 PPP1R12B cg00046018\n",
      "1133 PLOD3 cg00046021\n",
      "1134 COL20A1 cg00046026\n",
      "1135 SLC7A5P2 cg00046041\n",
      "1141 GPR149 cg00046499\n",
      "1142 TXNDC15 cg00046537\n",
      "1143 SNRPA1 cg00046560\n",
      "1144 PXDNL cg00046623\n",
      "1145 PDE4B cg00046625\n",
      "1146 LRP6 cg00046744\n",
      "1148 CAPS2 cg00046815\n",
      "1150 {'HAGH', 'FAHD1'} cg00046913\n",
      "1152 CUL5 cg00047050\n",
      "1158 {'CHKB-CPT1B', 'CPT1B'} cg00047287\n",
      "1159 BAHCC1 cg00047338\n",
      "1160 {'POLE3', 'C9orf43'} cg00047469\n",
      "1161 {'BZW1', 'BZW1L1'} cg00047501\n",
      "1167 PHF21B cg00047815\n",
      "1169 CBX2 cg00047844\n",
      "1170 GFOD1 cg00048178\n",
      "1176 {'PCDHGA3', 'PCDHGA6', 'PCDHGA7', 'PCDHGB3', 'PCDHGA1', 'PCDHGA8', 'PCDHGA2', 'PCDHGB5', 'PCDHGA5', 'PCDHGA9', 'PCDHGB1', 'PCDHGA4', 'PCDHGB4', 'PCDHGB2'} cg00048743\n",
      "1177 {'EFTUD2', 'CCDC103'} cg00048746\n",
      "1178 {'GPC2', 'STAG3'} cg00048759\n",
      "1181 CBLN1 cg00049033\n",
      "1182 GDNF cg00049047\n",
      "1184 TMED5 cg00049156\n",
      "1185 {'C1orf124', 'EXOC8'} cg00049253\n",
      "1186 TMEM177 cg00049286\n",
      "1187 LOC25845 cg00049323\n",
      "1188 {'KIAA1468', 'PIGN'} cg00049330\n",
      "1192 {'ACBD4', 'PLCD3'} cg00049411\n",
      "1193 KLF9 cg00049440\n",
      "1195 {'C12orf47', 'MAPKAPK5'} cg00049502\n",
      "1197 CLYBL cg00049616\n",
      "1198 CMTM2 cg00049664\n",
      "1200 PRDM16 cg00049709\n",
      "1206 NOM1 cg00049894\n",
      "1208 APPBP2 cg00049973\n",
      "1210 BTNL9 cg00050152\n",
      "1211 {'RNF213', 'LOC100294362'} cg00050224\n",
      "1224 SERPINB8 cg00050590\n",
      "1231 "
     ]
    },
    {
     "ename": "KeyboardInterrupt",
     "evalue": "",
     "output_type": "error",
     "traceback": [
      "\u001b[1;31m---------------------------------------------------------------------------\u001b[0m",
      "\u001b[1;31mKeyboardInterrupt\u001b[0m                         Traceback (most recent call last)",
      "\u001b[1;32m<ipython-input-73-d8ac48468ae3>\u001b[0m in \u001b[0;36m<module>\u001b[1;34m\u001b[0m\n\u001b[0;32m      1\u001b[0m \u001b[1;32mfor\u001b[0m \u001b[0mid_cpg\u001b[0m\u001b[1;33m,\u001b[0m \u001b[0mrow\u001b[0m \u001b[1;32min\u001b[0m \u001b[0mdf\u001b[0m\u001b[1;33m.\u001b[0m\u001b[0miterrows\u001b[0m\u001b[1;33m(\u001b[0m\u001b[1;33m)\u001b[0m\u001b[1;33m:\u001b[0m\u001b[1;33m\u001b[0m\u001b[1;33m\u001b[0m\u001b[0m\n\u001b[1;32m----> 2\u001b[1;33m     \u001b[0mprint\u001b[0m\u001b[1;33m(\u001b[0m\u001b[0mid_cpg\u001b[0m\u001b[1;33m,\u001b[0m \u001b[0mrow\u001b[0m\u001b[1;33m[\u001b[0m\u001b[1;34m'UCSC_REFGENE_NAME'\u001b[0m\u001b[1;33m]\u001b[0m\u001b[1;33m,\u001b[0m \u001b[0mrow\u001b[0m\u001b[1;33m[\u001b[0m\u001b[1;34m'ID_REF'\u001b[0m\u001b[1;33m]\u001b[0m\u001b[1;33m)\u001b[0m\u001b[1;33m\u001b[0m\u001b[1;33m\u001b[0m\u001b[0m\n\u001b[0m",
      "\u001b[1;32mC:\\ProgramData\\Anaconda3\\lib\\site-packages\\colorama\\ansitowin32.py\u001b[0m in \u001b[0;36mwrite\u001b[1;34m(self, text)\u001b[0m\n\u001b[0;32m     39\u001b[0m \u001b[1;33m\u001b[0m\u001b[0m\n\u001b[0;32m     40\u001b[0m     \u001b[1;32mdef\u001b[0m \u001b[0mwrite\u001b[0m\u001b[1;33m(\u001b[0m\u001b[0mself\u001b[0m\u001b[1;33m,\u001b[0m \u001b[0mtext\u001b[0m\u001b[1;33m)\u001b[0m\u001b[1;33m:\u001b[0m\u001b[1;33m\u001b[0m\u001b[1;33m\u001b[0m\u001b[0m\n\u001b[1;32m---> 41\u001b[1;33m         \u001b[0mself\u001b[0m\u001b[1;33m.\u001b[0m\u001b[0m__convertor\u001b[0m\u001b[1;33m.\u001b[0m\u001b[0mwrite\u001b[0m\u001b[1;33m(\u001b[0m\u001b[0mtext\u001b[0m\u001b[1;33m)\u001b[0m\u001b[1;33m\u001b[0m\u001b[1;33m\u001b[0m\u001b[0m\n\u001b[0m\u001b[0;32m     42\u001b[0m \u001b[1;33m\u001b[0m\u001b[0m\n\u001b[0;32m     43\u001b[0m     \u001b[1;32mdef\u001b[0m \u001b[0misatty\u001b[0m\u001b[1;33m(\u001b[0m\u001b[0mself\u001b[0m\u001b[1;33m)\u001b[0m\u001b[1;33m:\u001b[0m\u001b[1;33m\u001b[0m\u001b[1;33m\u001b[0m\u001b[0m\n",
      "\u001b[1;32mC:\\ProgramData\\Anaconda3\\lib\\site-packages\\colorama\\ansitowin32.py\u001b[0m in \u001b[0;36mwrite\u001b[1;34m(self, text)\u001b[0m\n\u001b[0;32m    160\u001b[0m     \u001b[1;32mdef\u001b[0m \u001b[0mwrite\u001b[0m\u001b[1;33m(\u001b[0m\u001b[0mself\u001b[0m\u001b[1;33m,\u001b[0m \u001b[0mtext\u001b[0m\u001b[1;33m)\u001b[0m\u001b[1;33m:\u001b[0m\u001b[1;33m\u001b[0m\u001b[1;33m\u001b[0m\u001b[0m\n\u001b[0;32m    161\u001b[0m         \u001b[1;32mif\u001b[0m \u001b[0mself\u001b[0m\u001b[1;33m.\u001b[0m\u001b[0mstrip\u001b[0m \u001b[1;32mor\u001b[0m \u001b[0mself\u001b[0m\u001b[1;33m.\u001b[0m\u001b[0mconvert\u001b[0m\u001b[1;33m:\u001b[0m\u001b[1;33m\u001b[0m\u001b[1;33m\u001b[0m\u001b[0m\n\u001b[1;32m--> 162\u001b[1;33m             \u001b[0mself\u001b[0m\u001b[1;33m.\u001b[0m\u001b[0mwrite_and_convert\u001b[0m\u001b[1;33m(\u001b[0m\u001b[0mtext\u001b[0m\u001b[1;33m)\u001b[0m\u001b[1;33m\u001b[0m\u001b[1;33m\u001b[0m\u001b[0m\n\u001b[0m\u001b[0;32m    163\u001b[0m         \u001b[1;32melse\u001b[0m\u001b[1;33m:\u001b[0m\u001b[1;33m\u001b[0m\u001b[1;33m\u001b[0m\u001b[0m\n\u001b[0;32m    164\u001b[0m             \u001b[0mself\u001b[0m\u001b[1;33m.\u001b[0m\u001b[0mwrapped\u001b[0m\u001b[1;33m.\u001b[0m\u001b[0mwrite\u001b[0m\u001b[1;33m(\u001b[0m\u001b[0mtext\u001b[0m\u001b[1;33m)\u001b[0m\u001b[1;33m\u001b[0m\u001b[1;33m\u001b[0m\u001b[0m\n",
      "\u001b[1;32mC:\\ProgramData\\Anaconda3\\lib\\site-packages\\colorama\\ansitowin32.py\u001b[0m in \u001b[0;36mwrite_and_convert\u001b[1;34m(self, text)\u001b[0m\n\u001b[0;32m    188\u001b[0m             \u001b[0mself\u001b[0m\u001b[1;33m.\u001b[0m\u001b[0mconvert_ansi\u001b[0m\u001b[1;33m(\u001b[0m\u001b[1;33m*\u001b[0m\u001b[0mmatch\u001b[0m\u001b[1;33m.\u001b[0m\u001b[0mgroups\u001b[0m\u001b[1;33m(\u001b[0m\u001b[1;33m)\u001b[0m\u001b[1;33m)\u001b[0m\u001b[1;33m\u001b[0m\u001b[1;33m\u001b[0m\u001b[0m\n\u001b[0;32m    189\u001b[0m             \u001b[0mcursor\u001b[0m \u001b[1;33m=\u001b[0m \u001b[0mend\u001b[0m\u001b[1;33m\u001b[0m\u001b[1;33m\u001b[0m\u001b[0m\n\u001b[1;32m--> 190\u001b[1;33m         \u001b[0mself\u001b[0m\u001b[1;33m.\u001b[0m\u001b[0mwrite_plain_text\u001b[0m\u001b[1;33m(\u001b[0m\u001b[0mtext\u001b[0m\u001b[1;33m,\u001b[0m \u001b[0mcursor\u001b[0m\u001b[1;33m,\u001b[0m \u001b[0mlen\u001b[0m\u001b[1;33m(\u001b[0m\u001b[0mtext\u001b[0m\u001b[1;33m)\u001b[0m\u001b[1;33m)\u001b[0m\u001b[1;33m\u001b[0m\u001b[1;33m\u001b[0m\u001b[0m\n\u001b[0m\u001b[0;32m    191\u001b[0m \u001b[1;33m\u001b[0m\u001b[0m\n\u001b[0;32m    192\u001b[0m \u001b[1;33m\u001b[0m\u001b[0m\n",
      "\u001b[1;32mC:\\ProgramData\\Anaconda3\\lib\\site-packages\\colorama\\ansitowin32.py\u001b[0m in \u001b[0;36mwrite_plain_text\u001b[1;34m(self, text, start, end)\u001b[0m\n\u001b[0;32m    194\u001b[0m         \u001b[1;32mif\u001b[0m \u001b[0mstart\u001b[0m \u001b[1;33m<\u001b[0m \u001b[0mend\u001b[0m\u001b[1;33m:\u001b[0m\u001b[1;33m\u001b[0m\u001b[1;33m\u001b[0m\u001b[0m\n\u001b[0;32m    195\u001b[0m             \u001b[0mself\u001b[0m\u001b[1;33m.\u001b[0m\u001b[0mwrapped\u001b[0m\u001b[1;33m.\u001b[0m\u001b[0mwrite\u001b[0m\u001b[1;33m(\u001b[0m\u001b[0mtext\u001b[0m\u001b[1;33m[\u001b[0m\u001b[0mstart\u001b[0m\u001b[1;33m:\u001b[0m\u001b[0mend\u001b[0m\u001b[1;33m]\u001b[0m\u001b[1;33m)\u001b[0m\u001b[1;33m\u001b[0m\u001b[1;33m\u001b[0m\u001b[0m\n\u001b[1;32m--> 196\u001b[1;33m             \u001b[0mself\u001b[0m\u001b[1;33m.\u001b[0m\u001b[0mwrapped\u001b[0m\u001b[1;33m.\u001b[0m\u001b[0mflush\u001b[0m\u001b[1;33m(\u001b[0m\u001b[1;33m)\u001b[0m\u001b[1;33m\u001b[0m\u001b[1;33m\u001b[0m\u001b[0m\n\u001b[0m\u001b[0;32m    197\u001b[0m \u001b[1;33m\u001b[0m\u001b[0m\n\u001b[0;32m    198\u001b[0m \u001b[1;33m\u001b[0m\u001b[0m\n",
      "\u001b[1;32mC:\\ProgramData\\Anaconda3\\lib\\site-packages\\ipykernel\\iostream.py\u001b[0m in \u001b[0;36mflush\u001b[1;34m(self)\u001b[0m\n\u001b[0;32m    347\u001b[0m                 \u001b[0mself\u001b[0m\u001b[1;33m.\u001b[0m\u001b[0mpub_thread\u001b[0m\u001b[1;33m.\u001b[0m\u001b[0mschedule\u001b[0m\u001b[1;33m(\u001b[0m\u001b[0mevt\u001b[0m\u001b[1;33m.\u001b[0m\u001b[0mset\u001b[0m\u001b[1;33m)\u001b[0m\u001b[1;33m\u001b[0m\u001b[1;33m\u001b[0m\u001b[0m\n\u001b[0;32m    348\u001b[0m                 \u001b[1;31m# and give a timeout to avoid\u001b[0m\u001b[1;33m\u001b[0m\u001b[1;33m\u001b[0m\u001b[1;33m\u001b[0m\u001b[0m\n\u001b[1;32m--> 349\u001b[1;33m                 \u001b[1;32mif\u001b[0m \u001b[1;32mnot\u001b[0m \u001b[0mevt\u001b[0m\u001b[1;33m.\u001b[0m\u001b[0mwait\u001b[0m\u001b[1;33m(\u001b[0m\u001b[0mself\u001b[0m\u001b[1;33m.\u001b[0m\u001b[0mflush_timeout\u001b[0m\u001b[1;33m)\u001b[0m\u001b[1;33m:\u001b[0m\u001b[1;33m\u001b[0m\u001b[1;33m\u001b[0m\u001b[0m\n\u001b[0m\u001b[0;32m    350\u001b[0m                     \u001b[1;31m# write directly to __stderr__ instead of warning because\u001b[0m\u001b[1;33m\u001b[0m\u001b[1;33m\u001b[0m\u001b[1;33m\u001b[0m\u001b[0m\n\u001b[0;32m    351\u001b[0m                     \u001b[1;31m# if this is happening sys.stderr may be the problem.\u001b[0m\u001b[1;33m\u001b[0m\u001b[1;33m\u001b[0m\u001b[1;33m\u001b[0m\u001b[0m\n",
      "\u001b[1;32mC:\\ProgramData\\Anaconda3\\lib\\threading.py\u001b[0m in \u001b[0;36mwait\u001b[1;34m(self, timeout)\u001b[0m\n\u001b[0;32m    550\u001b[0m             \u001b[0msignaled\u001b[0m \u001b[1;33m=\u001b[0m \u001b[0mself\u001b[0m\u001b[1;33m.\u001b[0m\u001b[0m_flag\u001b[0m\u001b[1;33m\u001b[0m\u001b[1;33m\u001b[0m\u001b[0m\n\u001b[0;32m    551\u001b[0m             \u001b[1;32mif\u001b[0m \u001b[1;32mnot\u001b[0m \u001b[0msignaled\u001b[0m\u001b[1;33m:\u001b[0m\u001b[1;33m\u001b[0m\u001b[1;33m\u001b[0m\u001b[0m\n\u001b[1;32m--> 552\u001b[1;33m                 \u001b[0msignaled\u001b[0m \u001b[1;33m=\u001b[0m \u001b[0mself\u001b[0m\u001b[1;33m.\u001b[0m\u001b[0m_cond\u001b[0m\u001b[1;33m.\u001b[0m\u001b[0mwait\u001b[0m\u001b[1;33m(\u001b[0m\u001b[0mtimeout\u001b[0m\u001b[1;33m)\u001b[0m\u001b[1;33m\u001b[0m\u001b[1;33m\u001b[0m\u001b[0m\n\u001b[0m\u001b[0;32m    553\u001b[0m             \u001b[1;32mreturn\u001b[0m \u001b[0msignaled\u001b[0m\u001b[1;33m\u001b[0m\u001b[1;33m\u001b[0m\u001b[0m\n\u001b[0;32m    554\u001b[0m \u001b[1;33m\u001b[0m\u001b[0m\n",
      "\u001b[1;32mC:\\ProgramData\\Anaconda3\\lib\\threading.py\u001b[0m in \u001b[0;36mwait\u001b[1;34m(self, timeout)\u001b[0m\n\u001b[0;32m    298\u001b[0m             \u001b[1;32melse\u001b[0m\u001b[1;33m:\u001b[0m\u001b[1;33m\u001b[0m\u001b[1;33m\u001b[0m\u001b[0m\n\u001b[0;32m    299\u001b[0m                 \u001b[1;32mif\u001b[0m \u001b[0mtimeout\u001b[0m \u001b[1;33m>\u001b[0m \u001b[1;36m0\u001b[0m\u001b[1;33m:\u001b[0m\u001b[1;33m\u001b[0m\u001b[1;33m\u001b[0m\u001b[0m\n\u001b[1;32m--> 300\u001b[1;33m                     \u001b[0mgotit\u001b[0m \u001b[1;33m=\u001b[0m \u001b[0mwaiter\u001b[0m\u001b[1;33m.\u001b[0m\u001b[0macquire\u001b[0m\u001b[1;33m(\u001b[0m\u001b[1;32mTrue\u001b[0m\u001b[1;33m,\u001b[0m \u001b[0mtimeout\u001b[0m\u001b[1;33m)\u001b[0m\u001b[1;33m\u001b[0m\u001b[1;33m\u001b[0m\u001b[0m\n\u001b[0m\u001b[0;32m    301\u001b[0m                 \u001b[1;32melse\u001b[0m\u001b[1;33m:\u001b[0m\u001b[1;33m\u001b[0m\u001b[1;33m\u001b[0m\u001b[0m\n\u001b[0;32m    302\u001b[0m                     \u001b[0mgotit\u001b[0m \u001b[1;33m=\u001b[0m \u001b[0mwaiter\u001b[0m\u001b[1;33m.\u001b[0m\u001b[0macquire\u001b[0m\u001b[1;33m(\u001b[0m\u001b[1;32mFalse\u001b[0m\u001b[1;33m)\u001b[0m\u001b[1;33m\u001b[0m\u001b[1;33m\u001b[0m\u001b[0m\n",
      "\u001b[1;31mKeyboardInterrupt\u001b[0m: "
     ]
    }
   ],
   "source": [
    "gene_sum = defaultdict([0, 0])\n",
    "for id_cpg, row in df.iterrows():\n",
    "    print(id_cpg, row['UCSC_REFGENE_NAME'], row['ID_REF'])\n",
    "    for x in list(row['UCSC_REFGENE_NAME']):\n",
    "        gene_sum[x] += row['']"
   ]
  },
  {
   "cell_type": "code",
   "execution_count": 54,
   "metadata": {},
   "outputs": [
    {
     "name": "stderr",
     "output_type": "stream",
     "text": [
      "4it [00:15,  3.95s/it]"
     ]
    },
    {
     "ename": "KeyboardInterrupt",
     "evalue": "",
     "output_type": "error",
     "traceback": [
      "\u001b[1;31m---------------------------------------------------------------------------\u001b[0m",
      "\u001b[1;31mKeyboardInterrupt\u001b[0m                         Traceback (most recent call last)",
      "\u001b[1;32m<ipython-input-54-a4960a5fa54c>\u001b[0m in \u001b[0;36m<module>\u001b[1;34m\u001b[0m\n\u001b[0;32m      4\u001b[0m \u001b[1;32mfor\u001b[0m \u001b[0mi\u001b[0m\u001b[1;33m,\u001b[0m \u001b[0mgene\u001b[0m \u001b[1;32min\u001b[0m \u001b[0mtqdm\u001b[0m\u001b[1;33m(\u001b[0m\u001b[0menumerate\u001b[0m\u001b[1;33m(\u001b[0m\u001b[0mgenes\u001b[0m\u001b[1;33m)\u001b[0m\u001b[1;33m,\u001b[0m \u001b[0mncols\u001b[0m \u001b[1;33m=\u001b[0m \u001b[1;36m100\u001b[0m\u001b[1;33m)\u001b[0m\u001b[1;33m:\u001b[0m\u001b[1;33m\u001b[0m\u001b[1;33m\u001b[0m\u001b[0m\n\u001b[0;32m      5\u001b[0m     \u001b[0mcur_crit\u001b[0m\u001b[1;33m[\u001b[0m\u001b[1;34m'gene_in'\u001b[0m\u001b[1;33m]\u001b[0m \u001b[1;33m=\u001b[0m \u001b[0mgene\u001b[0m\u001b[1;33m\u001b[0m\u001b[1;33m\u001b[0m\u001b[0m\n\u001b[1;32m----> 6\u001b[1;33m     \u001b[0mcpgs_names\u001b[0m\u001b[1;33m,\u001b[0m \u001b[0mids\u001b[0m \u001b[1;33m=\u001b[0m \u001b[0mcpgs\u001b[0m\u001b[1;33m.\u001b[0m\u001b[0mget_cpgs\u001b[0m\u001b[1;33m(\u001b[0m\u001b[0mcur_crit\u001b[0m\u001b[1;33m)\u001b[0m\u001b[1;33m\u001b[0m\u001b[1;33m\u001b[0m\u001b[0m\n\u001b[0m\u001b[0;32m      7\u001b[0m     \u001b[0mcpgs_names\u001b[0m\u001b[1;33m,\u001b[0m \u001b[0mids\u001b[0m\u001b[1;33m,\u001b[0m \u001b[0mids2\u001b[0m \u001b[1;33m=\u001b[0m \u001b[0mnp\u001b[0m\u001b[1;33m.\u001b[0m\u001b[0mintersect1d\u001b[0m\u001b[1;33m(\u001b[0m\u001b[0mall_features_names\u001b[0m\u001b[1;33m,\u001b[0m \u001b[0mcpgs_names\u001b[0m\u001b[1;33m,\u001b[0m \u001b[0mreturn_indices\u001b[0m \u001b[1;33m=\u001b[0m \u001b[1;32mTrue\u001b[0m\u001b[1;33m)\u001b[0m\u001b[1;33m\u001b[0m\u001b[1;33m\u001b[0m\u001b[0m\n\u001b[0;32m      8\u001b[0m     \u001b[0mcur\u001b[0m \u001b[1;33m=\u001b[0m \u001b[0mnp\u001b[0m\u001b[1;33m.\u001b[0m\u001b[0mmean\u001b[0m\u001b[1;33m(\u001b[0m\u001b[0mX\u001b[0m\u001b[1;33m[\u001b[0m\u001b[1;33m:\u001b[0m\u001b[1;33m,\u001b[0m \u001b[0mids\u001b[0m\u001b[1;33m]\u001b[0m\u001b[1;33m,\u001b[0m \u001b[0maxis\u001b[0m \u001b[1;33m=\u001b[0m \u001b[1;36m1\u001b[0m\u001b[1;33m)\u001b[0m\u001b[1;33m\u001b[0m\u001b[1;33m\u001b[0m\u001b[0m\n",
      "\u001b[1;32mF:\\PC\\UNN\\Scientific\\Gerontology\\Programs\\parenclitic\\src\\annotations\\cpgs.py\u001b[0m in \u001b[0;36mget_cpgs\u001b[1;34m(self, criterions)\u001b[0m\n\u001b[0;32m     98\u001b[0m     \u001b[1;31m# cur, ids = cpgs.get_cpgs({'chr_in': ['22'], 'geotype_ex': ['Island'], 'gene_ex': [np.NaN]})\u001b[0m\u001b[1;33m\u001b[0m\u001b[1;33m\u001b[0m\u001b[1;33m\u001b[0m\u001b[0m\n\u001b[0;32m     99\u001b[0m     \u001b[1;32mdef\u001b[0m \u001b[0mget_cpgs\u001b[0m\u001b[1;33m(\u001b[0m\u001b[0mself\u001b[0m\u001b[1;33m,\u001b[0m \u001b[0mcriterions\u001b[0m \u001b[1;33m=\u001b[0m \u001b[1;32mNone\u001b[0m\u001b[1;33m)\u001b[0m\u001b[1;33m:\u001b[0m\u001b[1;33m\u001b[0m\u001b[1;33m\u001b[0m\u001b[0m\n\u001b[1;32m--> 100\u001b[1;33m         \u001b[0mcpgs\u001b[0m \u001b[1;33m=\u001b[0m \u001b[0mself\u001b[0m\u001b[1;33m.\u001b[0m\u001b[0mdf_cpgs\u001b[0m\u001b[1;33m[\u001b[0m\u001b[0mself\u001b[0m\u001b[1;33m.\u001b[0m\u001b[0mcrit_cols\u001b[0m\u001b[1;33m[\u001b[0m\u001b[1;34m'cpgs'\u001b[0m\u001b[1;33m]\u001b[0m\u001b[1;33m]\u001b[0m\u001b[1;33m[\u001b[0m\u001b[0mself\u001b[0m\u001b[1;33m.\u001b[0m\u001b[0mget_crits_mask\u001b[0m\u001b[1;33m(\u001b[0m\u001b[0mcriterions\u001b[0m\u001b[1;33m)\u001b[0m\u001b[1;33m]\u001b[0m\u001b[1;33m\u001b[0m\u001b[1;33m\u001b[0m\u001b[0m\n\u001b[0m\u001b[0;32m    101\u001b[0m         \u001b[1;32mreturn\u001b[0m \u001b[0mcpgs\u001b[0m\u001b[1;33m.\u001b[0m\u001b[0mvalues\u001b[0m\u001b[1;33m,\u001b[0m \u001b[0mcpgs\u001b[0m\u001b[1;33m.\u001b[0m\u001b[0mindex\u001b[0m\u001b[1;33m.\u001b[0m\u001b[0mvalues\u001b[0m\u001b[1;33m\u001b[0m\u001b[1;33m\u001b[0m\u001b[0m\n\u001b[0;32m    102\u001b[0m \u001b[1;33m\u001b[0m\u001b[0m\n",
      "\u001b[1;32mF:\\PC\\UNN\\Scientific\\Gerontology\\Programs\\parenclitic\\src\\annotations\\cpgs.py\u001b[0m in \u001b[0;36mget_crits_mask\u001b[1;34m(self, criterions)\u001b[0m\n\u001b[0;32m     82\u001b[0m                 \u001b[0mcrit_col\u001b[0m\u001b[1;33m,\u001b[0m \u001b[0mcrit_type\u001b[0m \u001b[1;33m=\u001b[0m \u001b[0mself\u001b[0m\u001b[1;33m.\u001b[0m\u001b[0msplit_crit_name\u001b[0m\u001b[1;33m(\u001b[0m\u001b[0mcrit_name\u001b[0m\u001b[1;33m)\u001b[0m\u001b[1;33m\u001b[0m\u001b[1;33m\u001b[0m\u001b[0m\n\u001b[0;32m     83\u001b[0m                 \u001b[1;32mif\u001b[0m \u001b[0mcrit_col\u001b[0m \u001b[1;32min\u001b[0m \u001b[0mself\u001b[0m\u001b[1;33m.\u001b[0m\u001b[0mcrit_cols\u001b[0m \u001b[1;32mand\u001b[0m \u001b[0mcrit_type\u001b[0m \u001b[1;32min\u001b[0m \u001b[0mself\u001b[0m\u001b[1;33m.\u001b[0m\u001b[0mcrit_types\u001b[0m\u001b[1;33m:\u001b[0m\u001b[1;33m\u001b[0m\u001b[1;33m\u001b[0m\u001b[0m\n\u001b[1;32m---> 84\u001b[1;33m                     \u001b[0mcrit_mask\u001b[0m \u001b[1;33m=\u001b[0m \u001b[0mself\u001b[0m\u001b[1;33m.\u001b[0m\u001b[0mget_crit_mask\u001b[0m\u001b[1;33m(\u001b[0m\u001b[0mcrit_col\u001b[0m\u001b[1;33m,\u001b[0m \u001b[0mcrit_type\u001b[0m\u001b[1;33m,\u001b[0m \u001b[0mcrit_list\u001b[0m\u001b[1;33m)\u001b[0m\u001b[1;33m\u001b[0m\u001b[1;33m\u001b[0m\u001b[0m\n\u001b[0m\u001b[0;32m     85\u001b[0m                     \u001b[1;32mif\u001b[0m \u001b[0mcrit_all\u001b[0m \u001b[1;32mis\u001b[0m \u001b[1;32mNone\u001b[0m\u001b[1;33m:\u001b[0m\u001b[1;33m\u001b[0m\u001b[1;33m\u001b[0m\u001b[0m\n\u001b[0;32m     86\u001b[0m                         \u001b[0mcrit_all\u001b[0m \u001b[1;33m=\u001b[0m \u001b[0mcrit_mask\u001b[0m\u001b[1;33m\u001b[0m\u001b[1;33m\u001b[0m\u001b[0m\n",
      "\u001b[1;32mF:\\PC\\UNN\\Scientific\\Gerontology\\Programs\\parenclitic\\src\\annotations\\cpgs.py\u001b[0m in \u001b[0;36mget_crit_mask\u001b[1;34m(self, crit_col, crit_type, crit_list)\u001b[0m\n\u001b[0;32m     53\u001b[0m                 \u001b[0mcrit_mask\u001b[0m \u001b[1;33m=\u001b[0m \u001b[0mcrit_mask\u001b[0m \u001b[1;33m|\u001b[0m \u001b[0mself\u001b[0m\u001b[1;33m.\u001b[0m\u001b[0mdf_cpgs_set\u001b[0m\u001b[1;33m[\u001b[0m\u001b[0mcol\u001b[0m\u001b[1;33m]\u001b[0m\u001b[1;33m.\u001b[0m\u001b[0mmap\u001b[0m\u001b[1;33m(\u001b[0m\u001b[1;32mlambda\u001b[0m \u001b[0mx\u001b[0m\u001b[1;33m:\u001b[0m \u001b[1;33m(\u001b[0m\u001b[0mtype\u001b[0m\u001b[1;33m(\u001b[0m\u001b[0mx\u001b[0m\u001b[1;33m)\u001b[0m \u001b[1;32mis\u001b[0m \u001b[0mfloat\u001b[0m \u001b[1;32mand\u001b[0m \u001b[0mmath\u001b[0m\u001b[1;33m.\u001b[0m\u001b[0misnan\u001b[0m\u001b[1;33m(\u001b[0m\u001b[0mx\u001b[0m\u001b[1;33m)\u001b[0m\u001b[1;33m)\u001b[0m\u001b[1;33m)\u001b[0m\u001b[1;33m\u001b[0m\u001b[1;33m\u001b[0m\u001b[0m\n\u001b[0;32m     54\u001b[0m         \u001b[1;32melif\u001b[0m \u001b[0mcrit_type\u001b[0m \u001b[1;33m==\u001b[0m \u001b[1;34m'ex'\u001b[0m \u001b[1;32mor\u001b[0m \u001b[0mcrit_type\u001b[0m \u001b[1;33m==\u001b[0m \u001b[1;34m'out'\u001b[0m\u001b[1;33m:\u001b[0m\u001b[1;33m\u001b[0m\u001b[1;33m\u001b[0m\u001b[0m\n\u001b[1;32m---> 55\u001b[1;33m             \u001b[0mcrit_mask\u001b[0m \u001b[1;33m=\u001b[0m \u001b[0mself\u001b[0m\u001b[1;33m.\u001b[0m\u001b[0mdf_cpgs_set\u001b[0m\u001b[1;33m[\u001b[0m\u001b[0mcol\u001b[0m\u001b[1;33m]\u001b[0m\u001b[1;33m.\u001b[0m\u001b[0mmap\u001b[0m\u001b[1;33m(\u001b[0m\u001b[1;32mlambda\u001b[0m \u001b[0mx\u001b[0m\u001b[1;33m:\u001b[0m \u001b[1;32mnot\u001b[0m \u001b[1;33m(\u001b[0m\u001b[0mis_intersect\u001b[0m\u001b[1;33m(\u001b[0m\u001b[0mx\u001b[0m\u001b[1;33m,\u001b[0m \u001b[0mcrit_list\u001b[0m\u001b[1;33m)\u001b[0m\u001b[1;33m)\u001b[0m\u001b[1;33m)\u001b[0m\u001b[1;33m\u001b[0m\u001b[1;33m\u001b[0m\u001b[0m\n\u001b[0m\u001b[0;32m     56\u001b[0m             \u001b[1;32mif\u001b[0m \u001b[0mnan\u001b[0m\u001b[1;33m:\u001b[0m\u001b[1;33m\u001b[0m\u001b[1;33m\u001b[0m\u001b[0m\n\u001b[0;32m     57\u001b[0m                 \u001b[0mcrit_mask\u001b[0m \u001b[1;33m=\u001b[0m \u001b[0mcrit_mask\u001b[0m \u001b[1;33m&\u001b[0m \u001b[0mself\u001b[0m\u001b[1;33m.\u001b[0m\u001b[0mdf_cpgs_set\u001b[0m\u001b[1;33m[\u001b[0m\u001b[0mcol\u001b[0m\u001b[1;33m]\u001b[0m\u001b[1;33m.\u001b[0m\u001b[0mmap\u001b[0m\u001b[1;33m(\u001b[0m\u001b[1;32mlambda\u001b[0m \u001b[0mx\u001b[0m\u001b[1;33m:\u001b[0m \u001b[1;32mnot\u001b[0m \u001b[1;33m(\u001b[0m\u001b[0mtype\u001b[0m\u001b[1;33m(\u001b[0m\u001b[0mx\u001b[0m\u001b[1;33m)\u001b[0m \u001b[1;32mis\u001b[0m \u001b[0mfloat\u001b[0m \u001b[1;32mand\u001b[0m \u001b[0mmath\u001b[0m\u001b[1;33m.\u001b[0m\u001b[0misnan\u001b[0m\u001b[1;33m(\u001b[0m\u001b[0mx\u001b[0m\u001b[1;33m)\u001b[0m\u001b[1;33m)\u001b[0m\u001b[1;33m)\u001b[0m\u001b[1;33m\u001b[0m\u001b[1;33m\u001b[0m\u001b[0m\n",
      "\u001b[1;32mC:\\ProgramData\\Anaconda3\\lib\\site-packages\\pandas\\core\\series.py\u001b[0m in \u001b[0;36mmap\u001b[1;34m(self, arg, na_action)\u001b[0m\n\u001b[0;32m   3380\u001b[0m         \"\"\"\n\u001b[0;32m   3381\u001b[0m         new_values = super(Series, self)._map_values(\n\u001b[1;32m-> 3382\u001b[1;33m             arg, na_action=na_action)\n\u001b[0m\u001b[0;32m   3383\u001b[0m         return self._constructor(new_values,\n\u001b[0;32m   3384\u001b[0m                                  index=self.index).__finalize__(self)\n",
      "\u001b[1;32mC:\\ProgramData\\Anaconda3\\lib\\site-packages\\pandas\\core\\base.py\u001b[0m in \u001b[0;36m_map_values\u001b[1;34m(self, mapper, na_action)\u001b[0m\n\u001b[0;32m   1216\u001b[0m \u001b[1;33m\u001b[0m\u001b[0m\n\u001b[0;32m   1217\u001b[0m         \u001b[1;31m# mapper is a function\u001b[0m\u001b[1;33m\u001b[0m\u001b[1;33m\u001b[0m\u001b[1;33m\u001b[0m\u001b[0m\n\u001b[1;32m-> 1218\u001b[1;33m         \u001b[0mnew_values\u001b[0m \u001b[1;33m=\u001b[0m \u001b[0mmap_f\u001b[0m\u001b[1;33m(\u001b[0m\u001b[0mvalues\u001b[0m\u001b[1;33m,\u001b[0m \u001b[0mmapper\u001b[0m\u001b[1;33m)\u001b[0m\u001b[1;33m\u001b[0m\u001b[1;33m\u001b[0m\u001b[0m\n\u001b[0m\u001b[0;32m   1219\u001b[0m \u001b[1;33m\u001b[0m\u001b[0m\n\u001b[0;32m   1220\u001b[0m         \u001b[1;32mreturn\u001b[0m \u001b[0mnew_values\u001b[0m\u001b[1;33m\u001b[0m\u001b[1;33m\u001b[0m\u001b[0m\n",
      "\u001b[1;32mpandas/_libs/lib.pyx\u001b[0m in \u001b[0;36mpandas._libs.lib.map_infer\u001b[1;34m()\u001b[0m\n",
      "\u001b[1;32mF:\\PC\\UNN\\Scientific\\Gerontology\\Programs\\parenclitic\\src\\annotations\\cpgs.py\u001b[0m in \u001b[0;36m<lambda>\u001b[1;34m(x)\u001b[0m\n\u001b[0;32m     53\u001b[0m                 \u001b[0mcrit_mask\u001b[0m \u001b[1;33m=\u001b[0m \u001b[0mcrit_mask\u001b[0m \u001b[1;33m|\u001b[0m \u001b[0mself\u001b[0m\u001b[1;33m.\u001b[0m\u001b[0mdf_cpgs_set\u001b[0m\u001b[1;33m[\u001b[0m\u001b[0mcol\u001b[0m\u001b[1;33m]\u001b[0m\u001b[1;33m.\u001b[0m\u001b[0mmap\u001b[0m\u001b[1;33m(\u001b[0m\u001b[1;32mlambda\u001b[0m \u001b[0mx\u001b[0m\u001b[1;33m:\u001b[0m \u001b[1;33m(\u001b[0m\u001b[0mtype\u001b[0m\u001b[1;33m(\u001b[0m\u001b[0mx\u001b[0m\u001b[1;33m)\u001b[0m \u001b[1;32mis\u001b[0m \u001b[0mfloat\u001b[0m \u001b[1;32mand\u001b[0m \u001b[0mmath\u001b[0m\u001b[1;33m.\u001b[0m\u001b[0misnan\u001b[0m\u001b[1;33m(\u001b[0m\u001b[0mx\u001b[0m\u001b[1;33m)\u001b[0m\u001b[1;33m)\u001b[0m\u001b[1;33m)\u001b[0m\u001b[1;33m\u001b[0m\u001b[1;33m\u001b[0m\u001b[0m\n\u001b[0;32m     54\u001b[0m         \u001b[1;32melif\u001b[0m \u001b[0mcrit_type\u001b[0m \u001b[1;33m==\u001b[0m \u001b[1;34m'ex'\u001b[0m \u001b[1;32mor\u001b[0m \u001b[0mcrit_type\u001b[0m \u001b[1;33m==\u001b[0m \u001b[1;34m'out'\u001b[0m\u001b[1;33m:\u001b[0m\u001b[1;33m\u001b[0m\u001b[1;33m\u001b[0m\u001b[0m\n\u001b[1;32m---> 55\u001b[1;33m             \u001b[0mcrit_mask\u001b[0m \u001b[1;33m=\u001b[0m \u001b[0mself\u001b[0m\u001b[1;33m.\u001b[0m\u001b[0mdf_cpgs_set\u001b[0m\u001b[1;33m[\u001b[0m\u001b[0mcol\u001b[0m\u001b[1;33m]\u001b[0m\u001b[1;33m.\u001b[0m\u001b[0mmap\u001b[0m\u001b[1;33m(\u001b[0m\u001b[1;32mlambda\u001b[0m \u001b[0mx\u001b[0m\u001b[1;33m:\u001b[0m \u001b[1;32mnot\u001b[0m \u001b[1;33m(\u001b[0m\u001b[0mis_intersect\u001b[0m\u001b[1;33m(\u001b[0m\u001b[0mx\u001b[0m\u001b[1;33m,\u001b[0m \u001b[0mcrit_list\u001b[0m\u001b[1;33m)\u001b[0m\u001b[1;33m)\u001b[0m\u001b[1;33m)\u001b[0m\u001b[1;33m\u001b[0m\u001b[1;33m\u001b[0m\u001b[0m\n\u001b[0m\u001b[0;32m     56\u001b[0m             \u001b[1;32mif\u001b[0m \u001b[0mnan\u001b[0m\u001b[1;33m:\u001b[0m\u001b[1;33m\u001b[0m\u001b[1;33m\u001b[0m\u001b[0m\n\u001b[0;32m     57\u001b[0m                 \u001b[0mcrit_mask\u001b[0m \u001b[1;33m=\u001b[0m \u001b[0mcrit_mask\u001b[0m \u001b[1;33m&\u001b[0m \u001b[0mself\u001b[0m\u001b[1;33m.\u001b[0m\u001b[0mdf_cpgs_set\u001b[0m\u001b[1;33m[\u001b[0m\u001b[0mcol\u001b[0m\u001b[1;33m]\u001b[0m\u001b[1;33m.\u001b[0m\u001b[0mmap\u001b[0m\u001b[1;33m(\u001b[0m\u001b[1;32mlambda\u001b[0m \u001b[0mx\u001b[0m\u001b[1;33m:\u001b[0m \u001b[1;32mnot\u001b[0m \u001b[1;33m(\u001b[0m\u001b[0mtype\u001b[0m\u001b[1;33m(\u001b[0m\u001b[0mx\u001b[0m\u001b[1;33m)\u001b[0m \u001b[1;32mis\u001b[0m \u001b[0mfloat\u001b[0m \u001b[1;32mand\u001b[0m \u001b[0mmath\u001b[0m\u001b[1;33m.\u001b[0m\u001b[0misnan\u001b[0m\u001b[1;33m(\u001b[0m\u001b[0mx\u001b[0m\u001b[1;33m)\u001b[0m\u001b[1;33m)\u001b[0m\u001b[1;33m)\u001b[0m\u001b[1;33m\u001b[0m\u001b[1;33m\u001b[0m\u001b[0m\n",
      "\u001b[1;32mF:\\PC\\UNN\\Scientific\\Gerontology\\Programs\\parenclitic\\src\\annotations\\cpgs.py\u001b[0m in \u001b[0;36mis_intersect\u001b[1;34m(a, b)\u001b[0m\n\u001b[0;32m     12\u001b[0m     \u001b[1;32mif\u001b[0m \u001b[0mlen\u001b[0m\u001b[1;33m(\u001b[0m\u001b[0ma\u001b[0m\u001b[1;33m)\u001b[0m \u001b[1;33m>\u001b[0m \u001b[0mlen\u001b[0m\u001b[1;33m(\u001b[0m\u001b[0mb\u001b[0m\u001b[1;33m)\u001b[0m\u001b[1;33m:\u001b[0m\u001b[1;33m\u001b[0m\u001b[1;33m\u001b[0m\u001b[0m\n\u001b[0;32m     13\u001b[0m         \u001b[0ma\u001b[0m\u001b[1;33m,\u001b[0m \u001b[0mb\u001b[0m \u001b[1;33m=\u001b[0m \u001b[0mb\u001b[0m\u001b[1;33m,\u001b[0m \u001b[0ma\u001b[0m\u001b[1;33m\u001b[0m\u001b[1;33m\u001b[0m\u001b[0m\n\u001b[1;32m---> 14\u001b[1;33m     \u001b[1;32mif\u001b[0m \u001b[0mtype\u001b[0m\u001b[1;33m(\u001b[0m\u001b[0mb\u001b[0m\u001b[1;33m)\u001b[0m \u001b[1;32mis\u001b[0m \u001b[0mset\u001b[0m\u001b[1;33m:\u001b[0m\u001b[1;33m\u001b[0m\u001b[1;33m\u001b[0m\u001b[0m\n\u001b[0m\u001b[0;32m     15\u001b[0m         \u001b[1;32mreturn\u001b[0m \u001b[0mbool\u001b[0m\u001b[1;33m(\u001b[0m\u001b[0mb\u001b[0m\u001b[1;33m.\u001b[0m\u001b[0mintersection\u001b[0m\u001b[1;33m(\u001b[0m\u001b[0ma\u001b[0m\u001b[1;33m)\u001b[0m\u001b[1;33m)\u001b[0m\u001b[1;33m\u001b[0m\u001b[1;33m\u001b[0m\u001b[0m\n\u001b[0;32m     16\u001b[0m     \u001b[1;32mreturn\u001b[0m \u001b[0mbool\u001b[0m\u001b[1;33m(\u001b[0m\u001b[0mset\u001b[0m\u001b[1;33m(\u001b[0m\u001b[0ma\u001b[0m\u001b[1;33m)\u001b[0m\u001b[1;33m.\u001b[0m\u001b[0mintersection\u001b[0m\u001b[1;33m(\u001b[0m\u001b[0mb\u001b[0m\u001b[1;33m)\u001b[0m\u001b[1;33m)\u001b[0m\u001b[1;33m\u001b[0m\u001b[1;33m\u001b[0m\u001b[0m\n",
      "\u001b[1;31mKeyboardInterrupt\u001b[0m: "
     ]
    }
   ],
   "source": [
    "from tqdm import tqdm\n",
    "cur_crit = crit\n",
    "Xg = np.zeros((X.shape[0], len(genes)))\n",
    "for i, gene in tqdm(enumerate(genes), ncols = 100):\n",
    "    cur_crit['gene_in'] = gene\n",
    "    cpgs_names, ids = cpgs.get_cpgs(cur_crit)\n",
    "    cpgs_names, ids, ids2 = np.intersect1d(all_features_names, cpgs_names, return_indices = True)\n",
    "    cur = np.mean(X[:, ids], axis = 1)\n",
    "    Xg[:, i] = cur\n",
    "    #print(cur.shape)\n",
    "    #break"
   ]
  },
  {
   "cell_type": "code",
   "execution_count": null,
   "metadata": {},
   "outputs": [],
   "source": [
    "df.group"
   ]
  },
  {
   "cell_type": "code",
   "execution_count": 43,
   "metadata": {},
   "outputs": [
    {
     "data": {
      "text/plain": [
       "15072"
      ]
     },
     "execution_count": 43,
     "metadata": {},
     "output_type": "execute_result"
    }
   ],
   "source": [
    "len(genes)\n",
    "    "
   ]
  },
  {
   "cell_type": "code",
   "execution_count": null,
   "metadata": {},
   "outputs": [],
   "source": [
    "\n",
    "#cur = cpgs.get_sub_frame({'chr_in': ['22'], 'geotype_ex': ['Island']})\n",
    "#df = cpgs.get_cpgs({'chr_in': ['22'], 'geotype_ex': ['Island']})\n",
    "cpgs_names, _ = cpgs.get_cpgs({'gene_out': [np.NaN]})\n",
    "cpgs_ids = np.array([y for x in cpgs_names for y in np.flatnonzero(all_features_names == x).tolist()])"
   ]
  },
  {
   "cell_type": "code",
   "execution_count": 16,
   "metadata": {},
   "outputs": [
    {
     "data": {
      "text/plain": [
       "14756"
      ]
     },
     "execution_count": 16,
     "metadata": {},
     "output_type": "execute_result"
    }
   ],
   "source": [
    "len(all_features_names)"
   ]
  },
  {
   "cell_type": "code",
   "execution_count": 21,
   "metadata": {},
   "outputs": [],
   "source": [
    "genes_names = np.loadtxt('D:\\\\PC\\\\UNN\\\\Science\\\\Gerontology\\\\data\\\\GSE52588\\\\genes_names.txt', dtype = 'str')"
   ]
  },
  {
   "cell_type": "code",
   "execution_count": 22,
   "metadata": {},
   "outputs": [
    {
     "data": {
      "text/plain": [
       "15024"
      ]
     },
     "execution_count": 22,
     "metadata": {},
     "output_type": "execute_result"
    }
   ],
   "source": [
    "len(genes_names)"
   ]
  },
  {
   "cell_type": "code",
   "execution_count": 23,
   "metadata": {},
   "outputs": [
    {
     "data": {
      "text/plain": [
       "array(['SOX9', 'L3MBTL', 'KHSRP', ..., 'TMED3', 'C6orf114', 'CDK5R2'],\n",
       "      dtype='<U18')"
      ]
     },
     "execution_count": 23,
     "metadata": {},
     "output_type": "execute_result"
    }
   ],
   "source": [
    "genes_names"
   ]
  },
  {
   "cell_type": "code",
   "execution_count": 42,
   "metadata": {},
   "outputs": [],
   "source": [
    "new_names, ids1, ids2 = np.intersect1d(all_features_names, genes_names, return_indices = True, assume_unique = True)"
   ]
  },
  {
   "cell_type": "code",
   "execution_count": 43,
   "metadata": {},
   "outputs": [
    {
     "data": {
      "text/plain": [
       "(13747, 6785)"
      ]
     },
     "execution_count": 43,
     "metadata": {},
     "output_type": "execute_result"
    }
   ],
   "source": [
    "all_features_names[ids1[0]], genes_names[ids2[0]]\n",
    "ids1[0], ids2[0]"
   ]
  },
  {
   "cell_type": "code",
   "execution_count": 55,
   "metadata": {},
   "outputs": [
    {
     "name": "stderr",
     "output_type": "stream",
     "text": [
      "\r",
      "  0%|                                                                     | 0/15024 [00:00<?, ?it/s]"
     ]
    },
    {
     "ename": "IndexError",
     "evalue": "index 0 is out of bounds for axis 0 with size 0",
     "output_type": "error",
     "traceback": [
      "\u001b[1;31m---------------------------------------------------------------------------\u001b[0m",
      "\u001b[1;31mIndexError\u001b[0m                                Traceback (most recent call last)",
      "\u001b[1;32m<ipython-input-55-9fd981366006>\u001b[0m in \u001b[0;36m<module>\u001b[1;34m\u001b[0m\n\u001b[0;32m      1\u001b[0m \u001b[1;32mfrom\u001b[0m \u001b[0mtqdm\u001b[0m \u001b[1;32mimport\u001b[0m \u001b[0mtqdm\u001b[0m\u001b[1;33m\u001b[0m\u001b[1;33m\u001b[0m\u001b[0m\n\u001b[0;32m      2\u001b[0m to_gene_ids = [np.nonzero(all_features_names == genes_names[i])[0].item(0) \\\n\u001b[1;32m----> 3\u001b[1;33m                for i in tqdm(range(len(genes_names)), ncols = 100)]\n\u001b[0m",
      "\u001b[1;32m<ipython-input-55-9fd981366006>\u001b[0m in \u001b[0;36m<listcomp>\u001b[1;34m(.0)\u001b[0m\n\u001b[0;32m      1\u001b[0m \u001b[1;32mfrom\u001b[0m \u001b[0mtqdm\u001b[0m \u001b[1;32mimport\u001b[0m \u001b[0mtqdm\u001b[0m\u001b[1;33m\u001b[0m\u001b[1;33m\u001b[0m\u001b[0m\n\u001b[0;32m      2\u001b[0m to_gene_ids = [np.nonzero(all_features_names == genes_names[i])[0].item(0) \\\n\u001b[1;32m----> 3\u001b[1;33m                for i in tqdm(range(len(genes_names)), ncols = 100)]\n\u001b[0m",
      "\u001b[1;31mIndexError\u001b[0m: index 0 is out of bounds for axis 0 with size 0"
     ]
    }
   ],
   "source": [
    "from tqdm import tqdm\n",
    "to_gene_ids = [np.nonzero(all_features_names == genes_names[i])[0].item(0) \\\n",
    "               for i in tqdm(range(len(genes_names)), ncols = 100)]"
   ]
  },
  {
   "cell_type": "code",
   "execution_count": 64,
   "metadata": {},
   "outputs": [
    {
     "name": "stderr",
     "output_type": "stream",
     "text": [
      "\n",
      "  0%|                                                                     | 0/15024 [00:00<?, ?it/s]\n",
      "  6%|███▍                                                     | 918/15024 [00:00<00:01, 9120.54it/s]\n",
      " 12%|██████▊                                                 | 1839/15024 [00:00<00:01, 9127.32it/s]\n",
      " 18%|██████████▎                                             | 2761/15024 [00:00<00:01, 9135.05it/s]\n",
      " 25%|█████████████▋                                          | 3684/15024 [00:00<00:01, 9142.73it/s]\n",
      " 31%|█████████████████▏                                      | 4610/15024 [00:00<00:01, 9157.76it/s]\n",
      " 37%|████████████████████▌                                   | 5529/15024 [00:00<00:01, 9148.05it/s]\n",
      " 43%|████████████████████████                                | 6453/15024 [00:00<00:00, 9155.51it/s]\n",
      " 49%|███████████████████████████▍                            | 7375/15024 [00:00<00:00, 9154.79it/s]\n",
      " 55%|██████████████████████████████▉                         | 8298/15024 [00:00<00:00, 9156.41it/s]\n",
      " 61%|██████████████████████████████████▎                     | 9218/15024 [00:01<00:00, 9149.68it/s]\n",
      " 68%|█████████████████████████████████████▏                 | 10151/15024 [00:01<00:00, 9183.19it/s]\n",
      " 74%|████████████████████████████████████████▍              | 11062/15024 [00:01<00:00, 9140.89it/s]\n",
      " 80%|███████████████████████████████████████████▊           | 11975/15024 [00:01<00:00, 9118.31it/s]\n",
      " 86%|███████████████████████████████████████████████▏       | 12885/15024 [00:01<00:00, 9092.85it/s]\n",
      " 92%|██████████████████████████████████████████████████▌    | 13807/15024 [00:01<00:00, 9110.22it/s]\n",
      " 98%|█████████████████████████████████████████████████████▉ | 14728/15024 [00:01<00:00, 9120.71it/s]\n",
      "100%|███████████████████████████████████████████████████████| 15024/15024 [00:01<00:00, 9124.70it/s]"
     ]
    }
   ],
   "source": [
    "to_gene_ids = np.ones(len(genes_names), dtype = np.int32) * -1\n",
    "for i in tqdm(range(len(genes_names)), ncols = 100):\n",
    "    cur = np.nonzero(all_features_names == genes_names[i])[0]\n",
    "    if len(cur) > 0:\n",
    "        to_gene_ids[i] = cur.item(0)"
   ]
  },
  {
   "cell_type": "code",
   "execution_count": 60,
   "metadata": {},
   "outputs": [
    {
     "data": {
      "text/plain": [
       "(15024,)"
      ]
     },
     "execution_count": 60,
     "metadata": {},
     "output_type": "execute_result"
    }
   ],
   "source": [
    "to_gene_ids.shape"
   ]
  },
  {
   "cell_type": "code",
   "execution_count": 65,
   "metadata": {},
   "outputs": [],
   "source": [
    "IDS2 = np.array(IDS)\n",
    "for i in range(len(IDS)):\n",
    "    u = to_gene_ids[IDS[i, 0]]\n",
    "    v = to_gene_ids[IDS[i, 1]]\n",
    "    IDS2[i, 0] = u\n",
    "    IDS2[i, 1] = v"
   ]
  },
  {
   "cell_type": "code",
   "execution_count": 79,
   "metadata": {},
   "outputs": [],
   "source": [
    "mask_ids = (IDS2[:, 0] == -1) | (IDS2[:, 1] == -1)"
   ]
  },
  {
   "cell_type": "code",
   "execution_count": 82,
   "metadata": {},
   "outputs": [],
   "source": [
    "IDS3 = IDS2[~mask_ids, :]"
   ]
  },
  {
   "cell_type": "code",
   "execution_count": 85,
   "metadata": {},
   "outputs": [
    {
     "data": {
      "text/plain": [
       "((1468146, 2), (87,), (1355916, 2))"
      ]
     },
     "execution_count": 85,
     "metadata": {},
     "output_type": "execute_result"
    }
   ],
   "source": [
    "IDS2.shape, mask.shape, IDS3.shape"
   ]
  },
  {
   "cell_type": "code",
   "execution_count": 84,
   "metadata": {},
   "outputs": [],
   "source": [
    "np.savez(config.ifname(\"good_pairs\"), IDS = IDS3)"
   ]
  },
  {
   "cell_type": "code",
   "execution_count": 10,
   "metadata": {},
   "outputs": [
    {
     "data": {
      "text/plain": [
       "19.023551989536553"
      ]
     },
     "execution_count": 10,
     "metadata": {},
     "output_type": "execute_result"
    }
   ],
   "source": [
    "X.shape[1] * (X.shape[1] - 1) // 2 / len(IDS) * 853 / 3600"
   ]
  },
  {
   "cell_type": "code",
   "execution_count": 7,
   "metadata": {},
   "outputs": [
    {
     "data": {
      "text/plain": [
       "1355916"
      ]
     },
     "execution_count": 7,
     "metadata": {},
     "output_type": "execute_result"
    }
   ],
   "source": [
    "len(IDS)"
   ]
  },
  {
   "cell_type": "code",
   "execution_count": 17,
   "metadata": {},
   "outputs": [
    {
     "name": "stderr",
     "output_type": "stream",
     "text": [
      "[DEBUG/MainProcess] created semlock with handle 2824\n",
      "[DEBUG/MainProcess] created semlock with handle 2824\n",
      "[DEBUG/MainProcess] created semlock with handle 2824\n",
      "[DEBUG/MainProcess] created semlock with handle 2824\n",
      "[DEBUG/MainProcess] created semlock with handle 2824\n",
      "[DEBUG/MainProcess] created semlock with handle 2824\n",
      "[DEBUG/MainProcess] created semlock with handle 2824\n",
      "[DEBUG/MainProcess] created semlock with handle 2824\n",
      "[DEBUG/MainProcess] created semlock with handle 2824\n",
      "[DEBUG/MainProcess] created semlock with handle 2824\n",
      "[DEBUG/MainProcess] created semlock with handle 2824\n",
      "[DEBUG/MainProcess] created semlock with handle 2824\n",
      "[DEBUG/MainProcess] created semlock with handle 2824\n",
      "[DEBUG/MainProcess] created semlock with handle 2824\n",
      "[DEBUG/MainProcess] created semlock with handle 2752\n",
      "[DEBUG/MainProcess] created semlock with handle 2752\n",
      "[DEBUG/MainProcess] created semlock with handle 2752\n",
      "[DEBUG/MainProcess] created semlock with handle 2752\n",
      "[DEBUG/MainProcess] created semlock with handle 2752\n",
      "[DEBUG/MainProcess] created semlock with handle 2752\n",
      "[DEBUG/MainProcess] created semlock with handle 2752\n",
      "[DEBUG/MainProcess] created semlock with handle 2752\n",
      "[DEBUG/MainProcess] created semlock with handle 2752\n",
      "[DEBUG/MainProcess] created semlock with handle 2752\n",
      "[DEBUG/MainProcess] created semlock with handle 2752\n",
      "[DEBUG/MainProcess] created semlock with handle 2752\n",
      "[DEBUG/MainProcess] created semlock with handle 2752\n",
      "[DEBUG/MainProcess] created semlock with handle 2752\n",
      "[DEBUG/MainProcess] added worker\n",
      "[DEBUG/MainProcess] added worker\n",
      "[DEBUG/MainProcess] added worker\n",
      "[DEBUG/MainProcess] added worker\n",
      "[DEBUG/MainProcess] added worker\n",
      "[DEBUG/MainProcess] added worker\n",
      "[DEBUG/MainProcess] added worker\n",
      "[DEBUG/MainProcess] added worker\n",
      "[DEBUG/MainProcess] added worker\n",
      "[DEBUG/MainProcess] added worker\n",
      "[DEBUG/MainProcess] added worker\n",
      "[DEBUG/MainProcess] added worker\n",
      "[DEBUG/MainProcess] added worker\n",
      "[DEBUG/MainProcess] added worker\n",
      "[DEBUG/MainProcess] added worker\n",
      "[DEBUG/MainProcess] added worker\n",
      "[DEBUG/MainProcess] added worker\n",
      "[DEBUG/MainProcess] added worker\n",
      "[DEBUG/MainProcess] added worker\n",
      "[DEBUG/MainProcess] added worker\n",
      "[DEBUG/MainProcess] added worker\n",
      "[DEBUG/MainProcess] added worker\n",
      "[DEBUG/MainProcess] added worker\n",
      "[DEBUG/MainProcess] added worker\n",
      "[DEBUG/MainProcess] added worker\n",
      "[DEBUG/MainProcess] added worker\n",
      "[DEBUG/MainProcess] added worker\n",
      "[DEBUG/MainProcess] added worker\n"
     ]
    },
    {
     "name": "stdout",
     "output_type": "stream",
     "text": [
      "1\n"
     ]
    },
    {
     "name": "stderr",
     "output_type": "stream",
     "text": [
      "[DEBUG/MainProcess] terminating pool\n",
      "[DEBUG/MainProcess] terminating pool\n",
      "[DEBUG/MainProcess] terminating pool\n",
      "[DEBUG/MainProcess] terminating pool\n",
      "[DEBUG/MainProcess] terminating pool\n",
      "[DEBUG/MainProcess] terminating pool\n",
      "[DEBUG/MainProcess] terminating pool\n",
      "[DEBUG/MainProcess] terminating pool\n",
      "[DEBUG/MainProcess] terminating pool\n",
      "[DEBUG/MainProcess] terminating pool\n",
      "[DEBUG/MainProcess] terminating pool\n",
      "[DEBUG/MainProcess] terminating pool\n",
      "[DEBUG/MainProcess] terminating pool\n",
      "[DEBUG/MainProcess] terminating pool\n",
      "[DEBUG/MainProcess] finalizing pool\n",
      "[DEBUG/MainProcess] finalizing pool\n",
      "[DEBUG/MainProcess] finalizing pool\n",
      "[DEBUG/MainProcess] finalizing pool\n",
      "[DEBUG/MainProcess] finalizing pool\n",
      "[DEBUG/MainProcess] finalizing pool\n",
      "[DEBUG/MainProcess] finalizing pool\n",
      "[DEBUG/MainProcess] finalizing pool\n",
      "[DEBUG/MainProcess] finalizing pool\n",
      "[DEBUG/MainProcess] finalizing pool\n",
      "[DEBUG/MainProcess] finalizing pool\n",
      "[DEBUG/MainProcess] finalizing pool\n",
      "[DEBUG/MainProcess] finalizing pool\n",
      "[DEBUG/MainProcess] finalizing pool\n",
      "[DEBUG/MainProcess] helping task handler/workers to finish\n",
      "[DEBUG/MainProcess] helping task handler/workers to finish\n",
      "[DEBUG/MainProcess] helping task handler/workers to finish\n",
      "[DEBUG/MainProcess] helping task handler/workers to finish\n",
      "[DEBUG/MainProcess] helping task handler/workers to finish\n",
      "[DEBUG/MainProcess] helping task handler/workers to finish\n",
      "[DEBUG/MainProcess] helping task handler/workers to finish\n",
      "[DEBUG/MainProcess] helping task handler/workers to finish\n",
      "[DEBUG/MainProcess] helping task handler/workers to finish\n",
      "[DEBUG/MainProcess] helping task handler/workers to finish\n",
      "[DEBUG/MainProcess] helping task handler/workers to finish\n",
      "[DEBUG/MainProcess] helping task handler/workers to finish\n",
      "[DEBUG/MainProcess] helping task handler/workers to finish\n",
      "[DEBUG/MainProcess] helping task handler/workers to finish\n",
      "[DEBUG/MainProcess] removing tasks from inqueue until task handler finished\n",
      "[DEBUG/MainProcess] removing tasks from inqueue until task handler finished\n",
      "[DEBUG/MainProcess] removing tasks from inqueue until task handler finished\n",
      "[DEBUG/MainProcess] removing tasks from inqueue until task handler finished\n",
      "[DEBUG/MainProcess] removing tasks from inqueue until task handler finished\n",
      "[DEBUG/MainProcess] removing tasks from inqueue until task handler finished\n",
      "[DEBUG/MainProcess] removing tasks from inqueue until task handler finished\n",
      "[DEBUG/MainProcess] removing tasks from inqueue until task handler finished\n",
      "[DEBUG/MainProcess] removing tasks from inqueue until task handler finished\n",
      "[DEBUG/MainProcess] removing tasks from inqueue until task handler finished\n",
      "[DEBUG/MainProcess] removing tasks from inqueue until task handler finished\n",
      "[DEBUG/MainProcess] removing tasks from inqueue until task handler finished\n",
      "[DEBUG/MainProcess] removing tasks from inqueue until task handler finished\n",
      "[DEBUG/MainProcess] removing tasks from inqueue until task handler finished\n",
      "[DEBUG/MainProcess] worker handler exiting\n",
      "[DEBUG/MainProcess] worker handler exiting\n",
      "[DEBUG/MainProcess] task handler got sentinel\n",
      "[DEBUG/MainProcess] worker handler exiting\n",
      "[DEBUG/MainProcess] task handler got sentinel\n",
      "[DEBUG/MainProcess] worker handler exiting\n",
      "[DEBUG/MainProcess] task handler got sentinel\n",
      "[DEBUG/MainProcess] worker handler exiting\n",
      "[DEBUG/MainProcess] task handler got sentinel\n",
      "[DEBUG/MainProcess] worker handler exiting\n",
      "[DEBUG/MainProcess] task handler got sentinel\n",
      "[DEBUG/MainProcess] worker handler exiting\n",
      "[DEBUG/MainProcess] task handler got sentinel\n",
      "[DEBUG/MainProcess] worker handler exiting\n",
      "[DEBUG/MainProcess] task handler got sentinel\n",
      "[DEBUG/MainProcess] worker handler exiting\n",
      "[DEBUG/MainProcess] task handler got sentinel\n",
      "[DEBUG/MainProcess] worker handler exiting\n",
      "[DEBUG/MainProcess] task handler got sentinel\n",
      "[DEBUG/MainProcess] worker handler exiting[DEBUG/MainProcess] task handler got sentinel\n",
      "\n",
      "[DEBUG/MainProcess] worker handler exiting\n",
      "[DEBUG/MainProcess] task handler got sentinel\n",
      "[DEBUG/MainProcess] worker handler exiting\n",
      "[DEBUG/MainProcess] task handler got sentinel\n",
      "[DEBUG/MainProcess] worker handler exiting[DEBUG/MainProcess] task handler got sentinel\n",
      "\n",
      "[DEBUG/MainProcess] task handler got sentinel\n",
      "[DEBUG/MainProcess] task handler sending sentinel to result handler\n",
      "[DEBUG/MainProcess] task handler sending sentinel to result handler\n",
      "[DEBUG/MainProcess] task handler sending sentinel to result handler\n",
      "[DEBUG/MainProcess] task handler sending sentinel to result handler\n",
      "[DEBUG/MainProcess] task handler sending sentinel to result handler\n",
      "[DEBUG/MainProcess] task handler sending sentinel to result handler\n",
      "[DEBUG/MainProcess] task handler sending sentinel to result handler\n",
      "[DEBUG/MainProcess] task handler sending sentinel to result handler\n",
      "[DEBUG/MainProcess] task handler sending sentinel to result handler\n",
      "[DEBUG/MainProcess] task handler sending sentinel to result handler\n",
      "[DEBUG/MainProcess] task handler sending sentinel to result handler\n",
      "[DEBUG/MainProcess] task handler sending sentinel to result handler\n",
      "[DEBUG/MainProcess] task handler sending sentinel to result handler\n",
      "[DEBUG/MainProcess] task handler sending sentinel to result handler\n",
      "[DEBUG/MainProcess] task handler sending sentinel to workers\n",
      "[DEBUG/MainProcess] task handler sending sentinel to workers\n",
      "[DEBUG/MainProcess] result handler got sentinel\n",
      "[DEBUG/MainProcess] task handler sending sentinel to workers[DEBUG/MainProcess] result handler got sentinel\n",
      "\n",
      "[DEBUG/MainProcess] task handler sending sentinel to workers[DEBUG/MainProcess] result handler got sentinel\n",
      "\n",
      "[DEBUG/MainProcess] task handler sending sentinel to workers\n",
      "[DEBUG/MainProcess] result handler got sentinel\n",
      "[DEBUG/MainProcess] task handler sending sentinel to workers[DEBUG/MainProcess] result handler got sentinel\n",
      "\n",
      "[DEBUG/MainProcess] task handler sending sentinel to workers\n",
      "[DEBUG/MainProcess] result handler got sentinel\n",
      "[DEBUG/MainProcess] task handler sending sentinel to workers\n",
      "[DEBUG/MainProcess] result handler got sentinel\n",
      "[DEBUG/MainProcess] task handler sending sentinel to workers\n",
      "[DEBUG/MainProcess] result handler got sentinel\n",
      "[DEBUG/MainProcess] task handler sending sentinel to workers\n",
      "[DEBUG/MainProcess] result handler got sentinel\n",
      "[DEBUG/MainProcess] task handler sending sentinel to workers\n",
      "[DEBUG/MainProcess] result handler got sentinel\n",
      "[DEBUG/MainProcess] task handler sending sentinel to workers\n",
      "[DEBUG/MainProcess] result handler got sentinel\n",
      "[DEBUG/MainProcess] task handler sending sentinel to workers\n",
      "[DEBUG/MainProcess] result handler got sentinel\n",
      "[DEBUG/MainProcess] task handler sending sentinel to workers\n",
      "[DEBUG/MainProcess] result handler got sentinel\n",
      "[DEBUG/MainProcess] task handler exiting\n",
      "[DEBUG/MainProcess] result handler got sentinel\n",
      "[DEBUG/MainProcess] task handler exiting\n",
      "[DEBUG/MainProcess] joining worker handler[DEBUG/MainProcess] task handler exiting\n",
      "\n",
      "[DEBUG/MainProcess] task handler exiting\n",
      "[DEBUG/MainProcess] task handler exiting\n",
      "[DEBUG/MainProcess] joining worker handler[DEBUG/MainProcess] ensuring that outqueue is not full\n",
      "[DEBUG/MainProcess] task handler exiting\n",
      "\n",
      "[DEBUG/MainProcess] task handler exiting\n",
      "[DEBUG/MainProcess] joining worker handler\n",
      "[DEBUG/MainProcess] ensuring that outqueue is not full[DEBUG/MainProcess] task handler exiting\n",
      "\n",
      "[DEBUG/MainProcess] task handler exiting\n",
      "[DEBUG/MainProcess] joining worker handler[DEBUG/MainProcess] task handler exiting\n",
      "[DEBUG/MainProcess] ensuring that outqueue is not full\n",
      "\n",
      "[DEBUG/MainProcess] task handler exiting\n",
      "[DEBUG/MainProcess] joining worker handler[DEBUG/MainProcess] ensuring that outqueue is not full[DEBUG/MainProcess] task handler exiting\n",
      "\n",
      "\n",
      "[DEBUG/MainProcess] task handler exiting\n",
      "[DEBUG/MainProcess] task handler exiting\n",
      "[DEBUG/MainProcess] joining worker handler\n",
      "[DEBUG/MainProcess] ensuring that outqueue is not full\n",
      "[DEBUG/MainProcess] joining worker handler[DEBUG/MainProcess] ensuring that outqueue is not full\n",
      "\n",
      "[DEBUG/MainProcess] joining worker handler\n",
      "[DEBUG/MainProcess] ensuring that outqueue is not full\n",
      "[DEBUG/MainProcess] joining worker handler\n",
      "[DEBUG/MainProcess] ensuring that outqueue is not full\n",
      "[DEBUG/MainProcess] joining worker handler\n",
      "[DEBUG/MainProcess] ensuring that outqueue is not full\n",
      "[DEBUG/MainProcess] joining worker handler\n",
      "[DEBUG/MainProcess] ensuring that outqueue is not full\n"
     ]
    },
    {
     "name": "stderr",
     "output_type": "stream",
     "text": [
      "[DEBUG/MainProcess] joining worker handler\n",
      "[DEBUG/MainProcess] ensuring that outqueue is not full\n",
      "[DEBUG/MainProcess] joining worker handler\n",
      "[DEBUG/MainProcess] ensuring that outqueue is not full\n",
      "[DEBUG/MainProcess] joining worker handler\n",
      "[DEBUG/MainProcess] ensuring that outqueue is not full\n",
      "[DEBUG/MainProcess] terminating workers\n",
      "[DEBUG/MainProcess] ensuring that outqueue is not full\n",
      "[DEBUG/MainProcess] terminating workers\n",
      "[DEBUG/MainProcess] result handler exiting: len(cache)=0, thread._state=2[DEBUG/MainProcess] terminating workers\n",
      "\n",
      "[DEBUG/MainProcess] terminating workers\n",
      "[DEBUG/MainProcess] result handler exiting: len(cache)=0, thread._state=2\n",
      "[DEBUG/MainProcess] terminating workers\n",
      "[DEBUG/MainProcess] result handler exiting: len(cache)=0, thread._state=2\n",
      "[DEBUG/MainProcess] terminating workers\n",
      "[DEBUG/MainProcess] result handler exiting: len(cache)=0, thread._state=2\n",
      "[DEBUG/MainProcess] terminating workers\n",
      "[DEBUG/MainProcess] result handler exiting: len(cache)=0, thread._state=2\n",
      "[DEBUG/MainProcess] result handler exiting: len(cache)=0, thread._state=2\n",
      "[DEBUG/MainProcess] terminating workers[DEBUG/MainProcess] result handler exiting: len(cache)=0, thread._state=2\n",
      "\n",
      "[DEBUG/MainProcess] terminating workers\n",
      "[DEBUG/MainProcess] result handler exiting: len(cache)=0, thread._state=2\n",
      "[DEBUG/MainProcess] terminating workers[DEBUG/MainProcess] result handler exiting: len(cache)=0, thread._state=2\n",
      "\n",
      "[DEBUG/MainProcess] terminating workers\n",
      "[DEBUG/MainProcess] result handler exiting: len(cache)=0, thread._state=2\n",
      "[DEBUG/MainProcess] terminating workers[DEBUG/MainProcess] result handler exiting: len(cache)=0, thread._state=2\n",
      "\n",
      "[DEBUG/MainProcess] terminating workers\n",
      "[DEBUG/MainProcess] result handler exiting: len(cache)=0, thread._state=2\n",
      "[DEBUG/MainProcess] terminating workers[DEBUG/MainProcess] result handler exiting: len(cache)=0, thread._state=2\n",
      "\n",
      "[DEBUG/MainProcess] result handler exiting: len(cache)=0, thread._state=2\n",
      "[DEBUG/MainProcess] joining task handler\n",
      "[DEBUG/MainProcess] joining task handler\n",
      "[DEBUG/MainProcess] joining task handler\n",
      "[DEBUG/MainProcess] joining task handler\n",
      "[DEBUG/MainProcess] joining task handler\n",
      "[DEBUG/MainProcess] joining task handler\n",
      "[DEBUG/MainProcess] joining task handler\n",
      "[DEBUG/MainProcess] joining task handler\n",
      "[DEBUG/MainProcess] joining task handler\n",
      "[DEBUG/MainProcess] joining task handler\n",
      "[DEBUG/MainProcess] joining task handler\n",
      "[DEBUG/MainProcess] joining task handler\n",
      "[DEBUG/MainProcess] joining task handler\n",
      "[DEBUG/MainProcess] joining task handler\n",
      "[DEBUG/MainProcess] joining result handler\n",
      "[DEBUG/MainProcess] joining result handler\n",
      "[DEBUG/MainProcess] joining result handler\n",
      "[DEBUG/MainProcess] joining result handler\n",
      "[DEBUG/MainProcess] joining result handler\n",
      "[DEBUG/MainProcess] joining result handler\n",
      "[DEBUG/MainProcess] joining result handler\n",
      "[DEBUG/MainProcess] joining result handler\n",
      "[DEBUG/MainProcess] joining result handler\n",
      "[DEBUG/MainProcess] joining result handler\n",
      "[DEBUG/MainProcess] joining result handler\n",
      "[DEBUG/MainProcess] joining result handler\n",
      "[DEBUG/MainProcess] joining result handler\n",
      "[DEBUG/MainProcess] joining result handler\n",
      "[DEBUG/MainProcess] joining pool workers\n",
      "[DEBUG/MainProcess] joining pool workers\n",
      "[DEBUG/MainProcess] joining pool workers\n",
      "[DEBUG/MainProcess] joining pool workers\n",
      "[DEBUG/MainProcess] joining pool workers\n",
      "[DEBUG/MainProcess] joining pool workers\n",
      "[DEBUG/MainProcess] joining pool workers\n",
      "[DEBUG/MainProcess] joining pool workers\n",
      "[DEBUG/MainProcess] joining pool workers\n",
      "[DEBUG/MainProcess] joining pool workers\n",
      "[DEBUG/MainProcess] joining pool workers\n",
      "[DEBUG/MainProcess] joining pool workers\n",
      "[DEBUG/MainProcess] joining pool workers\n",
      "[DEBUG/MainProcess] joining pool workers\n"
     ]
    },
    {
     "name": "stdout",
     "output_type": "stream",
     "text": [
      "[(array([[False, False, False, False, False, False, False, False, False,\n",
      "        False, False, False, False, False, False, False, False, False,\n",
      "        False, False, False, False, False, False, False, False, False,\n",
      "        False, False, False, False, False, False, False, False, False,\n",
      "        False, False, False, False, False, False, False, False, False,\n",
      "        False, False, False, False, False, False, False, False, False,\n",
      "        False, False, False, False, False, False, False, False, False,\n",
      "        False, False, False, False, False, False, False, False, False,\n",
      "        False, False, False, False, False, False, False, False, False,\n",
      "        False, False, False, False, False, False]]), array([-0.10045865,  0.38741675,  0.17679457,  0.16707687, -0.01740339,\n",
      "        0.09363793,  0.6370762 ,  0.31548882,  0.21391252,  0.03413122,\n",
      "        0.06766567,  0.22052224,  0.43958214,  0.5861962 ,  0.03449933,\n",
      "       -0.04434159,  0.4420338 ,  0.05798579, -0.11634251, -0.18283941,\n",
      "        0.23762888, -0.21695076,  0.04360297, -0.02586132,  0.26760957,\n",
      "        0.10221884, -0.07746568,  0.09704427,  0.2870245 , -0.24145952,\n",
      "       -0.36635217,  0.16126555, -0.23424542,  0.00946506, -0.16822134,\n",
      "       -0.08486541, -0.08573522,  0.00449955, -0.3713208 ,  0.11475816,\n",
      "        0.3430507 ,  0.15713036,  0.13303629, -0.14098495, -0.47927785,\n",
      "        0.2019533 , -0.1879374 , -0.38090226, -0.7494058 ,  0.23050915,\n",
      "       -0.2639114 , -0.16911162, -0.08052172, -0.31617394, -0.21788348,\n",
      "       -0.18627362, -0.13755675,  0.13865978,  0.07929219, -0.18362702,\n",
      "        0.26949623, -0.53280324, -0.25616175,  0.12819257,  0.0888752 ,\n",
      "        0.21617928, -0.09380889, -0.1620741 ,  0.04291952, -0.0024768 ,\n",
      "       -0.04499653,  0.01424263, -0.08453807, -0.13763018, -0.01480283,\n",
      "       -0.36039886, -0.11507867,  0.12158579,  0.28979683, -0.4819468 ,\n",
      "        0.27469257, -0.06352865, -0.11450667,  0.08873239, -0.20790063,\n",
      "       -0.3229965 , -0.04479181], dtype=float32)), (array([[False, False, False, False, False, False, False, False, False,\n",
      "        False, False, False, False, False, False, False, False, False,\n",
      "        False, False, False, False, False, False, False, False, False,\n",
      "        False, False, False, False, False, False, False, False, False,\n",
      "        False, False, False, False, False, False, False, False, False,\n",
      "        False, False, False, False, False, False, False, False, False,\n",
      "        False, False, False, False, False, False, False, False, False,\n",
      "        False, False, False, False, False, False, False, False, False,\n",
      "        False, False, False, False, False, False, False, False, False,\n",
      "        False, False, False, False, False, False]]), array([-0.0906539 ,  0.28904575,  0.13242316,  0.12799929, -0.01298276,\n",
      "        0.07325424,  0.48714784,  0.24075697,  0.16011323,  0.0191844 ,\n",
      "        0.04523956,  0.1649246 ,  0.33267424,  0.46243572,  0.01767201,\n",
      "       -0.0400722 ,  0.34154013,  0.04574855, -0.09319689, -0.14290757,\n",
      "        0.19029132, -0.17108087,  0.0312562 , -0.02193188,  0.20792557,\n",
      "        0.07964172, -0.0562648 ,  0.07664228,  0.21726626, -0.19411032,\n",
      "       -0.29145095,  0.13859557, -0.17918268,  0.00491806, -0.1306693 ,\n",
      "       -0.07225926, -0.07150238, -0.00261092, -0.29254106,  0.08476152,\n",
      "        0.2649836 ,  0.11854623,  0.10205044, -0.11603193, -0.37378377,\n",
      "        0.15484183, -0.14870861, -0.2963077 , -0.5831221 ,  0.17930739,\n",
      "       -0.20680134, -0.13062698, -0.0621178 , -0.2474831 , -0.17360356,\n",
      "       -0.13918033, -0.10693311,  0.11373565,  0.05586689, -0.14726269,\n",
      "        0.20756565, -0.4118881 , -0.19609785,  0.11103825,  0.06579502,\n",
      "        0.17449743, -0.07279314, -0.12754995,  0.03170685,  0.00151228,\n",
      "       -0.03457592,  0.00965651, -0.06754641, -0.10985054, -0.01128059,\n",
      "       -0.2780626 , -0.0831121 ,  0.10245768,  0.2358587 , -0.37263054,\n",
      "        0.21856013, -0.04553056, -0.08779198,  0.09499231, -0.15806615,\n",
      "       -0.24729711, -0.03042732], dtype=float32)), (array([[False,  True,  True,  True,  True,  True,  True,  True,  True,\n",
      "         True,  True,  True,  True,  True,  True, False,  True,  True,\n",
      "        False, False,  True, False,  True,  True,  True,  True, False,\n",
      "         True,  True, False, False,  True, False, False, False, False,\n",
      "        False, False, False,  True,  True,  True,  True, False, False,\n",
      "         True, False, False, False,  True, False, False, False, False,\n",
      "        False, False, False,  True,  True, False,  True, False, False,\n",
      "         True,  True,  True, False, False,  True, False, False,  True,\n",
      "        False, False,  True, False, False,  True,  True, False,  True,\n",
      "        False, False, False, False, False, False]]), array([-0.03401532,  0.33436626,  0.19889897,  0.17350581,  0.04793754,\n",
      "        0.1087849 ,  0.46128553,  0.22948721,  0.15334466,  0.03023024,\n",
      "        0.08814749,  0.20192067,  0.35152572,  0.50204045,  0.09710498,\n",
      "       -0.0292596 ,  0.30415168,  0.0753495 , -0.0844027 , -0.08355071,\n",
      "        0.18460706, -0.15162858,  0.05792337,  0.06535292,  0.26630604,\n",
      "        0.05843081, -0.02846926,  0.08109561,  0.26909658, -0.16660339,\n",
      "       -0.27970302,  0.0939362 , -0.2134234 , -0.00193713, -0.12818204,\n",
      "       -0.10516118, -0.05565291, -0.04865088, -0.3059597 ,  0.01935198,\n",
      "        0.18813437,  0.08112417,  0.06695579, -0.08090729, -0.36715722,\n",
      "        0.06479087, -0.16274966, -0.28408113, -0.53644526,  0.09237491,\n",
      "       -0.20901994, -0.1392534 , -0.05277197, -0.22882523, -0.19054647,\n",
      "       -0.15147853, -0.11217388,  0.08780073,  0.08555061, -0.15480265,\n",
      "        0.20645043, -0.40139866, -0.23771538,  0.06250636,  0.05511216,\n",
      "        0.11417447, -0.12264661, -0.17466027,  0.00708295, -0.04749439,\n",
      "       -0.02137525,  0.04518429, -0.10355692, -0.14442517,  0.00512538,\n",
      "       -0.28699824, -0.16606696,  0.11359285,  0.12707484, -0.41606233,\n",
      "        0.2064082 , -0.01291727, -0.100679  , -0.0489057 , -0.16388324,\n",
      "       -0.26464638, -0.07576033], dtype=float32)), (array([[False, False, False, False, False, False, False, False, False,\n",
      "        False, False, False, False, False, False, False, False, False,\n",
      "        False, False, False, False, False, False, False, False, False,\n",
      "        False, False, False, False, False, False, False, False, False,\n",
      "        False, False, False, False, False, False, False, False, False,\n",
      "        False, False, False, False, False, False, False, False, False,\n",
      "        False, False, False, False, False, False, False, False, False,\n",
      "        False, False, False, False, False, False, False, False, False,\n",
      "        False, False, False, False, False, False, False, False, False,\n",
      "        False, False, False, False, False, False]]), array([-0.08122773,  0.29781193,  0.13599217,  0.13784744, -0.00928816,\n",
      "        0.07552562,  0.4930716 ,  0.2392775 ,  0.1635847 ,  0.02355275,\n",
      "        0.04733223,  0.1711338 ,  0.33256266,  0.4540477 ,  0.01809192,\n",
      "       -0.03718343,  0.33751103,  0.04548894, -0.09352334, -0.14383891,\n",
      "        0.1978671 , -0.17283559,  0.0296881 , -0.02100371,  0.20762332,\n",
      "        0.07507753, -0.05806173,  0.0786321 ,  0.22154842, -0.18735896,\n",
      "       -0.28964218,  0.12943834, -0.1808831 ,  0.010591  , -0.12755497,\n",
      "       -0.0678502 , -0.06921612, -0.00131226, -0.29711667,  0.08680806,\n",
      "        0.2602518 ,  0.1148818 ,  0.10097926, -0.11755973, -0.38157338,\n",
      "        0.14987619, -0.15326014, -0.30030498, -0.5856778 ,  0.17440386,\n",
      "       -0.2102679 , -0.13513966, -0.06712163, -0.25211334, -0.17475702,\n",
      "       -0.1483469 , -0.11095574,  0.10844259,  0.05953881, -0.14356484,\n",
      "        0.20956239, -0.41496643, -0.20094106,  0.10460095,  0.07244308,\n",
      "        0.16606665, -0.07476027, -0.13242961,  0.0315848 , -0.0079825 ,\n",
      "       -0.03619757,  0.00756081, -0.07175275, -0.11232068, -0.01550538,\n",
      "       -0.28455535, -0.09529329,  0.09706225,  0.22070797, -0.37900326,\n",
      "        0.20973791, -0.053581  , -0.09215764,  0.07301439, -0.16208299,\n",
      "       -0.25513405, -0.03697696], dtype=float32)), (array([[False, False, False, False, False, False, False, False, False,\n",
      "        False, False, False, False, False, False, False, False, False,\n",
      "        False, False, False, False, False, False, False, False, False,\n",
      "        False, False, False, False, False, False, False, False, False,\n",
      "        False, False, False, False, False, False, False, False, False,\n",
      "        False, False, False, False, False, False, False, False, False,\n",
      "        False, False, False, False, False, False, False, False, False,\n",
      "        False, False, False, False, False, False, False, False, False,\n",
      "        False, False, False, False, False, False, False, False, False,\n",
      "        False, False, False, False, False, False]]), array([-0.07810816,  0.29531515,  0.13468544,  0.12895255, -0.01473489,\n",
      "        0.07161438,  0.48529136,  0.23974396,  0.16206785,  0.02498817,\n",
      "        0.04957704,  0.16663095,  0.333962  ,  0.4494477 ,  0.02332006,\n",
      "       -0.03527016,  0.33632672,  0.04393665, -0.09009697, -0.14162642,\n",
      "        0.18053149, -0.16790794,  0.03113479, -0.02161782,  0.20290858,\n",
      "        0.0761627 , -0.06012834,  0.07388328,  0.21654028, -0.18354046,\n",
      "       -0.28118667,  0.12535861, -0.17791745,  0.00664247, -0.12711462,\n",
      "       -0.06409779, -0.06670737,  0.00321777, -0.2851693 ,  0.08773176,\n",
      "        0.26272553,  0.11771705,  0.10128018, -0.10744126, -0.36855307,\n",
      "        0.15470259, -0.14476529, -0.29189178, -0.5743774 ,  0.17563863,\n",
      "       -0.2024931 , -0.12908365, -0.06122716, -0.24232623, -0.16843334,\n",
      "       -0.14175619, -0.10721187,  0.10600441,  0.06104675, -0.14155775,\n",
      "        0.20718347, -0.40594274, -0.19542965,  0.09847216,  0.06876597,\n",
      "        0.16656302, -0.07247007, -0.12379101,  0.03076321, -0.00139095,\n",
      "       -0.03374223,  0.00831609, -0.06379344, -0.10540661, -0.01127625,\n",
      "       -0.27562183, -0.08854567,  0.09405978,  0.22151484, -0.37045026,\n",
      "        0.20897208, -0.05050742, -0.08827107,  0.07115003, -0.16015178,\n",
      "       -0.24801219, -0.03482068], dtype=float32)), (array([[False, False, False, False, False, False, False, False, False,\n",
      "        False, False, False, False, False, False, False, False, False,\n",
      "        False, False, False, False, False, False, False, False, False,\n",
      "        False, False, False, False, False, False, False, False, False,\n",
      "        False, False, False, False, False, False, False, False, False,\n",
      "        False, False, False, False, False, False, False, False, False,\n",
      "        False, False, False, False, False, False, False, False, False,\n",
      "        False, False, False, False, False, False, False, False, False,\n",
      "        False, False, False, False, False, False, False, False, False,\n",
      "        False, False, False, False, False, False]]), array([-0.06669224,  0.30192357,  0.15002736,  0.12955283, -0.00739951,\n",
      "        0.0789014 ,  0.4698077 ,  0.2466669 ,  0.16197324,  0.03351139,\n",
      "        0.06691546,  0.16728012,  0.34344897,  0.4332653 ,  0.0393295 ,\n",
      "       -0.02415881,  0.32943198,  0.05206515, -0.08412478, -0.12648827,\n",
      "        0.19011979, -0.15244341,  0.02846238, -0.01381712,  0.20331113,\n",
      "        0.07038049, -0.04254698,  0.07420362,  0.22608991, -0.1791958 ,\n",
      "       -0.262963  ,  0.11186053, -0.17862906, -0.00644806, -0.12242857,\n",
      "       -0.06776638, -0.06634451, -0.00554576, -0.27239808,  0.0783505 ,\n",
      "        0.24603432,  0.12114251,  0.0845805 , -0.10231418, -0.35199168,\n",
      "        0.15046328, -0.1399663 , -0.28511557, -0.558078  ,  0.1662506 ,\n",
      "       -0.19904068, -0.13329238, -0.06573679, -0.2407943 , -0.16812456,\n",
      "       -0.1387186 , -0.1064543 ,  0.09936841,  0.06163028, -0.12876344,\n",
      "        0.2057619 , -0.40016976, -0.20057376,  0.09316312,  0.05451669,\n",
      "        0.15447545, -0.07594761, -0.12837102,  0.0386411 , -0.0027162 ,\n",
      "       -0.03297495,  0.00924167, -0.06517499, -0.10249317, -0.00720097,\n",
      "       -0.25027305, -0.08853605,  0.0748549 ,  0.21367314, -0.36059728,\n",
      "        0.19335657, -0.05254204, -0.08825864,  0.03503954, -0.1643091 ,\n",
      "       -0.24425404, -0.04480334], dtype=float32)), (array([[False, False, False, False, False, False, False, False, False,\n",
      "        False, False, False, False, False, False, False, False, False,\n",
      "        False, False, False, False, False, False, False, False, False,\n",
      "        False, False, False, False, False, False, False, False, False,\n",
      "        False, False, False, False, False, False, False, False, False,\n",
      "        False, False, False, False, False, False, False, False, False,\n",
      "        False, False, False, False, False, False, False, False, False,\n",
      "        False, False, False, False, False, False, False, False, False,\n",
      "        False, False, False, False, False, False, False, False, False,\n",
      "        False, False, False, False, False, False]]), array([-0.08057716,  0.2908709 ,  0.13428307,  0.12749891, -0.01043112,\n",
      "        0.07288246,  0.48559034,  0.23403515,  0.16517973,  0.02044447,\n",
      "        0.04583134,  0.1677749 ,  0.3370204 ,  0.44891024,  0.01968127,\n",
      "       -0.03094966,  0.3359248 ,  0.03672466, -0.09467122, -0.1370228 ,\n",
      "        0.18345492, -0.16202262,  0.035054  , -0.01892859,  0.20641577,\n",
      "        0.08193444, -0.05483527,  0.06791326,  0.21118233, -0.18817118,\n",
      "       -0.2782495 ,  0.12556615, -0.17920218,  0.00391801, -0.12502615,\n",
      "       -0.06249784, -0.06209434,  0.00515435, -0.28529334,  0.08958961,\n",
      "        0.2562906 ,  0.122549  ,  0.10096204, -0.10491749, -0.36727026,\n",
      "        0.14930363, -0.1486184 , -0.29581884, -0.56592935,  0.1787823 ,\n",
      "       -0.20894387, -0.12688357, -0.05690897, -0.23685406, -0.16221413,\n",
      "       -0.13594161, -0.10924423,  0.10038698,  0.05332448, -0.13860965,\n",
      "        0.20832662, -0.40439364, -0.19517022,  0.1001155 ,  0.0705582 ,\n",
      "        0.16205774, -0.06901801, -0.11893784,  0.02801439, -0.00197699,\n",
      "       -0.03186895,  0.01277473, -0.06168143, -0.10776237, -0.01566944,\n",
      "       -0.28307542, -0.09555449,  0.09777004,  0.22496039, -0.36806336,\n",
      "        0.21109588, -0.04695882, -0.08272734,  0.06764971, -0.15490346,\n",
      "       -0.245291  , -0.03213044], dtype=float32)), (array([[False, False, False, False, False, False, False, False, False,\n",
      "        False, False, False, False, False, False, False, False, False,\n",
      "        False, False, False, False, False, False, False, False, False,\n",
      "        False, False, False, False, False, False, False, False, False,\n",
      "        False, False, False, False, False, False, False, False, False,\n",
      "        False, False, False, False, False, False, False, False, False,\n",
      "        False, False, False, False, False, False, False, False, False,\n",
      "        False, False, False, False, False, False, False, False, False,\n",
      "        False, False, False, False, False, False, False, False, False,\n",
      "        False, False, False, False, False, False]]), array([-0.07608885,  0.29361323,  0.13382293,  0.12653993, -0.01326552,\n",
      "        0.07095799,  0.4827711 ,  0.23917794,  0.16213992,  0.02591394,\n",
      "        0.05132353,  0.16714199,  0.33307043,  0.44423896,  0.02616601,\n",
      "       -0.03358499,  0.33494917,  0.04395996, -0.08811961, -0.13851884,\n",
      "        0.18001124, -0.16440575,  0.03306956, -0.01954767,  0.2027918 ,\n",
      "        0.07750054, -0.05882747,  0.07358998,  0.21752827, -0.18297379,\n",
      "       -0.27764046,  0.12210628, -0.17759646,  0.00724641, -0.1275614 ,\n",
      "       -0.06428848, -0.06488037,  0.00346928, -0.2813689 ,  0.08705483,\n",
      "        0.2599606 ,  0.11907979,  0.10079017, -0.10688307, -0.36323726,\n",
      "        0.1531088 , -0.1424123 , -0.28860775, -0.5678999 ,  0.17467244,\n",
      "       -0.1999865 , -0.1281821 , -0.06097338, -0.23955053, -0.16513553,\n",
      "       -0.14123818, -0.10429534,  0.10512891,  0.05995047, -0.13913889,\n",
      "        0.20424949, -0.40383804, -0.1940838 ,  0.09697877,  0.06738488,\n",
      "        0.16381347, -0.07110276, -0.12281287,  0.03247623, -0.00201793,\n",
      "       -0.03417764,  0.01073881, -0.06393258, -0.1043057 , -0.01123037,\n",
      "       -0.2731357 , -0.08739313,  0.0919712 ,  0.21919353, -0.36532387,\n",
      "        0.20811422, -0.04820296, -0.08680598,  0.06725995, -0.15763052,\n",
      "       -0.24482168, -0.0339043 ], dtype=float32))]\n"
     ]
    }
   ],
   "source": [
    "import multiprocessing as mp\n",
    "import multiprocessing, logging\n",
    "mpl = multiprocessing.log_to_stderr()\n",
    "mpl.setLevel(logging.DEBUG)\n",
    "from tmp import *\n",
    "\n",
    "if __name__ == \"__main__\":\n",
    "    main(X, y, mask)"
   ]
  },
  {
   "cell_type": "code",
   "execution_count": null,
   "metadata": {},
   "outputs": [],
   "source": [
    "#import Pool\n",
    "from multiprocessing import Pool\n",
    "#Define a worker — a function which will be executed in parallel\n",
    "def worker(x):\n",
    "    return x*x\n",
    "#Assuming you want to use 3 processors\n",
    "num_processors = 3\n",
    "#Create a pool of processors\n",
    "p=Pool(processes = num_processors)\n",
    "#get them to work in parallel\n",
    "output = p.map(worker,[i for i in range(0,3)])\n",
    "print(output)"
   ]
  },
  {
   "cell_type": "code",
   "execution_count": 11,
   "metadata": {},
   "outputs": [
    {
     "data": {
      "text/plain": [
       "parenclitic.classes.classifier_kernel"
      ]
     },
     "execution_count": 11,
     "metadata": {},
     "output_type": "execute_result"
    }
   ],
   "source": []
  },
  {
   "cell_type": "code",
   "execution_count": 17,
   "metadata": {},
   "outputs": [
    {
     "name": "stdout",
     "output_type": "stream",
     "text": [
      "[0, 0, 0, 0, 0, 0, 0, 0, 0, 0, 0, 0, 0, 0, 0, 0, 0, 0, 0, 0, 0, 0, 0, 0, 0, 0, 0, 0, 0, 503, 421, 403, 501, 756, 547, 646, 605, 541, 672, 654, 539, 484, 619, 398, 410, 460, 528, 576, 694, 638, 485, 571, 578, 734, 576, 612, 397, 646, 514, 526, 542, 730, 739, 751, 801, 672, 703, 813, 747, 700, 716, 494, 706, 560, 451, 552, 661, 712, 814, 786, 699, 646, 666, 673, 727, 566, 679]\n"
     ]
    }
   ],
   "source": []
  },
  {
   "cell_type": "code",
   "execution_count": 9,
   "metadata": {},
   "outputs": [],
   "source": [
    "from transform_data import * "
   ]
  },
  {
   "cell_type": "code",
   "execution_count": 13,
   "metadata": {},
   "outputs": [
    {
     "name": "stdout",
     "output_type": "stream",
     "text": [
      "[6.44163452e-03 5.85362531e-02 1.55135318e-01 ... 5.82742013e+05\n",
      " 5.82867412e+05 1.00000000e+00]\n"
     ]
    },
    {
     "data": {
      "text/plain": [
       "array([[ True,  True,  True,  True, False,  True,  True,  True,  True,\n",
       "         True,  True,  True,  True,  True,  True,  True,  True, False,\n",
       "        False, False,  True,  True, False, False,  True,  True,  True,\n",
       "         True,  True,  True,  True,  True,  True, False, False,  True,\n",
       "         True,  True,  True,  True,  True,  True, False,  True,  True,\n",
       "         True, False,  True,  True,  True,  True, False, False,  True,\n",
       "         True,  True, False,  True,  True,  True,  True,  True,  True,\n",
       "         True, False,  True, False, False, False,  True, False, False,\n",
       "        False, False, False,  True,  True,  True,  True,  True,  True,\n",
       "         True, False,  True,  True,  True,  True]])"
      ]
     },
     "execution_count": 13,
     "metadata": {},
     "output_type": "execute_result"
    }
   ],
   "source": [
    "make_genes_edge(X[:, 0], X[:, 1], X[:, 0], X[:, 1], [0.8])"
   ]
  },
  {
   "cell_type": "code",
   "execution_count": null,
   "metadata": {},
   "outputs": [],
   "source": [
    "data = np.random.normal(size = 1000)\n",
    "kde = stats.gaussian_kde(data)"
   ]
  },
  {
   "cell_type": "code",
   "execution_count": 97,
   "metadata": {},
   "outputs": [
    {
     "name": "stdout",
     "output_type": "stream",
     "text": [
      "(1000000,)\n",
      "0.747832 0.0013896868650297156\n"
     ]
    }
   ],
   "source": [
    "num_points = 1000000\n",
    "points = kde.resample(num_points)\n",
    "pr = np.array(kde(points))\n",
    "pr.sort()\n",
    "thr_p = 0.2\n",
    "print(pr.shape)\n",
    "p = 0.2\n",
    "pos = np.searchsorted(pr, p)\n",
    "w = float(num_points - pos) / num_points\n",
    "print(w, abs(w - wl))"
   ]
  },
  {
   "cell_type": "code",
   "execution_count": 98,
   "metadata": {},
   "outputs": [
    {
     "data": {
      "image/png": "[encoded data removed]",
      "text/plain": [
       "<Figure size 432x288 with 1 Axes>"
      ]
     },
     "metadata": {
      "needs_background": "light"
     },
     "output_type": "display_data"
    }
   ],
   "source": [
    "x = np.linspace(-1.15, 1.2, 10000000)\n",
    "plt.plot(x, kde(x), 'o')\n",
    "wl = ((x[1] - x[0]) * kde(x)).sum()"
   ]
  },
  {
   "cell_type": "code",
   "execution_count": 99,
   "metadata": {},
   "outputs": [
    {
     "name": "stdout",
     "output_type": "stream",
     "text": [
      "0.747832 0.0013943507527764964\n"
     ]
    }
   ],
   "source": [
    "print(w, abs(w - wl))"
   ]
  },
  {
   "cell_type": "code",
   "execution_count": 45,
   "metadata": {},
   "outputs": [
    {
     "data": {
      "text/plain": [
       "0.9999999420213942"
      ]
     },
     "execution_count": 45,
     "metadata": {},
     "output_type": "execute_result"
    }
   ],
   "source": [
    "((x[1] - x[0]) * kde(x)).sum()"
   ]
  },
  {
   "cell_type": "code",
   "execution_count": 7,
   "metadata": {},
   "outputs": [
    {
     "ename": "KeyboardInterrupt",
     "evalue": "",
     "output_type": "error",
     "traceback": [
      "\u001b[1;31m---------------------------------------------------------------------------\u001b[0m",
      "\u001b[1;31mKeyboardInterrupt\u001b[0m                         Traceback (most recent call last)",
      "\u001b[1;32m<ipython-input-7-b7133701d76c>\u001b[0m in \u001b[0;36m<module>\u001b[1;34m\u001b[0m\n\u001b[0;32m      1\u001b[0m \u001b[1;32mwhile\u001b[0m \u001b[1;32mTrue\u001b[0m\u001b[1;33m:\u001b[0m\u001b[1;33m\u001b[0m\u001b[1;33m\u001b[0m\u001b[0m\n\u001b[1;32m----> 2\u001b[1;33m     \u001b[1;32mpass\u001b[0m\u001b[1;33m\u001b[0m\u001b[1;33m\u001b[0m\u001b[0m\n\u001b[0m",
      "\u001b[1;31mKeyboardInterrupt\u001b[0m: "
     ]
    }
   ],
   "source": [
    "while True:\n",
    "    pass"
   ]
  },
  {
   "cell_type": "code",
   "execution_count": null,
   "metadata": {},
   "outputs": [],
   "source": []
  }
 ],
 "metadata": {
  "kernelspec": {
   "display_name": "Python 3",
   "language": "python",
   "name": "python3"
  },
  "language_info": {
   "codemirror_mode": {
    "name": "ipython",
    "version": 3
   },
   "file_extension": ".py",
   "mimetype": "text/x-python",
   "name": "python",
   "nbconvert_exporter": "python",
   "pygments_lexer": "ipython3",
   "version": "3.7.1"
  }
 },
 "nbformat": 4,
 "nbformat_minor": 2
}
