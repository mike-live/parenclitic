{
 "cells": [
  {
   "cell_type": "code",
   "execution_count": 1,
   "metadata": {},
   "outputs": [],
   "source": [
    "%load_ext autoreload\n",
    "%autoreload 2\n",
    "import numpy as np\n",
    "from numpy import linalg as LA\n",
    "\n",
    "#from load_data_mongoloids import load_data_mongoloids\n",
    "#from mongoloids_config import config\n",
    "\n",
    "#from load_data_cancer import load_data_cancer\n",
    "#from cancer_config import config\n",
    "import re\n",
    "import time\n",
    "import matplotlib\n",
    "import matplotlib.pyplot as plt\n",
    "import matplotlib.mlab as mlab\n",
    "#import plotly.plotly as py\n",
    "import textwrap\n",
    "import scipy.stats as stats\n",
    "\n",
    "from sklearn import svm, datasets\n",
    "from scipy import stats\n",
    "from sklearn import neighbors, ensemble, linear_model, neural_network\n",
    "from sklearn.model_selection import cross_val_score\n",
    "from sklearn.metrics import mean_squared_error\n",
    "import scipy\n",
    "from functools import partial\n",
    "\n",
    "from infrastructure.configuration import param\n",
    "import matplotlib.pylab as pylab\n",
    "import seaborn\n",
    "seaborn.set_style('darkgrid', {'legend.frameon':True})\n",
    "fontsize = 20\n",
    "params = {'legend.fontsize': fontsize,\n",
    "  'figure.figsize': (18, 15),\n",
    "  'axes.labelsize': fontsize,\n",
    "  'axes.titlesize':fontsize,\n",
    "  'xtick.labelsize':fontsize,\n",
    "  'ytick.labelsize':fontsize,\n",
    "  'font.size':fontsize}\n",
    "pylab.rcParams.update(params)\n",
    "plt.rc('axes', labelsize=fontsize) \n",
    "\n",
    "plt.style.use('ggplot')\n",
    "%matplotlib inline\n",
    "\n",
    "import igraph\n",
    "import cairo\n",
    "from tqdm import tqdm\n",
    "import pandas as pd"
   ]
  },
  {
   "cell_type": "code",
   "execution_count": 2,
   "metadata": {},
   "outputs": [],
   "source": [
    "#from configurations.load_data_down_GSE52588 import load_data_down_GSE52588\n",
    "#from configurations.config_down_GSE52588 import config\n",
    "\n",
    "from configurations.load_data_down_GSE52588 import load_data_down_GSE52588_cpgs\n",
    "from configurations.config_down_GSE52588_cpg import config"
   ]
  },
  {
   "cell_type": "code",
   "execution_count": 3,
   "metadata": {},
   "outputs": [
    {
     "name": "stdout",
     "output_type": "stream",
     "text": [
      "Data loaded:  66.344918816\n",
      "float32 (422801, 87)\n",
      "(87, 422801)\n",
      "(87, 422801) 150253 (87,) (422801,)\n"
     ]
    }
   ],
   "source": [
    "X, y, mask, features_names = load_data_down_GSE52588_cpgs()"
   ]
  },
  {
   "cell_type": "code",
   "execution_count": 4,
   "metadata": {},
   "outputs": [],
   "source": [
    "from annotations.cpgs import cpgs_annotation\n",
    "cpgs = cpgs_annotation(config.ifname('cpgs_annotations'))"
   ]
  },
  {
   "cell_type": "code",
   "execution_count": 5,
   "metadata": {},
   "outputs": [],
   "source": [
    "bad_cpgs = np.loadtxt(config.ifname('bad_cpgs'), dtype='str')"
   ]
  },
  {
   "cell_type": "code",
   "execution_count": 6,
   "metadata": {},
   "outputs": [],
   "source": [
    "groups = [\"mongoloids_mask\", \"siblings_mask\", \"mothers_mask\"]\n",
    "group_masks = [0] * 3\n",
    "for j, group_name in enumerate(groups):\n",
    "    group_masks[j] = config.params[group_name].value\n",
    "        "
   ]
  },
  {
   "cell_type": "code",
   "execution_count": 108,
   "metadata": {},
   "outputs": [
    {
     "name": "stderr",
     "output_type": "stream",
     "text": [
      "100%|█████████████████████████████████████████████████████| 422801/422801 [03:06<00:00, 2269.34it/s]\n",
      "100%|█████████████████████████████████████████████████████| 422801/422801 [03:05<00:00, 2276.54it/s]\n",
      "100%|█████████████████████████████████████████████████████| 422801/422801 [03:03<00:00, 2309.52it/s]\n"
     ]
    }
   ],
   "source": [
    "\n",
    "def calc_epimutations(X, group_masks):\n",
    "    epimutations_sum = np.zeros((X.shape[0], ), dtype = np.int32)\n",
    "    epimutations = np.zeros((X.shape[0], X.shape[1]), dtype = np.bool)\n",
    "    for i in tqdm(range(X.shape[1]), ncols = 100):\n",
    "        for j, mask in enumerate(group_masks):\n",
    "            x = X[mask, i]\n",
    "            q = np.quantile(x, [0.25, 0.75])\n",
    "            iqr = q[1] - q[0]\n",
    "            q[0] -= iqr * 3\n",
    "            q[1] += iqr * 3\n",
    "            epimutations[mask, i] = ((x > q[1]) | (x < q[0]))\n",
    "            epimutations_sum[mask] += ((x > q[1]) | (x < q[0])).astype('int32')\n",
    "    return epimutations_sum, epimutations\n",
    "\n",
    "epimutations_sum, epimutations = calc_epimutations(X, group_masks)\n",
    "epimutations_sum_r, epimutations_r = calc_epimutations(X_r, group_masks)\n",
    "epimutations_sum_r2, epimutations_r2 = calc_epimutations(X_r2, group_masks)"
   ]
  },
  {
   "cell_type": "markdown",
   "metadata": {},
   "source": [
    "# Trverse chromosome"
   ]
  },
  {
   "cell_type": "code",
   "execution_count": 92,
   "metadata": {},
   "outputs": [],
   "source": [
    "def traverse_chromosomes(features_names, bad_cpgs, path_kernel_geotype, kernel):\n",
    "    df = cpgs.get_sub_frame({'gene_out': [np.NaN], 'cpgs_in': features_names, 'cpgs_out': bad_cpgs})\n",
    "    chromosomes = df.CHR.unique()\n",
    "\n",
    "    ids = np.argsort(list(map(lambda x: \"0\" + x if len(x) == 1 and x[0].isdigit() else x, chromosomes)))\n",
    "    chromosomes = chromosomes[ids]\n",
    "    from matplotlib.backends.backend_pdf import PdfPages\n",
    "    \n",
    "    with PdfPages(path_kernel_geotype) as pdf:\n",
    "        for chromosome in tqdm(chromosomes, ncols = 100):\n",
    "            cpgs_names, ids = cpgs.get_cpgs({'gene_out': [np.NaN], 'cpgs_in': features_names, 'chr_in': chromosome, 'cpgs_out': bad_cpgs}) # 'geotype_in': ['Island', 'N_Shore', 'S_Shore']\n",
    "            cpgs_names, ids, ids2 = np.intersect1d(features_names, cpgs_names, return_indices = True)\n",
    "            \n",
    "            kernel(ids, \"Chromosome: \" + chromosome)\n",
    "            \n",
    "            pdf.savefig()\n",
    "            plt.close()\n",
    "            #break"
   ]
  },
  {
   "cell_type": "markdown",
   "metadata": {},
   "source": [
    "# Traverse geo type"
   ]
  },
  {
   "cell_type": "code",
   "execution_count": 88,
   "metadata": {},
   "outputs": [],
   "source": [
    "def traverse_geo_types(features_names, bad_cpgs, path_kernel_geotype, kernel):\n",
    "    geotypes = cpgs.get_crit_col_values('geotype', \\\n",
    "            {'gene_out': [np.NaN], 'cpgs_in': features_names, 'cpgs_out': bad_cpgs, 'geotype_out': [np.NaN], 'chr_out': ['X', 'Y']})\n",
    "    geotypes.sort()\n",
    "    from matplotlib.backends.backend_pdf import PdfPages\n",
    "    with PdfPages(path_kernel_geotype) as pdf:\n",
    "        for geotype in tqdm(geotypes, ncols = 100):\n",
    "            cpgs_names, ids = cpgs.get_cpgs({'gene_out': [np.NaN], 'cpgs_in': features_names, 'geotype_in': [geotype], 'cpgs_out': bad_cpgs}) # 'geotype_in': ['Island', 'N_Shore', 'S_Shore']\n",
    "            cpgs_names, ids, ids2 = np.intersect1d(features_names, cpgs_names, return_indices = True)\n",
    "            \n",
    "            kernel(ids, \"Geotype: \" + geotype)\n",
    "            \n",
    "            pdf.savefig()\n",
    "            plt.close()\n",
    "            #break"
   ]
  },
  {
   "cell_type": "markdown",
   "metadata": {},
   "source": [
    "# Traverse gene part"
   ]
  },
  {
   "cell_type": "code",
   "execution_count": 89,
   "metadata": {},
   "outputs": [],
   "source": [
    "def traverse_gene_parts(features_names, bad_cpgs, path_kernel_genepart, kernel):\n",
    "    geneparts = cpgs.get_crit_col_values('genepart', \\\n",
    "                {'gene_out': [np.NaN], 'cpgs_in': features_names, 'cpgs_out': bad_cpgs, 'genepart_out': [np.NaN], 'chr_out': ['X', 'Y']})\n",
    "    geneparts.sort()\n",
    "    from matplotlib.backends.backend_pdf import PdfPages\n",
    "    \n",
    "    with PdfPages(path_kernel_genepart) as pdf:\n",
    "        for genepart in tqdm(geneparts, ncols = 100):\n",
    "            cpgs_names, ids = cpgs.get_cpgs({'gene_out': [np.NaN], 'cpgs_in': features_names, 'genepart_in': [genepart], 'cpgs_out': bad_cpgs}) # 'genepart_in': ['Island', 'N_Shore', 'S_Shore']\n",
    "            cpgs_names, ids, ids2 = np.intersect1d(features_names, cpgs_names, return_indices = True)\n",
    "            \n",
    "            kernel(ids, \"Genepart: \" + genepart)\n",
    "            \n",
    "            pdf.savefig()\n",
    "            plt.close()\n",
    "            #break"
   ]
  },
  {
   "cell_type": "markdown",
   "metadata": {},
   "source": [
    "# Traverse cpg list"
   ]
  },
  {
   "cell_type": "code",
   "execution_count": 90,
   "metadata": {},
   "outputs": [],
   "source": [
    "def calc_for_cpg_list(cpgs_in, bad_cpgs, path_kernel, kernel, title = ''):\n",
    "    from matplotlib.backends.backend_pdf import PdfPages\n",
    "    \n",
    "    with PdfPages(path_kernel) as pdf:\n",
    "        cpgs_names, ids = cpgs.get_cpgs({'gene_out': [np.NaN], 'cpgs_in': cpgs_in, 'cpgs_out': bad_cpgs}) \n",
    "        cpgs_names, ids, ids2 = np.intersect1d(cpgs_in, cpgs_names, return_indices = True)\n",
    "\n",
    "        kernel(ids, title)\n",
    "\n",
    "        pdf.savefig()\n",
    "        plt.close()\n",
    "        #break"
   ]
  },
  {
   "cell_type": "code",
   "execution_count": 7,
   "metadata": {},
   "outputs": [
    {
     "data": {
      "text/plain": [
       "'\\ndef kernel_variance_r(ids, title, X = X_r, group_masks = group_masks, groups = groups):\\n    sd = variance_analyze(X, ids, group_masks)\\n    plot_variance(sd, groups, group_masks, y, title)\\n    \\ndef kernel_variance_r2(ids, title, X = X_r2, group_masks = group_masks, groups = groups):\\n    sd = variance_analyze(X, ids, group_masks)\\n    plot_variance(sd, groups, group_masks, y, title)        \\n'"
      ]
     },
     "execution_count": 7,
     "metadata": {},
     "output_type": "execute_result"
    }
   ],
   "source": [
    "'''\n",
    "def kernel_epimutations(ids, title, groups = groups, y = y, epimutations = epimutations):\n",
    "    sub_epimutations_sum = epimutations[:, ids].astype('int32').sum(axis = 1)\n",
    "    plot_epimutations(sub_epimutations_sum, groups, y, '', title = title)\n",
    "\n",
    "def kernel_epimutations_boxplot(ids, title, groups = groups, y = y, epimutations = epimutations):\n",
    "    sub_epimutations_sum = epimutations[:, ids].astype('int32').sum(axis = 1)\n",
    "    plot_epimutations_boxplot(sub_epimutations_sum, groups, y, '', title = title)\n",
    "'''    \n",
    "def kernel_variance(ids, title, X = X, group_masks = group_masks, groups = groups):\n",
    "    sd = variance_analyze(X, ids, group_masks)\n",
    "    plot_variance(sd, groups, group_masks, y, title)\n",
    "\n",
    "def kernel_variance_boxplot(ids, title, X = X, group_masks = group_masks, groups = groups):\n",
    "    sd = variance_analyze(X, ids, group_masks)\n",
    "    plot_variance_boxplot(sd, groups, group_masks, y, title)\n",
    "\n",
    "'''\n",
    "def kernel_variance_r(ids, title, X = X_r, group_masks = group_masks, groups = groups):\n",
    "    sd = variance_analyze(X, ids, group_masks)\n",
    "    plot_variance(sd, groups, group_masks, y, title)\n",
    "    \n",
    "def kernel_variance_r2(ids, title, X = X_r2, group_masks = group_masks, groups = groups):\n",
    "    sd = variance_analyze(X, ids, group_masks)\n",
    "    plot_variance(sd, groups, group_masks, y, title)        \n",
    "'''"
   ]
  },
  {
   "cell_type": "code",
   "execution_count": 63,
   "metadata": {},
   "outputs": [],
   "source": [
    "def get_cpgs(input_type = 1, fname = '', col_name = 'nameCpG'):\n",
    "    global cached_cpgs\n",
    "    try:\n",
    "        cached_cpgs\n",
    "    except:\n",
    "        cached_cpgs = dict()\n",
    "    try:\n",
    "        cached_cpgs[fname]\n",
    "    except:\n",
    "        df = pd.read_csv(fname, sep = '\\t')\n",
    "        cached_cpgs[fname] = df[col_name].values\n",
    "    return cached_cpgs[fname]\n",
    "    \n",
    "def get_down_related_2015_cpgs(input_type = 1):\n",
    "    global down_related_2015_cpgs\n",
    "    try:\n",
    "        down_related_2015_cpgs\n",
    "    except:\n",
    "        df = pd.read_csv(config.ifname('down_related_2015_cpgs'))\n",
    "        down_related_2015_cpgs = df['ID_REF_Best_CpG'].values\n",
    "    return down_related_2015_cpgs\n",
    "\n",
    "def var_diff_p(x, y):\n",
    "    F = x.var() / y.var()\n",
    "    p_value = scipy.stats.f.cdf(F, len(x) - 1, len(y) - 1)\n",
    "    return p_value # True : Reject the null hypothesis that Var(X) == Var(Y)\n",
    "        \n",
    "\n",
    "def make_std_related(X, features_names = features_names, group_masks = group_masks):\n",
    "    diff_p = [np.zeros((X.shape[1], ), dtype = np.bool) for i in range(3)]\n",
    "    for i in tqdm(range(X.shape[1]), ncols = 100):\n",
    "        cur = X[:, i]\n",
    "        diff_p[0][i] = var_diff_p(cur[group_masks[0]], cur[group_masks[1]])\n",
    "        diff_p[1][i] = var_diff_p(cur[group_masks[1]], cur[group_masks[2]])\n",
    "        diff_p[2][i] = var_diff_p(cur[group_masks[0]], cur[group_masks[2]])\n",
    "    return diff_p\n",
    "    \n",
    "\n",
    "#diff_p = make_std_related(X, group_masks = group_masks)\n",
    "#diff_p_r = make_std_related(X_r, group_masks = group_masks)\n",
    "#diff_p_r2 = make_std_related(X_r2, group_masks = group_masks)\n",
    "\n",
    "def get_std_related(input_type = 1, features_names = features_names, num_cpgs = 1000):\n",
    "    global diff_p, diff_p_r, diff_p_r2\n",
    "    if input_type == 1:\n",
    "        cur = diff_p\n",
    "    if input_type == 2:\n",
    "        cur = diff_p_r\n",
    "    if input_type == 3:\n",
    "        cur = diff_p_r2\n",
    "    ids = np.unique([np.argsort(cur[0])[-num_cpgs:], np.argsort(cur[1])[-num_cpgs:], np.argsort(cur[2])[-num_cpgs:]])\n",
    "    return features_names[ids]"
   ]
  },
  {
   "cell_type": "code",
   "execution_count": 38,
   "metadata": {},
   "outputs": [],
   "source": [
    "np.savez_compressed(config.ifname(\"var_diff_pv\"), diff_p = diff_p, diff_p_r = diff_p_r, diff_p_r2 = diff_p_r2)"
   ]
  },
  {
   "cell_type": "code",
   "execution_count": 75,
   "metadata": {},
   "outputs": [
    {
     "data": {
      "text/plain": [
       "False"
      ]
     },
     "execution_count": 75,
     "metadata": {},
     "output_type": "execute_result"
    }
   ],
   "source": [
    "np.all(X == X_r)"
   ]
  },
  {
   "cell_type": "code",
   "execution_count": 61,
   "metadata": {},
   "outputs": [
    {
     "name": "stdout",
     "output_type": "stream",
     "text": [
      ".\n",
      ".\n",
      ".\n"
     ]
    },
    {
     "data": {
      "text/plain": [
       "array(['cg17839237', 'cg21502255', 'cg22058122', 'cg13566610',\n",
       "       'cg11113760', 'cg25032595', 'cg03823904', 'cg16976910',\n",
       "       'cg26477573', 'cg10652091', 'cg10483871', 'cg25829666',\n",
       "       'cg22871668', 'cg16999584', 'cg12040830', 'cg17025835',\n",
       "       'cg16150752', 'cg01116059', 'cg24403845', 'cg02467990',\n",
       "       'cg02169338', 'cg18081940', 'cg07420190', 'cg03117976',\n",
       "       'cg23217622', 'cg00323305', 'cg04226749', 'cg00370229',\n",
       "       'cg11664500', 'cg21186299', 'cg02457680', 'cg14287112',\n",
       "       'cg20448717', 'cg01939883', 'cg26170604', 'cg16560774',\n",
       "       'cg20984053', 'cg25105066', 'cg25379026', 'cg12950911',\n",
       "       'cg09493505', 'cg17942573', 'cg16918905', 'cg11639849',\n",
       "       'cg13906571', 'cg16427096', 'cg24436446', 'cg14032732',\n",
       "       'cg16366843', 'cg02664812', 'cg15202738', 'cg24565369',\n",
       "       'cg17652756', 'cg03867465', 'cg14533206', 'cg15490715',\n",
       "       'cg24996482', 'cg01499217', 'cg26802289', 'cg15708153',\n",
       "       'cg10795666', 'cg26464821', 'cg24721899', 'cg10501210',\n",
       "       'cg15379354', 'cg18560328', 'cg22158769', 'cg21180286',\n",
       "       'cg02840109', 'cg16295725', 'cg16732616', 'cg09024126',\n",
       "       'cg07892785', 'cg00960700', 'cg25203704', 'cg15898840',\n",
       "       'cg26000554', 'cg13368756', 'cg06616729', 'cg10755973',\n",
       "       'cg13320291', 'cg09805010', 'cg25218716', 'cg12988534',\n",
       "       'cg20973720', 'cg20309794', 'cg14805347', 'cg00906130',\n",
       "       'cg26817217', 'cg11536474', 'cg16648062', 'cg20219457',\n",
       "       'cg23256297', 'cg07303244', 'cg09557387', 'cg12975230',\n",
       "       'cg17382198', 'cg12794421', 'cg07533148', 'cg19753794',\n",
       "       'cg04928005', 'cg26134895', 'cg18045859', 'cg23757899',\n",
       "       'cg27513574', 'cg05078238', 'cg09635053', 'cg10332700',\n",
       "       'cg25353308', 'cg14348439', 'cg15109851', 'cg08480901',\n",
       "       'cg02957057', 'cg24599249', 'cg06911020', 'cg24033558',\n",
       "       'cg14688104', 'cg10932068', 'cg14604568', 'cg23649435',\n",
       "       'cg17880622', 'cg04016086', 'cg12997720', 'cg21185289',\n",
       "       'cg16485558', 'cg13536757', 'cg04996219', 'cg12075445',\n",
       "       'cg07472438', 'cg14704921', 'cg07927379', 'cg09396196',\n",
       "       'cg04138185', 'cg14482684', 'cg13759674', 'cg18932798',\n",
       "       'cg16644497', 'cg06598091', 'cg19019537', 'cg21678377',\n",
       "       'cg17446654', 'cg09570682', 'cg04453065', 'cg26902127',\n",
       "       'cg09474331', 'cg05166490', 'cg18630040', 'cg15671705',\n",
       "       'cg14625175', 'cg09547099', 'cg03278146', 'cg25145765',\n",
       "       'cg18768347', 'cg17985646', 'cg02071005', 'cg09156233',\n",
       "       'cg14353137', 'cg04298511', 'cg07019438', 'cg20505223',\n",
       "       'cg04190870', 'cg11041835', 'cg04014062', 'cg10660909',\n",
       "       'cg22832061', 'cg15036616', 'cg18342279', 'cg16814808',\n",
       "       'cg19397320', 'cg17657268', 'cg08034379', 'cg12958020',\n",
       "       'cg27252696', 'cg25818292', 'cg27450668', 'cg07195011',\n",
       "       'cg13724496', 'cg06784436', 'cg01899437', 'cg07955995',\n",
       "       'cg17380661', 'cg06971129', 'cg17942639', 'cg15637465',\n",
       "       'cg01959562', 'cg24583615', 'cg21389743', 'cg09465786',\n",
       "       'cg24453580', 'cg12832313', 'cg01141940', 'cg27495903',\n",
       "       'cg24367628', 'cg18868622', 'cg11648968', 'cg04842146',\n",
       "       'cg04256347', 'cg21635917', 'cg02401454', 'cg00063174',\n",
       "       'cg06361272', 'cg18854419', 'cg03686593', 'cg18587806',\n",
       "       'cg24969942', 'cg08111446', 'cg05656934', 'cg02609127',\n",
       "       'cg13971154', 'cg08366446', 'cg12700904', 'cg08347500',\n",
       "       'cg08323075', 'cg23353432', 'cg11934695', 'cg07030339',\n",
       "       'cg19288904', 'cg06620896', 'cg20718350', 'cg05510902',\n",
       "       'cg08612137', 'cg00688963', 'cg14045872', 'cg21913319',\n",
       "       'cg22614142', 'cg06159603', 'cg08508988', 'cg16491617',\n",
       "       'cg08244848', 'cg01672943', 'cg17397592', 'cg17307479',\n",
       "       'cg19570244', 'cg12206199', 'cg02639540', 'cg12248614',\n",
       "       'cg21782409', 'cg16289957', 'cg26170805', 'cg14060496',\n",
       "       'cg08517286', 'cg11932837', 'cg22635008', 'cg20472745',\n",
       "       'cg23543123', 'cg26673012', 'cg22014661', 'cg09401099',\n",
       "       'cg09921707', 'cg03269060', 'cg26814276', 'cg11236429',\n",
       "       'cg16334314', 'cg25146017', 'cg19052355', 'cg25492241',\n",
       "       'cg14056357', 'cg19401340', 'cg08207377', 'cg14419975',\n",
       "       'cg15319457', 'cg23882862', 'cg11666087', 'cg24218279',\n",
       "       'cg02819335', 'cg21070172', 'cg19781133', 'cg18623980',\n",
       "       'cg20329085', 'cg20810478', 'cg09524455', 'cg17393267',\n",
       "       'cg05855039', 'cg25074185', 'cg22344793', 'cg08217024',\n",
       "       'cg04617755', 'cg11244340', 'cg26963271', 'cg14306734',\n",
       "       'cg13943217', 'cg25361023', 'cg20980055', 'cg01444397',\n",
       "       'cg05344430', 'cg10512745', 'cg14980983', 'cg25563233',\n",
       "       'cg14765959', 'cg26322248', 'cg26218412', 'cg26824006',\n",
       "       'cg12658720', 'cg10932018', 'cg18815943', 'cg27107171',\n",
       "       'cg25936054', 'cg16174680', 'cg15132565', 'cg01281776',\n",
       "       'cg06272038', 'cg04528060', 'cg05923587', 'cg20265733',\n",
       "       'cg10514658', 'cg19912436', 'cg18355902', 'cg13682477',\n",
       "       'cg07426195', 'cg23234832', 'cg20792436', 'cg11039614',\n",
       "       'cg09491991', 'cg17390350', 'cg21878275', 'cg16528511',\n",
       "       'cg26902216', 'cg18579862', 'cg18740893', 'cg27593384',\n",
       "       'cg14658804', 'cg24311382', 'cg09885505', 'cg23992410',\n",
       "       'cg02044219', 'cg08233654', 'cg12057741', 'cg04037038',\n",
       "       'cg05754435', 'cg04184208', 'cg16399136', 'cg22295787',\n",
       "       'cg13845982', 'cg14531663', 'cg23445461', 'cg22866015',\n",
       "       'cg04878955', 'cg14673256', 'cg18849840', 'cg00361495',\n",
       "       'cg19356191', 'cg13611347', 'cg17405234', 'cg06090660',\n",
       "       'cg04420309', 'cg22615158', 'cg07143532', 'cg10805352',\n",
       "       'cg11071231', 'cg03286235', 'cg05661282', 'cg22979783',\n",
       "       'cg07309102', 'cg07034362', 'cg12943155', 'cg23835677',\n",
       "       'cg05427966', 'cg02764245', 'cg23087992', 'cg14385280',\n",
       "       'cg20749769', 'cg05904135', 'cg26818735', 'cg17093995',\n",
       "       'cg13671919', 'cg00910695', 'cg26111030', 'cg17712694',\n",
       "       'cg18786535', 'cg14226182', 'cg00622654', 'cg14487131',\n",
       "       'cg05181186', 'cg00043095', 'cg23807890', 'cg00647217',\n",
       "       'cg17721710', 'cg22001496', 'cg06558014', 'cg14602438',\n",
       "       'cg07573209', 'cg17410236', 'cg19809499', 'cg17202313',\n",
       "       'cg01287132', 'cg19126300', 'cg27641522', 'cg04739647',\n",
       "       'cg07333715', 'cg04478179', 'cg14120129', 'cg26796518',\n",
       "       'cg16987305', 'cg04664153', 'cg00745555', 'cg24022375',\n",
       "       'cg01532168', 'cg21790626', 'cg24663256', 'cg25958283',\n",
       "       'cg12417685', 'cg07352438', 'cg21197774', 'cg23969342',\n",
       "       'cg23054189', 'cg14072515', 'cg20776240', 'cg09258813',\n",
       "       'cg02553663', 'cg24521633', 'cg13101087', 'cg11188318',\n",
       "       'cg25985659', 'cg10708221', 'cg05293994', 'cg14065127',\n",
       "       'cg18092028', 'cg13913015', 'cg12699286', 'cg20489026',\n",
       "       'cg02430347', 'cg11036833', 'cg17863743', 'cg12392473',\n",
       "       'cg12079322', 'cg07973470', 'cg09293786', 'cg20443778',\n",
       "       'cg25911468', 'cg00699945', 'cg25528121', 'cg03112087',\n",
       "       'cg06382344', 'cg01283246', 'cg17504999', 'cg02532037',\n",
       "       'cg08448665', 'cg10389229', 'cg05374412', 'cg27372920',\n",
       "       'cg07367395', 'cg05206884', 'cg07551545', 'cg08234308',\n",
       "       'cg00962913', 'cg05927190', 'cg05987787', 'cg16480692',\n",
       "       'cg26059153', 'cg13019878', 'cg19898128', 'cg07813249',\n",
       "       'cg17307442', 'cg24395801', 'cg01893212', 'cg16549308',\n",
       "       'cg22702772', 'cg23593167', 'cg03357260', 'cg10322724',\n",
       "       'cg13912117', 'cg12944197', 'cg27268486', 'cg06892009',\n",
       "       'cg14168923', 'cg10055771', 'cg08413157', 'cg25813864',\n",
       "       'cg24590788', 'cg27501878', 'cg15501281', 'cg05651778',\n",
       "       'cg09799983', 'cg27424244', 'cg24922143', 'cg17716664',\n",
       "       'cg15963552', 'cg14292280', 'cg10129201', 'cg18044663',\n",
       "       'cg14666113', 'cg27125605', 'cg14603620', 'cg00596508',\n",
       "       'cg08893692', 'cg14366571', 'cg18821485', 'cg07362969',\n",
       "       'cg19101326', 'cg09410607', 'cg26492446', 'cg04021697',\n",
       "       'cg11250941', 'cg13996155', 'cg12686317', 'cg08593261',\n",
       "       'cg15927720', 'cg15936446', 'cg13944084', 'cg15556502',\n",
       "       'cg21529405', 'cg09111223', 'cg07382923', 'cg23243867',\n",
       "       'cg03249947', 'cg12145080', 'cg25796439', 'cg12345672',\n",
       "       'cg18993918', 'cg24362812', 'cg20980783', 'cg08154437',\n",
       "       'cg24384244', 'cg02606808', 'cg18485193', 'cg09876651',\n",
       "       'cg14121142', 'cg23244289', 'cg24872782', 'cg13564825',\n",
       "       'cg18448581', 'cg02484469', 'cg02869459', 'cg02145932',\n",
       "       'cg18363538', 'cg06159486', 'cg20776829', 'cg25289973',\n",
       "       'cg11331678', 'cg21918126', 'cg14140881', 'cg19704805',\n",
       "       'cg19745637', 'cg25253677', 'cg18348647', 'cg18432099',\n",
       "       'cg11058154', 'cg00989492', 'cg13198321', 'cg24632247',\n",
       "       'cg09742751', 'cg15681537', 'cg19504702', 'cg26272220',\n",
       "       'cg05009389', 'cg07882671', 'cg18405539', 'cg24659054',\n",
       "       'cg06653045', 'cg06632207', 'cg16418810', 'cg07136998',\n",
       "       'cg25235766', 'cg16747247', 'cg06585820', 'cg13393978',\n",
       "       'cg09935282', 'cg07557560', 'cg08354889', 'cg17900854',\n",
       "       'cg22504204', 'cg08204280', 'cg20045492', 'cg10684547',\n",
       "       'cg01723606', 'cg20014049', 'cg00232735', 'cg14146100',\n",
       "       'cg19456540', 'cg02105519', 'cg08894594', 'cg07035503',\n",
       "       'cg03304610', 'cg24101492', 'cg08444220', 'cg19171596',\n",
       "       'cg07969676', 'cg14557714', 'cg13673164', 'cg04751035',\n",
       "       'cg08708684', 'cg25789861', 'cg08047376', 'cg06348377',\n",
       "       'cg06960784', 'cg07178143', 'cg27018380', 'cg22587479',\n",
       "       'cg16468914', 'cg09083627', 'cg25662463', 'cg09792926',\n",
       "       'cg18691800', 'cg13723825', 'cg13673837', 'cg18704110',\n",
       "       'cg05384102', 'cg22375192', 'cg27579953', 'cg12664464',\n",
       "       'cg26220018', 'cg17334018', 'cg02899346', 'cg15826437',\n",
       "       'cg23687000', 'cg16584573', 'cg02149189', 'cg12746059',\n",
       "       'cg07204353', 'cg08404028', 'cg20107759', 'cg00215432',\n",
       "       'cg18250028', 'cg24376266', 'cg16850173', 'cg03389653',\n",
       "       'cg17105834', 'cg25317585', 'cg09595163', 'cg05196969',\n",
       "       'cg15468521', 'cg19200589', 'cg25721451', 'cg01200640',\n",
       "       'cg11176990', 'cg14391419', 'cg20075156', 'cg19538733',\n",
       "       'cg18840956', 'cg23727983', 'cg12662072', 'cg13899188',\n",
       "       'cg20805367', 'cg03965044', 'cg11131532', 'cg04543008',\n",
       "       'cg26521404', 'cg24150172', 'cg16474170', 'cg12816979',\n",
       "       'cg15680624', 'cg09639725', 'cg13409170', 'cg05167251',\n",
       "       'cg27458987', 'cg12974388', 'cg21003581', 'cg24979233',\n",
       "       'cg13142700', 'cg05327835', 'cg18412834', 'cg17495912',\n",
       "       'cg12400336', 'cg21174533', 'cg22455914', 'cg18733255',\n",
       "       'cg13525837', 'cg21921384', 'cg20090283', 'cg04913057',\n",
       "       'cg17294237', 'cg17091361', 'cg22311507', 'cg17847723',\n",
       "       'cg14654886', 'cg19972558', 'cg13437164', 'cg20276585',\n",
       "       'cg17621054', 'cg11929643', 'cg23286646', 'cg25508605',\n",
       "       'cg20985450', 'cg11345323', 'cg03394150', 'cg00690148',\n",
       "       'cg12072964', 'cg24334111', 'cg11723848', 'cg15988350',\n",
       "       'cg16438655', 'cg20647610', 'cg03514404', 'cg13788515',\n",
       "       'cg15790820', 'cg18884037', 'cg04012592', 'cg22471255',\n",
       "       'cg11667020', 'cg04809453', 'cg17277892', 'cg17632579',\n",
       "       'cg26393015', 'cg20793089', 'cg25947544', 'cg05526905',\n",
       "       'cg16028201', 'cg26246807', 'cg03260566', 'cg20771178',\n",
       "       'cg02245004', 'cg22837726', 'cg18552861', 'cg20764887',\n",
       "       'cg03044249', 'cg26001902', 'cg12993163', 'cg07161721',\n",
       "       'cg18270629', 'cg27553667', 'cg22557662', 'cg24034005',\n",
       "       'cg06940482', 'cg18485844', 'cg20265661', 'cg18165852',\n",
       "       'cg13438334', 'cg24961583', 'cg16376000', 'cg21174055',\n",
       "       'cg20185017', 'cg27506082', 'cg07976064', 'cg07009376',\n",
       "       'cg13539545', 'cg22865798', 'cg26682094', 'cg18185971',\n",
       "       'cg25894658', 'cg09238180', 'cg12664209', 'cg15716405',\n",
       "       'cg23177772', 'cg24710320', 'cg18438944', 'cg10999312',\n",
       "       'cg24396691', 'cg04904331', 'cg18692149', 'cg18768157',\n",
       "       'cg14196840', 'cg16517702', 'cg26533745', 'cg10272601',\n",
       "       'cg20072171', 'cg17386213', 'cg14514032', 'cg01923218',\n",
       "       'cg09462445', 'cg01806520', 'cg06204735', 'cg07016184',\n",
       "       'cg01688536', 'cg00963169', 'cg09392940', 'cg16086620',\n",
       "       'cg05804220', 'cg02910208', 'cg22868282', 'cg19890277',\n",
       "       'cg02517134', 'cg02616947', 'cg25209842', 'cg03712541',\n",
       "       'cg19660239', 'cg07921384', 'cg07763047', 'cg03424342',\n",
       "       'cg16195091', 'cg11881754', 'cg18454916', 'cg07853758',\n",
       "       'cg13314145', 'cg01939477', 'cg10126205', 'cg08763705',\n",
       "       'cg25556204', 'cg23953697', 'cg13495205', 'cg22232327',\n",
       "       'cg08466792', 'cg24133547', 'cg18028347', 'cg27464184',\n",
       "       'cg19998368', 'cg24500832', 'cg11332236', 'cg24712484',\n",
       "       'cg07974511', 'cg14209299', 'cg03349020', 'cg15162392',\n",
       "       'cg02527669', 'cg15533075', 'cg14416371', 'cg09445727',\n",
       "       'cg24744430', 'cg27348223', 'cg16419629', 'cg15745900',\n",
       "       'cg06953252', 'cg07005055', 'cg22221870', 'cg17189465',\n",
       "       'cg18898125', 'cg06532037', 'cg09854734', 'cg09969277',\n",
       "       'cg05522554', 'cg10341154', 'cg02004641', 'cg17767285',\n",
       "       'cg05719164', 'cg22657780', 'cg14743594', 'cg21517947',\n",
       "       'cg20905516', 'cg26509022', 'cg02649987', 'cg26702929',\n",
       "       'cg22991512', 'cg06622999', 'cg18372607', 'cg01379240',\n",
       "       'cg19929126', 'cg15160198', 'cg24843474', 'cg04025074',\n",
       "       'cg14603098', 'cg02968429', 'cg04439623', 'cg18991549',\n",
       "       'cg04883903', 'cg22617773', 'cg02745211', 'cg18368411',\n",
       "       'cg20401521', 'cg11935854', 'cg12112529', 'cg08965276',\n",
       "       'cg26970841', 'cg15020425', 'cg04698114', 'cg16832267',\n",
       "       'cg23495748', 'cg15483964', 'cg27425996', 'cg05759718',\n",
       "       'cg10168149', 'cg23010302', 'cg09671258', 'cg27600205',\n",
       "       'cg25774643', 'cg22769941', 'cg26674943', 'cg25157280',\n",
       "       'cg20925841', 'cg06183338', 'cg01663603', 'cg08781140',\n",
       "       'cg14591786', 'cg09506302', 'cg10319505', 'cg02312409',\n",
       "       'cg09670128', 'cg13831922', 'cg24374738', 'cg06192497',\n",
       "       'cg09994356', 'cg03734437', 'cg11787785', 'cg16572375',\n",
       "       'cg16657164', 'cg14786024', 'cg13491481', 'cg03387135',\n",
       "       'cg00012397', 'cg08586541', 'cg21361094', 'cg02087954',\n",
       "       'cg24277313', 'cg27604626', 'cg00575005', 'cg00421139',\n",
       "       'cg13046832', 'cg13457172', 'cg17768491', 'cg15427906',\n",
       "       'cg01961447', 'cg04301104', 'cg03007522', 'cg24799620',\n",
       "       'cg13533340', 'cg12042587', 'cg12306156', 'cg20522387',\n",
       "       'cg01100912', 'cg00050152', 'cg25351996', 'cg09424526',\n",
       "       'cg25167643', 'cg16897114', 'cg18782604', 'cg14096889',\n",
       "       'cg15070848', 'cg10059810', 'cg14305313', 'cg03862225',\n",
       "       'cg23279522', 'cg00690431', 'cg01348004', 'cg11957331',\n",
       "       'cg13451280', 'cg20755170', 'cg18786873', 'cg04209911',\n",
       "       'cg08873805', 'cg17112089', 'cg03238797', 'cg17426273',\n",
       "       'cg10615414', 'cg10453230', 'cg12307787', 'cg02353165',\n",
       "       'cg15461105', 'cg07519816', 'cg07721203', 'cg20593611',\n",
       "       'cg18301891', 'cg02348751', 'cg14142007', 'cg05552183',\n",
       "       'cg16086373', 'cg22028075', 'cg23065934', 'cg20399509',\n",
       "       'cg14556303', 'cg16626067', 'cg08146483', 'cg25797055',\n",
       "       'cg14695240', 'cg16044251', 'cg19074340', 'cg15304699',\n",
       "       'cg19937938', 'cg09371439', 'cg22945605', 'cg09780241',\n",
       "       'cg27199384', 'cg13496979', 'cg03109827', 'cg04178858',\n",
       "       'cg27179533', 'cg02595575', 'cg18897632', 'cg18349138',\n",
       "       'cg21864259', 'cg08753373', 'cg17169289', 'cg12219082',\n",
       "       'cg24104567', 'cg09222269', 'cg19940537', 'cg21705897',\n",
       "       'cg05347845', 'cg19395074', 'cg10096145', 'cg16781205',\n",
       "       'cg04940570', 'cg09082903', 'cg10583297', 'cg16701456',\n",
       "       'cg26306909', 'cg14510812', 'cg08806408', 'cg18325439',\n",
       "       'cg16741041', 'cg05015306', 'cg24767148', 'cg22796507',\n",
       "       'cg14701643', 'cg27264049', 'cg07603330', 'cg04006722',\n",
       "       'cg08169864', 'cg01426853', 'cg12691866', 'cg11389172',\n",
       "       'cg14709460', 'cg14029489', 'cg22555675', 'cg06401579',\n",
       "       'cg16046980', 'cg14019186', 'cg11183632', 'cg15061530',\n",
       "       'cg16700364', 'cg10386483', 'cg23565942', 'cg12799781'],\n",
       "      dtype=object)"
      ]
     },
     "execution_count": 61,
     "metadata": {},
     "output_type": "execute_result"
    }
   ],
   "source": [
    "path_cpgs_age_M = config.ofname([[\"age_related\"], [\"GSE87571_1000cpg_age_dependence_sigma2_test_M\"]], ext = \".txt\", include_set = config.params_sets[\"age_related\"])\n",
    "path_cpgs_age_F = config.ofname([[\"age_related\"], [\"GSE87571_1000cpg_age_dependence_sigma2_test_F\"]], ext = \".txt\", include_set = config.params_sets[\"age_related\"])\n",
    "path_cpgs_age_Igor = config.ofname([[\"age_related\"], [\"cpgs_variance\"]], ext = \".txt\", include_set = config.params_sets[\"age_related\"])\n",
    "\n",
    "get_cpgs(fname = path_cpgs_age_Igor, col_name = 'nameCpG')"
   ]
  },
  {
   "cell_type": "code",
   "execution_count": 53,
   "metadata": {},
   "outputs": [],
   "source": [
    "sd = variance_analyze(X, range(X.shape[1]), group_masks)"
   ]
  },
  {
   "cell_type": "code",
   "execution_count": 54,
   "metadata": {},
   "outputs": [],
   "source": [
    "var = [0, 0, 0]\n",
    "var[0] = sd[0] ** 2\n",
    "var[1] = sd[1] ** 2\n",
    "var[2] = sd[2] ** 2"
   ]
  },
  {
   "cell_type": "code",
   "execution_count": 57,
   "metadata": {},
   "outputs": [
    {
     "data": {
      "text/plain": [
       "(array([0.05766241, 0.00658216, 0.02577584, ..., 0.03810199, 0.03238373,\n",
       "        0.00308951], dtype=float32),\n",
       " array([0.05097779, 0.00699519, 0.01343124, ..., 0.02412374, 0.02362443,\n",
       "        0.00340381], dtype=float32),\n",
       " array([0.06722929, 0.00585764, 0.00906403, ..., 0.01885523, 0.01574338,\n",
       "        0.00195613], dtype=float32))"
      ]
     },
     "execution_count": 57,
     "metadata": {},
     "output_type": "execute_result"
    }
   ],
   "source": [
    "var[0], var[1], var[2]\n",
    "sd[0], sd[1], sd[2]"
   ]
  },
  {
   "cell_type": "code",
   "execution_count": 28,
   "metadata": {
    "scrolled": false
   },
   "outputs": [
    {
     "data": {
      "image/png": "[encoded data removed]",
      "text/plain": [
       "<Figure size 432x288 with 1 Axes>"
      ]
     },
     "metadata": {
      "needs_background": "light"
     },
     "output_type": "display_data"
    },
    {
     "data": {
      "image/png": "[encoded data removed]",
      "text/plain": [
       "<Figure size 432x288 with 1 Axes>"
      ]
     },
     "metadata": {
      "needs_background": "light"
     },
     "output_type": "display_data"
    },
    {
     "data": {
      "image/png": "[encoded data removed]",
      "text/plain": [
       "<Figure size 432x288 with 1 Axes>"
      ]
     },
     "metadata": {
      "needs_background": "light"
     },
     "output_type": "display_data"
    },
    {
     "data": {
      "image/png": "[encoded data removed]",
      "text/plain": [
       "<Figure size 432x288 with 1 Axes>"
      ]
     },
     "metadata": {
      "needs_background": "light"
     },
     "output_type": "display_data"
    },
    {
     "data": {
      "image/png": "[encoded data removed]",
      "text/plain": [
       "<Figure size 432x288 with 1 Axes>"
      ]
     },
     "metadata": {
      "needs_background": "light"
     },
     "output_type": "display_data"
    },
    {
     "data": {
      "image/png": "[encoded data removed]",
      "text/plain": [
       "<Figure size 432x288 with 1 Axes>"
      ]
     },
     "metadata": {
      "needs_background": "light"
     },
     "output_type": "display_data"
    },
    {
     "data": {
      "image/png": "[encoded data removed]",
      "text/plain": [
       "<Figure size 432x288 with 1 Axes>"
      ]
     },
     "metadata": {
      "needs_background": "light"
     },
     "output_type": "display_data"
    },
    {
     "data": {
      "image/png": "[encoded data removed]",
      "text/plain": [
       "<Figure size 432x288 with 1 Axes>"
      ]
     },
     "metadata": {
      "needs_background": "light"
     },
     "output_type": "display_data"
    },
    {
     "data": {
      "image/png": "[encoded data removed]",
      "text/plain": [
       "<Figure size 432x288 with 1 Axes>"
      ]
     },
     "metadata": {
      "needs_background": "light"
     },
     "output_type": "display_data"
    },
    {
     "data": {
      "image/png": "[encoded data removed]",
      "text/plain": [
       "<Figure size 432x288 with 1 Axes>"
      ]
     },
     "metadata": {
      "needs_background": "light"
     },
     "output_type": "display_data"
    }
   ],
   "source": [
    "for cid in ids[-10:]:\n",
    "    plt.figure()\n",
    "    plt.scatter(np.ones(29), X[group_masks[0], cid] - X[group_masks[0], cid].mean(), c = 'r')\n",
    "    plt.scatter(np.ones(29) * 2, X[group_masks[1], cid] - X[group_masks[1], cid].mean(), c = 'g')\n",
    "    plt.scatter(np.ones(29) * 3, X[group_masks[2], cid] - X[group_masks[2], cid].mean(), c = 'b')\n",
    "    #plt.legend([\"Down\", \"Siblings\", \"Mothers\"], framealpha=0.9, fontsize=20, bbox_to_anchor=(0., 1.02, 1., .102), loc=3,\n",
    "    #           ncol=3, mode=\"expand\", borderaxespad=0., handletextpad=0.3, scatterpoints=1)    \n",
    "    plt.subplots_adjust(bottom=0.2, top=0.8, left=0.2, right=0.95)\n",
    "    #plt.title(str(is_diff[0][cid]) + ' ' + str(is_diff[1][cid]) + ' ' + str(is_diff[2][cid]))"
   ]
  },
  {
   "cell_type": "code",
   "execution_count": 49,
   "metadata": {},
   "outputs": [
    {
     "name": "stderr",
     "output_type": "stream",
     "text": [
      "\n",
      "  0%|                                                                                           | 0/10 [00:00<?, ?it/s]\n",
      "100%|████████████████████████████████████████████████████████████████████████████████| 10/10 [00:00<00:00, 5003.34it/s]"
     ]
    }
   ],
   "source": [
    "for i in tqdm(range(10)):\n",
    "    pass"
   ]
  },
  {
   "cell_type": "code",
   "execution_count": 86,
   "metadata": {},
   "outputs": [],
   "source": [
    "path_cpgs_age_M = config.ofname([[\"age_related\"], [\"GSE87571_1000cpg_age_dependence_sigma2_test_M\"]], ext = \".txt\", include_set = config.params_sets[\"age_related\"])\n",
    "path_cpgs_age_F = config.ofname([[\"age_related\"], [\"GSE87571_1000cpg_age_dependence_sigma2_test_F\"]], ext = \".txt\", include_set = config.params_sets[\"age_related\"])\n",
    "path_cpgs_age_Igor = config.ofname([[\"age_related\"], [\"cpgs_variance\"]], ext = \".txt\", include_set = config.params_sets[\"age_related\"])\n",
    "\n",
    "cpgs_in_subset = {'age_related_Olga_M': partial(get_cpgs, fname = path_cpgs_age_M),\n",
    "                  'age_related_Olga_F': partial(get_cpgs, fname = path_cpgs_age_F),\n",
    "                  'age_related_Igor': partial(get_cpgs, fname = path_cpgs_age_Igor),\n",
    "                  'down_related_2015': get_down_related_2015_cpgs,\n",
    "                  'std_related': get_std_related}\n",
    "    \n",
    "for subset_name, get_subset in cpgs_in_subset.items():\n",
    "    path_variance = config.ofname([[\"down_variance\"], [\"variance\", subset_name]], ext = \".pdf\", \n",
    "                                                 include_set = config.params_sets[\"down_epimutations\"])\n",
    "    \n",
    "    calc_for_cpg_list(get_subset(1), bad_cpgs, path_variance, kernel_variance)\n",
    "\n",
    "    #\n",
    "    path_variance = config.ofname([[\"regressout_cells_down_cpg_variance\"], [\"variance\", subset_name]], ext = \".pdf\", \n",
    "                                                 include_set = config.params_sets[\"down_epimutations\"])\n",
    "    calc_for_cpg_list(get_subset(2), bad_cpgs, path_variance, partial(kernel_variance, X = X_r))\n",
    "    \n",
    "    #\n",
    "    path_variance = config.ofname([[\"regressout_cells_age_down_cpg_variance\"], [\"variance\", subset_name]], ext = \".pdf\", \n",
    "                                                 include_set = config.params_sets[\"down_epimutations\"])\n",
    "    calc_for_cpg_list(get_subset(3), bad_cpgs, path_variance, partial(kernel_variance, X = X_r2))\n",
    "    \n",
    "    # Boxplots\n",
    "    path_variance = config.ofname([[\"down_variance\"], [\"variance_boxplot\", subset_name]], ext = \".pdf\", \n",
    "                                                 include_set = config.params_sets[\"down_epimutations\"])\n",
    "    \n",
    "    calc_for_cpg_list(get_subset(1), bad_cpgs, path_variance, kernel_variance_boxplot)\n",
    "\n",
    "    #\n",
    "    path_variance = config.ofname([[\"regressout_cells_down_cpg_variance\"], [\"variance_boxplot\", subset_name]], ext = \".pdf\", \n",
    "                                                 include_set = config.params_sets[\"down_epimutations\"])\n",
    "    calc_for_cpg_list(get_subset(2), bad_cpgs, path_variance, partial(kernel_variance_boxplot, X = X_r))\n",
    "    \n",
    "    #\n",
    "    path_variance = config.ofname([[\"regressout_cells_age_down_cpg_variance\"], [\"variance_boxplot\", subset_name]], ext = \".pdf\", \n",
    "                                                 include_set = config.params_sets[\"down_epimutations\"])\n",
    "    calc_for_cpg_list(get_subset(3), bad_cpgs, path_variance, partial(kernel_variance_boxplot, X = X_r2))\n",
    "    "
   ]
  },
  {
   "cell_type": "code",
   "execution_count": 93,
   "metadata": {},
   "outputs": [
    {
     "name": "stdout",
     "output_type": "stream",
     "text": [
      "F:\\PC\\UNN\\Scientific\\Gerontology\\data\\GSE52588\\params\\num_cpgs_150253\\kde_mask_healthy_mask\\algorithm_svc\\down_epimutations\\epimutation_geneparts.pdf\n",
      "['TSS1500', \"3'UTR\", 'Body', 'Body', \"3'UTR\", \"3'UTR\", '1stExon', 'TSS1500', 'TSS200', 'Body']\n"
     ]
    },
    {
     "name": "stderr",
     "output_type": "stream",
     "text": [
      "100%|█████████████████████████████████████████████████████████████████| 6/6 [00:32<00:00,  5.70s/it]\n"
     ]
    },
    {
     "name": "stdout",
     "output_type": "stream",
     "text": [
      "['TSS1500', \"3'UTR\", 'Body', 'Body', \"3'UTR\", \"3'UTR\", '1stExon', 'TSS1500', 'TSS200', 'Body']\n"
     ]
    },
    {
     "name": "stderr",
     "output_type": "stream",
     "text": [
      "100%|█████████████████████████████████████████████████████████████████| 6/6 [00:30<00:00,  5.13s/it]\n"
     ]
    },
    {
     "name": "stdout",
     "output_type": "stream",
     "text": [
      "['TSS1500', \"3'UTR\", 'Body', 'Body', \"3'UTR\", \"3'UTR\", '1stExon', 'TSS1500', 'TSS200', 'Body']\n"
     ]
    },
    {
     "name": "stderr",
     "output_type": "stream",
     "text": [
      "100%|█████████████████████████████████████████████████████████████████| 6/6 [00:25<00:00,  4.34s/it]\n"
     ]
    },
    {
     "name": "stdout",
     "output_type": "stream",
     "text": [
      "['TSS1500', \"3'UTR\", 'Body', 'Body', \"3'UTR\", \"3'UTR\", '1stExon', 'TSS1500', 'TSS200', 'Body']\n"
     ]
    },
    {
     "name": "stderr",
     "output_type": "stream",
     "text": [
      "100%|█████████████████████████████████████████████████████████████████| 6/6 [00:28<00:00,  4.75s/it]\n"
     ]
    },
    {
     "name": "stdout",
     "output_type": "stream",
     "text": [
      "F:\\PC\\UNN\\Scientific\\Gerontology\\data\\GSE52588\\params\\num_cpgs_150253\\kde_mask_healthy_mask\\algorithm_svc\\down_epimutations\\epimutation_geotypes.pdf\n",
      "['N_Shore', 'N_Shore', 'N_Shore', 'S_Shore', 'Island', 'Island', 'S_Shore', 'S_Shelf', 'Island', 'Island']\n"
     ]
    },
    {
     "name": "stderr",
     "output_type": "stream",
     "text": [
      "100%|█████████████████████████████████████████████████████████████████| 5/5 [00:19<00:00,  3.89s/it]\n"
     ]
    },
    {
     "name": "stdout",
     "output_type": "stream",
     "text": [
      "['N_Shore', 'N_Shore', 'N_Shore', 'S_Shore', 'Island', 'Island', 'S_Shore', 'S_Shelf', 'Island', 'Island']\n"
     ]
    },
    {
     "name": "stderr",
     "output_type": "stream",
     "text": [
      "100%|█████████████████████████████████████████████████████████████████| 5/5 [00:20<00:00,  4.20s/it]\n"
     ]
    },
    {
     "name": "stdout",
     "output_type": "stream",
     "text": [
      "['N_Shore', 'N_Shore', 'N_Shore', 'S_Shore', 'Island', 'Island', 'S_Shore', 'S_Shelf', 'Island', 'Island']\n"
     ]
    },
    {
     "name": "stderr",
     "output_type": "stream",
     "text": [
      "100%|█████████████████████████████████████████████████████████████████| 5/5 [00:19<00:00,  3.88s/it]\n"
     ]
    },
    {
     "name": "stdout",
     "output_type": "stream",
     "text": [
      "['N_Shore', 'N_Shore', 'N_Shore', 'S_Shore', 'Island', 'Island', 'S_Shore', 'S_Shelf', 'Island', 'Island']\n"
     ]
    },
    {
     "name": "stderr",
     "output_type": "stream",
     "text": [
      "100%|█████████████████████████████████████████████████████████████████| 5/5 [00:19<00:00,  3.94s/it]\n"
     ]
    },
    {
     "name": "stdout",
     "output_type": "stream",
     "text": [
      "F:\\PC\\UNN\\Scientific\\Gerontology\\data\\GSE52588\\params\\num_cpgs_150253\\kde_mask_healthy_mask\\algorithm_svc\\down_epimutations\\epimutation_chromosomes.pdf\n"
     ]
    },
    {
     "name": "stderr",
     "output_type": "stream",
     "text": [
      "100%|███████████████████████████████████████████████████████████████| 23/23 [01:33<00:00,  3.69s/it]\n",
      "100%|███████████████████████████████████████████████████████████████| 23/23 [01:26<00:00,  3.64s/it]\n",
      "100%|███████████████████████████████████████████████████████████████| 23/23 [01:27<00:00,  3.98s/it]\n",
      "100%|███████████████████████████████████████████████████████████████| 23/23 [01:25<00:00,  3.60s/it]\n"
     ]
    },
    {
     "data": {
      "text/plain": [
       "'\\npath_epimutations_genepart = config.ofname([[\"down_epimutations\"], [\"epimutation\", \"geneparts\"]], ext = \".pdf\", \\n                                                 include_set = config.params_sets[\"down_epimutations\"])\\ntraverse_gene_parts(feature_names, bad_cpgs, path_epimutations_genepart, kernel_epimutations)\\n\\n### Variance\\n\\n# Genepart\\n\\npath_variance_genepart = config.ofname([[\"down_variance\"], [\"variance\", \"geneparts\"]], ext = \".pdf\", \\n                                                 include_set = config.params_sets[\"down_epimutations\"])\\ntraverse_gene_parts(features_names, bad_cpgs, path_variance_genepart, kernel_variance)\\n\\n# \\npath_epimutations_geotype = config.ofname([[\"down_epimutations\"], [\"epimutation\", \"geotypes\"]], ext = \".pdf\", \\n                                                 include_set = config.params_sets[\"down_epimutations\"])\\n\\npath_epimutations_chromosome = config.ofname([[\"down_epimutations\"], [\"epimutation\", \"chromosomes\"]], ext = \".pdf\", \\n                                                 include_set = config.params_sets[\"down_epimutations\"])\\n'"
      ]
     },
     "execution_count": 93,
     "metadata": {},
     "output_type": "execute_result"
    }
   ],
   "source": [
    "\n",
    "cpg_subsets = {'geneparts': traverse_gene_parts, \n",
    "               'geotypes': traverse_geo_types,\n",
    "               'chromosomes': traverse_chromosomes}\n",
    "\n",
    "for subset_name, traverse_subset in cpg_subsets.items():\n",
    "    # Epimutation\n",
    "    path_epimutations = config.ofname([[\"down_epimutations\"], [\"epimutation\", subset_name]], ext = \".pdf\", \n",
    "                                                 include_set = config.params_sets[\"down_epimutations\"])\n",
    "    #traverse_subset(features_names, bad_cpgs, path_epimutations, kernel_epimutations)\n",
    "    print(path_epimutations)\n",
    "    \n",
    "    path_epimutations = config.ofname([[\"regressout_cells_down_epimutations\"], [\"epimutation\", subset_name]], ext = \".pdf\", \n",
    "                                                 include_set = config.params_sets[\"down_epimutations\"])\n",
    "    #traverse_subset(features_names, bad_cpgs, path_epimutations, partial(kernel_epimutations, epimutations = epimutations_r))\n",
    "    \n",
    "    path_epimutations = config.ofname([[\"regressout_cells_age_down_epimutations\"], [\"epimutation\", subset_name]], ext = \".pdf\", \n",
    "                                                 include_set = config.params_sets[\"down_epimutations\"])\n",
    "    #traverse_subset(features_names, bad_cpgs, path_epimutations, partial(kernel_epimutations, epimutations = epimutations_r2))\n",
    "    \n",
    "    \n",
    "    # Epimutation boxplots\n",
    "    path_epimutation_boxplots = config.ofname([[\"down_epimutations\"], [\"epimutation_boxplot\", subset_name]], ext = \".pdf\", \n",
    "                                                 include_set = config.params_sets[\"down_epimutations\"])\n",
    "    #traverse_subset(features_names, bad_cpgs, path_epimutation_boxplots, kernel_epimutations_boxplot)\n",
    "    \n",
    "    path_epimutation_boxplots = config.ofname([[\"regressout_cells_down_epimutations\"], [\"epimutation_boxplot\", subset_name]], ext = \".pdf\", \n",
    "                                                 include_set = config.params_sets[\"down_epimutations\"])\n",
    "    #traverse_subset(features_names, bad_cpgs, path_epimutation_boxplots, partial(kernel_epimutations_boxplot, epimutations = epimutations_r))\n",
    "    \n",
    "    path_epimutation_boxplots = config.ofname([[\"regressout_cells_age_down_epimutations\"], [\"epimutation_boxplot\", subset_name]], ext = \".pdf\", \n",
    "                                                 include_set = config.params_sets[\"down_epimutations\"])\n",
    "    #traverse_subset(features_names, bad_cpgs, path_epimutation_boxplots, partial(kernel_epimutations_boxplot, epimutations = epimutations_r2))\n",
    "    \n",
    "    # Variance\n",
    "    path_variance = config.ofname([[\"down_variance\"], [\"variance\", subset_name]], ext = \".pdf\", \n",
    "                                                 include_set = config.params_sets[\"down_epimutations\"])\n",
    "    traverse_subset(features_names, bad_cpgs, path_variance, kernel_variance)\n",
    "    \n",
    "    path_variance_boxplot = config.ofname([[\"down_variance\"], [\"variance_boxplot\", subset_name]], ext = \".pdf\", \n",
    "                                                 include_set = config.params_sets[\"down_epimutations\"])\n",
    "    traverse_subset(features_names, bad_cpgs, path_variance_boxplot, kernel_variance_boxplot)\n",
    "    \n",
    "    path_variance = config.ofname([[\"regressout_cells_down_cpg_variance\"], [\"variance\", subset_name]], ext = \".pdf\", \n",
    "                                                 include_set = config.params_sets[\"down_epimutations\"])\n",
    "    traverse_subset(features_names, bad_cpgs, path_variance, partial(kernel_variance, X = X_r))\n",
    "    \n",
    "    path_variance = config.ofname([[\"regressout_cells_age_down_cpg_variance\"], [\"variance\", subset_name]], ext = \".pdf\", \n",
    "                                                 include_set = config.params_sets[\"down_epimutations\"])\n",
    "    traverse_subset(features_names, bad_cpgs, path_variance, partial(kernel_variance, X = X_r2))\n",
    "    \n",
    "# Epimutations\n",
    "'''\n",
    "path_epimutations_genepart = config.ofname([[\"down_epimutations\"], [\"epimutation\", \"geneparts\"]], ext = \".pdf\", \n",
    "                                                 include_set = config.params_sets[\"down_epimutations\"])\n",
    "traverse_gene_parts(feature_names, bad_cpgs, path_epimutations_genepart, kernel_epimutations)\n",
    "\n",
    "### Variance\n",
    "\n",
    "# Genepart\n",
    "\n",
    "path_variance_genepart = config.ofname([[\"down_variance\"], [\"variance\", \"geneparts\"]], ext = \".pdf\", \n",
    "                                                 include_set = config.params_sets[\"down_epimutations\"])\n",
    "traverse_gene_parts(features_names, bad_cpgs, path_variance_genepart, kernel_variance)\n",
    "\n",
    "# \n",
    "path_epimutations_geotype = config.ofname([[\"down_epimutations\"], [\"epimutation\", \"geotypes\"]], ext = \".pdf\", \n",
    "                                                 include_set = config.params_sets[\"down_epimutations\"])\n",
    "\n",
    "path_epimutations_chromosome = config.ofname([[\"down_epimutations\"], [\"epimutation\", \"chromosomes\"]], ext = \".pdf\", \n",
    "                                                 include_set = config.params_sets[\"down_epimutations\"])\n",
    "'''\n"
   ]
  },
  {
   "cell_type": "code",
   "execution_count": 118,
   "metadata": {},
   "outputs": [
    {
     "name": "stdout",
     "output_type": "stream",
     "text": [
      "318391\n",
      "1970.2413793103449\n",
      "1640.7241379310344\n",
      "1913.655172413793\n"
     ]
    },
    {
     "data": {
      "image/png": "[encoded data removed]",
      "text/plain": [
       "<Figure size 720x360 with 1 Axes>"
      ]
     },
     "metadata": {
      "needs_background": "light"
     },
     "output_type": "display_data"
    }
   ],
   "source": [
    "from scipy import stats\n",
    "#plt.boxplot([epimutations[y == 0], epimutations[y == 1], epimutations[y == 2]])\n",
    "def plot_epimutations(epimutations_sum, groups, y, path_epimutations, title):\n",
    "    colors = ['r', 'g', 'b']\n",
    "    plt.figure(figsize=(10, 5))\n",
    "    ax = plt.axes()\n",
    "    my = 0\n",
    "    for j in range(len(groups)):\n",
    "        x = epimutations_sum[y == j]\n",
    "        kde = stats.gaussian_kde(x)\n",
    "        xx = np.linspace(0, max(x) * 1.5, 300)\n",
    "        yy = kde(xx)\n",
    "        ax.plot(xx, yy, colors[j], alpha = 0.5, linewidth = 3)\n",
    "        my = max(my, max(yy))\n",
    "    \n",
    "    for j in range(len(groups)):\n",
    "        x = epimutations_sum[y == j]\n",
    "        dy = my * 0.025\n",
    "        yy = -np.random.rand(x.shape[0]) * dy * 0.8 - 2.5 * dy * j - dy\n",
    "        ax.scatter(x, yy, c = colors[j], alpha = 0.5, s = 30)\n",
    "        #plt.hist(x, color = colors[j], alpha = 0.5)\n",
    "    #plt.xlim(left = 0)\n",
    "    #ax.ticklabel_format(scilimits = [-7, 0])\n",
    "    plt.legend([\"Down\", \"Siblings\", \"Mothers\"])\n",
    "    plt.xlabel('Number of epimutations per subject\\n($\\\\beta < Q_1 - 3 \\\\cdot {\\\\bf IQR}$ or $Q_3 + 3 \\\\cdot {\\\\bf IQR} < \\\\beta$)', fontsize = fontsize)\n",
    "    plt.ylabel('${\\\\bf PDF}$', fontsize = fontsize)\n",
    "    plt.title(title, fontsize = 1.2 * fontsize)\n",
    "    plt.subplots_adjust(bottom=0.2, top=0.9, left=0.2, right=0.95)\n",
    "    #plt.show()\n",
    "    if path_epimutations != '':\n",
    "        plt.savefig(path_epimutations)\n",
    "\n",
    "def plot_epimutations_boxplot(epimutations_sum, groups, y, path_epimutations, title):\n",
    "    colors = ['r', 'g', 'b']\n",
    "    plt.figure(figsize=(10, 5))\n",
    "    ax = plt.axes()\n",
    "    xx = []\n",
    "    for j in range(len(groups)):\n",
    "        x = epimutations_sum[y == j]\n",
    "        xx.append(x)\n",
    "        print(np.mean(x))\n",
    "    \n",
    "    boxprops=dict(linewidth = 0)\n",
    "    capprops= whiskerprops=dict(color='#455A64', linewidth = 6)\n",
    "    \n",
    "    bplot = ax.boxplot(xx, labels = [\"Down\", \"Siblings\", \"Mothers\"], patch_artist=True, boxprops=boxprops,whiskerprops =whiskerprops, capprops =capprops )\n",
    "    for patch, color in zip(bplot['boxes'], colors):\n",
    "        patch.set_facecolor(color)\n",
    "    for median in bplot['medians']:\n",
    "        median.set(color='w', linewidth=3)\n",
    "    \n",
    "    for j in range(len(groups)):\n",
    "        x = epimutations_sum[y == j]\n",
    "        yy = j + np.random.rand(x.shape[0]) * 0.25 + 1 + 0.25\n",
    "        ax.scatter(yy, x, c =  colors[j], alpha = 0.5, s = 30)\n",
    "        #plt.hist(x, color = colors[j], alpha = 0.5)\n",
    "    \n",
    "    ax.set_yscale('log')\n",
    "    #plt.xlim(left = 0)\n",
    "    #ax.ticklabel_format(scilimits = [-7, 0])\n",
    "    #plt.legend([\"Down\", \"Siblings\", \"Mothers\"], framealpha=0.9, fontsize=20, bbox_to_anchor=(0., 1.02, 1., .102), loc=3,\n",
    "    #       ncol=3, mode=\"expand\", borderaxespad=0., handletextpad=0.3, scatterpoints=3)    \n",
    "    #plt.xlabel('Number of epimutations per subject\\n($\\\\beta < Q_1 - 3 \\\\cdot {\\\\bf IQR}$ or $Q_3 + 3 \\\\cdot {\\\\bf IQR} < \\\\beta$)', fontsize = fontsize)\n",
    "    plt.ylabel('Number of epimutations', fontsize = fontsize)\n",
    "    plt.title(title, fontsize = 1.2 * fontsize)\n",
    "    plt.subplots_adjust(bottom=0.2, top=0.8, left=0.2, right=0.95)\n",
    "    #plt.show()\n",
    "    if path_epimutations != '':\n",
    "        plt.savefig(path_epimutations)\n",
    "        \n",
    "cpgs_names, ids = cpgs.get_cpgs({'gene_out': [np.NaN], 'cpgs_in': features_names, 'cpgs_out': bad_cpgs, 'chr_out': ['X', 'Y']}) # 'geotype_in': ['Island', 'N_Shore', 'S_Shore']\n",
    "cpgs_names, ids, ids2 = np.intersect1d(features_names, cpgs_names, return_indices = True)\n",
    "print(len(ids))\n",
    "sub_epimutations_sum = epimutations_r[:, ids].astype('int32').sum(axis = 1)\n",
    "plot_epimutations_boxplot(sub_epimutations_sum, groups, y, '', 'All good cpgs on genes')"
   ]
  },
  {
   "cell_type": "code",
   "execution_count": 69,
   "metadata": {},
   "outputs": [
    {
     "name": "stdout",
     "output_type": "stream",
     "text": [
      "91875\n"
     ]
    },
    {
     "data": {
      "image/png": "[encoded data removed]",
      "text/plain": [
       "<Figure size 720x360 with 1 Axes>"
      ]
     },
     "metadata": {
      "needs_background": "light"
     },
     "output_type": "display_data"
    }
   ],
   "source": [
    "cpgs_names, ids = cpgs.get_cpgs({'gene_in': [np.NaN], 'cpgs_in': features_names, 'cpgs_out': bad_cpgs}) # 'geotype_in': ['Island', 'N_Shore', 'S_Shore']\n",
    "cpgs_names, ids, ids2 = np.intersect1d(features_names, cpgs_names, return_indices = True)\n",
    "print(len(ids))\n",
    "sub_epimutations_sum = epimutations[:, ids].astype('int32').sum(axis = 1)\n",
    "plot_epimutations(sub_epimutations_sum, groups, y, '', 'All cpgs not on genes')"
   ]
  },
  {
   "cell_type": "code",
   "execution_count": 66,
   "metadata": {},
   "outputs": [],
   "source": [
    "cpgs_names, ids = cpgs.get_cpgs({'gene_in': [np.NaN]}) # 'geotype_in': ['Island', 'N_Shore', 'S_Shore']"
   ]
  },
  {
   "cell_type": "code",
   "execution_count": 68,
   "metadata": {},
   "outputs": [
    {
     "data": {
      "text/plain": [
       "119977"
      ]
     },
     "execution_count": 68,
     "metadata": {},
     "output_type": "execute_result"
    }
   ],
   "source": [
    "len(ids)"
   ]
  },
  {
   "cell_type": "code",
   "execution_count": 85,
   "metadata": {},
   "outputs": [],
   "source": [
    "patients_info = pd.read_csv(config.ifname(\"patients_info\"), delimiter='\\t')"
   ]
  },
  {
   "cell_type": "code",
   "execution_count": 94,
   "metadata": {},
   "outputs": [
    {
     "data": {
      "image/png": "[encoded data removed]",
      "text/plain": [
       "<Figure size 432x288 with 1 Axes>"
      ]
     },
     "metadata": {
      "needs_background": "light"
     },
     "output_type": "display_data"
    },
    {
     "data": {
      "image/png": "[encoded data removed]",
      "text/plain": [
       "<Figure size 432x288 with 1 Axes>"
      ]
     },
     "metadata": {
      "needs_background": "light"
     },
     "output_type": "display_data"
    },
    {
     "data": {
      "image/png": "[encoded data removed]",
      "text/plain": [
       "<Figure size 432x288 with 1 Axes>"
      ]
     },
     "metadata": {
      "needs_background": "light"
     },
     "output_type": "display_data"
    }
   ],
   "source": [
    "ages = patients_info[\"age\"].values\n",
    "colors = ['r', 'g', 'b']\n",
    "for i, mask in enumerate(group_masks):\n",
    "    plt.figure()\n",
    "    plt.hist(ages[mask], color=colors[i])\n",
    "    plt.title('std = ' + str(ages[mask].std()) + ' mean = ' + str(ages[mask].mean()))\n",
    "#plt.figure()\n",
    "#plt.hist(ages[29:29*2], color='g')\n",
    "#plt.figure()\n",
    "#plt.hist(ages[29*2:29*3], color='b')\n",
    "\n"
   ]
  },
  {
   "cell_type": "markdown",
   "metadata": {},
   "source": [
    "# CpG variance"
   ]
  },
  {
   "cell_type": "code",
   "execution_count": 7,
   "metadata": {},
   "outputs": [],
   "source": [
    "def variance_analyze(X, ids, group_masks):\n",
    "    sd = [0] * len(group_masks)\n",
    "    for j, mask in enumerate(group_masks):\n",
    "        x = X[mask, :]\n",
    "        sd[j] = np.std(x[:, ids], axis = 0)\n",
    "    return sd\n",
    "\n",
    "#sd = []\n",
    "\n",
    "#pdf.savefig()\n",
    "#plt.close()\n"
   ]
  },
  {
   "cell_type": "code",
   "execution_count": 30,
   "metadata": {
    "scrolled": false
   },
   "outputs": [
    {
     "data": {
      "image/png": "[encoded data removed]",
      "text/plain": [
       "<Figure size 720x360 with 1 Axes>"
      ]
     },
     "metadata": {
      "needs_background": "light"
     },
     "output_type": "display_data"
    }
   ],
   "source": [
    "from scipy import stats\n",
    "#plt.boxplot([epimutations[y == 0], epimutations[y == 1], epimutations[y == 2]])\n",
    "def plot_variance(sd, groups, group_masks, y, title):\n",
    "    colors = ['r', 'g', 'b']\n",
    "    plt.figure(figsize=(10, 5))\n",
    "    ax = plt.axes()\n",
    "    my = 0\n",
    "    mn = 100\n",
    "    for j, mask in enumerate(group_masks):\n",
    "        x = sd[j]\n",
    "        my = max(my, max(x))\n",
    "        mn = min(my, min(x))\n",
    "    #mn = 1e-3\n",
    "    for j, mask in enumerate(group_masks):\n",
    "        x = sd[j]\n",
    "        kde = stats.gaussian_kde(np.log10(x))\n",
    "        xx = np.linspace(np.log10(mn), np.log10(my), 100)\n",
    "        yy = kde(xx)\n",
    "        ax.plot(10 ** xx, yy, colors[j], alpha = 0.5, linewidth = 3)\n",
    "        ##n,x,_ = ax.hist(x, np.linspace(np.log10(mn), np.log10(my), 40), histtype=u'step', density=True, linewidth = 0)\n",
    "        \n",
    "        #n,x,_ = ax.hist(x, xx, histtype=u'step', density=True, linewidth = 0)\n",
    "        #bin_centers = 0.5*(x[1:]+x[:-1])\n",
    "        #ax.plot(bin_centers,n, linewidth = 3, c = colors[j])\n",
    "        \n",
    "    \n",
    "    #ax.set_yscale('log')\n",
    "    ax.set_xscale('log')\n",
    "    #plt.xlim(left = 0, right = my)\n",
    "    #plt.ylim(bottom = 1e-5)\n",
    "    #ax.ticklabel_format(scilimits = [-7, 0])\n",
    "    plt.legend([\"Down\", \"Siblings\", \"Mothers\"])\n",
    "    plt.xlabel('STD of CpG sites', fontsize = fontsize)\n",
    "    plt.ylabel('${\\\\bf PDF}$', fontsize = fontsize)\n",
    "    plt.title(title, fontsize = 1.2 * fontsize)\n",
    "    plt.subplots_adjust(bottom=0.2, top=0.9, left=0.2, right=0.95)\n",
    "    #plt.show()\n",
    "    \n",
    "def plot_variance_boxplot(sd, groups, group_masks, y, title):\n",
    "    colors = ['r', 'g', 'b']\n",
    "    my = 0\n",
    "    \n",
    "    colors = ['r', 'g', 'b']\n",
    "    plt.figure(figsize=(10, 5))\n",
    "    ax = plt.axes()\n",
    "    xx = []\n",
    "    for j, mask in enumerate(group_masks):\n",
    "        x = sd[j]\n",
    "        xx.append(x)\n",
    "    \n",
    "    boxprops=dict(linewidth = 0)\n",
    "    capprops= whiskerprops=dict(color='#455A64', linewidth = 6)\n",
    "    \n",
    "    bplot = ax.boxplot(xx, labels = [\"Down\", \"Siblings\", \"Mothers\"], patch_artist=True, boxprops=boxprops,whiskerprops =whiskerprops, capprops =capprops )\n",
    "    for patch, color in zip(bplot['boxes'], colors):\n",
    "        patch.set_facecolor(color)\n",
    "    for median in bplot['medians']:\n",
    "        median.set(color='w', linewidth=3)\n",
    "    \n",
    "    for j, mask in enumerate(group_masks):\n",
    "        x = sd[j]\n",
    "        yy = j + np.random.rand(x.shape[0]) * 0.25 + 1 + 0.25\n",
    "        #ax.scatter(yy, x, c =  colors[j], alpha = 0.5, s = 30)\n",
    "    \n",
    "    ax.set_yscale('log')\n",
    "    \n",
    "    plt.ylabel('STD of CpG sites', fontsize = fontsize)\n",
    "    plt.title(title, fontsize = 1.2 * fontsize)\n",
    "    plt.subplots_adjust(bottom=0.2, top=0.9, left=0.2, right=0.95)\n",
    "\n",
    "#cpgs_names, ids = cpgs.get_cpgs({'gene_out': [np.NaN], 'cpgs_in': features_names, 'cpgs_out': bad_cpgs, 'chr_out': ['X', 'Y']}) # 'geotype_in': ['Island', 'N_Shore', 'S_Shore']\n",
    "#cpgs_names, ids, ids2 = np.intersect1d(features_names, cpgs_names, return_indices = True)\n",
    "\n",
    "sd = variance_analyze(X, ids, group_masks)\n",
    "#plot_variance_boxplot(sd, groups, group_masks, y, 'Full STD')\n",
    "##plot_variance(sd, groups, group_masks, y, 'Full STD')\n",
    "\n",
    "sd = variance_analyze(X_r, ids, group_masks)\n",
    "#plot_variance_boxplot(sd, groups, group_masks, y, 'Full STD')\n",
    "##plot_variance(sd, groups, group_masks, y, 'Full STD regr cells')\n",
    "\n",
    "sd = variance_analyze(X_r2, ids, group_masks)\n",
    "#plot_variance_boxplot(sd, groups, group_masks, y, 'Full STD')\n",
    "plot_variance(sd, groups, group_masks, y, 'Full STD regr cells age')"
   ]
  },
  {
   "cell_type": "code",
   "execution_count": 27,
   "metadata": {},
   "outputs": [
    {
     "data": {
      "text/plain": [
       "318391"
      ]
     },
     "execution_count": 27,
     "metadata": {},
     "output_type": "execute_result"
    }
   ],
   "source": [
    "len(ids)"
   ]
  },
  {
   "cell_type": "code",
   "execution_count": 89,
   "metadata": {},
   "outputs": [
    {
     "data": {
      "text/plain": [
       "0.3515566"
      ]
     },
     "execution_count": 89,
     "metadata": {},
     "output_type": "execute_result"
    }
   ],
   "source": [
    "sd[2].max()"
   ]
  },
  {
   "cell_type": "code",
   "execution_count": 24,
   "metadata": {},
   "outputs": [],
   "source": [
    "def regress_out_cells(X, is_age):\n",
    "    df_cells = pd.read_csv(config.ifname('cells'), delimiter = '\\t')\n",
    "    from sklearn.linear_model import LinearRegression\n",
    "    cells_cols = ['CD8T', 'CD4T', 'NK', 'Bcell', 'Gran']\n",
    "    df_sub_cells = df_cells[cells_cols]\n",
    "    if is_age:\n",
    "        df_sub_cells[\"age\"] = patients_info[\"age\"].values\n",
    "    #ages = patients_info[\"age\"].values\n",
    "    data = df_sub_cells.values\n",
    "    X_r = np.array(X)\n",
    "    for i in tqdm(range(len(features_names)), ncols = 100):\n",
    "        beta = X[:, i]\n",
    "        model = LinearRegression()\n",
    "        model.fit(data, beta)\n",
    "        beta_pred = model.predict(data)\n",
    "        X_r[:, i] = beta - beta_pred + np.mean(beta)\n",
    "    return X_r\n",
    "patients_info = pd.read_csv(config.ifname(\"patients_info\"), delimiter='\\t')\n",
    "#X_r = regress_out_cells(X, False)\n",
    "#X_r2 = regress_out_cells(X, True)\n",
    "data = np.load(config.ifname(\"beta_values\"))\n",
    "X = data['X']\n",
    "X_r = data['X_r']\n",
    "X_r2 = data['X_r2']"
   ]
  },
  {
   "cell_type": "code",
   "execution_count": 33,
   "metadata": {},
   "outputs": [],
   "source": [
    "np.savez_compressed(config.ifname(\"beta_values\"), X = X, X_r = X_r, X_r2 = X_r2)"
   ]
  },
  {
   "cell_type": "code",
   "execution_count": 65,
   "metadata": {},
   "outputs": [
    {
     "data": {
      "text/plain": [
       "array(['SampleID\\tDNAmAge\\tComment\\tnoMissingPerSample\\tmeanMethBySample\\tminMethBySample\\tmaxMethBySample\\tcorSampleVSgoldstandard\\tmeanAbsDifferenceSampleVSgoldstandard\\tpredictedGender\\tmeanXchromosome\\tSampleID1\\tPlasmaBlast\\tCD8pCD28nCD45RAn\\tCD8naive\\tCD4naive\\tCD8T\\tCD4T\\tNK\\tBcell\\tMono\\tGran'],\n",
       "      dtype=object)"
      ]
     },
     "execution_count": 65,
     "metadata": {},
     "output_type": "execute_result"
    }
   ],
   "source": [
    "df_cells.columns.values"
   ]
  },
  {
   "cell_type": "code",
   "execution_count": 76,
   "metadata": {},
   "outputs": [
    {
     "data": {
      "text/plain": [
       "(array([3.9091984e+07, 8.5363000e+05, 1.6652100e+05, 5.5377000e+04,\n",
       "        2.1150000e+04, 9.5180000e+03, 4.9390000e+03, 2.1670000e+03,\n",
       "        7.9600000e+02, 9.8000000e+01]),\n",
       " array([5.1186111e-11, 9.6048571e-02, 1.9209714e-01, 2.8814572e-01,\n",
       "        3.8419428e-01, 4.8024285e-01, 5.7629144e-01, 6.7233998e-01,\n",
       "        7.6838857e-01, 8.6443710e-01, 9.6048570e-01], dtype=float32),\n",
       " <a list of 10 Patch objects>)"
      ]
     },
     "execution_count": 76,
     "metadata": {},
     "output_type": "execute_result"
    },
    {
     "data": {
      "image/png": "[encoded data removed]",
      "text/plain": [
       "<Figure size 432x288 with 1 Axes>"
      ]
     },
     "metadata": {
      "needs_background": "light"
     },
     "output_type": "display_data"
    }
   ],
   "source": [
    "plt.hist(X_r.flatten())"
   ]
  },
  {
   "cell_type": "code",
   "execution_count": 83,
   "metadata": {},
   "outputs": [],
   "source": [
    "df = pd.DataFrame()\n",
    "df['epimutations_sum'] = sub_epimutations_sum\n",
    "df.to_csv(config.ifname('epimutations'))"
   ]
  },
  {
   "cell_type": "code",
   "execution_count": 82,
   "metadata": {},
   "outputs": [],
   "source": [
    "sub_epimutations_sum = epimutations[:, ids].astype('int32').sum(axis = 1)"
   ]
  },
  {
   "cell_type": "code",
   "execution_count": 57,
   "metadata": {},
   "outputs": [
    {
     "name": "stdout",
     "output_type": "stream",
     "text": [
      "(0.03948604074863926, 5.1193269502480527e-216)\n",
      "(0.03217113549063888, 1.543225409745477e-143)\n",
      "(0.03217113549063888, 1.543225409745477e-143)\n",
      "(0.048399609285438294, 0.0)\n",
      "\n",
      "(0.03948604074863926, 2.4605619383268044e-216)\n",
      "(0.01774861726619159, 2.7143684282782443e-44)\n",
      "(0.01774861726619159, 2.7143684282782443e-44)\n",
      "(0.009937466825381373, 2.190453937144936e-14)\n",
      "\n",
      "(0.002763897220712897, 0.08759832068833201)\n",
      "(0.03217113549063888, 7.471841028250168e-144)\n",
      "(0.03217113549063888, 7.471841028250168e-144)\n",
      "(0.048399609285438294, 0.0)\n",
      "\n"
     ]
    },
    {
     "data": {
      "text/plain": [
       "'\\nprint(distr_less(np.log10(sd[0]), np.log10(sd[2])))\\nprint(distr_less(np.log10(sd[0]), np.log10(sd[1])))\\nprint(distr_less(np.log10(sd[1]), np.log10(sd[2])))\\n'"
      ]
     },
     "execution_count": 57,
     "metadata": {},
     "output_type": "execute_result"
    }
   ],
   "source": [
    "def distr_less(x, y, alpha = 0.05, alternative = 'two-sided'):\n",
    "    ks, p = stats.ks_2samp(x, y, alternative = alternative)\n",
    "    return ks, p\n",
    "for alternative in ['two-sided', 'less', 'greater']:\n",
    "    print(distr_less(sd[0], sd[1], alternative = alternative))\n",
    "    print(distr_less(sd[0], sd[2], alternative = alternative))\n",
    "    print(distr_less(sd[1], sd[2], alternative = alternative))\n",
    "    print('')\n",
    "'''\n",
    "print(distr_less(np.log10(sd[0]), np.log10(sd[2])))\n",
    "print(distr_less(np.log10(sd[0]), np.log10(sd[1])))\n",
    "print(distr_less(np.log10(sd[1]), np.log10(sd[2])))\n",
    "'''"
   ]
  },
  {
   "cell_type": "code",
   "execution_count": 43,
   "metadata": {},
   "outputs": [
    {
     "name": "stdout",
     "output_type": "stream",
     "text": [
      "ks =  0.0042463511845498144 pv =  0.006422628048431702\n",
      "0.006422628048431702\n"
     ]
    }
   ],
   "source": [
    "print(distr_less(sd[0], sd[0]))\n"
   ]
  },
  {
   "cell_type": "code",
   "execution_count": 21,
   "metadata": {},
   "outputs": [
    {
     "data": {
      "text/plain": [
       "Ks_2sampResult(statistic=0.21833333333333332, pvalue=1.807865352443372e-05)"
      ]
     },
     "execution_count": 21,
     "metadata": {},
     "output_type": "execute_result"
    }
   ],
   "source": [
    "n1 = 200 \n",
    "n2 = 300\n",
    "rvs1 = stats.norm.rvs(size=n1, loc=0., scale=1)\n",
    "rvs2 = stats.norm.rvs(size=n2, loc=0.5, scale=1.5)\n",
    "stats.ks_2samp(rvs1, rvs2)"
   ]
  }
 ],
 "metadata": {
  "kernelspec": {
   "display_name": "Python 3",
   "language": "python",
   "name": "python3"
  },
  "language_info": {
   "codemirror_mode": {
    "name": "ipython",
    "version": 3
   },
   "file_extension": ".py",
   "mimetype": "text/x-python",
   "name": "python",
   "nbconvert_exporter": "python",
   "pygments_lexer": "ipython3",
   "version": "3.7.3"
  }
 },
 "nbformat": 4,
 "nbformat_minor": 2
}
