{
 "cells": [
  {
   "cell_type": "code",
   "execution_count": 1,
   "metadata": {},
   "outputs": [],
   "source": [
    "%load_ext autoreload\n",
    "%autoreload 2\n",
    "import numpy as np\n",
    "from numpy import linalg as LA\n",
    "\n",
    "#from load_data_mongoloids import load_data_mongoloids\n",
    "#from mongoloids_config import config\n",
    "\n",
    "#from load_data_cancer import load_data_cancer\n",
    "#from cancer_config import config\n",
    "import re\n",
    "import time\n",
    "import matplotlib\n",
    "import matplotlib.pyplot as plt\n",
    "import matplotlib.mlab as mlab\n",
    "#import plotly.plotly as py\n",
    "import textwrap\n",
    "import scipy.stats as stats\n",
    "\n",
    "from sklearn import svm, datasets\n",
    "from scipy import stats\n",
    "from sklearn import neighbors, ensemble, linear_model, neural_network\n",
    "from sklearn.model_selection import cross_val_score\n",
    "from sklearn.metrics import mean_squared_error\n",
    "import scipy\n",
    "from functools import partial\n",
    "\n",
    "from infrastructure.configuration import param\n",
    "import matplotlib.pylab as pylab\n",
    "import seaborn\n",
    "seaborn.set_style('darkgrid', {'legend.frameon':True})\n",
    "fontsize = 20\n",
    "params = {'legend.fontsize': fontsize,\n",
    "  'figure.figsize': (18, 15),\n",
    "  'axes.labelsize': fontsize,\n",
    "  'axes.titlesize':fontsize,\n",
    "  'xtick.labelsize':fontsize,\n",
    "  'ytick.labelsize':fontsize,\n",
    "  'font.size':fontsize}\n",
    "pylab.rcParams.update(params)\n",
    "plt.rc('axes', labelsize=fontsize) \n",
    "\n",
    "plt.style.use('ggplot')\n",
    "%matplotlib inline\n",
    "\n",
    "import igraph\n",
    "import cairo\n",
    "from tqdm import tqdm\n",
    "import pandas as pd"
   ]
  },
  {
   "cell_type": "code",
   "execution_count": 2,
   "metadata": {},
   "outputs": [],
   "source": [
    "#from configurations.load_data_down_GSE52588 import load_data_down_GSE52588\n",
    "#from configurations.config_down_GSE52588 import config\n",
    "\n",
    "from configurations.load_data_down_GSE52588 import load_data_down_GSE52588_cpgs\n",
    "from configurations.config_down_GSE52588_cpg import config"
   ]
  },
  {
   "cell_type": "code",
   "execution_count": 3,
   "metadata": {},
   "outputs": [
    {
     "name": "stdout",
     "output_type": "stream",
     "text": [
      "Data loaded:  36.8580594\n",
      "float32 (422801, 87)\n",
      "(87, 422801)\n",
      "(87, 422801) 150254 (87,) (422801,)\n"
     ]
    }
   ],
   "source": [
    "X, y, mask, features_names = load_data_down_GSE52588_cpgs()"
   ]
  },
  {
   "cell_type": "code",
   "execution_count": 4,
   "metadata": {},
   "outputs": [],
   "source": [
    "from annotations.cpgs import cpgs_annotation\n",
    "cpgs = cpgs_annotation(config.ifname('cpgs_annotations'))"
   ]
  },
  {
   "cell_type": "code",
   "execution_count": 5,
   "metadata": {},
   "outputs": [],
   "source": [
    "bad_cpgs = np.loadtxt(config.ifname('bad_cpgs'), dtype='str')"
   ]
  },
  {
   "cell_type": "code",
   "execution_count": 6,
   "metadata": {},
   "outputs": [],
   "source": [
    "group_names = [\"DS\", \"Siblings\", \"Mothers\"]\n",
    "groups = [\"mongoloids_mask\", \"siblings_mask\", \"mothers_mask\"]\n",
    "group_masks = [0] * 3\n",
    "for j, group_name in enumerate(groups):\n",
    "    group_masks[j] = config.params[group_name].value\n",
    "        "
   ]
  },
  {
   "cell_type": "code",
   "execution_count": 108,
   "metadata": {},
   "outputs": [
    {
     "name": "stderr",
     "output_type": "stream",
     "text": [
      "100%|█████████████████████████████████████████████████████| 422801/422801 [03:06<00:00, 2269.34it/s]\n",
      "100%|█████████████████████████████████████████████████████| 422801/422801 [03:05<00:00, 2276.54it/s]\n",
      "100%|█████████████████████████████████████████████████████| 422801/422801 [03:03<00:00, 2309.52it/s]\n"
     ]
    }
   ],
   "source": [
    "\n",
    "def calc_epimutations(X, group_masks):\n",
    "    epimutations_sum = np.zeros((X.shape[0], ), dtype = np.int32)\n",
    "    epimutations = np.zeros((X.shape[0], X.shape[1]), dtype = np.bool)\n",
    "    for i in tqdm(range(X.shape[1]), ncols = 100):\n",
    "        for j, mask in enumerate(group_masks):\n",
    "            x = X[mask, i]\n",
    "            q = np.quantile(x, [0.25, 0.75])\n",
    "            iqr = q[1] - q[0]\n",
    "            q[0] -= iqr * 3\n",
    "            q[1] += iqr * 3\n",
    "            epimutations[mask, i] = ((x > q[1]) | (x < q[0]))\n",
    "            epimutations_sum[mask] += ((x > q[1]) | (x < q[0])).astype('int32')\n",
    "    return epimutations_sum, epimutations\n",
    "\n",
    "epimutations_sum, epimutations = calc_epimutations(X, group_masks)\n",
    "epimutations_sum_r, epimutations_r = calc_epimutations(X_r, group_masks)\n",
    "epimutations_sum_r2, epimutations_r2 = calc_epimutations(X_r2, group_masks)"
   ]
  },
  {
   "cell_type": "markdown",
   "metadata": {},
   "source": [
    "# Trverse chromosome"
   ]
  },
  {
   "cell_type": "code",
   "execution_count": 41,
   "metadata": {},
   "outputs": [],
   "source": [
    "def traverse_chromosomes(features_names, bad_cpgs, path_kernel_geotype, kernel):\n",
    "    df = cpgs.get_sub_frame({'gene_out': [np.NaN], \n",
    "                             'cpgs_in': features_names, \n",
    "                             'cpgs_out': bad_cpgs})\n",
    "    chromosomes = df.CHR.unique()\n",
    "\n",
    "    ids = np.argsort(list(map(lambda x: \"0\" + x if len(x) == 1 and x[0].isdigit() else x, chromosomes)))\n",
    "    chromosomes = chromosomes[ids]\n",
    "    from matplotlib.backends.backend_pdf import PdfPages\n",
    "    \n",
    "    with PdfPages(path_kernel_geotype) as pdf:\n",
    "        for chromosome in tqdm(chromosomes, ncols = 100):\n",
    "            cpgs_names, ids = cpgs.get_cpgs({'gene_out': [np.NaN], \n",
    "                                             'cpgs_in': features_names, \n",
    "                                             'chr_in': chromosome, \n",
    "                                             'cpgs_out': bad_cpgs})\n",
    "            cpgs_names, ids, ids2 = np.intersect1d(features_names, cpgs_names, return_indices = True)\n",
    "            \n",
    "            kernel(ids, \"Chromosome: \" + chromosome)\n",
    "            \n",
    "            pdf.savefig()\n",
    "            plt.close()\n",
    "            #break"
   ]
  },
  {
   "cell_type": "markdown",
   "metadata": {},
   "source": [
    "# Traverse geo type"
   ]
  },
  {
   "cell_type": "code",
   "execution_count": 42,
   "metadata": {},
   "outputs": [],
   "source": [
    "def traverse_geo_types(features_names, bad_cpgs, path_kernel_geotype, kernel):\n",
    "    geotypes = cpgs.get_crit_col_values('geotype', {'gene_out': [np.NaN], \n",
    "                                                    'cpgs_in': features_names, \n",
    "                                                    'cpgs_out': bad_cpgs, \n",
    "                                                    'geotype_out': [np.NaN], \n",
    "                                                    'chr_out': ['X', 'Y']})\n",
    "    geotypes.sort()\n",
    "    from matplotlib.backends.backend_pdf import PdfPages\n",
    "    with PdfPages(path_kernel_geotype) as pdf:\n",
    "        for geotype in tqdm(geotypes, ncols = 100):\n",
    "            cpgs_names, ids = cpgs.get_cpgs({'gene_out': [np.NaN], \n",
    "                                             'cpgs_in': features_names, \n",
    "                                             'geotype_in': [geotype], \n",
    "                                             'cpgs_out': bad_cpgs, \n",
    "                                             'chr_out': ['X', 'Y']})\n",
    "            cpgs_names, ids, ids2 = np.intersect1d(features_names, cpgs_names, return_indices = True)\n",
    "            \n",
    "            kernel(ids, \"Geotype: \" + geotype)\n",
    "            \n",
    "            pdf.savefig()\n",
    "            plt.close()\n",
    "            #break"
   ]
  },
  {
   "cell_type": "markdown",
   "metadata": {},
   "source": [
    "# Traverse gene part"
   ]
  },
  {
   "cell_type": "code",
   "execution_count": 43,
   "metadata": {},
   "outputs": [],
   "source": [
    "def traverse_gene_parts(features_names, bad_cpgs, path_kernel_genepart, kernel):\n",
    "    geneparts = cpgs.get_crit_col_values('genepart', {'gene_out': [np.NaN], \n",
    "                                                      'cpgs_in': features_names, \n",
    "                                                      'cpgs_out': bad_cpgs, \n",
    "                                                      'genepart_out': [np.NaN], \n",
    "                                                      'chr_out': ['X', 'Y']})\n",
    "    geneparts.sort()\n",
    "    from matplotlib.backends.backend_pdf import PdfPages\n",
    "    \n",
    "    with PdfPages(path_kernel_genepart) as pdf:\n",
    "        for genepart in tqdm(geneparts, ncols = 100):\n",
    "            cpgs_names, ids = cpgs.get_cpgs({'gene_out': [np.NaN], \n",
    "                                             'cpgs_in': features_names, \n",
    "                                             'genepart_in': [genepart], \n",
    "                                             'cpgs_out': bad_cpgs, \n",
    "                                             'chr_out': ['X', 'Y']})\n",
    "            cpgs_names, ids, ids2 = np.intersect1d(features_names, cpgs_names, return_indices = True)\n",
    "            \n",
    "            kernel(ids, \"Genepart: \" + genepart)\n",
    "            \n",
    "            pdf.savefig()\n",
    "            plt.close()\n",
    "            #break"
   ]
  },
  {
   "cell_type": "markdown",
   "metadata": {},
   "source": [
    "# Traverse cpg list"
   ]
  },
  {
   "cell_type": "code",
   "execution_count": 60,
   "metadata": {},
   "outputs": [],
   "source": [
    "def calc_for_cpg_list(cpgs_in, bad_cpgs, path_kernel, kernel, title = ''):\n",
    "    from matplotlib.backends.backend_pdf import PdfPages\n",
    "    \n",
    "    with PdfPages(path_kernel) as pdf:\n",
    "        cpgs_names, ids = cpgs.get_cpgs({'gene_out': [np.NaN], \n",
    "                                         'cpgs_in': cpgs_in, \n",
    "                                         'cpgs_out': bad_cpgs, \n",
    "                                         'chr_out': ['X', 'Y']}) \n",
    "        cpgs_names, ids, ids2 = np.intersect1d(features_names, cpgs_names, return_indices = True)\n",
    "\n",
    "        kernel(ids, title)\n",
    "\n",
    "        pdf.savefig()\n",
    "        plt.close()\n",
    "        #break"
   ]
  },
  {
   "cell_type": "code",
   "execution_count": 11,
   "metadata": {},
   "outputs": [
    {
     "data": {
      "text/plain": [
       "'\\ndef kernel_variance_r(ids, title, X = X_r, group_masks = group_masks, groups = groups):\\n    sd = variance_analyze(X, ids, group_masks)\\n    plot_variance(sd, groups, group_masks, y, title)\\n    \\ndef kernel_variance_r2(ids, title, X = X_r2, group_masks = group_masks, groups = groups):\\n    sd = variance_analyze(X, ids, group_masks)\\n    plot_variance(sd, groups, group_masks, y, title)        \\n'"
      ]
     },
     "execution_count": 11,
     "metadata": {},
     "output_type": "execute_result"
    }
   ],
   "source": [
    "'''\n",
    "def kernel_epimutations(ids, title, groups = groups, y = y, epimutations = epimutations):\n",
    "    sub_epimutations_sum = epimutations[:, ids].astype('int32').sum(axis = 1)\n",
    "    plot_epimutations(sub_epimutations_sum, groups, y, '', title = title)\n",
    "\n",
    "def kernel_epimutations_boxplot(ids, title, groups = groups, y = y, epimutations = epimutations):\n",
    "    sub_epimutations_sum = epimutations[:, ids].astype('int32').sum(axis = 1)\n",
    "    plot_epimutations_boxplot(sub_epimutations_sum, groups, y, '', title = title)\n",
    "'''    \n",
    "def kernel_variance(ids, title, X = X, group_masks = group_masks, groups = groups):\n",
    "    sd = variance_analyze(X, ids, group_masks)\n",
    "    plot_variance(sd, groups, group_masks, y, title)\n",
    "\n",
    "def kernel_variance_boxplot(ids, title, X = X, group_masks = group_masks, groups = groups):\n",
    "    sd = variance_analyze(X, ids, group_masks)\n",
    "    plot_variance_boxplot(sd, groups, group_masks, y, title)\n",
    "\n",
    "'''\n",
    "def kernel_variance_r(ids, title, X = X_r, group_masks = group_masks, groups = groups):\n",
    "    sd = variance_analyze(X, ids, group_masks)\n",
    "    plot_variance(sd, groups, group_masks, y, title)\n",
    "    \n",
    "def kernel_variance_r2(ids, title, X = X_r2, group_masks = group_masks, groups = groups):\n",
    "    sd = variance_analyze(X, ids, group_masks)\n",
    "    plot_variance(sd, groups, group_masks, y, title)        \n",
    "'''"
   ]
  },
  {
   "cell_type": "code",
   "execution_count": 33,
   "metadata": {},
   "outputs": [
    {
     "name": "stderr",
     "output_type": "stream",
     "text": [
      "100%|█████████████████████████████████████████████████████| 422801/422801 [02:33<00:00, 2755.01it/s]\n"
     ]
    }
   ],
   "source": [
    "def get_cpgs(input_type = 1, fname = '', col_name = 'nameCpG'):\n",
    "    global cached_cpgs\n",
    "    try:\n",
    "        cached_cpgs\n",
    "    except:\n",
    "        cached_cpgs = dict()\n",
    "    try:\n",
    "        cached_cpgs[fname]\n",
    "    except:\n",
    "        df = pd.read_csv(fname, sep = '\\t')\n",
    "        cached_cpgs[fname] = df[col_name].values\n",
    "    return cached_cpgs[fname]\n",
    "    \n",
    "def get_down_related_2015_cpgs(input_type = 1):\n",
    "    global down_related_2015_cpgs\n",
    "    try:\n",
    "        down_related_2015_cpgs\n",
    "    except:\n",
    "        df = pd.read_csv(config.ifname('down_related_2015_cpgs'))\n",
    "        down_related_2015_cpgs = df['ID_REF_Best_CpG'].values\n",
    "    return down_related_2015_cpgs\n",
    "\n",
    "def var_diff_p(x, y):\n",
    "    F = x.var() / y.var()\n",
    "    p_value = scipy.stats.f.cdf(F, len(x) - 1, len(y) - 1)\n",
    "    return p_value # True : Reject the null hypothesis that Var(X) == Var(Y)\n",
    "        \n",
    "\n",
    "def make_std_related(X, features_names = features_names, group_masks = group_masks):\n",
    "    diff_p = [np.zeros((X.shape[1], ), dtype = np.bool) for i in range(3)]\n",
    "    for i in tqdm(range(X.shape[1]), ncols = 100):\n",
    "        cur = X[:, i]\n",
    "        diff_p[0][i] = var_diff_p(cur[group_masks[0]], cur[group_masks[1]])\n",
    "        diff_p[1][i] = var_diff_p(cur[group_masks[1]], cur[group_masks[2]])\n",
    "        diff_p[2][i] = var_diff_p(cur[group_masks[0]], cur[group_masks[2]])\n",
    "    return diff_p\n",
    "    \n",
    "\n",
    "diff_p = make_std_related(X, group_masks = group_masks)\n",
    "#diff_p_r = make_std_related(X_r, group_masks = group_masks)\n",
    "#diff_p_r2 = make_std_related(X_r2, group_masks = group_masks)\n",
    "\n",
    "def get_std_related(input_type = 1, features_names = features_names, num_cpgs = 1000):\n",
    "    global diff_p, diff_p_r, diff_p_r2\n",
    "    if input_type == 1:\n",
    "        cur = diff_p\n",
    "    if input_type == 2:\n",
    "        cur = diff_p_r\n",
    "    if input_type == 3:\n",
    "        cur = diff_p_r2\n",
    "    ids = np.unique([np.argsort(cur[0])[-num_cpgs:], np.argsort(cur[1])[-num_cpgs:], np.argsort(cur[2])[-num_cpgs:]])\n",
    "    return features_names[ids]"
   ]
  },
  {
   "cell_type": "code",
   "execution_count": 38,
   "metadata": {},
   "outputs": [],
   "source": [
    "np.savez_compressed(config.ifname(\"var_diff_pv\"), diff_p = diff_p, diff_p_r = diff_p_r, diff_p_r2 = diff_p_r2)"
   ]
  },
  {
   "cell_type": "code",
   "execution_count": 75,
   "metadata": {},
   "outputs": [
    {
     "data": {
      "text/plain": [
       "False"
      ]
     },
     "execution_count": 75,
     "metadata": {},
     "output_type": "execute_result"
    }
   ],
   "source": [
    "np.all(X == X_r)"
   ]
  },
  {
   "cell_type": "code",
   "execution_count": 13,
   "metadata": {},
   "outputs": [],
   "source": [
    "path_cpgs_age_M = config.ofname([[\"age_related\"], [\"GSE87571_1000cpg_age_dependence_sigma2_test_M\"]], ext = \".txt\", include_set = config.params_sets[\"age_related\"])\n",
    "path_cpgs_age_F = config.ofname([[\"age_related\"], [\"GSE87571_1000cpg_age_dependence_sigma2_test_F\"]], ext = \".txt\", include_set = config.params_sets[\"age_related\"])\n",
    "path_cpgs_age_Igor = config.ofname([[\"age_related\"], [\"cpgs_variance\"]], ext = \".txt\", include_set = config.params_sets[\"age_related\"])\n",
    "\n",
    "#get_cpgs(fname = path_cpgs_age_Igor, col_name = 'nameCpG')"
   ]
  },
  {
   "cell_type": "code",
   "execution_count": 53,
   "metadata": {},
   "outputs": [],
   "source": [
    "sd = variance_analyze(X, range(X.shape[1]), group_masks)"
   ]
  },
  {
   "cell_type": "code",
   "execution_count": 54,
   "metadata": {},
   "outputs": [],
   "source": [
    "var = [0, 0, 0]\n",
    "var[0] = sd[0] ** 2\n",
    "var[1] = sd[1] ** 2\n",
    "var[2] = sd[2] ** 2"
   ]
  },
  {
   "cell_type": "code",
   "execution_count": 57,
   "metadata": {},
   "outputs": [
    {
     "data": {
      "text/plain": [
       "(array([0.05766241, 0.00658216, 0.02577584, ..., 0.03810199, 0.03238373,\n",
       "        0.00308951], dtype=float32),\n",
       " array([0.05097779, 0.00699519, 0.01343124, ..., 0.02412374, 0.02362443,\n",
       "        0.00340381], dtype=float32),\n",
       " array([0.06722929, 0.00585764, 0.00906403, ..., 0.01885523, 0.01574338,\n",
       "        0.00195613], dtype=float32))"
      ]
     },
     "execution_count": 57,
     "metadata": {},
     "output_type": "execute_result"
    }
   ],
   "source": [
    "var[0], var[1], var[2]\n",
    "sd[0], sd[1], sd[2]"
   ]
  },
  {
   "cell_type": "code",
   "execution_count": null,
   "metadata": {
    "scrolled": false
   },
   "outputs": [],
   "source": [
    "for cid in ids[-10:]:\n",
    "    plt.figure()\n",
    "    plt.scatter(np.ones(29), X[group_masks[0], cid] - X[group_masks[0], cid].mean(), c = 'r')\n",
    "    plt.scatter(np.ones(29) * 2, X[group_masks[1], cid] - X[group_masks[1], cid].mean(), c = 'g')\n",
    "    plt.scatter(np.ones(29) * 3, X[group_masks[2], cid] - X[group_masks[2], cid].mean(), c = 'b')\n",
    "    #plt.legend([\"Down\", \"Siblings\", \"Mothers\"], framealpha=0.9, fontsize=20, bbox_to_anchor=(0., 1.02, 1., .102), loc=3,\n",
    "    #           ncol=3, mode=\"expand\", borderaxespad=0., handletextpad=0.3, scatterpoints=1)    \n",
    "    plt.subplots_adjust(bottom=0.2, top=0.8, left=0.2, right=0.95)\n",
    "    #plt.title(str(is_diff[0][cid]) + ' ' + str(is_diff[1][cid]) + ' ' + str(is_diff[2][cid]))"
   ]
  },
  {
   "cell_type": "code",
   "execution_count": 64,
   "metadata": {},
   "outputs": [],
   "source": [
    "path_cpgs_age_M = config.ofname([[\"age_related\"], [\"GSE87571_1000cpg_age_dependence_sigma2_test_M\"]], ext = \".txt\", include_set = config.params_sets[\"age_related\"])\n",
    "path_cpgs_age_F = config.ofname([[\"age_related\"], [\"GSE87571_1000cpg_age_dependence_sigma2_test_F\"]], ext = \".txt\", include_set = config.params_sets[\"age_related\"])\n",
    "path_cpgs_age_Igor = config.ofname([[\"age_related\"], [\"cpgs_variance\"]], ext = \".txt\", include_set = config.params_sets[\"age_related\"])\n",
    "path_cpgs_age_Igor_2 = config.ofname([[\"age_related\"], [\"sex_specific_variance_GSE87571\"]], ext = \".txt\", include_set = config.params_sets[\"age_related\"])\n",
    "\n",
    "is_regressed = False\n",
    "\n",
    "cpgs_in_subset = {'age_related_Olga_M': partial(get_cpgs, fname = path_cpgs_age_M),\n",
    "                  'age_related_Olga_F': partial(get_cpgs, fname = path_cpgs_age_F),\n",
    "                  'age_related_Igor': partial(get_cpgs, fname = path_cpgs_age_Igor),\n",
    "                  'age_related_Igor_2019_September': partial(get_cpgs, fname = path_cpgs_age_Igor_2),\n",
    "                  'down_related_2015': get_down_related_2015_cpgs,\n",
    "                  'std_related': get_std_related}\n",
    "    \n",
    "for subset_name, get_subset in cpgs_in_subset.items():\n",
    "    path_variance = config.ofname([[\"down_variance\"], [\"variance\", subset_name]], ext = \".pdf\", \n",
    "                                                 include_set = config.params_sets[\"down_epimutations\"])\n",
    "    \n",
    "    calc_for_cpg_list(get_subset(1), bad_cpgs, path_variance, kernel_variance)\n",
    "\n",
    "    #\n",
    "    if is_regressed:\n",
    "        path_variance = config.ofname([[\"regressout_cells_down_cpg_variance\"], [\"variance\", subset_name]], ext = \".pdf\", \n",
    "                                                     include_set = config.params_sets[\"down_epimutations\"])\n",
    "        calc_for_cpg_list(get_subset(2), bad_cpgs, path_variance, partial(kernel_variance, X = X_r))\n",
    "\n",
    "        path_variance = config.ofname([[\"regressout_cells_age_down_cpg_variance\"], [\"variance\", subset_name]], ext = \".pdf\", \n",
    "                                                     include_set = config.params_sets[\"down_epimutations\"])\n",
    "        calc_for_cpg_list(get_subset(3), bad_cpgs, path_variance, partial(kernel_variance, X = X_r2))\n",
    "    \n",
    "    # Boxplots\n",
    "    path_variance = config.ofname([[\"down_variance\"], [\"variance_boxplot\", subset_name]], ext = \".pdf\", \n",
    "                                                 include_set = config.params_sets[\"down_epimutations\"])\n",
    "    \n",
    "    calc_for_cpg_list(get_subset(1), bad_cpgs, path_variance, kernel_variance_boxplot)\n",
    "\n",
    "    if is_regressed:\n",
    "        path_variance = config.ofname([[\"regressout_cells_down_cpg_variance\"], [\"variance_boxplot\", subset_name]], ext = \".pdf\", \n",
    "                                                     include_set = config.params_sets[\"down_epimutations\"])\n",
    "        calc_for_cpg_list(get_subset(2), bad_cpgs, path_variance, partial(kernel_variance_boxplot, X = X_r))\n",
    "\n",
    "        path_variance = config.ofname([[\"regressout_cells_age_down_cpg_variance\"], [\"variance_boxplot\", subset_name]], ext = \".pdf\", \n",
    "                                                     include_set = config.params_sets[\"down_epimutations\"])\n",
    "        calc_for_cpg_list(get_subset(3), bad_cpgs, path_variance, partial(kernel_variance_boxplot, X = X_r2))\n",
    "    "
   ]
  },
  {
   "cell_type": "code",
   "execution_count": 57,
   "metadata": {},
   "outputs": [
    {
     "name": "stdout",
     "output_type": "stream",
     "text": [
      "['TSS1500', \"3'UTR\", 'Body', 'Body', \"3'UTR\", \"3'UTR\", '1stExon', 'TSS1500', 'TSS200', 'Body']\n"
     ]
    },
    {
     "name": "stderr",
     "output_type": "stream",
     "text": [
      "100%|█████████████████████████████████████████████████████████████████| 6/6 [00:24<00:00,  3.97s/it]\n"
     ]
    },
    {
     "name": "stdout",
     "output_type": "stream",
     "text": [
      "['TSS1500', \"3'UTR\", 'Body', 'Body', \"3'UTR\", \"3'UTR\", '1stExon', 'TSS1500', 'TSS200', 'Body']\n"
     ]
    },
    {
     "name": "stderr",
     "output_type": "stream",
     "text": [
      "100%|█████████████████████████████████████████████████████████████████| 6/6 [00:18<00:00,  3.08s/it]\n"
     ]
    },
    {
     "name": "stdout",
     "output_type": "stream",
     "text": [
      "['N_Shore', 'N_Shore', 'N_Shore', 'S_Shore', 'Island', 'Island', 'S_Shore', 'S_Shelf', 'Island', 'Island']\n"
     ]
    },
    {
     "name": "stderr",
     "output_type": "stream",
     "text": [
      "100%|█████████████████████████████████████████████████████████████████| 5/5 [00:15<00:00,  3.21s/it]\n"
     ]
    },
    {
     "name": "stdout",
     "output_type": "stream",
     "text": [
      "['N_Shore', 'N_Shore', 'N_Shore', 'S_Shore', 'Island', 'Island', 'S_Shore', 'S_Shelf', 'Island', 'Island']\n"
     ]
    },
    {
     "name": "stderr",
     "output_type": "stream",
     "text": [
      "100%|█████████████████████████████████████████████████████████████████| 5/5 [00:14<00:00,  2.95s/it]\n",
      "100%|███████████████████████████████████████████████████████████████| 23/23 [01:00<00:00,  2.48s/it]\n",
      "100%|███████████████████████████████████████████████████████████████| 23/23 [00:57<00:00,  2.65s/it]\n"
     ]
    },
    {
     "data": {
      "text/plain": [
       "'\\npath_epimutations_genepart = config.ofname([[\"down_epimutations\"], [\"epimutation\", \"geneparts\"]], ext = \".pdf\", \\n                                                 include_set = config.params_sets[\"down_epimutations\"])\\ntraverse_gene_parts(feature_names, bad_cpgs, path_epimutations_genepart, kernel_epimutations)\\n\\n### Variance\\n\\n# Genepart\\n\\npath_variance_genepart = config.ofname([[\"down_variance\"], [\"variance\", \"geneparts\"]], ext = \".pdf\", \\n                                                 include_set = config.params_sets[\"down_epimutations\"])\\ntraverse_gene_parts(features_names, bad_cpgs, path_variance_genepart, kernel_variance)\\n\\n# \\npath_epimutations_geotype = config.ofname([[\"down_epimutations\"], [\"epimutation\", \"geotypes\"]], ext = \".pdf\", \\n                                                 include_set = config.params_sets[\"down_epimutations\"])\\n\\npath_epimutations_chromosome = config.ofname([[\"down_epimutations\"], [\"epimutation\", \"chromosomes\"]], ext = \".pdf\", \\n                                                 include_set = config.params_sets[\"down_epimutations\"])\\n'"
      ]
     },
     "execution_count": 57,
     "metadata": {},
     "output_type": "execute_result"
    }
   ],
   "source": [
    "is_epimutations_calc = False\n",
    "is_variance_calc = True\n",
    "is_regressed_calc = False\n",
    "cpg_subsets = {'geneparts': traverse_gene_parts, \n",
    "               'geotypes': traverse_geo_types,\n",
    "               'chromosomes': traverse_chromosomes}\n",
    "\n",
    "for subset_name, traverse_subset in cpg_subsets.items():\n",
    "    # Epimutation\n",
    "    if is_epimutations_calc:\n",
    "        path_epimutations = config.ofname([[\"down_epimutations\"], [\"epimutation\", subset_name]], ext = \".pdf\", \n",
    "                                                     include_set = config.params_sets[\"down_epimutations\"])\n",
    "        #traverse_subset(features_names, bad_cpgs, path_epimutations, kernel_epimutations)\n",
    "        print(path_epimutations)\n",
    "\n",
    "        if is_regressed_calc:\n",
    "            path_epimutations = config.ofname([[\"regressout_cells_down_epimutations\"], [\"epimutation\", subset_name]], ext = \".pdf\", \n",
    "                                                         include_set = config.params_sets[\"down_epimutations\"])\n",
    "            #traverse_subset(features_names, bad_cpgs, path_epimutations, partial(kernel_epimutations, epimutations = epimutations_r))\n",
    "\n",
    "            path_epimutations = config.ofname([[\"regressout_cells_age_down_epimutations\"], [\"epimutation\", subset_name]], ext = \".pdf\", \n",
    "                                                         include_set = config.params_sets[\"down_epimutations\"])\n",
    "            #traverse_subset(features_names, bad_cpgs, path_epimutations, partial(kernel_epimutations, epimutations = epimutations_r2))\n",
    "\n",
    "\n",
    "        # Epimutation boxplots\n",
    "        path_epimutation_boxplots = config.ofname([[\"down_epimutations\"], [\"epimutation_boxplot\", subset_name]], ext = \".pdf\", \n",
    "                                                     include_set = config.params_sets[\"down_epimutations\"])\n",
    "        #traverse_subset(features_names, bad_cpgs, path_epimutation_boxplots, kernel_epimutations_boxplot)\n",
    "\n",
    "        if is_regressed_calc:\n",
    "            path_epimutation_boxplots = config.ofname([[\"regressout_cells_down_epimutations\"], [\"epimutation_boxplot\", subset_name]], ext = \".pdf\", \n",
    "                                                         include_set = config.params_sets[\"down_epimutations\"])\n",
    "            #traverse_subset(features_names, bad_cpgs, path_epimutation_boxplots, partial(kernel_epimutations_boxplot, epimutations = epimutations_r))\n",
    "\n",
    "            path_epimutation_boxplots = config.ofname([[\"regressout_cells_age_down_epimutations\"], [\"epimutation_boxplot\", subset_name]], ext = \".pdf\", \n",
    "                                                         include_set = config.params_sets[\"down_epimutations\"])\n",
    "            #traverse_subset(features_names, bad_cpgs, path_epimutation_boxplots, partial(kernel_epimutations_boxplot, epimutations = epimutations_r2))\n",
    "    \n",
    "    # Variance\n",
    "    if is_variance_calc:\n",
    "        path_variance = config.ofname([[\"down_variance\"], [\"variance\", subset_name]], ext = \".pdf\", \n",
    "                                                     include_set = config.params_sets[\"down_epimutations\"])\n",
    "        traverse_subset(features_names, bad_cpgs, path_variance, kernel_variance)\n",
    "\n",
    "        path_variance_boxplot = config.ofname([[\"down_variance\"], [\"variance_boxplot\", subset_name]], ext = \".pdf\", \n",
    "                                                     include_set = config.params_sets[\"down_epimutations\"])\n",
    "        traverse_subset(features_names, bad_cpgs, path_variance_boxplot, kernel_variance_boxplot)\n",
    "\n",
    "        if is_regressed_calc:\n",
    "            path_variance = config.ofname([[\"regressout_cells_down_cpg_variance\"], [\"variance\", subset_name]], ext = \".pdf\", \n",
    "                                                         include_set = config.params_sets[\"down_epimutations\"])\n",
    "            traverse_subset(features_names, bad_cpgs, path_variance, partial(kernel_variance, X = X_r))\n",
    "\n",
    "            path_variance = config.ofname([[\"regressout_cells_age_down_cpg_variance\"], [\"variance\", subset_name]], ext = \".pdf\", \n",
    "                                                         include_set = config.params_sets[\"down_epimutations\"])\n",
    "            traverse_subset(features_names, bad_cpgs, path_variance, partial(kernel_variance, X = X_r2))\n",
    "    \n",
    "# Epimutations\n",
    "'''\n",
    "path_epimutations_genepart = config.ofname([[\"down_epimutations\"], [\"epimutation\", \"geneparts\"]], ext = \".pdf\", \n",
    "                                                 include_set = config.params_sets[\"down_epimutations\"])\n",
    "traverse_gene_parts(feature_names, bad_cpgs, path_epimutations_genepart, kernel_epimutations)\n",
    "\n",
    "### Variance\n",
    "\n",
    "# Genepart\n",
    "\n",
    "path_variance_genepart = config.ofname([[\"down_variance\"], [\"variance\", \"geneparts\"]], ext = \".pdf\", \n",
    "                                                 include_set = config.params_sets[\"down_epimutations\"])\n",
    "traverse_gene_parts(features_names, bad_cpgs, path_variance_genepart, kernel_variance)\n",
    "\n",
    "# \n",
    "path_epimutations_geotype = config.ofname([[\"down_epimutations\"], [\"epimutation\", \"geotypes\"]], ext = \".pdf\", \n",
    "                                                 include_set = config.params_sets[\"down_epimutations\"])\n",
    "\n",
    "path_epimutations_chromosome = config.ofname([[\"down_epimutations\"], [\"epimutation\", \"chromosomes\"]], ext = \".pdf\", \n",
    "                                                 include_set = config.params_sets[\"down_epimutations\"])\n",
    "'''\n"
   ]
  },
  {
   "cell_type": "code",
   "execution_count": 118,
   "metadata": {},
   "outputs": [
    {
     "name": "stdout",
     "output_type": "stream",
     "text": [
      "318391\n",
      "1970.2413793103449\n",
      "1640.7241379310344\n",
      "1913.655172413793\n"
     ]
    },
    {
     "data": {
      "image/png": "[encoded data removed]",
      "text/plain": [
       "<Figure size 720x360 with 1 Axes>"
      ]
     },
     "metadata": {
      "needs_background": "light"
     },
     "output_type": "display_data"
    }
   ],
   "source": [
    "from scipy import stats\n",
    "#plt.boxplot([epimutations[y == 0], epimutations[y == 1], epimutations[y == 2]])\n",
    "def plot_epimutations(epimutations_sum, groups, y, path_epimutations, title):\n",
    "    colors = ['r', 'g', 'b']\n",
    "    plt.figure(figsize=(10, 5))\n",
    "    ax = plt.axes()\n",
    "    my = 0\n",
    "    for j in range(len(groups)):\n",
    "        x = epimutations_sum[y == j]\n",
    "        kde = stats.gaussian_kde(x)\n",
    "        xx = np.linspace(0, max(x) * 1.5, 300)\n",
    "        yy = kde(xx)\n",
    "        ax.plot(xx, yy, colors[j], alpha = 0.5, linewidth = 3)\n",
    "        my = max(my, max(yy))\n",
    "    \n",
    "    for j in range(len(groups)):\n",
    "        x = epimutations_sum[y == j]\n",
    "        dy = my * 0.025\n",
    "        yy = -np.random.rand(x.shape[0]) * dy * 0.8 - 2.5 * dy * j - dy\n",
    "        ax.scatter(x, yy, c = colors[j], alpha = 0.5, s = 30)\n",
    "        #plt.hist(x, color = colors[j], alpha = 0.5)\n",
    "    #plt.xlim(left = 0)\n",
    "    #ax.ticklabel_format(scilimits = [-7, 0])\n",
    "    plt.legend([\"Down\", \"Siblings\", \"Mothers\"])\n",
    "    plt.xlabel('Number of epimutations per subject\\n($\\\\beta < Q_1 - 3 \\\\cdot {\\\\bf IQR}$ or $Q_3 + 3 \\\\cdot {\\\\bf IQR} < \\\\beta$)', fontsize = fontsize)\n",
    "    plt.ylabel('${\\\\bf PDF}$', fontsize = fontsize)\n",
    "    plt.title(title, fontsize = 1.2 * fontsize)\n",
    "    plt.subplots_adjust(bottom=0.2, top=0.9, left=0.2, right=0.95)\n",
    "    #plt.show()\n",
    "    if path_epimutations != '':\n",
    "        plt.savefig(path_epimutations)\n",
    "\n",
    "def plot_epimutations_boxplot(epimutations_sum, groups, y, path_epimutations, title):\n",
    "    colors = ['r', 'g', 'b']\n",
    "    plt.figure(figsize=(10, 5))\n",
    "    ax = plt.axes()\n",
    "    xx = []\n",
    "    for j in range(len(groups)):\n",
    "        x = epimutations_sum[y == j]\n",
    "        xx.append(x)\n",
    "        print(np.mean(x))\n",
    "    \n",
    "    boxprops=dict(linewidth = 0)\n",
    "    capprops= whiskerprops=dict(color='#455A64', linewidth = 6)\n",
    "    \n",
    "    bplot = ax.boxplot(xx, labels = [\"Down\", \"Siblings\", \"Mothers\"], patch_artist=True, boxprops=boxprops,whiskerprops =whiskerprops, capprops =capprops )\n",
    "    for patch, color in zip(bplot['boxes'], colors):\n",
    "        patch.set_facecolor(color)\n",
    "    for median in bplot['medians']:\n",
    "        median.set(color='w', linewidth=3)\n",
    "    \n",
    "    for j in range(len(groups)):\n",
    "        x = epimutations_sum[y == j]\n",
    "        yy = j + np.random.rand(x.shape[0]) * 0.25 + 1 + 0.25\n",
    "        ax.scatter(yy, x, c =  colors[j], alpha = 0.5, s = 30)\n",
    "        #plt.hist(x, color = colors[j], alpha = 0.5)\n",
    "    \n",
    "    ax.set_yscale('log')\n",
    "    #plt.xlim(left = 0)\n",
    "    #ax.ticklabel_format(scilimits = [-7, 0])\n",
    "    #plt.legend([\"Down\", \"Siblings\", \"Mothers\"], framealpha=0.9, fontsize=20, bbox_to_anchor=(0., 1.02, 1., .102), loc=3,\n",
    "    #       ncol=3, mode=\"expand\", borderaxespad=0., handletextpad=0.3, scatterpoints=3)    \n",
    "    #plt.xlabel('Number of epimutations per subject\\n($\\\\beta < Q_1 - 3 \\\\cdot {\\\\bf IQR}$ or $Q_3 + 3 \\\\cdot {\\\\bf IQR} < \\\\beta$)', fontsize = fontsize)\n",
    "    plt.ylabel('Number of epimutations', fontsize = fontsize)\n",
    "    plt.title(title, fontsize = 1.2 * fontsize)\n",
    "    plt.subplots_adjust(bottom=0.2, top=0.8, left=0.2, right=0.95)\n",
    "    #plt.show()\n",
    "    if path_epimutations != '':\n",
    "        plt.savefig(path_epimutations)\n",
    "        \n",
    "cpgs_names, ids = cpgs.get_cpgs({'gene_out': [np.NaN], 'cpgs_in': features_names, 'cpgs_out': bad_cpgs, 'chr_out': ['X', 'Y']}) # 'geotype_in': ['Island', 'N_Shore', 'S_Shore']\n",
    "cpgs_names, ids, ids2 = np.intersect1d(features_names, cpgs_names, return_indices = True)\n",
    "print(len(ids))\n",
    "sub_epimutations_sum = epimutations_r[:, ids].astype('int32').sum(axis = 1)\n",
    "plot_epimutations_boxplot(sub_epimutations_sum, groups, y, '', 'All good cpgs on genes')"
   ]
  },
  {
   "cell_type": "code",
   "execution_count": 69,
   "metadata": {},
   "outputs": [
    {
     "name": "stdout",
     "output_type": "stream",
     "text": [
      "91875\n"
     ]
    },
    {
     "data": {
      "image/png": "[encoded data removed]",
      "text/plain": [
       "<Figure size 720x360 with 1 Axes>"
      ]
     },
     "metadata": {
      "needs_background": "light"
     },
     "output_type": "display_data"
    }
   ],
   "source": [
    "cpgs_names, ids = cpgs.get_cpgs({'gene_in': [np.NaN], 'cpgs_in': features_names, 'cpgs_out': bad_cpgs}) # 'geotype_in': ['Island', 'N_Shore', 'S_Shore']\n",
    "cpgs_names, ids, ids2 = np.intersect1d(features_names, cpgs_names, return_indices = True)\n",
    "print(len(ids))\n",
    "sub_epimutations_sum = epimutations[:, ids].astype('int32').sum(axis = 1)\n",
    "plot_epimutations(sub_epimutations_sum, groups, y, '', 'All cpgs not on genes')"
   ]
  },
  {
   "cell_type": "code",
   "execution_count": 66,
   "metadata": {},
   "outputs": [],
   "source": [
    "cpgs_names, ids = cpgs.get_cpgs({'gene_in': [np.NaN]}) # 'geotype_in': ['Island', 'N_Shore', 'S_Shore']"
   ]
  },
  {
   "cell_type": "code",
   "execution_count": 68,
   "metadata": {},
   "outputs": [
    {
     "data": {
      "text/plain": [
       "119977"
      ]
     },
     "execution_count": 68,
     "metadata": {},
     "output_type": "execute_result"
    }
   ],
   "source": [
    "len(ids)"
   ]
  },
  {
   "cell_type": "code",
   "execution_count": 8,
   "metadata": {},
   "outputs": [],
   "source": [
    "patients_info = pd.read_csv(config.ifname(\"patients_info\"), delimiter='\\t')"
   ]
  },
  {
   "cell_type": "code",
   "execution_count": 19,
   "metadata": {},
   "outputs": [
    {
     "name": "stdout",
     "output_type": "stream",
     "text": [
      "std = 9.106321385694015 mean = 25.620689655172413\n",
      "std = 10.71276700634451 mean = 29.82758620689655\n",
      "std = 10.230052949674846 mean = 58.96551724137931\n"
     ]
    },
    {
     "data": {
      "image/png": "[encoded data removed]",
      "text/plain": [
       "<Figure size 432x288 with 1 Axes>"
      ]
     },
     "metadata": {
      "needs_background": "light"
     },
     "output_type": "display_data"
    },
    {
     "data": {
      "image/png": "[encoded data removed]",
      "text/plain": [
       "<Figure size 432x288 with 1 Axes>"
      ]
     },
     "metadata": {
      "needs_background": "light"
     },
     "output_type": "display_data"
    },
    {
     "data": {
      "image/png": "[encoded data removed]",
      "text/plain": [
       "<Figure size 432x288 with 1 Axes>"
      ]
     },
     "metadata": {
      "needs_background": "light"
     },
     "output_type": "display_data"
    }
   ],
   "source": [
    "ages = patients_info[\"age\"].values\n",
    "colors = ['r', 'g', 'b']\n",
    "for i, mask in enumerate(group_masks):\n",
    "    plt.figure()\n",
    "    plt.hist(ages[mask], color=colors[i])\n",
    "    print('std = ' + str(ages[mask].std()) + ' mean = ' + str(ages[mask].mean()))\n",
    "    #plt.title('std = ' + str(ages[mask].std()) + ' mean = ' + str(ages[mask].mean()))\n",
    "    plt.xlabel('Age', fontsize = fontsize)\n",
    "    plt.ylabel('Count', fontsize = fontsize)\n",
    "    plt.legend([group_names[i]], framealpha=0.9, fontsize=20, #bbox_to_anchor=(0., 1.02, 1., .102), \n",
    "               bbox_to_anchor=(0,1.02,1,0.2), loc=\"lower left\",\n",
    "               ncol=3, mode=\"expand\", borderaxespad=0., handletextpad=0.2, scatterpoints=3, columnspacing = 2)\n",
    "                \n",
    "#plt.figure()\n",
    "#plt.hist(ages[29:29*2], color='g')\n",
    "#plt.figure()\n",
    "#plt.hist(ages[29*2:29*3], color='b')\n",
    "\n"
   ]
  },
  {
   "cell_type": "markdown",
   "metadata": {},
   "source": [
    "# CpG variance"
   ]
  },
  {
   "cell_type": "code",
   "execution_count": 16,
   "metadata": {},
   "outputs": [],
   "source": [
    "def variance_analyze(X, ids, group_masks, sub_mask = None):\n",
    "    if sub_mask is None:\n",
    "        sub_mask = range(29)\n",
    "    sd = [0] * len(group_masks)\n",
    "    for j, mask in enumerate(group_masks):\n",
    "        x = X[mask[sub_mask], :]\n",
    "        sd[j] = np.std(x[:, ids], axis = 0)\n",
    "    return sd\n",
    "\n",
    "#sd = []\n",
    "\n",
    "#pdf.savefig()\n",
    "#plt.close()\n"
   ]
  },
  {
   "cell_type": "code",
   "execution_count": 55,
   "metadata": {
    "scrolled": false
   },
   "outputs": [
    {
     "data": {
      "text/plain": [
       "\"sub_mask = list(range(28))\\ncid = np.random.randint(29)\\nsub_mask.remove(cid)\\nprint(cid)\\n\\nsd = variance_analyze(X, ids, group_masks, sub_mask = sub_mask)\\nplot_variance(sd, groups, group_masks, y, 'Full STD')\\n\""
      ]
     },
     "execution_count": 55,
     "metadata": {},
     "output_type": "execute_result"
    },
    {
     "data": {
      "image/png": "[encoded data removed]",
      "text/plain": [
       "<Figure size 720x360 with 1 Axes>"
      ]
     },
     "metadata": {
      "needs_background": "light"
     },
     "output_type": "display_data"
    }
   ],
   "source": [
    "from scipy import stats\n",
    "#plt.boxplot([epimutations[y == 0], epimutations[y == 1], epimutations[y == 2]])\n",
    "def plot_changes(ax, xx, yy, colors):\n",
    "    mask1 = np.logical_and(yy[0] < yy[1], yy[1] < yy[2])\n",
    "    mask2 = np.logical_and(yy[0] < yy[2], yy[2] < yy[1])\n",
    "    mask3 = np.logical_and(yy[1] < yy[0], yy[0] < yy[2])\n",
    "    mask4 = np.logical_and(yy[1] < yy[2], yy[2] < yy[0])\n",
    "    mask5 = np.logical_and(yy[2] < yy[0], yy[0] < yy[1])\n",
    "    mask6 = np.logical_and(yy[2] < yy[1], yy[1] < yy[0])\n",
    "    \n",
    "    mask = mask1 + 2 * mask2 + 3 * mask3 + 4 * mask4 + 5 * mask5 + 6 * mask6 - 1\n",
    "    pos_change = np.flatnonzero(np.diff(mask) != 0)\n",
    "    print(xx[pos_change])\n",
    "    \n",
    "    ylim = ax.get_ylim()\n",
    "    \n",
    "    pos_change_x = [xx.min(), 0.0012056548995531503, 0.002596021312694869, 0.005664170799365929, 0.01506978866499511, 0.018620560297459694, 0.02661029358921901, 0.05434549, xx.max()]\n",
    "    for i in range(len(pos_change_x) - 1):\n",
    "        x_cur = pos_change_x[i]\n",
    "        x_nxt = pos_change_x[i + 1]\n",
    "        k_cur = np.flatnonzero(xx > x_cur)[0]\n",
    "        k_nxt = len(xx) - 1 if i == len(pos_change_x) - 2 else np.flatnonzero(xx > x_nxt)[0]\n",
    "        mk = np.argmax(np.bincount(mask[k_cur:k_nxt]))\n",
    "        cx = xx[k_cur:k_nxt]\n",
    "            \n",
    "        id_min = 0 if mk < 2 else (2 if (mk > 3) else 1)\n",
    "        id_max = 0 if mk == 3 or mk == 5 else (2 if (mk == 0 or mk == 2) else 1)\n",
    "        \n",
    "        cy1 = np.zeros((k_nxt - k_cur, ))\n",
    "        cy2 = yy[id_min][k_cur:k_nxt]\n",
    "        color = colors[id_min]\n",
    "        ax.fill_between(cx, cy1, cy2, color = color, alpha = 0.5)\n",
    "        \n",
    "        cy1 = np.ones((k_nxt - k_cur, ))\n",
    "        cy2 = yy[id_max][k_cur:k_nxt]\n",
    "        color = colors[id_max]\n",
    "        ax.fill_between(cx, cy1, cy2, color = color, alpha = 0.5)\n",
    "        #ax.plot([x, x], [ylim[0], ylim[1]], 'k')    \n",
    "    \n",
    "def plot_variance(sd, groups, group_masks, y, title):\n",
    "    colors = ['r', 'g', 'b']\n",
    "    plt.figure(figsize=(10, 5))\n",
    "    ax = plt.axes()\n",
    "    my = 0\n",
    "    mn = 100\n",
    "    for j, mask in enumerate(group_masks):\n",
    "        if len(sd[j]) == 0: continue\n",
    "        x = sd[j]\n",
    "        my = max(my, max(x))\n",
    "        mn = min(mn, min(x))\n",
    "    \n",
    "    #print([mn, my])\n",
    "    #mn = 1e-3\n",
    "    xx = np.linspace(np.log10(mn), np.log10(my), 500)\n",
    "    yy = [[],[],[]]\n",
    "    y_min = 100\n",
    "    y_max = 0\n",
    "    for j, mask in enumerate(group_masks):\n",
    "        x = sd[j]\n",
    "        kde = stats.gaussian_kde(np.log10(x))\n",
    "        yy[j] = np.maximum(1e-6, kde(xx))\n",
    "        ax.plot(10 ** xx, yy[j], colors[j], alpha = 0.5, linewidth = 3)\n",
    "        \n",
    "        ##n,x,_ = ax.hist(x, np.linspace(np.log10(mn), np.log10(my), 40), histtype=u'step', density=True, linewidth = 0)\n",
    "        \n",
    "        #n,x,_ = ax.hist(x, xx, cumulative = 1, histtype=u'step', density=True, linewidth = 0)\n",
    "        #bin_centers = 0.5*(x[1:]+x[:-1])\n",
    "        #ax.plot(bin_centers,n, linewidth = 3, c = colors[j])\n",
    "    \n",
    "    #plot_changes(ax, 10 ** xx, yy, colors)\n",
    "    ax.set_ylim([0, np.max(yy) * 1.1])\n",
    "    ax.set_xlim([0.0005241114, 0.38468492])\n",
    "    \n",
    "    #ax.set_yscale('log')\n",
    "    ax.set_xscale('log')\n",
    "    #plt.xlim(left = 0, right = my)\n",
    "    #plt.ylim(bottom = 1e-5)\n",
    "    #ax.ticklabel_format(scilimits = [-7, 0])\n",
    "    #plt.legend([\"Down\", \"Siblings\", \"Mothers\"])\n",
    "    #plt.subplots_adjust(bottom=0.3, top=0.95, left=0.15, right=0.95)\n",
    "    plt.legend(['Down', 'Siblings', 'Mothers'], framealpha=0.9, fontsize=30, bbox_to_anchor=(0., 1.02, 1., .102), \n",
    "           loc=3, ncol=3, mode=\"expand\", borderaxespad=0., handletextpad=0.3, scatterpoints=3)\n",
    "    plt.xlabel('STD of CpG sites', fontsize = fontsize)\n",
    "    plt.ylabel('${\\\\bf PDF}$', fontsize = fontsize)\n",
    "    plt.title(title, fontsize = 1.2 * fontsize, y = 1.3)\n",
    "    plt.subplots_adjust(bottom=0.2, top=0.7, left=0.1, right=0.95)\n",
    "    \n",
    "    #ax.set_yscale('log')\n",
    "    #plt.show()\n",
    "    \n",
    "def plot_variance_boxplot(sd, groups, group_masks, y, title):\n",
    "    colors = ['r', 'g', 'b']\n",
    "    my = 0\n",
    "    \n",
    "    colors = ['r', 'g', 'b']\n",
    "    plt.figure(figsize=(10, 5))\n",
    "    ax = plt.axes()\n",
    "    xx = []\n",
    "    for j, mask in enumerate(group_masks):\n",
    "        x = sd[j]\n",
    "        xx.append(x)\n",
    "    \n",
    "    boxprops=dict(linewidth = 0)\n",
    "    capprops= whiskerprops=dict(color='#455A64', linewidth = 6)\n",
    "    \n",
    "    bplot = ax.boxplot(xx, labels = [\"Down\", \"Siblings\", \"Mothers\"], patch_artist=True, boxprops=boxprops,whiskerprops =whiskerprops, capprops =capprops )\n",
    "    for patch, color in zip(bplot['boxes'], colors):\n",
    "        patch.set_facecolor(color)\n",
    "    for median in bplot['medians']:\n",
    "        median.set(color='w', linewidth=3)\n",
    "    \n",
    "    for j, mask in enumerate(group_masks):\n",
    "        x = sd[j]\n",
    "        yy = j + np.random.rand(x.shape[0]) * 0.25 + 1 + 0.25\n",
    "        #ax.scatter(yy, x, c =  colors[j], alpha = 0.5, s = 30)\n",
    "    \n",
    "    ax.set_yscale('log')\n",
    "    \n",
    "    plt.ylabel('STD of CpG sites', fontsize = fontsize)\n",
    "    plt.title(title, fontsize = 1.2 * fontsize)\n",
    "    plt.subplots_adjust(bottom=0.2, top=0.9, left=0.2, right=0.95)\n",
    "\n",
    "#cpgs_names, ids = cpgs.get_cpgs({'gene_out': [np.NaN], 'cpgs_in': features_names, 'cpgs_out': bad_cpgs, 'chr_out': ['X', 'Y']}) # 'geotype_in': ['Island', 'N_Shore', 'S_Shore']\n",
    "#cpgs_names, ids, ids2 = np.intersect1d(features_names, cpgs_names, return_indices = True)\n",
    "\n",
    "#sd_ratio = [[], sd[1] / sd[0], sd[2] / sd[0]]\n",
    "#plot_variance_boxplot(sd, groups, group_masks, y, 'Full STD')\n",
    "sd = variance_analyze(X, ids, group_masks)\n",
    "plot_variance(sd, groups, group_masks, y, 'Full STD')\n",
    "\n",
    "'''sub_mask = list(range(28))\n",
    "cid = np.random.randint(29)\n",
    "sub_mask.remove(cid)\n",
    "print(cid)\n",
    "\n",
    "sd = variance_analyze(X, ids, group_masks, sub_mask = sub_mask)\n",
    "plot_variance(sd, groups, group_masks, y, 'Full STD')\n",
    "'''\n",
    "\n",
    "#sd = variance_analyze(X_r, ids, group_masks)\n",
    "#plot_variance_boxplot(sd, groups, group_masks, y, 'Full STD')\n",
    "##plot_variance(sd, groups, group_masks, y, 'Full STD regr cells')\n",
    "\n",
    "#sd = variance_analyze(X_r2, ids, group_masks)\n",
    "#plot_variance_boxplot(sd, groups, group_masks, y, 'Full STD')\n",
    "#plot_variance(sd, groups, group_masks, y, 'Full STD regr cells age')"
   ]
  },
  {
   "cell_type": "code",
   "execution_count": 28,
   "metadata": {},
   "outputs": [
    {
     "data": {
      "text/plain": [
       "(0.0, 1.0)"
      ]
     },
     "execution_count": 28,
     "metadata": {},
     "output_type": "execute_result"
    },
    {
     "data": {
      "image/png": "[encoded data removed]",
      "text/plain": [
       "<Figure size 432x288 with 1 Axes>"
      ]
     },
     "metadata": {
      "needs_background": "light"
     },
     "output_type": "display_data"
    }
   ],
   "source": [
    "plt.gca().get_xlim()"
   ]
  },
  {
   "cell_type": "code",
   "execution_count": 11,
   "metadata": {},
   "outputs": [
    {
     "name": "stdout",
     "output_type": "stream",
     "text": [
      "-0.3910074532032013\n",
      "0.012421519992529951\n",
      "-0.2704606056213379\n",
      "0.0111960819011969\n",
      "-0.26109227538108826\n",
      "0.012041087368516876\n",
      "Ttest_indResult(statistic=43.67832036659338, pvalue=0.0)\n",
      "Ttest_indResult(statistic=-4.432992307109206, pvalue=9.294968259213614e-06)\n",
      "Ttest_indResult(statistic=-45.96399310882487, pvalue=0.0)\n",
      "Ttest_indResult(statistic=39.13773161733174, pvalue=0.0)\n",
      "Ttest_indResult(statistic=11.40550024026172, pvalue=3.951706641080084e-30)\n",
      "Ttest_indResult(statistic=-27.104644459351825, pvalue=1.0733471388083055e-161)\n"
     ]
    }
   ],
   "source": [
    "for i in range(3):\n",
    "    print(scipy.stats.skew(np.log10(sd[i])))\n",
    "    print(10 ** np.mean(np.log10(sd[i])))\n",
    "\n",
    "print(scipy.stats.ttest_ind(sd[0], sd[1]))\n",
    "print(scipy.stats.ttest_ind(sd[0], sd[2]))\n",
    "print(scipy.stats.ttest_ind(sd[1], sd[2]))\n",
    "\n",
    "print(scipy.stats.ttest_ind(np.log10(sd[0]), np.log10(sd[1])))\n",
    "print(scipy.stats.ttest_ind(np.log10(sd[0]), np.log10(sd[2])))\n",
    "print(scipy.stats.ttest_ind(np.log10(sd[1]), np.log10(sd[2])))"
   ]
  },
  {
   "cell_type": "code",
   "execution_count": null,
   "metadata": {},
   "outputs": [],
   "source": []
  },
  {
   "cell_type": "code",
   "execution_count": null,
   "metadata": {},
   "outputs": [],
   "source": [
    "def plot_2d_variance_hist(sd, labels):\n",
    "    nbins = 400\n",
    "    bins = [np.geomspace(sd[0].min(), sd[0].max(), nbins), np.geomspace(sd[1].min(), sd[1].max(), nbins)]\n",
    "    import matplotlib.pyplot as plt\n",
    "\n",
    "    my_cmap = plt.cm.jet\n",
    "    my_cmap.set_under('w', 0)\n",
    "\n",
    "    plt.figure(figsize=(10,7))\n",
    "    plt.hist2d(sd[0], sd[1], bins = bins, cmap = my_cmap)\n",
    "    mx = min(sd[0].max(), sd[1].max())\n",
    "    mn = max(sd[0].min(), sd[1].min())\n",
    "    plt.plot([mn, mx], [mn, mx], 'k--')\n",
    "    plt.gca().set_aspect('equal', 'box')\n",
    "    plt.xscale('log')\n",
    "    plt.yscale('log')\n",
    "    plt.colorbar()\n",
    "    plt.xlabel('Std CpG (' + labels[0] + ')', fontsize = fontsize)\n",
    "    plt.ylabel('Std CpG (' + labels[1] + ')', fontsize = fontsize)\n",
    "    \n",
    "plot_2d_variance_hist([sd[0], sd[1]], labels = ['DS', 'Siblings'])\n",
    "plot_2d_variance_hist([sd[0], sd[2]], labels = ['DS', 'Mothers'])\n",
    "plot_2d_variance_hist([sd[2], sd[1]], labels = ['Mothers', 'Siblings'])"
   ]
  },
  {
   "cell_type": "code",
   "execution_count": null,
   "metadata": {},
   "outputs": [],
   "source": [
    "def plot_diff_hist():\n",
    "    "
   ]
  },
  {
   "cell_type": "code",
   "execution_count": 40,
   "metadata": {},
   "outputs": [],
   "source": [
    "cpgs_names, ids = cpgs.get_cpgs({'gene_out': [np.NaN], 'cpgs_in': features_names, 'cpgs_out': bad_cpgs, 'chr_out': ['X', 'Y']})\n",
    "cpgs_names, ids, ids2 = np.intersect1d(features_names, cpgs_names, return_indices = True)\n",
    "sd = variance_analyze(X, ids, group_masks)"
   ]
  },
  {
   "cell_type": "code",
   "execution_count": 52,
   "metadata": {},
   "outputs": [
    {
     "name": "stdout",
     "output_type": "stream",
     "text": [
      "113528 195772\n",
      "136093 173394\n"
     ]
    }
   ],
   "source": []
  },
  {
   "cell_type": "code",
   "execution_count": 24,
   "metadata": {},
   "outputs": [],
   "source": [
    "def regress_out_cells(X, is_age):\n",
    "    df_cells = pd.read_csv(config.ifname('cells'), delimiter = '\\t')\n",
    "    from sklearn.linear_model import LinearRegression\n",
    "    cells_cols = ['CD8T', 'CD4T', 'NK', 'Bcell', 'Gran']\n",
    "    df_sub_cells = df_cells[cells_cols]\n",
    "    if is_age:\n",
    "        df_sub_cells[\"age\"] = patients_info[\"age\"].values\n",
    "    #ages = patients_info[\"age\"].values\n",
    "    data = df_sub_cells.values\n",
    "    X_r = np.array(X)\n",
    "    for i in tqdm(range(len(features_names)), ncols = 100):\n",
    "        beta = X[:, i]\n",
    "        model = LinearRegression()\n",
    "        model.fit(data, beta)\n",
    "        beta_pred = model.predict(data)\n",
    "        X_r[:, i] = beta - beta_pred + np.mean(beta)\n",
    "    return X_r\n",
    "patients_info = pd.read_csv(config.ifname(\"patients_info\"), delimiter='\\t')\n",
    "#X_r = regress_out_cells(X, False)\n",
    "#X_r2 = regress_out_cells(X, True)\n",
    "data = np.load(config.ifname(\"beta_values\"))\n",
    "X = data['X']\n",
    "X_r = data['X_r']\n",
    "X_r2 = data['X_r2']"
   ]
  },
  {
   "cell_type": "code",
   "execution_count": 33,
   "metadata": {},
   "outputs": [],
   "source": [
    "np.savez_compressed(config.ifname(\"beta_values\"), X = X, X_r = X_r, X_r2 = X_r2)"
   ]
  },
  {
   "cell_type": "code",
   "execution_count": 65,
   "metadata": {},
   "outputs": [
    {
     "data": {
      "text/plain": [
       "array(['SampleID\\tDNAmAge\\tComment\\tnoMissingPerSample\\tmeanMethBySample\\tminMethBySample\\tmaxMethBySample\\tcorSampleVSgoldstandard\\tmeanAbsDifferenceSampleVSgoldstandard\\tpredictedGender\\tmeanXchromosome\\tSampleID1\\tPlasmaBlast\\tCD8pCD28nCD45RAn\\tCD8naive\\tCD4naive\\tCD8T\\tCD4T\\tNK\\tBcell\\tMono\\tGran'],\n",
       "      dtype=object)"
      ]
     },
     "execution_count": 65,
     "metadata": {},
     "output_type": "execute_result"
    }
   ],
   "source": [
    "df_cells.columns.values"
   ]
  },
  {
   "cell_type": "code",
   "execution_count": 76,
   "metadata": {},
   "outputs": [
    {
     "data": {
      "text/plain": [
       "(array([3.9091984e+07, 8.5363000e+05, 1.6652100e+05, 5.5377000e+04,\n",
       "        2.1150000e+04, 9.5180000e+03, 4.9390000e+03, 2.1670000e+03,\n",
       "        7.9600000e+02, 9.8000000e+01]),\n",
       " array([5.1186111e-11, 9.6048571e-02, 1.9209714e-01, 2.8814572e-01,\n",
       "        3.8419428e-01, 4.8024285e-01, 5.7629144e-01, 6.7233998e-01,\n",
       "        7.6838857e-01, 8.6443710e-01, 9.6048570e-01], dtype=float32),\n",
       " <a list of 10 Patch objects>)"
      ]
     },
     "execution_count": 76,
     "metadata": {},
     "output_type": "execute_result"
    },
    {
     "data": {
      "image/png": "[encoded data removed]",
      "text/plain": [
       "<Figure size 432x288 with 1 Axes>"
      ]
     },
     "metadata": {
      "needs_background": "light"
     },
     "output_type": "display_data"
    }
   ],
   "source": [
    "plt.hist(X_r.flatten())"
   ]
  },
  {
   "cell_type": "code",
   "execution_count": 83,
   "metadata": {},
   "outputs": [],
   "source": [
    "df = pd.DataFrame()\n",
    "df['epimutations_sum'] = sub_epimutations_sum\n",
    "df.to_csv(config.ifname('epimutations'))"
   ]
  },
  {
   "cell_type": "code",
   "execution_count": 82,
   "metadata": {},
   "outputs": [],
   "source": [
    "sub_epimutations_sum = epimutations[:, ids].astype('int32').sum(axis = 1)"
   ]
  },
  {
   "cell_type": "code",
   "execution_count": 57,
   "metadata": {},
   "outputs": [
    {
     "name": "stdout",
     "output_type": "stream",
     "text": [
      "(0.03948604074863926, 5.1193269502480527e-216)\n",
      "(0.03217113549063888, 1.543225409745477e-143)\n",
      "(0.03217113549063888, 1.543225409745477e-143)\n",
      "(0.048399609285438294, 0.0)\n",
      "\n",
      "(0.03948604074863926, 2.4605619383268044e-216)\n",
      "(0.01774861726619159, 2.7143684282782443e-44)\n",
      "(0.01774861726619159, 2.7143684282782443e-44)\n",
      "(0.009937466825381373, 2.190453937144936e-14)\n",
      "\n",
      "(0.002763897220712897, 0.08759832068833201)\n",
      "(0.03217113549063888, 7.471841028250168e-144)\n",
      "(0.03217113549063888, 7.471841028250168e-144)\n",
      "(0.048399609285438294, 0.0)\n",
      "\n"
     ]
    },
    {
     "data": {
      "text/plain": [
       "'\\nprint(distr_less(np.log10(sd[0]), np.log10(sd[2])))\\nprint(distr_less(np.log10(sd[0]), np.log10(sd[1])))\\nprint(distr_less(np.log10(sd[1]), np.log10(sd[2])))\\n'"
      ]
     },
     "execution_count": 57,
     "metadata": {},
     "output_type": "execute_result"
    }
   ],
   "source": [
    "def distr_less(x, y, alpha = 0.05, alternative = 'two-sided'):\n",
    "    ks, p = stats.ks_2samp(x, y, alternative = alternative)\n",
    "    return ks, p\n",
    "for alternative in ['two-sided', 'less', 'greater']:\n",
    "    print(distr_less(sd[0], sd[1], alternative = alternative))\n",
    "    print(distr_less(sd[0], sd[2], alternative = alternative))\n",
    "    print(distr_less(sd[1], sd[2], alternative = alternative))\n",
    "    print('')\n",
    "'''\n",
    "print(distr_less(np.log10(sd[0]), np.log10(sd[2])))\n",
    "print(distr_less(np.log10(sd[0]), np.log10(sd[1])))\n",
    "print(distr_less(np.log10(sd[1]), np.log10(sd[2])))\n",
    "'''"
   ]
  },
  {
   "cell_type": "code",
   "execution_count": 43,
   "metadata": {},
   "outputs": [
    {
     "name": "stdout",
     "output_type": "stream",
     "text": [
      "ks =  0.0042463511845498144 pv =  0.006422628048431702\n",
      "0.006422628048431702\n"
     ]
    }
   ],
   "source": [
    "print(distr_less(sd[0], sd[0]))\n"
   ]
  },
  {
   "cell_type": "code",
   "execution_count": 21,
   "metadata": {},
   "outputs": [
    {
     "data": {
      "text/plain": [
       "Ks_2sampResult(statistic=0.21833333333333332, pvalue=1.807865352443372e-05)"
      ]
     },
     "execution_count": 21,
     "metadata": {},
     "output_type": "execute_result"
    }
   ],
   "source": [
    "n1 = 200 \n",
    "n2 = 300\n",
    "rvs1 = stats.norm.rvs(size=n1, loc=0., scale=1)\n",
    "rvs2 = stats.norm.rvs(size=n2, loc=0.5, scale=1.5)\n",
    "stats.ks_2samp(rvs1, rvs2)"
   ]
  }
 ],
 "metadata": {
  "kernelspec": {
   "display_name": "Python 3",
   "language": "python",
   "name": "python3"
  },
  "language_info": {
   "codemirror_mode": {
    "name": "ipython",
    "version": 3
   },
   "file_extension": ".py",
   "mimetype": "text/x-python",
   "name": "python",
   "nbconvert_exporter": "python",
   "pygments_lexer": "ipython3",
   "version": "3.7.1"
  }
 },
 "nbformat": 4,
 "nbformat_minor": 2
}
