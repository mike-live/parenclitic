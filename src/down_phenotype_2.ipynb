{
 "cells": [
  {
   "cell_type": "code",
   "execution_count": 1,
   "metadata": {},
   "outputs": [],
   "source": [
    "%load_ext autoreload\n",
    "%autoreload 2\n",
    "import numpy as np\n",
    "from numpy import linalg as LA\n",
    "import pandas as pd\n",
    "#from load_data_mongoloids import load_data_mongoloids\n",
    "#from mongoloids_config import config\n",
    "\n",
    "#from load_data_cancer import load_data_cancer\n",
    "#from cancer_config import config\n",
    "import re\n",
    "import time\n",
    "import matplotlib\n",
    "import matplotlib.pyplot as plt\n",
    "import matplotlib.mlab as mlab\n",
    "#import plotly.plotly as py\n",
    "import textwrap\n",
    "import scipy.stats as stats\n",
    "\n",
    "from sklearn import svm, datasets\n",
    "from scipy import stats\n",
    "from sklearn import neighbors, ensemble, linear_model, neural_network\n",
    "from sklearn.model_selection import cross_val_score\n",
    "from sklearn.metrics import mean_squared_error\n",
    "import scipy\n",
    "from matplotlib.backends.backend_pdf import PdfPages\n",
    "\n",
    "\n",
    "from infrastructure.configuration import param\n",
    "import matplotlib.pylab as pylab\n",
    "import seaborn\n",
    "seaborn.set_style('darkgrid', {'legend.frameon':True})\n",
    "fontsize = 20\n",
    "params = {'legend.fontsize': fontsize,\n",
    "  'figure.figsize': (18, 15),\n",
    "  'axes.labelsize': fontsize,\n",
    "  'axes.titlesize':fontsize,\n",
    "  'xtick.labelsize':fontsize,\n",
    "  'ytick.labelsize':fontsize,\n",
    "  'font.size':fontsize}\n",
    "pylab.rcParams.update(params)\n",
    "plt.rc('axes', labelsize=fontsize) \n",
    "\n",
    "plt.style.use('ggplot')\n",
    "%matplotlib inline\n",
    "\n",
    "import igraph\n",
    "import cairo"
   ]
  },
  {
   "cell_type": "code",
   "execution_count": 2,
   "metadata": {},
   "outputs": [],
   "source": [
    "from load_parenclitics import load_parenclitics\n",
    "from transform_data import parenclitic_feature_names"
   ]
  },
  {
   "cell_type": "code",
   "execution_count": 68,
   "metadata": {},
   "outputs": [
    {
     "name": "stdout",
     "output_type": "stream",
     "text": [
      "D:\\PC\\UNN\\Science\\Gerontology\\data\\random_graph\\params\\num_genes_14756\\parenclitics\\parenclitic.mat\n"
     ]
    }
   ],
   "source": [
    "#from configurations.config_random_graph import config\n",
    "#parenclitics_rg = load_parenclitics(config, by_sample = True, id_thr = 5, from_mat = True)\n",
    "\n",
    "from configurations.config_random_graph import config\n",
    "parenclitics_rg = load_parenclitics(config, by_sample = True, id_thr = 5, from_mat = True)"
   ]
  },
  {
   "cell_type": "code",
   "execution_count": 3,
   "metadata": {},
   "outputs": [
    {
     "name": "stdout",
     "output_type": "stream",
     "text": [
      "D:\\PC\\UNN\\Science\\Gerontology\\data\\GSE52588\\GSE52588_average_beta.txt\n",
      "Data loaded:  1.2071621000000006\n",
      "float32 (14756, 87)\n",
      "(87, 14756) 14756\n"
     ]
    }
   ],
   "source": [
    "from configurations.load_data_down_GSE52588 import load_data_down_GSE52588\n",
    "from configurations.config_down_GSE52588 import config\n",
    "\n",
    "X, y, mask, genes_names = load_data_down_GSE52588()"
   ]
  },
  {
   "cell_type": "code",
   "execution_count": 3,
   "metadata": {},
   "outputs": [
    {
     "name": "stdout",
     "output_type": "stream",
     "text": [
      "Data loaded:  50.8244918\n",
      "float32 (422801, 87)\n",
      "(87, 114674)\n",
      "(87, 114674) 114674 (87,) (114674,)\n"
     ]
    }
   ],
   "source": [
    "from configurations.load_data_down_GSE52588 import load_data_down_GSE52588_cpgs\n",
    "from configurations.config_down_GSE52588_cpg import config\n",
    "\n",
    "X, y, mask, genes_names = load_data_down_GSE52588_cpgs()"
   ]
  },
  {
   "cell_type": "code",
   "execution_count": 5,
   "metadata": {},
   "outputs": [
    {
     "name": "stdout",
     "output_type": "stream",
     "text": [
      "D:\\PC\\UNN\\Science\\Gerontology\\data\\GSE52588\\params\\num_cpgs_114674\\kde_mask_nonhealthy_mask\\algorithm_pdf\\thr_type_best\\division_rule_non_control\\parenclitics\\parenclitic.mat\n"
     ]
    }
   ],
   "source": [
    "from load_parenclitics import load_parenclitics\n",
    "from transform_data import parenclitic_feature_names\n",
    "parenclitics = load_parenclitics(config, by_sample = True, id_thr = 5, from_mat = True)"
   ]
  },
  {
   "cell_type": "code",
   "execution_count": 8,
   "metadata": {},
   "outputs": [
    {
     "name": "stdout",
     "output_type": "stream",
     "text": [
      "D:\\PC\\UNN\\Science\\Gerontology\\data\\GSE52588\\params\\num_genes_14756\\kde_mask_mothers_mask\\algorithm_svc\\parenclitics\\parenclitic.mat\n",
      "(87, 45)\n",
      "D:\\PC\\UNN\\Science\\Gerontology\\data\\GSE52588\\params\\num_genes_14756\\kde_mask_siblings_mask\\algorithm_svc\\parenclitics\\parenclitic.mat\n",
      "(87, 45)\n",
      "D:\\PC\\UNN\\Science\\Gerontology\\data\\GSE52588\\params\\num_genes_14756\\kde_mask_mongoloids_mask\\algorithm_svc\\parenclitics\\parenclitic.mat\n"
     ]
    },
    {
     "ename": "FileNotFoundError",
     "evalue": "[Errno 2] No such file or directory: 'D:\\\\PC\\\\UNN\\\\Science\\\\Gerontology\\\\data\\\\GSE52588\\\\params\\\\num_genes_14756\\\\kde_mask_mongoloids_mask\\\\algorithm_svc\\\\parenclitics\\\\parenclitic.mat'",
     "output_type": "error",
     "traceback": [
      "\u001b[1;31m---------------------------------------------------------------------------\u001b[0m",
      "\u001b[1;31mFileNotFoundError\u001b[0m                         Traceback (most recent call last)",
      "\u001b[1;32mC:\\ProgramData\\Anaconda3\\lib\\site-packages\\scipy\\io\\matlab\\mio.py\u001b[0m in \u001b[0;36m_open_file\u001b[1;34m(file_like, appendmat)\u001b[0m\n\u001b[0;32m     32\u001b[0m     \u001b[1;32mtry\u001b[0m\u001b[1;33m:\u001b[0m\u001b[1;33m\u001b[0m\u001b[1;33m\u001b[0m\u001b[0m\n\u001b[1;32m---> 33\u001b[1;33m         \u001b[1;32mreturn\u001b[0m \u001b[0mopen\u001b[0m\u001b[1;33m(\u001b[0m\u001b[0mfile_like\u001b[0m\u001b[1;33m,\u001b[0m \u001b[1;34m'rb'\u001b[0m\u001b[1;33m)\u001b[0m\u001b[1;33m,\u001b[0m \u001b[1;32mTrue\u001b[0m\u001b[1;33m\u001b[0m\u001b[1;33m\u001b[0m\u001b[0m\n\u001b[0m\u001b[0;32m     34\u001b[0m     \u001b[1;32mexcept\u001b[0m \u001b[0mIOError\u001b[0m\u001b[1;33m:\u001b[0m\u001b[1;33m\u001b[0m\u001b[1;33m\u001b[0m\u001b[0m\n",
      "\u001b[1;31mFileNotFoundError\u001b[0m: [Errno 2] No such file or directory: 'D:\\\\PC\\\\UNN\\\\Science\\\\Gerontology\\\\data\\\\GSE52588\\\\params\\\\num_genes_14756\\\\kde_mask_mongoloids_mask\\\\algorithm_svc\\\\parenclitics\\\\parenclitic.mat'",
      "\nDuring handling of the above exception, another exception occurred:\n",
      "\u001b[1;31mFileNotFoundError\u001b[0m                         Traceback (most recent call last)",
      "\u001b[1;32m<ipython-input-8-f0d41a52c863>\u001b[0m in \u001b[0;36m<module>\u001b[1;34m\u001b[0m\n\u001b[0;32m     15\u001b[0m \u001b[0mconfig\u001b[0m\u001b[1;33m.\u001b[0m\u001b[0mparams\u001b[0m\u001b[1;33m[\u001b[0m\u001b[1;34m\"kde_mask\"\u001b[0m\u001b[1;33m]\u001b[0m\u001b[1;33m.\u001b[0m\u001b[0mvalue\u001b[0m \u001b[1;33m=\u001b[0m \u001b[1;34m\"mongoloids_mask\"\u001b[0m\u001b[1;33m\u001b[0m\u001b[1;33m\u001b[0m\u001b[0m\n\u001b[0;32m     16\u001b[0m \u001b[0mmask\u001b[0m \u001b[1;33m=\u001b[0m \u001b[0mconfig\u001b[0m\u001b[1;33m.\u001b[0m\u001b[0mparams\u001b[0m\u001b[1;33m[\u001b[0m\u001b[0mconfig\u001b[0m\u001b[1;33m.\u001b[0m\u001b[0mparams\u001b[0m\u001b[1;33m[\u001b[0m\u001b[1;34m\"kde_mask\"\u001b[0m\u001b[1;33m]\u001b[0m\u001b[1;33m.\u001b[0m\u001b[0mvalue\u001b[0m\u001b[1;33m]\u001b[0m\u001b[1;33m.\u001b[0m\u001b[0mvalue\u001b[0m\u001b[1;33m\u001b[0m\u001b[1;33m\u001b[0m\u001b[0m\n\u001b[1;32m---> 17\u001b[1;33m \u001b[0mcur\u001b[0m \u001b[1;33m=\u001b[0m \u001b[0mload_parenclitics\u001b[0m\u001b[1;33m(\u001b[0m\u001b[0mconfig\u001b[0m\u001b[1;33m,\u001b[0m \u001b[0mby_sample\u001b[0m \u001b[1;33m=\u001b[0m \u001b[1;32mTrue\u001b[0m\u001b[1;33m,\u001b[0m \u001b[0mid_thr\u001b[0m \u001b[1;33m=\u001b[0m \u001b[1;36m5\u001b[0m\u001b[1;33m,\u001b[0m \u001b[0mfrom_mat\u001b[0m \u001b[1;33m=\u001b[0m \u001b[1;32mTrue\u001b[0m\u001b[1;33m)\u001b[0m\u001b[1;33m\u001b[0m\u001b[1;33m\u001b[0m\u001b[0m\n\u001b[0m\u001b[0;32m     18\u001b[0m \u001b[0mprint\u001b[0m\u001b[1;33m(\u001b[0m\u001b[0mcur\u001b[0m\u001b[1;33m.\u001b[0m\u001b[0mshape\u001b[0m\u001b[1;33m)\u001b[0m\u001b[1;33m\u001b[0m\u001b[1;33m\u001b[0m\u001b[0m\n\u001b[0;32m     19\u001b[0m \u001b[0mparenclitics\u001b[0m\u001b[1;33m.\u001b[0m\u001b[0miloc\u001b[0m\u001b[1;33m[\u001b[0m\u001b[0mmask\u001b[0m\u001b[1;33m]\u001b[0m \u001b[1;33m=\u001b[0m \u001b[0mcur\u001b[0m\u001b[1;33m.\u001b[0m\u001b[0mloc\u001b[0m\u001b[1;33m[\u001b[0m\u001b[0mmask\u001b[0m\u001b[1;33m]\u001b[0m\u001b[1;33m\u001b[0m\u001b[1;33m\u001b[0m\u001b[0m\n",
      "\u001b[1;32mD:\\PC\\UNN\\Science\\Gerontology\\programs\\parenclitic\\src\\load_parenclitics.py\u001b[0m in \u001b[0;36mload_parenclitics\u001b[1;34m(config, by_sample, id_thr, from_mat)\u001b[0m\n\u001b[0;32m      8\u001b[0m         \u001b[0mfname\u001b[0m \u001b[1;33m=\u001b[0m \u001b[0mconfig\u001b[0m\u001b[1;33m.\u001b[0m\u001b[0mofname\u001b[0m\u001b[1;33m(\u001b[0m\u001b[1;33m[\u001b[0m\u001b[1;34m\"parenclitic\"\u001b[0m\u001b[1;33m]\u001b[0m\u001b[1;33m,\u001b[0m \u001b[0mext\u001b[0m \u001b[1;33m=\u001b[0m \u001b[1;34m\".mat\"\u001b[0m\u001b[1;33m,\u001b[0m \u001b[0minclude_set\u001b[0m \u001b[1;33m=\u001b[0m \u001b[0mconfig\u001b[0m\u001b[1;33m.\u001b[0m\u001b[0mparams_sets\u001b[0m\u001b[1;33m[\u001b[0m\u001b[1;34m\"parenclitic\"\u001b[0m\u001b[1;33m]\u001b[0m\u001b[1;33m)\u001b[0m\u001b[1;33m\u001b[0m\u001b[1;33m\u001b[0m\u001b[0m\n\u001b[0;32m      9\u001b[0m         \u001b[0mprint\u001b[0m\u001b[1;33m(\u001b[0m\u001b[0mfname\u001b[0m\u001b[1;33m)\u001b[0m\u001b[1;33m\u001b[0m\u001b[1;33m\u001b[0m\u001b[0m\n\u001b[1;32m---> 10\u001b[1;33m         \u001b[0mdata\u001b[0m \u001b[1;33m=\u001b[0m \u001b[0mscipy\u001b[0m\u001b[1;33m.\u001b[0m\u001b[0mio\u001b[0m\u001b[1;33m.\u001b[0m\u001b[0mloadmat\u001b[0m\u001b[1;33m(\u001b[0m\u001b[0mfname\u001b[0m\u001b[1;33m)\u001b[0m\u001b[1;33m\u001b[0m\u001b[1;33m\u001b[0m\u001b[0m\n\u001b[0m\u001b[0;32m     11\u001b[0m         \u001b[0mparenclitics\u001b[0m \u001b[1;33m=\u001b[0m \u001b[0mdata\u001b[0m\u001b[1;33m[\u001b[0m\u001b[1;34m'parenclitics'\u001b[0m\u001b[1;33m]\u001b[0m\u001b[1;33m\u001b[0m\u001b[1;33m\u001b[0m\u001b[0m\n\u001b[0;32m     12\u001b[0m         \u001b[0mparenclitic_features\u001b[0m \u001b[1;33m=\u001b[0m \u001b[0mdata\u001b[0m\u001b[1;33m[\u001b[0m\u001b[1;34m'parenclitic_features'\u001b[0m\u001b[1;33m]\u001b[0m\u001b[1;33m\u001b[0m\u001b[1;33m\u001b[0m\u001b[0m\n",
      "\u001b[1;32mC:\\ProgramData\\Anaconda3\\lib\\site-packages\\scipy\\io\\matlab\\mio.py\u001b[0m in \u001b[0;36mloadmat\u001b[1;34m(file_name, mdict, appendmat, **kwargs)\u001b[0m\n\u001b[0;32m    139\u001b[0m     \"\"\"\n\u001b[0;32m    140\u001b[0m     \u001b[0mvariable_names\u001b[0m \u001b[1;33m=\u001b[0m \u001b[0mkwargs\u001b[0m\u001b[1;33m.\u001b[0m\u001b[0mpop\u001b[0m\u001b[1;33m(\u001b[0m\u001b[1;34m'variable_names'\u001b[0m\u001b[1;33m,\u001b[0m \u001b[1;32mNone\u001b[0m\u001b[1;33m)\u001b[0m\u001b[1;33m\u001b[0m\u001b[1;33m\u001b[0m\u001b[0m\n\u001b[1;32m--> 141\u001b[1;33m     \u001b[0mMR\u001b[0m\u001b[1;33m,\u001b[0m \u001b[0mfile_opened\u001b[0m \u001b[1;33m=\u001b[0m \u001b[0mmat_reader_factory\u001b[0m\u001b[1;33m(\u001b[0m\u001b[0mfile_name\u001b[0m\u001b[1;33m,\u001b[0m \u001b[0mappendmat\u001b[0m\u001b[1;33m,\u001b[0m \u001b[1;33m**\u001b[0m\u001b[0mkwargs\u001b[0m\u001b[1;33m)\u001b[0m\u001b[1;33m\u001b[0m\u001b[1;33m\u001b[0m\u001b[0m\n\u001b[0m\u001b[0;32m    142\u001b[0m     \u001b[0mmatfile_dict\u001b[0m \u001b[1;33m=\u001b[0m \u001b[0mMR\u001b[0m\u001b[1;33m.\u001b[0m\u001b[0mget_variables\u001b[0m\u001b[1;33m(\u001b[0m\u001b[0mvariable_names\u001b[0m\u001b[1;33m)\u001b[0m\u001b[1;33m\u001b[0m\u001b[1;33m\u001b[0m\u001b[0m\n\u001b[0;32m    143\u001b[0m     \u001b[1;32mif\u001b[0m \u001b[0mmdict\u001b[0m \u001b[1;32mis\u001b[0m \u001b[1;32mnot\u001b[0m \u001b[1;32mNone\u001b[0m\u001b[1;33m:\u001b[0m\u001b[1;33m\u001b[0m\u001b[1;33m\u001b[0m\u001b[0m\n",
      "\u001b[1;32mC:\\ProgramData\\Anaconda3\\lib\\site-packages\\scipy\\io\\matlab\\mio.py\u001b[0m in \u001b[0;36mmat_reader_factory\u001b[1;34m(file_name, appendmat, **kwargs)\u001b[0m\n\u001b[0;32m     62\u001b[0m \u001b[1;33m\u001b[0m\u001b[0m\n\u001b[0;32m     63\u001b[0m     \"\"\"\n\u001b[1;32m---> 64\u001b[1;33m     \u001b[0mbyte_stream\u001b[0m\u001b[1;33m,\u001b[0m \u001b[0mfile_opened\u001b[0m \u001b[1;33m=\u001b[0m \u001b[0m_open_file\u001b[0m\u001b[1;33m(\u001b[0m\u001b[0mfile_name\u001b[0m\u001b[1;33m,\u001b[0m \u001b[0mappendmat\u001b[0m\u001b[1;33m)\u001b[0m\u001b[1;33m\u001b[0m\u001b[1;33m\u001b[0m\u001b[0m\n\u001b[0m\u001b[0;32m     65\u001b[0m     \u001b[0mmjv\u001b[0m\u001b[1;33m,\u001b[0m \u001b[0mmnv\u001b[0m \u001b[1;33m=\u001b[0m \u001b[0mget_matfile_version\u001b[0m\u001b[1;33m(\u001b[0m\u001b[0mbyte_stream\u001b[0m\u001b[1;33m)\u001b[0m\u001b[1;33m\u001b[0m\u001b[1;33m\u001b[0m\u001b[0m\n\u001b[0;32m     66\u001b[0m     \u001b[1;32mif\u001b[0m \u001b[0mmjv\u001b[0m \u001b[1;33m==\u001b[0m \u001b[1;36m0\u001b[0m\u001b[1;33m:\u001b[0m\u001b[1;33m\u001b[0m\u001b[1;33m\u001b[0m\u001b[0m\n",
      "\u001b[1;32mC:\\ProgramData\\Anaconda3\\lib\\site-packages\\scipy\\io\\matlab\\mio.py\u001b[0m in \u001b[0;36m_open_file\u001b[1;34m(file_like, appendmat)\u001b[0m\n\u001b[0;32m     37\u001b[0m             \u001b[1;32mif\u001b[0m \u001b[0mappendmat\u001b[0m \u001b[1;32mand\u001b[0m \u001b[1;32mnot\u001b[0m \u001b[0mfile_like\u001b[0m\u001b[1;33m.\u001b[0m\u001b[0mendswith\u001b[0m\u001b[1;33m(\u001b[0m\u001b[1;34m'.mat'\u001b[0m\u001b[1;33m)\u001b[0m\u001b[1;33m:\u001b[0m\u001b[1;33m\u001b[0m\u001b[1;33m\u001b[0m\u001b[0m\n\u001b[0;32m     38\u001b[0m                 \u001b[0mfile_like\u001b[0m \u001b[1;33m+=\u001b[0m \u001b[1;34m'.mat'\u001b[0m\u001b[1;33m\u001b[0m\u001b[1;33m\u001b[0m\u001b[0m\n\u001b[1;32m---> 39\u001b[1;33m             \u001b[1;32mreturn\u001b[0m \u001b[0mopen\u001b[0m\u001b[1;33m(\u001b[0m\u001b[0mfile_like\u001b[0m\u001b[1;33m,\u001b[0m \u001b[1;34m'rb'\u001b[0m\u001b[1;33m)\u001b[0m\u001b[1;33m,\u001b[0m \u001b[1;32mTrue\u001b[0m\u001b[1;33m\u001b[0m\u001b[1;33m\u001b[0m\u001b[0m\n\u001b[0m\u001b[0;32m     40\u001b[0m         \u001b[1;32melse\u001b[0m\u001b[1;33m:\u001b[0m\u001b[1;33m\u001b[0m\u001b[1;33m\u001b[0m\u001b[0m\n\u001b[0;32m     41\u001b[0m             \u001b[1;32mraise\u001b[0m \u001b[0mIOError\u001b[0m\u001b[1;33m(\u001b[0m\u001b[1;34m'Reader needs file name or open file-like object'\u001b[0m\u001b[1;33m)\u001b[0m\u001b[1;33m\u001b[0m\u001b[1;33m\u001b[0m\u001b[0m\n",
      "\u001b[1;31mFileNotFoundError\u001b[0m: [Errno 2] No such file or directory: 'D:\\\\PC\\\\UNN\\\\Science\\\\Gerontology\\\\data\\\\GSE52588\\\\params\\\\num_genes_14756\\\\kde_mask_mongoloids_mask\\\\algorithm_svc\\\\parenclitics\\\\parenclitic.mat'"
     ]
    }
   ],
   "source": [
    "from load_parenclitics import load_parenclitics\n",
    "from transform_data import parenclitic_feature_names\n",
    "\n",
    "config.params[\"kde_mask\"].value = \"mothers_mask\"\n",
    "mask = config.params[config.params[\"kde_mask\"].value].value\n",
    "parenclitics = load_parenclitics(config, by_sample = True, id_thr = 5, from_mat = True)\n",
    "print(parenclitics.shape)\n",
    "\n",
    "config.params[\"kde_mask\"].value = \"siblings_mask\"\n",
    "mask = config.params[config.params[\"kde_mask\"].value].value\n",
    "cur = load_parenclitics(config, by_sample = True, id_thr = 5, from_mat = True)\n",
    "print(cur.shape)\n",
    "parenclitics.iloc[mask] = cur.loc[mask]\n",
    "\n",
    "config.params[\"kde_mask\"].value = \"mongoloids_mask\"\n",
    "mask = config.params[config.params[\"kde_mask\"].value].value\n",
    "cur = load_parenclitics(config, by_sample = True, id_thr = 5, from_mat = True)\n",
    "print(cur.shape)\n",
    "parenclitics.iloc[mask] = cur.loc[mask]\n",
    "\n",
    "print(parenclitics.shape)"
   ]
  },
  {
   "cell_type": "code",
   "execution_count": 71,
   "metadata": {},
   "outputs": [
    {
     "name": "stdout",
     "output_type": "stream",
     "text": [
      "(116, 45)\n"
     ]
    }
   ],
   "source": [
    "try:\n",
    "    parenclitics_rg\n",
    "except:\n",
    "    parenclitics_rg = None\n",
    "    \n",
    "if not parenclitics_rg is None:\n",
    "    cur = parenclitics_rg.loc[0:28] # ShiT! This indexing give closed range 0..28\n",
    "    parenclitics = parenclitics.append(cur, ignore_index = True, sort=False)\n",
    "print(parenclitics.shape)"
   ]
  },
  {
   "cell_type": "code",
   "execution_count": 6,
   "metadata": {},
   "outputs": [
    {
     "name": "stdout",
     "output_type": "stream",
     "text": [
      "['betweenness' 'pagerank' 'closeness' 'eigenvector_centrality' 'degrees'] 5\n"
     ]
    }
   ],
   "source": [
    "is_lists = True\n",
    "numerics = ['int16', 'int32', 'int64', 'float16', 'float32', 'float64']\n",
    "if is_lists:\n",
    "    parenclitics = parenclitics.select_dtypes(exclude=numerics) # includ exclude\n",
    "    parenclitics = parenclitics.drop(columns = [\"weights\", \"component_sizes\", \"id_components\"]) #   \"weights\" \n",
    "    #parenclitics = parenclitics.drop(columns = [\"eigenvalues_intervals_normalized\", \"eigenvalues_intervals\", \"IPR\", \"weights\", \"eigenvalues\"])\n",
    "else:\n",
    "    parenclitics = parenclitics.select_dtypes(include=numerics) # includ exclude\n",
    "    #parenclitics = parenclitics.drop(columns = [\"mean_pagerank\", \"max_degrees\", \"max_closeness\"])\n",
    "    parenclitics = parenclitics.drop(columns = [\"min_weights\", \"max_weights\", \"mean_weights\", \"std_weights\", \"zeros_weights\"])\n",
    "#print parenclitics\n",
    "#parenclitics = parenclitics[:29]\n",
    "\n",
    "#parenclitics = parenclitics.drop(columns = [\"std_weights\", \"max_weights\", \"mean_weights\", \"mean_pagerank\", \"mean_closeness\", \"max_closeness\"])\n",
    "\n",
    "\n",
    "#\n",
    "print (parenclitics.columns.values, len(parenclitics.columns.values))\n",
    "parenclitic_names = parenclitic_feature_names()\n",
    "parenclitic_names = [parenclitic_names[name] for name in parenclitics.columns.values]\n",
    "#ids = [0,7,11,15,16,17,18]\n",
    "#parenclitic_names = np.delete(np.array(parenclitic_names), ids)\n",
    "\n",
    "#parenclitics = parenclitics.drop(columns = parenclitics.columns[ids])\n",
    "\n",
    "parenclitics.columns = range(len(parenclitics.columns))"
   ]
  },
  {
   "cell_type": "code",
   "execution_count": 6,
   "metadata": {
    "scrolled": true
   },
   "outputs": [],
   "source": [
    "groups = [\"mongoloids_mask\", \"siblings_mask\", \"mothers_mask\"]\n",
    "group_masks = [0] * 3\n",
    "for j, group_name in enumerate(groups):\n",
    "    group_masks[j] = config.params[group_name].value\n"
   ]
  },
  {
   "cell_type": "code",
   "execution_count": 11,
   "metadata": {},
   "outputs": [],
   "source": [
    "import pandas as pd\n",
    "#\"../../../data/Down_phenotype/DOWN_FENOTIPO_No4,8,12_PerCorrelazioni.tsv\"\n",
    "phenotype_df = pd.read_csv(config.ifname(\"down_phenotypes_table\"), delimiter = '\\t')"
   ]
  },
  {
   "cell_type": "code",
   "execution_count": 17,
   "metadata": {},
   "outputs": [
    {
     "name": "stdout",
     "output_type": "stream",
     "text": [
      "(29, 125)\n"
     ]
    }
   ],
   "source": [
    "print phenotype_df.shape\n",
    "mask = (phenotype_df.isnull().sum() == 0)\n",
    "phenotype_df_good = phenotype_df[mask.index[mask]]\n",
    "#print phenotype_df_good\n",
    "\n",
    "from sklearn.impute import SimpleImputer\n",
    "df = pd.DataFrame(phenotype_df)\n",
    "imp = SimpleImputer(missing_values=np.nan, strategy='median')\n",
    "imp.fit(df)\n",
    "phenotype_df_imputed = pd.DataFrame(imp.transform(df))\n",
    "phenotype_df_imputed.columns = phenotype_df.columns"
   ]
  },
  {
   "cell_type": "code",
   "execution_count": 5,
   "metadata": {
    "scrolled": false
   },
   "outputs": [
    {
     "data": {
      "text/plain": [
       "'\\nfor feature_name in feature_names:\\n    plt.figure()\\n    plt.scatter(df_pca[\"pca_0\"], df_pca[\"pca_4\"], c = phenotype_df[feature_name], cmap= \\'jet\\')\\n'"
      ]
     },
     "execution_count": 5,
     "metadata": {},
     "output_type": "execute_result"
    }
   ],
   "source": [
    "from sklearn.decomposition import PCA\n",
    "\n",
    "df = pd.DataFrame(phenotype_df)\n",
    "df = df.drop(['codicePID'], axis=1)\n",
    "\n",
    "from sklearn.impute import SimpleImputer\n",
    "imp = SimpleImputer(missing_values=np.nan, strategy='median')\n",
    "imp.fit(df)\n",
    "\n",
    "'''\n",
    "df = pd.DataFrame(parenclitics)\n",
    "#print df\n",
    "\n",
    "df = (df - df.mean()) / df.std()\n",
    "num_components = 10\n",
    "pca = PCA(n_components=num_components, svd_solver='full')\n",
    "pca.fit(df)\n",
    "\n",
    "columns = ['pca_%i' % i for i in range(num_components)]\n",
    "df_pca = pd.DataFrame(pca.transform(df), columns=columns, index=df.index)\n",
    "df_pca\n",
    "'''\n",
    "\n",
    "feature_names = [\"categoriaDSQIID\", \"fluenzaverbale\",\"ABCiperattivita\", \"ABCIrritabilita\", \"ABCletargia\", \"ABCstereotipie\", \"ABCinappropriatespeech\", \"fluenzafonemica\", \"F.A.B.\"]\n",
    "'''\n",
    "for feature_name in feature_names:\n",
    "    plt.figure()\n",
    "    plt.scatter(df_pca[\"pca_0\"], df_pca[\"pca_4\"], c = phenotype_df[feature_name], cmap= 'jet')\n",
    "'''"
   ]
  },
  {
   "cell_type": "code",
   "execution_count": null,
   "metadata": {
    "collapsed": true
   },
   "outputs": [],
   "source": []
  },
  {
   "cell_type": "code",
   "execution_count": 40,
   "metadata": {
    "scrolled": false
   },
   "outputs": [
    {
     "name": "stdout",
     "output_type": "stream",
     "text": [
      "categoriaDSQIID\n",
      "[ 0  0  0  0  1  0  0  0  0  0  0  0  0  0  1  0  0  1  0  1  0  1  0  0  1  0  0  0  0] good\n",
      "[ 1  1  0  1  1  0  0  0  0  1  1  0  0  1  1  1  0  1  0  1  0  1  1  1  1  0  0  0  1] 0.49 0.79 0.66 SVC\n",
      "[ 0  0  0  0  0  0  0  0  0  0  0  0  0  0  0  0  0  0  0  0  0  0  0  0  0  0  0  0  0] 0.80 0.79 0.79 KNeighborsClassifier\n",
      "[ 1  1  0  1  1  0  0  0  0  0  1  0  0  1  1  1  0  1  0  1  0  1  1  0  1  0  0  0  0] 0.63 0.79 0.76 LinearSVC\n",
      "[ 0  0  0  0  0  0  0  0  0  0  0  0  0  0  1  0  0  1  0  0  0  1  0  0  1  0  0  0  0] 0.76 0.79 0.93 RandomForestClassifier\n",
      "fluenzaverbale\n",
      "[ 0  1  1  0  1  1  0  0  0  1  0  1  1  2  0  0  1  0  2  0  0  0  0  0  2] good\n",
      "[ 2  1  1  0  0  1  0  0  0  1  2  2  1  2  0  0  1  2  2  1  0  0  0  0  2] 0.37 0.56 0.76 SVC\n",
      "[ 0  1  1  0  0  0  0  0  0  0  0  1  0  0  0  0  1  0  0  0  0  0  0  0  1] 0.50 0.56 0.72 KNeighborsClassifier\n",
      "[ 0  1  1  0  0  1  1  0  0  1  0  0  1  2  0  0  1  2  2  1  0  0  0  0  2] 0.30 0.56 0.80 LinearSVC\n",
      "[ 0  1  1  0  1  1  0  0  0  1  0  0  1  2  0  0  1  0  2  0  0  0  0  0  2] 0.45 0.56 0.96 RandomForestClassifier\n",
      "ABCiperattivita\n",
      "[ 5  0 12  1  0  0  3  2  9  1  0  3 43  2  2  2  0  2  0  0  1  1  0  0  2  0  0  2] good\n",
      "[ 5  2 12  0  5  0  3  0  9  1  1  3 43  2  2  2  0  1  0  0  2  5  1  2  2 43  0  2] 0.34 0.39 0.61 SVC\n",
      "[ 0  0  2  0  0  0  0  0  3  1  0  2  0  2  2  2  0  1  0  0  1  0  0  0  2  0  0  2] 0.54 0.39 0.64 KNeighborsClassifier\n",
      "[ 5  0 12  0  5  0  3  2  9  1  0  3 43  2  2  2  0  2  0  0  1  0  0  0  2  0  0  2] 0.34 0.39 0.89 LinearSVC\n",
      "[ 5  0  2  1  0  0  3  2  9  1  0  3 43  2  2  2  2  2  0  0  2  1  0  0  2  0  0  2] 0.40 0.39 0.89 RandomForestClassifier\n",
      "ABCIrritabilita\n",
      "[ 0  1  5  2  0  0  0  3  0  0  0  1  8 16  0  0  0  0  0  1  6  3  4  0  0  0  0  3] good\n",
      "[ 4  1  5  2  3  2  0  3  0  0  4  1  8 16 16  1  0  0  2  2  6  4  4  0  0  8  2 16] 0.13 0.57 0.57 SVC\n",
      "[ 0  0  3  0  0  0  0  0  0  0  0  0  0  3  0  0  0  0  0  1  0  3  3  0  0  0  0  0] 0.61 0.57 0.64 KNeighborsClassifier\n",
      "[ 0  1  5  2  0  0  0  3  0  0  0  0  8 16  1  0  0  0  0  2  6  3  4  0  0  0  1  3] 0.21 0.57 0.86 LinearSVC\n",
      "[ 3  1  5  0  0  0  0  3  0  0  0  1  0 16  1  0  0  0  0  0  6  3  4  0  0  0  0  3] 0.54 0.57 0.82 RandomForestClassifier\n",
      "ABCletargia\n",
      "[17  5  0  9 27  0  2  2 10 17  6 13  0  2 14  1  6 13  0 16  0 13  0  2  0  3  1  3] good\n",
      "[27  5  0  9 27  9  0  0 10  0 13  1  0 14 14  1  6 13  9 16 14  0 13  1  0  3  9 14] 0.01 0.25 0.46 SVC\n",
      "[17  5  0  1 17  0  2  0 10 13  0  1  0  2  3  1  2 13  0  9  0  0  0  1  0  0  1  3] 0.11 0.25 0.57 KNeighborsClassifier\n",
      "[17  5  0  9 27  9  2  2 10 17  6 13  0  5 14  1  6 13  0 16  0 13 13  2  0  3  1  3] 0.04 0.25 0.89 LinearSVC\n",
      "[17  5  0  0  2  0  2  2 10 13  0 13  0  2 14  1  6 13  0 16  0 13  0  2  0  0  0  3] 0.16 0.25 0.79 RandomForestClassifier\n",
      "ABCstereotipie\n",
      "[10  0  2  3 11  0  8  0  2  8  4  0  4  2  0  2  0  3  0  5  6  9  3  0  0  0  0  1] good\n",
      "[10  0  2  3 11  0  8  0  2  8  3  0  4  1  1  0  0  8  0  5  6  9  9  0  0  4  0  1] 0.13 0.39 0.75 SVC\n",
      "[10  0  1  0 10  0  0  0  0  3  3  0  0  1  0  0  0  3  0  3  0  3  3  0  0  0  0  0] 0.31 0.39 0.50 KNeighborsClassifier\n",
      "[10  0  2  3 11  0  8  0  2  8  4  0  4  2  0  2  0  3  0  5  6  9  3  0  0  4  0  1] 0.26 0.39 0.96 LinearSVC\n",
      "[10  0  2  3 11  0  8  0  2  8  4  0  4  2  0  2  0  3  0  5  0  9  3  0  0  0  0  1] 0.26 0.39 0.96 RandomForestClassifier\n",
      "ABCinappropriatespeech\n",
      "[ 2  4  2  3  6  0  2  2  4  5  4  3  9  5  0  2  7  3  5  0  3  3  5  1  1  3  4  6] good\n",
      "[ 6  4  2  0  6  5  2  2  1  5  4  1  9  6  5  1  7  5  5  4  1  6  5  1  1  9  4  6] 0.03 0.21 0.54 SVC\n",
      "[ 2  0  2  3  2  0  1  0  3  3  4  2  3  5  0  2  2  3  0  0  0  3  3  1  1  3  3  0] 0.00 0.21 0.50 KNeighborsClassifier\n",
      "[ 6  4  2  0  6  0  2  2  4  5  4  4  9  5  0  2  7  3  5  0  3  6  0  1  1  3  4  6] 0.02 0.21 0.82 LinearSVC\n",
      "[ 2  4  2  3  6  0  2  2  4  5  4  3  9  3  0  2  7  3  0  0  3  3  5  1  1  3  0  3] 0.04 0.21 0.86 RandomForestClassifier\n",
      "fluenzafonemica\n",
      "[ 0  9  3  8  3 19  9  6  0  5  7  2  9  0  0 14  0  8  0  7  3 20  0  6  9  0  6 20] good\n",
      "[ 3  0  3  8  3 19  9 19  2  5  0  2  3 20  2 14  5  8  0  7 20 20  0  2  2  0  8 20] 0.02 0.29 0.54 SVC\n",
      "[ 0  0  3  6  0  8  6  6  0  0  7  0  0  0  0  6  0  8  0  0  3  3  0  0  2  0  6  0] 0.20 0.29 0.50 KNeighborsClassifier\n",
      "[ 3  9  3  8  3 19  9  6  0  5  7  2  9 20  2 14  0  8  0  7  3 20  7  6  9  0  6 20] 0.03 0.29 0.86 LinearSVC\n",
      "[ 3  9  3  8  3 19  9  6  0  0  7  2  9 20  0  6  0  6  0  7  3 20  0  6  7  0  6 20] 0.25 0.29 0.79 RandomForestClassifier\n",
      "F.A.B.\n"
     ]
    }
   ],
   "source": [
    "from sklearn import svm, datasets\n",
    "from scipy import stats\n",
    "from sklearn import neighbors, ensemble\n",
    "from sklearn.model_selection import cross_val_score\n",
    "\n",
    "data = parenclitics\n",
    "data = data[:29].values\n",
    "data = stats.zscore(data)\n",
    "data = data[:, ~np.all(np.isnan(data), axis=0)]\n",
    "\n",
    "import warnings\n",
    "warnings.filterwarnings(\"ignore\")\n",
    "\n",
    "np.set_printoptions(linewidth=100, formatter={'int':lambda x: \"{:2d}\".format(x), 'float':lambda x: \"{:.2f}\".format(x)})\n",
    "feature_names = [\"categoriaDSQIID\", \"fluenzaverbale\",\"ABCiperattivita\", \"ABCIrritabilita\", \"ABCletargia\", \"ABCstereotipie\", \"ABCinappropriatespeech\", \"fluenzafonemica\", \"F.A.B.\"]\n",
    "for feature_name in feature_names:\n",
    "    print (feature_name)\n",
    "    feature = (phenotype_df[feature_name].values)\n",
    "    mask = ~np.isnan(feature)\n",
    "    cur = data[mask]\n",
    "    feature = feature[mask].astype('int')\n",
    "    if (feature == 0).sum() < 3:\n",
    "        continue\n",
    "    #feature = (feature > np.median(feature)).astype('int')\n",
    "    \n",
    "    #print np.nan_to_num(phenotype_df[feature_name].values, -1).astype('int'), 'source'\n",
    "    print (feature, 'good')\n",
    "    clfs = [svm.SVC(kernel = 'rbf', C = 1, class_weight = \"balanced\"), \n",
    "            neighbors.KNeighborsClassifier(n_neighbors = 2),\n",
    "            svm.LinearSVC(C = 1, class_weight = \"balanced\"),\n",
    "            ensemble.RandomForestClassifier(n_estimators = 4)]\n",
    "\n",
    "    for clf in clfs:\n",
    "        score = cross_val_score(clf, cur, feature, cv=5).mean()\n",
    "        clf.fit(cur, feature)\n",
    "        predicted = clf.predict(cur)\n",
    "        score2 = clf.score(cur, feature)\n",
    "        val = float(np.bincount(feature).max()) / len(feature)\n",
    "        print (predicted, \"{:.2f}\".format(score), \"{:.2f}\".format(val), \"{:.2f}\".format(score2), type(clf).__name__)"
   ]
  },
  {
   "cell_type": "code",
   "execution_count": 24,
   "metadata": {},
   "outputs": [
    {
     "data": {
      "text/plain": [
       "'D:\\\\PC\\\\UNN\\\\Science\\\\Gerontology\\\\data\\\\GSE52588\\\\params\\\\num_genes_14756\\\\kde_mask_mongoloids_mask\\\\algorithm_kde\\\\thr_p_0.88\\\\parenclitic_pairs_full_inside_all.pdf'"
      ]
     },
     "execution_count": 24,
     "metadata": {},
     "output_type": "execute_result"
    }
   ],
   "source": [
    "config.ofname([[\"parenclitic_pairs_full_inside_all\"]], ext = \".pdf\", \n",
    "                                     include_set = config.params_sets[\"parenclitic_boxplots\"])"
   ]
  },
  {
   "cell_type": "code",
   "execution_count": 81,
   "metadata": {},
   "outputs": [
    {
     "data": {
      "text/plain": [
       "'Eigenvector centrality'"
      ]
     },
     "execution_count": 81,
     "metadata": {},
     "output_type": "execute_result"
    }
   ],
   "source": [
    "parenclitic_names[3]"
   ]
  },
  {
   "cell_type": "code",
   "execution_count": 8,
   "metadata": {},
   "outputs": [
    {
     "name": "stdout",
     "output_type": "stream",
     "text": [
      "D:\\PC\\UNN\\Science\\Gerontology\\data\\GSE52588\\params\\num_cpgs_114674\\kde_mask_nonhealthy_mask\\algorithm_pdf\\thr_type_best\\division_rule_non_control\\parenclitic_pairs_all_.pdf\n",
      "Betweenness Pagerank\n",
      "(9976638,)\n",
      "Betweenness Closeness\n",
      "(9976638,)\n",
      "Betweenness Eigenvector centrality\n",
      "(9976638,)\n",
      "Betweenness Degrees\n",
      "(9976638,)\n",
      "Pagerank Betweenness\n",
      "(9976638,)\n",
      "Pagerank Closeness\n",
      "(9976638,)\n",
      "Pagerank Eigenvector centrality\n",
      "(9976638,)\n",
      "Pagerank Degrees\n",
      "(9976638,)\n",
      "Closeness Betweenness\n",
      "(9976638,)\n",
      "Closeness Pagerank\n",
      "(9976638,)\n",
      "Closeness Eigenvector centrality\n",
      "(9976638,)\n",
      "Closeness Degrees\n",
      "(9976638,)\n",
      "Eigenvector centrality Betweenness\n",
      "(9976638,)\n",
      "Eigenvector centrality Pagerank\n",
      "(9976638,)\n",
      "Eigenvector centrality Closeness\n",
      "(9976638,)\n",
      "Eigenvector centrality Degrees\n",
      "(9976638,)\n",
      "Degrees Betweenness\n",
      "(9976638,)\n",
      "Degrees Pagerank\n",
      "(9976638,)\n",
      "Degrees Closeness\n",
      "(9976638,)\n",
      "Degrees Eigenvector centrality\n",
      "(9976638,)\n"
     ]
    }
   ],
   "source": [
    "def plot_hist_2d(ax, x, y, bins, c, **kwargs):\n",
    "    h = ax.hist2d(x, y, bins = bins, cmap = 'jet', norm = matplotlib.colors.LogNorm(), **kwargs)\n",
    "    plt.colorbar(h[3], ax = ax)\n",
    "\n",
    "def plot_line(ax, x, y, **kwargs):\n",
    "    ids = np.argsort(x)\n",
    "    x, y = x[ids], y[ids]\n",
    "    ax.plot(x, y, **kwargs)\n",
    "    \n",
    "def remove_zeros(x, y):\n",
    "    eps = 1e-7\n",
    "    mask = (x > eps) & (y > eps)\n",
    "    return x[mask], y[mask]\n",
    "\n",
    "def get_interval(x, y, A, B):\n",
    "    mask = (x < A) & (y > B)\n",
    "    return x[mask], y[mask]\n",
    "\n",
    "def plot_2_2(u, v, u1, v1, u2, v2, u3, v3, u4, v4, parenclitic_names, id1_parenclitic, id2_parenclitic):\n",
    "    fig, axes = plt.subplots(2, 2, sharey = True, sharex = True, figsize = (13, 11))\n",
    "    '''\n",
    "    for i in range(29):\n",
    "        x = np.reshape(np.array(parenclitics[id1_parenclitic][i]), -1)\n",
    "        y = np.reshape(np.array(parenclitics[id2_parenclitic][i]), -1)\n",
    "        plot_line(axes[0, 0], x, y)\n",
    "\n",
    "        x = np.reshape(np.array(parenclitics[id1_parenclitic][i + 29 * 3]), -1)\n",
    "        y = np.reshape(np.array(parenclitics[id2_parenclitic][i + 29 * 3]), -1)\n",
    "        plot_line(axes[0, 1], x, y)\n",
    "\n",
    "        x = np.reshape(np.array(parenclitics[id1_parenclitic][i + 29 * 1]), -1)\n",
    "        y = np.reshape(np.array(parenclitics[id2_parenclitic][i + 29 * 1]), -1)\n",
    "        plot_line(axes[1, 0], x, y)\n",
    "\n",
    "        x = np.reshape(np.array(parenclitics[id1_parenclitic][i + 29 * 2]), -1)\n",
    "        y = np.reshape(np.array(parenclitics[id2_parenclitic][i + 29 * 2]), -1)\n",
    "        plot_line(axes[1, 1], x, y)\n",
    "\n",
    "    colors = ['red', 'green', 'blue', 'magenta']\n",
    "    for i in range(4):\n",
    "        x = np.array(parenclitics[id1_parenclitic][29 * i:29 * i + 29].values.tolist()).mean(axis = 0)\n",
    "        y = np.array(parenclitics[id2_parenclitic][29 * i:29 * i + 29].values.tolist()).mean(axis = 0)\n",
    "        plot_line(axes[0, 1], x, y, c = colors[i], linewidth = 3)\n",
    "    '''\n",
    "    nbins = 300\n",
    "    if is_log:\n",
    "        bins = [np.geomspace(u.min(), u.max(), nbins), np.geomspace(v.min(), v.max(), nbins)]\n",
    "    else:\n",
    "        bins = [np.linspace(u.min(), u.max(), nbins), np.linspace(v.min(), v.max(), nbins)]\n",
    "\n",
    "    '''\n",
    "    plot_hist_2d(axes[0,0], u2, v2, bins, c = 'red')\n",
    "    plot_hist_2d(axes[0,1], u4, v4, bins, c = 'magenta')\n",
    "    plot_hist_2d(axes[1,0], u1, v1, bins, c = 'green')\n",
    "    plot_hist_2d(axes[1,1], u3, v3, bins, c = 'blue')\n",
    "    '''\n",
    "\n",
    "    # Scatter points\n",
    "    axes[0,0].scatter(u2, v2, c = 'red', rasterized = True, alpha = 0.7)\n",
    "    axes[0,1].scatter(u4, v4, c = 'magenta', rasterized = True, alpha = 0.7)\n",
    "    axes[1,0].scatter(u1, v1, c = 'green', rasterized = True, alpha = 0.7)\n",
    "    axes[1,1].scatter(u3, v3, c = 'blue', rasterized = True, alpha = 0.7)\n",
    "\n",
    "\n",
    "    #plt.scatter(u, v, c = np.reshape(feature, -1), \n",
    "    #            cmap = plt.get_cmap('jet', feature.max() - feature.min() + 1))\n",
    "    axes[1, 0].set_xlabel(parenclitic_names[id1_parenclitic].capitalize(), fontsize = fontsize)\n",
    "    axes[1, 0].set_ylabel(parenclitic_names[id2_parenclitic].capitalize(), fontsize = fontsize)\n",
    "\n",
    "    #plt.subplots_adjust(bottom=0.2, top=0.8, left=0.25, right=0.95, wspace = 0.2)\n",
    "    plt.subplots_adjust(bottom=0.1, top=0.9, left=0.1, right=0.95, wspace = 0.05)\n",
    "\n",
    "    plt.setp(axes[0, 1].get_yticklabels(), visible=False)\n",
    "    plt.setp(axes[1, 1].get_yticklabels(), visible=False)\n",
    "\n",
    "    '''\n",
    "    axes[0, 0].set_title('DS')\n",
    "    axes[0, 1].set_title('Random graph')\n",
    "    axes[1, 0].set_title('Sibs')\n",
    "    axes[1, 1].set_title('Moms')\n",
    "    '''\n",
    "\n",
    "    axes[0,0].legend(['DS'], framealpha=0.9, fontsize=20, #bbox_to_anchor=(0., 1.02, 1., .102), \n",
    "       bbox_to_anchor=(0,1.02,1,0.2), loc=\"lower left\",\n",
    "       ncol=3, mode=\"expand\", borderaxespad=0., handletextpad=0.2, scatterpoints=3, columnspacing = 2)\n",
    "    axes[0,1].legend(['Random graph'], framealpha=0.9, fontsize=20, #bbox_to_anchor=(0., 1.02, 1., .102), \n",
    "       bbox_to_anchor=(0,1.02,1,0.2), loc=\"lower left\",\n",
    "       ncol=3, mode=\"expand\", borderaxespad=0., handletextpad=0.2, scatterpoints=3, columnspacing = 2)\n",
    "    axes[1,0].legend(['Sibs'], framealpha=0.9, fontsize=20, #bbox_to_anchor=(0., 1.02, 1., .102), \n",
    "       bbox_to_anchor=(0,1.02,1,0.2), loc=\"lower left\",\n",
    "       ncol=3, mode=\"expand\", borderaxespad=0., handletextpad=0.2, scatterpoints=3, columnspacing = 2)\n",
    "    axes[1,1].legend(['Moms'], framealpha=0.9, fontsize=20, #bbox_to_anchor=(0., 1.02, 1., .102), \n",
    "       bbox_to_anchor=(0,1.02,1,0.2), loc=\"lower left\",\n",
    "       ncol=3, mode=\"expand\", borderaxespad=0., handletextpad=0.2, scatterpoints=3, columnspacing = 2)\n",
    "\n",
    "\n",
    "    if is_log:\n",
    "        for ax in axes.flat:\n",
    "            ax.set_xscale(\"log\")\n",
    "            ax.set_yscale(\"log\")\n",
    "        delta = (np.log(u.max()) - np.log(u.min())) * 0.05\n",
    "        plt.xlim(np.exp(np.log(u.min()) - delta), np.exp(np.log(u.max()) + delta))\n",
    "\n",
    "        delta = (np.log(v.max()) - np.log(v.min())) * 0.05\n",
    "        plt.ylim(np.exp(np.log(v.min()) - delta), np.exp(np.log(v.max()) + delta))\n",
    "    else:\n",
    "        axes[0,0].ticklabel_format(scilimits = [-2, 2])\n",
    "        axes[0,1].ticklabel_format(scilimits = [-2, 2])\n",
    "        axes[1,0].ticklabel_format(scilimits = [-2, 2])\n",
    "        axes[1,1].ticklabel_format(scilimits = [-2, 2])\n",
    "        delta = (u.max() - u.min()) * 0.05\n",
    "        plt.xlim(u.min() - delta, u.max() + delta)\n",
    "\n",
    "        delta = (v.max() - v.min()) * 0.05\n",
    "        plt.ylim(v.min() - delta, v.max() + delta)    \n",
    "    return fig, axes\n",
    "\n",
    "def plot_pairs(u, v, u1, v1, u2, v2, u3, v3, u4, v4, parenclitic_names, id1_parenclitic, id2_parenclitic):\n",
    "    fig = plt.figure(figsize = (9, 7))\n",
    "    ax = plt.gca()\n",
    "    nbins = 300\n",
    "    if is_log:\n",
    "        bins = [np.geomspace(u.min(), u.max(), nbins), np.geomspace(v.min(), v.max(), nbins)]\n",
    "    else:\n",
    "        bins = [np.linspace(u.min(), u.max(), nbins), np.linspace(v.min(), v.max(), nbins)]\n",
    "    \n",
    "    ax.scatter(u2, v2, c = 'red', rasterized = True, alpha = 0.5)\n",
    "    ax.scatter(u1, v1, c = 'green', rasterized = True, alpha = 0.5)\n",
    "    ax.scatter(u3, v3, c = 'blue', rasterized = True, alpha = 0.5)\n",
    "    ax.scatter(u4, v4, c = 'magenta', rasterized = True, alpha = 0.5)\n",
    "    \n",
    "    ax.set_xlabel(parenclitic_names[id1_parenclitic].capitalize(), fontsize = fontsize)\n",
    "    ax.set_ylabel(parenclitic_names[id2_parenclitic].capitalize(), fontsize = fontsize)\n",
    "\n",
    "    plt.subplots_adjust(bottom=0.15, top=0.9, left=0.2, right=0.95, wspace = 0.05)\n",
    "\n",
    "    ax.legend(['DS', 'Sibs', 'Moms', 'Random graph'], framealpha=0.9, fontsize=20, #bbox_to_anchor=(0., 1.02, 1., .102), \n",
    "       bbox_to_anchor=(0,1.02,1,0.2), loc=\"lower left\",\n",
    "       ncol=4, mode=\"expand\", borderaxespad=0., handletextpad=0.2, scatterpoints=3, columnspacing = 1)\n",
    "    \n",
    "    if is_log:\n",
    "        ax.set_xscale(\"log\")\n",
    "        ax.set_yscale(\"log\")\n",
    "        delta = (np.log(u.max()) - np.log(u.min())) * 0.05\n",
    "        plt.xlim(np.exp(np.log(u.min()) - delta), np.exp(np.log(u.max()) + delta))\n",
    "\n",
    "        delta = (np.log(v.max()) - np.log(v.min())) * 0.05\n",
    "        plt.ylim(np.exp(np.log(v.min()) - delta), np.exp(np.log(v.max()) + delta))\n",
    "    else:\n",
    "        ax.ticklabel_format(scilimits = [-2, 2])\n",
    "        delta = (u.max() - u.min()) * 0.05\n",
    "        plt.xlim(u.min() - delta, u.max() + delta)\n",
    "\n",
    "        delta = (v.max() - v.min()) * 0.05\n",
    "        plt.ylim(v.min() - delta, v.max() + delta)    \n",
    "    return fig, ax\n",
    "\n",
    "from tqdm import tqdm\n",
    "#\"categoriaDSQIID\", \"fluenzaverbale\",\"ABCiperattivita\", \"ABCIrritabilita\", \"ABCletargia\", \"ABCstereotipie\", \"ABCinappropriatespeech\", \"fluenzafonemica\", \"F.A.B.\"\n",
    "data = parenclitics\n",
    "#data = data[:29]\n",
    "data = data.values\n",
    "#data = stats.zscore(data)\n",
    "feature_name = \"ABCinappropriatespeech\"\n",
    "df_ans = None\n",
    "is_log = False\n",
    "\n",
    "parenclitic_pairs_path = config.ofname([[\"parenclitic_pairs_all\", \"log\" if is_log else \"\"]], \n",
    "                                       ext = \".pdf\", \n",
    "                                       include_set = config.params_sets[\"parenclitic_boxplots\"])\n",
    "print(parenclitic_pairs_path)\n",
    "with PdfPages(parenclitic_pairs_path) as pdf:\n",
    "    for id1_parenclitic in range(data.shape[1]):\n",
    "        for id2_parenclitic in range(data.shape[1]):\n",
    "            '''\n",
    "            parenclitic_pairs_path = config.ofname([[\"parenclitic_pairs_hist\"], \n",
    "                                                    [\"parenclitic_pairs_all_hist\", \n",
    "                                                     parenclitic_names[id1_parenclitic], \n",
    "                                                     parenclitic_names[id2_parenclitic]]], \n",
    "                                                   ext = \".pdf\", \n",
    "                                                   include_set = config.params_sets[\"parenclitic_boxplots\"])\n",
    "            print(parenclitic_pairs_path)\n",
    "            '''\n",
    "            for id_subject in [0]: # tqdm(range(29))\n",
    "                if id1_parenclitic == id2_parenclitic: \n",
    "                    continue\n",
    "                id_parenclitic = [id1_parenclitic, id2_parenclitic]\n",
    "                print (parenclitic_names[id1_parenclitic], parenclitic_names[id2_parenclitic])\n",
    "                #cur = data[:, id_parenclitic]\n",
    "                #val = np.arctan2(cur[:, 0] - cur[0, 0], cur[:, 1] - cur[0, 1]) % np.pi\n",
    "                #print val[val != 0] #(cur[:, 0] - cur[0, 0].min()) / (cur[:, 1] - cur[:, 1].min())\n",
    "                #if np.std(val[val != 0]) < 1e-3:\n",
    "                #    continue\n",
    "\n",
    "                #cur = cur[:29]\n",
    "\n",
    "                #feature = np.reshape(y == 0, -1)\n",
    "\n",
    "                #u = np.reshape(np.array(parenclitics[id1_parenclitic][29:58]).tolist(), -1)\n",
    "                #v = np.reshape(np.array(parenclitics[id2_parenclitic][29:58]).tolist(), -1)\n",
    "                #print(u.shape, u.dtype)\n",
    "\n",
    "                #plt.figure(figsize = (7, 5))\n",
    "                #plt.figure()\n",
    "                num = 29\n",
    "                u4 = np.reshape(np.array(parenclitics[id1_parenclitic][29 * 3 + id_subject:29 * 3 + num + id_subject]).tolist(), -1)\n",
    "                v4 = np.reshape(np.array(parenclitics[id2_parenclitic][29 * 3 + id_subject:29 * 3 + num + id_subject]).tolist(), -1)\n",
    "\n",
    "                u3 = np.reshape(np.array(parenclitics[id1_parenclitic][29 * 2 + id_subject:29 * 2 + num + id_subject]).tolist(), -1)\n",
    "                v3 = np.reshape(np.array(parenclitics[id2_parenclitic][29 * 2 + id_subject:29 * 2 + num + id_subject]).tolist(), -1)\n",
    "\n",
    "                u2 = np.reshape(np.array(parenclitics[id1_parenclitic][29 * 0 + id_subject:29 * 0 + num + id_subject]).tolist(), -1)\n",
    "                v2 = np.reshape(np.array(parenclitics[id2_parenclitic][29 * 0 + id_subject:29 * 0 + num + id_subject]).tolist(), -1)\n",
    "\n",
    "                u1 = np.reshape(np.array(parenclitics[id1_parenclitic][29 * 1 + id_subject:29 * 1 + num + id_subject]).tolist(), -1)\n",
    "                v1 = np.reshape(np.array(parenclitics[id2_parenclitic][29 * 1 + id_subject:29 * 1 + num + id_subject]).tolist(), -1)\n",
    "\n",
    "                #u1, v1 = remove_zeros(u1, v1)\n",
    "                #u2, v2 = remove_zeros(u2, v2)\n",
    "                #u3, v3 = remove_zeros(u3, v3)\n",
    "                #u4, v4 = remove_zeros(u4, v4)\n",
    "\n",
    "                #u = np.concatenate([u1, u2, u3, u4])\n",
    "                #v = np.concatenate([v1, v2, v3, v4])\n",
    "\n",
    "                u = np.reshape(np.array(parenclitics[id1_parenclitic][:]).tolist(), -1)\n",
    "                v = np.reshape(np.array(parenclitics[id2_parenclitic][:]).tolist(), -1)\n",
    "                print(u.shape)\n",
    "                #u, v = remove_zeros(u, v)\n",
    "                \n",
    "\n",
    "                #if np.ptp(u) < 1e-8 or np.ptp(v) < 1e-8:\n",
    "                #    continue\n",
    "\n",
    "                colors = np.zeros_like(u)\n",
    "                colors[-len(u2)-len(u3):] = 1\n",
    "                colors[-len(u3):] = 2\n",
    "\n",
    "\n",
    "                #fig, axes = plot_2_2(u, v, u1, v1, u2, v2, u3, v3, u4, v4, parenclitic_names, id1_parenclitic, id2_parenclitic)\n",
    "                fig, ax = plot_pairs(u, v, u1, v1, u2, v2, u3, v3, u4, v4, parenclitic_names, id1_parenclitic, id2_parenclitic)\n",
    "\n",
    "                \n",
    "                #plt.title(feature_name, fontsize = fontsize)\n",
    "                #plt.colorbar()\n",
    "                pdf.savefig(dpi = 300)\n",
    "                #parenclitic_pairs_path = config.ofname([[\"parenclitic_pairs_full_inside_down\"], [parenclitic_names[id1_parenclitic], parenclitic_names[id2_parenclitic]]], ext = \".png\", \n",
    "                #                         include_set = config.params_sets[\"parenclitic_boxplots\"])\n",
    "                #plt.savefig(parenclitic_pairs_path)\n",
    "                #plt.show()\n",
    "                plt.close()\n",
    "                #sdf\n",
    "\n",
    "                continue\n",
    "\n",
    "\n",
    "                feature = (phenotype_df[feature_name].values)\n",
    "                feature = feature[:29]\n",
    "\n",
    "                mask = ~np.isnan(feature)\n",
    "                #cur = cur[mask]\n",
    "                u = u[mask]\n",
    "                v = v[mask]\n",
    "                cur = cur[mask]\n",
    "                #cur = cur.reshape(-1, 1)\n",
    "                feature = feature[mask].astype('int')\n",
    "                feature = np.minimum(feature, 12)\n",
    "                #if (feature == 0).sum() < 3:\n",
    "                #    continue\n",
    "                #feature = (feature > np.median(feature)).astype('int')\n",
    "\n",
    "                #print np.nan_to_num(phenotype_df[feature_name].values, -1).astype('int'), 'source'\n",
    "                #print feature, 'good'\n",
    "                clfs = [svm.SVC(kernel = 'rbf', C = 1, class_weight = \"balanced\"), \n",
    "                        neighbors.KNeighborsClassifier(n_neighbors = 2),\n",
    "                        svm.LinearSVC(C = 1, class_weight = \"balanced\"),\n",
    "                        ensemble.RandomForestClassifier(n_estimators = 4)]\n",
    "                df_cur = pd.DataFrame(index=[0])\n",
    "\n",
    "                #df_ans[parenclitic_names[id_parenclitic]] = parenclitics[id_parenclitic]\n",
    "                #df_ans[\"input\"] = cur\n",
    "                #df_ans[\"good\"] = feature\n",
    "                #'''\n",
    "\n",
    "                #plt.scatter(np.reshape(parenclitics[id_parenclitic], -1), np.reshape(np.zeros_like(cur), -1), c = np.reshape(feature, -1), cmap = 'jet')\n",
    "                #'''\n",
    "                df_cur['parenclitic_1'] = parenclitic_names[id1_parenclitic]\n",
    "                df_cur['parenclitic_2'] = parenclitic_names[id2_parenclitic]\n",
    "                for clf in clfs:\n",
    "                    score = cross_val_score(clf, cur, feature, cv=5, scoring = \"neg_mean_absolute_error\")\n",
    "\n",
    "                    clf.fit(cur, feature)\n",
    "                    predicted = clf.predict(cur)\n",
    "                    score2 = np.mean(np.abs(feature - np.around(predicted).astype(\"int\")))\n",
    "                    score_median = np.mean(np.abs(feature - np.median(feature)))\n",
    "                    clf_name = type(clf).__name__\n",
    "                    df_cur[clf_name + '_score_cv'] = -score.mean()\n",
    "                    df_cur[clf_name + '_score_best'] = score2\n",
    "                    #print np.around(predicted).astype(\"int\"), \"{:.2f}\".format(-score.mean()), \"{:.2f}\".format(score_median), \"{:.2f}\".format(score2), clf_name\n",
    "\n",
    "                    '''\n",
    "                    score = cross_val_score(clf, cur, feature, cv=5).mean()\n",
    "                    clf.fit(cur, feature)\n",
    "                    predicted = clf.predict(cur)\n",
    "                    score2 = clf.score(cur, feature)\n",
    "                    val = float(max((feature == 0).sum(), (feature == 1).sum())) / len(feature)\n",
    "                    clf_name = type(clf).__name__\n",
    "                    #df_ans[clf_name] = predicted\n",
    "                    print predicted, \"{:.2f}\".format(score), \"{:.2f}\".format(val), \"{:.2f}\".format(score2), clf_name\n",
    "                    '''\n",
    "                if df_ans is None:\n",
    "                    df_ans = df_cur\n",
    "                else:\n",
    "                    df_ans = df_ans.append (df_cur, ignore_index=True)\n",
    "                #plt.show()\n",
    "                pd.set_option('display.width', 100)\n",
    "                #print df_ans\n",
    "            #break"
   ]
  },
  {
   "cell_type": "code",
   "execution_count": 22,
   "metadata": {},
   "outputs": [
    {
     "data": {
      "text/plain": [
       "5"
      ]
     },
     "execution_count": 22,
     "metadata": {},
     "output_type": "execute_result"
    }
   ],
   "source": [
    "data.shape[1]"
   ]
  },
  {
   "cell_type": "code",
   "execution_count": 17,
   "metadata": {},
   "outputs": [
    {
     "name": "stdout",
     "output_type": "stream",
     "text": [
      "0.00010349824052991099 91879242.73962077\n"
     ]
    }
   ],
   "source": [
    "print(u.min(), u.max())\n",
    "#bins = np.linspace(u.min, u.max(), nbins)"
   ]
  },
  {
   "cell_type": "code",
   "execution_count": 173,
   "metadata": {},
   "outputs": [
    {
     "name": "stdout",
     "output_type": "stream",
     "text": [
      "(116, 5)\n",
      "[ 0  1  2  3  4  5  6  7  8  9 10 11 12 13 14 15 16 17 18 19 20 21 22 23\n",
      " 24 25 26 27 28]\n",
      "[29 30 31 32 33 34 35 36 37 38 39 40 41 42 43 44 45 46 47 48 49 50 51 52\n",
      " 53 54 55 56 57]\n",
      "[58 59 60 61 62 63 64 65 66 67 68 69 70 71 72 73 74 75 76 77 78 79 80 81\n",
      " 82 83 84 85 86]\n"
     ]
    },
    {
     "data": {
      "text/plain": [
       "(array([4., 4., 3., 3., 4., 3., 3., 0., 3., 2.]),\n",
       " array([1049. , 1594.6, 2140.2, 2685.8, 3231.4, 3777. , 4322.6, 4868.2,\n",
       "        5413.8, 5959.4, 6505. ]),\n",
       " <a list of 1 Patch objects>)"
      ]
     },
     "execution_count": 173,
     "metadata": {},
     "output_type": "execute_result"
    },
    {
     "data": {
      "image/png": "[encoded data removed]",
      "text/plain": [
       "<Figure size 432x288 with 1 Axes>"
      ]
     },
     "metadata": {
      "needs_background": "light"
     },
     "output_type": "display_data"
    }
   ],
   "source": [
    "def get_interval(x, y, A, B):\n",
    "    mask = (x < A) & (y > B)\n",
    "    return x[mask], y[mask]\n",
    "\n",
    "print(parenclitics.shape)\n",
    "data = []\n",
    "for cur_mask in group_masks:\n",
    "    print(cur_mask)\n",
    "    u = parenclitics[1][cur_mask].values\n",
    "    v = parenclitics[3][cur_mask].values\n",
    "    A = 2e-5\n",
    "    B = 5e-5\n",
    "    for i in range(len(u)):\n",
    "        x, y = u[i], v[i]\n",
    "        #print(len(x))\n",
    "        #print(x.ptp())\n",
    "        x, y = get_interval(x, y, A, B)\n",
    "        #print(len(x))\n",
    "        #plt.figure()\n",
    "        #print(x.min(), x.max(), x.ptp())\n",
    "        #plt.hist(y, bins = 100)\n",
    "        data.append(len(x))\n",
    "\n",
    "#print(data)\n",
    "data = np.array(data)\n",
    "plt.hist(data[:29], color = 'r', histtype = 'step')\n",
    "plt.hist(data[29:29 * 2], color = 'g', histtype = 'step')\n",
    "plt.hist(data[29 * 2:29 * 3], color = 'b', histtype = 'step')"
   ]
  },
  {
   "cell_type": "code",
   "execution_count": 145,
   "metadata": {},
   "outputs": [
    {
     "name": "stdout",
     "output_type": "stream",
     "text": [
      "\n"
     ]
    },
    {
     "data": {
      "image/png": "[encoded data removed]",
      "text/plain": [
       "<Figure size 432x288 with 1 Axes>"
      ]
     },
     "metadata": {
      "needs_background": "light"
     },
     "output_type": "display_data"
    }
   ],
   "source": [
    "u = parenclitics[1][cur_mask].values\n",
    "v = parenclitics[3][cur_mask].values\n",
    "x, y = get_interval(x, y, A, B)\n",
    "plt.hist(v, 100)\n",
    "print('')"
   ]
  },
  {
   "cell_type": "markdown",
   "metadata": {},
   "source": [
    "# --------------------------------------------------------------------------------------------------------------"
   ]
  },
  {
   "cell_type": "code",
   "execution_count": 7,
   "metadata": {},
   "outputs": [
    {
     "name": "stdout",
     "output_type": "stream",
     "text": [
      "Betweenness Pagerank\n"
     ]
    },
    {
     "ename": "NameError",
     "evalue": "name 'feature' is not defined",
     "output_type": "error",
     "traceback": [
      "\u001b[1;31m---------------------------------------------------------------------------\u001b[0m",
      "\u001b[1;31mNameError\u001b[0m                                 Traceback (most recent call last)",
      "\u001b[1;32m<ipython-input-7-1f2dbad98851>\u001b[0m in \u001b[0;36m<module>\u001b[1;34m\u001b[0m\n\u001b[0;32m     35\u001b[0m         \u001b[0mplt\u001b[0m\u001b[1;33m.\u001b[0m\u001b[0mfigure\u001b[0m\u001b[1;33m(\u001b[0m\u001b[1;33m)\u001b[0m\u001b[1;33m\u001b[0m\u001b[1;33m\u001b[0m\u001b[0m\n\u001b[0;32m     36\u001b[0m \u001b[1;33m\u001b[0m\u001b[0m\n\u001b[1;32m---> 37\u001b[1;33m         \u001b[0mmask\u001b[0m \u001b[1;33m=\u001b[0m \u001b[1;33m~\u001b[0m\u001b[0mnp\u001b[0m\u001b[1;33m.\u001b[0m\u001b[0misnan\u001b[0m\u001b[1;33m(\u001b[0m\u001b[0mfeature\u001b[0m\u001b[1;33m)\u001b[0m\u001b[1;33m\u001b[0m\u001b[1;33m\u001b[0m\u001b[0m\n\u001b[0m\u001b[0;32m     38\u001b[0m \u001b[1;33m\u001b[0m\u001b[0m\n\u001b[0;32m     39\u001b[0m         \u001b[0mnum\u001b[0m \u001b[1;33m=\u001b[0m \u001b[0mlen\u001b[0m\u001b[1;33m(\u001b[0m\u001b[0mparenclitics\u001b[0m\u001b[1;33m[\u001b[0m\u001b[0mid1_parenclitic\u001b[0m\u001b[1;33m]\u001b[0m\u001b[1;33m[\u001b[0m\u001b[1;36m0\u001b[0m\u001b[1;33m]\u001b[0m\u001b[1;33m)\u001b[0m\u001b[1;33m\u001b[0m\u001b[1;33m\u001b[0m\u001b[0m\n",
      "\u001b[1;31mNameError\u001b[0m: name 'feature' is not defined"
     ]
    },
    {
     "data": {
      "text/plain": [
       "<Figure size 504x360 with 0 Axes>"
      ]
     },
     "metadata": {},
     "output_type": "display_data"
    },
    {
     "data": {
      "text/plain": [
       "<Figure size 432x288 with 0 Axes>"
      ]
     },
     "metadata": {},
     "output_type": "display_data"
    }
   ],
   "source": [
    "#\"categoriaDSQIID\", \"fluenzaverbale\",\"ABCiperattivita\", \"ABCIrritabilita\", \"ABCletargia\", \"ABCstereotipie\", \"ABCinappropriatespeech\", \"fluenzafonemica\", \"F.A.B.\"\n",
    "data = parenclitics\n",
    "#data = data[:29]\n",
    "data = data.values\n",
    "#data = stats.zscore(data)\n",
    "from matplotlib.backends.backend_pdf import PdfPages\n",
    "feature_name = \"categoriaDSQIID\"\n",
    "df_ans = None\n",
    "#parenclitic_pairs_path = config.ofname([[\"parenclitic_pairs\"]], ext = \".pdf\", \n",
    "#                                     include_set = config.params_sets[\"parenclitic_boxplots\"])\n",
    "    \n",
    "#with PdfPages(parenclitic_pairs_path) as pdf:\n",
    "#with 1 as pdf:\n",
    "for id1_parenclitic in range(data.shape[1]):\n",
    "    for id2_parenclitic in range(data.shape[1]):\n",
    "        if id1_parenclitic == id2_parenclitic: \n",
    "            continue\n",
    "        id_parenclitic = [id1_parenclitic, id2_parenclitic]\n",
    "        print (parenclitic_names[id1_parenclitic], parenclitic_names[id2_parenclitic])\n",
    "        #cur = data[:, id_parenclitic]\n",
    "        #val = np.arctan2(cur[:, 0] - cur[0, 0], cur[:, 1] - cur[0, 1]) % np.pi\n",
    "        #print val[val != 0] #(cur[:, 0] - cur[0, 0].min()) / (cur[:, 1] - cur[:, 1].min())\n",
    "        #if np.std(val[val != 0]) < 1e-3:\n",
    "        #    continue\n",
    "\n",
    "        #cur = cur[:29]\n",
    "\n",
    "        #feature = np.reshape(y == 0, -1)\n",
    "\n",
    "        #u = np.reshape(np.array(parenclitics[id1_parenclitic][29:58]).tolist(), -1)\n",
    "        #v = np.reshape(np.array(parenclitics[id2_parenclitic][29:58]).tolist(), -1)\n",
    "        #print(u.shape, u.dtype)\n",
    "\n",
    "        plt.figure(figsize = (7, 5))\n",
    "        plt.figure()\n",
    "        \n",
    "        mask = ~np.isnan(feature)\n",
    "        \n",
    "        num = len(parenclitics[id1_parenclitic][0])\n",
    "        print(num)\n",
    "        \n",
    "        u = np.reshape(np.array(parenclitics[id1_parenclitic][mask]).tolist(), -1)\n",
    "        v = np.reshape(np.array(parenclitics[id2_parenclitic][mask]).tolist(), -1)\n",
    "\n",
    "        feature = (phenotype_df[feature_name].values)\n",
    "        feature = feature[:29]\n",
    "        feature = feature[mask].astype('int')        \n",
    "        \n",
    "        colors = np.zeros_like(u)\n",
    "        colors[-len(u2):] = 1\n",
    "\n",
    "        #plt.scatter(u, v, c = colors, rasterized = True, alpha = 0.1, cmap = plt.get_cmap('jet', 2))\n",
    "\n",
    "        plt.scatter(u, v, c = np.reshape(np.tile(feature, (num, 1)), -1), \n",
    "                    cmap = plt.get_cmap('jet', feature.max() - feature.min() + 1))\n",
    "        plt.xlabel(parenclitic_names[id1_parenclitic].capitalize(), fontsize = fontsize)\n",
    "        plt.ylabel(parenclitic_names[id2_parenclitic].capitalize(), fontsize = fontsize)\n",
    "        delta = (u.max() - u.min()) * 0.05\n",
    "        plt.xlim(u.min() - delta, u.max() + delta)\n",
    "\n",
    "        delta = (v.max() - v.min()) * 0.05\n",
    "        plt.ylim(v.min() - delta, v.max() + delta)\n",
    "        plt.subplots_adjust(bottom=0.2, top=0.9, left=0.25, right=0.95)\n",
    "        #plt.yscale('log')\n",
    "\n",
    "        #plt.title(feature_name, fontsize = fontsize)\n",
    "        #plt.colorbar()\n",
    "        #pdf.savefig(dpi = 300)\n",
    "        parenclitic_pairs_path = config.ofname([[\"parenclitic_pairs_full\"], [parenclitic_names[id1_parenclitic], parenclitic_names[id2_parenclitic]]], ext = \".png\", \n",
    "                                 include_set = config.params_sets[\"parenclitic_boxplots\"])\n",
    "        plt.savefig(parenclitic_pairs_path)\n",
    "        #plt.show()\n",
    "        plt.close()\n",
    "        #sdf\n",
    "        continue\n",
    "\n",
    "\n",
    "        feature = np.minimum(feature, 12)\n",
    "        #if (feature == 0).sum() < 3:\n",
    "        #    continue\n",
    "        #feature = (feature > np.median(feature)).astype('int')\n",
    "\n",
    "        #print np.nan_to_num(phenotype_df[feature_name].values, -1).astype('int'), 'source'\n",
    "        #print feature, 'good'\n",
    "        clfs = [svm.SVC(kernel = 'rbf', C = 1, class_weight = \"balanced\"), \n",
    "                neighbors.KNeighborsClassifier(n_neighbors = 2),\n",
    "                svm.LinearSVC(C = 1, class_weight = \"balanced\"),\n",
    "                ensemble.RandomForestClassifier(n_estimators = 4)]\n",
    "        df_cur = pd.DataFrame(index=[0])\n",
    "\n",
    "        #df_ans[parenclitic_names[id_parenclitic]] = parenclitics[id_parenclitic]\n",
    "        #df_ans[\"input\"] = cur\n",
    "        #df_ans[\"good\"] = feature\n",
    "        #'''\n",
    "\n",
    "        #plt.scatter(np.reshape(parenclitics[id_parenclitic], -1), np.reshape(np.zeros_like(cur), -1), c = np.reshape(feature, -1), cmap = 'jet')\n",
    "        #'''\n",
    "        df_cur['parenclitic_1'] = parenclitic_names[id1_parenclitic]\n",
    "        df_cur['parenclitic_2'] = parenclitic_names[id2_parenclitic]\n",
    "        for clf in clfs:\n",
    "            score = cross_val_score(clf, cur, feature, cv=5, scoring = \"neg_mean_absolute_error\")\n",
    "\n",
    "            clf.fit(cur, feature)\n",
    "            predicted = clf.predict(cur)\n",
    "            score2 = np.mean(np.abs(feature - np.around(predicted).astype(\"int\")))\n",
    "            score_median = np.mean(np.abs(feature - np.median(feature)))\n",
    "            clf_name = type(clf).__name__\n",
    "            df_cur[clf_name + '_score_cv'] = -score.mean()\n",
    "            df_cur[clf_name + '_score_best'] = score2\n",
    "            #print np.around(predicted).astype(\"int\"), \"{:.2f}\".format(-score.mean()), \"{:.2f}\".format(score_median), \"{:.2f}\".format(score2), clf_name\n",
    "\n",
    "            '''\n",
    "            score = cross_val_score(clf, cur, feature, cv=5).mean()\n",
    "            clf.fit(cur, feature)\n",
    "            predicted = clf.predict(cur)\n",
    "            score2 = clf.score(cur, feature)\n",
    "            val = float(max((feature == 0).sum(), (feature == 1).sum())) / len(feature)\n",
    "            clf_name = type(clf).__name__\n",
    "            #df_ans[clf_name] = predicted\n",
    "            print predicted, \"{:.2f}\".format(score), \"{:.2f}\".format(val), \"{:.2f}\".format(score2), clf_name\n",
    "            '''\n",
    "        if df_ans is None:\n",
    "            df_ans = df_cur\n",
    "        else:\n",
    "            df_ans = df_ans.append (df_cur, ignore_index=True)\n",
    "        #plt.show()\n",
    "        pd.set_option('display.width', 100)\n",
    "        #print df_ans\n",
    "    #break"
   ]
  },
  {
   "cell_type": "code",
   "execution_count": 42,
   "metadata": {},
   "outputs": [
    {
     "data": {
      "text/plain": [
       "'D:\\\\PC\\\\UNN\\\\Science\\\\Gerontology\\\\data\\\\GSE52588\\\\params\\\\num_genes_14756\\\\kde_mask_mongoloids_mask\\\\algorithm_kde\\\\parenclitic_pairs\\\\Robustness_Max component size norm edges.png'"
      ]
     },
     "execution_count": 42,
     "metadata": {},
     "output_type": "execute_result"
    }
   ],
   "source": [
    "parenclitic_pairs_path"
   ]
  },
  {
   "cell_type": "code",
   "execution_count": 36,
   "metadata": {
    "scrolled": false
   },
   "outputs": [
    {
     "name": "stdout",
     "output_type": "stream",
     "text": [
      "ABCiperattivita\n",
      "[ 5  0 12  1  0  0  3  2  9  1  0  3 43  2  2  2  0  2  0  0  1  1  0  0  2  0  0  2] input std = 8.11 iqr = 5.47\n",
      "[ 5  0 12  1  0  0  3  2  9  1  0  3 43  2  2  2  0  2  0  0  1  1  0  0  2  0  0  2] 39.02 3.11 0.00 LinearSVR\n",
      "[ 2  1  6  2  0  0  6  1  6  2  2  2 22  2  1  2  1  2  0  0  0  0  0  1  2  0  1  2] 2.46 3.11 1.75 KNeighborsRegressor\n",
      "[ 5  0 12  1  0  0  3  2  9  1  0  3 43  2  2  2  0  2  0  0  1  1  0  0  2  0  0  2] 4.41 3.11 0.00 LinearRegression\n",
      "[ 4  1  3  3  0  0  4  2  9  1  0  2 32 12  2  2  1  0  0  0  1  1  0  0  1  0  0  2] 4.61 3.11 1.43 RandomForestRegressor\n",
      "ABCIrritabilita\n",
      "[ 0  1  5  2  0  0  0  3  0  0  0  1  8 16  0  0  0  0  0  1  6  3  4  0  0  0  0  3] input std = 3.44 iqr = 3.65\n",
      "[ 0  1  5  2  0  0  0  3  0  0  0  1  8 16  0  0  0  0  0  1  6  3  4  0  0  0  0  3] 22.99 1.89 0.00 LinearSVR\n",
      "[ 0  0  4  1  0  0  0  2  0  0  0  0  4 11  0  0  0  0  0  0  3  2  2  0  0  3  0  2] 1.96 1.89 0.89 KNeighborsRegressor\n",
      "[ 0  1  5  2  0  0  0  3  0  0  0  1  8 16  0  0  0  0  0  1  6  3  4  0  0  0  0  3] 3.13 1.89 0.00 LinearRegression\n",
      "[ 0  0  4  1  0  0  1  3  0  0  1  0  7  8  0  0  0  0  0  1  7  2  4  0  0  0  4  3] 2.44 1.89 0.75 RandomForestRegressor\n",
      "ABCletargia\n",
      "[17  5  0  9 27  0  2  2 10 17  6 13  0  2 14  1  6 13  0 16  0 13  0  2  0  3  1  3] input std = 7.06 iqr = 8.50\n",
      "[17  5  0  9 27  0  2  2 10 17  6 13  0  2 14  1  6 13  0 16  0 13  0  2  0  3  1  3] 79.19 5.57 0.00 LinearSVR\n",
      "[11 10  4 11 14  3  6  4  6 15 10 10  3  1 10  7  4  7  3  9 14  8  1  8  6  2  7  2] 6.59 5.57 4.43 KNeighborsRegressor\n",
      "[17  5  0  9 27  0  2  2 10 17  6 13  0  2 14  1  6 13  0 16  0 13  0  2  0  3  1  3] 6.14 5.57 0.00 LinearRegression\n",
      "[17  7  3  6 20  3  2  2 10 17  5  7  3  2  8  4  8  6  0 15  0 12  4  2  0  7  3  6] 5.81 5.57 2.18 RandomForestRegressor\n",
      "ABCstereotipie\n",
      "[10  0  2  3 11  0  8  0  2  8  4  0  4  2  0  2  0  3  0  5  6  9  3  0  0  0  0  1] input std = 3.39 iqr = 4.82\n",
      "[10  0  2  3 11  0  8  0  2  8  4  0  4  2  0  2  0  3  0  5  6  9  3  0  0  0  0  1] 35.54 2.61 0.00 LinearSVR\n",
      "[ 5  0  2  3  6  0  5  2  5  4  2  2  2  4  0  2  1  2  2  2  8  4  2  2  2  3  2  4] 2.81 2.61 2.04 KNeighborsRegressor\n",
      "[10  0  2  3 11  0  8  0  2  8  4  0  4  2  0  2  0  3  0  5  6  9  3  0  0  0  0  1] 2.52 2.61 0.00 LinearRegression\n",
      "[10  0  2  2  6  0  3  0  2  6  4  1  4  2  2  2  2  3  0  2  6  8  2  0  0  0  0  0] 2.88 2.61 0.86 RandomForestRegressor\n",
      "ABCinappropriatespeech\n",
      "[ 2  4  2  3  6  0  2  2  4  5  4  3  9  5  0  2  7  3  5  0  3  3  5  1  1  3  4  6] input std = 2.12 iqr = 3.32\n",
      "[ 2  4  2  3  6  0  2  2  4  5  4  3  9  5  0  2  7  3  5  0  3  3  5  1  1  3  4  6] 41.17 1.64 0.00 LinearSVR\n",
      "[ 3  2  2  3  3  4  3  3  3  4  4  4  8  4  2  2  4  2  4  0  4  2  3  2  2  3  4  4] 1.95 1.64 1.14 KNeighborsRegressor\n",
      "[ 2  4  2  3  6  0  2  2  4  5  4  3  9  5  0  2  7  3  5  0  3  3  5  1  1  3  4  6] 1.83 1.64 0.00 LinearRegression\n",
      "[ 2  4  5  6  6  2  4  2  4  2  4  3  8  5  0  2  5  4  4  1  3  4  4  3  2  2  4  6] 2.22 1.64 0.89 RandomForestRegressor\n",
      "qiv\n",
      "[19 43 38 56 48 63 60 54 51 51 59 53 47 34 39 62 19 56 19 55 52 62 19 48 55 57 39 57] input std = 13.61 iqr = 21.50\n",
      "[19 43 38 56 48 63 60 54 51 51 59 53 47 34 39 62 19 56 19 55 52 62 19 48 55 57 39 57] 520.25 10.25 0.00 LinearSVR\n",
      "[31 38 47 38 56 62 56 56 56 52 56 56 54 38 29 50 29 58 34 52 50 55 34 34 37 56 29 58] 12.75 10.25 7.21 KNeighborsRegressor\n",
      "[19 43 38 56 48 63 60 54 51 51 59 53 47 34 39 62 19 56 19 55 52 62 19 48 55 57 39 57] 13.58 10.25 0.00 LinearRegression\n",
      "[38 38 38 47 48 61 59 55 52 54 58 53 47 34 42 62 35 55 24 55 56 59 28 48 38 43 48 58] 13.21 10.25 4.43 RandomForestRegressor\n",
      "qip\n",
      "[19 44 39 67 52 65 65 53 49 55 56 54 36 34 44 52 19 53 19 59 47 53 19 54 50 66 36 63] input std = 14.46 iqr = 23.33\n",
      "[19 44 39 67 52 65 65 53 49 55 56 54 36 34 44 52 19 53 19 59 47 53 19 54 50 66 36 63] 524.12 11.00 0.00 LinearSVR\n",
      "[32 39 53 43 58 58 57 54 57 54 55 55 44 39 32 48 32 54 36 56 50 54 36 36 34 62 28 64] 12.45 11.00 7.86 KNeighborsRegressor\n",
      "[19 44 39 67 52 65 65 53 49 55 56 54 36 34 44 52 19 53 19 59 47 53 19 54 50 66 36 63] 14.71 11.00 0.00 LinearRegression\n",
      "[28 44 34 60 52 65 46 44 53 54 47 37 43 34 40 44 34 44 19 57 52 32 32 45 42 66 44 56] 15.66 11.00 7.00 RandomForestRegressor\n",
      "token\n",
      "[ 0 25 21 18  0 35 28 20 25 10 31 12 17 10 18 25  8 24  0 23 15 27  0 14 27 21 15 27] input std = 9.68 iqr = 14.97\n",
      "[ 0 25 21 18  0 35 28 20 25 10 31 12 17 10 18 25  8 24  0 23 15 27  0 14 27 21 15 27] 194.89 7.93 0.00 LinearSVR\n",
      "[12 18 20 13 18 30 26 26 26 11 22 22 21 18 13 22 13 28  7 12 14 20  7 11 18 22 12 28] 8.01 7.93 5.57 KNeighborsRegressor\n",
      "[ 0 25 21 18  0 35 28 20 25 10 31 12 17 10 18 25  8 24  0 23 15 27  0 14 27 21 15 27] 9.52 7.93 0.00 LinearRegression\n",
      "[ 7 26 24 17 10 26 26 16 28 11 23  9 25 10 19 25 15 14  6 23 15 24  0 14 18  8 15 23] 10.36 7.93 4.04 RandomForestRegressor\n",
      "fluenzafonemica\n",
      "[ 0  9  3  8  3 19  9  6  0  5  7  2  9  0  0 14  0  8  0  7  3 20  0  6  9  0  6 20] input std = 5.98 iqr = 9.82\n",
      "[ 0  9  3  8  3 19  9  6  0  5  7  2  9  0  0 14  0  8  0  7  3 20  0  6  9  0  6 20] 67.51 4.61 0.00 LinearSVR\n",
      "[ 4  4  6  4 11 16  4  6  4  4  4  4 12  4  0  7  0  8  3  5  4 13  3  3  4  4  3 14] 5.16 4.61 3.32 KNeighborsRegressor\n",
      "[ 0  9  3  8  3 19  9  6  0  5  7  2  9  0  0 14  0  8  0  7  3 20  0  6  9  0  6 20] 4.97 4.61 0.00 LinearRegression\n",
      "[ 0  9  6  8  2 19  9  6  5  6  7  3  2  0  0  7  5  8  7  6  4 12  0  9  4  1  6 10] 5.92 4.61 2.36 RandomForestRegressor\n",
      "F.A.B.\n",
      "[ 1 11  8  7 14 11  7  5  7  9  6  6  7 14  5  7 11  5 12  4  4  8  4 10 13] input std = 3.35 iqr = 4.90\n",
      "[ 1 11  8  7 14 11  7  5  7  9  6  6  7 14  5  7 11  5 12  4  4  8  4 10 13] 41.25 2.68 0.00 LinearSVR\n",
      "[ 6  8 11 10 14  8  7  8  7 12  8  8  6 10  6  6  9  4  8  4  4  6  8  8 12] 3.35 2.68 2.00 KNeighborsRegressor\n",
      "[ 1 11  8  7 14 11  7  5  7  9  6  6  7 14  5  7 11  5 12  4  4  8  4 10 13] 2.95 2.68 0.00 LinearRegression\n",
      "[ 6 11  8  7 14 11  7  6  7  8  7  6  9 14  7  6  9  6 12  7  4  9  6  9 10] 3.04 2.68 1.04 RandomForestRegressor\n"
     ]
    }
   ],
   "source": [
    "#data = parenclitics.drop(columns = [0,7,11,15,16,17,18])\n",
    "import warnings\n",
    "warnings.filterwarnings(\"ignore\")\n",
    "\n",
    "#data = parenclitics\n",
    "#data = data[:29].values\n",
    "data = np.array(X)\n",
    "data = data[:29]\n",
    "data = stats.zscore(data)\n",
    "data = data[:, ~np.all(np.isnan(data), axis=0)]\n",
    "\n",
    "feature_names = [\"ABCiperattivita\", \"ABCIrritabilita\", \"ABCletargia\", \"ABCstereotipie\", \"ABCinappropriatespeech\", \"qiv\", \"qip\", \"token\", \"fluenzafonemica\", \"F.A.B.\"]\n",
    "np.set_printoptions(linewidth=100, formatter={'int':lambda x: \"{:2d}\".format(x), 'float':lambda x: \"{:.2f}\".format(x)})\n",
    "for feature_name in feature_names:\n",
    "    print (feature_name)\n",
    "    feature = (phenotype_df[feature_name].values)\n",
    "    \n",
    "    cur = data[~np.isnan(feature)]\n",
    "    feature = feature[~np.isnan(feature)].astype('int')\n",
    "    #print np.nan_to_num(phenotype_df[feature_name].values, 9).astype('int'), 'source'\n",
    "    print (feature, 'input', 'std =', \"{:.2f}\".format(np.std(feature)), 'iqr =', \"{:.2f}\".format(scipy.stats.iqr(feature, rng=(5, 95)) / 2))\n",
    "    clfs = [svm.LinearSVR(), \n",
    "            neighbors.KNeighborsRegressor(n_neighbors = 2),\n",
    "            linear_model.LinearRegression(),\n",
    "            ensemble.RandomForestRegressor(n_estimators = 4),\n",
    "            #neural_network.MLPRegressor(max_iter = 50, hidden_layer_sizes = (100, ))\n",
    "            ]\n",
    "\n",
    "    for clf in clfs:\n",
    "        score = cross_val_score(clf, cur, feature, cv=20, scoring = \"neg_mean_absolute_error\")\n",
    "        \n",
    "        clf.fit(cur, feature)\n",
    "        predicted = clf.predict(cur)\n",
    "        score2 = np.mean(np.abs(feature - np.around(predicted).astype(\"int\")))\n",
    "        score_median = np.mean(np.abs(feature - np.median(feature)))\n",
    "        print (np.around(predicted).astype(\"int\"), \"{:.2f}\".format(-score.mean()), \"{:.2f}\".format(score_median), \"{:.2f}\".format(score2), type(clf).__name__)\n",
    "        #print score"
   ]
  },
  {
   "cell_type": "code",
   "execution_count": 235,
   "metadata": {
    "collapsed": true
   },
   "outputs": [],
   "source": [
    "import statsmodels.api as sm\n",
    "from statsmodels.formula.api import ols\n",
    "import statsmodels.stats.multicomp\n",
    "import scipy.stats as stats\n",
    "\n",
    "def calc_anova_f_oneway(data, y):\n",
    "    num_groups = 5\n",
    "    bins = np.array(np.percentile(data, np.linspace(0, 100, num_groups + 1)))\n",
    "    classes = np.minimum(np.digitize(data, bins), num_groups) - 1\n",
    "    classes = classes.flatten()\n",
    "    res = np.array(y)\n",
    "    for c in range(5):\n",
    "        res[classes == c] = y[classes == c].mean()\n",
    "    model = stats.f_oneway(y[classes == 0], y[classes == 1], y[classes == 2], y[classes == 3], y[classes == 4])\n",
    "    return model.pvalue, res\n",
    "\n",
    "def input_feature_assessment_regr(cur, feature, clf):\n",
    "    if type(clf) is str:\n",
    "        if clf == \"anova_f_oneway\":\n",
    "            return calc_anova_f_oneway(cur, feature)\n",
    "\n",
    "        if clf == \"anova_ols\":\n",
    "            cur = sm.add_constant(cur)\n",
    "            model = sm.OLS(feature, cur).fit()\n",
    "            return model.pvalues[1], model.predict(cur)\n",
    "    #score = cross_val_score(clf, cur, feature, cv=20, scoring = \"neg_mean_absolute_error\")\n",
    "    \n",
    "    clf.fit(cur, feature)\n",
    "    predicted = clf.predict(cur)\n",
    "    score2 = np.mean(np.abs(feature - np.around(predicted).astype(\"int\")))\n",
    "    #score_median = np.mean(np.abs(feature - np.median(feature)))\n",
    "    return score2, predicted\n",
    "\n",
    "def input_feature_assessment_classifier(cur, feature, clf):\n",
    "    #score = cross_val_score(clf, cur, feature, cv=20, scoring = \"neg_mean_absolute_error\")\n",
    "    \n",
    "    clf.fit(cur, feature)\n",
    "    predicted = clf.predict(cur)\n",
    "    score = clf.score(cur, feature)\n",
    "    #score_median = np.mean(np.abs(feature - np.median(feature)))\n",
    "    return score\n"
   ]
  },
  {
   "cell_type": "code",
   "execution_count": 25,
   "metadata": {
    "collapsed": true
   },
   "outputs": [],
   "source": [
    "import numpy as np\n",
    "import matplotlib.pyplot as plt\n",
    "from sklearn import svm, datasets\n",
    "\n",
    "\n",
    "def make_meshgrid(x, y, h=.02):\n",
    "    \"\"\"Create a mesh of points to plot in\n",
    "\n",
    "    Parameters\n",
    "    ----------\n",
    "    x: data to base x-axis meshgrid on\n",
    "    y: data to base y-axis meshgrid on\n",
    "    h: stepsize for meshgrid, optional\n",
    "\n",
    "    Returns\n",
    "    -------\n",
    "    xx, yy : ndarray\n",
    "    \"\"\"\n",
    "    delta_x = (x.max() - x.min()) * 0.1\n",
    "    delta_y = (y.max() - y.min()) * 0.1\n",
    "    x_min, x_max = x.min() - delta_x, x.max() + delta_x\n",
    "    y_min, y_max = y.min() - delta_y, y.max() + delta_y\n",
    "    xx, yy = np.meshgrid(np.arange(x_min, x_max, h),\n",
    "                         np.arange(y_min, y_max, h))\n",
    "    return xx, yy\n",
    "\n",
    "\n",
    "def plot_contours(ax, clf, xx, yy, **params):\n",
    "    \"\"\"Plot the decision boundaries for a classifier.\n",
    "\n",
    "    Parameters\n",
    "    ----------\n",
    "    ax: matplotlib axes object\n",
    "    clf: a classifier\n",
    "    xx: meshgrid ndarray\n",
    "    yy: meshgrid ndarray\n",
    "    params: dictionary of params to pass to contourf, optional\n",
    "    \"\"\"\n",
    "    Z = clf.predict(np.c_[xx.ravel(), yy.ravel()])\n",
    "    Z = Z.reshape(xx.shape)\n",
    "    out = ax.contourf(xx, yy, Z, **params)\n",
    "    return out\n"
   ]
  },
  {
   "cell_type": "code",
   "execution_count": 28,
   "metadata": {},
   "outputs": [
    {
     "data": {
      "text/plain": [
       "'sdf.s45___'"
      ]
     },
     "execution_count": 28,
     "metadata": {},
     "output_type": "execute_result"
    }
   ],
   "source": [
    "#feature_names = phenotype_df.columns.values\n",
    "np.array(feature_names)\n",
    "phenotype_df.columns.values\n",
    "import re\n",
    "re.sub(\"[^\\d^\\w^\\.]\", \"_\", \"sdf.s45+$<\")"
   ]
  },
  {
   "cell_type": "code",
   "execution_count": 250,
   "metadata": {
    "scrolled": true
   },
   "outputs": [
    {
     "name": "stdout",
     "output_type": "stream",
     "text": [
      "(29L, 100000L)\n",
      "fluenzaverbale\n",
      "anova_ols\n"
     ]
    },
    {
     "name": "stderr",
     "output_type": "stream",
     "text": [
      "100%|██████████| 100000/100000 [01:06<00:00, 1501.95it/s]\n"
     ]
    },
    {
     "name": "stdout",
     "output_type": "stream",
     "text": [
      "anova_f_oneway\n"
     ]
    },
    {
     "name": "stderr",
     "output_type": "stream",
     "text": [
      "100%|██████████| 100000/100000 [00:44<00:00, 2229.95it/s]\n"
     ]
    },
    {
     "name": "stdout",
     "output_type": "stream",
     "text": [
      "LinearRegression\n"
     ]
    },
    {
     "name": "stderr",
     "output_type": "stream",
     "text": [
      "100%|██████████| 100000/100000 [00:49<00:00, 2034.63it/s]\n"
     ]
    },
    {
     "name": "stdout",
     "output_type": "stream",
     "text": [
      "SVR\n"
     ]
    },
    {
     "name": "stderr",
     "output_type": "stream",
     "text": [
      "100%|██████████| 100000/100000 [00:46<00:00, 2152.02it/s]\n"
     ]
    },
    {
     "name": "stdout",
     "output_type": "stream",
     "text": [
      "LinearSVR\n"
     ]
    },
    {
     "name": "stderr",
     "output_type": "stream",
     "text": [
      "100%|██████████| 100000/100000 [00:30<00:00, 3279.76it/s]\n"
     ]
    },
    {
     "name": "stdout",
     "output_type": "stream",
     "text": [
      "KNeighborsRegressor\n"
     ]
    },
    {
     "name": "stderr",
     "output_type": "stream",
     "text": [
      "100%|██████████| 100000/100000 [01:22<00:00, 1207.80it/s]\n"
     ]
    },
    {
     "name": "stdout",
     "output_type": "stream",
     "text": [
      "F:\\PC\\UNN\\Scientific\\Gerontology\\data\\GSE52588\\params\\num_cpgs_142987\\down_phenotypes\\regressions_fit_rand\\fluenzaverbale.pdf\n",
      "ABCletargia\n",
      "anova_ols\n"
     ]
    },
    {
     "name": "stderr",
     "output_type": "stream",
     "text": [
      "100%|██████████| 100000/100000 [01:03<00:00, 1580.95it/s]\n"
     ]
    },
    {
     "name": "stdout",
     "output_type": "stream",
     "text": [
      "anova_f_oneway\n"
     ]
    },
    {
     "name": "stderr",
     "output_type": "stream",
     "text": [
      "100%|██████████| 100000/100000 [00:44<00:00, 2262.39it/s]\n"
     ]
    },
    {
     "name": "stdout",
     "output_type": "stream",
     "text": [
      "LinearRegression\n"
     ]
    },
    {
     "name": "stderr",
     "output_type": "stream",
     "text": [
      "100%|██████████| 100000/100000 [00:49<00:00, 2028.56it/s]\n"
     ]
    },
    {
     "name": "stdout",
     "output_type": "stream",
     "text": [
      "SVR\n"
     ]
    },
    {
     "name": "stderr",
     "output_type": "stream",
     "text": [
      "100%|██████████| 100000/100000 [00:40<00:00, 2497.19it/s]\n"
     ]
    },
    {
     "name": "stdout",
     "output_type": "stream",
     "text": [
      "LinearSVR\n"
     ]
    },
    {
     "name": "stderr",
     "output_type": "stream",
     "text": [
      "100%|██████████| 100000/100000 [00:29<00:00, 3433.36it/s]\n"
     ]
    },
    {
     "name": "stdout",
     "output_type": "stream",
     "text": [
      "KNeighborsRegressor\n"
     ]
    },
    {
     "name": "stderr",
     "output_type": "stream",
     "text": [
      "100%|██████████| 100000/100000 [01:20<00:00, 1243.94it/s]\n"
     ]
    },
    {
     "name": "stdout",
     "output_type": "stream",
     "text": [
      "F:\\PC\\UNN\\Scientific\\Gerontology\\data\\GSE52588\\params\\num_cpgs_142987\\down_phenotypes\\regressions_fit_rand\\ABCletargia.pdf\n",
      "ABCstereotipie\n",
      "anova_ols\n"
     ]
    },
    {
     "name": "stderr",
     "output_type": "stream",
     "text": [
      "100%|██████████| 100000/100000 [01:02<00:00, 1599.82it/s]\n"
     ]
    },
    {
     "name": "stdout",
     "output_type": "stream",
     "text": [
      "anova_f_oneway\n"
     ]
    },
    {
     "name": "stderr",
     "output_type": "stream",
     "text": [
      "100%|██████████| 100000/100000 [00:44<00:00, 2257.34it/s]\n"
     ]
    },
    {
     "name": "stdout",
     "output_type": "stream",
     "text": [
      "LinearRegression\n"
     ]
    },
    {
     "name": "stderr",
     "output_type": "stream",
     "text": [
      "100%|██████████| 100000/100000 [00:49<00:00, 2035.33it/s]\n"
     ]
    },
    {
     "name": "stdout",
     "output_type": "stream",
     "text": [
      "SVR\n"
     ]
    },
    {
     "name": "stderr",
     "output_type": "stream",
     "text": [
      "100%|██████████| 100000/100000 [00:42<00:00, 2369.44it/s]\n"
     ]
    },
    {
     "name": "stdout",
     "output_type": "stream",
     "text": [
      "LinearSVR\n"
     ]
    },
    {
     "name": "stderr",
     "output_type": "stream",
     "text": [
      "100%|██████████| 100000/100000 [00:29<00:00, 3362.25it/s]\n"
     ]
    },
    {
     "name": "stdout",
     "output_type": "stream",
     "text": [
      "KNeighborsRegressor\n"
     ]
    },
    {
     "name": "stderr",
     "output_type": "stream",
     "text": [
      "100%|██████████| 100000/100000 [01:21<00:00, 1231.10it/s]\n"
     ]
    },
    {
     "name": "stdout",
     "output_type": "stream",
     "text": [
      "F:\\PC\\UNN\\Scientific\\Gerontology\\data\\GSE52588\\params\\num_cpgs_142987\\down_phenotypes\\regressions_fit_rand\\ABCstereotipie.pdf\n",
      "ABCinappropriatespeech\n",
      "anova_ols\n"
     ]
    },
    {
     "name": "stderr",
     "output_type": "stream",
     "text": [
      "100%|██████████| 100000/100000 [01:02<00:00, 1601.31it/s]\n"
     ]
    },
    {
     "name": "stdout",
     "output_type": "stream",
     "text": [
      "anova_f_oneway\n"
     ]
    },
    {
     "name": "stderr",
     "output_type": "stream",
     "text": [
      "100%|██████████| 100000/100000 [00:44<00:00, 2269.22it/s]\n"
     ]
    },
    {
     "name": "stdout",
     "output_type": "stream",
     "text": [
      "LinearRegression\n"
     ]
    },
    {
     "name": "stderr",
     "output_type": "stream",
     "text": [
      "100%|██████████| 100000/100000 [00:49<00:00, 2035.21it/s]\n"
     ]
    },
    {
     "name": "stdout",
     "output_type": "stream",
     "text": [
      "SVR\n"
     ]
    },
    {
     "name": "stderr",
     "output_type": "stream",
     "text": [
      "100%|██████████| 100000/100000 [00:42<00:00, 2342.80it/s]\n"
     ]
    },
    {
     "name": "stdout",
     "output_type": "stream",
     "text": [
      "LinearSVR\n"
     ]
    },
    {
     "name": "stderr",
     "output_type": "stream",
     "text": [
      "100%|██████████| 100000/100000 [00:29<00:00, 3405.41it/s]\n"
     ]
    },
    {
     "name": "stdout",
     "output_type": "stream",
     "text": [
      "KNeighborsRegressor\n"
     ]
    },
    {
     "name": "stderr",
     "output_type": "stream",
     "text": [
      "100%|██████████| 100000/100000 [01:20<00:00, 1246.99it/s]\n"
     ]
    },
    {
     "name": "stdout",
     "output_type": "stream",
     "text": [
      "F:\\PC\\UNN\\Scientific\\Gerontology\\data\\GSE52588\\params\\num_cpgs_142987\\down_phenotypes\\regressions_fit_rand\\ABCinappropriatespeech.pdf\n",
      "qiv\n",
      "anova_ols\n"
     ]
    },
    {
     "name": "stderr",
     "output_type": "stream",
     "text": [
      "100%|██████████| 100000/100000 [01:02<00:00, 1597.50it/s]\n"
     ]
    },
    {
     "name": "stdout",
     "output_type": "stream",
     "text": [
      "anova_f_oneway\n"
     ]
    },
    {
     "name": "stderr",
     "output_type": "stream",
     "text": [
      "100%|██████████| 100000/100000 [00:44<00:00, 2265.01it/s]\n"
     ]
    },
    {
     "name": "stdout",
     "output_type": "stream",
     "text": [
      "LinearRegression\n"
     ]
    },
    {
     "name": "stderr",
     "output_type": "stream",
     "text": [
      "100%|██████████| 100000/100000 [00:48<00:00, 2042.07it/s]\n"
     ]
    },
    {
     "name": "stdout",
     "output_type": "stream",
     "text": [
      "SVR\n"
     ]
    },
    {
     "name": "stderr",
     "output_type": "stream",
     "text": [
      "100%|██████████| 100000/100000 [00:39<00:00, 2556.30it/s]\n"
     ]
    },
    {
     "name": "stdout",
     "output_type": "stream",
     "text": [
      "LinearSVR\n"
     ]
    },
    {
     "name": "stderr",
     "output_type": "stream",
     "text": [
      "100%|██████████| 100000/100000 [00:28<00:00, 3550.63it/s]\n"
     ]
    },
    {
     "name": "stdout",
     "output_type": "stream",
     "text": [
      "KNeighborsRegressor\n"
     ]
    },
    {
     "name": "stderr",
     "output_type": "stream",
     "text": [
      "100%|██████████| 100000/100000 [01:20<00:00, 1238.10it/s]\n"
     ]
    },
    {
     "name": "stdout",
     "output_type": "stream",
     "text": [
      "F:\\PC\\UNN\\Scientific\\Gerontology\\data\\GSE52588\\params\\num_cpgs_142987\\down_phenotypes\\regressions_fit_rand\\qiv.pdf\n",
      "qip\n",
      "anova_ols\n"
     ]
    },
    {
     "name": "stderr",
     "output_type": "stream",
     "text": [
      "100%|██████████| 100000/100000 [01:02<00:00, 1607.72it/s]\n"
     ]
    },
    {
     "name": "stdout",
     "output_type": "stream",
     "text": [
      "anova_f_oneway\n"
     ]
    },
    {
     "name": "stderr",
     "output_type": "stream",
     "text": [
      "100%|██████████| 100000/100000 [00:44<00:00, 2244.92it/s]\n"
     ]
    },
    {
     "name": "stdout",
     "output_type": "stream",
     "text": [
      "LinearRegression\n"
     ]
    },
    {
     "name": "stderr",
     "output_type": "stream",
     "text": [
      "100%|██████████| 100000/100000 [00:48<00:00, 2047.88it/s]\n"
     ]
    },
    {
     "name": "stdout",
     "output_type": "stream",
     "text": [
      "SVR\n"
     ]
    },
    {
     "name": "stderr",
     "output_type": "stream",
     "text": [
      "100%|██████████| 100000/100000 [00:39<00:00, 2563.84it/s]\n"
     ]
    },
    {
     "name": "stdout",
     "output_type": "stream",
     "text": [
      "LinearSVR\n"
     ]
    },
    {
     "name": "stderr",
     "output_type": "stream",
     "text": [
      "100%|██████████| 100000/100000 [00:28<00:00, 3520.38it/s]\n"
     ]
    },
    {
     "name": "stdout",
     "output_type": "stream",
     "text": [
      "KNeighborsRegressor\n"
     ]
    },
    {
     "name": "stderr",
     "output_type": "stream",
     "text": [
      "100%|██████████| 100000/100000 [01:19<00:00, 1253.98it/s]\n"
     ]
    },
    {
     "name": "stdout",
     "output_type": "stream",
     "text": [
      "F:\\PC\\UNN\\Scientific\\Gerontology\\data\\GSE52588\\params\\num_cpgs_142987\\down_phenotypes\\regressions_fit_rand\\qip.pdf\n",
      "token\n",
      "anova_ols\n"
     ]
    },
    {
     "name": "stderr",
     "output_type": "stream",
     "text": [
      "100%|██████████| 100000/100000 [01:02<00:00, 1611.76it/s]\n"
     ]
    },
    {
     "name": "stdout",
     "output_type": "stream",
     "text": [
      "anova_f_oneway\n"
     ]
    },
    {
     "name": "stderr",
     "output_type": "stream",
     "text": [
      "100%|██████████| 100000/100000 [00:44<00:00, 2272.52it/s]\n"
     ]
    },
    {
     "name": "stdout",
     "output_type": "stream",
     "text": [
      "LinearRegression\n"
     ]
    },
    {
     "name": "stderr",
     "output_type": "stream",
     "text": [
      "100%|██████████| 100000/100000 [00:48<00:00, 2049.68it/s]\n"
     ]
    },
    {
     "name": "stdout",
     "output_type": "stream",
     "text": [
      "SVR\n"
     ]
    },
    {
     "name": "stderr",
     "output_type": "stream",
     "text": [
      "100%|██████████| 100000/100000 [00:39<00:00, 2517.69it/s]\n"
     ]
    },
    {
     "name": "stdout",
     "output_type": "stream",
     "text": [
      "LinearSVR\n"
     ]
    },
    {
     "name": "stderr",
     "output_type": "stream",
     "text": [
      "100%|██████████| 100000/100000 [00:28<00:00, 3531.70it/s]\n"
     ]
    },
    {
     "name": "stdout",
     "output_type": "stream",
     "text": [
      "KNeighborsRegressor\n"
     ]
    },
    {
     "name": "stderr",
     "output_type": "stream",
     "text": [
      "100%|██████████| 100000/100000 [01:20<00:00, 1244.49it/s]\n"
     ]
    },
    {
     "name": "stdout",
     "output_type": "stream",
     "text": [
      "F:\\PC\\UNN\\Scientific\\Gerontology\\data\\GSE52588\\params\\num_cpgs_142987\\down_phenotypes\\regressions_fit_rand\\token.pdf\n",
      "fluenzafonemica\n",
      "anova_ols\n"
     ]
    },
    {
     "name": "stderr",
     "output_type": "stream",
     "text": [
      "100%|██████████| 100000/100000 [01:02<00:00, 1608.13it/s]\n"
     ]
    },
    {
     "name": "stdout",
     "output_type": "stream",
     "text": [
      "anova_f_oneway\n"
     ]
    },
    {
     "name": "stderr",
     "output_type": "stream",
     "text": [
      "100%|██████████| 100000/100000 [00:44<00:00, 2252.76it/s]\n"
     ]
    },
    {
     "name": "stdout",
     "output_type": "stream",
     "text": [
      "LinearRegression\n"
     ]
    },
    {
     "name": "stderr",
     "output_type": "stream",
     "text": [
      "100%|██████████| 100000/100000 [00:48<00:00, 2047.54it/s]\n"
     ]
    },
    {
     "name": "stdout",
     "output_type": "stream",
     "text": [
      "SVR\n"
     ]
    },
    {
     "name": "stderr",
     "output_type": "stream",
     "text": [
      "100%|██████████| 100000/100000 [00:40<00:00, 2492.34it/s]\n"
     ]
    },
    {
     "name": "stdout",
     "output_type": "stream",
     "text": [
      "LinearSVR\n"
     ]
    },
    {
     "name": "stderr",
     "output_type": "stream",
     "text": [
      "100%|██████████| 100000/100000 [00:28<00:00, 3505.57it/s]\n"
     ]
    },
    {
     "name": "stdout",
     "output_type": "stream",
     "text": [
      "KNeighborsRegressor\n"
     ]
    },
    {
     "name": "stderr",
     "output_type": "stream",
     "text": [
      "100%|██████████| 100000/100000 [01:20<00:00, 1245.56it/s]\n"
     ]
    },
    {
     "name": "stdout",
     "output_type": "stream",
     "text": [
      "F:\\PC\\UNN\\Scientific\\Gerontology\\data\\GSE52588\\params\\num_cpgs_142987\\down_phenotypes\\regressions_fit_rand\\fluenzafonemica.pdf\n",
      "F.A.B.\n",
      "anova_ols\n"
     ]
    },
    {
     "name": "stderr",
     "output_type": "stream",
     "text": [
      "100%|██████████| 100000/100000 [01:02<00:00, 1609.66it/s]\n"
     ]
    },
    {
     "name": "stdout",
     "output_type": "stream",
     "text": [
      "anova_f_oneway\n"
     ]
    },
    {
     "name": "stderr",
     "output_type": "stream",
     "text": [
      "100%|██████████| 100000/100000 [00:44<00:00, 2245.73it/s]\n"
     ]
    },
    {
     "name": "stdout",
     "output_type": "stream",
     "text": [
      "LinearRegression\n"
     ]
    },
    {
     "name": "stderr",
     "output_type": "stream",
     "text": [
      "100%|██████████| 100000/100000 [00:48<00:00, 2051.49it/s]\n"
     ]
    },
    {
     "name": "stdout",
     "output_type": "stream",
     "text": [
      "SVR\n"
     ]
    },
    {
     "name": "stderr",
     "output_type": "stream",
     "text": [
      "100%|██████████| 100000/100000 [00:38<00:00, 2564.17it/s]\n"
     ]
    },
    {
     "name": "stdout",
     "output_type": "stream",
     "text": [
      "LinearSVR\n"
     ]
    },
    {
     "name": "stderr",
     "output_type": "stream",
     "text": [
      "100%|██████████| 100000/100000 [00:29<00:00, 3447.80it/s]\n"
     ]
    },
    {
     "name": "stdout",
     "output_type": "stream",
     "text": [
      "KNeighborsRegressor\n"
     ]
    },
    {
     "name": "stderr",
     "output_type": "stream",
     "text": [
      "100%|██████████| 100000/100000 [01:19<00:00, 1254.66it/s]\n"
     ]
    },
    {
     "name": "stdout",
     "output_type": "stream",
     "text": [
      "F:\\PC\\UNN\\Scientific\\Gerontology\\data\\GSE52588\\params\\num_cpgs_142987\\down_phenotypes\\regressions_fit_rand\\F.A.B..pdf\n",
      "ABCiperattivita\n",
      "anova_ols\n"
     ]
    },
    {
     "name": "stderr",
     "output_type": "stream",
     "text": [
      "100%|██████████| 100000/100000 [01:02<00:00, 1596.96it/s]\n"
     ]
    },
    {
     "name": "stdout",
     "output_type": "stream",
     "text": [
      "anova_f_oneway\n"
     ]
    },
    {
     "name": "stderr",
     "output_type": "stream",
     "text": [
      "100%|██████████| 100000/100000 [00:44<00:00, 2253.06it/s]\n"
     ]
    },
    {
     "name": "stdout",
     "output_type": "stream",
     "text": [
      "LinearRegression\n"
     ]
    },
    {
     "name": "stderr",
     "output_type": "stream",
     "text": [
      "100%|██████████| 100000/100000 [00:49<00:00, 2039.82it/s]\n"
     ]
    },
    {
     "name": "stdout",
     "output_type": "stream",
     "text": [
      "SVR\n"
     ]
    },
    {
     "name": "stderr",
     "output_type": "stream",
     "text": [
      "100%|██████████| 100000/100000 [00:43<00:00, 2323.26it/s]\n"
     ]
    },
    {
     "name": "stdout",
     "output_type": "stream",
     "text": [
      "LinearSVR\n"
     ]
    },
    {
     "name": "stderr",
     "output_type": "stream",
     "text": [
      "100%|██████████| 100000/100000 [00:29<00:00, 3382.03it/s]\n"
     ]
    },
    {
     "name": "stdout",
     "output_type": "stream",
     "text": [
      "KNeighborsRegressor\n"
     ]
    },
    {
     "name": "stderr",
     "output_type": "stream",
     "text": [
      "100%|██████████| 100000/100000 [01:20<00:00, 1249.88it/s]\n"
     ]
    },
    {
     "name": "stdout",
     "output_type": "stream",
     "text": [
      "F:\\PC\\UNN\\Scientific\\Gerontology\\data\\GSE52588\\params\\num_cpgs_142987\\down_phenotypes\\regressions_fit_rand\\ABCiperattivita.pdf\n",
      "ABCIrritabilita\n",
      "anova_ols\n"
     ]
    },
    {
     "name": "stderr",
     "output_type": "stream",
     "text": [
      "100%|██████████| 100000/100000 [01:02<00:00, 1603.72it/s]\n"
     ]
    },
    {
     "name": "stdout",
     "output_type": "stream",
     "text": [
      "anova_f_oneway\n"
     ]
    },
    {
     "name": "stderr",
     "output_type": "stream",
     "text": [
      "100%|██████████| 100000/100000 [00:44<00:00, 2261.88it/s]\n"
     ]
    },
    {
     "name": "stdout",
     "output_type": "stream",
     "text": [
      "LinearRegression\n"
     ]
    },
    {
     "name": "stderr",
     "output_type": "stream",
     "text": [
      "100%|██████████| 100000/100000 [00:48<00:00, 2046.71it/s]\n"
     ]
    },
    {
     "name": "stdout",
     "output_type": "stream",
     "text": [
      "SVR\n"
     ]
    },
    {
     "name": "stderr",
     "output_type": "stream",
     "text": [
      "100%|██████████| 100000/100000 [00:49<00:00, 2010.45it/s]\n"
     ]
    },
    {
     "name": "stdout",
     "output_type": "stream",
     "text": [
      "LinearSVR\n"
     ]
    },
    {
     "name": "stderr",
     "output_type": "stream",
     "text": [
      "100%|██████████| 100000/100000 [00:29<00:00, 3350.08it/s]\n"
     ]
    },
    {
     "name": "stdout",
     "output_type": "stream",
     "text": [
      "KNeighborsRegressor\n"
     ]
    },
    {
     "name": "stderr",
     "output_type": "stream",
     "text": [
      "100%|██████████| 100000/100000 [01:20<00:00, 1243.21it/s]\n"
     ]
    },
    {
     "name": "stdout",
     "output_type": "stream",
     "text": [
      "F:\\PC\\UNN\\Scientific\\Gerontology\\data\\GSE52588\\params\\num_cpgs_142987\\down_phenotypes\\regressions_fit_rand\\ABCIrritabilita.pdf\n",
      "DSQIID\n",
      "anova_ols\n"
     ]
    },
    {
     "name": "stderr",
     "output_type": "stream",
     "text": [
      "100%|██████████| 100000/100000 [01:02<00:00, 1602.20it/s]\n"
     ]
    },
    {
     "name": "stdout",
     "output_type": "stream",
     "text": [
      "anova_f_oneway\n"
     ]
    },
    {
     "name": "stderr",
     "output_type": "stream",
     "text": [
      "100%|██████████| 100000/100000 [00:44<00:00, 2245.48it/s]\n"
     ]
    },
    {
     "name": "stdout",
     "output_type": "stream",
     "text": [
      "LinearRegression\n"
     ]
    },
    {
     "name": "stderr",
     "output_type": "stream",
     "text": [
      "100%|██████████| 100000/100000 [00:48<00:00, 2055.16it/s]\n"
     ]
    },
    {
     "name": "stdout",
     "output_type": "stream",
     "text": [
      "SVR\n"
     ]
    },
    {
     "name": "stderr",
     "output_type": "stream",
     "text": [
      "100%|██████████| 100000/100000 [01:09<00:00, 1435.52it/s]\n"
     ]
    },
    {
     "name": "stdout",
     "output_type": "stream",
     "text": [
      "LinearSVR\n"
     ]
    },
    {
     "name": "stderr",
     "output_type": "stream",
     "text": [
      "100%|██████████| 100000/100000 [00:28<00:00, 3526.84it/s]\n"
     ]
    },
    {
     "name": "stdout",
     "output_type": "stream",
     "text": [
      "KNeighborsRegressor\n"
     ]
    },
    {
     "name": "stderr",
     "output_type": "stream",
     "text": [
      "100%|██████████| 100000/100000 [01:20<00:00, 1248.50it/s]\n"
     ]
    },
    {
     "name": "stdout",
     "output_type": "stream",
     "text": [
      "F:\\PC\\UNN\\Scientific\\Gerontology\\data\\GSE52588\\params\\num_cpgs_142987\\down_phenotypes\\regressions_fit_rand\\DSQIID.pdf\n"
     ]
    }
   ],
   "source": [
    "#data = parenclitics.drop(columns = [0,7,11,15,16,17,18])\n",
    "import warnings\n",
    "from tqdm import tqdm\n",
    "\n",
    "warnings.filterwarnings(\"ignore\")\n",
    "\n",
    "#data = parenclitics\n",
    "#data = data[:29].values\n",
    "XX = np.random.rand(X.shape[0], 100000)\n",
    "data = np.array(XX)\n",
    "#data = data[:, :100]\n",
    "data_full = stats.zscore(data)\n",
    "data = data_full[config.params[\"mongoloids_mask\"].value]\n",
    "print data.shape\n",
    "\n",
    "# Regression\n",
    "feature_names = [\"fluenzaverbale\", \"ABCletargia\", \"ABCstereotipie\", \"ABCinappropriatespeech\", \"qiv\", \"qip\", \"token\", \"fluenzafonemica\", \"F.A.B.\", \"ABCiperattivita\", \"ABCIrritabilita\", \"DSQIID\"]\n",
    "#feature_names = phenotype_df.columns.values\n",
    "clfs = [\"anova_ols\",\n",
    "        \"anova_f_oneway\",\n",
    "        linear_model.LinearRegression(),\n",
    "        svm.SVR(kernel='rbf', C=100, gamma=0.1, epsilon=.1),\n",
    "        #svm.SVR(kernel='poly', C=100, degree=3, epsilon=.1, coef0=1),\n",
    "        svm.LinearSVR(),\n",
    "        neighbors.KNeighborsRegressor(n_neighbors = 3),\n",
    "        #ensemble.RandomForestRegressor(n_estimators = 4),\n",
    "        #neural_network.MLPRegressor(max_iter = 50, hidden_layer_sizes = (10, ))\n",
    "        ]\n",
    "#clfs = [linear_model.LinearRegression()]\n",
    "# Classifiers\n",
    "'''\n",
    "feature_names = [\"categoriaDSQIID\", \"fluenzaverbale\",\"ABCiperattivita\", \"ABCIrritabilita\", \"ABCletargia\", \"ABCstereotipie\", \"ABCinappropriatespeech\", \"fluenzafonemica\", \"F.A.B.\"]\n",
    "clfs = [svm.SVC(kernel = 'rbf', C = 1, class_weight = \"balanced\"), \n",
    "        neighbors.KNeighborsClassifier(n_neighbors = 3),\n",
    "        svm.LinearSVC(C = 1, class_weight = \"balanced\"),\n",
    "        ensemble.RandomForestClassifier(n_estimators = 4),\n",
    "        neural_network.MLPClassifier(max_iter = 50, hidden_layer_sizes = (100, ))\n",
    "       ]\n",
    "'''\n",
    "is_normalized = False\n",
    "is_fit = True\n",
    "if not is_normalized:\n",
    "    data_full = np.array(XX)\n",
    "    norm_str = \"\"\n",
    "else:\n",
    "    norm_str = \"_norm\"\n",
    "\n",
    "if is_fit:\n",
    "    fit_str = \"_fit\"\n",
    "else:\n",
    "    fit_str = \"\"\n",
    "    \n",
    "np.set_printoptions(linewidth=100, formatter={'int':lambda x: \"{:2d}\".format(x), 'float':lambda x: \"{:.2f}\".format(x)})\n",
    "for feature_name in feature_names:\n",
    "    print feature_name\n",
    "    feature = (phenotype_df[feature_name].values)\n",
    "    feature_mask = ~np.isnan(feature)\n",
    "    cur = data[feature_mask]\n",
    "    feature = feature[~np.isnan(feature)].astype('int')\n",
    "    #print np.nan_to_num(phenotype_df[feature_name].values, 9).astype('int'), 'source'\n",
    "    #print feature, 'input', 'std =', \"{:.2f}\".format(np.std(feature)), 'iqr =', \"{:.2f}\".format(scipy.stats.iqr(feature, rng=(5, 95)) / 2)\n",
    "    model_names = []\n",
    "    fig, axes = plt.subplots(3, len(clfs), figsize = (len(clfs) * 5, 15))\n",
    "    fig.subplots_adjust(wspace=0.2, hspace=0.5)\n",
    "    fig.subplots_adjust(bottom=0.1, top=0.9, left=0.05, right=0.95)\n",
    "    for i, clf in enumerate(clfs):\n",
    "        scores = np.zeros((data.shape[1], ))\n",
    "        if type(clf) is str:\n",
    "            model_name = clf\n",
    "        else:\n",
    "            model_name = type(clf).__name__\n",
    "        print model_name\n",
    "        model_names.append(model_name)        \n",
    "\n",
    "        for j in tqdm(range(data.shape[1])):\n",
    "            scores[j], _ = input_feature_assessment_regr(cur[:, j].reshape(-1, 1), feature, clf)\n",
    "            \n",
    "        ids = np.argsort(scores) #[::-1]\n",
    "        #subset_scores = np.zeros((data.shape[0], ))\n",
    "        #print scores[ids[:len(subset_scores)]]\n",
    "        #for j in range(len(subset_scores)):\n",
    "        #    subset_scores[j], _ = input_feature_assessment_regr(cur[:, ids[:j + 1]], feature, clf)\n",
    "        #print subset_scores\n",
    "        #plt.plot(range(len(subset_scores)), subset_scores)\n",
    "        lines = [0] * 3\n",
    "        for j in range(3):\n",
    "            tid = ids[j]\n",
    "            ax = axes[j, i]\n",
    "            u, v = cur[:, tid], feature\n",
    "            \n",
    "            score, p = input_feature_assessment_regr(u.reshape(-1, 1), feature, clf)\n",
    "            u, v, p = u.flatten(), v.flatten(), p.flatten()\n",
    "            \n",
    "            #xx, yy = make_meshgrid(u, v)\n",
    "            #plot_contours(ax, clf, xx, yy, cmap=plt.cm.coolwarm, alpha=0.8)\n",
    "            title_name = (model_name + '\\n' if j == 0 else '') + ' score = ' + \"{:0.2g}\".format(score)\n",
    "            plot_cpg_per_phenotype(data_full, v, p, tid, feature_mask, is_fit = is_fit, title_name = title_name)\n",
    "    #plt.show()\n",
    "    #break\n",
    "    \n",
    "    fig.suptitle(feature_name, fontsize = 2 * fontsize)\n",
    "    fig.legend(lines, ['Down', 'Siblings', 'Mothers'], framealpha=0.9, fontsize=30, #bbox_to_anchor=(0., 1.02, 1., .102), \n",
    "               loc=3,\n",
    "           ncol=3, mode=\"expand\", borderaxespad=0., handletextpad=0.3, scatterpoints=3)\n",
    "    \n",
    "    #plot_url = py.plot_mpl(fig)\n",
    "    \n",
    "    feature_name = re.sub(\"[^\\d^\\w^\\.]\", \"_\", feature_name)\n",
    "    regressions_path = config.ofname([[\"down_phenotypes\"], [\"regressions\" + fit_str + norm_str + \"_rand\"], [feature_name]], ext = \".pdf\", \n",
    "                                     include_set = config.params_sets[\"down_phenotypes\"])\n",
    "    print regressions_path\n",
    "    plt.savefig(regressions_path)\n",
    "    \n",
    "    regressions_path = config.ofname([[\"down_phenotypes\"], [\"regressions\" + fit_str + norm_str + \"_rand\"], [feature_name]], ext = \".png\", \n",
    "                                     include_set = config.params_sets[\"down_phenotypes\"])\n",
    "    plt.savefig(regressions_path)\n",
    "    \n",
    "    regressions_path = config.ofname([[\"down_phenotypes\"], [\"regressions\" + fit_str + norm_str + \"_rand\"], [feature_name]], ext = \".svg\", \n",
    "                                     include_set = config.params_sets[\"down_phenotypes\"])\n",
    "    plt.savefig(regressions_path)\n",
    "    \n",
    "    plt.close(fig)\n",
    "    #break\n",
    "    #break\n",
    "    #val = float(np.bincount(feature).max()) / len(feature)\n",
    "    #val = np.mean(np.abs(feature - np.median(feature)))\n",
    "    #plt.plot([0, len(subset_scores)], [val, val])\n",
    "        \n",
    "        #break\n",
    "    #plt.legend(model_names)\n",
    "    #plt.show()\n",
    "    #break"
   ]
  },
  {
   "cell_type": "code",
   "execution_count": 239,
   "metadata": {},
   "outputs": [
    {
     "ename": "NameError",
     "evalue": "name 'sdfdf' is not defined",
     "output_type": "error",
     "traceback": [
      "\u001b[0;31m---------------------------------------------------------------------------\u001b[0m",
      "\u001b[0;31mNameError\u001b[0m                                 Traceback (most recent call last)",
      "\u001b[0;32m<ipython-input-239-afb33d188432>\u001b[0m in \u001b[0;36m<module>\u001b[0;34m()\u001b[0m\n\u001b[1;32m     54\u001b[0m     \u001b[0mcid\u001b[0m \u001b[1;33m=\u001b[0m \u001b[0mnp\u001b[0m\u001b[1;33m.\u001b[0m\u001b[0mnonzero\u001b[0m\u001b[1;33m(\u001b[0m\u001b[0mcpgs_names\u001b[0m \u001b[1;33m==\u001b[0m \u001b[0mname\u001b[0m\u001b[1;33m)\u001b[0m\u001b[1;33m\u001b[0m\u001b[0m\n\u001b[1;32m     55\u001b[0m     \u001b[1;32mreturn\u001b[0m \u001b[0mcid\u001b[0m\u001b[1;33m[\u001b[0m\u001b[1;36m0\u001b[0m\u001b[1;33m]\u001b[0m\u001b[1;33m[\u001b[0m\u001b[1;36m0\u001b[0m\u001b[1;33m]\u001b[0m\u001b[1;33m\u001b[0m\u001b[0m\n\u001b[0;32m---> 56\u001b[0;31m \u001b[0msdfdf\u001b[0m\u001b[1;33m\u001b[0m\u001b[0m\n\u001b[0m\u001b[1;32m     57\u001b[0m \u001b[1;33m\u001b[0m\u001b[0m\n\u001b[1;32m     58\u001b[0m \u001b[0mdata\u001b[0m \u001b[1;33m=\u001b[0m \u001b[0mnp\u001b[0m\u001b[1;33m.\u001b[0m\u001b[0marray\u001b[0m\u001b[1;33m(\u001b[0m\u001b[0mX\u001b[0m\u001b[1;33m)\u001b[0m\u001b[1;33m\u001b[0m\u001b[0m\n",
      "\u001b[0;31mNameError\u001b[0m: name 'sdfdf' is not defined"
     ]
    }
   ],
   "source": [
    "fontsize = 25\n",
    "fontname = \"Proxima Nova Rg\"\n",
    "\n",
    "def plot_cpg_per_phenotype(data_full, v, p, tid, feature_mask, is_fit = True, title_name = None, feature_name = None):\n",
    "    import scipy.stats as stats\n",
    "    u = data_full[config.params[\"mongoloids_mask\"].value, tid]\n",
    "    u = u[feature_mask]\n",
    "    if is_fit and len(p) > 0:\n",
    "        ids_x = np.argsort(u)\n",
    "        ax.plot(u[ids_x], p[ids_x], c = '#4285F4', linewidth = 3)\n",
    "    \n",
    "    lines[0] = ax.scatter(u, v, s = 80, c = '#EA4335', alpha = 0.8)\n",
    "    K = 4\n",
    "    x = data_full[:, tid]\n",
    "    \n",
    "    delta = x.ptp() * 0.01\n",
    "    x = np.linspace(x.min() - delta, x.max() + delta, 1000)\n",
    "    \n",
    "    delta_y = v.ptp() * 0.2\n",
    "    \n",
    "    density = stats.gaussian_kde(u)\n",
    "    y = density(x) / K\n",
    "    #ax.plot(x, y, c = '#EA4335')\n",
    "    #lines[2] = ax.fill_between(x, 0, y, color = '#EA4335',alpha=.3)\n",
    "    \n",
    "    u = data_full[config.params[\"siblings_mask\"].value, tid]\n",
    "    density = stats.gaussian_kde(u)\n",
    "    y = density(x) / K\n",
    "    #ax.plot(x, y, c = '#34A853')\n",
    "    #lines[1] = ax.fill_between(x, 0, y, color = '#34A853', alpha=.3)\n",
    "\n",
    "    #ax.hist(u, bins = np.linspace(u.min(), u.max(), 4), color = '#34A853', alpha = 0.5)\n",
    "    lines[1] = ax.scatter(u, -1 * delta_y + (np.random.rand(len(u), 1) - 0.5) * delta_y / 3, s = 80, c = '#34A853', alpha = 0.8)\n",
    "    u = data_full[config.params[\"mothers_mask\"].value, tid]\n",
    "    density = stats.gaussian_kde(u)\n",
    "    y = density(x) / K\n",
    "    #ax.plot(x, y, c = '#4285F4')\n",
    "    #lines[2] = ax.fill_between(x, 0, y, color = '#4285F4',alpha=.3)\n",
    "    #ax.hist(u, bins = np.linspace(u.min(), u.max(), 4), color = '#4285F4', alpha = 0.5)\n",
    "    lines[2] = ax.scatter(u, -2 * delta_y + (np.random.rand(len(u), 1) - 0.5) * delta_y / 3, s = 80, c = '#4285F4', alpha = 0.8)\n",
    "\n",
    "    if not title_name is None:\n",
    "        ax.set_title(title_name, fontsize = fontsize, fontname=fontname)\n",
    "    ax.set_xlabel(cpgs_names[tid], fontsize = fontsize, fontname=fontname)\n",
    "    if not feature_name is None:\n",
    "        ax.set_ylabel(feature_name, fontsize = fontsize, fontname=fontname)\n",
    "    ax.xaxis.set_major_locator(plt.MaxNLocator(4, steps = [1,2,3,4,5,6,7,8,9,10]))\n",
    "    plt.xticks(fontsize=fontsize, fontname=fontname)\n",
    "    plt.yticks(fontsize=fontsize, fontname=fontname)\n",
    "    #ax.set(xlim=(x.min(), x.max()), ylim = (0, None))\n",
    "    #ax.set_frame_on(True)\n",
    "\n",
    "def cpgname(name):\n",
    "    cid = np.nonzero(cpgs_names == name)\n",
    "    return cid[0][0]\n",
    "sdfdf\n",
    "\n",
    "data = np.array(X)\n",
    "data_full = stats.zscore(data)\n",
    "data = data_full[config.params[\"mongoloids_mask\"].value]\n",
    "\n",
    "data_full = np.array(X)\n",
    "\n",
    "feature_name = 'F.A.B.'\n",
    "model_name = 'Линейная регрессия'\n",
    "clf = clfs[2]\n",
    "tid = cpgname(\"cg00731253\") + 1\n",
    "\n",
    "\n",
    "feature_name = 'qip'\n",
    "model_name = 'SVR'\n",
    "clf = clfs[3]\n",
    "tid = cpgname(\"cg20180825\") + 1\n",
    "\n",
    "\n",
    "feature = (phenotype_df[feature_name].values)\n",
    "feature_mask = ~np.isnan(feature)\n",
    "cur = data[feature_mask]\n",
    "feature = feature[~np.isnan(feature)].astype('int')\n",
    "\n",
    "with plt.style.context(\"seaborn-whitegrid\"):\n",
    "    fig = plt.figure(figsize = (8, 6))\n",
    "    ax = plt.gca()\n",
    "    u, v = cur[:, tid], feature\n",
    "\n",
    "    _, p = input_feature_assessment_regr(u.reshape(-1, 1), feature, clf)\n",
    "    u, v, p = u.flatten(), v.flatten(), p.flatten()\n",
    "\n",
    "    #xx, yy = make_meshgrid(u, v)\n",
    "    #plot_contours(ax, clf, xx, yy, cmap=plt.cm.coolwarm, alpha=0.8)\n",
    "\n",
    "    plot_cpg_per_phenotype(data_full, v, p, tid, feature_mask, is_fit = is_fit, feature_name = feature_name) #, title_name = model_name\n",
    "    #fig.subplots_adjust(wspace=0.2, hspace=0.5)\n",
    "    fig.subplots_adjust(bottom=0.3, top=0.95, left=0.15, right=0.95)\n",
    "    l = fig.legend(lines, [u'DS', u'Siblings', u'Mothers'], framealpha=0.9, fontsize=28, #bbox_to_anchor=(0., 1.02, 1., .102), \n",
    "                   loc=3,\n",
    "               ncol=3, mode=\"expand\", \n",
    "               borderaxespad=0, handletextpad=0.3, scatterpoints=3)\n",
    "    plt.setp(l.texts, family=fontname)\n",
    "    #plt.savefig('\\\\\\\\buddha\\In\\FAB_LR.png')\n",
    "    #plt.savefig('\\\\\\\\buddha\\In\\FAB_LR.svg', transparent=True)\n",
    "    \n",
    "    plt.savefig('\\\\\\\\buddha\\In\\qip_SVR.png')\n",
    "    plt.savefig('\\\\\\\\buddha\\In\\qip_SVR.svg', transparent=True)"
   ]
  },
  {
   "cell_type": "code",
   "execution_count": 199,
   "metadata": {},
   "outputs": [
    {
     "name": "stdout",
     "output_type": "stream",
     "text": [
      "29023 428614 cg01459453 cg25771195\n",
      "(87L, 2L)\n"
     ]
    },
    {
     "data": {
      "image/png": "[encoded data removed]",
      "text/plain": [
       "<Figure size 576x432 with 1 Axes>"
      ]
     },
     "metadata": {},
     "output_type": "display_data"
    }
   ],
   "source": [
    "fontsize = 28\n",
    "fontname = \"Proxima Nova Rg\"\n",
    "\n",
    "def scater_down_syndrome(fig, ax, xu, xv, Y, gene_name_u, gene_name_v):\n",
    "    labels = ['DS', 'Siblings', 'Mothers']\n",
    "    colors = plt.rcParams['axes.prop_cycle'].by_key()['color']\n",
    "    ax.set_prop_cycle('color', [colors[0], colors[5], colors[1]])\n",
    "\n",
    "    for c in [0, 1, 2]:\n",
    "        ax.scatter(xu[Y == c], xv[Y == c], 200, label = labels[c], alpha=0.7)\n",
    "    \n",
    "    #for j in range(len(xu)):\n",
    "    #    ax.text(xu[j], xv[j], str(j), horizontalalignment='center', verticalalignment='center', fontsize = 15)\n",
    "\n",
    "    l = fig.legend(framealpha=0.9, fontsize=fontsize, loc=3, # bbox_to_anchor=(0., 1.02, 1., .102), \n",
    "           ncol=3, mode=\"expand\", borderaxespad=0., handletextpad=0.3, scatterpoints=3)    \n",
    "    plt.setp(l.texts, family=fontname)\n",
    "\n",
    "    \n",
    "    mean_p = []\n",
    "    for c in [0, 1, 2]:\n",
    "        mean_p.append([xu[Y == c].mean(), xv[Y == c].mean()])\n",
    "    for c in [0, 1]:\n",
    "        #plt.arrow(mean_p[2][0], mean_p[2][1], mean_p[c][0] - mean_p[2][0], mean_p[c][1] - mean_p[2][1], color = 'k')\n",
    "        ax.annotate(\"\", xy=(mean_p[c][0], mean_p[c][1]), xycoords='data', xytext=(mean_p[2][0], mean_p[2][1]),  textcoords='data', arrowprops=dict(shrink = 4,facecolor='black'), fontsize=20)\n",
    "\n",
    "    #k = (mean_p[0][1] - mean_p[2][1]) / (mean_p[0][0] - mean_p[2][0])\n",
    "    #if abs(k) > k_thr or abs(k) < 1.0 / k_thr:\n",
    "    #    continue\n",
    "    #s = \"k = {:0.2e}\".format(k)\n",
    "    #plt.text(0.17, 0.95, s, horizontalalignment='center', verticalalignment='center', transform = ax.transAxes, fontsize = 50)\n",
    "\n",
    "    ax.set_xlabel(gene_name_u, fontsize=fontsize, fontname = fontname)\n",
    "    ax.set_ylabel(gene_name_v, fontsize=fontsize, fontname = fontname)\n",
    "    fig.subplots_adjust(bottom=0.3, top=0.95, left=0.2, right=0.9)\n",
    "    plt.xticks(fontsize=25, fontname=fontname)\n",
    "    plt.yticks(fontsize=25, fontname=fontname)   \n",
    "    \n",
    "\n",
    "def genes_pair_plot(X, y, vertices, edges, genes_names):\n",
    "    #edges = np.concatenate((edges, np.array([edges[:, 1], edges[:, 0]]).T))\n",
    "    \n",
    "    import seaborn\n",
    "    #seaborn.set_style('darkgrid', {'legend.frameon':True})\n",
    "    seaborn.set_style('whitegrid')\n",
    "    \n",
    "    config.params[\"id_pair\"] = param(value_be = 0, value_en = len(edges) - 1, num_ticks = len(edges), name = 'id_pair', manual_ticks = True)\n",
    "    y = y.flatten()\n",
    "    pu = -1\n",
    "    k_thr = 3\n",
    "    \n",
    "    for i, e in enumerate(edges):\n",
    "        config.params[\"id_pair\"].set_tick(i)\n",
    "        fig = plt.figure(figsize=(8, 6))\n",
    "        ax = plt.gca()\n",
    "        #fig.set_visible(not fig.get_visible())\n",
    "        \n",
    "        \n",
    "        u = vertices[e[0]]\n",
    "        v = vertices[e[1]]\n",
    "        print u, v, genes_names[u], genes_names[v]\n",
    "        xu = X[:, u]\n",
    "        xv = X[:, v]\n",
    "        \n",
    "        #xu = (xu - xu.mean()) / xu.std()\n",
    "        #xv = (xv - xv.mean()) / xv.std()\n",
    "        \n",
    "        #mothers_mask = config.params[\"mothers_mask\"].value\n",
    "        #mongoloids_mask = config.params[\"mongoloids_mask\"].value\n",
    "        data = np.array([xu, xv]).astype('float32').T\n",
    "        print data.shape\n",
    "        \n",
    "        scater_down_syndrome(fig, ax, xu, xv, y, genes_names[u], genes_names[v])\n",
    "        #plt.ylim([0, 0.06])\n",
    "        #pair_genes_path = config.ofname([[\"kdes\", genes_names[u], genes_names[v]]], ext = \".png\", include_set = config.params_sets[\"kdes\"])\n",
    "        #print pair_genes_path\n",
    "        \n",
    "        file_name = \"\\\\\\\\buddha\\\\In\\\\\" + \"cpgs_\" + genes_names[u] + \"_\" + genes_names[v]\n",
    "        plt.savefig(file_name + \".svg\")\n",
    "        plt.savefig(file_name + \".png\")\n",
    "        break\n",
    "        #plt.close(fig)\n",
    "\n",
    "vertices = [cpgname(\"cg05365729\"), cpgname(\"cg04452713\"), cpgname(\"cg01459453\"), cpgname(\"cg25771195\")] #cg25809905 cg09809672 cg26372517\n",
    "edges = [[2, 3], [0, 1]]\n",
    "genes_pair_plot(X, y, vertices, edges, cpgs_names)"
   ]
  },
  {
   "cell_type": "code",
   "execution_count": 165,
   "metadata": {},
   "outputs": [
    {
     "ename": "NameError",
     "evalue": "name 'pair_genes_path' is not defined",
     "output_type": "error",
     "traceback": [
      "\u001b[0;31m---------------------------------------------------------------------------\u001b[0m",
      "\u001b[0;31mNameError\u001b[0m                                 Traceback (most recent call last)",
      "\u001b[0;32m<ipython-input-165-1e3847191714>\u001b[0m in \u001b[0;36m<module>\u001b[0;34m()\u001b[0m\n\u001b[0;32m----> 1\u001b[0;31m \u001b[1;32mprint\u001b[0m \u001b[0mpair_genes_path\u001b[0m\u001b[1;33m\u001b[0m\u001b[0m\n\u001b[0m",
      "\u001b[0;31mNameError\u001b[0m: name 'pair_genes_path' is not defined"
     ]
    }
   ],
   "source": []
  },
  {
   "cell_type": "code",
   "execution_count": null,
   "metadata": {
    "collapsed": true
   },
   "outputs": [],
   "source": []
  },
  {
   "cell_type": "code",
   "execution_count": 35,
   "metadata": {
    "scrolled": false
   },
   "outputs": [
    {
     "name": "stdout",
     "output_type": "stream",
     "text": [
      "-1.7247499 1.4657556\n",
      "(25L,) (25L,)\n",
      "[False False False  True False False False False False False  True False  True False  True  True\n",
      " False False False False False False False False False]\n"
     ]
    },
    {
     "data": {
      "text/plain": [
       "array([ 0,  0,  1,  0,  0])"
      ]
     },
     "execution_count": 35,
     "metadata": {},
     "output_type": "execute_result"
    }
   ],
   "source": [
    "data = cur[:, j].reshape(-1, 1)\n",
    "num_groups = 5\n",
    "bins = np.array(np.percentile(data, np.linspace(0, 100, num_groups + 1)))\n",
    "print data.min(), data.max()\n",
    "classes = np.minimum(np.digitize(data, bins), num_groups) - 1\n",
    "classes = classes.flatten()\n",
    "print feature.shape, classes.shape\n",
    "print classes == 0\n",
    "feature[classes == 0]"
   ]
  },
  {
   "cell_type": "code",
   "execution_count": 76,
   "metadata": {},
   "outputs": [
    {
     "name": "stdout",
     "output_type": "stream",
     "text": [
      "F:\\PC\\UNN\\Scientific\\Gerontology\\data\\GSE52588\\params\\num_genes_15024\\down_phenotypes\\regressions_fit.png\n"
     ]
    }
   ],
   "source": [
    "from configurations.config_down_GSE52588 import config\n",
    "regressions_path = config.ofname([[\"down_phenotypes\"], [\"regressions_fit\"]], ext = \".png\", \n",
    "                                 include_set = config.params_sets[\"down_phenotypes\"])\n",
    "print regressions_path"
   ]
  },
  {
   "cell_type": "code",
   "execution_count": 36,
   "metadata": {
    "scrolled": true
   },
   "outputs": [
    {
     "name": "stdout",
     "output_type": "stream",
     "text": [
      "(29L, 1L) (29L,) (29L, 1L)\n",
      "[[ 0]\n",
      " [ 0]\n",
      " [ 0]\n",
      " [ 0]\n",
      " [ 0]\n",
      " [ 0]\n",
      " [ 0]\n",
      " [ 0]\n",
      " [ 0]\n",
      " [ 0]\n",
      " [ 0]\n",
      " [ 0]\n",
      " [ 0]\n",
      " [ 0]\n",
      " [ 0]\n",
      " [ 0]\n",
      " [ 0]\n",
      " [ 0]\n",
      " [ 0]\n",
      " [ 0]\n",
      " [ 0]\n",
      " [ 0]\n",
      " [ 0]\n",
      " [ 0]\n",
      " [ 0]\n",
      " [ 0]\n",
      " [ 0]\n",
      " [ 0]\n",
      " [ 0]]\n",
      "(29L,)\n",
      "[0.24 -0.16 -0.68 -0.31 1.12 0.21 1.22 0.97 0.47 0.67 -0.09 1.23 0.35 0.99 1.52 -0.00 0.44 0.82 0.92\n",
      " 2.47 -0.19 1.27 0.48 1.17 0.82 1.28 0.07 0.23 0.49]\n",
      "[[0.24]\n",
      " [0.24]\n",
      " [0.24]\n",
      " [0.24]\n",
      " [0.24]\n",
      " [0.24]\n",
      " [0.24]\n",
      " [0.24]\n",
      " [0.24]\n",
      " [0.24]\n",
      " [0.24]\n",
      " [0.24]\n",
      " [0.24]\n",
      " [0.24]\n",
      " [0.24]\n",
      " [0.24]\n",
      " [0.24]\n",
      " [0.24]\n",
      " [0.24]\n",
      " [0.24]\n",
      " [0.24]\n",
      " [0.24]\n",
      " [0.24]\n",
      " [0.24]\n",
      " [0.24]\n",
      " [0.24]\n",
      " [0.24]\n",
      " [0.24]\n",
      " [0.24]]\n"
     ]
    }
   ],
   "source": [
    "print u.shape, v.shape, ids.shape\n",
    "print ids\n",
    "print p.shape\n",
    "print p\n",
    "print p.flatten()[ids]"
   ]
  },
  {
   "cell_type": "code",
   "execution_count": 67,
   "metadata": {},
   "outputs": [
    {
     "name": "stdout",
     "output_type": "stream",
     "text": [
      "(28L, 1L) (28L,)\n",
      "(28L, 2L) (28L,)\n"
     ]
    },
    {
     "data": {
      "text/plain": [
       "2.5357142857142856"
      ]
     },
     "execution_count": 67,
     "metadata": {},
     "output_type": "execute_result"
    }
   ],
   "source": [
    "input_feature_assessment(cur[:, ids[:1]], feature, clf)\n",
    "input_feature_assessment(cur[:, ids[:2]], feature, clf)"
   ]
  },
  {
   "cell_type": "code",
   "execution_count": 29,
   "metadata": {},
   "outputs": [
    {
     "data": {
      "text/plain": [
       "' 2'"
      ]
     },
     "execution_count": 29,
     "metadata": {},
     "output_type": "execute_result"
    }
   ],
   "source": [
    "\"{:2d}\".format(2)"
   ]
  },
  {
   "cell_type": "code",
   "execution_count": 113,
   "metadata": {},
   "outputs": [
    {
     "data": {
      "text/plain": [
       "['accuracy',\n",
       " 'adjusted_mutual_info_score',\n",
       " 'adjusted_rand_score',\n",
       " 'average_precision',\n",
       " 'balanced_accuracy',\n",
       " 'brier_score_loss',\n",
       " 'completeness_score',\n",
       " 'explained_variance',\n",
       " 'f1',\n",
       " 'f1_macro',\n",
       " 'f1_micro',\n",
       " 'f1_samples',\n",
       " 'f1_weighted',\n",
       " 'fowlkes_mallows_score',\n",
       " 'homogeneity_score',\n",
       " 'mutual_info_score',\n",
       " 'neg_log_loss',\n",
       " 'neg_mean_absolute_error',\n",
       " 'neg_mean_squared_error',\n",
       " 'neg_mean_squared_log_error',\n",
       " 'neg_median_absolute_error',\n",
       " 'normalized_mutual_info_score',\n",
       " 'precision',\n",
       " 'precision_macro',\n",
       " 'precision_micro',\n",
       " 'precision_samples',\n",
       " 'precision_weighted',\n",
       " 'r2',\n",
       " 'recall',\n",
       " 'recall_macro',\n",
       " 'recall_micro',\n",
       " 'recall_samples',\n",
       " 'recall_weighted',\n",
       " 'roc_auc',\n",
       " 'v_measure_score']"
      ]
     },
     "execution_count": 113,
     "metadata": {},
     "output_type": "execute_result"
    }
   ],
   "source": [
    "import sklearn\n",
    "sorted(sklearn.metrics.SCORERS.keys())"
   ]
  },
  {
   "cell_type": "code",
   "execution_count": 4,
   "metadata": {
    "collapsed": true
   },
   "outputs": [],
   "source": []
  },
  {
   "cell_type": "code",
   "execution_count": 44,
   "metadata": {},
   "outputs": [
    {
     "name": "stdout",
     "output_type": "stream",
     "text": [
      "(29L, 15024L)\n",
      "categoriaDSQIID\n",
      "[ 0  0  0  0  1  0  0  0  0  0  0  0  0  0  1  0  0  1  0  1  0  1  0  0  1  0  0  0  0] good\n",
      "[ 0  0  0  0  1  0  0  0  0  0  0  0  0  0  1  0  0  1  0  1  0  1  0  0  1  0  0  0  0] 0.76 0.79 1.00 SVC\n",
      "[ 0  0  0  0  0  0  0  0  0  0  0  0  0  0  0  0  0  0  0  1  0  1  0  0  0  0  0  0  0] 0.68 0.79 0.86 KNeighborsClassifier\n",
      "[ 0  0  0  0  1  0  0  0  0  0  0  0  0  0  1  0  0  1  0  1  0  1  0  0  1  0  0  0  0] 0.18 0.79 1.00 LinearSVC\n",
      "[ 0  0  0  0  0  0  0  0  0  0  0  0  0  0  1  0  0  1  0  1  0  1  0  0  1  0  0  0  0] 0.80 0.79 0.97 RandomForestClassifier\n",
      "fluenzaverbale\n",
      "[ 0  1  1  0  1  1  0  0  0  1  0  1  1  2  0  0  1  0  2  0  0  0  0  0  2] good\n",
      "[ 0  1  1  0  1  1  0  0  0  1  0  1  0  2  0  0  1  0  2  0  0  0  0  0  2] 0.65 0.56 0.96 SVC\n",
      "[ 0  0  1  0  0  0  0  0  0  0  0  0  0  0  0  0  1  0  0  0  0  0  0  0  2] 0.48 0.56 0.68 KNeighborsClassifier\n",
      "[ 0  1  1  0  1  1  0  0  0  1  0  1  1  2  0  0  1  0  2  0  0  0  0  0  2] 0.13 0.56 1.00 LinearSVC\n",
      "[ 0  1  1  0  1  0  0  0  0  1  0  1  0  1  0  0  1  0  2  0  0  0  0  0  2] 0.53 0.56 0.88 RandomForestClassifier\n",
      "ABCiperattivita\n",
      "[ 5  0 12  1  0  0  3  2  9  1  0  3 43  2  2  2  0  2  0  0  1  1  0  0  2  0  0  2] good\n",
      "[ 5  2 12  1  0  0  3  2  9  1  2  3 43  2  2  2  2  2  2  2  1  1  2  2  2  0  2  2] 0.28 0.39 0.71 SVC\n",
      "[ 0  0  0  0  0  0  3  0  3  0  0  2  9  1  1  2  0  2  0  0  1  0  0  0  2  0  0  0] 0.42 0.39 0.57 KNeighborsClassifier\n",
      "[ 5  0 12  1  0  0  3  2  9  1  0  3 43  2  2  2  0  2  0  0  1  1  0  0  2  0  0  2] 0.05 0.39 1.00 LinearSVC\n",
      "[ 0  0 12  1  0  0  1  2  9  1  0  3 43  2  0  2  0  0  0  0  0  1  0  0  2  0  0  2] 0.32 0.39 0.82 RandomForestClassifier\n",
      "ABCIrritabilita\n",
      "[ 0  1  5  2  0  0  0  3  0  0  0  1  8 16  0  0  0  0  0  1  6  3  4  0  0  0  0  3] good\n",
      "[ 0  1  5  2  0  0  0  3  0  0  0  1  8 16  0  0  0  0  0  1  6  3  4  0  0  0  0  3] 0.37 0.57 1.00 SVC\n",
      "[ 0  0  1  0  0  0  0  0  0  0  0  1  0  6  0  0  0  0  0  1  6  1  0  0  0  0  0  0] 0.71 0.57 0.68 KNeighborsClassifier\n",
      "[ 0  1  5  2  0  0  0  3  0  0  0  1  8 16  0  0  0  0  0  1  6  3  4  0  0  0  0  3] 0.00 0.57 1.00 LinearSVC\n",
      "[ 0  1  5  2  0  0  0  3  0  0  0  1  8 16  0  0  0  0  0  1  0  3  4  0  0  0  0  0] 0.39 0.57 0.93 RandomForestClassifier\n",
      "ABCletargia\n",
      "[17  5  0  9 27  0  2  2 10 17  6 13  0  2 14  1  6 13  0 16  0 13  0  2  0  3  1  3] good\n",
      "[17  5  0  9 27  0  0  0 10 17  6 13  0  0 14  1  6  0  0 16  0 13  0  0  0  3  1  3] 0.25 0.25 0.82 SVC\n",
      "[ 5  5  0  0  0  0  2  2  2  6  6  2  0  0 14  1  6  1  0 13  0 13  0  0  0  3  1  3] 0.45 0.25 0.64 KNeighborsClassifier\n",
      "[17  5  0  9 27  0  2  2 10 17  6 13  0  2 14  1  6 13  0 16  0 13  0  2  0  3  1  3] 0.04 0.25 1.00 LinearSVC\n",
      "[17  5  5  9 27  0  2  2 10  2  6 13  0  2 14  1  6 13  0 16  0 13  0  2  0  0  0  3] 0.33 0.25 0.86 RandomForestClassifier\n",
      "ABCstereotipie\n",
      "[10  0  2  3 11  0  8  0  2  8  4  0  4  2  0  2  0  3  0  5  6  9  3  0  0  0  0  1] good\n",
      "[10  0  0  3 11  0  8  0  0  8  4  0  4  0  0  0  0  3  0  5  6  9  3  0  0  0  0  1] 0.51 0.39 0.86 SVC\n",
      "[ 0  0  0  0  0  0  2  0  2  4  4  0  2  2  0  2  0  2  0  5  4  5  0  0  0  0  0  0] 0.40 0.39 0.57 KNeighborsClassifier\n",
      "[10  0  2  3 11  0  8  0  2  8  4  0  4  2  0  2  0  3  0  5  6  9  3  0  0  0  0  1] 0.00 0.39 1.00 LinearSVC\n",
      "[10  0  2  3 11  0  8  0  2  8  4  0  4  2  0  2  0  3  0  5  0  0  3  0  0  0  0  0] 0.23 0.39 0.89 RandomForestClassifier\n",
      "ABCinappropriatespeech\n",
      "[ 2  4  2  3  6  0  2  2  4  5  4  3  9  5  0  2  7  3  5  0  3  3  5  1  1  3  4  6] good\n",
      "[ 2  4  2  3  6  0  2  2  4  5  4  3  9  5  0  2  7  5  5  0  3  3  5  1  1  3  4  6] 0.10 0.21 0.96 SVC\n",
      "[ 2  2  2  0  0  0  2  2  2  4  4  2  4  3  0  2  4  2  1  0  3  0  1  1  1  3  3  6] 0.19 0.21 0.50 KNeighborsClassifier\n",
      "[ 2  4  2  3  6  0  2  2  4  5  4  3  9  5  0  2  7  3  5  0  3  3  5  1  1  3  4  6] 0.03 0.21 1.00 LinearSVC\n",
      "[ 2  4  2  3  6  0  2  0  4  5  4  3  9  5  0  2  4  3  5  5  3  3  4  1  1  3  3  6] 0.07 0.21 0.82 RandomForestClassifier\n",
      "fluenzafonemica\n",
      "[ 0  9  3  8  3 19  9  6  0  5  7  2  9  0  0 14  0  8  0  7  3 20  0  6  9  0  6 20] good\n",
      "[ 0  9  3  8  3 19  9  6  0  5  7  2  9  0  0 14  0  8  0  7  3 20  0  6  6  0  6 20] 0.29 0.29 0.96 SVC\n",
      "[ 0  0  3  8  3  3  0  6  0  5  5  2  0  0  0  0  0  6  0  7  0  6  0  6  0  0  0 14] 0.22 0.29 0.57 KNeighborsClassifier\n",
      "[ 0  9  3  8  3 19  9  6  0  5  7  2  9  0  0 14  0  8  0  7  3 20  0  6  9  0  6 20] 0.00 0.29 1.00 LinearSVC\n",
      "[ 0  9  3  3  3  2  9  6  0  5  7  2  9  0  0 14  0  8  0  7  3 20  0  6  9  0  0  9] 0.18 0.29 0.86 RandomForestClassifier\n",
      "F.A.B.\n"
     ]
    }
   ],
   "source": [
    "from sklearn import svm, datasets\n",
    "from scipy import stats\n",
    "from sklearn import neighbors, ensemble\n",
    "from sklearn.model_selection import cross_val_score\n",
    "\n",
    "data = np.array(X)\n",
    "data = data[:29, :]\n",
    "print data.shape\n",
    "#data = data[:29].values\n",
    "data = stats.zscore(data)\n",
    "\n",
    "np.set_printoptions(linewidth=100, formatter={'int':lambda x: \"{:2d}\".format(x), 'float':lambda x: \"{:.2f}\".format(x)})\n",
    "feature_names = [\"categoriaDSQIID\", \"fluenzaverbale\",\"ABCiperattivita\", \"ABCIrritabilita\", \"ABCletargia\", \"ABCstereotipie\", \"ABCinappropriatespeech\", \"fluenzafonemica\", \"F.A.B.\"]\n",
    "for feature_name in feature_names:\n",
    "    print feature_name\n",
    "    feature = (phenotype_df[feature_name].values)\n",
    "    cur = data[~np.isnan(feature)]\n",
    "    feature = feature[~np.isnan(feature)].astype('int')\n",
    "    if (feature == 0).sum() < 3:\n",
    "        continue\n",
    "    \n",
    "    print feature, 'good'\n",
    "    clfs = [svm.SVC(kernel = 'rbf', C = 1, class_weight = \"balanced\"), \n",
    "            neighbors.KNeighborsClassifier(n_neighbors = 2),\n",
    "            svm.LinearSVC(C = 1, class_weight = \"balanced\"),\n",
    "            ensemble.RandomForestClassifier(n_estimators = 4)]\n",
    "\n",
    "    for clf in clfs:\n",
    "        score = cross_val_score(clf, cur, feature, cv=5).mean()\n",
    "        clf.fit(cur, feature)\n",
    "        predicted = clf.predict(cur)\n",
    "        score2 = clf.score(cur, feature)\n",
    "        val = float(np.bincount(feature).max()) / len(feature)\n",
    "        print predicted, \"{:.2f}\".format(score), \"{:.2f}\".format(val), \"{:.2f}\".format(score2), type(clf).__name__\n",
    "        \n",
    "    #break"
   ]
  },
  {
   "cell_type": "code",
   "execution_count": 24,
   "metadata": {},
   "outputs": [
    {
     "name": "stderr",
     "output_type": "stream",
     "text": [
      "100%|██████████| 100/100 [01:40<00:00,  1.00s/it]\n"
     ]
    }
   ],
   "source": [
    "import time\n",
    "from tqdm import tqdm\n",
    "for i in tqdm(range(100)):\n",
    "    time.sleep(1)"
   ]
  },
  {
   "cell_type": "code",
   "execution_count": 18,
   "metadata": {},
   "outputs": [
    {
     "data": {
      "image/png": "[encoded data removed]",
      "text/plain": [
       "<Figure size 432x288 with 1 Axes>"
      ]
     },
     "metadata": {},
     "output_type": "display_data"
    }
   ],
   "source": [
    "#py.sign_in('mike_live', 'rfHatoUPaLpzIMHQJKYK')\n",
    "\n",
    "plt.scatter(np.random.rand(10, 1), np.random.rand(10, 1))\n",
    "\n",
    "np.savez('tmp.npz', fig = plt.gcf())\n",
    "#plot_url = py.plot_mpl(plt.gcf())\n",
    "\n",
    "import pickle\n",
    "pickle.dump(plt.gcf(), open('FigureObject.fig.pickle', 'wb'))"
   ]
  },
  {
   "cell_type": "code",
   "execution_count": 19,
   "metadata": {},
   "outputs": [
    {
     "ename": "AttributeError",
     "evalue": "'module' object has no attribute 'new_figure_manager_given_figure'",
     "output_type": "error",
     "traceback": [
      "\u001b[0;31m---------------------------------------------------------------------------\u001b[0m",
      "\u001b[0;31mAttributeError\u001b[0m                            Traceback (most recent call last)",
      "\u001b[0;32m<ipython-input-19-144549b50d5b>\u001b[0m in \u001b[0;36m<module>\u001b[0;34m()\u001b[0m\n\u001b[1;32m      1\u001b[0m \u001b[1;32mimport\u001b[0m \u001b[0mpickle\u001b[0m\u001b[1;33m\u001b[0m\u001b[0m\n\u001b[0;32m----> 2\u001b[0;31m \u001b[0mfigx\u001b[0m \u001b[1;33m=\u001b[0m \u001b[0mpickle\u001b[0m\u001b[1;33m.\u001b[0m\u001b[0mload\u001b[0m\u001b[1;33m(\u001b[0m\u001b[0mopen\u001b[0m\u001b[1;33m(\u001b[0m\u001b[1;34m'FigureObject.fig.pickle'\u001b[0m\u001b[1;33m,\u001b[0m \u001b[1;34m'rb'\u001b[0m\u001b[1;33m)\u001b[0m\u001b[1;33m)\u001b[0m\u001b[1;33m\u001b[0m\u001b[0m\n\u001b[0m\u001b[1;32m      3\u001b[0m \u001b[1;33m\u001b[0m\u001b[0m\n\u001b[1;32m      4\u001b[0m \u001b[0mfigx\u001b[0m\u001b[1;33m.\u001b[0m\u001b[0mshow\u001b[0m\u001b[1;33m(\u001b[0m\u001b[1;33m)\u001b[0m\u001b[1;33m\u001b[0m\u001b[0m\n",
      "\u001b[0;32mC:\\Users\\mike_live\\Anaconda2\\lib\\pickle.pyc\u001b[0m in \u001b[0;36mload\u001b[0;34m(file)\u001b[0m\n\u001b[1;32m   1382\u001b[0m \u001b[1;33m\u001b[0m\u001b[0m\n\u001b[1;32m   1383\u001b[0m \u001b[1;32mdef\u001b[0m \u001b[0mload\u001b[0m\u001b[1;33m(\u001b[0m\u001b[0mfile\u001b[0m\u001b[1;33m)\u001b[0m\u001b[1;33m:\u001b[0m\u001b[1;33m\u001b[0m\u001b[0m\n\u001b[0;32m-> 1384\u001b[0;31m     \u001b[1;32mreturn\u001b[0m \u001b[0mUnpickler\u001b[0m\u001b[1;33m(\u001b[0m\u001b[0mfile\u001b[0m\u001b[1;33m)\u001b[0m\u001b[1;33m.\u001b[0m\u001b[0mload\u001b[0m\u001b[1;33m(\u001b[0m\u001b[1;33m)\u001b[0m\u001b[1;33m\u001b[0m\u001b[0m\n\u001b[0m\u001b[1;32m   1385\u001b[0m \u001b[1;33m\u001b[0m\u001b[0m\n\u001b[1;32m   1386\u001b[0m \u001b[1;32mdef\u001b[0m \u001b[0mloads\u001b[0m\u001b[1;33m(\u001b[0m\u001b[0mstr\u001b[0m\u001b[1;33m)\u001b[0m\u001b[1;33m:\u001b[0m\u001b[1;33m\u001b[0m\u001b[0m\n",
      "\u001b[0;32mC:\\Users\\mike_live\\Anaconda2\\lib\\pickle.pyc\u001b[0m in \u001b[0;36mload\u001b[0;34m(self)\u001b[0m\n\u001b[1;32m    862\u001b[0m             \u001b[1;32mwhile\u001b[0m \u001b[1;36m1\u001b[0m\u001b[1;33m:\u001b[0m\u001b[1;33m\u001b[0m\u001b[0m\n\u001b[1;32m    863\u001b[0m                 \u001b[0mkey\u001b[0m \u001b[1;33m=\u001b[0m \u001b[0mread\u001b[0m\u001b[1;33m(\u001b[0m\u001b[1;36m1\u001b[0m\u001b[1;33m)\u001b[0m\u001b[1;33m\u001b[0m\u001b[0m\n\u001b[0;32m--> 864\u001b[0;31m                 \u001b[0mdispatch\u001b[0m\u001b[1;33m[\u001b[0m\u001b[0mkey\u001b[0m\u001b[1;33m]\u001b[0m\u001b[1;33m(\u001b[0m\u001b[0mself\u001b[0m\u001b[1;33m)\u001b[0m\u001b[1;33m\u001b[0m\u001b[0m\n\u001b[0m\u001b[1;32m    865\u001b[0m         \u001b[1;32mexcept\u001b[0m \u001b[0m_Stop\u001b[0m\u001b[1;33m,\u001b[0m \u001b[0mstopinst\u001b[0m\u001b[1;33m:\u001b[0m\u001b[1;33m\u001b[0m\u001b[0m\n\u001b[1;32m    866\u001b[0m             \u001b[1;32mreturn\u001b[0m \u001b[0mstopinst\u001b[0m\u001b[1;33m.\u001b[0m\u001b[0mvalue\u001b[0m\u001b[1;33m\u001b[0m\u001b[0m\n",
      "\u001b[0;32mC:\\Users\\mike_live\\Anaconda2\\lib\\pickle.pyc\u001b[0m in \u001b[0;36mload_build\u001b[0;34m(self)\u001b[0m\n\u001b[1;32m   1221\u001b[0m         \u001b[0msetstate\u001b[0m \u001b[1;33m=\u001b[0m \u001b[0mgetattr\u001b[0m\u001b[1;33m(\u001b[0m\u001b[0minst\u001b[0m\u001b[1;33m,\u001b[0m \u001b[1;34m\"__setstate__\"\u001b[0m\u001b[1;33m,\u001b[0m \u001b[0mNone\u001b[0m\u001b[1;33m)\u001b[0m\u001b[1;33m\u001b[0m\u001b[0m\n\u001b[1;32m   1222\u001b[0m         \u001b[1;32mif\u001b[0m \u001b[0msetstate\u001b[0m\u001b[1;33m:\u001b[0m\u001b[1;33m\u001b[0m\u001b[0m\n\u001b[0;32m-> 1223\u001b[0;31m             \u001b[0msetstate\u001b[0m\u001b[1;33m(\u001b[0m\u001b[0mstate\u001b[0m\u001b[1;33m)\u001b[0m\u001b[1;33m\u001b[0m\u001b[0m\n\u001b[0m\u001b[1;32m   1224\u001b[0m             \u001b[1;32mreturn\u001b[0m\u001b[1;33m\u001b[0m\u001b[0m\n\u001b[1;32m   1225\u001b[0m         \u001b[0mslotstate\u001b[0m \u001b[1;33m=\u001b[0m \u001b[0mNone\u001b[0m\u001b[1;33m\u001b[0m\u001b[0m\n",
      "\u001b[0;32mC:\\Users\\mike_live\\Anaconda2\\lib\\site-packages\\matplotlib\\figure.pyc\u001b[0m in \u001b[0;36m__setstate__\u001b[0;34m(self, state)\u001b[0m\n\u001b[1;32m   1902\u001b[0m             \u001b[0mallnums\u001b[0m \u001b[1;33m=\u001b[0m \u001b[0mplt\u001b[0m\u001b[1;33m.\u001b[0m\u001b[0mget_fignums\u001b[0m\u001b[1;33m(\u001b[0m\u001b[1;33m)\u001b[0m\u001b[1;33m\u001b[0m\u001b[0m\n\u001b[1;32m   1903\u001b[0m             \u001b[0mnum\u001b[0m \u001b[1;33m=\u001b[0m \u001b[0mmax\u001b[0m\u001b[1;33m(\u001b[0m\u001b[0mallnums\u001b[0m\u001b[1;33m)\u001b[0m \u001b[1;33m+\u001b[0m \u001b[1;36m1\u001b[0m \u001b[1;32mif\u001b[0m \u001b[0mallnums\u001b[0m \u001b[1;32melse\u001b[0m \u001b[1;36m1\u001b[0m\u001b[1;33m\u001b[0m\u001b[0m\n\u001b[0;32m-> 1904\u001b[0;31m             \u001b[0mmgr\u001b[0m \u001b[1;33m=\u001b[0m \u001b[0mplt\u001b[0m\u001b[1;33m.\u001b[0m\u001b[0m_backend_mod\u001b[0m\u001b[1;33m.\u001b[0m\u001b[0mnew_figure_manager_given_figure\u001b[0m\u001b[1;33m(\u001b[0m\u001b[0mnum\u001b[0m\u001b[1;33m,\u001b[0m \u001b[0mself\u001b[0m\u001b[1;33m)\u001b[0m\u001b[1;33m\u001b[0m\u001b[0m\n\u001b[0m\u001b[1;32m   1905\u001b[0m \u001b[1;33m\u001b[0m\u001b[0m\n\u001b[1;32m   1906\u001b[0m             \u001b[1;31m# XXX The following is a copy and paste from pyplot. Consider\u001b[0m\u001b[1;33m\u001b[0m\u001b[1;33m\u001b[0m\u001b[0m\n",
      "\u001b[0;31mAttributeError\u001b[0m: 'module' object has no attribute 'new_figure_manager_given_figure'"
     ]
    }
   ],
   "source": [
    "import pickle\n",
    "figx = pickle.load(open('FigureObject.fig.pickle', 'rb'))\n",
    "\n",
    "figx.show()"
   ]
  },
  {
   "cell_type": "markdown",
   "metadata": {},
   "source": [
    "# Epimutations per phenotype"
   ]
  },
  {
   "cell_type": "code",
   "execution_count": 7,
   "metadata": {
    "scrolled": false
   },
   "outputs": [
    {
     "name": "stdout",
     "output_type": "stream",
     "text": [
      "categoriaDSQIID\n",
      "fluenzaverbale\n",
      "ABCiperattivita\n",
      "ABCIrritabilita\n",
      "ABCletargia\n",
      "ABCstereotipie\n",
      "ABCinappropriatespeech\n",
      "fluenzafonemica\n",
      "F.A.B.\n"
     ]
    }
   ],
   "source": [
    "def plot_per_phenotype(x, y, label_x = '', label_y = '', title = ''):\n",
    "    plt.figure(figsize=(10, 5))\n",
    "    ax = plt.axes()\n",
    "    ax.scatter(x, y, alpha = 0.5, linewidth = 3)\n",
    "    plt.xlabel(label_x, fontsize = fontsize)\n",
    "    plt.ylabel(label_y, fontsize = fontsize)\n",
    "    plt.title(title, fontsize = 1.2 * fontsize)\n",
    "    plt.subplots_adjust(bottom=0.2, top=0.9, left=0.2, right=0.95)\n",
    "    #plt.show()\n",
    "    \n",
    "def plot_per_phenotypes(new_feature, path_pdf, label = '', title = ''):\n",
    "    feature_names = [\"categoriaDSQIID\", \"fluenzaverbale\",\"ABCiperattivita\", \"ABCIrritabilita\", \"ABCletargia\", \"ABCstereotipie\", \"ABCinappropriatespeech\", \"fluenzafonemica\", \"F.A.B.\"]\n",
    "    #feature_names = phenotype_df.columns.values\n",
    "    from matplotlib.backends.backend_pdf import PdfPages\n",
    "    \n",
    "    with PdfPages(path_pdf) as pdf:\n",
    "        for feature_name in feature_names:\n",
    "            print (feature_name)\n",
    "            feature = (phenotype_df[feature_name].values)\n",
    "            cur = new_feature[~np.isnan(feature)]\n",
    "            feature = feature[~np.isnan(feature)].astype('int')\n",
    "            plot_per_phenotype(cur, feature, label_x = label, label_y = feature_name, title = title)\n",
    "            pdf.savefig()\n",
    "            plt.close()\n",
    "            \n",
    "\n",
    "df = pd.read_csv(config.ifname('epimutations'))\n",
    "path_pdf = config.ofname([[\"down_epimutations\"], [\"epimutation\", \"phenotypes\", \"small\"]], ext = \".pdf\", \n",
    "                                                 include_set = config.params_sets[\"down_epimutations\"])\n",
    "plot_per_phenotypes(df[\"epimutations_sum\"].values[:29], path_pdf, 'Number of epimutations')"
   ]
  },
  {
   "cell_type": "markdown",
   "metadata": {},
   "source": [
    "# Age per epimutations"
   ]
  },
  {
   "cell_type": "code",
   "execution_count": 37,
   "metadata": {},
   "outputs": [],
   "source": []
  },
  {
   "cell_type": "code",
   "execution_count": 47,
   "metadata": {
    "scrolled": false
   },
   "outputs": [
    {
     "name": "stdout",
     "output_type": "stream",
     "text": [
      "(29,) (29,)\n",
      "[0.01427872]\n",
      "(29,) (29,)\n",
      "[-0.02116727]\n",
      "(29,) (29,)\n",
      "[0.01855536]\n"
     ]
    }
   ],
   "source": [
    "from sklearn.linear_model import LinearRegression, RidgeCV, Lasso, ElasticNet\n",
    "groups = [\"mongoloids_mask\", \"siblings_mask\", \"mothers_mask\"]\n",
    "group_masks = [0] * 3\n",
    "for j, group_name in enumerate(groups):\n",
    "    group_masks[j] = config.params[group_name].value\n",
    "\n",
    "def plot_per_feature(x, y, group_masks, label_x = '', label_y = '', title = ''):\n",
    "    colors = ['r', 'g', 'b']\n",
    "    plt.figure(figsize=(10, 8))\n",
    "    ax = plt.axes()\n",
    "    for j, mask in enumerate(group_masks):\n",
    "        cx = np.log(x[mask])\n",
    "        cy = y[mask]#.reshape(-1, 1)\n",
    "        print(cx.shape, cy.shape)\n",
    "        cy = cy[~np.isnan(cx)]\n",
    "        cx = cx[~np.isnan(cx)]\n",
    "        \n",
    "        cy = cy.reshape(-1, 1)\n",
    "        ax.scatter(cy, np.exp(cx), c = colors[j], alpha = 0.5, linewidth = 3)\n",
    "        model = LinearRegression().fit(cy, cx)\n",
    "        r_sq = model.score(cy, cx)\n",
    "        print(model.coef_)\n",
    "        ax.plot(cy, np.exp(model.predict(cy)), c = colors[j])\n",
    "        title += ' (' +  \"{:0.3f}\".format(r_sq) + ')'\n",
    "    \n",
    "    plt.yscale('log')\n",
    "    plt.xlabel(label_y, fontsize = fontsize)\n",
    "    plt.ylabel(label_x, fontsize = fontsize)\n",
    "    plt.title(title, fontsize = 1.2 * fontsize)\n",
    "    plt.legend([\"Down\", \"Siblings\", \"Mothers\"])\n",
    "    plt.subplots_adjust(bottom=0.2, top=0.9, left=0.2, right=0.95)\n",
    "    #plt.show()            \n",
    "\n",
    "df = pd.read_csv(config.ifname('epimutations'))\n",
    "patients_info = pd.read_csv(config.ifname(\"patients_info\"), delimiter='\\t')\n",
    "age = patients_info[\"age\"].values\n",
    "epimutations_sum = df[\"epimutations_sum\"].values\n",
    "path_epimutations_age = config.ofname([[\"down_epimutations\"], [\"epimutation\", \"age\"]], ext = \".pdf\", \n",
    "                                                 include_set = config.params_sets[\"down_epimutations\"])\n",
    "epimutations_sum = epimutations_sum.astype('float')\n",
    "#epimutations_sum[epimutations_sum > 5000] = np.NaN\n",
    "plot_per_feature(epimutations_sum, age, group_masks, 'Number of epimutations', 'Age')\n",
    "plt.savefig(path_epimutations_age)\n",
    "plt.close()"
   ]
  },
  {
   "cell_type": "markdown",
   "metadata": {},
   "source": [
    "# Parenclitic distributions"
   ]
  },
  {
   "cell_type": "code",
   "execution_count": 73,
   "metadata": {},
   "outputs": [
    {
     "name": "stdout",
     "output_type": "stream",
     "text": [
      "[array([ 0,  1,  2,  3,  4,  5,  6,  7,  8,  9, 10, 11, 12, 13, 14, 15, 16,\n",
      "       17, 18, 19, 20, 21, 22, 23, 24, 25, 26, 27, 28]), array([29, 30, 31, 32, 33, 34, 35, 36, 37, 38, 39, 40, 41, 42, 43, 44, 45,\n",
      "       46, 47, 48, 49, 50, 51, 52, 53, 54, 55, 56, 57]), array([58, 59, 60, 61, 62, 63, 64, 65, 66, 67, 68, 69, 70, 71, 72, 73, 74,\n",
      "       75, 76, 77, 78, 79, 80, 81, 82, 83, 84, 85, 86]), array([ 87,  88,  89,  90,  91,  92,  93,  94,  95,  96,  97,  98,  99,\n",
      "       100, 101, 102, 103, 104, 105, 106, 107, 108, 109, 110, 111, 112,\n",
      "       113, 114, 115])]\n",
      "[0. 0. 0. 0. 0. 0. 0. 0. 0. 0. 0. 0. 0. 0. 0. 0. 0. 0. 0. 0. 0. 0. 0. 0.\n",
      " 0. 0. 0. 0. 0. 1. 1. 1. 1. 1. 1. 1. 1. 1. 1. 1. 1. 1. 1. 1. 1. 1. 1. 1.\n",
      " 1. 1. 1. 1. 1. 1. 1. 1. 1. 1. 2. 2. 2. 2. 2. 2. 2. 2. 2. 2. 2. 2. 2. 2.\n",
      " 2. 2. 2. 2. 2. 2. 2. 2. 2. 2. 2. 2. 2. 2. 2. 3. 3. 3. 3. 3. 3. 3. 3. 3.\n",
      " 3. 3. 3. 3. 3. 3. 3. 3. 3. 3. 3. 3. 3. 3. 3. 3. 3. 3. 3. 3.]\n",
      "116\n"
     ]
    }
   ],
   "source": [
    "groups = [\"mongoloids_mask\", \"siblings_mask\", \"mothers_mask\", \"random_mask\"]\n",
    "config.params[\"random_mask\"] = param(np.arange(29 * 3, 29 * 4), name = 'random_mask')\n",
    "group_masks = [0] * 4\n",
    "for j, group_name in enumerate(groups):\n",
    "    group_masks[j] = config.params[group_name].value\n",
    "Y = np.concatenate([y, np.ones((29, )) * 3])\n",
    "print(group_masks)\n",
    "print(Y)\n",
    "print(len(Y))"
   ]
  },
  {
   "cell_type": "code",
   "execution_count": 74,
   "metadata": {},
   "outputs": [],
   "source": [
    "from scipy import stats\n",
    "from statsmodels.distributions.empirical_distribution import ECDF\n",
    "from matplotlib import gridspec\n",
    "#plt.boxplot([epimutations[y == 0], epimutations[y == 1], epimutations[y == 2]])\n",
    "def plot_parenclitic(parenclitic, groups, y, title, x_label, is_xlog, is_ylog, is_cdf, is_kde):\n",
    "    colors = ['r', 'g', 'b', 'm']\n",
    "    fig = plt.figure(figsize=(10, 5))\n",
    "    \n",
    "    gs = gridspec.GridSpec(2, 1, height_ratios=[3, 1]) \n",
    "\n",
    "    ax0 = plt.subplot(gs[0])\n",
    "    ax1 = plt.subplot(gs[1], sharex = ax0)\n",
    "    \n",
    "    yy = [[],[],[],[]]\n",
    "    xx = [0] * 4\n",
    "    zeros = [0] * 4\n",
    "    for j in range(len(groups)):\n",
    "        #print(groups[j])\n",
    "        #mn = [print(\"{:0.2g}\".format(np.min(w[w > 1e-7])), end=' ') for w in parenclitic[y == j].values]\n",
    "        #print()\n",
    "        #print(mn)\n",
    "        x = parenclitic[y == j].values\n",
    "        \n",
    "        if len(x.shape) > 1:\n",
    "            x = np.concatenate(x)\n",
    "        \n",
    "        is_small = x.std() < 1e-9\n",
    "        #plt.hist(x, bins  = 100, color = colors[j], alpha = 0.5, histtype = 'step')\n",
    "        zero_mask = (x < 0)\n",
    "        zeros[j] = zero_mask.sum()\n",
    "        x = x[~zero_mask]\n",
    "        xx[j] = x\n",
    "        #if j == 0:\n",
    "        #    continue\n",
    "        #x = x / xx[0]\n",
    "        #x = x[~np.isnan(x) & ~np.isinf(x)]\n",
    "        xx[j] = x\n",
    "        mn = np.min(x)\n",
    "        mx = np.max(x)\n",
    "        if is_cdf:\n",
    "            numbins = 100\n",
    "        else:\n",
    "            numbins = 30\n",
    "                \n",
    "        if is_xlog:\n",
    "            bins = np.logspace(np.log10(mn), np.log10(mx), numbins)\n",
    "            x = x[x > 0]\n",
    "        else:\n",
    "            bins = np.linspace(mn, mx, numbins)\n",
    "            \n",
    "            \n",
    "        if is_cdf:\n",
    "            ecdf = ECDF(x)\n",
    "            ax0.plot(bins, ecdf(bins), c = colors[j])\n",
    "        elif is_kde:\n",
    "            x = x[~np.isnan(x) & ~np.isinf(x)]\n",
    "            if j < 3 and not is_small and len(np.unique(x)) > 1:\n",
    "                if is_xlog:\n",
    "                    kde = stats.gaussian_kde(np.log10(x))\n",
    "                    kde_y = kde(np.log10(bins))\n",
    "                else:\n",
    "                    kde = stats.gaussian_kde(x)\n",
    "                    kde_y = kde(bins)\n",
    "                ax0.plot(bins, kde_y, colors[j], alpha = 0.5, linewidth = 3)\n",
    "            else:\n",
    "                ax0.plot([bins[0], bins[0]], [0, 0], colors[j], alpha = 0.5, linewidth = 3)\n",
    "            #my = max(kde_y)\n",
    "            #dy = my * 0.025\n",
    "            #yy = -np.random.rand(x.shape[0]) * dy * 0.8 - 2.5 * dy * j - dy\n",
    "            yy[j] = np.random.rand(x.shape[0]) * 0.8 + 2.5 * j\n",
    "            ax1.scatter(x, yy[j], c = colors[j], alpha = 0.5, s = 30)\n",
    "        else:\n",
    "            if not is_small:\n",
    "                cnt, xx = np.histogram(x, bins = bins)\n",
    "                ax0.plot(xx[:-1], cnt, c = colors[j])\n",
    "        \n",
    "    #ax0.plot([1, 1], ax0.get_ylim(), 'r')\n",
    "    #ax1.plot([1, 1], [0, 3], 'r')\n",
    "    cnt_change = [0, 0, 0]\n",
    "    eps = 0 #np.concatenate(xx).ptp() / 100\n",
    "    '''\n",
    "    for i in range(len(xx[0])):\n",
    "        ax1.plot([xx[0][i], xx[1][i]], [yy[0][i], yy[1][i]])\n",
    "        if xx[0][i] - xx[1][i] > eps:\n",
    "            cnt_change[0] += 1\n",
    "        elif xx[0][i] - xx[1][i] < -eps:\n",
    "            cnt_change[2] += 1\n",
    "        else:\n",
    "            cnt_change[1] += 1\n",
    "        #ax1.plot([xx[2][i], xx[1][i]], [yy[2][i], yy[1][i]])\n",
    "        #ax1.plot([xx[2][i], xx[0][i]], [yy[2][i], yy[0][i]])\n",
    "    '''\n",
    "    #plt.xlim(left = 0)\n",
    "    \n",
    "    #ax0.ticklabel_format(scilimits = [-2, 2])\n",
    "    ax1.ticklabel_format(scilimits = [-2, 2])\n",
    "    if is_xlog:\n",
    "        ax0.set_xscale('log')\n",
    "    else:\n",
    "        ax0.ticklabel_format(scilimits = [-2, 2], axis = 'x')\n",
    "    \n",
    "    if is_ylog:\n",
    "        ax0.set_yscale('log')\n",
    "    else:\n",
    "        ax0.ticklabel_format(scilimits = [-2, 2], axis = 'y')\n",
    "    ax0.legend([\"Down\", # + \" (Zeros = \" + str(zeros[0]) + \")\", \\\n",
    "                \"Siblings\", # + \" (Zeros = \" + str(zeros[1]) + \")\", \\\n",
    "                \"Mothers\", # + \" (Zeros = \" + str(zeros[2]) + \")\", \\\n",
    "                \"Random SVC\", # + \" (Zeros = \" + str(zeros[3]) + \")\", \\\n",
    "               ], fontsize = 0.5 * fontsize)\n",
    "    \n",
    "    plt.setp(ax0.get_xticklabels(), visible=False)\n",
    "    plt.setp(ax1.get_yticklabels(), visible=False)\n",
    "    \n",
    "    ax1.grid(True, axis = 'x')\n",
    "    ax1.grid(False, axis = 'y')\n",
    "\n",
    "    # Hide axes ticks\n",
    "    #ax1.set_yticks([])\n",
    "    \n",
    "    ax1.set_xlabel(x_label, fontsize = fontsize)\n",
    "    ax0.set_ylabel('${\\\\bf PDF}$', fontsize = fontsize)\n",
    "    ax0.set_title(title, fontsize = 1.2 * fontsize)  #  + \" \" + str(cnt_change)\n",
    "    plt.subplots_adjust(bottom=0.2, top=0.9, left=0.2, right=0.95, hspace=.02)\n",
    "    #plt.show()"
   ]
  },
  {
   "cell_type": "code",
   "execution_count": 75,
   "metadata": {
    "scrolled": false
   },
   "outputs": [
    {
     "name": "stdout",
     "output_type": "stream",
     "text": [
      "D:\\PC\\UNN\\Science\\Gerontology\\data\\GSE52588\\params\\num_genes_14756\\kde_mask_siblings_mask\\algorithm_pdf\\thr_type_best\\parenclitic_distributions_xlog___kde.pdf\n",
      "Zeros betweenness\n"
     ]
    },
    {
     "name": "stderr",
     "output_type": "stream",
     "text": [
      "C:\\ProgramData\\Anaconda3\\lib\\site-packages\\ipykernel_launcher.py:46: RuntimeWarning: divide by zero encountered in log10\n",
      "C:\\ProgramData\\Anaconda3\\lib\\site-packages\\numpy\\core\\function_base.py:159: RuntimeWarning: invalid value encountered in multiply\n",
      "  y *= step\n",
      "C:\\ProgramData\\Anaconda3\\lib\\site-packages\\numpy\\core\\function_base.py:168: RuntimeWarning: invalid value encountered in add\n",
      "  y += start\n"
     ]
    },
    {
     "name": "stdout",
     "output_type": "stream",
     "text": [
      "Max betweenness\n",
      "Min betweenness\n"
     ]
    },
    {
     "name": "stderr",
     "output_type": "stream",
     "text": [
      "C:\\ProgramData\\Anaconda3\\lib\\site-packages\\numpy\\core\\function_base.py:142: RuntimeWarning: invalid value encountered in double_scalars\n",
      "  delta = stop - start\n"
     ]
    },
    {
     "name": "stdout",
     "output_type": "stream",
     "text": [
      "Mean betweenness\n",
      "Std betweenness\n",
      "Zeros pagerank\n",
      "Max pagerank\n",
      "Min pagerank\n",
      "Mean pagerank\n",
      "Std pagerank\n",
      "Zeros closeness\n",
      "Max closeness\n",
      "Min closeness\n",
      "Mean closeness\n",
      "Std closeness\n",
      "Zeros eigenvector centrality\n",
      "Max eigenvector centrality\n",
      "Min eigenvector centrality\n",
      "Mean eigenvector centrality\n",
      "Std eigenvector centrality\n",
      "Zeros degrees\n",
      "Max degrees\n",
      "Min degrees\n",
      "Mean degrees\n",
      "Std degrees\n",
      "Number of edges\n",
      "Number of nodes\n",
      "Max component size\n",
      "Max component size norm nodes\n",
      "Max component size norm edges\n",
      "Efficiency\n",
      "Robustness\n"
     ]
    }
   ],
   "source": [
    "is_ylog = False\n",
    "is_xlog = True\n",
    "is_cdf = False\n",
    "is_kde = True\n",
    "parenclitic_pairs_path = config.ofname([[\"parenclitic_distributions\", # _inside\n",
    "                                        \"xlog\" if is_xlog else \"\", \\\n",
    "                                        \"ylog\" if is_ylog else \"\", \\\n",
    "                                        \"cdf\" if is_cdf else \"\",\n",
    "                                        \"kde\" if is_kde else \"\"]], ext = \".pdf\", \\\n",
    "                                     include_set = config.params_sets[\"parenclitic_boxplots\"])\n",
    "print(parenclitic_pairs_path)\n",
    "with PdfPages(parenclitic_pairs_path) as pdf:\n",
    "    for i in parenclitics:\n",
    "        print(parenclitic_names[i])\n",
    "        if np.std(parenclitics[i]) < 1e-8:\n",
    "            continue\n",
    "        plot_parenclitic(parenclitics[i], groups, Y, parenclitic_names[i], parenclitic_names[i], is_xlog, is_ylog, is_cdf, is_kde)\n",
    "        pdf.savefig(dpi = 300)\n",
    "        plt.close()"
   ]
  },
  {
   "cell_type": "code",
   "execution_count": 40,
   "metadata": {},
   "outputs": [
    {
     "ename": "TypeError",
     "evalue": "object of type 'numpy.int64' has no len()",
     "output_type": "error",
     "traceback": [
      "\u001b[1;31m---------------------------------------------------------------------------\u001b[0m",
      "\u001b[1;31mTypeError\u001b[0m                                 Traceback (most recent call last)",
      "\u001b[1;32m<ipython-input-40-40c2754439ef>\u001b[0m in \u001b[0;36m<module>\u001b[1;34m\u001b[0m\n\u001b[0;32m      1\u001b[0m \u001b[0mparenclitic\u001b[0m \u001b[1;33m=\u001b[0m \u001b[0mparenclitics\u001b[0m\u001b[1;33m[\u001b[0m\u001b[1;36m0\u001b[0m\u001b[1;33m]\u001b[0m\u001b[1;33m\u001b[0m\u001b[1;33m\u001b[0m\u001b[0m\n\u001b[1;32m----> 2\u001b[1;33m \u001b[0mlen\u001b[0m\u001b[1;33m(\u001b[0m\u001b[0mparenclitic\u001b[0m\u001b[1;33m[\u001b[0m\u001b[1;36m0\u001b[0m\u001b[1;33m]\u001b[0m\u001b[1;33m)\u001b[0m\u001b[1;33m\u001b[0m\u001b[1;33m\u001b[0m\u001b[0m\n\u001b[0m\u001b[0;32m      3\u001b[0m \u001b[1;31m#len(np.concatenate(parenclitic[y == 0].values))\u001b[0m\u001b[1;33m\u001b[0m\u001b[1;33m\u001b[0m\u001b[1;33m\u001b[0m\u001b[0m\n",
      "\u001b[1;31mTypeError\u001b[0m: object of type 'numpy.int64' has no len()"
     ]
    }
   ],
   "source": [
    "parenclitic = parenclitics[0]\n",
    "len(parenclitic[0])\n",
    "#len(np.concatenate(parenclitic[y == 0].values))"
   ]
  },
  {
   "cell_type": "code",
   "execution_count": 66,
   "metadata": {},
   "outputs": [
    {
     "data": {
      "text/plain": [
       "87"
      ]
     },
     "execution_count": 66,
     "metadata": {},
     "output_type": "execute_result"
    }
   ],
   "source": [
    "len(parenclitics)"
   ]
  },
  {
   "cell_type": "code",
   "execution_count": 9,
   "metadata": {},
   "outputs": [],
   "source": [
    "groups = [\"mongoloids_mask\", \"siblings_mask\", \"mothers_mask\"]\n",
    "group_masks = [0] * 3\n",
    "for j, group_name in enumerate(groups):\n",
    "    group_masks[j] = config.params[group_name].value\n"
   ]
  },
  {
   "cell_type": "code",
   "execution_count": 10,
   "metadata": {},
   "outputs": [
    {
     "data": {
      "image/png": "[encoded data removed]",
      "text/plain": [
       "<Figure size 432x288 with 1 Axes>"
      ]
     },
     "metadata": {
      "needs_background": "light"
     },
     "output_type": "display_data"
    }
   ],
   "source": [
    "# get DS parenclitics only\n",
    "real_data_mask = range(29 * 3)\n",
    "data = parenclitics.values[real_data_mask]\n",
    "\n",
    "from sklearn.decomposition import PCA\n",
    "pca = PCA(n_components=10)\n",
    "pca.fit(data)  \n",
    "Xt = pca.transform(data)\n",
    "\n",
    "colors = ['red', 'green', 'blue']\n",
    "\n",
    "for j in range(3):\n",
    "    plt.scatter(Xt[group_masks[j], 2], Xt[group_masks[j], 5], c = colors[j])"
   ]
  },
  {
   "cell_type": "code",
   "execution_count": 11,
   "metadata": {
    "scrolled": false
   },
   "outputs": [
    {
     "name": "stdout",
     "output_type": "stream",
     "text": [
      "[0 0 0 0 0 0 0 0 0 0 0 0 0 0 0 0 0 0 0 0 0 0 0 0 0 0 0 0 0 1 1 1 1 1 1 1 1\n",
      " 1 1 1 1 1 1 1 1 1 1 1 1 1 1 1 1 1 1 1 1 1 1 1 1 1 1 1 1 1 1 1 1 1 1 1 1 1\n",
      " 1 1 1 1 1 1 1 1 1 1 1 1 1] 1.00 0.67 1.00 AdaBoostClassifier\n",
      "[0 0 0 0 0 0 0 0 0 0 0 0 0 0 0 0 0 0 0 0 0 0 0 0 0 0 0 0 0 1 1 1 1 1 1 1 1\n",
      " 1 1 1 1 1 1 1 1 1 1 1 1 1 1 1 1 1 1 1 1 1 1 1 1 1 1 1 1 1 1 1 1 1 1 1 1 1\n",
      " 1 1 1 1 1 1 1 1 1 1 1 1 1] 1.00 0.67 1.00 BaggingClassifier\n",
      "[0 0 0 0 0 0 0 0 0 0 0 0 0 0 0 0 0 0 0 0 0 0 0 0 0 0 0 0 0 1 1 1 1 1 1 1 1\n",
      " 1 1 1 1 1 1 1 1 1 1 1 1 1 1 1 1 1 1 1 1 1 1 1 1 1 1 1 1 1 1 1 1 1 1 1 1 1\n",
      " 1 1 1 1 1 1 1 1 1 1 1 1 1] 1.00 0.67 1.00 BernoulliNB\n",
      "[0 0 0 0 0 0 0 0 0 0 0 0 0 0 0 0 0 0 0 0 0 0 0 0 0 0 0 0 0 1 1 1 1 1 1 1 1\n",
      " 1 1 1 1 1 1 1 1 1 1 1 1 1 1 1 1 1 1 1 1 1 1 1 1 1 1 1 1 1 1 1 1 1 1 1 1 1\n",
      " 1 1 1 1 1 1 1 1 1 1 1 1 1] 1.00 0.67 1.00 CalibratedClassifierCV\n",
      "[0 0 0 0 0 0 0 0 0 0 0 0 0 0 0 0 0 0 0 0 0 0 0 0 0 0 0 0 0 1 1 1 1 1 1 1 1\n",
      " 1 1 1 1 1 1 1 1 1 1 1 1 1 1 1 1 1 1 1 1 1 1 1 1 1 1 1 1 1 1 1 1 1 1 1 1 1\n",
      " 1 1 1 1 1 1 1 1 1 1 1 1 1] 1.00 0.67 1.00 ComplementNB\n",
      "[0 0 0 0 0 0 0 0 0 0 0 0 0 0 0 0 0 0 0 0 0 0 0 0 0 0 0 0 0 1 1 1 1 1 1 1 1\n",
      " 1 1 1 1 1 1 1 1 1 1 1 1 1 1 1 1 1 1 1 1 1 1 1 1 1 1 1 1 1 1 1 1 1 1 1 1 1\n",
      " 1 1 1 1 1 1 1 1 1 1 1 1 1] 1.00 0.67 1.00 DecisionTreeClassifier\n",
      "[0 0 0 0 0 0 0 0 0 0 0 0 0 0 0 0 0 0 0 0 0 0 0 0 0 0 0 0 0 1 1 1 1 1 1 1 1\n",
      " 1 1 1 1 1 1 1 1 1 1 1 1 1 1 1 1 1 1 1 1 1 1 1 1 1 1 1 1 1 1 1 1 1 1 1 1 1\n",
      " 1 1 1 1 1 1 1 1 1 1 1 1 1] 0.99 0.67 1.00 ExtraTreeClassifier\n",
      "[0 0 0 0 0 0 0 0 0 0 0 0 0 0 0 0 0 0 0 0 0 0 0 0 0 0 0 0 0 1 1 1 1 1 1 1 1\n",
      " 1 1 1 1 1 1 1 1 1 1 1 1 1 1 1 1 1 1 1 1 1 1 1 1 1 1 1 1 1 1 1 1 1 1 1 1 1\n",
      " 1 1 1 1 1 1 1 1 1 1 1 1 1] 1.00 0.67 1.00 ExtraTreesClassifier\n",
      "[0 0 0 0 0 0 0 0 0 0 0 0 0 0 0 0 0 0 0 0 0 0 0 0 0 0 0 0 0 1 1 1 1 1 1 1 1\n",
      " 1 1 1 1 1 1 1 1 1 1 1 1 1 1 1 1 1 1 1 1 1 1 1 1 1 1 1 1 1 1 1 1 1 1 1 1 1\n",
      " 1 1 1 1 1 1 1 1 1 1 1 1 1] 1.00 0.67 1.00 GaussianNB\n",
      "[0 0 0 0 0 0 0 0 0 0 0 0 0 0 0 0 0 0 0 0 0 0 0 0 0 0 0 0 0 1 1 1 1 1 1 1 1\n",
      " 1 1 1 1 1 1 1 1 1 1 1 1 1 1 1 1 1 1 1 1 1 1 1 1 1 1 1 1 1 1 1 1 1 1 1 1 1\n",
      " 1 1 1 1 1 1 1 1 1 1 1 1 1] 0.33 0.67 1.00 GaussianProcessClassifier\n"
     ]
    },
    {
     "name": "stderr",
     "output_type": "stream",
     "text": [
      "C:\\ProgramData\\Anaconda3\\lib\\site-packages\\sklearn\\model_selection\\_split.py:2053: FutureWarning: You should specify a value for 'cv' instead of relying on the default value. The default value will change from 3 to 5 in version 0.22.\n",
      "  warnings.warn(CV_WARNING, FutureWarning)\n",
      "C:\\ProgramData\\Anaconda3\\lib\\site-packages\\sklearn\\svm\\base.py:922: ConvergenceWarning: Liblinear failed to converge, increase the number of iterations.\n",
      "  \"the number of iterations.\", ConvergenceWarning)\n",
      "C:\\ProgramData\\Anaconda3\\lib\\site-packages\\sklearn\\svm\\base.py:922: ConvergenceWarning: Liblinear failed to converge, increase the number of iterations.\n",
      "  \"the number of iterations.\", ConvergenceWarning)\n",
      "C:\\ProgramData\\Anaconda3\\lib\\site-packages\\sklearn\\model_selection\\_split.py:2053: FutureWarning: You should specify a value for 'cv' instead of relying on the default value. The default value will change from 3 to 5 in version 0.22.\n",
      "  warnings.warn(CV_WARNING, FutureWarning)\n",
      "C:\\ProgramData\\Anaconda3\\lib\\site-packages\\sklearn\\svm\\base.py:922: ConvergenceWarning: Liblinear failed to converge, increase the number of iterations.\n",
      "  \"the number of iterations.\", ConvergenceWarning)\n",
      "C:\\ProgramData\\Anaconda3\\lib\\site-packages\\sklearn\\model_selection\\_split.py:2053: FutureWarning: You should specify a value for 'cv' instead of relying on the default value. The default value will change from 3 to 5 in version 0.22.\n",
      "  warnings.warn(CV_WARNING, FutureWarning)\n",
      "C:\\ProgramData\\Anaconda3\\lib\\site-packages\\sklearn\\model_selection\\_split.py:2053: FutureWarning: You should specify a value for 'cv' instead of relying on the default value. The default value will change from 3 to 5 in version 0.22.\n",
      "  warnings.warn(CV_WARNING, FutureWarning)\n",
      "C:\\ProgramData\\Anaconda3\\lib\\site-packages\\sklearn\\model_selection\\_split.py:2053: FutureWarning: You should specify a value for 'cv' instead of relying on the default value. The default value will change from 3 to 5 in version 0.22.\n",
      "  warnings.warn(CV_WARNING, FutureWarning)\n",
      "C:\\ProgramData\\Anaconda3\\lib\\site-packages\\sklearn\\model_selection\\_split.py:2053: FutureWarning: You should specify a value for 'cv' instead of relying on the default value. The default value will change from 3 to 5 in version 0.22.\n",
      "  warnings.warn(CV_WARNING, FutureWarning)\n",
      "C:\\ProgramData\\Anaconda3\\lib\\site-packages\\sklearn\\svm\\base.py:922: ConvergenceWarning: Liblinear failed to converge, increase the number of iterations.\n",
      "  \"the number of iterations.\", ConvergenceWarning)\n",
      "C:\\ProgramData\\Anaconda3\\lib\\site-packages\\sklearn\\ensemble\\forest.py:246: FutureWarning: The default value of n_estimators will change from 10 in version 0.20 to 100 in 0.22.\n",
      "  \"10 in version 0.20 to 100 in 0.22.\", FutureWarning)\n",
      "C:\\ProgramData\\Anaconda3\\lib\\site-packages\\sklearn\\ensemble\\forest.py:246: FutureWarning: The default value of n_estimators will change from 10 in version 0.20 to 100 in 0.22.\n",
      "  \"10 in version 0.20 to 100 in 0.22.\", FutureWarning)\n",
      "C:\\ProgramData\\Anaconda3\\lib\\site-packages\\sklearn\\ensemble\\forest.py:246: FutureWarning: The default value of n_estimators will change from 10 in version 0.20 to 100 in 0.22.\n",
      "  \"10 in version 0.20 to 100 in 0.22.\", FutureWarning)\n",
      "C:\\ProgramData\\Anaconda3\\lib\\site-packages\\sklearn\\ensemble\\forest.py:246: FutureWarning: The default value of n_estimators will change from 10 in version 0.20 to 100 in 0.22.\n",
      "  \"10 in version 0.20 to 100 in 0.22.\", FutureWarning)\n",
      "C:\\ProgramData\\Anaconda3\\lib\\site-packages\\sklearn\\ensemble\\forest.py:246: FutureWarning: The default value of n_estimators will change from 10 in version 0.20 to 100 in 0.22.\n",
      "  \"10 in version 0.20 to 100 in 0.22.\", FutureWarning)\n",
      "C:\\ProgramData\\Anaconda3\\lib\\site-packages\\sklearn\\ensemble\\forest.py:246: FutureWarning: The default value of n_estimators will change from 10 in version 0.20 to 100 in 0.22.\n",
      "  \"10 in version 0.20 to 100 in 0.22.\", FutureWarning)\n"
     ]
    },
    {
     "name": "stdout",
     "output_type": "stream",
     "text": [
      "[0 0 0 0 0 0 0 0 0 0 0 0 0 0 0 0 0 0 0 0 0 0 0 0 0 0 0 0 0 1 1 1 1 1 1 1 1\n",
      " 1 1 1 1 1 1 1 1 1 1 1 1 1 1 1 1 1 1 1 1 1 1 1 1 1 1 1 1 1 1 1 1 1 1 1 1 1\n",
      " 1 1 1 1 1 1 1 1 1 1 1 1 1] 1.00 0.67 1.00 GradientBoostingClassifier\n",
      "[0 0 0 0 0 0 0 0 0 0 0 0 0 0 0 0 0 0 0 0 0 0 0 0 0 0 0 0 0 1 1 1 1 1 1 0 1\n",
      " 1 1 1 1 1 1 1 1 1 1 1 1 1 1 1 1 1 1 1 1 1 1 1 1 1 1 1 1 1 1 1 1 1 1 1 1 1\n",
      " 1 1 1 1 1 1 1 1 1 1 1 1 1] 0.99 0.67 0.99 KNeighborsClassifier\n",
      "[0 0 0 0 0 0 0 0 0 0 0 0 0 0 0 0 0 0 0 0 0 0 0 0 0 0 0 0 0 1 1 1 1 1 1 1 1\n",
      " 1 1 1 1 1 1 1 1 1 1 1 1 1 1 1 1 1 1 1 1 1 1 1 1 1 1 1 1 1 1 1 1 1 1 1 1 1\n",
      " 1 1 1 1 1 1 1 1 1 1 1 1 1] 0.33 0.67 1.00 LabelPropagation\n",
      "[0 0 0 0 0 0 0 0 0 0 0 0 0 0 0 0 0 0 0 0 0 0 0 0 0 0 0 0 0 1 1 1 1 1 1 1 1\n",
      " 1 1 1 1 1 1 1 1 1 1 1 1 1 1 1 1 1 1 1 1 1 1 1 1 1 1 1 1 1 1 1 1 1 1 1 1 1\n",
      " 1 1 1 1 1 1 1 1 1 1 1 1 1] 0.33 0.67 1.00 LabelSpreading\n",
      "[0 0 0 0 0 0 0 0 0 0 0 0 0 0 0 0 0 0 0 0 0 0 0 0 0 0 0 0 0 1 1 1 1 1 1 1 1\n",
      " 1 1 1 1 1 1 1 1 1 1 1 1 1 1 1 1 1 1 1 1 1 1 1 1 1 1 1 1 1 1 1 1 1 1 1 1 1\n",
      " 1 1 1 1 1 1 1 1 1 1 1 1 1] 1.00 0.67 1.00 LinearDiscriminantAnalysis\n",
      "[0 0 0 0 0 0 0 0 0 0 0 0 0 0 0 0 0 0 0 0 0 0 0 0 0 0 0 0 0 1 1 1 1 1 1 1 1\n",
      " 1 1 1 1 1 1 1 1 1 1 1 1 1 1 1 1 1 1 1 1 1 1 1 1 1 1 1 1 1 1 1 1 1 1 1 1 1\n",
      " 1 1 1 1 1 1 1 1 1 1 1 1 1] 1.00 0.67 1.00 LinearSVC\n",
      "[0 0 0 0 0 0 0 0 0 0 0 0 0 0 0 0 0 0 0 0 0 0 0 0 0 0 0 0 0 1 1 1 1 1 1 1 1\n",
      " 1 1 1 1 1 1 1 1 1 1 1 1 1 1 1 1 1 1 1 1 1 1 1 1 1 1 1 1 1 1 1 1 1 1 1 1 1\n",
      " 1 1 1 1 1 1 1 1 1 1 1 1 1] 1.00 0.67 1.00 LogisticRegression\n"
     ]
    },
    {
     "name": "stderr",
     "output_type": "stream",
     "text": [
      "C:\\ProgramData\\Anaconda3\\lib\\site-packages\\sklearn\\semi_supervised\\label_propagation.py:205: RuntimeWarning: invalid value encountered in true_divide\n",
      "  probabilities /= normalizer\n",
      "C:\\ProgramData\\Anaconda3\\lib\\site-packages\\sklearn\\semi_supervised\\label_propagation.py:205: RuntimeWarning: invalid value encountered in true_divide\n",
      "  probabilities /= normalizer\n",
      "C:\\ProgramData\\Anaconda3\\lib\\site-packages\\sklearn\\semi_supervised\\label_propagation.py:205: RuntimeWarning: invalid value encountered in true_divide\n",
      "  probabilities /= normalizer\n",
      "C:\\ProgramData\\Anaconda3\\lib\\site-packages\\sklearn\\semi_supervised\\label_propagation.py:205: RuntimeWarning: invalid value encountered in true_divide\n",
      "  probabilities /= normalizer\n",
      "C:\\ProgramData\\Anaconda3\\lib\\site-packages\\sklearn\\semi_supervised\\label_propagation.py:205: RuntimeWarning: invalid value encountered in true_divide\n",
      "  probabilities /= normalizer\n",
      "C:\\ProgramData\\Anaconda3\\lib\\site-packages\\sklearn\\semi_supervised\\label_propagation.py:205: RuntimeWarning: invalid value encountered in true_divide\n",
      "  probabilities /= normalizer\n",
      "C:\\ProgramData\\Anaconda3\\lib\\site-packages\\sklearn\\semi_supervised\\label_propagation.py:205: RuntimeWarning: invalid value encountered in true_divide\n",
      "  probabilities /= normalizer\n",
      "C:\\ProgramData\\Anaconda3\\lib\\site-packages\\sklearn\\semi_supervised\\label_propagation.py:205: RuntimeWarning: invalid value encountered in true_divide\n",
      "  probabilities /= normalizer\n",
      "C:\\ProgramData\\Anaconda3\\lib\\site-packages\\sklearn\\semi_supervised\\label_propagation.py:205: RuntimeWarning: invalid value encountered in true_divide\n",
      "  probabilities /= normalizer\n",
      "C:\\ProgramData\\Anaconda3\\lib\\site-packages\\sklearn\\semi_supervised\\label_propagation.py:205: RuntimeWarning: invalid value encountered in true_divide\n",
      "  probabilities /= normalizer\n",
      "C:\\ProgramData\\Anaconda3\\lib\\site-packages\\sklearn\\discriminant_analysis.py:388: UserWarning: Variables are collinear.\n",
      "  warnings.warn(\"Variables are collinear.\")\n",
      "C:\\ProgramData\\Anaconda3\\lib\\site-packages\\sklearn\\discriminant_analysis.py:388: UserWarning: Variables are collinear.\n",
      "  warnings.warn(\"Variables are collinear.\")\n",
      "C:\\ProgramData\\Anaconda3\\lib\\site-packages\\sklearn\\discriminant_analysis.py:388: UserWarning: Variables are collinear.\n",
      "  warnings.warn(\"Variables are collinear.\")\n",
      "C:\\ProgramData\\Anaconda3\\lib\\site-packages\\sklearn\\discriminant_analysis.py:388: UserWarning: Variables are collinear.\n",
      "  warnings.warn(\"Variables are collinear.\")\n",
      "C:\\ProgramData\\Anaconda3\\lib\\site-packages\\sklearn\\discriminant_analysis.py:388: UserWarning: Variables are collinear.\n",
      "  warnings.warn(\"Variables are collinear.\")\n",
      "C:\\ProgramData\\Anaconda3\\lib\\site-packages\\sklearn\\discriminant_analysis.py:388: UserWarning: Variables are collinear.\n",
      "  warnings.warn(\"Variables are collinear.\")\n",
      "C:\\ProgramData\\Anaconda3\\lib\\site-packages\\sklearn\\linear_model\\logistic.py:433: FutureWarning: Default solver will be changed to 'lbfgs' in 0.22. Specify a solver to silence this warning.\n",
      "  FutureWarning)\n",
      "C:\\ProgramData\\Anaconda3\\lib\\site-packages\\sklearn\\linear_model\\logistic.py:433: FutureWarning: Default solver will be changed to 'lbfgs' in 0.22. Specify a solver to silence this warning.\n",
      "  FutureWarning)\n",
      "C:\\ProgramData\\Anaconda3\\lib\\site-packages\\sklearn\\linear_model\\logistic.py:433: FutureWarning: Default solver will be changed to 'lbfgs' in 0.22. Specify a solver to silence this warning.\n",
      "  FutureWarning)\n",
      "C:\\ProgramData\\Anaconda3\\lib\\site-packages\\sklearn\\linear_model\\logistic.py:433: FutureWarning: Default solver will be changed to 'lbfgs' in 0.22. Specify a solver to silence this warning.\n",
      "  FutureWarning)\n",
      "C:\\ProgramData\\Anaconda3\\lib\\site-packages\\sklearn\\linear_model\\logistic.py:433: FutureWarning: Default solver will be changed to 'lbfgs' in 0.22. Specify a solver to silence this warning.\n",
      "  FutureWarning)\n",
      "C:\\ProgramData\\Anaconda3\\lib\\site-packages\\sklearn\\linear_model\\logistic.py:433: FutureWarning: Default solver will be changed to 'lbfgs' in 0.22. Specify a solver to silence this warning.\n",
      "  FutureWarning)\n",
      "C:\\ProgramData\\Anaconda3\\lib\\site-packages\\sklearn\\model_selection\\_split.py:2053: FutureWarning: You should specify a value for 'cv' instead of relying on the default value. The default value will change from 3 to 5 in version 0.22.\n",
      "  warnings.warn(CV_WARNING, FutureWarning)\n",
      "C:\\ProgramData\\Anaconda3\\lib\\site-packages\\sklearn\\model_selection\\_split.py:2053: FutureWarning: You should specify a value for 'cv' instead of relying on the default value. The default value will change from 3 to 5 in version 0.22.\n",
      "  warnings.warn(CV_WARNING, FutureWarning)\n",
      "C:\\ProgramData\\Anaconda3\\lib\\site-packages\\sklearn\\model_selection\\_split.py:2053: FutureWarning: You should specify a value for 'cv' instead of relying on the default value. The default value will change from 3 to 5 in version 0.22.\n",
      "  warnings.warn(CV_WARNING, FutureWarning)\n",
      "C:\\ProgramData\\Anaconda3\\lib\\site-packages\\sklearn\\model_selection\\_split.py:2053: FutureWarning: You should specify a value for 'cv' instead of relying on the default value. The default value will change from 3 to 5 in version 0.22.\n",
      "  warnings.warn(CV_WARNING, FutureWarning)\n",
      "C:\\ProgramData\\Anaconda3\\lib\\site-packages\\sklearn\\model_selection\\_split.py:2053: FutureWarning: You should specify a value for 'cv' instead of relying on the default value. The default value will change from 3 to 5 in version 0.22.\n",
      "  warnings.warn(CV_WARNING, FutureWarning)\n",
      "C:\\ProgramData\\Anaconda3\\lib\\site-packages\\sklearn\\model_selection\\_split.py:2053: FutureWarning: You should specify a value for 'cv' instead of relying on the default value. The default value will change from 3 to 5 in version 0.22.\n",
      "  warnings.warn(CV_WARNING, FutureWarning)\n"
     ]
    },
    {
     "name": "stdout",
     "output_type": "stream",
     "text": [
      "[0 0 0 0 0 0 0 0 0 0 0 0 0 0 0 0 0 0 0 0 0 0 0 0 0 0 0 0 0 1 1 1 1 1 1 1 1\n",
      " 1 1 1 1 1 1 1 1 1 1 1 1 1 1 1 1 1 1 1 1 1 1 1 1 1 1 1 1 1 1 1 1 1 1 1 1 1\n",
      " 1 1 1 1 1 1 1 1 1 1 1 1 1] 1.00 0.67 1.00 LogisticRegressionCV\n",
      "[0 0 0 0 0 0 0 0 0 0 0 0 0 0 0 0 0 0 0 0 0 0 0 0 0 0 0 0 0 0 0 0 0 0 0 0 0\n",
      " 0 0 0 0 0 0 0 0 0 0 0 0 0 0 0 0 0 0 0 0 0 0 0 0 0 0 0 0 0 0 0 0 0 0 0 0 0\n",
      " 0 0 0 0 0 0 0 0 0 0 0 0 0] 0.81 0.67 0.33 MLPClassifier\n",
      "[0 0 0 0 0 0 0 0 0 0 0 0 0 0 0 0 0 0 0 0 0 0 0 0 0 0 0 0 0 1 1 1 1 1 1 1 1\n",
      " 1 1 1 1 1 1 1 1 1 1 1 1 1 1 1 1 1 1 1 1 1 1 1 1 1 1 1 1 1 1 1 1 1 1 1 1 1\n",
      " 1 1 1 1 1 1 1 1 1 1 1 1 1] 1.00 0.67 1.00 MultinomialNB\n",
      "[0 0 0 0 0 0 0 0 0 0 0 0 0 0 0 0 0 0 0 0 0 0 0 0 0 0 0 0 0 1 0 0 1 1 1 0 1\n",
      " 1 1 1 1 1 1 0 0 0 1 1 1 1 1 1 1 1 1 1 0 0 0 0 1 1 1 1 1 1 1 1 1 1 1 0 1 1\n",
      " 1 1 1 1 1 1 0 1 0 1 1 1 1] 0.85 0.67 0.85 NearestCentroid\n",
      "[0 0 0 0 0 0 0 0 0 0 0 0 0 0 0 0 0 0 0 0 0 0 0 0 0 0 0 0 0 1 1 1 1 1 1 1 1\n",
      " 1 1 1 1 1 1 1 1 1 1 1 1 1 1 1 1 1 1 1 1 1 1 1 1 1 1 1 1 1 1 1 1 1 1 1 1 1\n",
      " 1 1 1 1 1 1 1 1 1 1 1 1 1] 0.67 0.67 1.00 NuSVC\n",
      "[0 0 0 0 0 0 0 0 0 0 0 0 0 0 0 0 0 0 0 0 0 0 0 0 0 0 0 0 0 1 1 1 1 1 1 1 1\n",
      " 1 1 1 1 1 1 1 1 1 1 1 1 1 1 1 1 1 1 1 1 1 1 1 1 1 1 1 1 1 1 1 1 1 1 1 1 1\n",
      " 1 1 1 1 1 1 1 1 1 1 1 1 1] 1.00 0.67 1.00 PassiveAggressiveClassifier\n",
      "[0 0 0 0 0 0 0 0 0 0 0 0 0 0 0 0 0 0 0 0 0 0 0 0 0 0 0 0 0 1 1 1 1 1 1 1 1\n",
      " 1 1 1 1 1 1 1 1 1 1 1 1 1 1 1 1 1 1 1 1 1 1 1 1 1 1 1 1 1 1 1 1 1 1 1 1 1\n",
      " 1 1 1 1 1 1 1 1 1 1 1 1 1] 0.98 0.67 1.00 Perceptron\n",
      "[0 0 0 0 0 0 0 0 0 0 0 0 0 0 0 0 0 0 0 0 0 0 0 0 0 0 0 0 0 1 1 1 1 1 1 1 1\n",
      " 1 1 1 1 1 1 1 1 1 1 1 1 1 1 1 1 1 1 1 1 1 1 1 1 1 1 1 1 1 1 1 1 1 1 1 1 1\n",
      " 1 1 1 1 1 1 1 1 1 1 1 1 1] 1.00 0.67 1.00 QuadraticDiscriminantAnalysis\n",
      "[0 0 0 0 0 0 0 0 0 0 0 0 0 0 0 0 0 0 0 0 0 0 0 0 0 0 0 0 0 1 1 1 1 1 1 1 1\n",
      " 1 1 1 1 1 1 1 1 1 1 1 1 1 1 1 1 1 1 1 1 1 1 1 1 1 1 1 1 1 1 1 1 1 1 1 1 1\n",
      " 1 1 1 1 1 1 1 1 1 1 1 1 1] 1.00 0.67 1.00 RandomForestClassifier\n"
     ]
    },
    {
     "name": "stderr",
     "output_type": "stream",
     "text": [
      "C:\\ProgramData\\Anaconda3\\lib\\site-packages\\sklearn\\svm\\base.py:196: FutureWarning: The default value of gamma will change from 'auto' to 'scale' in version 0.22 to account better for unscaled features. Set gamma explicitly to 'auto' or 'scale' to avoid this warning.\n",
      "  \"avoid this warning.\", FutureWarning)\n",
      "C:\\ProgramData\\Anaconda3\\lib\\site-packages\\sklearn\\svm\\base.py:196: FutureWarning: The default value of gamma will change from 'auto' to 'scale' in version 0.22 to account better for unscaled features. Set gamma explicitly to 'auto' or 'scale' to avoid this warning.\n",
      "  \"avoid this warning.\", FutureWarning)\n",
      "C:\\ProgramData\\Anaconda3\\lib\\site-packages\\sklearn\\svm\\base.py:196: FutureWarning: The default value of gamma will change from 'auto' to 'scale' in version 0.22 to account better for unscaled features. Set gamma explicitly to 'auto' or 'scale' to avoid this warning.\n",
      "  \"avoid this warning.\", FutureWarning)\n",
      "C:\\ProgramData\\Anaconda3\\lib\\site-packages\\sklearn\\svm\\base.py:196: FutureWarning: The default value of gamma will change from 'auto' to 'scale' in version 0.22 to account better for unscaled features. Set gamma explicitly to 'auto' or 'scale' to avoid this warning.\n",
      "  \"avoid this warning.\", FutureWarning)\n",
      "C:\\ProgramData\\Anaconda3\\lib\\site-packages\\sklearn\\svm\\base.py:196: FutureWarning: The default value of gamma will change from 'auto' to 'scale' in version 0.22 to account better for unscaled features. Set gamma explicitly to 'auto' or 'scale' to avoid this warning.\n",
      "  \"avoid this warning.\", FutureWarning)\n",
      "C:\\ProgramData\\Anaconda3\\lib\\site-packages\\sklearn\\svm\\base.py:196: FutureWarning: The default value of gamma will change from 'auto' to 'scale' in version 0.22 to account better for unscaled features. Set gamma explicitly to 'auto' or 'scale' to avoid this warning.\n",
      "  \"avoid this warning.\", FutureWarning)\n",
      "C:\\ProgramData\\Anaconda3\\lib\\site-packages\\sklearn\\linear_model\\stochastic_gradient.py:166: FutureWarning: max_iter and tol parameters have been added in PassiveAggressiveClassifier in 0.19. If both are left unset, they default to max_iter=5 and tol=None. If tol is not None, max_iter defaults to max_iter=1000. From 0.21, default max_iter will be 1000, and default tol will be 1e-3.\n",
      "  FutureWarning)\n",
      "C:\\ProgramData\\Anaconda3\\lib\\site-packages\\sklearn\\linear_model\\stochastic_gradient.py:166: FutureWarning: max_iter and tol parameters have been added in PassiveAggressiveClassifier in 0.19. If both are left unset, they default to max_iter=5 and tol=None. If tol is not None, max_iter defaults to max_iter=1000. From 0.21, default max_iter will be 1000, and default tol will be 1e-3.\n",
      "  FutureWarning)\n",
      "C:\\ProgramData\\Anaconda3\\lib\\site-packages\\sklearn\\linear_model\\stochastic_gradient.py:166: FutureWarning: max_iter and tol parameters have been added in PassiveAggressiveClassifier in 0.19. If both are left unset, they default to max_iter=5 and tol=None. If tol is not None, max_iter defaults to max_iter=1000. From 0.21, default max_iter will be 1000, and default tol will be 1e-3.\n",
      "  FutureWarning)\n",
      "C:\\ProgramData\\Anaconda3\\lib\\site-packages\\sklearn\\linear_model\\stochastic_gradient.py:166: FutureWarning: max_iter and tol parameters have been added in PassiveAggressiveClassifier in 0.19. If both are left unset, they default to max_iter=5 and tol=None. If tol is not None, max_iter defaults to max_iter=1000. From 0.21, default max_iter will be 1000, and default tol will be 1e-3.\n",
      "  FutureWarning)\n",
      "C:\\ProgramData\\Anaconda3\\lib\\site-packages\\sklearn\\linear_model\\stochastic_gradient.py:166: FutureWarning: max_iter and tol parameters have been added in PassiveAggressiveClassifier in 0.19. If both are left unset, they default to max_iter=5 and tol=None. If tol is not None, max_iter defaults to max_iter=1000. From 0.21, default max_iter will be 1000, and default tol will be 1e-3.\n",
      "  FutureWarning)\n",
      "C:\\ProgramData\\Anaconda3\\lib\\site-packages\\sklearn\\linear_model\\stochastic_gradient.py:166: FutureWarning: max_iter and tol parameters have been added in PassiveAggressiveClassifier in 0.19. If both are left unset, they default to max_iter=5 and tol=None. If tol is not None, max_iter defaults to max_iter=1000. From 0.21, default max_iter will be 1000, and default tol will be 1e-3.\n",
      "  FutureWarning)\n",
      "C:\\ProgramData\\Anaconda3\\lib\\site-packages\\sklearn\\linear_model\\stochastic_gradient.py:166: FutureWarning: max_iter and tol parameters have been added in Perceptron in 0.19. If both are left unset, they default to max_iter=5 and tol=None. If tol is not None, max_iter defaults to max_iter=1000. From 0.21, default max_iter will be 1000, and default tol will be 1e-3.\n",
      "  FutureWarning)\n",
      "C:\\ProgramData\\Anaconda3\\lib\\site-packages\\sklearn\\linear_model\\stochastic_gradient.py:166: FutureWarning: max_iter and tol parameters have been added in Perceptron in 0.19. If both are left unset, they default to max_iter=5 and tol=None. If tol is not None, max_iter defaults to max_iter=1000. From 0.21, default max_iter will be 1000, and default tol will be 1e-3.\n",
      "  FutureWarning)\n",
      "C:\\ProgramData\\Anaconda3\\lib\\site-packages\\sklearn\\linear_model\\stochastic_gradient.py:166: FutureWarning: max_iter and tol parameters have been added in Perceptron in 0.19. If both are left unset, they default to max_iter=5 and tol=None. If tol is not None, max_iter defaults to max_iter=1000. From 0.21, default max_iter will be 1000, and default tol will be 1e-3.\n",
      "  FutureWarning)\n",
      "C:\\ProgramData\\Anaconda3\\lib\\site-packages\\sklearn\\linear_model\\stochastic_gradient.py:166: FutureWarning: max_iter and tol parameters have been added in Perceptron in 0.19. If both are left unset, they default to max_iter=5 and tol=None. If tol is not None, max_iter defaults to max_iter=1000. From 0.21, default max_iter will be 1000, and default tol will be 1e-3.\n",
      "  FutureWarning)\n",
      "C:\\ProgramData\\Anaconda3\\lib\\site-packages\\sklearn\\linear_model\\stochastic_gradient.py:166: FutureWarning: max_iter and tol parameters have been added in Perceptron in 0.19. If both are left unset, they default to max_iter=5 and tol=None. If tol is not None, max_iter defaults to max_iter=1000. From 0.21, default max_iter will be 1000, and default tol will be 1e-3.\n",
      "  FutureWarning)\n",
      "C:\\ProgramData\\Anaconda3\\lib\\site-packages\\sklearn\\linear_model\\stochastic_gradient.py:166: FutureWarning: max_iter and tol parameters have been added in Perceptron in 0.19. If both are left unset, they default to max_iter=5 and tol=None. If tol is not None, max_iter defaults to max_iter=1000. From 0.21, default max_iter will be 1000, and default tol will be 1e-3.\n",
      "  FutureWarning)\n",
      "C:\\ProgramData\\Anaconda3\\lib\\site-packages\\sklearn\\discriminant_analysis.py:692: UserWarning: Variables are collinear\n",
      "  warnings.warn(\"Variables are collinear\")\n",
      "C:\\ProgramData\\Anaconda3\\lib\\site-packages\\sklearn\\discriminant_analysis.py:692: UserWarning: Variables are collinear\n",
      "  warnings.warn(\"Variables are collinear\")\n",
      "C:\\ProgramData\\Anaconda3\\lib\\site-packages\\sklearn\\discriminant_analysis.py:692: UserWarning: Variables are collinear\n",
      "  warnings.warn(\"Variables are collinear\")\n",
      "C:\\ProgramData\\Anaconda3\\lib\\site-packages\\sklearn\\discriminant_analysis.py:692: UserWarning: Variables are collinear\n",
      "  warnings.warn(\"Variables are collinear\")\n",
      "C:\\ProgramData\\Anaconda3\\lib\\site-packages\\sklearn\\discriminant_analysis.py:692: UserWarning: Variables are collinear\n",
      "  warnings.warn(\"Variables are collinear\")\n",
      "C:\\ProgramData\\Anaconda3\\lib\\site-packages\\sklearn\\discriminant_analysis.py:692: UserWarning: Variables are collinear\n",
      "  warnings.warn(\"Variables are collinear\")\n",
      "C:\\ProgramData\\Anaconda3\\lib\\site-packages\\sklearn\\discriminant_analysis.py:692: UserWarning: Variables are collinear\n",
      "  warnings.warn(\"Variables are collinear\")\n",
      "C:\\ProgramData\\Anaconda3\\lib\\site-packages\\sklearn\\discriminant_analysis.py:692: UserWarning: Variables are collinear\n",
      "  warnings.warn(\"Variables are collinear\")\n",
      "C:\\ProgramData\\Anaconda3\\lib\\site-packages\\sklearn\\discriminant_analysis.py:692: UserWarning: Variables are collinear\n",
      "  warnings.warn(\"Variables are collinear\")\n",
      "C:\\ProgramData\\Anaconda3\\lib\\site-packages\\sklearn\\discriminant_analysis.py:692: UserWarning: Variables are collinear\n",
      "  warnings.warn(\"Variables are collinear\")\n",
      "C:\\ProgramData\\Anaconda3\\lib\\site-packages\\sklearn\\discriminant_analysis.py:692: UserWarning: Variables are collinear\n",
      "  warnings.warn(\"Variables are collinear\")\n",
      "C:\\ProgramData\\Anaconda3\\lib\\site-packages\\sklearn\\discriminant_analysis.py:692: UserWarning: Variables are collinear\n",
      "  warnings.warn(\"Variables are collinear\")\n",
      "C:\\ProgramData\\Anaconda3\\lib\\site-packages\\sklearn\\ensemble\\forest.py:246: FutureWarning: The default value of n_estimators will change from 10 in version 0.20 to 100 in 0.22.\n",
      "  \"10 in version 0.20 to 100 in 0.22.\", FutureWarning)\n",
      "C:\\ProgramData\\Anaconda3\\lib\\site-packages\\sklearn\\ensemble\\forest.py:246: FutureWarning: The default value of n_estimators will change from 10 in version 0.20 to 100 in 0.22.\n",
      "  \"10 in version 0.20 to 100 in 0.22.\", FutureWarning)\n",
      "C:\\ProgramData\\Anaconda3\\lib\\site-packages\\sklearn\\ensemble\\forest.py:246: FutureWarning: The default value of n_estimators will change from 10 in version 0.20 to 100 in 0.22.\n",
      "  \"10 in version 0.20 to 100 in 0.22.\", FutureWarning)\n",
      "C:\\ProgramData\\Anaconda3\\lib\\site-packages\\sklearn\\ensemble\\forest.py:246: FutureWarning: The default value of n_estimators will change from 10 in version 0.20 to 100 in 0.22.\n",
      "  \"10 in version 0.20 to 100 in 0.22.\", FutureWarning)\n",
      "C:\\ProgramData\\Anaconda3\\lib\\site-packages\\sklearn\\ensemble\\forest.py:246: FutureWarning: The default value of n_estimators will change from 10 in version 0.20 to 100 in 0.22.\n",
      "  \"10 in version 0.20 to 100 in 0.22.\", FutureWarning)\n",
      "C:\\ProgramData\\Anaconda3\\lib\\site-packages\\sklearn\\ensemble\\forest.py:246: FutureWarning: The default value of n_estimators will change from 10 in version 0.20 to 100 in 0.22.\n",
      "  \"10 in version 0.20 to 100 in 0.22.\", FutureWarning)\n",
      "C:\\ProgramData\\Anaconda3\\lib\\site-packages\\sklearn\\linear_model\\ridge.py:125: LinAlgWarning: scipy.linalg.solve\n",
      "Ill-conditioned matrix detected. Result is not guaranteed to be accurate.\n",
      "Reciprocal condition number3.264970e-17\n",
      "  overwrite_a=True).T\n",
      "C:\\ProgramData\\Anaconda3\\lib\\site-packages\\sklearn\\linear_model\\ridge.py:125: LinAlgWarning: scipy.linalg.solve\n",
      "Ill-conditioned matrix detected. Result is not guaranteed to be accurate.\n",
      "Reciprocal condition number2.997973e-17\n",
      "  overwrite_a=True).T\n",
      "C:\\ProgramData\\Anaconda3\\lib\\site-packages\\sklearn\\linear_model\\ridge.py:125: LinAlgWarning: scipy.linalg.solve\n",
      "Ill-conditioned matrix detected. Result is not guaranteed to be accurate.\n",
      "Reciprocal condition number3.378425e-17\n",
      "  overwrite_a=True).T\n",
      "C:\\ProgramData\\Anaconda3\\lib\\site-packages\\sklearn\\linear_model\\ridge.py:125: LinAlgWarning: scipy.linalg.solve\n",
      "Ill-conditioned matrix detected. Result is not guaranteed to be accurate.\n",
      "Reciprocal condition number4.014177e-17\n",
      "  overwrite_a=True).T\n"
     ]
    },
    {
     "name": "stdout",
     "output_type": "stream",
     "text": [
      "[0 0 0 0 0 0 0 0 0 0 0 0 0 0 0 0 0 0 0 0 0 0 0 0 0 0 0 0 0 1 1 1 1 1 1 1 1\n",
      " 1 1 1 1 1 1 1 1 1 1 1 1 1 1 1 1 1 1 1 1 1 1 1 1 1 1 1 1 1 1 1 1 1 1 1 1 1\n",
      " 1 1 1 1 1 1 1 1 1 1 1 1 1] 1.00 0.67 1.00 RidgeClassifier\n",
      "[0 0 0 0 0 0 0 0 0 0 0 0 0 0 0 0 0 0 0 0 0 0 0 0 0 0 0 0 0 1 1 1 1 1 1 1 1\n",
      " 1 1 1 1 1 1 1 1 1 1 1 1 1 1 1 1 1 1 1 1 1 1 1 1 1 1 1 1 1 1 1 1 1 1 1 1 1\n",
      " 1 1 1 1 1 1 1 1 1 1 1 1 1] 0.75 0.67 1.00 RidgeClassifierCV\n",
      "[0 0 0 0 0 0 0 0 0 0 0 0 0 0 0 0 0 0 0 0 0 0 0 0 0 0 0 0 0 1 1 1 1 1 1 1 1\n",
      " 1 1 1 1 1 1 1 1 1 1 1 1 1 1 1 1 1 1 1 1 1 1 1 1 1 1 1 1 1 1 1 1 1 1 1 1 1\n",
      " 1 1 1 1 1 1 1 1 1 1 1 1 1] 1.00 0.67 1.00 SGDClassifier\n",
      "[0 0 0 0 0 0 0 0 0 0 0 0 0 0 0 0 0 0 0 0 0 0 0 0 0 0 0 0 0 1 1 1 1 1 1 1 1\n",
      " 1 1 1 1 1 1 1 1 1 1 1 1 1 1 1 1 1 1 1 1 1 1 1 1 1 1 1 1 1 1 1 1 1 1 1 1 1\n",
      " 1 1 1 1 1 1 1 1 1 1 1 1 1] 0.67 0.67 1.00 SVC\n"
     ]
    },
    {
     "name": "stderr",
     "output_type": "stream",
     "text": [
      "C:\\ProgramData\\Anaconda3\\lib\\site-packages\\sklearn\\linear_model\\ridge.py:125: LinAlgWarning: scipy.linalg.solve\n",
      "Ill-conditioned matrix detected. Result is not guaranteed to be accurate.\n",
      "Reciprocal condition number3.239407e-17\n",
      "  overwrite_a=True).T\n",
      "C:\\ProgramData\\Anaconda3\\lib\\site-packages\\sklearn\\linear_model\\ridge.py:125: LinAlgWarning: scipy.linalg.solve\n",
      "Ill-conditioned matrix detected. Result is not guaranteed to be accurate.\n",
      "Reciprocal condition number2.709358e-17\n",
      "  overwrite_a=True).T\n",
      "C:\\ProgramData\\Anaconda3\\lib\\site-packages\\sklearn\\linear_model\\stochastic_gradient.py:166: FutureWarning: max_iter and tol parameters have been added in SGDClassifier in 0.19. If both are left unset, they default to max_iter=5 and tol=None. If tol is not None, max_iter defaults to max_iter=1000. From 0.21, default max_iter will be 1000, and default tol will be 1e-3.\n",
      "  FutureWarning)\n",
      "C:\\ProgramData\\Anaconda3\\lib\\site-packages\\sklearn\\linear_model\\stochastic_gradient.py:166: FutureWarning: max_iter and tol parameters have been added in SGDClassifier in 0.19. If both are left unset, they default to max_iter=5 and tol=None. If tol is not None, max_iter defaults to max_iter=1000. From 0.21, default max_iter will be 1000, and default tol will be 1e-3.\n",
      "  FutureWarning)\n",
      "C:\\ProgramData\\Anaconda3\\lib\\site-packages\\sklearn\\linear_model\\stochastic_gradient.py:166: FutureWarning: max_iter and tol parameters have been added in SGDClassifier in 0.19. If both are left unset, they default to max_iter=5 and tol=None. If tol is not None, max_iter defaults to max_iter=1000. From 0.21, default max_iter will be 1000, and default tol will be 1e-3.\n",
      "  FutureWarning)\n",
      "C:\\ProgramData\\Anaconda3\\lib\\site-packages\\sklearn\\linear_model\\stochastic_gradient.py:166: FutureWarning: max_iter and tol parameters have been added in SGDClassifier in 0.19. If both are left unset, they default to max_iter=5 and tol=None. If tol is not None, max_iter defaults to max_iter=1000. From 0.21, default max_iter will be 1000, and default tol will be 1e-3.\n",
      "  FutureWarning)\n",
      "C:\\ProgramData\\Anaconda3\\lib\\site-packages\\sklearn\\linear_model\\stochastic_gradient.py:166: FutureWarning: max_iter and tol parameters have been added in SGDClassifier in 0.19. If both are left unset, they default to max_iter=5 and tol=None. If tol is not None, max_iter defaults to max_iter=1000. From 0.21, default max_iter will be 1000, and default tol will be 1e-3.\n",
      "  FutureWarning)\n",
      "C:\\ProgramData\\Anaconda3\\lib\\site-packages\\sklearn\\linear_model\\stochastic_gradient.py:166: FutureWarning: max_iter and tol parameters have been added in SGDClassifier in 0.19. If both are left unset, they default to max_iter=5 and tol=None. If tol is not None, max_iter defaults to max_iter=1000. From 0.21, default max_iter will be 1000, and default tol will be 1e-3.\n",
      "  FutureWarning)\n",
      "C:\\ProgramData\\Anaconda3\\lib\\site-packages\\sklearn\\svm\\base.py:196: FutureWarning: The default value of gamma will change from 'auto' to 'scale' in version 0.22 to account better for unscaled features. Set gamma explicitly to 'auto' or 'scale' to avoid this warning.\n",
      "  \"avoid this warning.\", FutureWarning)\n",
      "C:\\ProgramData\\Anaconda3\\lib\\site-packages\\sklearn\\svm\\base.py:196: FutureWarning: The default value of gamma will change from 'auto' to 'scale' in version 0.22 to account better for unscaled features. Set gamma explicitly to 'auto' or 'scale' to avoid this warning.\n",
      "  \"avoid this warning.\", FutureWarning)\n",
      "C:\\ProgramData\\Anaconda3\\lib\\site-packages\\sklearn\\svm\\base.py:196: FutureWarning: The default value of gamma will change from 'auto' to 'scale' in version 0.22 to account better for unscaled features. Set gamma explicitly to 'auto' or 'scale' to avoid this warning.\n",
      "  \"avoid this warning.\", FutureWarning)\n",
      "C:\\ProgramData\\Anaconda3\\lib\\site-packages\\sklearn\\svm\\base.py:196: FutureWarning: The default value of gamma will change from 'auto' to 'scale' in version 0.22 to account better for unscaled features. Set gamma explicitly to 'auto' or 'scale' to avoid this warning.\n",
      "  \"avoid this warning.\", FutureWarning)\n",
      "C:\\ProgramData\\Anaconda3\\lib\\site-packages\\sklearn\\svm\\base.py:196: FutureWarning: The default value of gamma will change from 'auto' to 'scale' in version 0.22 to account better for unscaled features. Set gamma explicitly to 'auto' or 'scale' to avoid this warning.\n",
      "  \"avoid this warning.\", FutureWarning)\n",
      "C:\\ProgramData\\Anaconda3\\lib\\site-packages\\sklearn\\svm\\base.py:196: FutureWarning: The default value of gamma will change from 'auto' to 'scale' in version 0.22 to account better for unscaled features. Set gamma explicitly to 'auto' or 'scale' to avoid this warning.\n",
      "  \"avoid this warning.\", FutureWarning)\n"
     ]
    }
   ],
   "source": [
    "from sklearn.base import ClassifierMixin\n",
    "from sklearn.utils.testing import all_estimators\n",
    "classifiers=[est for est in all_estimators() if issubclass(est[1], ClassifierMixin)]\n",
    "#print(classifiers)\n",
    "\n",
    "clfs = [svm.SVC(kernel = 'rbf', C = 1, class_weight = \"balanced\", gamma = 'auto'), \n",
    "            neighbors.KNeighborsClassifier(n_neighbors = 2),\n",
    "            svm.LinearSVC(C = 1, class_weight = \"balanced\"),\n",
    "            ensemble.RandomForestClassifier(n_estimators = 4)]\n",
    "Y = (y > 0).astype('uint8')\n",
    "for clf in classifiers:\n",
    "    clf = clf[1]()\n",
    "    try:\n",
    "        score = cross_val_score(clf, data, Y, cv=5).mean()\n",
    "        clf.fit(data, Y)\n",
    "        predicted = clf.predict(data)\n",
    "        score2 = clf.score(data, Y)\n",
    "        val = float(np.bincount(Y).max()) / len(Y)\n",
    "        print (predicted, \"{:.2f}\".format(score), \"{:.2f}\".format(val), \"{:.2f}\".format(score2), type(clf).__name__)\n",
    "    except:\n",
    "        pass"
   ]
  },
  {
   "cell_type": "code",
   "execution_count": 22,
   "metadata": {},
   "outputs": [
    {
     "data": {
      "text/html": [
       "<div>\n",
       "<style scoped>\n",
       "    .dataframe tbody tr th:only-of-type {\n",
       "        vertical-align: middle;\n",
       "    }\n",
       "\n",
       "    .dataframe tbody tr th {\n",
       "        vertical-align: top;\n",
       "    }\n",
       "\n",
       "    .dataframe thead th {\n",
       "        text-align: right;\n",
       "    }\n",
       "</style>\n",
       "<table border=\"1\" class=\"dataframe\">\n",
       "  <thead>\n",
       "    <tr style=\"text-align: right;\">\n",
       "      <th></th>\n",
       "      <th>0</th>\n",
       "      <th>1</th>\n",
       "      <th>2</th>\n",
       "      <th>3</th>\n",
       "      <th>4</th>\n",
       "      <th>5</th>\n",
       "      <th>6</th>\n",
       "      <th>7</th>\n",
       "      <th>8</th>\n",
       "      <th>9</th>\n",
       "      <th>...</th>\n",
       "      <th>22</th>\n",
       "      <th>23</th>\n",
       "      <th>24</th>\n",
       "      <th>25</th>\n",
       "      <th>26</th>\n",
       "      <th>27</th>\n",
       "      <th>28</th>\n",
       "      <th>29</th>\n",
       "      <th>30</th>\n",
       "      <th>31</th>\n",
       "    </tr>\n",
       "  </thead>\n",
       "  <tbody>\n",
       "    <tr>\n",
       "      <th>0</th>\n",
       "      <td>5784</td>\n",
       "      <td>1.919681e+07</td>\n",
       "      <td>0</td>\n",
       "      <td>4793.972825</td>\n",
       "      <td>240661.980998</td>\n",
       "      <td>0</td>\n",
       "      <td>0.031190</td>\n",
       "      <td>0.000012</td>\n",
       "      <td>0.000068</td>\n",
       "      <td>0.000481</td>\n",
       "      <td>...</td>\n",
       "      <td>0</td>\n",
       "      <td>30.865140</td>\n",
       "      <td>193.585539</td>\n",
       "      <td>227723</td>\n",
       "      <td>14756</td>\n",
       "      <td>11649</td>\n",
       "      <td>0.789442</td>\n",
       "      <td>0.051154</td>\n",
       "      <td>0.348444</td>\n",
       "      <td>1733</td>\n",
       "    </tr>\n",
       "    <tr>\n",
       "      <th>1</th>\n",
       "      <td>6794</td>\n",
       "      <td>3.178820e+07</td>\n",
       "      <td>0</td>\n",
       "      <td>5218.149024</td>\n",
       "      <td>311968.162671</td>\n",
       "      <td>0</td>\n",
       "      <td>0.052891</td>\n",
       "      <td>0.000012</td>\n",
       "      <td>0.000068</td>\n",
       "      <td>0.000661</td>\n",
       "      <td>...</td>\n",
       "      <td>0</td>\n",
       "      <td>23.456899</td>\n",
       "      <td>194.776024</td>\n",
       "      <td>173065</td>\n",
       "      <td>14756</td>\n",
       "      <td>12369</td>\n",
       "      <td>0.838235</td>\n",
       "      <td>0.071470</td>\n",
       "      <td>0.396730</td>\n",
       "      <td>1451</td>\n",
       "    </tr>\n",
       "    <tr>\n",
       "      <th>2</th>\n",
       "      <td>3145</td>\n",
       "      <td>3.008115e+07</td>\n",
       "      <td>0</td>\n",
       "      <td>6449.089184</td>\n",
       "      <td>271046.371279</td>\n",
       "      <td>0</td>\n",
       "      <td>0.022461</td>\n",
       "      <td>0.000011</td>\n",
       "      <td>0.000068</td>\n",
       "      <td>0.000252</td>\n",
       "      <td>...</td>\n",
       "      <td>0</td>\n",
       "      <td>178.899837</td>\n",
       "      <td>463.849655</td>\n",
       "      <td>1319923</td>\n",
       "      <td>14756</td>\n",
       "      <td>13866</td>\n",
       "      <td>0.939686</td>\n",
       "      <td>0.010505</td>\n",
       "      <td>0.505752</td>\n",
       "      <td>3366</td>\n",
       "    </tr>\n",
       "    <tr>\n",
       "      <th>3</th>\n",
       "      <td>7103</td>\n",
       "      <td>2.819635e+07</td>\n",
       "      <td>0</td>\n",
       "      <td>4711.488411</td>\n",
       "      <td>324698.997066</td>\n",
       "      <td>0</td>\n",
       "      <td>0.063424</td>\n",
       "      <td>0.000012</td>\n",
       "      <td>0.000068</td>\n",
       "      <td>0.000809</td>\n",
       "      <td>...</td>\n",
       "      <td>0</td>\n",
       "      <td>14.067362</td>\n",
       "      <td>149.268327</td>\n",
       "      <td>103789</td>\n",
       "      <td>14756</td>\n",
       "      <td>11618</td>\n",
       "      <td>0.787341</td>\n",
       "      <td>0.111939</td>\n",
       "      <td>0.346997</td>\n",
       "      <td>1053</td>\n",
       "    </tr>\n",
       "    <tr>\n",
       "      <th>4</th>\n",
       "      <td>5103</td>\n",
       "      <td>2.206385e+07</td>\n",
       "      <td>0</td>\n",
       "      <td>4751.740241</td>\n",
       "      <td>214261.707832</td>\n",
       "      <td>0</td>\n",
       "      <td>0.025997</td>\n",
       "      <td>0.000013</td>\n",
       "      <td>0.000068</td>\n",
       "      <td>0.000349</td>\n",
       "      <td>...</td>\n",
       "      <td>0</td>\n",
       "      <td>47.044728</td>\n",
       "      <td>208.237730</td>\n",
       "      <td>347096</td>\n",
       "      <td>14756</td>\n",
       "      <td>11432</td>\n",
       "      <td>0.774736</td>\n",
       "      <td>0.032936</td>\n",
       "      <td>0.332817</td>\n",
       "      <td>2112</td>\n",
       "    </tr>\n",
       "    <tr>\n",
       "      <th>5</th>\n",
       "      <td>6709</td>\n",
       "      <td>3.081925e+07</td>\n",
       "      <td>0</td>\n",
       "      <td>4355.848333</td>\n",
       "      <td>274532.883561</td>\n",
       "      <td>0</td>\n",
       "      <td>0.063441</td>\n",
       "      <td>0.000013</td>\n",
       "      <td>0.000068</td>\n",
       "      <td>0.000724</td>\n",
       "      <td>...</td>\n",
       "      <td>0</td>\n",
       "      <td>13.148008</td>\n",
       "      <td>133.300700</td>\n",
       "      <td>97006</td>\n",
       "      <td>14756</td>\n",
       "      <td>10861</td>\n",
       "      <td>0.736040</td>\n",
       "      <td>0.111962</td>\n",
       "      <td>0.297630</td>\n",
       "      <td>995</td>\n",
       "    </tr>\n",
       "    <tr>\n",
       "      <th>6</th>\n",
       "      <td>9373</td>\n",
       "      <td>4.384667e+07</td>\n",
       "      <td>0</td>\n",
       "      <td>6580.887436</td>\n",
       "      <td>511810.575646</td>\n",
       "      <td>0</td>\n",
       "      <td>0.106310</td>\n",
       "      <td>0.000011</td>\n",
       "      <td>0.000068</td>\n",
       "      <td>0.001298</td>\n",
       "      <td>...</td>\n",
       "      <td>0</td>\n",
       "      <td>10.064381</td>\n",
       "      <td>173.156916</td>\n",
       "      <td>74255</td>\n",
       "      <td>14756</td>\n",
       "      <td>13935</td>\n",
       "      <td>0.944362</td>\n",
       "      <td>0.187664</td>\n",
       "      <td>0.499722</td>\n",
       "      <td>836</td>\n",
       "    </tr>\n",
       "    <tr>\n",
       "      <th>7</th>\n",
       "      <td>7470</td>\n",
       "      <td>2.090158e+07</td>\n",
       "      <td>0</td>\n",
       "      <td>4203.179385</td>\n",
       "      <td>208935.551557</td>\n",
       "      <td>0</td>\n",
       "      <td>0.051416</td>\n",
       "      <td>0.000014</td>\n",
       "      <td>0.000068</td>\n",
       "      <td>0.000680</td>\n",
       "      <td>...</td>\n",
       "      <td>0</td>\n",
       "      <td>12.307943</td>\n",
       "      <td>125.001291</td>\n",
       "      <td>90808</td>\n",
       "      <td>14756</td>\n",
       "      <td>10302</td>\n",
       "      <td>0.698157</td>\n",
       "      <td>0.113448</td>\n",
       "      <td>0.260771</td>\n",
       "      <td>940</td>\n",
       "    </tr>\n",
       "    <tr>\n",
       "      <th>8</th>\n",
       "      <td>8761</td>\n",
       "      <td>5.882291e+07</td>\n",
       "      <td>0</td>\n",
       "      <td>5273.566481</td>\n",
       "      <td>493581.508209</td>\n",
       "      <td>0</td>\n",
       "      <td>0.121513</td>\n",
       "      <td>0.000012</td>\n",
       "      <td>0.000068</td>\n",
       "      <td>0.001141</td>\n",
       "      <td>...</td>\n",
       "      <td>0</td>\n",
       "      <td>9.539848</td>\n",
       "      <td>133.331617</td>\n",
       "      <td>70385</td>\n",
       "      <td>14756</td>\n",
       "      <td>12463</td>\n",
       "      <td>0.844606</td>\n",
       "      <td>0.177069</td>\n",
       "      <td>0.401404</td>\n",
       "      <td>909</td>\n",
       "    </tr>\n",
       "    <tr>\n",
       "      <th>9</th>\n",
       "      <td>3652</td>\n",
       "      <td>2.520365e+07</td>\n",
       "      <td>0</td>\n",
       "      <td>5984.770670</td>\n",
       "      <td>344248.997834</td>\n",
       "      <td>0</td>\n",
       "      <td>0.079699</td>\n",
       "      <td>0.000011</td>\n",
       "      <td>0.000068</td>\n",
       "      <td>0.001264</td>\n",
       "      <td>...</td>\n",
       "      <td>0</td>\n",
       "      <td>10.989157</td>\n",
       "      <td>213.964344</td>\n",
       "      <td>81078</td>\n",
       "      <td>14756</td>\n",
       "      <td>13279</td>\n",
       "      <td>0.899905</td>\n",
       "      <td>0.163781</td>\n",
       "      <td>0.456437</td>\n",
       "      <td>514</td>\n",
       "    </tr>\n",
       "    <tr>\n",
       "      <th>10</th>\n",
       "      <td>5217</td>\n",
       "      <td>3.207252e+07</td>\n",
       "      <td>0</td>\n",
       "      <td>5411.318786</td>\n",
       "      <td>315824.945159</td>\n",
       "      <td>0</td>\n",
       "      <td>0.065111</td>\n",
       "      <td>0.000012</td>\n",
       "      <td>0.000068</td>\n",
       "      <td>0.000872</td>\n",
       "      <td>...</td>\n",
       "      <td>0</td>\n",
       "      <td>16.104906</td>\n",
       "      <td>200.336599</td>\n",
       "      <td>118822</td>\n",
       "      <td>14756</td>\n",
       "      <td>12609</td>\n",
       "      <td>0.854500</td>\n",
       "      <td>0.106117</td>\n",
       "      <td>0.412319</td>\n",
       "      <td>807</td>\n",
       "    </tr>\n",
       "    <tr>\n",
       "      <th>11</th>\n",
       "      <td>6070</td>\n",
       "      <td>4.826322e+07</td>\n",
       "      <td>0</td>\n",
       "      <td>5541.303470</td>\n",
       "      <td>416815.106761</td>\n",
       "      <td>0</td>\n",
       "      <td>0.087928</td>\n",
       "      <td>0.000011</td>\n",
       "      <td>0.000068</td>\n",
       "      <td>0.000950</td>\n",
       "      <td>...</td>\n",
       "      <td>0</td>\n",
       "      <td>13.376931</td>\n",
       "      <td>170.081898</td>\n",
       "      <td>98695</td>\n",
       "      <td>14756</td>\n",
       "      <td>12777</td>\n",
       "      <td>0.865885</td>\n",
       "      <td>0.129459</td>\n",
       "      <td>0.422868</td>\n",
       "      <td>811</td>\n",
       "    </tr>\n",
       "    <tr>\n",
       "      <th>12</th>\n",
       "      <td>4676</td>\n",
       "      <td>8.059084e+06</td>\n",
       "      <td>0</td>\n",
       "      <td>4944.723367</td>\n",
       "      <td>94101.990454</td>\n",
       "      <td>0</td>\n",
       "      <td>0.008376</td>\n",
       "      <td>0.000013</td>\n",
       "      <td>0.000068</td>\n",
       "      <td>0.000199</td>\n",
       "      <td>...</td>\n",
       "      <td>0</td>\n",
       "      <td>76.999458</td>\n",
       "      <td>237.035602</td>\n",
       "      <td>568102</td>\n",
       "      <td>14756</td>\n",
       "      <td>11024</td>\n",
       "      <td>0.747086</td>\n",
       "      <td>0.019405</td>\n",
       "      <td>0.297434</td>\n",
       "      <td>2745</td>\n",
       "    </tr>\n",
       "    <tr>\n",
       "      <th>13</th>\n",
       "      <td>3107</td>\n",
       "      <td>1.970367e+07</td>\n",
       "      <td>0</td>\n",
       "      <td>5390.699648</td>\n",
       "      <td>256693.737679</td>\n",
       "      <td>0</td>\n",
       "      <td>0.029068</td>\n",
       "      <td>0.000012</td>\n",
       "      <td>0.000068</td>\n",
       "      <td>0.000465</td>\n",
       "      <td>...</td>\n",
       "      <td>0</td>\n",
       "      <td>42.116698</td>\n",
       "      <td>240.623195</td>\n",
       "      <td>310737</td>\n",
       "      <td>14756</td>\n",
       "      <td>12509</td>\n",
       "      <td>0.847723</td>\n",
       "      <td>0.040256</td>\n",
       "      <td>0.405311</td>\n",
       "      <td>2239</td>\n",
       "    </tr>\n",
       "    <tr>\n",
       "      <th>14</th>\n",
       "      <td>5250</td>\n",
       "      <td>2.364352e+07</td>\n",
       "      <td>0</td>\n",
       "      <td>5621.956425</td>\n",
       "      <td>309248.862247</td>\n",
       "      <td>0</td>\n",
       "      <td>0.044284</td>\n",
       "      <td>0.000011</td>\n",
       "      <td>0.000068</td>\n",
       "      <td>0.000677</td>\n",
       "      <td>...</td>\n",
       "      <td>0</td>\n",
       "      <td>25.336677</td>\n",
       "      <td>219.535780</td>\n",
       "      <td>186934</td>\n",
       "      <td>14756</td>\n",
       "      <td>12862</td>\n",
       "      <td>0.871645</td>\n",
       "      <td>0.068805</td>\n",
       "      <td>0.429259</td>\n",
       "      <td>1296</td>\n",
       "    </tr>\n",
       "    <tr>\n",
       "      <th>15</th>\n",
       "      <td>6056</td>\n",
       "      <td>3.913562e+07</td>\n",
       "      <td>0</td>\n",
       "      <td>5685.302657</td>\n",
       "      <td>360956.476087</td>\n",
       "      <td>0</td>\n",
       "      <td>0.081263</td>\n",
       "      <td>0.000011</td>\n",
       "      <td>0.000068</td>\n",
       "      <td>0.001043</td>\n",
       "      <td>...</td>\n",
       "      <td>0</td>\n",
       "      <td>13.258607</td>\n",
       "      <td>204.414478</td>\n",
       "      <td>97822</td>\n",
       "      <td>14756</td>\n",
       "      <td>12949</td>\n",
       "      <td>0.877541</td>\n",
       "      <td>0.132373</td>\n",
       "      <td>0.434797</td>\n",
       "      <td>513</td>\n",
       "    </tr>\n",
       "    <tr>\n",
       "      <th>16</th>\n",
       "      <td>8092</td>\n",
       "      <td>2.063759e+07</td>\n",
       "      <td>0</td>\n",
       "      <td>3938.772160</td>\n",
       "      <td>209749.675163</td>\n",
       "      <td>0</td>\n",
       "      <td>0.061286</td>\n",
       "      <td>0.000014</td>\n",
       "      <td>0.000068</td>\n",
       "      <td>0.000756</td>\n",
       "      <td>...</td>\n",
       "      <td>0</td>\n",
       "      <td>8.783410</td>\n",
       "      <td>98.046945</td>\n",
       "      <td>64804</td>\n",
       "      <td>14756</td>\n",
       "      <td>9704</td>\n",
       "      <td>0.657631</td>\n",
       "      <td>0.149744</td>\n",
       "      <td>0.226128</td>\n",
       "      <td>848</td>\n",
       "    </tr>\n",
       "    <tr>\n",
       "      <th>17</th>\n",
       "      <td>3078</td>\n",
       "      <td>2.678981e+07</td>\n",
       "      <td>0</td>\n",
       "      <td>5724.722960</td>\n",
       "      <td>341169.802640</td>\n",
       "      <td>0</td>\n",
       "      <td>0.086848</td>\n",
       "      <td>0.000011</td>\n",
       "      <td>0.000068</td>\n",
       "      <td>0.001313</td>\n",
       "      <td>...</td>\n",
       "      <td>0</td>\n",
       "      <td>9.859718</td>\n",
       "      <td>199.706977</td>\n",
       "      <td>72745</td>\n",
       "      <td>14756</td>\n",
       "      <td>12969</td>\n",
       "      <td>0.878897</td>\n",
       "      <td>0.178280</td>\n",
       "      <td>0.434931</td>\n",
       "      <td>440</td>\n",
       "    </tr>\n",
       "    <tr>\n",
       "      <th>18</th>\n",
       "      <td>7440</td>\n",
       "      <td>3.990279e+07</td>\n",
       "      <td>0</td>\n",
       "      <td>4246.773719</td>\n",
       "      <td>331077.317437</td>\n",
       "      <td>0</td>\n",
       "      <td>0.074181</td>\n",
       "      <td>0.000013</td>\n",
       "      <td>0.000068</td>\n",
       "      <td>0.000712</td>\n",
       "      <td>...</td>\n",
       "      <td>0</td>\n",
       "      <td>12.451477</td>\n",
       "      <td>113.172913</td>\n",
       "      <td>91867</td>\n",
       "      <td>14756</td>\n",
       "      <td>10663</td>\n",
       "      <td>0.722621</td>\n",
       "      <td>0.116070</td>\n",
       "      <td>0.285318</td>\n",
       "      <td>1043</td>\n",
       "    </tr>\n",
       "    <tr>\n",
       "      <th>19</th>\n",
       "      <td>7955</td>\n",
       "      <td>2.897846e+07</td>\n",
       "      <td>0</td>\n",
       "      <td>5095.622052</td>\n",
       "      <td>328978.916090</td>\n",
       "      <td>0</td>\n",
       "      <td>0.069540</td>\n",
       "      <td>0.000012</td>\n",
       "      <td>0.000068</td>\n",
       "      <td>0.000927</td>\n",
       "      <td>...</td>\n",
       "      <td>0</td>\n",
       "      <td>13.391027</td>\n",
       "      <td>171.046967</td>\n",
       "      <td>98799</td>\n",
       "      <td>14756</td>\n",
       "      <td>12197</td>\n",
       "      <td>0.826579</td>\n",
       "      <td>0.123453</td>\n",
       "      <td>0.384803</td>\n",
       "      <td>877</td>\n",
       "    </tr>\n",
       "    <tr>\n",
       "      <th>20</th>\n",
       "      <td>6434</td>\n",
       "      <td>2.895810e+07</td>\n",
       "      <td>0</td>\n",
       "      <td>6088.712930</td>\n",
       "      <td>343894.919309</td>\n",
       "      <td>0</td>\n",
       "      <td>0.046534</td>\n",
       "      <td>0.000011</td>\n",
       "      <td>0.000068</td>\n",
       "      <td>0.000657</td>\n",
       "      <td>...</td>\n",
       "      <td>0</td>\n",
       "      <td>29.243969</td>\n",
       "      <td>225.938628</td>\n",
       "      <td>215762</td>\n",
       "      <td>14756</td>\n",
       "      <td>13408</td>\n",
       "      <td>0.908647</td>\n",
       "      <td>0.062143</td>\n",
       "      <td>0.466542</td>\n",
       "      <td>1900</td>\n",
       "    </tr>\n",
       "    <tr>\n",
       "      <th>21</th>\n",
       "      <td>4800</td>\n",
       "      <td>2.231146e+07</td>\n",
       "      <td>0</td>\n",
       "      <td>5085.328815</td>\n",
       "      <td>237447.362271</td>\n",
       "      <td>0</td>\n",
       "      <td>0.040080</td>\n",
       "      <td>0.000012</td>\n",
       "      <td>0.000068</td>\n",
       "      <td>0.000614</td>\n",
       "      <td>...</td>\n",
       "      <td>0</td>\n",
       "      <td>26.309027</td>\n",
       "      <td>225.905555</td>\n",
       "      <td>194108</td>\n",
       "      <td>14756</td>\n",
       "      <td>12148</td>\n",
       "      <td>0.823258</td>\n",
       "      <td>0.062584</td>\n",
       "      <td>0.382035</td>\n",
       "      <td>1020</td>\n",
       "    </tr>\n",
       "    <tr>\n",
       "      <th>22</th>\n",
       "      <td>6105</td>\n",
       "      <td>2.314741e+07</td>\n",
       "      <td>0</td>\n",
       "      <td>5139.665424</td>\n",
       "      <td>266173.380854</td>\n",
       "      <td>0</td>\n",
       "      <td>0.048682</td>\n",
       "      <td>0.000012</td>\n",
       "      <td>0.000068</td>\n",
       "      <td>0.000742</td>\n",
       "      <td>...</td>\n",
       "      <td>0</td>\n",
       "      <td>19.636758</td>\n",
       "      <td>206.983531</td>\n",
       "      <td>144880</td>\n",
       "      <td>14756</td>\n",
       "      <td>12224</td>\n",
       "      <td>0.828409</td>\n",
       "      <td>0.084373</td>\n",
       "      <td>0.386618</td>\n",
       "      <td>917</td>\n",
       "    </tr>\n",
       "    <tr>\n",
       "      <th>23</th>\n",
       "      <td>5752</td>\n",
       "      <td>3.143332e+07</td>\n",
       "      <td>0</td>\n",
       "      <td>5994.125644</td>\n",
       "      <td>346376.935818</td>\n",
       "      <td>0</td>\n",
       "      <td>0.065157</td>\n",
       "      <td>0.000011</td>\n",
       "      <td>0.000068</td>\n",
       "      <td>0.000919</td>\n",
       "      <td>...</td>\n",
       "      <td>0</td>\n",
       "      <td>16.975197</td>\n",
       "      <td>216.325576</td>\n",
       "      <td>125243</td>\n",
       "      <td>14756</td>\n",
       "      <td>13301</td>\n",
       "      <td>0.901396</td>\n",
       "      <td>0.106202</td>\n",
       "      <td>0.458919</td>\n",
       "      <td>924</td>\n",
       "    </tr>\n",
       "    <tr>\n",
       "      <th>24</th>\n",
       "      <td>9251</td>\n",
       "      <td>4.503658e+07</td>\n",
       "      <td>0</td>\n",
       "      <td>5621.641027</td>\n",
       "      <td>416510.079161</td>\n",
       "      <td>0</td>\n",
       "      <td>0.109054</td>\n",
       "      <td>0.000011</td>\n",
       "      <td>0.000068</td>\n",
       "      <td>0.001257</td>\n",
       "      <td>...</td>\n",
       "      <td>0</td>\n",
       "      <td>9.155191</td>\n",
       "      <td>166.639584</td>\n",
       "      <td>67547</td>\n",
       "      <td>14756</td>\n",
       "      <td>12872</td>\n",
       "      <td>0.872323</td>\n",
       "      <td>0.190564</td>\n",
       "      <td>0.428968</td>\n",
       "      <td>538</td>\n",
       "    </tr>\n",
       "    <tr>\n",
       "      <th>25</th>\n",
       "      <td>6430</td>\n",
       "      <td>3.447845e+07</td>\n",
       "      <td>0</td>\n",
       "      <td>6037.910613</td>\n",
       "      <td>404218.838125</td>\n",
       "      <td>0</td>\n",
       "      <td>0.059055</td>\n",
       "      <td>0.000011</td>\n",
       "      <td>0.000068</td>\n",
       "      <td>0.000770</td>\n",
       "      <td>...</td>\n",
       "      <td>0</td>\n",
       "      <td>21.420575</td>\n",
       "      <td>199.120938</td>\n",
       "      <td>158041</td>\n",
       "      <td>14756</td>\n",
       "      <td>13350</td>\n",
       "      <td>0.904717</td>\n",
       "      <td>0.084472</td>\n",
       "      <td>0.461498</td>\n",
       "      <td>1041</td>\n",
       "    </tr>\n",
       "    <tr>\n",
       "      <th>26</th>\n",
       "      <td>3865</td>\n",
       "      <td>3.907966e+06</td>\n",
       "      <td>0</td>\n",
       "      <td>5371.511182</td>\n",
       "      <td>71638.215867</td>\n",
       "      <td>0</td>\n",
       "      <td>0.004825</td>\n",
       "      <td>0.000012</td>\n",
       "      <td>0.000068</td>\n",
       "      <td>0.000179</td>\n",
       "      <td>...</td>\n",
       "      <td>0</td>\n",
       "      <td>121.835728</td>\n",
       "      <td>346.688031</td>\n",
       "      <td>898904</td>\n",
       "      <td>14756</td>\n",
       "      <td>11771</td>\n",
       "      <td>0.797709</td>\n",
       "      <td>0.013095</td>\n",
       "      <td>0.346845</td>\n",
       "      <td>3224</td>\n",
       "    </tr>\n",
       "    <tr>\n",
       "      <th>27</th>\n",
       "      <td>6704</td>\n",
       "      <td>3.533555e+07</td>\n",
       "      <td>0</td>\n",
       "      <td>4683.371849</td>\n",
       "      <td>312530.480583</td>\n",
       "      <td>0</td>\n",
       "      <td>0.068542</td>\n",
       "      <td>0.000012</td>\n",
       "      <td>0.000068</td>\n",
       "      <td>0.000779</td>\n",
       "      <td>...</td>\n",
       "      <td>0</td>\n",
       "      <td>14.412442</td>\n",
       "      <td>152.452333</td>\n",
       "      <td>106335</td>\n",
       "      <td>14756</td>\n",
       "      <td>11532</td>\n",
       "      <td>0.781513</td>\n",
       "      <td>0.108450</td>\n",
       "      <td>0.340968</td>\n",
       "      <td>1011</td>\n",
       "    </tr>\n",
       "    <tr>\n",
       "      <th>28</th>\n",
       "      <td>4450</td>\n",
       "      <td>2.141574e+07</td>\n",
       "      <td>0</td>\n",
       "      <td>5571.240445</td>\n",
       "      <td>241979.188406</td>\n",
       "      <td>0</td>\n",
       "      <td>0.032462</td>\n",
       "      <td>0.000011</td>\n",
       "      <td>0.000068</td>\n",
       "      <td>0.000521</td>\n",
       "      <td>...</td>\n",
       "      <td>0</td>\n",
       "      <td>39.203985</td>\n",
       "      <td>274.203368</td>\n",
       "      <td>289247</td>\n",
       "      <td>14756</td>\n",
       "      <td>12785</td>\n",
       "      <td>0.866427</td>\n",
       "      <td>0.044201</td>\n",
       "      <td>0.424914</td>\n",
       "      <td>1541</td>\n",
       "    </tr>\n",
       "    <tr>\n",
       "      <th>29</th>\n",
       "      <td>6100</td>\n",
       "      <td>2.572861e+07</td>\n",
       "      <td>0</td>\n",
       "      <td>4728.525617</td>\n",
       "      <td>260641.138066</td>\n",
       "      <td>0</td>\n",
       "      <td>0.046892</td>\n",
       "      <td>0.000012</td>\n",
       "      <td>0.000068</td>\n",
       "      <td>0.000630</td>\n",
       "      <td>...</td>\n",
       "      <td>0</td>\n",
       "      <td>21.135538</td>\n",
       "      <td>182.063113</td>\n",
       "      <td>155938</td>\n",
       "      <td>14756</td>\n",
       "      <td>11601</td>\n",
       "      <td>0.786189</td>\n",
       "      <td>0.074395</td>\n",
       "      <td>0.345848</td>\n",
       "      <td>1180</td>\n",
       "    </tr>\n",
       "    <tr>\n",
       "      <th>...</th>\n",
       "      <td>...</td>\n",
       "      <td>...</td>\n",
       "      <td>...</td>\n",
       "      <td>...</td>\n",
       "      <td>...</td>\n",
       "      <td>...</td>\n",
       "      <td>...</td>\n",
       "      <td>...</td>\n",
       "      <td>...</td>\n",
       "      <td>...</td>\n",
       "      <td>...</td>\n",
       "      <td>...</td>\n",
       "      <td>...</td>\n",
       "      <td>...</td>\n",
       "      <td>...</td>\n",
       "      <td>...</td>\n",
       "      <td>...</td>\n",
       "      <td>...</td>\n",
       "      <td>...</td>\n",
       "      <td>...</td>\n",
       "      <td>...</td>\n",
       "    </tr>\n",
       "    <tr>\n",
       "      <th>86</th>\n",
       "      <td>2909</td>\n",
       "      <td>1.618914e+07</td>\n",
       "      <td>0</td>\n",
       "      <td>6215.537815</td>\n",
       "      <td>269015.077559</td>\n",
       "      <td>0</td>\n",
       "      <td>0.034481</td>\n",
       "      <td>0.000011</td>\n",
       "      <td>0.000068</td>\n",
       "      <td>0.000687</td>\n",
       "      <td>...</td>\n",
       "      <td>0</td>\n",
       "      <td>30.705340</td>\n",
       "      <td>288.000768</td>\n",
       "      <td>226544</td>\n",
       "      <td>14756</td>\n",
       "      <td>13526</td>\n",
       "      <td>0.916644</td>\n",
       "      <td>0.059706</td>\n",
       "      <td>0.474667</td>\n",
       "      <td>1067</td>\n",
       "    </tr>\n",
       "    <tr>\n",
       "      <th>87</th>\n",
       "      <td>5446</td>\n",
       "      <td>4.940079e+07</td>\n",
       "      <td>0</td>\n",
       "      <td>5699.822581</td>\n",
       "      <td>410522.644652</td>\n",
       "      <td>0</td>\n",
       "      <td>0.054014</td>\n",
       "      <td>0.000012</td>\n",
       "      <td>0.000068</td>\n",
       "      <td>0.000532</td>\n",
       "      <td>...</td>\n",
       "      <td>0</td>\n",
       "      <td>23.879642</td>\n",
       "      <td>148.624134</td>\n",
       "      <td>176184</td>\n",
       "      <td>14756</td>\n",
       "      <td>12430</td>\n",
       "      <td>0.842369</td>\n",
       "      <td>0.070551</td>\n",
       "      <td>0.389794</td>\n",
       "      <td>1522</td>\n",
       "    </tr>\n",
       "    <tr>\n",
       "      <th>88</th>\n",
       "      <td>5194</td>\n",
       "      <td>5.372219e+06</td>\n",
       "      <td>0</td>\n",
       "      <td>6124.862022</td>\n",
       "      <td>108304.975097</td>\n",
       "      <td>0</td>\n",
       "      <td>0.011246</td>\n",
       "      <td>0.000013</td>\n",
       "      <td>0.000068</td>\n",
       "      <td>0.000324</td>\n",
       "      <td>...</td>\n",
       "      <td>0</td>\n",
       "      <td>23.615885</td>\n",
       "      <td>119.874611</td>\n",
       "      <td>174238</td>\n",
       "      <td>14756</td>\n",
       "      <td>11193</td>\n",
       "      <td>0.758539</td>\n",
       "      <td>0.064240</td>\n",
       "      <td>0.279458</td>\n",
       "      <td>1512</td>\n",
       "    </tr>\n",
       "    <tr>\n",
       "      <th>89</th>\n",
       "      <td>5552</td>\n",
       "      <td>1.155857e+07</td>\n",
       "      <td>0</td>\n",
       "      <td>5856.485633</td>\n",
       "      <td>136609.612447</td>\n",
       "      <td>0</td>\n",
       "      <td>0.019519</td>\n",
       "      <td>0.000013</td>\n",
       "      <td>0.000068</td>\n",
       "      <td>0.000364</td>\n",
       "      <td>...</td>\n",
       "      <td>0</td>\n",
       "      <td>20.619545</td>\n",
       "      <td>114.972961</td>\n",
       "      <td>152131</td>\n",
       "      <td>14756</td>\n",
       "      <td>11041</td>\n",
       "      <td>0.748238</td>\n",
       "      <td>0.072576</td>\n",
       "      <td>0.274417</td>\n",
       "      <td>1517</td>\n",
       "    </tr>\n",
       "    <tr>\n",
       "      <th>90</th>\n",
       "      <td>5284</td>\n",
       "      <td>1.143807e+07</td>\n",
       "      <td>0</td>\n",
       "      <td>6060.939076</td>\n",
       "      <td>145334.394664</td>\n",
       "      <td>0</td>\n",
       "      <td>0.017926</td>\n",
       "      <td>0.000013</td>\n",
       "      <td>0.000068</td>\n",
       "      <td>0.000342</td>\n",
       "      <td>...</td>\n",
       "      <td>0</td>\n",
       "      <td>24.962998</td>\n",
       "      <td>129.115220</td>\n",
       "      <td>184177</td>\n",
       "      <td>14756</td>\n",
       "      <td>11379</td>\n",
       "      <td>0.771144</td>\n",
       "      <td>0.061783</td>\n",
       "      <td>0.295389</td>\n",
       "      <td>1503</td>\n",
       "    </tr>\n",
       "    <tr>\n",
       "      <th>91</th>\n",
       "      <td>5135</td>\n",
       "      <td>7.660071e+06</td>\n",
       "      <td>0</td>\n",
       "      <td>6014.238208</td>\n",
       "      <td>125457.741358</td>\n",
       "      <td>0</td>\n",
       "      <td>0.014307</td>\n",
       "      <td>0.000013</td>\n",
       "      <td>0.000068</td>\n",
       "      <td>0.000347</td>\n",
       "      <td>...</td>\n",
       "      <td>0</td>\n",
       "      <td>23.979940</td>\n",
       "      <td>128.359539</td>\n",
       "      <td>176924</td>\n",
       "      <td>14756</td>\n",
       "      <td>11308</td>\n",
       "      <td>0.766332</td>\n",
       "      <td>0.063914</td>\n",
       "      <td>0.290995</td>\n",
       "      <td>1560</td>\n",
       "    </tr>\n",
       "    <tr>\n",
       "      <th>92</th>\n",
       "      <td>5347</td>\n",
       "      <td>7.400711e+06</td>\n",
       "      <td>0</td>\n",
       "      <td>6138.556248</td>\n",
       "      <td>112572.548122</td>\n",
       "      <td>0</td>\n",
       "      <td>0.013615</td>\n",
       "      <td>0.000013</td>\n",
       "      <td>0.000068</td>\n",
       "      <td>0.000325</td>\n",
       "      <td>...</td>\n",
       "      <td>0</td>\n",
       "      <td>22.472079</td>\n",
       "      <td>114.163498</td>\n",
       "      <td>165799</td>\n",
       "      <td>14756</td>\n",
       "      <td>11125</td>\n",
       "      <td>0.753931</td>\n",
       "      <td>0.067099</td>\n",
       "      <td>0.273930</td>\n",
       "      <td>1567</td>\n",
       "    </tr>\n",
       "    <tr>\n",
       "      <th>93</th>\n",
       "      <td>5002</td>\n",
       "      <td>8.251025e+06</td>\n",
       "      <td>0</td>\n",
       "      <td>6093.907766</td>\n",
       "      <td>123054.517052</td>\n",
       "      <td>0</td>\n",
       "      <td>0.014295</td>\n",
       "      <td>0.000013</td>\n",
       "      <td>0.000068</td>\n",
       "      <td>0.000329</td>\n",
       "      <td>...</td>\n",
       "      <td>0</td>\n",
       "      <td>26.500000</td>\n",
       "      <td>134.787849</td>\n",
       "      <td>195517</td>\n",
       "      <td>14756</td>\n",
       "      <td>11402</td>\n",
       "      <td>0.772703</td>\n",
       "      <td>0.058317</td>\n",
       "      <td>0.296424</td>\n",
       "      <td>1515</td>\n",
       "    </tr>\n",
       "    <tr>\n",
       "      <th>94</th>\n",
       "      <td>5617</td>\n",
       "      <td>8.163608e+06</td>\n",
       "      <td>0</td>\n",
       "      <td>5922.028260</td>\n",
       "      <td>113633.817078</td>\n",
       "      <td>0</td>\n",
       "      <td>0.015667</td>\n",
       "      <td>0.000013</td>\n",
       "      <td>0.000068</td>\n",
       "      <td>0.000337</td>\n",
       "      <td>...</td>\n",
       "      <td>0</td>\n",
       "      <td>20.093657</td>\n",
       "      <td>105.391259</td>\n",
       "      <td>148251</td>\n",
       "      <td>14756</td>\n",
       "      <td>10864</td>\n",
       "      <td>0.736243</td>\n",
       "      <td>0.073281</td>\n",
       "      <td>0.259511</td>\n",
       "      <td>1477</td>\n",
       "    </tr>\n",
       "    <tr>\n",
       "      <th>95</th>\n",
       "      <td>5347</td>\n",
       "      <td>7.465687e+06</td>\n",
       "      <td>0</td>\n",
       "      <td>6072.637097</td>\n",
       "      <td>116156.818529</td>\n",
       "      <td>0</td>\n",
       "      <td>0.013327</td>\n",
       "      <td>0.000013</td>\n",
       "      <td>0.000068</td>\n",
       "      <td>0.000312</td>\n",
       "      <td>...</td>\n",
       "      <td>0</td>\n",
       "      <td>24.570480</td>\n",
       "      <td>118.181298</td>\n",
       "      <td>181281</td>\n",
       "      <td>14756</td>\n",
       "      <td>11136</td>\n",
       "      <td>0.754676</td>\n",
       "      <td>0.061429</td>\n",
       "      <td>0.276380</td>\n",
       "      <td>1571</td>\n",
       "    </tr>\n",
       "    <tr>\n",
       "      <th>96</th>\n",
       "      <td>5225</td>\n",
       "      <td>7.974598e+06</td>\n",
       "      <td>0</td>\n",
       "      <td>6193.923963</td>\n",
       "      <td>111261.784709</td>\n",
       "      <td>0</td>\n",
       "      <td>0.014021</td>\n",
       "      <td>0.000013</td>\n",
       "      <td>0.000068</td>\n",
       "      <td>0.000328</td>\n",
       "      <td>...</td>\n",
       "      <td>0</td>\n",
       "      <td>23.764028</td>\n",
       "      <td>122.326180</td>\n",
       "      <td>175331</td>\n",
       "      <td>14756</td>\n",
       "      <td>11275</td>\n",
       "      <td>0.764096</td>\n",
       "      <td>0.064307</td>\n",
       "      <td>0.284029</td>\n",
       "      <td>1489</td>\n",
       "    </tr>\n",
       "    <tr>\n",
       "      <th>97</th>\n",
       "      <td>5506</td>\n",
       "      <td>7.352276e+06</td>\n",
       "      <td>0</td>\n",
       "      <td>5993.902684</td>\n",
       "      <td>100397.738820</td>\n",
       "      <td>0</td>\n",
       "      <td>0.013438</td>\n",
       "      <td>0.000013</td>\n",
       "      <td>0.000068</td>\n",
       "      <td>0.000312</td>\n",
       "      <td>...</td>\n",
       "      <td>0</td>\n",
       "      <td>20.339387</td>\n",
       "      <td>100.731357</td>\n",
       "      <td>150064</td>\n",
       "      <td>14756</td>\n",
       "      <td>10773</td>\n",
       "      <td>0.730076</td>\n",
       "      <td>0.071789</td>\n",
       "      <td>0.251379</td>\n",
       "      <td>1459</td>\n",
       "    </tr>\n",
       "    <tr>\n",
       "      <th>98</th>\n",
       "      <td>5828</td>\n",
       "      <td>9.669515e+06</td>\n",
       "      <td>0</td>\n",
       "      <td>5932.746476</td>\n",
       "      <td>124574.832999</td>\n",
       "      <td>0</td>\n",
       "      <td>0.017060</td>\n",
       "      <td>0.000013</td>\n",
       "      <td>0.000068</td>\n",
       "      <td>0.000334</td>\n",
       "      <td>...</td>\n",
       "      <td>0</td>\n",
       "      <td>19.380049</td>\n",
       "      <td>99.544170</td>\n",
       "      <td>142986</td>\n",
       "      <td>14756</td>\n",
       "      <td>10790</td>\n",
       "      <td>0.731228</td>\n",
       "      <td>0.075462</td>\n",
       "      <td>0.253891</td>\n",
       "      <td>1482</td>\n",
       "    </tr>\n",
       "    <tr>\n",
       "      <th>99</th>\n",
       "      <td>5045</td>\n",
       "      <td>9.971287e+06</td>\n",
       "      <td>0</td>\n",
       "      <td>6047.560924</td>\n",
       "      <td>130793.467930</td>\n",
       "      <td>0</td>\n",
       "      <td>0.016316</td>\n",
       "      <td>0.000013</td>\n",
       "      <td>0.000068</td>\n",
       "      <td>0.000342</td>\n",
       "      <td>...</td>\n",
       "      <td>0</td>\n",
       "      <td>25.759420</td>\n",
       "      <td>136.285705</td>\n",
       "      <td>190053</td>\n",
       "      <td>14756</td>\n",
       "      <td>11430</td>\n",
       "      <td>0.774600</td>\n",
       "      <td>0.060141</td>\n",
       "      <td>0.299738</td>\n",
       "      <td>1577</td>\n",
       "    </tr>\n",
       "    <tr>\n",
       "      <th>100</th>\n",
       "      <td>5372</td>\n",
       "      <td>7.475364e+06</td>\n",
       "      <td>0</td>\n",
       "      <td>6008.163256</td>\n",
       "      <td>111541.128333</td>\n",
       "      <td>0</td>\n",
       "      <td>0.013918</td>\n",
       "      <td>0.000013</td>\n",
       "      <td>0.000068</td>\n",
       "      <td>0.000324</td>\n",
       "      <td>...</td>\n",
       "      <td>0</td>\n",
       "      <td>21.780970</td>\n",
       "      <td>110.348360</td>\n",
       "      <td>160700</td>\n",
       "      <td>14756</td>\n",
       "      <td>10973</td>\n",
       "      <td>0.743630</td>\n",
       "      <td>0.068283</td>\n",
       "      <td>0.265695</td>\n",
       "      <td>1542</td>\n",
       "    </tr>\n",
       "    <tr>\n",
       "      <th>101</th>\n",
       "      <td>5371</td>\n",
       "      <td>5.684785e+06</td>\n",
       "      <td>0</td>\n",
       "      <td>6128.800352</td>\n",
       "      <td>104965.596338</td>\n",
       "      <td>0</td>\n",
       "      <td>0.011944</td>\n",
       "      <td>0.000013</td>\n",
       "      <td>0.000068</td>\n",
       "      <td>0.000329</td>\n",
       "      <td>...</td>\n",
       "      <td>0</td>\n",
       "      <td>21.617918</td>\n",
       "      <td>112.591686</td>\n",
       "      <td>159497</td>\n",
       "      <td>14756</td>\n",
       "      <td>11068</td>\n",
       "      <td>0.750068</td>\n",
       "      <td>0.069393</td>\n",
       "      <td>0.269882</td>\n",
       "      <td>1437</td>\n",
       "    </tr>\n",
       "    <tr>\n",
       "      <th>102</th>\n",
       "      <td>5455</td>\n",
       "      <td>7.224269e+06</td>\n",
       "      <td>0</td>\n",
       "      <td>6059.107211</td>\n",
       "      <td>115649.473466</td>\n",
       "      <td>0</td>\n",
       "      <td>0.014163</td>\n",
       "      <td>0.000013</td>\n",
       "      <td>0.000068</td>\n",
       "      <td>0.000347</td>\n",
       "      <td>...</td>\n",
       "      <td>0</td>\n",
       "      <td>20.755218</td>\n",
       "      <td>110.990173</td>\n",
       "      <td>153132</td>\n",
       "      <td>14756</td>\n",
       "      <td>11068</td>\n",
       "      <td>0.750068</td>\n",
       "      <td>0.072278</td>\n",
       "      <td>0.271513</td>\n",
       "      <td>1531</td>\n",
       "    </tr>\n",
       "    <tr>\n",
       "      <th>103</th>\n",
       "      <td>5019</td>\n",
       "      <td>1.124990e+07</td>\n",
       "      <td>0</td>\n",
       "      <td>6072.739292</td>\n",
       "      <td>140766.243001</td>\n",
       "      <td>0</td>\n",
       "      <td>0.017758</td>\n",
       "      <td>0.000012</td>\n",
       "      <td>0.000068</td>\n",
       "      <td>0.000348</td>\n",
       "      <td>...</td>\n",
       "      <td>0</td>\n",
       "      <td>26.356194</td>\n",
       "      <td>139.599056</td>\n",
       "      <td>194456</td>\n",
       "      <td>14756</td>\n",
       "      <td>11517</td>\n",
       "      <td>0.780496</td>\n",
       "      <td>0.059227</td>\n",
       "      <td>0.305974</td>\n",
       "      <td>1566</td>\n",
       "    </tr>\n",
       "    <tr>\n",
       "      <th>104</th>\n",
       "      <td>5321</td>\n",
       "      <td>5.719796e+06</td>\n",
       "      <td>0</td>\n",
       "      <td>6078.389198</td>\n",
       "      <td>113126.392303</td>\n",
       "      <td>0</td>\n",
       "      <td>0.012073</td>\n",
       "      <td>0.000013</td>\n",
       "      <td>0.000068</td>\n",
       "      <td>0.000337</td>\n",
       "      <td>...</td>\n",
       "      <td>0</td>\n",
       "      <td>22.034427</td>\n",
       "      <td>115.890372</td>\n",
       "      <td>162570</td>\n",
       "      <td>14756</td>\n",
       "      <td>11126</td>\n",
       "      <td>0.753998</td>\n",
       "      <td>0.068438</td>\n",
       "      <td>0.275462</td>\n",
       "      <td>1539</td>\n",
       "    </tr>\n",
       "    <tr>\n",
       "      <th>105</th>\n",
       "      <td>5217</td>\n",
       "      <td>5.839677e+06</td>\n",
       "      <td>0</td>\n",
       "      <td>6196.803741</td>\n",
       "      <td>106548.881286</td>\n",
       "      <td>0</td>\n",
       "      <td>0.011255</td>\n",
       "      <td>0.000013</td>\n",
       "      <td>0.000068</td>\n",
       "      <td>0.000311</td>\n",
       "      <td>...</td>\n",
       "      <td>0</td>\n",
       "      <td>23.923014</td>\n",
       "      <td>117.638468</td>\n",
       "      <td>176504</td>\n",
       "      <td>14756</td>\n",
       "      <td>11198</td>\n",
       "      <td>0.758878</td>\n",
       "      <td>0.063443</td>\n",
       "      <td>0.278102</td>\n",
       "      <td>1514</td>\n",
       "    </tr>\n",
       "    <tr>\n",
       "      <th>106</th>\n",
       "      <td>5281</td>\n",
       "      <td>1.016723e+07</td>\n",
       "      <td>0</td>\n",
       "      <td>5989.359040</td>\n",
       "      <td>132094.475067</td>\n",
       "      <td>0</td>\n",
       "      <td>0.017094</td>\n",
       "      <td>0.000013</td>\n",
       "      <td>0.000068</td>\n",
       "      <td>0.000351</td>\n",
       "      <td>...</td>\n",
       "      <td>0</td>\n",
       "      <td>23.349959</td>\n",
       "      <td>126.645486</td>\n",
       "      <td>172276</td>\n",
       "      <td>14756</td>\n",
       "      <td>11257</td>\n",
       "      <td>0.762876</td>\n",
       "      <td>0.065343</td>\n",
       "      <td>0.287634</td>\n",
       "      <td>1488</td>\n",
       "    </tr>\n",
       "    <tr>\n",
       "      <th>107</th>\n",
       "      <td>5444</td>\n",
       "      <td>8.496872e+06</td>\n",
       "      <td>0</td>\n",
       "      <td>5957.906275</td>\n",
       "      <td>123534.533794</td>\n",
       "      <td>0</td>\n",
       "      <td>0.015785</td>\n",
       "      <td>0.000013</td>\n",
       "      <td>0.000068</td>\n",
       "      <td>0.000339</td>\n",
       "      <td>...</td>\n",
       "      <td>0</td>\n",
       "      <td>21.219707</td>\n",
       "      <td>110.784948</td>\n",
       "      <td>156559</td>\n",
       "      <td>14756</td>\n",
       "      <td>11002</td>\n",
       "      <td>0.745595</td>\n",
       "      <td>0.070274</td>\n",
       "      <td>0.269025</td>\n",
       "      <td>1468</td>\n",
       "    </tr>\n",
       "    <tr>\n",
       "      <th>108</th>\n",
       "      <td>5612</td>\n",
       "      <td>7.805011e+06</td>\n",
       "      <td>0</td>\n",
       "      <td>5868.893399</td>\n",
       "      <td>126707.020626</td>\n",
       "      <td>0</td>\n",
       "      <td>0.015166</td>\n",
       "      <td>0.000013</td>\n",
       "      <td>0.000068</td>\n",
       "      <td>0.000336</td>\n",
       "      <td>...</td>\n",
       "      <td>0</td>\n",
       "      <td>20.615343</td>\n",
       "      <td>106.250638</td>\n",
       "      <td>152100</td>\n",
       "      <td>14756</td>\n",
       "      <td>10869</td>\n",
       "      <td>0.736582</td>\n",
       "      <td>0.071460</td>\n",
       "      <td>0.261245</td>\n",
       "      <td>1513</td>\n",
       "    </tr>\n",
       "    <tr>\n",
       "      <th>109</th>\n",
       "      <td>4872</td>\n",
       "      <td>6.383416e+06</td>\n",
       "      <td>0</td>\n",
       "      <td>6128.803538</td>\n",
       "      <td>118800.595342</td>\n",
       "      <td>0</td>\n",
       "      <td>0.012422</td>\n",
       "      <td>0.000013</td>\n",
       "      <td>0.000068</td>\n",
       "      <td>0.000339</td>\n",
       "      <td>...</td>\n",
       "      <td>0</td>\n",
       "      <td>26.747221</td>\n",
       "      <td>141.169315</td>\n",
       "      <td>197341</td>\n",
       "      <td>14756</td>\n",
       "      <td>11512</td>\n",
       "      <td>0.780157</td>\n",
       "      <td>0.058336</td>\n",
       "      <td>0.304214</td>\n",
       "      <td>1540</td>\n",
       "    </tr>\n",
       "    <tr>\n",
       "      <th>110</th>\n",
       "      <td>5136</td>\n",
       "      <td>5.978008e+06</td>\n",
       "      <td>0</td>\n",
       "      <td>6179.616969</td>\n",
       "      <td>113091.957780</td>\n",
       "      <td>0</td>\n",
       "      <td>0.011948</td>\n",
       "      <td>0.000013</td>\n",
       "      <td>0.000068</td>\n",
       "      <td>0.000334</td>\n",
       "      <td>...</td>\n",
       "      <td>0</td>\n",
       "      <td>23.847384</td>\n",
       "      <td>124.306685</td>\n",
       "      <td>175946</td>\n",
       "      <td>14756</td>\n",
       "      <td>11302</td>\n",
       "      <td>0.765926</td>\n",
       "      <td>0.064236</td>\n",
       "      <td>0.286499</td>\n",
       "      <td>1491</td>\n",
       "    </tr>\n",
       "    <tr>\n",
       "      <th>111</th>\n",
       "      <td>5289</td>\n",
       "      <td>5.383731e+06</td>\n",
       "      <td>0</td>\n",
       "      <td>6122.497493</td>\n",
       "      <td>98686.766224</td>\n",
       "      <td>0</td>\n",
       "      <td>0.010904</td>\n",
       "      <td>0.000013</td>\n",
       "      <td>0.000068</td>\n",
       "      <td>0.000301</td>\n",
       "      <td>...</td>\n",
       "      <td>0</td>\n",
       "      <td>23.585796</td>\n",
       "      <td>111.999554</td>\n",
       "      <td>174016</td>\n",
       "      <td>14756</td>\n",
       "      <td>11036</td>\n",
       "      <td>0.747899</td>\n",
       "      <td>0.063419</td>\n",
       "      <td>0.267564</td>\n",
       "      <td>1519</td>\n",
       "    </tr>\n",
       "    <tr>\n",
       "      <th>112</th>\n",
       "      <td>5678</td>\n",
       "      <td>7.580633e+06</td>\n",
       "      <td>0</td>\n",
       "      <td>5930.726484</td>\n",
       "      <td>108803.615985</td>\n",
       "      <td>0</td>\n",
       "      <td>0.014207</td>\n",
       "      <td>0.000013</td>\n",
       "      <td>0.000068</td>\n",
       "      <td>0.000317</td>\n",
       "      <td>...</td>\n",
       "      <td>0</td>\n",
       "      <td>21.967335</td>\n",
       "      <td>109.615776</td>\n",
       "      <td>162075</td>\n",
       "      <td>14756</td>\n",
       "      <td>10893</td>\n",
       "      <td>0.738208</td>\n",
       "      <td>0.067210</td>\n",
       "      <td>0.261409</td>\n",
       "      <td>1550</td>\n",
       "    </tr>\n",
       "    <tr>\n",
       "      <th>113</th>\n",
       "      <td>5378</td>\n",
       "      <td>1.054373e+07</td>\n",
       "      <td>0</td>\n",
       "      <td>6077.905665</td>\n",
       "      <td>118538.023854</td>\n",
       "      <td>0</td>\n",
       "      <td>0.016759</td>\n",
       "      <td>0.000013</td>\n",
       "      <td>0.000068</td>\n",
       "      <td>0.000317</td>\n",
       "      <td>...</td>\n",
       "      <td>0</td>\n",
       "      <td>22.477365</td>\n",
       "      <td>110.255375</td>\n",
       "      <td>165838</td>\n",
       "      <td>14756</td>\n",
       "      <td>11041</td>\n",
       "      <td>0.748238</td>\n",
       "      <td>0.066577</td>\n",
       "      <td>0.269015</td>\n",
       "      <td>1519</td>\n",
       "    </tr>\n",
       "    <tr>\n",
       "      <th>114</th>\n",
       "      <td>5053</td>\n",
       "      <td>5.063331e+06</td>\n",
       "      <td>0</td>\n",
       "      <td>6197.763418</td>\n",
       "      <td>105575.998995</td>\n",
       "      <td>0</td>\n",
       "      <td>0.010143</td>\n",
       "      <td>0.000013</td>\n",
       "      <td>0.000068</td>\n",
       "      <td>0.000303</td>\n",
       "      <td>...</td>\n",
       "      <td>0</td>\n",
       "      <td>25.600840</td>\n",
       "      <td>121.910823</td>\n",
       "      <td>188883</td>\n",
       "      <td>14756</td>\n",
       "      <td>11243</td>\n",
       "      <td>0.761927</td>\n",
       "      <td>0.059524</td>\n",
       "      <td>0.281598</td>\n",
       "      <td>1583</td>\n",
       "    </tr>\n",
       "    <tr>\n",
       "      <th>115</th>\n",
       "      <td>5355</td>\n",
       "      <td>5.371668e+06</td>\n",
       "      <td>0</td>\n",
       "      <td>6106.049065</td>\n",
       "      <td>104626.043976</td>\n",
       "      <td>0</td>\n",
       "      <td>0.011964</td>\n",
       "      <td>0.000013</td>\n",
       "      <td>0.000068</td>\n",
       "      <td>0.000326</td>\n",
       "      <td>...</td>\n",
       "      <td>0</td>\n",
       "      <td>21.258336</td>\n",
       "      <td>108.945772</td>\n",
       "      <td>156844</td>\n",
       "      <td>14756</td>\n",
       "      <td>10999</td>\n",
       "      <td>0.745392</td>\n",
       "      <td>0.070127</td>\n",
       "      <td>0.265385</td>\n",
       "      <td>1582</td>\n",
       "    </tr>\n",
       "  </tbody>\n",
       "</table>\n",
       "<p>116 rows × 32 columns</p>\n",
       "</div>"
      ],
      "text/plain": [
       "       0             1   2            3              4   5         6   \\\n",
       "0    5784  1.919681e+07   0  4793.972825  240661.980998   0  0.031190   \n",
       "1    6794  3.178820e+07   0  5218.149024  311968.162671   0  0.052891   \n",
       "2    3145  3.008115e+07   0  6449.089184  271046.371279   0  0.022461   \n",
       "3    7103  2.819635e+07   0  4711.488411  324698.997066   0  0.063424   \n",
       "4    5103  2.206385e+07   0  4751.740241  214261.707832   0  0.025997   \n",
       "5    6709  3.081925e+07   0  4355.848333  274532.883561   0  0.063441   \n",
       "6    9373  4.384667e+07   0  6580.887436  511810.575646   0  0.106310   \n",
       "7    7470  2.090158e+07   0  4203.179385  208935.551557   0  0.051416   \n",
       "8    8761  5.882291e+07   0  5273.566481  493581.508209   0  0.121513   \n",
       "9    3652  2.520365e+07   0  5984.770670  344248.997834   0  0.079699   \n",
       "10   5217  3.207252e+07   0  5411.318786  315824.945159   0  0.065111   \n",
       "11   6070  4.826322e+07   0  5541.303470  416815.106761   0  0.087928   \n",
       "12   4676  8.059084e+06   0  4944.723367   94101.990454   0  0.008376   \n",
       "13   3107  1.970367e+07   0  5390.699648  256693.737679   0  0.029068   \n",
       "14   5250  2.364352e+07   0  5621.956425  309248.862247   0  0.044284   \n",
       "15   6056  3.913562e+07   0  5685.302657  360956.476087   0  0.081263   \n",
       "16   8092  2.063759e+07   0  3938.772160  209749.675163   0  0.061286   \n",
       "17   3078  2.678981e+07   0  5724.722960  341169.802640   0  0.086848   \n",
       "18   7440  3.990279e+07   0  4246.773719  331077.317437   0  0.074181   \n",
       "19   7955  2.897846e+07   0  5095.622052  328978.916090   0  0.069540   \n",
       "20   6434  2.895810e+07   0  6088.712930  343894.919309   0  0.046534   \n",
       "21   4800  2.231146e+07   0  5085.328815  237447.362271   0  0.040080   \n",
       "22   6105  2.314741e+07   0  5139.665424  266173.380854   0  0.048682   \n",
       "23   5752  3.143332e+07   0  5994.125644  346376.935818   0  0.065157   \n",
       "24   9251  4.503658e+07   0  5621.641027  416510.079161   0  0.109054   \n",
       "25   6430  3.447845e+07   0  6037.910613  404218.838125   0  0.059055   \n",
       "26   3865  3.907966e+06   0  5371.511182   71638.215867   0  0.004825   \n",
       "27   6704  3.533555e+07   0  4683.371849  312530.480583   0  0.068542   \n",
       "28   4450  2.141574e+07   0  5571.240445  241979.188406   0  0.032462   \n",
       "29   6100  2.572861e+07   0  4728.525617  260641.138066   0  0.046892   \n",
       "..    ...           ...  ..          ...            ...  ..       ...   \n",
       "86   2909  1.618914e+07   0  6215.537815  269015.077559   0  0.034481   \n",
       "87   5446  4.940079e+07   0  5699.822581  410522.644652   0  0.054014   \n",
       "88   5194  5.372219e+06   0  6124.862022  108304.975097   0  0.011246   \n",
       "89   5552  1.155857e+07   0  5856.485633  136609.612447   0  0.019519   \n",
       "90   5284  1.143807e+07   0  6060.939076  145334.394664   0  0.017926   \n",
       "91   5135  7.660071e+06   0  6014.238208  125457.741358   0  0.014307   \n",
       "92   5347  7.400711e+06   0  6138.556248  112572.548122   0  0.013615   \n",
       "93   5002  8.251025e+06   0  6093.907766  123054.517052   0  0.014295   \n",
       "94   5617  8.163608e+06   0  5922.028260  113633.817078   0  0.015667   \n",
       "95   5347  7.465687e+06   0  6072.637097  116156.818529   0  0.013327   \n",
       "96   5225  7.974598e+06   0  6193.923963  111261.784709   0  0.014021   \n",
       "97   5506  7.352276e+06   0  5993.902684  100397.738820   0  0.013438   \n",
       "98   5828  9.669515e+06   0  5932.746476  124574.832999   0  0.017060   \n",
       "99   5045  9.971287e+06   0  6047.560924  130793.467930   0  0.016316   \n",
       "100  5372  7.475364e+06   0  6008.163256  111541.128333   0  0.013918   \n",
       "101  5371  5.684785e+06   0  6128.800352  104965.596338   0  0.011944   \n",
       "102  5455  7.224269e+06   0  6059.107211  115649.473466   0  0.014163   \n",
       "103  5019  1.124990e+07   0  6072.739292  140766.243001   0  0.017758   \n",
       "104  5321  5.719796e+06   0  6078.389198  113126.392303   0  0.012073   \n",
       "105  5217  5.839677e+06   0  6196.803741  106548.881286   0  0.011255   \n",
       "106  5281  1.016723e+07   0  5989.359040  132094.475067   0  0.017094   \n",
       "107  5444  8.496872e+06   0  5957.906275  123534.533794   0  0.015785   \n",
       "108  5612  7.805011e+06   0  5868.893399  126707.020626   0  0.015166   \n",
       "109  4872  6.383416e+06   0  6128.803538  118800.595342   0  0.012422   \n",
       "110  5136  5.978008e+06   0  6179.616969  113091.957780   0  0.011948   \n",
       "111  5289  5.383731e+06   0  6122.497493   98686.766224   0  0.010904   \n",
       "112  5678  7.580633e+06   0  5930.726484  108803.615985   0  0.014207   \n",
       "113  5378  1.054373e+07   0  6077.905665  118538.023854   0  0.016759   \n",
       "114  5053  5.063331e+06   0  6197.763418  105575.998995   0  0.010143   \n",
       "115  5355  5.371668e+06   0  6106.049065  104626.043976   0  0.011964   \n",
       "\n",
       "           7         8         9   ...   22          23          24       25  \\\n",
       "0    0.000012  0.000068  0.000481  ...    0   30.865140  193.585539   227723   \n",
       "1    0.000012  0.000068  0.000661  ...    0   23.456899  194.776024   173065   \n",
       "2    0.000011  0.000068  0.000252  ...    0  178.899837  463.849655  1319923   \n",
       "3    0.000012  0.000068  0.000809  ...    0   14.067362  149.268327   103789   \n",
       "4    0.000013  0.000068  0.000349  ...    0   47.044728  208.237730   347096   \n",
       "5    0.000013  0.000068  0.000724  ...    0   13.148008  133.300700    97006   \n",
       "6    0.000011  0.000068  0.001298  ...    0   10.064381  173.156916    74255   \n",
       "7    0.000014  0.000068  0.000680  ...    0   12.307943  125.001291    90808   \n",
       "8    0.000012  0.000068  0.001141  ...    0    9.539848  133.331617    70385   \n",
       "9    0.000011  0.000068  0.001264  ...    0   10.989157  213.964344    81078   \n",
       "10   0.000012  0.000068  0.000872  ...    0   16.104906  200.336599   118822   \n",
       "11   0.000011  0.000068  0.000950  ...    0   13.376931  170.081898    98695   \n",
       "12   0.000013  0.000068  0.000199  ...    0   76.999458  237.035602   568102   \n",
       "13   0.000012  0.000068  0.000465  ...    0   42.116698  240.623195   310737   \n",
       "14   0.000011  0.000068  0.000677  ...    0   25.336677  219.535780   186934   \n",
       "15   0.000011  0.000068  0.001043  ...    0   13.258607  204.414478    97822   \n",
       "16   0.000014  0.000068  0.000756  ...    0    8.783410   98.046945    64804   \n",
       "17   0.000011  0.000068  0.001313  ...    0    9.859718  199.706977    72745   \n",
       "18   0.000013  0.000068  0.000712  ...    0   12.451477  113.172913    91867   \n",
       "19   0.000012  0.000068  0.000927  ...    0   13.391027  171.046967    98799   \n",
       "20   0.000011  0.000068  0.000657  ...    0   29.243969  225.938628   215762   \n",
       "21   0.000012  0.000068  0.000614  ...    0   26.309027  225.905555   194108   \n",
       "22   0.000012  0.000068  0.000742  ...    0   19.636758  206.983531   144880   \n",
       "23   0.000011  0.000068  0.000919  ...    0   16.975197  216.325576   125243   \n",
       "24   0.000011  0.000068  0.001257  ...    0    9.155191  166.639584    67547   \n",
       "25   0.000011  0.000068  0.000770  ...    0   21.420575  199.120938   158041   \n",
       "26   0.000012  0.000068  0.000179  ...    0  121.835728  346.688031   898904   \n",
       "27   0.000012  0.000068  0.000779  ...    0   14.412442  152.452333   106335   \n",
       "28   0.000011  0.000068  0.000521  ...    0   39.203985  274.203368   289247   \n",
       "29   0.000012  0.000068  0.000630  ...    0   21.135538  182.063113   155938   \n",
       "..        ...       ...       ...  ...   ..         ...         ...      ...   \n",
       "86   0.000011  0.000068  0.000687  ...    0   30.705340  288.000768   226544   \n",
       "87   0.000012  0.000068  0.000532  ...    0   23.879642  148.624134   176184   \n",
       "88   0.000013  0.000068  0.000324  ...    0   23.615885  119.874611   174238   \n",
       "89   0.000013  0.000068  0.000364  ...    0   20.619545  114.972961   152131   \n",
       "90   0.000013  0.000068  0.000342  ...    0   24.962998  129.115220   184177   \n",
       "91   0.000013  0.000068  0.000347  ...    0   23.979940  128.359539   176924   \n",
       "92   0.000013  0.000068  0.000325  ...    0   22.472079  114.163498   165799   \n",
       "93   0.000013  0.000068  0.000329  ...    0   26.500000  134.787849   195517   \n",
       "94   0.000013  0.000068  0.000337  ...    0   20.093657  105.391259   148251   \n",
       "95   0.000013  0.000068  0.000312  ...    0   24.570480  118.181298   181281   \n",
       "96   0.000013  0.000068  0.000328  ...    0   23.764028  122.326180   175331   \n",
       "97   0.000013  0.000068  0.000312  ...    0   20.339387  100.731357   150064   \n",
       "98   0.000013  0.000068  0.000334  ...    0   19.380049   99.544170   142986   \n",
       "99   0.000013  0.000068  0.000342  ...    0   25.759420  136.285705   190053   \n",
       "100  0.000013  0.000068  0.000324  ...    0   21.780970  110.348360   160700   \n",
       "101  0.000013  0.000068  0.000329  ...    0   21.617918  112.591686   159497   \n",
       "102  0.000013  0.000068  0.000347  ...    0   20.755218  110.990173   153132   \n",
       "103  0.000012  0.000068  0.000348  ...    0   26.356194  139.599056   194456   \n",
       "104  0.000013  0.000068  0.000337  ...    0   22.034427  115.890372   162570   \n",
       "105  0.000013  0.000068  0.000311  ...    0   23.923014  117.638468   176504   \n",
       "106  0.000013  0.000068  0.000351  ...    0   23.349959  126.645486   172276   \n",
       "107  0.000013  0.000068  0.000339  ...    0   21.219707  110.784948   156559   \n",
       "108  0.000013  0.000068  0.000336  ...    0   20.615343  106.250638   152100   \n",
       "109  0.000013  0.000068  0.000339  ...    0   26.747221  141.169315   197341   \n",
       "110  0.000013  0.000068  0.000334  ...    0   23.847384  124.306685   175946   \n",
       "111  0.000013  0.000068  0.000301  ...    0   23.585796  111.999554   174016   \n",
       "112  0.000013  0.000068  0.000317  ...    0   21.967335  109.615776   162075   \n",
       "113  0.000013  0.000068  0.000317  ...    0   22.477365  110.255375   165838   \n",
       "114  0.000013  0.000068  0.000303  ...    0   25.600840  121.910823   188883   \n",
       "115  0.000013  0.000068  0.000326  ...    0   21.258336  108.945772   156844   \n",
       "\n",
       "        26     27        28        29        30    31  \n",
       "0    14756  11649  0.789442  0.051154  0.348444  1733  \n",
       "1    14756  12369  0.838235  0.071470  0.396730  1451  \n",
       "2    14756  13866  0.939686  0.010505  0.505752  3366  \n",
       "3    14756  11618  0.787341  0.111939  0.346997  1053  \n",
       "4    14756  11432  0.774736  0.032936  0.332817  2112  \n",
       "5    14756  10861  0.736040  0.111962  0.297630   995  \n",
       "6    14756  13935  0.944362  0.187664  0.499722   836  \n",
       "7    14756  10302  0.698157  0.113448  0.260771   940  \n",
       "8    14756  12463  0.844606  0.177069  0.401404   909  \n",
       "9    14756  13279  0.899905  0.163781  0.456437   514  \n",
       "10   14756  12609  0.854500  0.106117  0.412319   807  \n",
       "11   14756  12777  0.865885  0.129459  0.422868   811  \n",
       "12   14756  11024  0.747086  0.019405  0.297434  2745  \n",
       "13   14756  12509  0.847723  0.040256  0.405311  2239  \n",
       "14   14756  12862  0.871645  0.068805  0.429259  1296  \n",
       "15   14756  12949  0.877541  0.132373  0.434797   513  \n",
       "16   14756   9704  0.657631  0.149744  0.226128   848  \n",
       "17   14756  12969  0.878897  0.178280  0.434931   440  \n",
       "18   14756  10663  0.722621  0.116070  0.285318  1043  \n",
       "19   14756  12197  0.826579  0.123453  0.384803   877  \n",
       "20   14756  13408  0.908647  0.062143  0.466542  1900  \n",
       "21   14756  12148  0.823258  0.062584  0.382035  1020  \n",
       "22   14756  12224  0.828409  0.084373  0.386618   917  \n",
       "23   14756  13301  0.901396  0.106202  0.458919   924  \n",
       "24   14756  12872  0.872323  0.190564  0.428968   538  \n",
       "25   14756  13350  0.904717  0.084472  0.461498  1041  \n",
       "26   14756  11771  0.797709  0.013095  0.346845  3224  \n",
       "27   14756  11532  0.781513  0.108450  0.340968  1011  \n",
       "28   14756  12785  0.866427  0.044201  0.424914  1541  \n",
       "29   14756  11601  0.786189  0.074395  0.345848  1180  \n",
       "..     ...    ...       ...       ...       ...   ...  \n",
       "86   14756  13526  0.916644  0.059706  0.474667  1067  \n",
       "87   14756  12430  0.842369  0.070551  0.389794  1522  \n",
       "88   14756  11193  0.758539  0.064240  0.279458  1512  \n",
       "89   14756  11041  0.748238  0.072576  0.274417  1517  \n",
       "90   14756  11379  0.771144  0.061783  0.295389  1503  \n",
       "91   14756  11308  0.766332  0.063914  0.290995  1560  \n",
       "92   14756  11125  0.753931  0.067099  0.273930  1567  \n",
       "93   14756  11402  0.772703  0.058317  0.296424  1515  \n",
       "94   14756  10864  0.736243  0.073281  0.259511  1477  \n",
       "95   14756  11136  0.754676  0.061429  0.276380  1571  \n",
       "96   14756  11275  0.764096  0.064307  0.284029  1489  \n",
       "97   14756  10773  0.730076  0.071789  0.251379  1459  \n",
       "98   14756  10790  0.731228  0.075462  0.253891  1482  \n",
       "99   14756  11430  0.774600  0.060141  0.299738  1577  \n",
       "100  14756  10973  0.743630  0.068283  0.265695  1542  \n",
       "101  14756  11068  0.750068  0.069393  0.269882  1437  \n",
       "102  14756  11068  0.750068  0.072278  0.271513  1531  \n",
       "103  14756  11517  0.780496  0.059227  0.305974  1566  \n",
       "104  14756  11126  0.753998  0.068438  0.275462  1539  \n",
       "105  14756  11198  0.758878  0.063443  0.278102  1514  \n",
       "106  14756  11257  0.762876  0.065343  0.287634  1488  \n",
       "107  14756  11002  0.745595  0.070274  0.269025  1468  \n",
       "108  14756  10869  0.736582  0.071460  0.261245  1513  \n",
       "109  14756  11512  0.780157  0.058336  0.304214  1540  \n",
       "110  14756  11302  0.765926  0.064236  0.286499  1491  \n",
       "111  14756  11036  0.747899  0.063419  0.267564  1519  \n",
       "112  14756  10893  0.738208  0.067210  0.261409  1550  \n",
       "113  14756  11041  0.748238  0.066577  0.269015  1519  \n",
       "114  14756  11243  0.761927  0.059524  0.281598  1583  \n",
       "115  14756  10999  0.745392  0.070127  0.265385  1582  \n",
       "\n",
       "[116 rows x 32 columns]"
      ]
     },
     "execution_count": 22,
     "metadata": {},
     "output_type": "execute_result"
    }
   ],
   "source": [
    "parenclitics"
   ]
  },
  {
   "cell_type": "code",
   "execution_count": 33,
   "metadata": {},
   "outputs": [
    {
     "data": {
      "text/plain": [
       "['Betweenness', 'Pagerank', 'Closeness', 'Eigenvector centrality', 'Degrees']"
      ]
     },
     "execution_count": 33,
     "metadata": {},
     "output_type": "execute_result"
    }
   ],
   "source": [
    "parenclitic_names"
   ]
  },
  {
   "cell_type": "code",
   "execution_count": 34,
   "metadata": {},
   "outputs": [],
   "source": [
    "parenclitic_names = parenclitic_feature_names()"
   ]
  },
  {
   "cell_type": "code",
   "execution_count": 37,
   "metadata": {},
   "outputs": [
    {
     "name": "stdout",
     "output_type": "stream",
     "text": [
      "dict_values(['Degrees', 'Min degrees', 'Max degrees', 'Mean degrees', 'Std degrees', 'Zeros degrees', 'Efficiency', 'Betweenness', 'Min betweenness', 'Max betweenness', 'Mean betweenness', 'Std betweenness', 'Zeros betweenness', 'Closeness', 'Min closeness', 'Max closeness', 'Mean closeness', 'Std closeness', 'Zeros closeness', 'Pagerank', 'Min pagerank', 'Max pagerank', 'Mean pagerank', 'Std pagerank', 'Zeros pagerank', 'Eigenvalues', 'Eigenvector centrality', 'Min eigenvector centrality', 'Max eigenvector centrality', 'Mean eigenvector centrality', 'Std eigenvector centrality', 'Zeros eigenvector centrality', 'Number of edges', 'Number of nodes', 'Max component size', 'Max component size norm nodes', 'Max component size norm edges', 'Eigenvalues intervals', 'Eigenvalues intervals normalized', 'IPR', 'Max IPR', 'Mean IPR', 'Weights', 'Sum weights', 'Min weights', 'Max weights', 'Mean weights', 'Std weights', 'Zeros weights', 'Community edge betweenness: optimal count', 'Component sizes', 'Robustness'])\n"
     ]
    }
   ],
   "source": [
    "print(parenclitic_names.values())"
   ]
  },
  {
   "cell_type": "code",
   "execution_count": null,
   "metadata": {},
   "outputs": [],
   "source": []
  },
  {
   "cell_type": "code",
   "execution_count": null,
   "metadata": {},
   "outputs": [],
   "source": []
  },
  {
   "cell_type": "code",
   "execution_count": null,
   "metadata": {},
   "outputs": [],
   "source": []
  },
  {
   "cell_type": "code",
   "execution_count": null,
   "metadata": {},
   "outputs": [],
   "source": []
  },
  {
   "cell_type": "code",
   "execution_count": null,
   "metadata": {},
   "outputs": [],
   "source": []
  },
  {
   "cell_type": "markdown",
   "metadata": {},
   "source": [
    "# Centrality sort"
   ]
  },
  {
   "cell_type": "code",
   "execution_count": 97,
   "metadata": {},
   "outputs": [
    {
     "data": {
      "image/png": "[encoded data removed]",
      "text/plain": [
       "<Figure size 432x288 with 1 Axes>"
      ]
     },
     "metadata": {
      "needs_background": "light"
     },
     "output_type": "display_data"
    }
   ],
   "source": [
    "i = 3\n",
    "degrees_d = parenclitics[4][0 + i]\n",
    "degrees_s = parenclitics[4][29 + i]\n",
    "degrees_m = parenclitics[4][29 * 2 + i]\n",
    "ids = np.argsort(degrees_d)\n",
    "degrees_d = degrees_d[ids]\n",
    "degrees_s = degrees_s[ids]\n",
    "degrees_m = degrees_m[ids]\n",
    "plt.plot(degrees_m)\n",
    "plt.plot(degrees_s)\n",
    "plt.plot(degrees_d)\n",
    "plt.yscale('log')"
   ]
  },
  {
   "cell_type": "code",
   "execution_count": null,
   "metadata": {},
   "outputs": [],
   "source": []
  }
 ],
 "metadata": {
  "kernelspec": {
   "display_name": "Python 3",
   "language": "python",
   "name": "python3"
  },
  "language_info": {
   "codemirror_mode": {
    "name": "ipython",
    "version": 3
   },
   "file_extension": ".py",
   "mimetype": "text/x-python",
   "name": "python",
   "nbconvert_exporter": "python",
   "pygments_lexer": "ipython3",
   "version": "3.7.1"
  }
 },
 "nbformat": 4,
 "nbformat_minor": 2
}
